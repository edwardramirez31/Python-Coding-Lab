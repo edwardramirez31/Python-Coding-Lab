{
 "cells": [
  {
   "cell_type": "code",
   "execution_count": 3,
   "id": "a2259fb7",
   "metadata": {},
   "outputs": [],
   "source": [
    "import sympy as sp\n",
    "import numpy as np\n",
    "import matplotlib.pyplot as plt\n",
    "np.set_printoptions(precision=3,suppress=True)"
   ]
  },
  {
   "cell_type": "code",
   "execution_count": 4,
   "id": "b14603ac",
   "metadata": {},
   "outputs": [],
   "source": [
    "#Datos conocidos\n",
    "'Distancia 1,2,3 y total en metros'\n",
    "DAB = 2\n",
    "DBC = 2\n",
    "DCD = 2\n",
    "DT = 6\n",
    "'Fuerza distribuida cuadrada en kN/m'\n",
    "Dis_1 = 10\n",
    "\n",
    "'Fuerza distribuida triángular en kN/m'\n",
    "Dis_2 = 10\n",
    "\n",
    "#Definir simbolos\n",
    "Ax,Ay,Dy,x = sp.symbols(\"Ax Ay Dy x\")\n",
    "'''\n",
    "Se determinan las reacciones mediante la estática ya que contamos con 3 incognitas y 3 ecuaciones, tenemos una \n",
    "estructura isoestática\n",
    "'''\n",
    "#Sumatoria de momentos\n",
    "Sum_M = -(Dis_1*DAB)*(DAB/2) - (DCD*Dis_2/2)*(DT-2/3) + 6*Dy\n",
    "Ecu_1 = sp.Eq(Sum_M,0)\n",
    "dy = sp.solve(Ecu_1)\n",
    "\n",
    "#Sumatoria de fuerzas en y\n",
    "Sum_Fy = Ay- (Dis_1*DAB) - (DCD*Dis_2/2) + Dy\n",
    "Ecu_2 = sp.Eq(Sum_Fy,0)\n",
    "ay = sp.solve(Ecu_2.subs(Dy,dy[0]))"
   ]
  },
  {
   "cell_type": "code",
   "execution_count": 5,
   "id": "e32e8916",
   "metadata": {},
   "outputs": [
    {
     "data": {
      "text/plain": [
       "[12.2222222222222]"
      ]
     },
     "execution_count": 5,
     "metadata": {},
     "output_type": "execute_result"
    }
   ],
   "source": [
    "dy"
   ]
  },
  {
   "cell_type": "code",
   "execution_count": 6,
   "id": "ffb4cd71",
   "metadata": {},
   "outputs": [
    {
     "data": {
      "text/plain": [
       "[17.7777777777778]"
      ]
     },
     "execution_count": 6,
     "metadata": {},
     "output_type": "execute_result"
    }
   ],
   "source": [
    "ay"
   ]
  },
  {
   "cell_type": "code",
   "execution_count": 7,
   "id": "6b09b27c",
   "metadata": {},
   "outputs": [],
   "source": [
    "'Para encontrar las fuerzas cortantes y los momentos de flexión usaré el método de integrales'\n",
    "#Tramo 1 0 <= x <= 2\n",
    "'Cortante del tramo'\n",
    "V1 = ay[0] - sp.integrate(Dis_1,x)\n",
    "V1_0 = V1.subs(x,0)\n",
    "V1_2 = V1.subs(x,2)\n",
    "'Momento del tramo'\n",
    "M1 = 0 + sp.integrate(V1,x)\n",
    "M1_0 = M1.subs(x,0)\n",
    "M1_2 = M1.subs(x,2)"
   ]
  },
  {
   "cell_type": "code",
   "execution_count": 8,
   "id": "9baa8db5",
   "metadata": {},
   "outputs": [
    {
     "name": "stdout",
     "output_type": "stream",
     "text": [
      "CORTANTE PRIMER TRAMO\n"
     ]
    },
    {
     "data": {
      "text/latex": [
       "$\\displaystyle 17.7777777777778 - 10 x$"
      ],
      "text/plain": [
       "17.7777777777778 - 10*x"
      ]
     },
     "execution_count": 8,
     "metadata": {},
     "output_type": "execute_result"
    }
   ],
   "source": [
    "print(\"CORTANTE PRIMER TRAMO\")\n",
    "V1"
   ]
  },
  {
   "cell_type": "code",
   "execution_count": 9,
   "id": "4a194e84",
   "metadata": {},
   "outputs": [
    {
     "name": "stdout",
     "output_type": "stream",
     "text": [
      "V1 evaluado en 0\n"
     ]
    },
    {
     "data": {
      "text/latex": [
       "$\\displaystyle 17.7777777777778$"
      ],
      "text/plain": [
       "17.7777777777778"
      ]
     },
     "execution_count": 9,
     "metadata": {},
     "output_type": "execute_result"
    }
   ],
   "source": [
    "print(\"V1 evaluado en 0\")\n",
    "V1_0"
   ]
  },
  {
   "cell_type": "code",
   "execution_count": 10,
   "id": "a4071eec",
   "metadata": {},
   "outputs": [
    {
     "name": "stdout",
     "output_type": "stream",
     "text": [
      "V1 evaluado en 2\n"
     ]
    },
    {
     "data": {
      "text/latex": [
       "$\\displaystyle -2.22222222222222$"
      ],
      "text/plain": [
       "-2.22222222222222"
      ]
     },
     "execution_count": 10,
     "metadata": {},
     "output_type": "execute_result"
    }
   ],
   "source": [
    "print(\"V1 evaluado en 2\")\n",
    "V1_2"
   ]
  },
  {
   "cell_type": "code",
   "execution_count": 11,
   "id": "0b5b2bd4",
   "metadata": {},
   "outputs": [
    {
     "name": "stdout",
     "output_type": "stream",
     "text": [
      "CORTANTE PRIMER TRAMO\n"
     ]
    },
    {
     "data": {
      "text/latex": [
       "$\\displaystyle - 5.0 x^{2} + 17.7777777777778 x$"
      ],
      "text/plain": [
       "-5.0*x**2 + 17.7777777777778*x"
      ]
     },
     "execution_count": 11,
     "metadata": {},
     "output_type": "execute_result"
    }
   ],
   "source": [
    "print(\"CORTANTE PRIMER TRAMO\")\n",
    "M1"
   ]
  },
  {
   "cell_type": "code",
   "execution_count": 12,
   "id": "af561470",
   "metadata": {},
   "outputs": [
    {
     "name": "stdout",
     "output_type": "stream",
     "text": [
      "M1 evaluado en 0\n"
     ]
    },
    {
     "data": {
      "text/latex": [
       "$\\displaystyle 0$"
      ],
      "text/plain": [
       "0"
      ]
     },
     "execution_count": 12,
     "metadata": {},
     "output_type": "execute_result"
    }
   ],
   "source": [
    "print(\"M1 evaluado en 0\")\n",
    "M1_0"
   ]
  },
  {
   "cell_type": "code",
   "execution_count": 13,
   "id": "a4d508f6",
   "metadata": {},
   "outputs": [
    {
     "name": "stdout",
     "output_type": "stream",
     "text": [
      "M1 evaluado en 2\n"
     ]
    },
    {
     "data": {
      "text/latex": [
       "$\\displaystyle 15.5555555555556$"
      ],
      "text/plain": [
       "15.5555555555556"
      ]
     },
     "execution_count": 13,
     "metadata": {},
     "output_type": "execute_result"
    }
   ],
   "source": [
    "print(\"M1 evaluado en 2\")\n",
    "M1_2"
   ]
  },
  {
   "cell_type": "code",
   "execution_count": null,
   "id": "852040aa",
   "metadata": {},
   "outputs": [],
   "source": []
  },
  {
   "cell_type": "code",
   "execution_count": 14,
   "id": "0e0002f9",
   "metadata": {},
   "outputs": [],
   "source": [
    "#Segundo tramo 0 <= x <= 2\n",
    "'Cortante del tramo'\n",
    "V2 = V1_2\n",
    "\n",
    "'Momento del tramo'\n",
    "M2 = M1_2 + sp.integrate(V2,x)\n",
    "M2_0 = M2.subs(x,0)\n",
    "M2_2 = M2.subs(x,2)"
   ]
  },
  {
   "cell_type": "code",
   "execution_count": 15,
   "id": "24bf0961",
   "metadata": {},
   "outputs": [
    {
     "name": "stdout",
     "output_type": "stream",
     "text": [
      "CORTANTE SEGUNDO TRAMO\n"
     ]
    },
    {
     "data": {
      "text/latex": [
       "$\\displaystyle -2.22222222222222$"
      ],
      "text/plain": [
       "-2.22222222222222"
      ]
     },
     "execution_count": 15,
     "metadata": {},
     "output_type": "execute_result"
    }
   ],
   "source": [
    "print(\"CORTANTE SEGUNDO TRAMO\")\n",
    "V2"
   ]
  },
  {
   "cell_type": "code",
   "execution_count": 16,
   "id": "276cc41e",
   "metadata": {},
   "outputs": [
    {
     "data": {
      "text/plain": [
       "'En este caso V2 es constante en todo el tramo'"
      ]
     },
     "execution_count": 16,
     "metadata": {},
     "output_type": "execute_result"
    }
   ],
   "source": [
    "\"En este caso V2 es constante en todo el tramo\""
   ]
  },
  {
   "cell_type": "code",
   "execution_count": 17,
   "id": "beafa3df",
   "metadata": {},
   "outputs": [
    {
     "name": "stdout",
     "output_type": "stream",
     "text": [
      "MOMENTO SEGUNDO TRAMO\n"
     ]
    },
    {
     "data": {
      "text/latex": [
       "$\\displaystyle 15.5555555555556 - 2.22222222222222 x$"
      ],
      "text/plain": [
       "15.5555555555556 - 2.22222222222222*x"
      ]
     },
     "execution_count": 17,
     "metadata": {},
     "output_type": "execute_result"
    }
   ],
   "source": [
    "print(\"MOMENTO SEGUNDO TRAMO\")\n",
    "M2"
   ]
  },
  {
   "cell_type": "code",
   "execution_count": 18,
   "id": "5a089a48",
   "metadata": {},
   "outputs": [
    {
     "name": "stdout",
     "output_type": "stream",
     "text": [
      "M2 evaluado en 0\n"
     ]
    },
    {
     "data": {
      "text/latex": [
       "$\\displaystyle 15.5555555555556$"
      ],
      "text/plain": [
       "15.5555555555556"
      ]
     },
     "execution_count": 18,
     "metadata": {},
     "output_type": "execute_result"
    }
   ],
   "source": [
    "print(\"M2 evaluado en 0\")\n",
    "M2_0"
   ]
  },
  {
   "cell_type": "code",
   "execution_count": 19,
   "id": "0543a9b2",
   "metadata": {},
   "outputs": [
    {
     "name": "stdout",
     "output_type": "stream",
     "text": [
      "M2 evaluado en 2\n"
     ]
    },
    {
     "data": {
      "text/latex": [
       "$\\displaystyle 11.1111111111111$"
      ],
      "text/plain": [
       "11.1111111111111"
      ]
     },
     "execution_count": 19,
     "metadata": {},
     "output_type": "execute_result"
    }
   ],
   "source": [
    "print(\"M2 evaluado en 2\")\n",
    "M2_2"
   ]
  },
  {
   "cell_type": "code",
   "execution_count": null,
   "id": "e6a5e75c",
   "metadata": {},
   "outputs": [],
   "source": []
  },
  {
   "cell_type": "code",
   "execution_count": 20,
   "id": "11d8d427",
   "metadata": {},
   "outputs": [],
   "source": [
    "#Tramo 3 0 <= x <= 2\n",
    "'En este caso primero debo definir la ecuación de la carga distribuida'\n",
    "m,b= sp.symbols(\"m b\")\n",
    "Ecu_3 = m*x + b\n",
    "\n",
    "'Cuando x = 0, la carga es 0'\n",
    "be = sp.solve(Ecu_3.subs(x,0))\n",
    "\n",
    "'Cuando x = 2, la carga es 10'\n",
    "Ecu_3f =sp.Eq(m*x + be[0],10) \n",
    "M = sp.solve(Ecu_3f.subs(x,2))\n",
    "\n",
    "'Ecuación distribuida del tramo'\n",
    "n3 = M[0]*x + be[0]\n",
    "\n",
    "'Cortante del tramo'\n",
    "V3 = V2 - sp.integrate(n3,x)\n",
    "V3_0 = V3.subs(x,0)\n",
    "V3_2 = V3.subs(x,2)\n",
    "\n",
    "'Momento del tramo'\n",
    "M3 = M2_2 + sp.integrate(V3,x)\n",
    "M3_0 = M3.subs(x,0)\n",
    "M3_2 = M3.subs(x,2)"
   ]
  },
  {
   "cell_type": "code",
   "execution_count": 21,
   "id": "36f6aa7c",
   "metadata": {},
   "outputs": [
    {
     "name": "stdout",
     "output_type": "stream",
     "text": [
      "CORTANTE TERCER TRAMO\n"
     ]
    },
    {
     "data": {
      "text/latex": [
       "$\\displaystyle - \\frac{5 x^{2}}{2} - 2.22222222222222$"
      ],
      "text/plain": [
       "-5*x**2/2 - 2.22222222222222"
      ]
     },
     "execution_count": 21,
     "metadata": {},
     "output_type": "execute_result"
    }
   ],
   "source": [
    "print(\"CORTANTE TERCER TRAMO\")\n",
    "V3"
   ]
  },
  {
   "cell_type": "code",
   "execution_count": 22,
   "id": "935eb31d",
   "metadata": {},
   "outputs": [
    {
     "name": "stdout",
     "output_type": "stream",
     "text": [
      "V3 evaluado en 0\n"
     ]
    },
    {
     "data": {
      "text/latex": [
       "$\\displaystyle -2.22222222222222$"
      ],
      "text/plain": [
       "-2.22222222222222"
      ]
     },
     "execution_count": 22,
     "metadata": {},
     "output_type": "execute_result"
    }
   ],
   "source": [
    "print(\"V3 evaluado en 0\")\n",
    "V3_0"
   ]
  },
  {
   "cell_type": "code",
   "execution_count": 23,
   "id": "8dce0538",
   "metadata": {},
   "outputs": [
    {
     "name": "stdout",
     "output_type": "stream",
     "text": [
      "V3 evaluado en 2\n"
     ]
    },
    {
     "data": {
      "text/latex": [
       "$\\displaystyle -12.2222222222222$"
      ],
      "text/plain": [
       "-12.2222222222222"
      ]
     },
     "execution_count": 23,
     "metadata": {},
     "output_type": "execute_result"
    }
   ],
   "source": [
    "print(\"V3 evaluado en 2\")\n",
    "V3_2"
   ]
  },
  {
   "cell_type": "code",
   "execution_count": 24,
   "id": "7c0cbd37",
   "metadata": {},
   "outputs": [
    {
     "name": "stdout",
     "output_type": "stream",
     "text": [
      "MOMENTO TERCER TRAMO\n"
     ]
    },
    {
     "data": {
      "text/latex": [
       "$\\displaystyle - 0.833333333333333 x^{3} - 2.22222222222222 x + 11.1111111111111$"
      ],
      "text/plain": [
       "-0.833333333333333*x**3 - 2.22222222222222*x + 11.1111111111111"
      ]
     },
     "execution_count": 24,
     "metadata": {},
     "output_type": "execute_result"
    }
   ],
   "source": [
    "print(\"MOMENTO TERCER TRAMO\")\n",
    "M3"
   ]
  },
  {
   "cell_type": "code",
   "execution_count": 25,
   "id": "60245563",
   "metadata": {},
   "outputs": [
    {
     "name": "stdout",
     "output_type": "stream",
     "text": [
      "M3 evaluado en 0\n"
     ]
    },
    {
     "data": {
      "text/latex": [
       "$\\displaystyle 11.1111111111111$"
      ],
      "text/plain": [
       "11.1111111111111"
      ]
     },
     "execution_count": 25,
     "metadata": {},
     "output_type": "execute_result"
    }
   ],
   "source": [
    "print(\"M3 evaluado en 0\")\n",
    "M3_0"
   ]
  },
  {
   "cell_type": "code",
   "execution_count": 26,
   "id": "68b9d146",
   "metadata": {},
   "outputs": [
    {
     "name": "stdout",
     "output_type": "stream",
     "text": [
      "M3 evaluado en 2\n"
     ]
    },
    {
     "data": {
      "text/latex": [
       "$\\displaystyle 4.44089209850063 \\cdot 10^{-15}$"
      ],
      "text/plain": [
       "4.44089209850063e-15"
      ]
     },
     "execution_count": 26,
     "metadata": {},
     "output_type": "execute_result"
    }
   ],
   "source": [
    "print(\"M3 evaluado en 2\")\n",
    "M3_2"
   ]
  },
  {
   "cell_type": "code",
   "execution_count": null,
   "id": "750fb0b4",
   "metadata": {},
   "outputs": [],
   "source": []
  },
  {
   "cell_type": "code",
   "execution_count": 27,
   "id": "ecee8667",
   "metadata": {},
   "outputs": [
    {
     "name": "stdout",
     "output_type": "stream",
     "text": [
      "El cortante es cero a 1.778 metros del nodo A.\n"
     ]
    }
   ],
   "source": [
    "'El momento máximo se da cuando la fuerza cortante es nula, por ello para encontrar el momento, primero debo ver donde v = 0'\n",
    "#El cortante se hace cero en el primer tramo, por ello la ecuación del primer tramo se iguala a cero\n",
    "Ecu_4 = sp.Eq(V1,0)\n",
    "SLN = sp.solve(Ecu_4)\n",
    "print(f\"El cortante es cero a {round(SLN[0],3)} metros del nodo A.\")"
   ]
  },
  {
   "cell_type": "code",
   "execution_count": 28,
   "id": "46c39bbd",
   "metadata": {},
   "outputs": [
    {
     "name": "stdout",
     "output_type": "stream",
     "text": [
      "El momento máximo tiene un valor de 15.802 kN*m y se presenta en el primer tramo de la viga.\n"
     ]
    }
   ],
   "source": [
    "#Ahora, teniendo la posición, se evalua dicho valor en la ecuación de momento flector del tramo\n",
    "M_max = M1.subs(x,SLN[0])\n",
    "print(f\"El momento máximo tiene un valor de {round(M_max,3)} kN*m y se presenta en el primer tramo de la viga.\")"
   ]
  },
  {
   "cell_type": "code",
   "execution_count": 29,
   "id": "522b7e14",
   "metadata": {},
   "outputs": [
    {
     "name": "stdout",
     "output_type": "stream",
     "text": [
      "DIAGRAMA DE FUERZA CORTANTE\n",
      "El cortante máximo se presenta el principio del primer tramo, es positivo y tiene un valor de 17.778 kN.\n"
     ]
    },
    {
     "data": {
      "image/png": "[encoded data removed]",
      "text/plain": [
       "<Figure size 864x504 with 1 Axes>"
      ]
     },
     "metadata": {},
     "output_type": "display_data"
    }
   ],
   "source": [
    "plt.style.use('ggplot')\n",
    "fig =plt.figure(figsize=(12,7))\n",
    "\n",
    "print(\"DIAGRAMA DE FUERZA CORTANTE\")\n",
    "'Tramo 1'\n",
    "V1x = np.array([0,2])\n",
    "V1y = np.array([V1_0,V1_2])\n",
    "V1y = V1y.astype(np.float64)\n",
    "\n",
    "'Tramo 2'\n",
    "V2x = np.array([2,4])\n",
    "V2y = np.array([V2,V2])\n",
    "V2y = V2y.astype(np.float64)\n",
    "\n",
    "'Tramo 3'\n",
    "V3_n = np.arange(0,2.1,0.1)\n",
    "V3x = 4 + V3_n\n",
    "V3y = np.array([])\n",
    "V3y = V3y.astype(np.float64)\n",
    "for i in V3_n:\n",
    "    Vn = V3.subs(x,i)\n",
    "    V3y = np.append(V3y,Vn)\n",
    "V3y = V3y.astype(np.float64)\n",
    "\n",
    "plt.plot(V1x,V1y,color=\"b\",label=\"PRIMER TRAMO\")\n",
    "plt.plot(V2x,V2y,color=\"m\",label=\"SEGUNDO TRAMO\")\n",
    "plt.plot(V3x,V3y,color=\"c\",label=\"TERCER TRAMO\")\n",
    "plt.xlabel(\"Posición [m]\")\n",
    "plt.ylabel(\"Cortante [kN]\")\n",
    "plt.yticks(np.arange(-14,19,2))\n",
    "\n",
    "plt.fill_between(V1x,V1y, where=(V1y > 0), interpolate=True, alpha=0.15,color=\"b\",label=\"CORTANTE POSITIVO\")\n",
    "plt.fill_between(V1x,V1y, where=(V1y < 0), interpolate=True, alpha=0.15,color=\"r\",label=\"CORTANTE NEGATIVO\")\n",
    "plt.fill_between(V2x,V2y, where=(V2y < 0), interpolate=True, alpha=0.15,color=\"r\")\n",
    "plt.fill_between(V3x,V3y, where=(V3y < 0), interpolate=True, alpha=0.15,color=\"r\")\n",
    "plt.legend()\n",
    "plt.show\n",
    "print(f\"El cortante máximo se presenta el principio del primer tramo, es positivo y tiene un valor de {round(V1_0,3)} kN.\")"
   ]
  },
  {
   "cell_type": "code",
   "execution_count": 30,
   "id": "af741862",
   "metadata": {},
   "outputs": [
    {
     "name": "stdout",
     "output_type": "stream",
     "text": [
      "DIAGRAMA DE MOMENTO FLECTOR\n",
      "El momento máximo se presenta en el primer tramo, es positivo y tiene un valor de 15.802 kN*m.\n"
     ]
    },
    {
     "data": {
      "image/png": "[encoded data removed]",
      "text/plain": [
       "<Figure size 864x504 with 1 Axes>"
      ]
     },
     "metadata": {},
     "output_type": "display_data"
    }
   ],
   "source": [
    "fig =plt.figure(figsize=(12,7))\n",
    "print(\"DIAGRAMA DE MOMENTO FLECTOR\")\n",
    "'Tramo 1'\n",
    "M1_n = np.arange(0,2.1,0.1)\n",
    "M1x = M1_n\n",
    "M1y = np.array([])\n",
    "M1y = M1y.astype(np.float64)\n",
    "for i in M1_n:\n",
    "    Mn1 = M1.subs(x,i)\n",
    "    M1y = np.append(M1y,Mn1)\n",
    "M1y = M1y.astype(np.float64)\n",
    "\n",
    "'Tramo 2'\n",
    "M2x = np.array([2,4])\n",
    "M2y = np.array([M2_0,M2_2])\n",
    "M2y = M2y.astype(np.float64)\n",
    "\n",
    "'Tramo 3'\n",
    "M3_n = np.arange(0,2.1,0.1)\n",
    "M3x = 4 + M3_n\n",
    "M3y = np.array([])\n",
    "M3y = M3y.astype(np.float64)\n",
    "for i in M3_n:\n",
    "    Mn2 = M3.subs(x,i)\n",
    "    M3y = np.append(M3y,Mn2)\n",
    "M3y = M3y.astype(np.float64)\n",
    "\n",
    "plt.plot(M1x,M1y,color=\"b\",label=\"PRIMER TRAMO\")\n",
    "plt.plot(M2x,M2y,color=\"m\",label=\"SEGUNDO TRAMO\")\n",
    "plt.plot(M3x,M3y,color=\"c\",label=\"TERCER TRAMO\")\n",
    "plt.xlabel(\"Posición [m]\")\n",
    "plt.ylabel(\"Momento Flector [kN*m]\")\n",
    "plt.yticks(np.arange(0,17))\n",
    "plt.fill_between(M1x,M1y, interpolate=True, alpha=0.15,color=\"b\",label=\"CORTANTE POSITIVO\")\n",
    "plt.fill_between(M2x,M2y, interpolate=True, alpha=0.15,color=\"b\")\n",
    "plt.fill_between(M3x,M3y, interpolate=True, alpha=0.15,color=\"b\")\n",
    "plt.legend()\n",
    "\n",
    "print(f\"El momento máximo se presenta en el primer tramo, es positivo y tiene un valor de {round(M_max,3)} kN*m.\")"
   ]
  },
  {
   "cell_type": "code",
   "execution_count": 31,
   "id": "8d261746",
   "metadata": {},
   "outputs": [],
   "source": [
    "'Para encontrar las variaciones de momentos lo mas adecuado es utilizar bucles'\n",
    "VriaF1 = np.arange(10,70,10)\n",
    "VriaF2 = np.arange(10,70,10)\n",
    "ReacD = np.array([]) \n",
    "ReacA = np.array([])\n",
    "\n",
    "for i in range(0,6):\n",
    "    \n",
    "    #Sumatoria de momentos\n",
    "    Sum_M = -(VriaF1[i]*DAB)*(DAB/2) - (DCD*VriaF2[i]/2)*(DT-2/3) + 6*Dy\n",
    "    Ecu_1 = sp.Eq(Sum_M,0)\n",
    "    dy = sp.solve(Ecu_1)\n",
    "    ReacD = np.append(ReacD,dy)\n",
    "\n",
    "    #Sumatoria de fuerzas en y\n",
    "    Sum_Fy = Ay- (VriaF1[i]*DAB) - (DCD*VriaF2[i]/2) + Dy\n",
    "    Ecu_2 = sp.Eq(Sum_Fy,0)\n",
    "    ay = sp.solve(Ecu_2.subs(Dy,dy[0]))\n",
    "    ReacA = np.append(ReacA,ay)\n",
    "\n",
    "ReacD = ReacD.astype(np.float64)\n",
    "ReacA = ReacA.astype(np.float64)"
   ]
  },
  {
   "cell_type": "code",
   "execution_count": 32,
   "id": "b3755355",
   "metadata": {},
   "outputs": [
    {
     "data": {
      "text/plain": [
       "array([12.222, 24.444, 36.667, 48.889, 61.111, 73.333])"
      ]
     },
     "execution_count": 32,
     "metadata": {},
     "output_type": "execute_result"
    }
   ],
   "source": [
    "ReacD"
   ]
  },
  {
   "cell_type": "code",
   "execution_count": 33,
   "id": "874aaf3e",
   "metadata": {},
   "outputs": [
    {
     "data": {
      "text/plain": [
       "array([ 17.778,  35.556,  53.333,  71.111,  88.889, 106.667])"
      ]
     },
     "execution_count": 33,
     "metadata": {},
     "output_type": "execute_result"
    }
   ],
   "source": [
    "ReacA"
   ]
  },
  {
   "cell_type": "code",
   "execution_count": 44,
   "id": "e34c1a7c",
   "metadata": {},
   "outputs": [],
   "source": [
    "'''\n",
    "Por la primera parte del ejercicio se sabe que el momento máximo se da en el primer tramo, por lo que solo es necesario\n",
    "encontrar la ecuación de cortante y momento para el primer tramo\n",
    "'''\n",
    "Vn = np.array([])\n",
    "Mn = np.array([])\n",
    "for i in range (0,6):\n",
    "    'Cortante'\n",
    "    V = ReacA[i] - sp.integrate(VriaF1[i],x)\n",
    "    Vn = np.append(Vn,V)\n",
    "    'Momento'\n",
    "    M = sp.integrate(Vn[i],x)\n",
    "    Mn = np.append(Mn,M)"
   ]
  },
  {
   "cell_type": "code",
   "execution_count": 83,
   "id": "043f08ea",
   "metadata": {},
   "outputs": [
    {
     "data": {
      "text/plain": [
       "array([17.7777777777778 - 10*x, 35.5555555555556 - 20*x,\n",
       "       53.3333333333333 - 30*x, 71.1111111111111 - 40*x,\n",
       "       88.8888888888889 - 50*x, 106.666666666667 - 60*x], dtype=object)"
      ]
     },
     "execution_count": 83,
     "metadata": {},
     "output_type": "execute_result"
    }
   ],
   "source": [
    "Vn"
   ]
  },
  {
   "cell_type": "code",
   "execution_count": 45,
   "id": "247277f2",
   "metadata": {},
   "outputs": [
    {
     "data": {
      "text/plain": [
       "array([-5.0*x**2 + 17.7777777777778*x, -10.0*x**2 + 35.5555555555556*x,\n",
       "       -15.0*x**2 + 53.3333333333333*x, -20.0*x**2 + 71.1111111111111*x,\n",
       "       -25.0*x**2 + 88.8888888888889*x, -30.0*x**2 + 106.666666666667*x],\n",
       "      dtype=object)"
      ]
     },
     "execution_count": 45,
     "metadata": {},
     "output_type": "execute_result"
    }
   ],
   "source": [
    "Mn"
   ]
  },
  {
   "cell_type": "code",
   "execution_count": 53,
   "id": "b2ab2dae",
   "metadata": {},
   "outputs": [],
   "source": [
    "'Ahora se debe buscar la posición en x donde el cortante es nulo y evaluar este valor en la ecuación de momento flector'\n",
    "V_nulo = np.array([])\n",
    "M_max = np.array([])\n",
    "for i in range(0,6):\n",
    "    'Posición cortante nulo'\n",
    "    Ecu_V = sp.Eq(Vn[i],0)\n",
    "    Vn_nulo = sp.solve(Ecu_V)\n",
    "    V_nulo = np.append(V_nulo,Vn_nulo[0])\n",
    "    'Momento máximo'\n",
    "    Mn_max = Mn[i].subs(x,V_nulo[i])\n",
    "    M_max = np.append(M_max,Mn_max)"
   ]
  },
  {
   "cell_type": "code",
   "execution_count": 55,
   "id": "89299bb4",
   "metadata": {},
   "outputs": [
    {
     "data": {
      "text/plain": [
       "array([1.778, 1.778, 1.778, 1.778, 1.778, 1.778])"
      ]
     },
     "execution_count": 55,
     "metadata": {},
     "output_type": "execute_result"
    }
   ],
   "source": [
    "V_nulo = V_nulo.astype(np.float64)\n",
    "V_nulo"
   ]
  },
  {
   "cell_type": "code",
   "execution_count": 56,
   "id": "a1723899",
   "metadata": {},
   "outputs": [
    {
     "data": {
      "text/plain": [
       "array([15.802, 31.605, 47.407, 63.21 , 79.012, 94.815])"
      ]
     },
     "execution_count": 56,
     "metadata": {},
     "output_type": "execute_result"
    }
   ],
   "source": [
    "M_max = M_max.astype(np.float64)\n",
    "M_max"
   ]
  },
  {
   "cell_type": "code",
   "execution_count": 94,
   "id": "066cac65",
   "metadata": {},
   "outputs": [
    {
     "data": {
      "text/plain": [
       "<function matplotlib.pyplot.show(close=None, block=None)>"
      ]
     },
     "execution_count": 94,
     "metadata": {},
     "output_type": "execute_result"
    },
    {
     "data": {
      "image/png": "[encoded data removed]",
      "text/plain": [
       "<Figure size 864x864 with 1 Axes>"
      ]
     },
     "metadata": {},
     "output_type": "display_data"
    }
   ],
   "source": [
    "plt.style.use('ggplot')\n",
    "fig =plt.figure(figsize=(12,12))\n",
    "\n",
    "'Por último, queda solo realizar el respectivo plot'\n",
    "\n",
    "plt.plot(VriaF1,M_max,color=\"c\",marker=\"o\")\n",
    "plt.title(\"M máximo para la variación de fuerzas distribuidas\")\n",
    "plt.xlabel(\"Carga distribuida [kN/m]\")\n",
    "plt.ylabel(\"M máx [kN*m]\")\n",
    "plt.xticks(np.arange(0,70,10))\n",
    "plt.yticks(np.arange(0,100,5))\n",
    "plt.show"
   ]
  }
 ],
 "metadata": {
  "kernelspec": {
   "display_name": "Python 3 (ipykernel)",
   "language": "python",
   "name": "python3"
  },
  "language_info": {
   "codemirror_mode": {
    "name": "ipython",
    "version": 3
   },
   "file_extension": ".py",
   "mimetype": "text/x-python",
   "name": "python",
   "nbconvert_exporter": "python",
   "pygments_lexer": "ipython3",
   "version": "3.9.6"
  }
 },
 "nbformat": 4,
 "nbformat_minor": 5
}
