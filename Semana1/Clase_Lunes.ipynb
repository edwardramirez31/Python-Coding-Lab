{
 "cells": [
  {
   "cell_type": "code",
   "execution_count": 1,
   "id": "nonprofit-niger",
   "metadata": {},
   "outputs": [],
   "source": [
    "import numpy as np\n",
    "import sympy as sp\n",
    "import matplotlib.pyplot as plt"
   ]
  },
  {
   "cell_type": "code",
   "execution_count": 2,
   "id": "ahead-development",
   "metadata": {},
   "outputs": [],
   "source": [
    "viga = {\n",
    "    'fuerza_B': 'kN',\n",
    "    'fuerza_C': 'kN',\n",
    "    'w': 'kN / m',\n",
    "    'L1': 'm',\n",
    "    'L2': 'm',\n",
    "    'L3': 'm',\n",
    "}"
   ]
  },
  {
   "cell_type": "code",
   "execution_count": 3,
   "id": "dependent-inventory",
   "metadata": {},
   "outputs": [
    {
     "name": "stdout",
     "output_type": "stream",
     "text": [
      "Ingrese el valor de fuerza_B en kN: fff\n",
      "Ingrese el valor en kN correctamente!\n",
      "Ingrese el valor de fuerza_B en kN: asdfaews\n",
      "Ingrese el valor en kN correctamente!\n",
      "Ingrese el valor de fuerza_B en kN: -3\n",
      "Ingrese el valor de fuerza_C en kN: gasfdfas\n",
      "Ingrese el valor en kN correctamente!\n",
      "Ingrese el valor de fuerza_C en kN: 32fdsxz\n",
      "Ingrese el valor en kN correctamente!\n",
      "Ingrese el valor de fuerza_C en kN: 8\n",
      "Ingrese el valor de w en kN / m: 4.8\n",
      "Ingrese el valor de L1 en m: 0.25\n",
      "Ingrese el valor de L2 en m: 0.5\n",
      "Ingrese el valor de L3 en m: 2\n"
     ]
    }
   ],
   "source": [
    "for key, unit in viga.items():\n",
    "    while True:\n",
    "        try:\n",
    "            viga[key] = float(input(f\"Ingrese el valor de {key} en {unit}: \"))\n",
    "            break\n",
    "        except:\n",
    "            print(f\"Ingrese el valor en {unit} correctamente!\")\n",
    "        \n",
    "        \n",
    "# kN\n",
    "fuerza_B = -3\n",
    "fuerza_C = 8\n",
    " # kN / m\n",
    "w = 4.8\n",
    "\n",
    "L1 = 0.25\n",
    "L2 = 0.5\n",
    "L3 = 2"
   ]
  },
  {
   "cell_type": "code",
   "execution_count": 4,
   "id": "likely-tourism",
   "metadata": {},
   "outputs": [
    {
     "data": {
      "text/plain": [
       "{'fuerza_B': -3.0, 'fuerza_C': 8.0, 'w': 4.8, 'L1': 0.25, 'L2': 0.5, 'L3': 2.0}"
      ]
     },
     "execution_count": 4,
     "metadata": {},
     "output_type": "execute_result"
    }
   ],
   "source": [
    "viga"
   ]
  },
  {
   "cell_type": "code",
   "execution_count": 7,
   "id": "fourth-release",
   "metadata": {},
   "outputs": [],
   "source": [
    "Ax, Ay, Ma, x = sp.symbols(\"Ax Ay Ma x\")"
   ]
  },
  {
   "cell_type": "code",
   "execution_count": 8,
   "id": "liberal-norwegian",
   "metadata": {},
   "outputs": [
    {
     "data": {
      "text/latex": [
       "$\\displaystyle Ay - 2.8 = 0$"
      ],
      "text/plain": [
       "Eq(Ay - 2.8, 0)"
      ]
     },
     "execution_count": 8,
     "metadata": {},
     "output_type": "execute_result"
    }
   ],
   "source": [
    "equilibrio_y = viga[\"fuerza_B\"] + viga[\"fuerza_C\"] - viga[\"w\"] * (viga[\"L1\"] + viga[\"L3\"]) / 2 - viga[\"w\"] * viga[\"L2\"] + Ay\n",
    "ecuacion_y = sp.Eq(equilibrio_y, 0)\n",
    "ecuacion_y"
   ]
  },
  {
   "cell_type": "code",
   "execution_count": 9,
   "id": "architectural-dressing",
   "metadata": {},
   "outputs": [
    {
     "data": {
      "text/latex": [
       "$\\displaystyle 2.8$"
      ],
      "text/plain": [
       "2.80000000000000"
      ]
     },
     "execution_count": 9,
     "metadata": {},
     "output_type": "execute_result"
    }
   ],
   "source": [
    "reaccion_ay = sp.solve(ecuacion_y)[0]\n",
    "reaccion_ay"
   ]
  },
  {
   "cell_type": "code",
   "execution_count": 10,
   "id": "caring-following",
   "metadata": {},
   "outputs": [
    {
     "data": {
      "text/latex": [
       "$\\displaystyle 0$"
      ],
      "text/plain": [
       "0"
      ]
     },
     "execution_count": 10,
     "metadata": {},
     "output_type": "execute_result"
    }
   ],
   "source": [
    "equilibrio_x = Ax + 0\n",
    "ecuacion_x = sp.Eq(equilibrio_x, 0)\n",
    "reaccion_ax = sp.solve(ecuacion_x)[0]\n",
    "reaccion_ax"
   ]
  },
  {
   "cell_type": "code",
   "execution_count": 11,
   "id": "korean-milwaukee",
   "metadata": {},
   "outputs": [
    {
     "data": {
      "text/latex": [
       "$\\displaystyle 2.85$"
      ],
      "text/plain": [
       "2.85000000000000"
      ]
     },
     "execution_count": 11,
     "metadata": {},
     "output_type": "execute_result"
    }
   ],
   "source": [
    "equilibrio_momentos = Ma + viga[\"fuerza_C\"] * (viga[\"L1\"] + viga[\"L2\"]) + viga[\"fuerza_B\"] * viga[\"L1\"] - viga[\"w\"] / 2 * viga[\"L1\"] * (2 * viga[\"L1\"] / 3) - viga[\"w\"] * viga[\"L2\"] * (viga[\"L1\"] + viga[\"L2\"] / 2) - viga[\"w\"] / 2 * viga[\"L3\"] * (viga[\"L1\"] + viga[\"L2\"] + viga[\"L3\"] / 3)\n",
    "ecuacion_momento = sp.Eq(equilibrio_momentos, 0)\n",
    "reaccion_ma = sp.solve(ecuacion_momento)[0]\n",
    "reaccion_ma"
   ]
  },
  {
   "cell_type": "code",
   "execution_count": 12,
   "id": "ordinary-inclusion",
   "metadata": {},
   "outputs": [
    {
     "data": {
      "text/latex": [
       "$\\displaystyle 2.8 - 9.6 x^{2}$"
      ],
      "text/plain": [
       "2.8 - 9.6*x**2"
      ]
     },
     "execution_count": 12,
     "metadata": {},
     "output_type": "execute_result"
    }
   ],
   "source": [
    "# CORTANTE Y MOMENTO PRIMER TRAMO\n",
    "\n",
    "w_tramo1 = viga[\"w\"] * x / viga[\"L1\"]\n",
    "V_x_tramo1 = reaccion_ay - sp.integrate(w_tramo1, x)\n",
    "\n",
    "M_x_tramo1 = sp.integrate(V_x_tramo1, x) - reaccion_ma\n",
    "\n",
    "V_x_tramo1"
   ]
  },
  {
   "cell_type": "code",
   "execution_count": 13,
   "id": "molecular-dominican",
   "metadata": {},
   "outputs": [
    {
     "data": {
      "text/latex": [
       "$\\displaystyle - 3.2 x^{3} + 2.8 x - 2.85$"
      ],
      "text/plain": [
       "-3.2*x**3 + 2.8*x - 2.85"
      ]
     },
     "execution_count": 13,
     "metadata": {},
     "output_type": "execute_result"
    }
   ],
   "source": [
    "M_x_tramo1"
   ]
  },
  {
   "cell_type": "code",
   "execution_count": 14,
   "id": "broad-mobility",
   "metadata": {},
   "outputs": [
    {
     "data": {
      "text/latex": [
       "$\\displaystyle - 4.8 x - 0.8$"
      ],
      "text/plain": [
       "-4.8*x - 0.8"
      ]
     },
     "execution_count": 14,
     "metadata": {},
     "output_type": "execute_result"
    }
   ],
   "source": [
    "# CORTANTE Y MOMENTO SEGUNDO TRAMO\n",
    "w_tramo2 = viga[\"w\"] \n",
    "V_x_tramo2 = V_x_tramo1.subs(x, viga[\"L1\"]) - sp.integrate(w_tramo2, x) + viga[\"fuerza_B\"]\n",
    "\n",
    "M_x_tramo2 = sp.integrate(V_x_tramo2, x) + M_x_tramo1.subs(x, viga[\"L1\"])\n",
    "\n",
    "V_x_tramo2"
   ]
  },
  {
   "cell_type": "code",
   "execution_count": 15,
   "id": "remarkable-league",
   "metadata": {},
   "outputs": [
    {
     "data": {
      "text/latex": [
       "$\\displaystyle - 2.4 x^{2} - 0.8 x - 2.2$"
      ],
      "text/plain": [
       "-2.4*x**2 - 0.8*x - 2.2"
      ]
     },
     "execution_count": 15,
     "metadata": {},
     "output_type": "execute_result"
    }
   ],
   "source": [
    "M_x_tramo2"
   ]
  },
  {
   "cell_type": "code",
   "execution_count": 16,
   "id": "stuck-diploma",
   "metadata": {},
   "outputs": [
    {
     "data": {
      "text/latex": [
       "$\\displaystyle 1.2 x^{2} - 4.8 x + 4.8$"
      ],
      "text/plain": [
       "1.2*x**2 - 4.8*x + 4.8"
      ]
     },
     "execution_count": 16,
     "metadata": {},
     "output_type": "execute_result"
    }
   ],
   "source": [
    "# CORTANTE Y MOMENTO TERCER TRAMO\n",
    "w_tramo3 =  - viga[\"w\"] * x / viga[\"L3\"] + viga[\"w\"]\n",
    "V_x_tramo3 = V_x_tramo2.subs(x, viga[\"L2\"]) - sp.integrate(w_tramo3, x) + viga[\"fuerza_C\"]\n",
    "\n",
    "M_x_tramo3 = sp.integrate(V_x_tramo3, x) + M_x_tramo2.subs(x, viga[\"L2\"])\n",
    "\n",
    "V_x_tramo3"
   ]
  },
  {
   "cell_type": "code",
   "execution_count": 17,
   "id": "natural-worship",
   "metadata": {},
   "outputs": [
    {
     "data": {
      "text/latex": [
       "$\\displaystyle 0.4 x^{3} - 2.4 x^{2} + 4.8 x - 3.2$"
      ],
      "text/plain": [
       "0.4*x**3 - 2.4*x**2 + 4.8*x - 3.2"
      ]
     },
     "execution_count": 17,
     "metadata": {},
     "output_type": "execute_result"
    }
   ],
   "source": [
    "M_x_tramo3"
   ]
  },
  {
   "cell_type": "markdown",
   "id": "concerned-locking",
   "metadata": {},
   "source": [
    "# Plotear diagramas"
   ]
  },
  {
   "cell_type": "code",
   "execution_count": 78,
   "id": "equivalent-palace",
   "metadata": {},
   "outputs": [
    {
     "data": {
      "image/png": "[encoded data removed]",
      "text/plain": [
       "<Figure size 432x288 with 1 Axes>"
      ]
     },
     "metadata": {
      "needs_background": "light"
     },
     "output_type": "display_data"
    },
    {
     "data": {
      "text/plain": [
       "<sympy.plotting.plot.Plot at 0x21742692520>"
      ]
     },
     "execution_count": 78,
     "metadata": {},
     "output_type": "execute_result"
    }
   ],
   "source": [
    "# DFC\n",
    "x_fill = np.linspace(0, L1 + L2 + L3, 999)\n",
    "f1 = sp.Lambda(x, V_x_tramo1)\n",
    "f2 = sp.Lambda(x, V_x_tramo2)\n",
    "f3 = sp.Lambda(x, V_x_tramo3)\n",
    "\n",
    "tramo1 = np.array([f1(i) for i in x_fill[x_fill <= L1]], dtype='float')\n",
    "tramo2 = np.array([f2(i - L1) for i in x_fill[(x_fill >= L1) & (x_fill <= L1 + L2)]], dtype='float')\n",
    "tramo3 = np.array([f3(i - L1 - L2) for i in x_fill[x_fill >= L1 + L2]], dtype='float')\n",
    "\n",
    "cortante_fill = np.concatenate((tramo1, tramo2, tramo3))\n",
    "sp.plot((V_x_tramo1, (x, 0, L1)), (V_x_tramo2.subs(x, x - L1), (x, L1, L1 + L2)), (V_x_tramo3.subs(x, x - (L1 + L2)), (x, L1 + L2, L1 + L2 + L3)), line_color='blue', fill={'alpha': 0.25, 'x': x_fill, 'y1': cortante_fill})"
   ]
  },
  {
   "cell_type": "code",
   "execution_count": 81,
   "id": "enormous-diabetes",
   "metadata": {},
   "outputs": [
    {
     "data": {
      "image/png": "[encoded data removed]",
      "text/plain": [
       "<Figure size 432x288 with 1 Axes>"
      ]
     },
     "metadata": {
      "needs_background": "light"
     },
     "output_type": "display_data"
    },
    {
     "data": {
      "text/plain": [
       "<sympy.plotting.plot.Plot at 0x21742709160>"
      ]
     },
     "execution_count": 81,
     "metadata": {},
     "output_type": "execute_result"
    }
   ],
   "source": [
    "x_array = np.linspace(0, L1 + L2 + L3, 999)\n",
    "tramo1 = sp.lambdify(x, V_x_tramo1)(x_array[x_array <= L1])\n",
    "tramo2 = sp.lambdify(x, V_x_tramo2)(x_array[(x_array >= L1) & (x_array <= L1 + L2)] - L1)\n",
    "tramo3 = sp.lambdify(x, V_x_tramo3)(x_array[x_array >= L1 + L2] - L1 - L2)\n",
    "\n",
    "cortante_fill = np.concatenate((tramo1, tramo2, tramo3))\n",
    "sp.plot((V_x_tramo1, (x, 0, L1)), (V_x_tramo2.subs(x, x - L1), (x, L1, L1 + L2)), (V_x_tramo3.subs(x, x - (L1 + L2)), (x, L1 + L2, L1 + L2 + L3)), line_color='blue', fill={'alpha': 0.25, 'x': x_fill, 'y1': cortante_fill})"
   ]
  },
  {
   "cell_type": "code",
   "execution_count": 90,
   "id": "overhead-combination",
   "metadata": {},
   "outputs": [
    {
     "data": {
      "image/png": "[encoded data removed]",
      "text/plain": [
       "<Figure size 432x288 with 1 Axes>"
      ]
     },
     "metadata": {
      "needs_background": "light"
     },
     "output_type": "display_data"
    },
    {
     "data": {
      "text/plain": [
       "<sympy.plotting.plot.Plot at 0x2174259c5e0>"
      ]
     },
     "execution_count": 90,
     "metadata": {},
     "output_type": "execute_result"
    }
   ],
   "source": [
    "# DMF\n",
    "momento_tramo1 = sp.lambdify(x, M_x_tramo1)(x_array[x_array <= L1])\n",
    "momento_tramo2 = sp.lambdify(x, M_x_tramo2)(x_array[(x_array >= L1) & (x_array <= L1 + L2)] - L1)\n",
    "momento_tramo3 = sp.lambdify(x, M_x_tramo3)(x_array[x_array >= L1 + L2] - L1 - L2)\n",
    "\n",
    "momento_fill = np.concatenate((momento_tramo1, momento_tramo2, momento_tramo3))\n",
    "sp.plot((M_x_tramo1, (x, 0, L1)), (M_x_tramo2.subs(x, x - L1), (x, L1, L1 + L2)), (M_x_tramo3.subs(x, x - (L1 + L2)), (x, L1 + L2, L1 + L2 + L3)), line_color='blue', fill={'alpha': 0.25, 'x': x_array, 'y1': momento_fill})"
   ]
  },
  {
   "cell_type": "code",
   "execution_count": 92,
   "id": "received-definition",
   "metadata": {},
   "outputs": [
    {
     "data": {
      "text/plain": [
       "-3.198397395994394"
      ]
     },
     "execution_count": 92,
     "metadata": {},
     "output_type": "execute_result"
    }
   ],
   "source": [
    "# MOMENTO MAXIMO\n",
    "np.amin(momento_fill)"
   ]
  },
  {
   "cell_type": "code",
   "execution_count": null,
   "id": "roman-volume",
   "metadata": {},
   "outputs": [],
   "source": []
  }
 ],
 "metadata": {
  "kernelspec": {
   "display_name": "Python 3",
   "language": "python",
   "name": "python3"
  },
  "language_info": {
   "codemirror_mode": {
    "name": "ipython",
    "version": 3
   },
   "file_extension": ".py",
   "mimetype": "text/x-python",
   "name": "python",
   "nbconvert_exporter": "python",
   "pygments_lexer": "ipython3",
   "version": "3.8.5"
  }
 },
 "nbformat": 4,
 "nbformat_minor": 5
}
