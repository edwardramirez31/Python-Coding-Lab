{
 "cells": [
  {
   "cell_type": "code",
   "execution_count": 1,
   "id": "tutorial-combine",
   "metadata": {},
   "outputs": [],
   "source": [
    "import numpy as np\n",
    "import sympy as sp"
   ]
  },
  {
   "cell_type": "code",
   "execution_count": 2,
   "id": "regional-madness",
   "metadata": {},
   "outputs": [],
   "source": [
    "# metros\n",
    "longitud_cables = 1.5\n",
    "# pulgadas\n",
    "diametro_cables = 1 / 4\n",
    "# mm 2\n",
    "area_cables = np.pi * (diametro_cables * 25.4 / 1000) ** 2 / 4\n",
    "# pulgadas\n",
    "diametro_pasadores = 1 / 2\n",
    "# mm 2\n",
    "area_pasadores = np.pi * (diametro_pasadores * 25.4 / 1000) ** 2 / 4\n",
    "\n",
    "codigo = \"2170249\"\n",
    "X = sum([int(i) for i in codigo])\n",
    "# metros\n",
    "L = 0.2 * X\n",
    "\n",
    "FS_fluencia = float(f\"1.{X}\")\n",
    "FS_resistencia_ultima = float(f\"1.{X + 3}\")\n",
    "\n",
    "angulo_BC = 40 * np.pi / 180\n",
    "angulo_BE = 50 * np.pi / 180"
   ]
  },
  {
   "cell_type": "code",
   "execution_count": 3,
   "id": "lonely-premiere",
   "metadata": {},
   "outputs": [],
   "source": [
    "# propiedades material\n",
    "# MPa\n",
    "esfuerzo_ultimo = 400\n",
    "esfuerzo_fluencia_traccion = 250\n",
    "esfuerzo_fluencia_corte = 145\n",
    "# GPa\n",
    "E = 200"
   ]
  },
  {
   "cell_type": "code",
   "execution_count": 4,
   "id": "refined-seattle",
   "metadata": {},
   "outputs": [
    {
     "data": {
      "text/latex": [
       "$\\displaystyle Ax - 0.642787609686539 BC + 0.766044443118978 BE = 0$"
      ],
      "text/plain": [
       "Eq(Ax - 0.642787609686539*BC + 0.766044443118978*BE, 0)"
      ]
     },
     "execution_count": 4,
     "metadata": {},
     "output_type": "execute_result"
    }
   ],
   "source": [
    "# Equilibrio\n",
    "Ax, Ay, BC, BD, BE, W = sp.symbols('Ax Ay BC BD BE W')\n",
    "\n",
    "Fx = Ax - BC * sp.sin(angulo_BC) + BE * sp.sin(angulo_BE)\n",
    "equilibrio_X = sp.Eq(Fx, 0)\n",
    "equilibrio_X"
   ]
  },
  {
   "cell_type": "code",
   "execution_count": 5,
   "id": "southwest-clinton",
   "metadata": {},
   "outputs": [
    {
     "data": {
      "text/latex": [
       "$\\displaystyle Ay + 0.766044443118978 BC + BD + 0.642787609686539 BE - 5.0 W = 0$"
      ],
      "text/plain": [
       "Eq(Ay + 0.766044443118978*BC + BD + 0.642787609686539*BE - 5.0*W, 0)"
      ]
     },
     "execution_count": 5,
     "metadata": {},
     "output_type": "execute_result"
    }
   ],
   "source": [
    "Fy = Ay - W * L + BC * sp.cos(angulo_BC) + BE * sp.cos(angulo_BE) + BD\n",
    "equilibrio_Y = sp.Eq(Fy, 0)\n",
    "equilibrio_Y"
   ]
  },
  {
   "cell_type": "code",
   "execution_count": 6,
   "id": "amazing-grounds",
   "metadata": {},
   "outputs": [
    {
     "data": {
      "text/latex": [
       "$\\displaystyle 3.83022221559489 BC + 5.0 BD + 3.2139380484327 BE - 12.5 W = 0$"
      ],
      "text/plain": [
       "Eq(3.83022221559489*BC + 5.0*BD + 3.2139380484327*BE - 12.5*W, 0)"
      ]
     },
     "execution_count": 6,
     "metadata": {},
     "output_type": "execute_result"
    }
   ],
   "source": [
    "M_a = - W * L ** 2 / 2 + BC * sp.cos(angulo_BC) * L + BE * sp.cos(angulo_BE) * L + BD * L\n",
    "equilibrio_momentos = sp.Eq(M_a, 0)\n",
    "equilibrio_momentos"
   ]
  },
  {
   "cell_type": "code",
   "execution_count": 7,
   "id": "wicked-learning",
   "metadata": {},
   "outputs": [
    {
     "data": {
      "text/latex": [
       "$\\displaystyle BC - 0.766044443118978 BD = 0$"
      ],
      "text/plain": [
       "Eq(BC - 0.766044443118978*BD, 0)"
      ]
     },
     "execution_count": 7,
     "metadata": {},
     "output_type": "execute_result"
    }
   ],
   "source": [
    "# por compatibilidad de desplazamientos\n",
    "equivalencia_BC = sp.Eq(BC - BD * sp.cos(angulo_BC), 0)\n",
    "expresion_equivalencia_BC = BD * sp.cos(angulo_BC)\n",
    "equivalencia_BC"
   ]
  },
  {
   "cell_type": "code",
   "execution_count": 8,
   "id": "adjacent-python",
   "metadata": {},
   "outputs": [
    {
     "data": {
      "text/latex": [
       "$\\displaystyle - 0.642787609686539 BD + BE = 0$"
      ],
      "text/plain": [
       "Eq(-0.642787609686539*BD + BE, 0)"
      ]
     },
     "execution_count": 8,
     "metadata": {},
     "output_type": "execute_result"
    }
   ],
   "source": [
    "equivalencia_BE = sp.Eq(BE - BD * sp.cos(angulo_BE), 0)\n",
    "expresion_equivalencia_BE = BD * sp.cos(angulo_BE)\n",
    "equivalencia_BE"
   ]
  },
  {
   "cell_type": "code",
   "execution_count": 9,
   "id": "thousand-sheet",
   "metadata": {},
   "outputs": [
    {
     "data": {
      "text/latex": [
       "$\\displaystyle 10.0 BD - 12.5 W = 0$"
      ],
      "text/plain": [
       "Eq(10.0*BD - 12.5*W, 0)"
      ]
     },
     "execution_count": 9,
     "metadata": {},
     "output_type": "execute_result"
    }
   ],
   "source": [
    "# obtener BD del equilibrio de momentos\n",
    "ecuacion = sp.Eq(M_a.subs([(BC, expresion_equivalencia_BC), (BE, expresion_equivalencia_BE)]), 0)\n",
    "ecuacion"
   ]
  },
  {
   "cell_type": "code",
   "execution_count": 13,
   "id": "bridal-conversation",
   "metadata": {},
   "outputs": [
    {
     "data": {
      "text/latex": [
       "$\\displaystyle 1.25 W$"
      ],
      "text/plain": [
       "1.25*W"
      ]
     },
     "execution_count": 13,
     "metadata": {},
     "output_type": "execute_result"
    }
   ],
   "source": [
    "BD_vs_W = sp.solve(ecuacion)[0][BD]\n",
    "BD_vs_W"
   ]
  },
  {
   "cell_type": "code",
   "execution_count": 53,
   "id": "outside-island",
   "metadata": {},
   "outputs": [
    {
     "data": {
      "text/plain": [
       "[0.957555553898722*W, 1.25*W, 0.803484512108174*W]"
      ]
     },
     "execution_count": 53,
     "metadata": {},
     "output_type": "execute_result"
    }
   ],
   "source": [
    "F_BC = expresion_equivalencia_BC.subs(BD, BD_vs_W)\n",
    "F_BE = expresion_equivalencia_BE.subs(BD, BD_vs_W)\n",
    "\n",
    "fuerzas_cables = [F_BC, BD_vs_W, F_BE]\n",
    "fuerzas_cables"
   ]
  },
  {
   "cell_type": "code",
   "execution_count": 74,
   "id": "extra-device",
   "metadata": {},
   "outputs": [
    {
     "name": "stdout",
     "output_type": "stream",
     "text": [
      "Carga distribuida máxima en los cables [kN / m]\n"
     ]
    },
    {
     "data": {
      "text/latex": [
       "$\\displaystyle 7.9173043608984$"
      ],
      "text/plain": [
       "7.91730436089840"
      ]
     },
     "execution_count": 74,
     "metadata": {},
     "output_type": "execute_result"
    }
   ],
   "source": [
    "w_max = []\n",
    "for fuerza in fuerzas_cables:\n",
    "    # analisis de esfuerzo normal en cables\n",
    "    ecuacion_esfuerzo_normal = sp.Eq(fuerza / area_cables, esfuerzo_ultimo * 10 ** 6 / FS_resistencia_ultima)\n",
    "    w_cables = sp.solve(ecuacion_esfuerzo_normal)[0] / 1000\n",
    "    # cortante simple en pasadores superiores\n",
    "    ecuacion_esfuerzo_cortante = sp.Eq(fuerza / area_pasadores, esfuerzo_fluencia_corte * 10 ** 6 / FS_fluencia)\n",
    "    w_pasadores = sp.solve(ecuacion_esfuerzo_cortante)[0] / 1000\n",
    "    w_max.append(w_cables)\n",
    "    w_max.append(w_pasadores)\n",
    "\n",
    "print(\"Carga distribuida máxima en los cables [kN / m]\")\n",
    "min(w_max)\n"
   ]
  },
  {
   "cell_type": "code",
   "execution_count": 81,
   "id": "attended-sweet",
   "metadata": {},
   "outputs": [
    {
     "data": {
      "text/latex": [
       "$\\displaystyle 2.5 W$"
      ],
      "text/plain": [
       "2.5*W"
      ]
     },
     "execution_count": 81,
     "metadata": {},
     "output_type": "execute_result"
    }
   ],
   "source": [
    "# cortante doble en los apoyos de la barra\n",
    "Ay_eq = Fy.subs([(BC, expresion_equivalencia_BC), (BE, expresion_equivalencia_BE), (BD, BD_vs_W)])\n",
    "Ay_vs_W = sp.solve(sp.Eq(Ay_eq, 0))\n",
    "Ay_vs_W = Ay_vs_W[0][Ay]\n",
    "Ay_vs_W"
   ]
  },
  {
   "cell_type": "code",
   "execution_count": 91,
   "id": "special-sixth",
   "metadata": {},
   "outputs": [
    {
     "data": {
      "text/latex": [
       "$\\displaystyle - 1.38777878078145 \\cdot 10^{-16} W$"
      ],
      "text/plain": [
       "-1.38777878078145e-16*W"
      ]
     },
     "execution_count": 91,
     "metadata": {},
     "output_type": "execute_result"
    }
   ],
   "source": [
    "Ax_eq = Fx.subs([(BC, expresion_equivalencia_BC), (BE, expresion_equivalencia_BE), (BD, BD_vs_W)])\n",
    "Ax_vs_W = sp.solve(sp.Eq(Ax_eq, 0))\n",
    "Ax_vs_W = Ax_vs_W[0][Ax]\n",
    "Ax_vs_W"
   ]
  },
  {
   "cell_type": "code",
   "execution_count": 93,
   "id": "baking-organ",
   "metadata": {},
   "outputs": [
    {
     "data": {
      "text/latex": [
       "$\\displaystyle 2.5 \\sqrt{W^{2}}$"
      ],
      "text/plain": [
       "2.5*sqrt(W**2)"
      ]
     },
     "execution_count": 93,
     "metadata": {},
     "output_type": "execute_result"
    }
   ],
   "source": [
    "# fuerza en el apoyo A\n",
    "F_apoyo_A = sp.sqrt(Ay_vs_W ** 2 + Ax_vs_W ** 2)\n",
    "F_apoyo_A"
   ]
  },
  {
   "cell_type": "code",
   "execution_count": 100,
   "id": "loose-compatibility",
   "metadata": {},
   "outputs": [
    {
     "data": {
      "text/latex": [
       "$\\displaystyle 2.5 \\sqrt{W^{2}}$"
      ],
      "text/plain": [
       "2.5*sqrt(W**2)"
      ]
     },
     "execution_count": 100,
     "metadata": {},
     "output_type": "execute_result"
    }
   ],
   "source": [
    "# fuerza en el punto de conexión de los cables\n",
    "F_x_cortante_doble = expresion_equivalencia_BE.subs(BD, BD_vs_W) * sp.sin(angulo_BE) - expresion_equivalencia_BC.subs(BD, BD_vs_W) * sp.sin(angulo_BC)\n",
    "F_y_cortante_doble = expresion_equivalencia_BE.subs(BD, BD_vs_W) * sp.cos(angulo_BE) + expresion_equivalencia_BC.subs(BD, BD_vs_W) * sp.cos(angulo_BC) + BD_vs_W\n",
    "F_apoyo_B = sp.sqrt(F_x_cortante_doble ** 2 + F_y_cortante_doble ** 2)\n",
    "F_apoyo_B"
   ]
  },
  {
   "cell_type": "code",
   "execution_count": 104,
   "id": "printable-monthly",
   "metadata": {},
   "outputs": [
    {
     "name": "stdout",
     "output_type": "stream",
     "text": [
      "Carga distribuida máxima por pasadores [kN / m]\n"
     ]
    },
    {
     "data": {
      "text/latex": [
       "$\\displaystyle 7.9173043608984$"
      ],
      "text/plain": [
       "7.91730436089840"
      ]
     },
     "execution_count": 104,
     "metadata": {},
     "output_type": "execute_result"
    }
   ],
   "source": [
    "fuerzas_apoyos = [F_apoyo_A, F_apoyo_B]\n",
    "w_max_apoyos = []\n",
    "for fuerza in fuerzas_apoyos:\n",
    "    ecuacion_esfuerzo_cortante = sp.Eq(fuerza / area_pasadores, esfuerzo_fluencia_corte * 10 ** 6 / FS_fluencia)\n",
    "    w_pasadores = sp.solve(ecuacion_esfuerzo_cortante)[0] / 1000\n",
    "    w_max_apoyos.append(w_pasadores)\n",
    "\n",
    "print(\"Carga distribuida máxima por pasadores [kN / m]\")\n",
    "carga_maxima = min(w_max)\n",
    "carga_maxima"
   ]
  },
  {
   "cell_type": "markdown",
   "id": "ready-genius",
   "metadata": {},
   "source": [
    "# Cálculo de fuerzas y deformaciones"
   ]
  },
  {
   "cell_type": "code",
   "execution_count": 132,
   "id": "marine-tolerance",
   "metadata": {},
   "outputs": [
    {
     "data": {
      "text/plain": [
       "(6.36143143162837, 1.50653346020283)"
      ]
     },
     "execution_count": 132,
     "metadata": {},
     "output_type": "execute_result"
    }
   ],
   "source": [
    "valor_BE = expresion_equivalencia_BE.subs([(BD, BD_vs_W), (W, carga_maxima)])\n",
    "deformacion_BE = (valor_BE * 1000 * longitud_cables) / (area_cables * E * 10 ** 9)\n",
    "# fuerza en kN y deformacion en mm\n",
    "valor_BE, deformacion_BE * 1000"
   ]
  },
  {
   "cell_type": "code",
   "execution_count": 131,
   "id": "quick-treatment",
   "metadata": {},
   "outputs": [
    {
     "data": {
      "text/plain": [
       "(7.58125876268484, 1.79541666356010)"
      ]
     },
     "execution_count": 131,
     "metadata": {},
     "output_type": "execute_result"
    }
   ],
   "source": [
    "valor_BC = expresion_equivalencia_BC.subs([(BD, BD_vs_W), (W, carga_maxima)])\n",
    "deformacion_BC = (valor_BC * 1000 * longitud_cables) / (area_cables * E * 10 ** 9)\n",
    "valor_BC, deformacion_BC * 1000"
   ]
  },
  {
   "cell_type": "code",
   "execution_count": 130,
   "id": "removable-cannon",
   "metadata": {},
   "outputs": [
    {
     "data": {
      "text/plain": [
       "(9.89663045112300, 2.34375000000000)"
      ]
     },
     "execution_count": 130,
     "metadata": {},
     "output_type": "execute_result"
    }
   ],
   "source": [
    "valor_BD = BD_vs_W.subs(W, carga_maxima)\n",
    "deformacion_BD = (valor_BD * 1000 * longitud_cables) / (area_cables * E * 10 ** 9)\n",
    "valor_BD, deformacion_BD * 1000"
   ]
  },
  {
   "cell_type": "code",
   "execution_count": 121,
   "id": "genuine-london",
   "metadata": {},
   "outputs": [
    {
     "data": {
      "text/latex": [
       "$\\displaystyle -8.88178419700125 \\cdot 10^{-16}$"
      ],
      "text/plain": [
       "-8.88178419700125e-16"
      ]
     },
     "execution_count": 121,
     "metadata": {},
     "output_type": "execute_result"
    }
   ],
   "source": [
    "valor_Ax = Fx.subs([(BE, valor_BE), (BC, valor_BC)])\n",
    "valor_Ax = sp.solve(sp.Eq(valor_Ax, 0))[0]\n",
    "valor_Ax"
   ]
  },
  {
   "cell_type": "code",
   "execution_count": 124,
   "id": "brave-breach",
   "metadata": {},
   "outputs": [
    {
     "data": {
      "text/latex": [
       "$\\displaystyle 19.793260902246$"
      ],
      "text/plain": [
       "19.7932609022460"
      ]
     },
     "execution_count": 124,
     "metadata": {},
     "output_type": "execute_result"
    }
   ],
   "source": [
    "valor_Ay = Fy.subs([(BE, valor_BE), (BC, valor_BC), (BD, valor_BD), (W, carga_maxima)])\n",
    "valor_Ay = sp.solve(sp.Eq(valor_Ay, 0))[0]\n",
    "valor_Ay"
   ]
  },
  {
   "cell_type": "markdown",
   "id": "extra-links",
   "metadata": {},
   "source": []
  }
 ],
 "metadata": {
  "kernelspec": {
   "display_name": "Python 3 (ipykernel)",
   "language": "python",
   "name": "python3"
  },
  "language_info": {
   "codemirror_mode": {
    "name": "ipython",
    "version": 3
   },
   "file_extension": ".py",
   "mimetype": "text/x-python",
   "name": "python",
   "nbconvert_exporter": "python",
   "pygments_lexer": "ipython3",
   "version": "3.8.10"
  }
 },
 "nbformat": 4,
 "nbformat_minor": 5
}
