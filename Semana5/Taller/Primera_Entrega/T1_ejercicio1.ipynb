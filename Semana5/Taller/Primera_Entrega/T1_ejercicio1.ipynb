{
 "cells": [
  {
   "cell_type": "code",
   "execution_count": 4,
   "id": "d7e7c96f",
   "metadata": {},
   "outputs": [],
   "source": [
    "import numpy as np\n",
    "import sympy as sp\n"
   ]
  },
  {
   "cell_type": "code",
   "execution_count": 5,
   "id": "5eca5af1",
   "metadata": {},
   "outputs": [],
   "source": [
    "codigo = \"2200301\"\n",
    "x = [int(i) for i in codigo]\n",
    "x = sum(x)\n",
    "\n",
    "# Datos iniciales; L Y L_cable en m, d_cables y d_pasador en in\n",
    "\n",
    "L = 0.2 * x\n",
    "L_cable = 1.5\n",
    "d_cable = 1/4\n",
    "d_pasador = 1/2\n",
    "x = str(x)\n",
    "FS_fluencia = float(\"1.\" + x) \n",
    "x = str(int(x) + 3)\n",
    "FS_ultimo = float(\"1.\" + x)\n",
    "angulo_BC = 40 * sp.pi / 180\n",
    "angulo_BE = 50 * sp.pi / 180\n",
    "\n",
    "# Áreas\n",
    "\n",
    "area_cable = np.pi * ((d_cable / 2) * 25.4) ** 2\n",
    "area_pasador = np.pi * ((d_pasador / 2) * 25.4) ** 2\n",
    "\n",
    "# Propiedades, E en GPA y esfuerzos en MPA\n",
    "\n",
    "E = 200\n",
    "esfuerzo_ult = 400\n",
    "esfuerzo_fluencia_tr = 250\n",
    "esfuerzo_fluencia_cort = 145\n"
   ]
  },
  {
   "cell_type": "code",
   "execution_count": 6,
   "id": "4996ca59",
   "metadata": {},
   "outputs": [],
   "source": [
    "# Equilibrio Estático\n",
    "\n",
    "Ax = sp.symbols('Ax') \n",
    "Ay = sp.symbols('Ay') \n",
    "BC = sp.symbols('BC')\n",
    "BD = sp.symbols('BD')\n",
    "BE = sp.symbols('BE') \n",
    "W = sp.symbols('W')\n",
    "\n",
    "Fx = Ax - BC * sp.sin(angulo_BC) + BE * sp.sin(angulo_BE)\n",
    "Fx = sp.Eq(Fx, 0)\n",
    "\n",
    "Fy = Ay + BD + BC * sp.cos(angulo_BC) + BE * sp.cos(angulo_BE) - W * L\n",
    "Fy2 = sp.Eq(Fy, 0)\n",
    "\n",
    "M_B = W * (L ** 2) / 2 - Ay * L\n",
    "M_B = sp.Eq(M_B, 0)"
   ]
  },
  {
   "cell_type": "code",
   "execution_count": 7,
   "id": "a3a900d0",
   "metadata": {},
   "outputs": [
    {
     "data": {
      "text/latex": [
       "$\\displaystyle BD \\cos{\\left(\\frac{2 \\pi}{9} \\right)} = BC$"
      ],
      "text/plain": [
       "Eq(BD*cos(2*pi/9), BC)"
      ]
     },
     "execution_count": 7,
     "metadata": {},
     "output_type": "execute_result"
    }
   ],
   "source": [
    "# Compatibilidad BC\n",
    "compatibilidad_BC = BD * sp.cos(angulo_BC)\n",
    "compatibilidad_BC_ecuacion = sp.Eq(compatibilidad_BC, BC)\n",
    "compatibilidad_BC_ecuacion"
   ]
  },
  {
   "cell_type": "code",
   "execution_count": 8,
   "id": "a0504c3c",
   "metadata": {},
   "outputs": [
    {
     "data": {
      "text/latex": [
       "$\\displaystyle BD \\cos{\\left(\\frac{5 \\pi}{18} \\right)} = BE$"
      ],
      "text/plain": [
       "Eq(BD*cos(5*pi/18), BE)"
      ]
     },
     "execution_count": 8,
     "metadata": {},
     "output_type": "execute_result"
    }
   ],
   "source": [
    "# Compatibilidad BE\n",
    "compatibilidad_BE = BD * sp.cos(angulo_BE)\n",
    "compatibilidad_BE_ecuacion = sp.Eq(compatibilidad_BE, BE)\n",
    "compatibilidad_BE_ecuacion\n"
   ]
  },
  {
   "cell_type": "code",
   "execution_count": 9,
   "id": "8cd4e5d8",
   "metadata": {},
   "outputs": [
    {
     "data": {
      "text/latex": [
       "$\\displaystyle Ax - BD \\sin{\\left(\\frac{2 \\pi}{9} \\right)} \\cos{\\left(\\frac{2 \\pi}{9} \\right)} + BD \\sin{\\left(\\frac{5 \\pi}{18} \\right)} \\cos{\\left(\\frac{5 \\pi}{18} \\right)} = 0$"
      ],
      "text/plain": [
       "Eq(Ax - BD*sin(2*pi/9)*cos(2*pi/9) + BD*sin(5*pi/18)*cos(5*pi/18), 0)"
      ]
     },
     "execution_count": 9,
     "metadata": {},
     "output_type": "execute_result"
    }
   ],
   "source": [
    "#Reemplazar en Fx\n",
    "Ec_Fx = Ax -  compatibilidad_BC * sp.sin(angulo_BC) + compatibilidad_BE * sp.sin(angulo_BE)\n",
    "Ec_Fx = sp.Eq(Ec_Fx, 0)\n",
    "Ec_Fx"
   ]
  },
  {
   "cell_type": "code",
   "execution_count": 10,
   "id": "9906eb03",
   "metadata": {},
   "outputs": [
    {
     "data": {
      "text/plain": [
       "[{Ax: 0}]"
      ]
     },
     "execution_count": 10,
     "metadata": {},
     "output_type": "execute_result"
    }
   ],
   "source": [
    "#Hallar Ax\n",
    "sp.solve(Ec_Fx)"
   ]
  },
  {
   "cell_type": "code",
   "execution_count": 11,
   "id": "8bf96491",
   "metadata": {},
   "outputs": [
    {
     "data": {
      "text/latex": [
       "$\\displaystyle - 1.6 Ay + 1.28 W = 0$"
      ],
      "text/plain": [
       "Eq(-1.6*Ay + 1.28*W, 0)"
      ]
     },
     "execution_count": 11,
     "metadata": {},
     "output_type": "execute_result"
    }
   ],
   "source": [
    "# Reemplazar en sumatoria de momentos\n",
    "Ec_MB = W * (L ** 2) / 2 - Ay * L\n",
    "Ec_MB = sp.Eq(Ec_MB, 0)\n",
    "Ec_MB"
   ]
  },
  {
   "cell_type": "code",
   "execution_count": 12,
   "id": "fc7dd2c1",
   "metadata": {},
   "outputs": [
    {
     "data": {
      "text/latex": [
       "$\\displaystyle 0.8 W$"
      ],
      "text/plain": [
       "0.8*W"
      ]
     },
     "execution_count": 12,
     "metadata": {},
     "output_type": "execute_result"
    }
   ],
   "source": [
    "# Despejar Ay\n",
    "Ay_W = sp.solve(Ec_MB)[0][Ay]\n",
    "Ay_W\n"
   ]
  },
  {
   "cell_type": "code",
   "execution_count": 13,
   "id": "203fba8c",
   "metadata": {},
   "outputs": [
    {
     "data": {
      "text/latex": [
       "$\\displaystyle - BD \\cos^{2}{\\left(\\frac{2 \\pi}{9} \\right)} + BD \\cos^{2}{\\left(\\frac{5 \\pi}{18} \\right)} + BD - 0.8 W = 0$"
      ],
      "text/plain": [
       "Eq(-BD*cos(2*pi/9)**2 + BD*cos(5*pi/18)**2 + BD - 0.8*W, 0)"
      ]
     },
     "execution_count": 13,
     "metadata": {},
     "output_type": "execute_result"
    }
   ],
   "source": [
    "# Reemplazar en Fy\n",
    "Ec_Fy = Ay_W + BD -  compatibilidad_BC * sp.cos(angulo_BC) + compatibilidad_BE * sp.cos(angulo_BE) - W * L\n",
    "Ec_Fy = sp.Eq(Ec_Fy, 0)\n",
    "Ec_Fy"
   ]
  },
  {
   "cell_type": "code",
   "execution_count": 14,
   "id": "cb3e5b12",
   "metadata": {},
   "outputs": [
    {
     "data": {
      "text/latex": [
       "$\\displaystyle 0.968110650184483 W$"
      ],
      "text/plain": [
       "0.968110650184483*W"
      ]
     },
     "execution_count": 14,
     "metadata": {},
     "output_type": "execute_result"
    }
   ],
   "source": [
    "# Despejar BD\n",
    "BD_W = sp.solve(Ec_Fy)[0][BD]\n",
    "BD_W"
   ]
  },
  {
   "cell_type": "code",
   "execution_count": 15,
   "id": "7d15fd82",
   "metadata": {},
   "outputs": [
    {
     "data": {
      "text/latex": [
       "$\\displaystyle 0.968110650184483 W \\cos{\\left(\\frac{2 \\pi}{9} \\right)}$"
      ],
      "text/plain": [
       "0.968110650184483*W*cos(2*pi/9)"
      ]
     },
     "execution_count": 15,
     "metadata": {},
     "output_type": "execute_result"
    }
   ],
   "source": [
    "#Despejar BC\n",
    "BC_W = compatibilidad_BC.subs(BD, BD_W)\n",
    "BC_W"
   ]
  },
  {
   "cell_type": "code",
   "execution_count": 16,
   "id": "24cb6198",
   "metadata": {},
   "outputs": [
    {
     "data": {
      "text/latex": [
       "$\\displaystyle 0.968110650184483 W \\cos{\\left(\\frac{5 \\pi}{18} \\right)}$"
      ],
      "text/plain": [
       "0.968110650184483*W*cos(5*pi/18)"
      ]
     },
     "execution_count": 16,
     "metadata": {},
     "output_type": "execute_result"
    }
   ],
   "source": [
    "# Despejar BE\n",
    "BE_W = compatibilidad_BE.subs(BD, BD_W)\n",
    "BE_W"
   ]
  },
  {
   "cell_type": "code",
   "execution_count": 17,
   "id": "d4830b3f",
   "metadata": {},
   "outputs": [],
   "source": [
    "#listar las fuerzas internas de los cables\n",
    "fuerza_int_cables = [BD_W, BC_W, BE_W]\n"
   ]
  },
  {
   "cell_type": "code",
   "execution_count": 18,
   "id": "b8de54b3",
   "metadata": {},
   "outputs": [],
   "source": [
    "# Hallar el valor de W\n",
    "fuerza_w = []\n",
    "for f in fuerza_int_cables:\n",
    "    esfuerzo_normal = sp.Eq(f / area_cable, esfuerzo_ult/ (FS_ultimo * 1000))\n",
    "    carga_w = sp.solve(esfuerzo_normal)\n",
    "    \n",
    "    esfuerzo_v = sp.Eq(f / area_pasador, esfuerzo_fluencia_cort / (FS_fluencia * 1000))\n",
    "    carga_w_pasador = sp.solve(esfuerzo_v)\n",
    "    \n",
    "    fuerza_w.append(carga_w)\n",
    "    fuerza_w.append(carga_w_pasador)\n",
    "    \n",
    "min_w = min(fuerza_w)\n"
   ]
  },
  {
   "cell_type": "code",
   "execution_count": 19,
   "id": "7c44b1cf",
   "metadata": {},
   "outputs": [
    {
     "data": {
      "text/plain": [
       "[25.5113140517837]"
      ]
     },
     "execution_count": 19,
     "metadata": {},
     "output_type": "execute_result"
    }
   ],
   "source": [
    "# cortante 'doble' en A, teniendo en cuenta que Ax es 0\n",
    "cortante_a = sp.Eq(Ay_W / (2 * area_pasador), esfuerzo_fluencia_cort / (FS_fluencia * 1000))\n",
    "cortante_a = sp.solve(cortante_a)\n",
    "cortante_a"
   ]
  },
  {
   "cell_type": "code",
   "execution_count": 20,
   "id": "b7709c19",
   "metadata": {},
   "outputs": [
    {
     "name": "stdout",
     "output_type": "stream",
     "text": [
      "1) el valor de la carga distribuida W [kN/M] es: \n"
     ]
    },
    {
     "data": {
      "text/plain": [
       "10.540660428401363"
      ]
     },
     "execution_count": 20,
     "metadata": {},
     "output_type": "execute_result"
    }
   ],
   "source": [
    "valor_w = [min_w, cortante_a]\n",
    "w_load = min(valor_w)\n",
    "print(\"1) el valor de la carga distribuida W [kN/M] es: \")\n",
    "w_load = float(w_load[0])\n",
    "w_load"
   ]
  },
  {
   "cell_type": "code",
   "execution_count": 21,
   "id": "4b716702",
   "metadata": {},
   "outputs": [
    {
     "name": "stdout",
     "output_type": "stream",
     "text": [
      "la reacción Ay [kN/m] es: \n"
     ]
    },
    {
     "data": {
      "text/latex": [
       "$\\displaystyle 8.43252834272109$"
      ],
      "text/plain": [
       "8.43252834272109"
      ]
     },
     "execution_count": 21,
     "metadata": {},
     "output_type": "execute_result"
    }
   ],
   "source": [
    "# Hallar reacciones Ay\n",
    "reaccion_Ay = Ay_W.subs(W, w_load)\n",
    "print('la reacción Ay [kN/m] es: ')\n",
    "reaccion_Ay"
   ]
  },
  {
   "cell_type": "code",
   "execution_count": 22,
   "id": "59f38d60",
   "metadata": {},
   "outputs": [
    {
     "name": "stdout",
     "output_type": "stream",
     "text": [
      "la fuerza interna BC [kN/m] es: \n"
     ]
    },
    {
     "data": {
      "text/latex": [
       "$\\displaystyle 10.2045256207135$"
      ],
      "text/plain": [
       "10.2045256207135"
      ]
     },
     "execution_count": 22,
     "metadata": {},
     "output_type": "execute_result"
    }
   ],
   "source": [
    "# Hallar fuerza interna BD\n",
    "Fuerza_BD = BD_W.subs(W, w_load)\n",
    "print('la fuerza interna BD [kN/m] es: ')\n",
    "Fuerza_BD"
   ]
  },
  {
   "cell_type": "code",
   "execution_count": 23,
   "id": "a3141f66",
   "metadata": {},
   "outputs": [
    {
     "name": "stdout",
     "output_type": "stream",
     "text": [
      "la fuerza interna BC [kN/m] es: \n"
     ]
    },
    {
     "data": {
      "text/latex": [
       "$\\displaystyle 10.2045256207135 \\cos{\\left(\\frac{2 \\pi}{9} \\right)}$"
      ],
      "text/plain": [
       "10.2045256207135*cos(2*pi/9)"
      ]
     },
     "execution_count": 23,
     "metadata": {},
     "output_type": "execute_result"
    }
   ],
   "source": [
    "# Hallar fuerza interna BC\n",
    "Fuerza_BC = BC_W.subs(W, w_load)\n",
    "print('la fuerza interna BC [kN/m] es: ')\n",
    "Fuerza_BC"
   ]
  },
  {
   "cell_type": "code",
   "execution_count": 24,
   "id": "47a65de8",
   "metadata": {},
   "outputs": [
    {
     "name": "stdout",
     "output_type": "stream",
     "text": [
      "la fuerza interna BE [kN/m] es: \n"
     ]
    },
    {
     "data": {
      "text/latex": [
       "$\\displaystyle 10.2045256207135 \\cos{\\left(\\frac{5 \\pi}{18} \\right)}$"
      ],
      "text/plain": [
       "10.2045256207135*cos(5*pi/18)"
      ]
     },
     "execution_count": 24,
     "metadata": {},
     "output_type": "execute_result"
    }
   ],
   "source": [
    "# Hallar fuerza interna BE\n",
    "Fuerza_BE = BE_W.subs(W, w_load)\n",
    "print('la fuerza interna BE [kN/m] es: ')\n",
    "Fuerza_BE"
   ]
  },
  {
   "cell_type": "code",
   "execution_count": 29,
   "id": "b5267e58",
   "metadata": {},
   "outputs": [
    {
     "data": {
      "text/latex": [
       "$\\displaystyle 0.00257777777777778$"
      ],
      "text/plain": [
       "0.00257777777777778"
      ]
     },
     "execution_count": 29,
     "metadata": {},
     "output_type": "execute_result"
    }
   ],
   "source": [
    "# Hallar deformaciones [mm]\n",
    "deformacion_BD = (Fuerza_BD * L * 1000) / (area_cable * E * (10 ** 3))\n",
    "deformacion_BD"
   ]
  },
  {
   "cell_type": "code",
   "execution_count": 30,
   "id": "0a0cd2f8",
   "metadata": {},
   "outputs": [
    {
     "data": {
      "text/latex": [
       "$\\displaystyle 0.00257777777777778 \\cos{\\left(\\frac{5 \\pi}{18} \\right)}$"
      ],
      "text/plain": [
       "0.00257777777777778*cos(5*pi/18)"
      ]
     },
     "execution_count": 30,
     "metadata": {},
     "output_type": "execute_result"
    }
   ],
   "source": [
    "deformacion_BE = (Fuerza_BE * L * 1000) / (area_cable * E * (10 ** 3))\n",
    "deformacion_BE"
   ]
  },
  {
   "cell_type": "code",
   "execution_count": 31,
   "id": "13760364",
   "metadata": {},
   "outputs": [
    {
     "data": {
      "text/latex": [
       "$\\displaystyle 0.00257777777777778 \\cos{\\left(\\frac{2 \\pi}{9} \\right)}$"
      ],
      "text/plain": [
       "0.00257777777777778*cos(2*pi/9)"
      ]
     },
     "execution_count": 31,
     "metadata": {},
     "output_type": "execute_result"
    }
   ],
   "source": [
    "deformacion_BC = (Fuerza_BC * L * 1000) / (area_cable * E * (10 ** 3))\n",
    "deformacion_BC"
   ]
  },
  {
   "cell_type": "code",
   "execution_count": null,
   "id": "74a6b9c4",
   "metadata": {},
   "outputs": [],
   "source": []
  }
 ],
 "metadata": {
  "kernelspec": {
   "display_name": "Python 3 (ipykernel)",
   "language": "python",
   "name": "python3"
  },
  "language_info": {
   "codemirror_mode": {
    "name": "ipython",
    "version": 3
   },
   "file_extension": ".py",
   "mimetype": "text/x-python",
   "name": "python",
   "nbconvert_exporter": "python",
   "pygments_lexer": "ipython3",
   "version": "3.8.10"
  }
 },
 "nbformat": 4,
 "nbformat_minor": 5
}
