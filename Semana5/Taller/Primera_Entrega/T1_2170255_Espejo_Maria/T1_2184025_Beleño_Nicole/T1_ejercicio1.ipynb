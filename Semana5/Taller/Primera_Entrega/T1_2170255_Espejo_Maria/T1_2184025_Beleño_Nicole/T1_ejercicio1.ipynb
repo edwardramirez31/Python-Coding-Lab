{
 "cells": [
  {
   "cell_type": "code",
   "execution_count": 136,
   "id": "d4cbd9e2",
   "metadata": {},
   "outputs": [],
   "source": [
    "import numpy as nu\n",
    "import sympy as sy"
   ]
  },
  {
   "cell_type": "code",
   "execution_count": 137,
   "id": "424942b0",
   "metadata": {},
   "outputs": [],
   "source": [
    "# VALOR DE X\n",
    "codigo = [ 2, 1, 8, 4, 0, 2, 5 ]\n",
    "X = sum (codigo)"
   ]
  },
  {
   "cell_type": "markdown",
   "id": "3ae0f6d7",
   "metadata": {},
   "source": [
    "# 1) Datos.\n",
    "\n"
   ]
  },
  {
   "cell_type": "code",
   "execution_count": 138,
   "id": "4a904613",
   "metadata": {},
   "outputs": [],
   "source": [
    "# Cables en acero:\n",
    "\n",
    "## longitud en metros\n",
    "long_cables = 1.5\n",
    "## Diametro en pulgadas\n",
    "diam_cables = 1 / 4\n",
    "## Area en metros cuadrados \n",
    "area_cables = nu.pi * ((diam_cables * 25.4 / 1000) ** 2) / 4\n",
    "\n",
    "# Pasadores:\n",
    "\n",
    "## diametro en pulgadas\n",
    "diam_pasadores = 1 / 2\n",
    "## area en metros cuadrados\n",
    "area_pasadores = nu.pi * ((diam_pasadores * 25.4 / 1000) ** 2) / 4\n",
    "\n",
    "# Longitud de la barra:\n",
    "\n",
    "L = 0.2 * X \n",
    "\n",
    "# Factor de seguridad:\n",
    "\n",
    "## respecto al esfuerzo de fluencia\n",
    "FS_fluencia = float(f\"1.{X}\")\n",
    "## respecto al esfuerzo ultimo\n",
    "FS_ultimo = float(f\"1.{X + 3}\")\n",
    "\n",
    "# Angulos entre cables BE Y BD, BD Y BC (radianes):\n",
    "\n",
    "## angulo 1 (BE Y BD)\n",
    "angulo1 = 50 * nu.pi / 180\n",
    "## angulo 2 (BD Y BC)\n",
    "angulo2 = 40 * nu.pi / 180"
   ]
  },
  {
   "cell_type": "code",
   "execution_count": 139,
   "id": "934dfbb0",
   "metadata": {},
   "outputs": [],
   "source": [
    "# Propiedades del acero ASTM A-36:\n",
    "\n",
    "## Esfuerzos de fluencia en MPa\n",
    "esf_traccion = 250\n",
    "esf_corte = 145\n",
    "## Esfuerzo ultimo en MPa\n",
    "esf_ult = 400\n",
    "## Modulo de elasticidad en GPa\n",
    "E = 200"
   ]
  },
  {
   "cell_type": "markdown",
   "id": "0cc3ce09",
   "metadata": {},
   "source": [
    "# 2) Solución inciso 1."
   ]
  },
  {
   "cell_type": "code",
   "execution_count": 140,
   "id": "bec041fa",
   "metadata": {},
   "outputs": [],
   "source": [
    "GIE = 3"
   ]
  },
  {
   "cell_type": "code",
   "execution_count": 141,
   "id": "d84cfd59",
   "metadata": {},
   "outputs": [
    {
     "data": {
      "text/latex": [
       "$\\displaystyle Ax - 0.642787609686539 FCB + 0.766044443118978 FEB = 0$"
      ],
      "text/plain": [
       "Eq(Ax - 0.642787609686539*FCB + 0.766044443118978*FEB, 0)"
      ]
     },
     "execution_count": 141,
     "metadata": {},
     "output_type": "execute_result"
    }
   ],
   "source": [
    "# Ecuaciones de equilibrio\n",
    "\n",
    "Ax, Ay, FBC, FBD, FBE, W = sy.symbols('Ax Ay FCB FDB FEB W')\n",
    "\n",
    "# Sumatoria de fuerzas en x\n",
    "\n",
    "Fx = Ax - FBC * sy.sin(angulo2) + FBE * sy.sin(angulo1)\n",
    "ecuacion1_X = sy.Eq(Fx, 0)\n",
    "ecuacion1_X"
   ]
  },
  {
   "cell_type": "code",
   "execution_count": 142,
   "id": "784fc12e",
   "metadata": {},
   "outputs": [
    {
     "data": {
      "text/latex": [
       "$\\displaystyle Ay + 0.766044443118978 FCB + FDB + 0.642787609686539 FEB - 4.4 W = 0$"
      ],
      "text/plain": [
       "Eq(Ay + 0.766044443118978*FCB + FDB + 0.642787609686539*FEB - 4.4*W, 0)"
      ]
     },
     "execution_count": 142,
     "metadata": {},
     "output_type": "execute_result"
    }
   ],
   "source": [
    "# Sumatoria de fuerzas en y\n",
    "\n",
    "Fy = Ay - W * L + FBC * sy.cos(angulo2) + FBE * sy.cos(angulo1) + FBD\n",
    "ecuacion2_Y = sy.Eq(Fy, 0)\n",
    "ecuacion2_Y"
   ]
  },
  {
   "cell_type": "code",
   "execution_count": 143,
   "id": "ddfe85b9",
   "metadata": {},
   "outputs": [
    {
     "data": {
      "text/latex": [
       "$\\displaystyle 3.3705955497235 FCB + 4.4 FDB + 2.82826548262077 FEB - 2.2 W = 0$"
      ],
      "text/plain": [
       "Eq(3.3705955497235*FCB + 4.4*FDB + 2.82826548262077*FEB - 2.2*W, 0)"
      ]
     },
     "execution_count": 143,
     "metadata": {},
     "output_type": "execute_result"
    }
   ],
   "source": [
    "# Sumatoria de momentos en A \n",
    "\n",
    "Ma = - W * L / 2 + FBC * sy.cos(angulo2) * L + FBE * sy.cos(angulo1) * L + FBD * L\n",
    "ecuacion3_momentos = sy.Eq(Ma, 0)\n",
    "ecuacion3_momentos"
   ]
  },
  {
   "cell_type": "code",
   "execution_count": 144,
   "id": "71110a50",
   "metadata": {},
   "outputs": [
    {
     "data": {
      "text/latex": [
       "$\\displaystyle - 0.642787609686539 FDB + FEB = 0$"
      ],
      "text/plain": [
       "Eq(-0.642787609686539*FDB + FEB, 0)"
      ]
     },
     "execution_count": 144,
     "metadata": {},
     "output_type": "execute_result"
    }
   ],
   "source": [
    "# Ecuaciones cinematicas\n",
    "\n",
    "ecuacion4_FBE = sy.Eq(FBE - FBD * sy.cos(angulo1), 0)\n",
    "expresion_ecuacion4_FBE = FBD * sy.cos(angulo1)\n",
    "ecuacion4_FBE"
   ]
  },
  {
   "cell_type": "code",
   "execution_count": 145,
   "id": "831ba48e",
   "metadata": {},
   "outputs": [
    {
     "data": {
      "text/latex": [
       "$\\displaystyle FCB - 0.766044443118978 FDB = 0$"
      ],
      "text/plain": [
       "Eq(FCB - 0.766044443118978*FDB, 0)"
      ]
     },
     "execution_count": 145,
     "metadata": {},
     "output_type": "execute_result"
    }
   ],
   "source": [
    "ecuacion5_FBC = sy.Eq(FBC - FBD * sp.cos(angulo2), 0)\n",
    "expresion_ecuacion5_FBC = FBD * sp.cos(angulo2)\n",
    "ecuacion5_FBC"
   ]
  },
  {
   "cell_type": "code",
   "execution_count": 146,
   "id": "dd4bdb6c",
   "metadata": {},
   "outputs": [
    {
     "data": {
      "text/latex": [
       "$\\displaystyle 8.8 FDB - 2.2 W = 0$"
      ],
      "text/plain": [
       "Eq(8.8*FDB - 2.2*W, 0)"
      ]
     },
     "execution_count": 146,
     "metadata": {},
     "output_type": "execute_result"
    }
   ],
   "source": [
    "# Reemplazando la ecuacion 4 y 5 en la 3\n",
    "\n",
    "## Para hallar FBD:\n",
    "\n",
    "ecuacion6 = sy.Eq(Ma.subs([(FBC, expresion_ecuacion5_FBC), (FBE, expresion_ecuacion4_FBE)]), 0)\n",
    "ecuacion6"
   ]
  },
  {
   "cell_type": "code",
   "execution_count": 147,
   "id": "b7f0c57a",
   "metadata": {},
   "outputs": [
    {
     "data": {
      "text/latex": [
       "$\\displaystyle 0.25 W$"
      ],
      "text/plain": [
       "0.25*W"
      ]
     },
     "execution_count": 147,
     "metadata": {},
     "output_type": "execute_result"
    }
   ],
   "source": [
    "FBD_vs_W = sp.solve(ecuacion6)[0][FBD]\n",
    "FBD_vs_W"
   ]
  },
  {
   "cell_type": "code",
   "execution_count": 148,
   "id": "33c20f22",
   "metadata": {},
   "outputs": [
    {
     "data": {
      "text/plain": [
       "[0.191511110779745*W, 0.25*W, 0.160696902421635*W]"
      ]
     },
     "execution_count": 148,
     "metadata": {},
     "output_type": "execute_result"
    }
   ],
   "source": [
    "BC = expresion_ecuacion5_FBC.subs(FBD, FBD_vs_W)\n",
    "BE = expresion_ecuacion4_FBE.subs(FBD, FBD_vs_W)\n",
    "\n",
    "#Fuerzas en los cables:\n",
    "\n",
    "F_cables = [BC, FBD_vs_W, BE]\n",
    "F_cables"
   ]
  },
  {
   "cell_type": "code",
   "execution_count": 149,
   "id": "0c5c2587",
   "metadata": {},
   "outputs": [
    {
     "name": "stdout",
     "output_type": "stream",
     "text": [
      "10.1341495819499 15.0558574731838\n",
      "10.1341495819499 15.0558574731838\n",
      "10.1341495819499 15.0558574731838\n",
      "Carga W máxima en los cables [kN / m]\n",
      "\n"
     ]
    }
   ],
   "source": [
    "Wmax = []\n",
    "Ft = sy.symbols('Fxx')\n",
    "for fuerza in F_cables:\n",
    "    # Esfuerzo normal en cables:\n",
    "    ecuacion7 = sy.Eq(Ft / area_cables, esf_ult * 10 ** 6 / FS_ultimo)\n",
    "    W_cables = sy.solve(ecuacion7)[0] / 1000\n",
    "    \n",
    "    # Cortante simple en pasadores:\n",
    "    ecuacion8 = sy.Eq(Ft / area_pasadores, esf_corte * 10 ** 6 / FS_fluencia)\n",
    "    W_pasadores = sy.solve(ecuacion8)[0] / 1000\n",
    "    print(W_cables, W_pasadores)\n",
    "    Wmax.append(W_cables)\n",
    "    Wmax.append(W_pasadores)\n",
    "\n",
    "print(\"Carga W máxima en los cables [kN / m]\")\n",
    "min(Wmax)\n",
    "print()"
   ]
  },
  {
   "cell_type": "code",
   "execution_count": 150,
   "id": "19a91c33",
   "metadata": {},
   "outputs": [
    {
     "data": {
      "text/latex": [
       "$\\displaystyle 3.9 W$"
      ],
      "text/plain": [
       "3.9*W"
      ]
     },
     "execution_count": 150,
     "metadata": {},
     "output_type": "execute_result"
    }
   ],
   "source": [
    "# Analisis de cortante doble en los apoyos:\n",
    "\n",
    "Ay_eq = Fy.subs([(FBC, expresion_ecuacion5_FBC), (FBE, expresion_ecuacion4_FBE), (FBD, FBD_vs_W)])\n",
    "Ay_vs_W = sy.solve(sy.Eq(Ay_eq, 0))\n",
    "Ay_vs_W = Ay_vs_W[0][Ay]\n",
    "Ay_vs_W\n"
   ]
  },
  {
   "cell_type": "code",
   "execution_count": 151,
   "id": "421db68e",
   "metadata": {},
   "outputs": [
    {
     "data": {
      "text/latex": [
       "$\\displaystyle - 2.77555756156289 \\cdot 10^{-17} W$"
      ],
      "text/plain": [
       "-2.77555756156289e-17*W"
      ]
     },
     "execution_count": 151,
     "metadata": {},
     "output_type": "execute_result"
    }
   ],
   "source": [
    "Ax_eq = Fx.subs([(FBC, expresion_ecuacion5_FBC), (FBE, expresion_ecuacion4_FBE), (FBD, FBD_vs_W)])\n",
    "Ax_vs_W = sy.solve(sy.Eq(Ax_eq, 0))\n",
    "Ax_vs_W = Ax_vs_W[0][Ax]\n",
    "Ax_vs_W"
   ]
  },
  {
   "cell_type": "code",
   "execution_count": 152,
   "id": "b4cb9636",
   "metadata": {},
   "outputs": [
    {
     "data": {
      "text/latex": [
       "$\\displaystyle 3.9 \\sqrt{W^{2}}$"
      ],
      "text/plain": [
       "3.9*sqrt(W**2)"
      ]
     },
     "execution_count": 152,
     "metadata": {},
     "output_type": "execute_result"
    }
   ],
   "source": [
    "# Fuerza resultante en A:\n",
    "\n",
    "FA = sp.sqrt(Ay_vs_W ** 2 + Ax_vs_W ** 2)\n",
    "FA"
   ]
  },
  {
   "cell_type": "code",
   "execution_count": 155,
   "id": "90fc2d25",
   "metadata": {},
   "outputs": [
    {
     "data": {
      "text/latex": [
       "$\\displaystyle 0.5 \\sqrt{W^{2}}$"
      ],
      "text/plain": [
       "0.5*sqrt(W**2)"
      ]
     },
     "execution_count": 155,
     "metadata": {},
     "output_type": "execute_result"
    }
   ],
   "source": [
    "# Fuerza en B:\n",
    "\n",
    "Bx_cort_doble = expresion_ecuacion4_FBE.subs(FBD, FBD_vs_W) * sy.sin(angulo1) - expresion_ecuacion5_FBC.subs(FBD, FBD_vs_W) * sy.sin(angulo2)\n",
    "By_cort_doble = expresion_ecuacion4_FBE.subs(FBD, FBD_vs_W) * sy.cos(angulo1) + expresion_ecuacion5_FBC.subs(FBD, FBD_vs_W) * sy.cos(angulo2) + FBD_vs_W\n",
    "FB = sy.sqrt(Bx_cort_doble ** 2 + By_cort_doble ** 2)\n",
    "FB"
   ]
  },
  {
   "cell_type": "markdown",
   "id": "601a9026",
   "metadata": {},
   "source": [
    "Entonces;"
   ]
  },
  {
   "cell_type": "code",
   "execution_count": 159,
   "id": "e5d8b2be",
   "metadata": {},
   "outputs": [
    {
     "name": "stdout",
     "output_type": "stream",
     "text": [
      "Carga W máxima por pasadores [kN / m]\n"
     ]
    },
    {
     "data": {
      "text/latex": [
       "$\\displaystyle 10.1341495819499$"
      ],
      "text/plain": [
       "10.1341495819499"
      ]
     },
     "execution_count": 159,
     "metadata": {},
     "output_type": "execute_result"
    }
   ],
   "source": [
    "F_apoyos = [FA, FB]\n",
    "Wmax_apoyos = []\n",
    "for fuerza in F_apoyos:\n",
    "    esf_cort = sy.Eq(fuerza / area_pasadores, esf_corte * 10 ** 6 / FS_fluencia)\n",
    "    W_pasadores = sp.solve(esf_cort)[0] / 1000\n",
    "    Wmax_apoyos.append(W_pasadores)\n",
    "\n",
    "print(\"Carga W máxima por pasadores [kN / m]\")\n",
    "# carga máxima donde ninguno de los elementos falla\n",
    "C_max = min(Wmax)\n",
    "C_max"
   ]
  },
  {
   "cell_type": "markdown",
   "id": "5a3e2941",
   "metadata": {},
   "source": [
    "# 3) Solución inciso 2."
   ]
  },
  {
   "cell_type": "code",
   "execution_count": 160,
   "id": "856d0e16",
   "metadata": {},
   "outputs": [
    {
     "data": {
      "text/plain": [
       "(1.62852644649686, 0.385672565811923)"
      ]
     },
     "execution_count": 160,
     "metadata": {},
     "output_type": "execute_result"
    }
   ],
   "source": [
    "# valor de FBE [unidades fuerza kN y deformación mm]\n",
    "Fu_BE = expresion_ecuacion4_FBE.subs([(FBD, FBD_vs_W), (W, C_max)])\n",
    "def_BE = (Fu_BE * 1000 * long_cables) / (area_cables * E * 10 ** 9)\n",
    "\n",
    "Fu_BE, def_BE * 1000"
   ]
  },
  {
   "cell_type": "code",
   "execution_count": 162,
   "id": "2c44678a",
   "metadata": {},
   "outputs": [
    {
     "data": {
      "text/plain": [
       "(1.94080224324732, 0.459626665871386)"
      ]
     },
     "execution_count": 162,
     "metadata": {},
     "output_type": "execute_result"
    }
   ],
   "source": [
    "# valor de FBC [unidades fuerza kN y deformación mm]\n",
    "Fu_BC = expresion_ecuacion5_FBC.subs([(FBD, FBD_vs_W), (W, C_max)])\n",
    "def_BC = (Fu_BC * 1000 * long_cables) / (area_cables * E * 10 ** 9)\n",
    "\n",
    "Fu_BC, def_BC * 1000"
   ]
  },
  {
   "cell_type": "code",
   "execution_count": 163,
   "id": "1bd25d93",
   "metadata": {},
   "outputs": [
    {
     "data": {
      "text/plain": [
       "(2.53353739548749, 0.599999999999999)"
      ]
     },
     "execution_count": 163,
     "metadata": {},
     "output_type": "execute_result"
    }
   ],
   "source": [
    "# valor de FBD [unidades fuerza kN y deformación mm]\n",
    "Fu_BD = FBD_vs_W.subs(W, C_max)\n",
    "def_BD = (Fu_BD * 1000 * long_cables) / (area_cables * E * 10 ** 9)\n",
    "Fu_BD, def_BD * 1000"
   ]
  },
  {
   "cell_type": "code",
   "execution_count": 164,
   "id": "4d7baa42",
   "metadata": {},
   "outputs": [
    {
     "data": {
      "text/latex": [
       "$\\displaystyle -2.22044604925031 \\cdot 10^{-16}$"
      ],
      "text/plain": [
       "-2.22044604925031e-16"
      ]
     },
     "execution_count": 164,
     "metadata": {},
     "output_type": "execute_result"
    }
   ],
   "source": [
    "# valor de Ax [unidades fuerza kN y deformación mm]\n",
    "F_Ax = Fx.subs([(FBE, Fu_BE), (FBC, Fu_BC)])\n",
    "F_Ax = sy.solve(sy.Eq(F_Ax, 0))[0]\n",
    "F_Ax"
   ]
  },
  {
   "cell_type": "code",
   "execution_count": 165,
   "id": "3b20ef9a",
   "metadata": {},
   "outputs": [
    {
     "data": {
      "text/latex": [
       "$\\displaystyle 39.5231833696048$"
      ],
      "text/plain": [
       "39.5231833696048"
      ]
     },
     "execution_count": 165,
     "metadata": {},
     "output_type": "execute_result"
    }
   ],
   "source": [
    "# valor de Ay [unidades fuerza kN y deformación mm]\n",
    "F_Ay = Fy.subs([(FBE, Fu_BE), (FBC, Fu_BC), (FBD, Fu_BD), (W, C_max)])\n",
    "F_Ay = sy.solve(sy.Eq(F_Ay, 0))[0]\n",
    "F_Ay"
   ]
  },
  {
   "cell_type": "code",
   "execution_count": null,
   "id": "0eff9ef8",
   "metadata": {},
   "outputs": [],
   "source": []
  }
 ],
 "metadata": {
  "kernelspec": {
   "display_name": "Python 3 (ipykernel)",
   "language": "python",
   "name": "python3"
  },
  "language_info": {
   "codemirror_mode": {
    "name": "ipython",
    "version": 3
   },
   "file_extension": ".py",
   "mimetype": "text/x-python",
   "name": "python",
   "nbconvert_exporter": "python",
   "pygments_lexer": "ipython3",
   "version": "3.8.10"
  }
 },
 "nbformat": 4,
 "nbformat_minor": 5
}
