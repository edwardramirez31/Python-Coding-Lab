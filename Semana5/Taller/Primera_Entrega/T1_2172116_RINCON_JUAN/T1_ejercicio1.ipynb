{
 "cells": [
  {
   "cell_type": "code",
   "execution_count": 2,
   "id": "c8cb2420",
   "metadata": {},
   "outputs": [],
   "source": [
    "##librerias\n",
    "import numpy as np\n",
    "import sympy as sp\n",
    "import math as mt\n",
    "from math import pi,cos,sin\n"
   ]
  },
  {
   "cell_type": "code",
   "execution_count": 3,
   "id": "bfedfb44",
   "metadata": {},
   "outputs": [],
   "source": [
    "\"medidas iniciales\" \n",
    "\n",
    "codigo = \"2172116\"\n",
    "x = [int(i) for i in codigo]\n",
    "x = sum(x)\n",
    "\n",
    "\n",
    "L = 0.2 * x #m\n",
    "L_mm = L  #mm\n",
    "l_cables = 1.5 #m \n",
    "l_cables_mm = l_cables * 1000 #mm\n",
    "dia_perno = 1/2 * 25.4 #mm\n",
    "dia_cables = 1/4 * 25.4 #mm6.35\n",
    "\n",
    "f_s_ultimo = float(f\"1.{x + 3}\")\n",
    "f_s_fluencia = float(f\"1.{x}\")\n",
    "esf_fluencia_cortante  = 145 # Mpa\n",
    "esf_ultimo_tension = 400     # Mpa\n",
    "E = 200                      # Gpa\n",
    "\n",
    "\"angulos\"\n",
    "ang_beta = 40 * np.pi / 180 #radianes\n",
    "ang_alfa = 50 * np.pi / 180 #redianes\n",
    "\n",
    "\"areas\"\n",
    "area_cable = np.pi * (dia_cables / 2) ** 2\n",
    "area_pernos = np.pi * (dia_perno / 2)\n"
   ]
  },
  {
   "cell_type": "code",
   "execution_count": 4,
   "id": "de31adc1",
   "metadata": {},
   "outputs": [
    {
     "data": {
      "text/plain": [
       "(Eq(Ax - 0.642787609686539*FC + 0.766044443118978*FE, 0),\n",
       " Eq(Ay + 0.492403876506104*FC*FE + FD - 4.0*W, 0),\n",
       " Eq(3.06417777247591*FC + 4.0*FD + 2.57115043874616*FE - 8.0*W, 0))"
      ]
     },
     "execution_count": 4,
     "metadata": {},
     "output_type": "execute_result"
    }
   ],
   "source": [
    "\"Equilibrio estatico externo\"\n",
    "\n",
    "Ax, Ay, FC, FD, FE, W = sp.symbols('Ax Ay FC FD FE W')\n",
    "\n",
    "Fx = Ax - FC * sp.sin(ang_beta) + FE * sp.sin(ang_alfa)\n",
    "eq_x = sp.Eq(Fx, 0)\n",
    "\n",
    "\n",
    "Fy = Ay - W * L_mm + FC * sp.cos(ang_beta) * + FE * sp.cos(ang_alfa) + FD\n",
    "eq_y = sp.Eq(Fy, 0)\n",
    "\n",
    "\n",
    "M_a = - W * L_mm * 2 + FC * sp.cos(ang_beta) * L_mm + FE * sp.cos(ang_alfa) * L_mm + FD * L_mm\n",
    "eq_Ma = sp.Eq(M_a, 0)\n",
    "\n",
    "\n",
    "eq_x,  eq_y, eq_Ma\n"
   ]
  },
  {
   "cell_type": "code",
   "execution_count": 5,
   "id": "47759c1f",
   "metadata": {},
   "outputs": [
    {
     "data": {
      "text/latex": [
       "$\\displaystyle FC - 0.766044443118978 FD = 0$"
      ],
      "text/plain": [
       "Eq(FC - 0.766044443118978*FD, 0)"
      ]
     },
     "execution_count": 5,
     "metadata": {},
     "output_type": "execute_result"
    }
   ],
   "source": [
    "\"ecuaciones de compatibilidad\"\n",
    "\"ecuacion 1\"\n",
    "comp_1 = sp.Eq(FC - FD * sp.cos(ang_beta), 0)\n",
    "comp_11 =  FD * sp.cos(ang_beta)\n",
    "comp_1\n"
   ]
  },
  {
   "cell_type": "code",
   "execution_count": 6,
   "id": "9585e973",
   "metadata": {},
   "outputs": [
    {
     "data": {
      "text/latex": [
       "$\\displaystyle - 0.642787609686539 FD + FE = 0$"
      ],
      "text/plain": [
       "Eq(-0.642787609686539*FD + FE, 0)"
      ]
     },
     "execution_count": 6,
     "metadata": {},
     "output_type": "execute_result"
    }
   ],
   "source": [
    "\"ecuaciones de compatibilidad\"\n",
    "\"ecuacion 2\"\n",
    "comp_2 = sp.Eq(FE - FD * sp.cos(ang_alfa), 0)\n",
    "comp_22 =  FD * sp.cos(ang_alfa)\n",
    "comp_2\n",
    "\n",
    "   "
   ]
  },
  {
   "cell_type": "code",
   "execution_count": 7,
   "id": "9b93f574",
   "metadata": {},
   "outputs": [
    {
     "data": {
      "text/latex": [
       "$\\displaystyle 8.0 FD - 8.0 W = 0$"
      ],
      "text/plain": [
       "Eq(8.0*FD - 8.0*W, 0)"
      ]
     },
     "execution_count": 7,
     "metadata": {},
     "output_type": "execute_result"
    }
   ],
   "source": [
    "ecua = sp.Eq(M_a.subs([(FC, comp_11), (FE, comp_22)]), 0)\n",
    "ecua\n",
    "\n",
    "\n"
   ]
  },
  {
   "cell_type": "code",
   "execution_count": 8,
   "id": "35df7ef6",
   "metadata": {},
   "outputs": [
    {
     "data": {
      "text/latex": [
       "$\\displaystyle W$"
      ],
      "text/plain": [
       "W"
      ]
     },
     "execution_count": 8,
     "metadata": {},
     "output_type": "execute_result"
    }
   ],
   "source": [
    "FD_W = sp.solve(ecua)[0][FD]\n",
    "FD_W\n"
   ]
  },
  {
   "cell_type": "code",
   "execution_count": 9,
   "id": "bd319218",
   "metadata": {
    "scrolled": false
   },
   "outputs": [
    {
     "name": "stdout",
     "output_type": "stream",
     "text": [
      "la fuerza FC es igual a 0.766044443118978*W Kn\n",
      "La fuerza FE es igual a 0.642787609686539*W Kn\n",
      "EL valor de FD_w es igual a  W Kn\n"
     ]
    }
   ],
   "source": [
    "\"solucion de fuerzas en funcion de w\"\n",
    "\n",
    "FC_W = comp_11.subs(FD, FD_W)\n",
    "FE_W = comp_22.subs(FD, FD_W)\n",
    "\n",
    "print(\"la fuerza FC es igual a \" + str(FC_W) + \" Kn\")\n",
    "print(\"La fuerza FE es igual a \" + str(FE_W) + \" Kn\")\n",
    "print(\"EL valor de FD_w es igual a  \" + str(FD_W) + \" Kn\") \n",
    "\n",
    "F_cables = [FC_W, FD_W, FE_W]"
   ]
  },
  {
   "cell_type": "code",
   "execution_count": 10,
   "id": "5091bac8",
   "metadata": {
    "scrolled": false
   },
   "outputs": [
    {
     "name": "stdout",
     "output_type": "stream",
     "text": [
      "10.2989325019816 0.241051786316066\n",
      "10.2989325019816 0.241051786316066\n",
      "10.2989325019816 0.241051786316066\n",
      "la carga w max de los cables [Kn / m]\n",
      "\n"
     ]
    }
   ],
   "source": [
    "\"Calculo de la fuerza distribuida max para los cables y y pasador simples superiores\"\n",
    "W_max = []\n",
    "FX2 = sp.symbols(\"FX2\")\n",
    "for F in F_cables:\n",
    "    Esf_normal_cables = sp.Eq(FX2 / area_cable , esf_ultimo_tension * 10 ** 6 / f_s_ultimo)\n",
    "    w_cab = sp.solve(Esf_normal_cables)[0] / 1000000000\n",
    "    \"cortante simple en pasadores superiores\"\n",
    "    esf_v_pasador_simple = sp.Eq(FX2 / area_pernos, esf_fluencia_cortante * 10 ** 6 / f_s_fluencia)\n",
    "    w_pas = sp.solve( esf_v_pasador_simple)[0] / 10000000000\n",
    "    print(w_cab, w_pas)\n",
    "    W_max.append(w_cab)\n",
    "    W_max.append(w_pas)                                   \n",
    "                              \n",
    "    \n",
    "print(\"la carga w max de los cables [Kn / m]\") \n",
    "min(W_max)\n",
    "print()\n",
    "\n"
   ]
  },
  {
   "cell_type": "code",
   "execution_count": 11,
   "id": "c12bbc7d",
   "metadata": {},
   "outputs": [
    {
     "data": {
      "text/latex": [
       "$\\displaystyle \\sqrt{Ax^{2} + Ay^{2}}$"
      ],
      "text/plain": [
       "sqrt(Ax**2 + Ay**2)"
      ]
     },
     "execution_count": 11,
     "metadata": {},
     "output_type": "execute_result"
    }
   ],
   "source": [
    "\"Cortante en el apoyo A\"\n",
    "FvA = sp.sqrt(Ay ** 2  +  Ax ** 2)\n",
    "FvA"
   ]
  },
  {
   "cell_type": "code",
   "execution_count": 12,
   "id": "04673000",
   "metadata": {},
   "outputs": [
    {
     "data": {
      "text/latex": [
       "$\\displaystyle 2.0 \\sqrt{W^{2}}$"
      ],
      "text/plain": [
       "2.0*sqrt(W**2)"
      ]
     },
     "execution_count": 12,
     "metadata": {},
     "output_type": "execute_result"
    }
   ],
   "source": [
    "\"Punto de conexión de los cables en B\"\n",
    "Fvx_doble = comp_22.subs(FD, FD_W) * sp.sin(ang_alfa) - comp_11.subs(FD, FD_W) * sp.sin(ang_beta)\n",
    "Fvy_doble = comp_22.subs(FD, FD_W) * sp.cos(ang_alfa) + FD_W + comp_11.subs(FD, FD_W) * sp.cos(ang_beta) \n",
    "FvB_doble = sp.sqrt(Fvx_doble ** 2 + Fvy_doble ** 2)\n",
    "FvB_doble \n"
   ]
  },
  {
   "cell_type": "code",
   "execution_count": 13,
   "id": "cd0246a5",
   "metadata": {},
   "outputs": [
    {
     "name": "stdout",
     "output_type": "stream",
     "text": [
      "Carga distribuida máxima por pasadores [kN / m]\n"
     ]
    },
    {
     "data": {
      "text/latex": [
       "$\\displaystyle 0.241051786316066$"
      ],
      "text/plain": [
       "0.241051786316066"
      ]
     },
     "execution_count": 13,
     "metadata": {},
     "output_type": "execute_result"
    }
   ],
   "source": [
    "\"calculo de Wmax teniendo encuenta los cortantes simples y dobles en los pernos \"\n",
    "F_apoyos = [FvA, FvB_doble]\n",
    "w_max_apoyos = []\n",
    "for f in F_apoyos:\n",
    "    Equ_esf_cortante = sp.Eq(F / area_pernos, esf_fluencia_cortante * 10 ** 6 / f_s_fluencia)\n",
    "    w_pasadores = sp.solve(esf_v_pasador_simple)[0] / 1000\n",
    "    w_max_apoyos.append(w_pas)\n",
    "\n",
    "print(\"Carga distribuida máxima por pasadores [kN / m]\")\n",
    "carga_max = min(W_max)\n",
    "carga_max"
   ]
  },
  {
   "cell_type": "code",
   "execution_count": 14,
   "id": "6c7e77dc",
   "metadata": {},
   "outputs": [
    {
     "name": "stdout",
     "output_type": "stream",
     "text": [
      "Carga distribuida máxima por pasadores [kN / m]\n",
      "0.241051786316066\n",
      "Deformación en BE: 4.37308835638786e-11\n",
      "Fuerza de BE: 0.184656381411326\n",
      "Deformación en BC: 3.66945682695071e-11\n",
      "Fuerza de BC: 0.154945101536775\n",
      "Deformación en BD: 5.70866141732282e-11\n",
      "Fuerza en BD 0.241051786316066\n",
      "Reacción Ax: -0.0418582034171432\n",
      "Reacción Ay: 0.709066895324985\n"
     ]
    }
   ],
   "source": [
    "print(\"Carga distribuida máxima por pasadores [kN / m]\")\n",
    "carga_max = min(W_max)\n",
    "carga_max\n",
    "print(carga_max)\n",
    "\n",
    "\"CÁLCULO DE FUERZAS Y DEFORMACIONES\"\n",
    "Fuerza_E = comp_11.subs([(FD, FD_W), (W, carga_max)])\n",
    "deformación_E = (Fuerza_E * l_cables_mm) / (area_cable * E * 10 ** 9)\n",
    "## Fuerza en kilonewtons  (kN) y deformación en (mm)\n",
    "Fuerza_E, deformación_E * 1000\n",
    "print(\"Deformación en BE:\", deformación_E)\n",
    "print(\"Fuerza de BE:\", Fuerza_E)\n",
    "\n",
    "\n",
    "Fuerza_C = comp_22.subs([(FD, FD_W), (W, carga_max)])\n",
    "deformación_C = (Fuerza_C * 1000 * l_cables) / (area_cable * E * 10 ** 9)\n",
    "## Fuerza en kilonewtons  (kN) y deformación en (mm)\n",
    "Fuerza_C, deformación_C * 1000\n",
    "print(\"Deformación en BC:\", deformación_C)\n",
    "print(\"Fuerza de BC:\", Fuerza_C)\n",
    "\n",
    "\n",
    "Fuerza_D = FD_W.subs(W, carga_max)\n",
    "deformación_D = (Fuerza_D * 1000 * l_cables) / (area_cable * E * 10 ** 9)\n",
    "Fuerza_D, deformación_D * 1000\n",
    "## Fuerza en kilonewtons  (kN) y deformación en (mm)\n",
    "print(\"Deformación en BD:\",deformación_D)\n",
    "print(\"Fuerza en BD\", Fuerza_D)\n",
    "\n",
    "\n",
    "Fuerza_Ax = Fx.subs([(FE, Fuerza_E), (FC, Fuerza_C)])\n",
    "Fuerza_Ax = sp.solve(sp.Eq(Fuerza_Ax, 0)) [0]\n",
    "## Fuerza en kilonewtons  (kN) \n",
    "Fuerza_Ax\n",
    "print(\"Reacción Ax:\", Fuerza_Ax)\n",
    "\n",
    "\n",
    "Fuerza_Ay = Fy.subs([(FE, Fuerza_E), (FC, Fuerza_C), (FD, Fuerza_D), (W, carga_max)])\n",
    "Fuerza_Ay = sp.solve(sp.Eq(Fuerza_Ay, 0)) [0]\n",
    "## Fuerza en kilonewtons  (kN) \n",
    "Fuerza_Ay\n",
    "print(\"Reacción Ay:\", Fuerza_Ay)"
   ]
  },
  {
   "cell_type": "code",
   "execution_count": null,
   "id": "3d6e4ec5",
   "metadata": {},
   "outputs": [],
   "source": []
  }
 ],
 "metadata": {
  "kernelspec": {
   "display_name": "Python 3 (ipykernel)",
   "language": "python",
   "name": "python3"
  },
  "language_info": {
   "codemirror_mode": {
    "name": "ipython",
    "version": 3
   },
   "file_extension": ".py",
   "mimetype": "text/x-python",
   "name": "python",
   "nbconvert_exporter": "python",
   "pygments_lexer": "ipython3",
   "version": "3.10.1"
  }
 },
 "nbformat": 4,
 "nbformat_minor": 5
}
