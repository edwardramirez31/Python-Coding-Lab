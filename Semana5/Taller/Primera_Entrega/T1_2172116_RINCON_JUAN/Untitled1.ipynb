{
 "cells": [
  {
   "cell_type": "code",
   "execution_count": null,
   "id": "5e612944",
   "metadata": {},
   "outputs": [],
   "source": [
    "w = sp.symbols(\"w\")\n",
    "ay = (w *4) - (0.8 * w) - (0.8 * np.cos(ang_beta)) - (0.8 * w * np.cos(ang_alfa))\n",
    "ax =  (0.8 * w * np.cos(ang_beta) * np.sin(ang_beta)) - (0.8 * w * np.cos(ang_alfa) * np.cos(ang_alfa))\n",
    "f_c = (0.8 * w * np.cos(ang_beta))\n",
    "f_d = (0.8 * w )\n",
    "f_e = (0.8 * w * np.cos(ang_alfa))\n",
    "E = (2 * 10 ** 5)\n",
    "\n",
    "\n",
    "esfuerzo_ultimo == 400    ## Mp\n",
    "\n",
    "esfuerzo_c = (f_c / area_cable )\n",
    "esfuerzo_d = (f_d / area_cable )\n",
    "esfuerzo_e = (f_e / area_cable )\n",
    "\n",
    "\n",
    "esfuerzo_amd_cables_pernos = (esfuerzo_ultimo / f_s_ultimo)\n",
    "fuerza_cortante = ( )\n",
    "esfuerzo_cortantes_adm_perno = ( )"
   ]
  }
 ],
 "metadata": {
  "kernelspec": {
   "display_name": "Python 3 (ipykernel)",
   "language": "python",
   "name": "python3"
  },
  "language_info": {
   "codemirror_mode": {
    "name": "ipython",
    "version": 3
   },
   "file_extension": ".py",
   "mimetype": "text/x-python",
   "name": "python",
   "nbconvert_exporter": "python",
   "pygments_lexer": "ipython3",
   "version": "3.10.1"
  }
 },
 "nbformat": 4,
 "nbformat_minor": 5
}
