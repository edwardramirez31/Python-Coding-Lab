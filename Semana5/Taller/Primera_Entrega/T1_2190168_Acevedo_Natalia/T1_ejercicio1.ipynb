{
 "cells": [
  {
   "cell_type": "code",
   "execution_count": 1,
   "id": "3f4da683",
   "metadata": {},
   "outputs": [],
   "source": [
    "import numpy as np\n",
    "import matplotlib.pyplot as plt\n",
    "import sympy as sp\n",
    "from matplotlib.ticker import FormatStrFormatter\n",
    "from math import atan, cos, sin, sqrt"
   ]
  },
  {
   "cell_type": "code",
   "execution_count": 1,
   "id": "c145041c",
   "metadata": {},
   "outputs": [
    {
     "ename": "NameError",
     "evalue": "name 'np' is not defined",
     "output_type": "error",
     "traceback": [
      "\u001b[0;31m---------------------------------------------------------------------------\u001b[0m",
      "\u001b[0;31mNameError\u001b[0m                                 Traceback (most recent call last)",
      "\u001b[0;32m/tmp/ipykernel_48967/51191655.py\u001b[0m in \u001b[0;36m<module>\u001b[0;34m\u001b[0m\n\u001b[1;32m     25\u001b[0m \u001b[0;34m\u001b[0m\u001b[0m\n\u001b[1;32m     26\u001b[0m \u001b[0;31m# Area de los cables\u001b[0m\u001b[0;34m\u001b[0m\u001b[0;34m\u001b[0m\u001b[0;34m\u001b[0m\u001b[0m\n\u001b[0;32m---> 27\u001b[0;31m \u001b[0mArea_BC_mm\u001b[0m \u001b[0;34m=\u001b[0m \u001b[0;34m(\u001b[0m\u001b[0mnp\u001b[0m\u001b[0;34m.\u001b[0m\u001b[0mpi\u001b[0m \u001b[0;34m*\u001b[0m \u001b[0;34m(\u001b[0m\u001b[0mDiametro_BC_mm\u001b[0m \u001b[0;34m**\u001b[0m \u001b[0;36m2\u001b[0m\u001b[0;34m)\u001b[0m \u001b[0;34m)\u001b[0m\u001b[0;34m/\u001b[0m \u001b[0;36m4\u001b[0m\u001b[0;34m\u001b[0m\u001b[0;34m\u001b[0m\u001b[0m\n\u001b[0m\u001b[1;32m     28\u001b[0m \u001b[0;34m\u001b[0m\u001b[0m\n\u001b[1;32m     29\u001b[0m \u001b[0;31m# Area de los pasadores\u001b[0m\u001b[0;34m\u001b[0m\u001b[0;34m\u001b[0m\u001b[0;34m\u001b[0m\u001b[0m\n",
      "\u001b[0;31mNameError\u001b[0m: name 'np' is not defined"
     ]
    }
   ],
   "source": [
    "# MEDIDAS INICIALES\n",
    "codigo = \"2200301\"\n",
    "X = sum([int(i) for i in codigo])\n",
    "\n",
    "# Longitudes de los cables en mm\n",
    "Longitud_BC_m = 1.5\n",
    "Longitud_BC_mm = Longitud_BC_m * 1000\n",
    "Longitud_BD_mm, Longitud_BE_mm = Longitud_BC_mm, Longitud_BC_mm\n",
    "\n",
    "# Longitud de la barra en mm\n",
    "Longitud_AB_m = 0.2 * X\n",
    "Longitud_AB_mm = Longitud_AB_m * 1000\n",
    "\n",
    "# Diámetro Cables BC, BD, BE; = 1/4\"\n",
    "Diametro_BC_in = 0.25\n",
    "\n",
    "# Diametro de los cables en mm\n",
    "Diametro_BC_mm = Diametro_BC_in * 25.4\n",
    "Diametro_BD_mm, Diametro_BE_mm = Diametro_BC_mm, Diametro_BC_mm\n",
    "\n",
    "# Pasador = B, C, D, E  diámetro 1/2\" \n",
    "Diametro_PB_in = 0.5\n",
    "Diametro_PB_mm = Diametro_PB_in * 25.4\n",
    "Diametro_PC_mm, Diametro_PD_mm = Diametro_PB_mm, Diametro_PB_mm\n",
    "\n",
    "# Area de los cables\n",
    "Area_BC_mm = (np.pi * (Diametro_BC_mm ** 2) )/ 4\n",
    "\n",
    "# Area de los pasadores\n",
    "Area_PB_mm = (np.pi * (Diametro_PB_mm ** 2) )/ 4\n",
    "Area_PC_mm, Area_PD_mm = Area_PB_mm, Area_PB_mm\n",
    "\n",
    "# Angulo de los cables\n",
    "Angulo_BE = 50 * (np.pi / 180)\n",
    "Angulo_BC = 40 *(np.pi / 180)\n",
    "\n",
    "# Material y sus propiedades \n",
    "# Acero ASTM A-36\n",
    "E = 200  #Gpa\n",
    "Esfuerzo_fluencia_tension = 250 # Mpa\n",
    "Esfuerzo_ultimo_tension = 400 #Mpa\n",
    "Esfuerzo_fluencia_cortante = 145 # Mpa\n",
    "\n",
    "# Factor de seguridad de la resistencia de fluencia del material\n",
    "FSF = 1 + (X/100)\n",
    "# Factor de seguridad de la resistencia última del material\n",
    "FSU = 1 + (X + 3)/100\n"
   ]
  },
  {
   "cell_type": "code",
   "execution_count": 2,
   "id": "a8b257d7",
   "metadata": {},
   "outputs": [
    {
     "ename": "NameError",
     "evalue": "name 'sp' is not defined",
     "output_type": "error",
     "traceback": [
      "\u001b[0;31m---------------------------------------------------------------------------\u001b[0m",
      "\u001b[0;31mNameError\u001b[0m                                 Traceback (most recent call last)",
      "\u001b[0;32m/tmp/ipykernel_48967/575752427.py\u001b[0m in \u001b[0;36m<module>\u001b[0;34m\u001b[0m\n\u001b[1;32m      1\u001b[0m \u001b[0;31m# 1.1\u001b[0m\u001b[0;34m\u001b[0m\u001b[0;34m\u001b[0m\u001b[0;34m\u001b[0m\u001b[0m\n\u001b[1;32m      2\u001b[0m \u001b[0;31m# EQUILIBRIO EXTERNO\u001b[0m\u001b[0;34m\u001b[0m\u001b[0;34m\u001b[0m\u001b[0;34m\u001b[0m\u001b[0m\n\u001b[0;32m----> 3\u001b[0;31m \u001b[0mAx\u001b[0m\u001b[0;34m,\u001b[0m \u001b[0mAy\u001b[0m\u001b[0;34m,\u001b[0m \u001b[0mF_BD\u001b[0m\u001b[0;34m,\u001b[0m \u001b[0mF_BC\u001b[0m\u001b[0;34m,\u001b[0m \u001b[0mF_BE\u001b[0m\u001b[0;34m,\u001b[0m \u001b[0mW\u001b[0m \u001b[0;34m=\u001b[0m \u001b[0msp\u001b[0m\u001b[0;34m.\u001b[0m\u001b[0msymbols\u001b[0m\u001b[0;34m(\u001b[0m\u001b[0;34m\"Ax Ay F_BD F_BC F_BE W\"\u001b[0m\u001b[0;34m)\u001b[0m\u001b[0;34m\u001b[0m\u001b[0;34m\u001b[0m\u001b[0m\n\u001b[0m\u001b[1;32m      4\u001b[0m \u001b[0;34m\u001b[0m\u001b[0m\n\u001b[1;32m      5\u001b[0m \u001b[0;31m# Sumatoria de fuerzas en Y\u001b[0m\u001b[0;34m\u001b[0m\u001b[0;34m\u001b[0m\u001b[0;34m\u001b[0m\u001b[0m\n",
      "\u001b[0;31mNameError\u001b[0m: name 'sp' is not defined"
     ]
    }
   ],
   "source": [
    "# 1.1\n",
    "# EQUILIBRIO EXTERNO\n",
    "Ax, Ay, F_BD, F_BC, F_BE, W = sp.symbols(\"Ax Ay F_BD F_BC F_BE W\")\n",
    "\n",
    "# Sumatoria de fuerzas en Y\n",
    "Fy = Ay - W*Longitud_AB_mm + F_BD + F_BE*cos(Angulo_BE) + F_BC*cos(Angulo_BC)\n",
    "sumatoria_Fy = sp.Eq(Fy, 0)\n",
    "sumatoria_Fy\n"
   ]
  },
  {
   "cell_type": "code",
   "execution_count": 81,
   "id": "0ffdf1f7",
   "metadata": {},
   "outputs": [
    {
     "data": {
      "text/latex": [
       "$\\displaystyle Ax - 0.642787609686539 F_{BC} + 0.766044443118978 F_{BE} = 0$"
      ],
      "text/plain": [
       "Eq(Ax - 0.642787609686539*F_BC + 0.766044443118978*F_BE, 0)"
      ]
     },
     "execution_count": 81,
     "metadata": {},
     "output_type": "execute_result"
    }
   ],
   "source": [
    "# Sumatoria de fuerzas en X\n",
    "Fx = Ax + F_BE*sin(Angulo_BE) - F_BC*sin(Angulo_BC)\n",
    "sumatoria_Fx = sp.Eq(Fx, 0)\n",
    "sumatoria_Fx\n"
   ]
  },
  {
   "cell_type": "code",
   "execution_count": 82,
   "id": "e9e41dba",
   "metadata": {},
   "outputs": [
    {
     "data": {
      "text/latex": [
       "$\\displaystyle 4136.63999284248 F_{BC} + 5400.0 F_{BD} + 3471.05309230731 F_{BE} - 14580000.0 W = 0$"
      ],
      "text/plain": [
       "Eq(4136.63999284248*F_BC + 5400.0*F_BD + 3471.05309230731*F_BE - 14580000.0*W, 0)"
      ]
     },
     "execution_count": 82,
     "metadata": {},
     "output_type": "execute_result"
    }
   ],
   "source": [
    "# Sumatoria de momentos en el punto A\n",
    "Ma = -W*(Longitud_AB_mm**2)/2 + Longitud_AB_mm*F_BD + Longitud_AB_mm*F_BE*cos(Angulo_BE) + Longitud_AB_mm*F_BC*cos(Angulo_BC)\n",
    "sumatoria_Ma = sp.Eq(Ma, 0)\n",
    "sumatoria_Ma"
   ]
  },
  {
   "cell_type": "code",
   "execution_count": 83,
   "id": "249f8087",
   "metadata": {},
   "outputs": [
    {
     "data": {
      "text/latex": [
       "$\\displaystyle F_{BC} - 0.766044443118978 F_{BD} = 0$"
      ],
      "text/plain": [
       "Eq(F_BC - 0.766044443118978*F_BD, 0)"
      ]
     },
     "execution_count": 83,
     "metadata": {},
     "output_type": "execute_result"
    }
   ],
   "source": [
    "# CABLES\n",
    "# Relacion BD y BC\n",
    "F_BD_BC = sp.Eq(F_BC - F_BD*cos(Angulo_BC), 0)\n",
    "relacion_F_BD_BC = F_BD*cos(Angulo_BC)\n",
    "F_BD_BC"
   ]
  },
  {
   "cell_type": "code",
   "execution_count": 84,
   "id": "a9105c3e",
   "metadata": {},
   "outputs": [
    {
     "data": {
      "text/latex": [
       "$\\displaystyle - 0.642787609686539 F_{BD} + F_{BE} = 0$"
      ],
      "text/plain": [
       "Eq(-0.642787609686539*F_BD + F_BE, 0)"
      ]
     },
     "execution_count": 84,
     "metadata": {},
     "output_type": "execute_result"
    }
   ],
   "source": [
    "# Relacion BD y BE\n",
    "F_BD_BE = sp.Eq(F_BE - F_BD*cos(Angulo_BE), 0)\n",
    "relacion_F_BD_BE = F_BD*cos(Angulo_BE)\n",
    "F_BD_BE"
   ]
  },
  {
   "cell_type": "code",
   "execution_count": 85,
   "id": "41f3cccf",
   "metadata": {},
   "outputs": [
    {
     "data": {
      "text/latex": [
       "$\\displaystyle 10800.0 F_{BD} - 14580000.0 W = 0$"
      ],
      "text/plain": [
       "Eq(10800.0*F_BD - 14580000.0*W, 0)"
      ]
     },
     "execution_count": 85,
     "metadata": {},
     "output_type": "execute_result"
    }
   ],
   "source": [
    "# Fuerzas BC y BE en terminos de BD\n",
    "momentos = sp.Eq(Ma.subs([(F_BC, relacion_F_BD_BC), (F_BE, relacion_F_BD_BE)]), 0)\n",
    "momentos\n"
   ]
  },
  {
   "cell_type": "code",
   "execution_count": 86,
   "id": "0e824870",
   "metadata": {},
   "outputs": [
    {
     "data": {
      "text/latex": [
       "$\\displaystyle 1350.0 W$"
      ],
      "text/plain": [
       "1350.0*W"
      ]
     },
     "execution_count": 86,
     "metadata": {},
     "output_type": "execute_result"
    }
   ],
   "source": [
    "# Fuerza BD en terminos de W\n",
    "F_BD_W = sp.solve(momentos)[0][F_BD]\n",
    "F_BD_W\n"
   ]
  },
  {
   "cell_type": "code",
   "execution_count": 87,
   "id": "9dfcf0f3",
   "metadata": {},
   "outputs": [
    {
     "data": {
      "text/latex": [
       "$\\displaystyle 42.6281452140237 W - 307.692307692308 = 0$"
      ],
      "text/plain": [
       "Eq(42.6281452140237*W - 307.692307692308, 0)"
      ]
     },
     "execution_count": 87,
     "metadata": {},
     "output_type": "execute_result"
    }
   ],
   "source": [
    "# Carga máxima para el cable BD\n",
    "esfuerzo_F_BD = (F_BD_W / Area_BC_mm) - (Esfuerzo_ultimo_tension / FSU)\n",
    "equivalencia_F_BD_W = sp.Eq(esfuerzo_F_BD, 0)\n",
    "equivalencia_F_BD_W"
   ]
  },
  {
   "cell_type": "code",
   "execution_count": 88,
   "id": "c2805dda",
   "metadata": {},
   "outputs": [
    {
     "name": "stdout",
     "output_type": "stream",
     "text": [
      "La carga máxima distribuida que puede soportar el cable BD es de 7.21805525779912 kN/m\n"
     ]
    }
   ],
   "source": [
    "carga_maxima_F_BD_W = sp.solve(equivalencia_F_BD_W, W)\n",
    "print(\"La carga máxima distribuida que puede soportar el cable BD es de \" + str(carga_maxima_F_BD_W[0]) + \" kN/m\")\n"
   ]
  },
  {
   "cell_type": "code",
   "execution_count": 89,
   "id": "bfdf514e",
   "metadata": {},
   "outputs": [
    {
     "data": {
      "text/latex": [
       "$\\displaystyle 32.6550537616717 W - 307.692307692308 = 0$"
      ],
      "text/plain": [
       "Eq(32.6550537616717*W - 307.692307692308, 0)"
      ]
     },
     "execution_count": 89,
     "metadata": {},
     "output_type": "execute_result"
    }
   ],
   "source": [
    "# Carga máxima para el cable BC\n",
    "esfuerzo_F_BC = (relacion_F_BD_BC.subs(F_BD, F_BD_W) / Area_BC_mm) - (Esfuerzo_ultimo_tension / FSU)\n",
    "equivalencia_F_BC_BD = sp.Eq(esfuerzo_F_BC, 0)\n",
    "equivalencia_F_BC_BD\n"
   ]
  },
  {
   "cell_type": "code",
   "execution_count": 90,
   "id": "738a6390",
   "metadata": {},
   "outputs": [
    {
     "name": "stdout",
     "output_type": "stream",
     "text": [
      "La carga máxima distribuida que puede soportar el cable BD es de 9.42250194833415 kN/m\n"
     ]
    }
   ],
   "source": [
    "carga_maxima_F_BC_W = sp.solve(equivalencia_F_BC_BD, W)\n",
    "print(\"La carga máxima distribuida que puede soportar el cable BD es de \" + str(carga_maxima_F_BC_W[0]) + \" kN/m\")\n"
   ]
  },
  {
   "cell_type": "code",
   "execution_count": 91,
   "id": "fddb6af1",
   "metadata": {},
   "outputs": [
    {
     "data": {
      "text/latex": [
       "$\\displaystyle 27.400843567493 W - 307.692307692308 = 0$"
      ],
      "text/plain": [
       "Eq(27.400843567493*W - 307.692307692308, 0)"
      ]
     },
     "execution_count": 91,
     "metadata": {},
     "output_type": "execute_result"
    }
   ],
   "source": [
    "# Carga máxima para el cable BE\n",
    "esfuerzo_F_BE = (relacion_F_BD_BE.subs(F_BD, F_BD_W) / Area_BC_mm) - (Esfuerzo_ultimo_tension / FSU)\n",
    "equivalencia_F_BE_BD = sp.Eq(esfuerzo_F_BE, 0)\n",
    "equivalencia_F_BE_BD\n"
   ]
  },
  {
   "cell_type": "code",
   "execution_count": 92,
   "id": "80a13c54",
   "metadata": {},
   "outputs": [
    {
     "name": "stdout",
     "output_type": "stream",
     "text": [
      "La carga máxima distribuida que puede soportar el cable BD es de 11.2293005481532 kN/m\n"
     ]
    }
   ],
   "source": [
    "carga_maxima_F_BE_W = sp.solve(equivalencia_F_BE_BD, W)\n",
    "print(\"La carga máxima distribuida que puede soportar el cable BD es de \" + str(carga_maxima_F_BE_W[0]) + \" kN/m\")\n"
   ]
  },
  {
   "cell_type": "code",
   "execution_count": 93,
   "id": "f104562d",
   "metadata": {},
   "outputs": [
    {
     "data": {
      "text/latex": [
       "$\\displaystyle 2700.0 W$"
      ],
      "text/plain": [
       "2700.0*W"
      ]
     },
     "execution_count": 93,
     "metadata": {},
     "output_type": "execute_result"
    }
   ],
   "source": [
    "# PASADOR\n",
    "# Pasador A\n",
    "R_Ay = Fy.subs([(F_BC, relacion_F_BD_BC), (F_BE, relacion_F_BD_BE), (F_BD, F_BD_W)])\n",
    "equivalencia_R_Ay = sp.solve(sp.Eq(R_Ay, 0))\n",
    "equivalencia_R_Ay = equivalencia_R_Ay[0][Ay]\n",
    "equivalencia_R_Ay\n"
   ]
  },
  {
   "cell_type": "code",
   "execution_count": 94,
   "id": "9d8f6e8d",
   "metadata": {},
   "outputs": [
    {
     "data": {
      "text/latex": [
       "$\\displaystyle - 1.49880108324396 \\cdot 10^{-13} W$"
      ],
      "text/plain": [
       "-1.49880108324396e-13*W"
      ]
     },
     "execution_count": 94,
     "metadata": {},
     "output_type": "execute_result"
    }
   ],
   "source": [
    "R_Ax = Fx.subs([(F_BC, relacion_F_BD_BC), (F_BE, relacion_F_BD_BE), (F_BD, F_BD_W)])\n",
    "equivalencia_R_Ax = sp.solve(sp.Eq(R_Ax, 0))\n",
    "equivalencia_R_Ax = equivalencia_R_Ax[0][Ax]\n",
    "equivalencia_R_Ax\n"
   ]
  },
  {
   "cell_type": "code",
   "execution_count": 95,
   "id": "6841be89",
   "metadata": {},
   "outputs": [
    {
     "data": {
      "text/latex": [
       "$\\displaystyle 2700.0 \\sqrt{W^{2}}$"
      ],
      "text/plain": [
       "2700.0*sqrt(W**2)"
      ]
     },
     "execution_count": 95,
     "metadata": {},
     "output_type": "execute_result"
    }
   ],
   "source": [
    "# Resultante A en terminos de W\n",
    "R_A = sp.sqrt(equivalencia_R_Ay**2 + equivalencia_R_Ax**2)\n",
    "R_A"
   ]
  },
  {
   "cell_type": "code",
   "execution_count": 96,
   "id": "9ef708b5",
   "metadata": {},
   "outputs": [
    {
     "data": {
      "text/latex": [
       "$\\displaystyle 21.3140726070118 \\sqrt{W^{2}} - 114.173228346457 = 0$"
      ],
      "text/plain": [
       "Eq(21.3140726070118*sqrt(W**2) - 114.173228346457, 0)"
      ]
     },
     "execution_count": 96,
     "metadata": {},
     "output_type": "execute_result"
    }
   ],
   "source": [
    "# Carga máxima para el pasador A\n",
    "esfuerzo_R_A = (R_A / Area_PB_mm) - (Esfuerzo_fluencia_cortante / FSF)\n",
    "equivalencia_R_A = sp.Eq(esfuerzo_R_A, 0)\n",
    "equivalencia_R_A"
   ]
  },
  {
   "cell_type": "code",
   "execution_count": 97,
   "id": "d4e8a46d",
   "metadata": {},
   "outputs": [
    {
     "name": "stdout",
     "output_type": "stream",
     "text": [
      "La carga máxima distribuida que puede soportar el pasador A es de 5.35670636257929 kN/m\n"
     ]
    }
   ],
   "source": [
    "W1 = sp.sqrt(W**2)\n",
    "carga_maxima_R_A = sp.solve(equivalencia_R_A, W1)\n",
    "print(\"La carga máxima distribuida que puede soportar el pasador A es de \" + str(carga_maxima_R_A[0]) + \" kN/m\")"
   ]
  },
  {
   "cell_type": "code",
   "execution_count": 98,
   "id": "9022120b",
   "metadata": {},
   "outputs": [
    {
     "data": {
      "text/latex": [
       "$\\displaystyle 2700.0 \\sqrt{W^{2}}$"
      ],
      "text/plain": [
       "2700.0*sqrt(W**2)"
      ]
     },
     "execution_count": 98,
     "metadata": {},
     "output_type": "execute_result"
    }
   ],
   "source": [
    "# Pasador B\n",
    "R_By = relacion_F_BD_BC.subs(F_BD, F_BD_W)*cos(Angulo_BC) + relacion_F_BD_BE.subs(F_BD, F_BD_W)*cos(Angulo_BE) + F_BD_W\n",
    "R_Bx = relacion_F_BD_BE.subs(F_BD, F_BD_W)*sin(Angulo_BE) - relacion_F_BD_BC.subs(F_BD, F_BD_W)*sin(Angulo_BC) \n",
    "R_B = sp.sqrt(R_Bx**2 + R_By**2)\n",
    "R_B"
   ]
  },
  {
   "cell_type": "code",
   "execution_count": 99,
   "id": "01306805",
   "metadata": {},
   "outputs": [
    {
     "data": {
      "text/latex": [
       "$\\displaystyle 21.3140726070118 \\sqrt{W^{2}} - 114.173228346457 = 0$"
      ],
      "text/plain": [
       "Eq(21.3140726070118*sqrt(W**2) - 114.173228346457, 0)"
      ]
     },
     "execution_count": 99,
     "metadata": {},
     "output_type": "execute_result"
    }
   ],
   "source": [
    "# Carga máxima para el pasador B\n",
    "esfuerzo_R_B = (R_B / Area_PB_mm) - (Esfuerzo_fluencia_cortante / FSF)\n",
    "equivalencia_R_B = sp.Eq(esfuerzo_R_B, 0)\n",
    "equivalencia_R_B"
   ]
  },
  {
   "cell_type": "code",
   "execution_count": 100,
   "id": "6eda983c",
   "metadata": {},
   "outputs": [
    {
     "name": "stdout",
     "output_type": "stream",
     "text": [
      "La carga máxima distribuida que puede soportar el pasador B es de 5.35670636257929 kN/m\n"
     ]
    }
   ],
   "source": [
    "W1 = sp.sqrt(W**2)\n",
    "carga_maxima_R_B = sp.solve(equivalencia_R_B, W1)\n",
    "print(\"La carga máxima distribuida que puede soportar el pasador B es de \" + str(carga_maxima_R_B[0]) + \" kN/m\")"
   ]
  },
  {
   "cell_type": "code",
   "execution_count": 101,
   "id": "f794380d",
   "metadata": {},
   "outputs": [
    {
     "data": {
      "text/latex": [
       "$\\displaystyle 8.16376344041793 W - 114.173228346457 = 0$"
      ],
      "text/plain": [
       "Eq(8.16376344041793*W - 114.173228346457, 0)"
      ]
     },
     "execution_count": 101,
     "metadata": {},
     "output_type": "execute_result"
    }
   ],
   "source": [
    "# Carga máxima para el pasador BC\n",
    "esfuerzo_P_F_BC = (relacion_F_BD_BC.subs(F_BD, F_BD_W) / Area_PB_mm) - (Esfuerzo_fluencia_cortante / FSF)\n",
    "equivalencia_P_F_BC = sp.Eq(esfuerzo_P_F_BC, 0)\n",
    "equivalencia_P_F_BC"
   ]
  },
  {
   "cell_type": "code",
   "execution_count": 102,
   "id": "11e3ac75",
   "metadata": {},
   "outputs": [
    {
     "name": "stdout",
     "output_type": "stream",
     "text": [
      "La carga máxima distribuida que puede soportar el pasador del cable BC es de 13.9853670650472 kN/m\n"
     ]
    }
   ],
   "source": [
    "carga_maxima_P_BC = sp.solve(equivalencia_P_F_BC, W)\n",
    "print(\"La carga máxima distribuida que puede soportar el pasador del cable BC es de \" + str(carga_maxima_P_BC[0]) + \" kN/m\")"
   ]
  },
  {
   "cell_type": "code",
   "execution_count": 103,
   "id": "8fcc18e7",
   "metadata": {},
   "outputs": [
    {
     "data": {
      "text/latex": [
       "$\\displaystyle 10.6570363035059 W - 114.173228346457 = 0$"
      ],
      "text/plain": [
       "Eq(10.6570363035059*W - 114.173228346457, 0)"
      ]
     },
     "execution_count": 103,
     "metadata": {},
     "output_type": "execute_result"
    }
   ],
   "source": [
    "# Carga máxima para el pasador BD\n",
    "esfuerzo_P_F_BD = (F_BD_W / Area_PB_mm) - (Esfuerzo_fluencia_cortante / FSF)\n",
    "equivalencia_P_F_BD = sp.Eq(esfuerzo_P_F_BD, 0)\n",
    "equivalencia_P_F_BD"
   ]
  },
  {
   "cell_type": "code",
   "execution_count": 104,
   "id": "de2d9d33",
   "metadata": {},
   "outputs": [
    {
     "name": "stdout",
     "output_type": "stream",
     "text": [
      "La carga máxima distribuida que puede soportar el pasador del cable BD es de 10.7134127251586 kN/m\n"
     ]
    }
   ],
   "source": [
    "carga_maxima_P_BD = sp.solve(equivalencia_P_F_BD, W)\n",
    "print(\"La carga máxima distribuida que puede soportar el pasador del cable BD es de \" + str(carga_maxima_P_BD[0]) + \" kN/m\")"
   ]
  },
  {
   "cell_type": "code",
   "execution_count": 105,
   "id": "f50ee8e2",
   "metadata": {},
   "outputs": [
    {
     "data": {
      "text/latex": [
       "$\\displaystyle 6.85021089187324 W - 114.173228346457 = 0$"
      ],
      "text/plain": [
       "Eq(6.85021089187324*W - 114.173228346457, 0)"
      ]
     },
     "execution_count": 105,
     "metadata": {},
     "output_type": "execute_result"
    }
   ],
   "source": [
    "# Carga máxima para el pasador BE\n",
    "esfuerzo_P_F_BE = (relacion_F_BD_BE.subs(F_BD, F_BD_W) / Area_PB_mm) - (Esfuerzo_fluencia_cortante / FSF)\n",
    "equivalencia_P_F_BE = sp.Eq(esfuerzo_P_F_BE, 0)\n",
    "equivalencia_P_F_BE"
   ]
  },
  {
   "cell_type": "code",
   "execution_count": 106,
   "id": "23464970",
   "metadata": {},
   "outputs": [
    {
     "name": "stdout",
     "output_type": "stream",
     "text": [
      "La carga máxima distribuida que puede soportar el pasador del cable BE es de 16.6671114435187 kN/m\n"
     ]
    }
   ],
   "source": [
    "carga_maxima_P_BE = sp.solve(equivalencia_P_F_BE, W)\n",
    "print(\"La carga máxima distribuida que puede soportar el pasador del cable BE es de \" + str(carga_maxima_P_BE[0]) + \" kN/m\")\n"
   ]
  },
  {
   "cell_type": "code",
   "execution_count": 107,
   "id": "28c0bba1",
   "metadata": {},
   "outputs": [
    {
     "name": "stdout",
     "output_type": "stream",
     "text": [
      "La carga máxima distribuida para que ningún elemento falle es de 5.35670636257929 kN/m\n"
     ]
    }
   ],
   "source": [
    "W_max = min([carga_maxima_F_BD_W, carga_maxima_F_BC_W, carga_maxima_F_BE_W, carga_maxima_P_BC, carga_maxima_P_BD, carga_maxima_P_BE, carga_maxima_R_B, carga_maxima_R_A])\n",
    "W_maxima = W_max[0]\n",
    "print(\"La carga máxima distribuida para que ningún elemento falle es de \" + str(W_maxima) + \" kN/m\")"
   ]
  },
  {
   "cell_type": "code",
   "execution_count": 108,
   "id": "218f5bbd",
   "metadata": {},
   "outputs": [
    {
     "name": "stdout",
     "output_type": "stream",
     "text": [
      "La fuerza del cable BD es de 7.23155358948204 kN\n"
     ]
    }
   ],
   "source": [
    "# 1.2\n",
    "# FUERZAS\n",
    "# Cable BD\n",
    "carga_F_BD = F_BD_W.subs(W, W_maxima)/1000\n",
    "print(\"La fuerza del cable BD es de \" + str(carga_F_BD) + \" kN\")"
   ]
  },
  {
   "cell_type": "code",
   "execution_count": 109,
   "id": "a6e91872",
   "metadata": {},
   "outputs": [
    {
     "name": "stdout",
     "output_type": "stream",
     "text": [
      "La fuerza del cable BC es de 5.53969144233981 kN\n"
     ]
    }
   ],
   "source": [
    "# Cable BC\n",
    "carga_F_BC = relacion_F_BD_BC.subs(F_BD, F_BD_W)\n",
    "carga_F_BC = carga_F_BC.subs(W, W_maxima)/1000\n",
    "print(\"La fuerza del cable BC es de \" + str(carga_F_BC) + \" kN\")"
   ]
  },
  {
   "cell_type": "code",
   "execution_count": 110,
   "id": "be947483",
   "metadata": {},
   "outputs": [
    {
     "name": "stdout",
     "output_type": "stream",
     "text": [
      "La fuerza del cable BC es de 4.64835304610327 kN\n"
     ]
    }
   ],
   "source": [
    "# Cable BE\n",
    "carga_F_BE = relacion_F_BD_BE.subs(F_BD, F_BD_W)\n",
    "carga_F_BE = carga_F_BE.subs(W, W_maxima)/1000\n",
    "print(\"La fuerza del cable BC es de \" + str(carga_F_BE) + \" kN\")"
   ]
  },
  {
   "cell_type": "code",
   "execution_count": 111,
   "id": "18d13944",
   "metadata": {},
   "outputs": [
    {
     "name": "stdout",
     "output_type": "stream",
     "text": [
      "La deformación del cable BD es de 1.71259842519686 mm\n"
     ]
    }
   ],
   "source": [
    "# DEFORMACIONES\n",
    "# Cable BD\n",
    "deformacion_F_BD = (carga_F_BD * Longitud_BC_mm) / (Area_BC_mm * E)\n",
    "print(\"La deformación del cable BD es de \" + str(deformacion_F_BD) + \" mm\")"
   ]
  },
  {
   "cell_type": "code",
   "execution_count": 112,
   "id": "42e44191",
   "metadata": {},
   "outputs": [
    {
     "name": "stdout",
     "output_type": "stream",
     "text": [
      "La deformación del cable BC es de 1.31192650691637 mm\n"
     ]
    }
   ],
   "source": [
    "# Cable BC\n",
    "deformacion_F_BC = (carga_F_BC * Longitud_BC_mm) / (Area_BC_mm * E)\n",
    "print(\"La deformación del cable BC es de \" + str(deformacion_F_BC) + \" mm\")"
   ]
  },
  {
   "cell_type": "code",
   "execution_count": 113,
   "id": "0826ac1e",
   "metadata": {},
   "outputs": [
    {
     "name": "stdout",
     "output_type": "stream",
     "text": [
      "La deformación del cable BE es de 1.10083704808522 mm\n"
     ]
    }
   ],
   "source": [
    "# Cable BE\n",
    "deformacion_F_BE = (carga_F_BE * Longitud_BC_mm) / (Area_BC_mm * E)\n",
    "print(\"La deformación del cable BE es de \" + str(deformacion_F_BE) + \" mm\")"
   ]
  },
  {
   "cell_type": "code",
   "execution_count": 114,
   "id": "49ccef17",
   "metadata": {},
   "outputs": [
    {
     "name": "stdout",
     "output_type": "stream",
     "text": [
      "La reaccion Ax es de -4.44089209850063e-16 kN\n"
     ]
    }
   ],
   "source": [
    "# REACCIONES\n",
    "# Apoyo A\n",
    "reaccion_Ax = Fx.subs([(F_BC, carga_F_BC), (F_BE, carga_F_BE)])\n",
    "reaccion_Ax = sp.solve(sp.Eq(reaccion_Ax,0))[0]\n",
    "print(\"La reaccion Ax es de \" + str(reaccion_Ax) + \" kN\")"
   ]
  },
  {
   "cell_type": "code",
   "execution_count": 115,
   "id": "a6fdc473",
   "metadata": {},
   "outputs": [
    {
     "name": "stdout",
     "output_type": "stream",
     "text": [
      "La reaccion Ay es de 14.6945168938274 kN\n"
     ]
    }
   ],
   "source": [
    "if reaccion_Ax == 0:\n",
    "    reaccion_Ay = R_A.subs([(equivalencia_R_Ax, reaccion_Ax), (W, W_maxima)])/1000\n",
    "print(\"La reaccion Ay es de \" + str(reaccion_Ay) + \" kN\")"
   ]
  },
  {
   "cell_type": "code",
   "execution_count": null,
   "id": "b9414e4b",
   "metadata": {},
   "outputs": [],
   "source": []
  }
 ],
 "metadata": {
  "kernelspec": {
   "display_name": "Python 3 (ipykernel)",
   "language": "python",
   "name": "python3"
  },
  "language_info": {
   "codemirror_mode": {
    "name": "ipython",
    "version": 3
   },
   "file_extension": ".py",
   "mimetype": "text/x-python",
   "name": "python",
   "nbconvert_exporter": "python",
   "pygments_lexer": "ipython3",
   "version": "3.8.10"
  }
 },
 "nbformat": 4,
 "nbformat_minor": 5
}
