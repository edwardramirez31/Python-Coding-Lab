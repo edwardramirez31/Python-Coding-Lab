{
 "cells": [
  {
   "cell_type": "markdown",
   "id": "55171885",
   "metadata": {},
   "source": [
    "# Datos suministrados"
   ]
  },
  {
   "cell_type": "code",
   "execution_count": 2,
   "id": "f8afd6f6",
   "metadata": {},
   "outputs": [],
   "source": [
    "import numpy as np\n",
    "import sympy as sp"
   ]
  },
  {
   "cell_type": "code",
   "execution_count": 64,
   "id": "c2aadfdc",
   "metadata": {},
   "outputs": [],
   "source": [
    "## Datos del codigo deestudiante \n",
    "\n",
    "x = 2 + 1 + 8 + 4 + 0 + 0 + 2 \n",
    "\n",
    "## Cables.\n",
    "# Longitudes de cables en [m]\n",
    "\n",
    "CB = 1.5\n",
    "DB = 1.5\n",
    "EB = 1.5 \n",
    "\n",
    "# Diametro de cables en pulgadas y convertido a metros.\n",
    "\n",
    "diametro = (1/4) * (1/39.970)\n",
    "\n",
    "# Diametro de pasadores en pulgadas y convertido a metros.\n",
    "\n",
    "diametro_pasadores = (1/2) * (1/39.970)\n",
    "\n",
    "# Longitud barra AB\n",
    "\n",
    "L = (0.2) * x\n",
    "\n",
    "# Area de cables \n",
    "\n",
    "area_cables = np.pi * (diametro/2) ** 2\n",
    "\n",
    "# Area de pasadores \n",
    "\n",
    "area_pasadores = np.pi * (diametro_pasadores/2) ** 2\n",
    "\n",
    "# Factor de Seguridad respecto al esfuerzo de fluencia \n",
    "\n",
    "FS = 1.17\n",
    "\n",
    "# Factor de seguridad respecto al esfuerzo último\n",
    "\n",
    "FS_ultimo = 1.20"
   ]
  },
  {
   "cell_type": "code",
   "execution_count": 65,
   "id": "cd751e7c",
   "metadata": {
    "scrolled": true
   },
   "outputs": [],
   "source": [
    "## Propiedades del material\n",
    "\n",
    "esfuerzo_fluencia_traccion = 250 #MPa\n",
    "esfuerzo_fluencia_corte = 145 #MPa\n",
    "esfuerzo_ultimo = 400 #MPa\n",
    "E = 200 #(GPa)"
   ]
  },
  {
   "cell_type": "code",
   "execution_count": 66,
   "id": "4dfac17f",
   "metadata": {},
   "outputs": [],
   "source": [
    "# Angulos entre cables\n",
    "\n",
    "angulo_BC = 40 * np.pi / 180\n",
    "angulo_BE = 50 * np.pi / 180"
   ]
  },
  {
   "cell_type": "markdown",
   "id": "60601b72",
   "metadata": {},
   "source": [
    "## EQUILIBRIO. "
   ]
  },
  {
   "cell_type": "code",
   "execution_count": 67,
   "id": "7be70210",
   "metadata": {},
   "outputs": [
    {
     "data": {
      "text/latex": [
       "$\\displaystyle Ax - 0.642787609686539 F_{bc} + 0.766044443118978 F_{be} = 0$"
      ],
      "text/plain": [
       "Eq(Ax - 0.642787609686539*F_bc + 0.766044443118978*F_be, 0)"
      ]
     },
     "execution_count": 67,
     "metadata": {},
     "output_type": "execute_result"
    }
   ],
   "source": [
    "Ax = sp.symbols('Ax')\n",
    "Ay = sp.symbols('Ay')\n",
    "F_bc = sp.symbols('F_bc')\n",
    "F_bd = sp.symbols('F_bd')\n",
    "F_be = sp.symbols('F_be')\n",
    "W = sp.symbols('W')\n",
    "\n",
    "# ƩFx=0\n",
    "\n",
    "Fx = Ax - F_bc * sp.sin(angulo_BC) + F_be * sp.sin(angulo_BE)\n",
    "equilibrio_X = sp.Eq(Fx, 0)\n",
    "equilibrio_X"
   ]
  },
  {
   "cell_type": "code",
   "execution_count": 68,
   "id": "16fd89de",
   "metadata": {},
   "outputs": [
    {
     "data": {
      "text/latex": [
       "$\\displaystyle Ay + 1.76604444311898 F_{bd} + 0.642787609686539 F_{be} - 3.4 W = 0$"
      ],
      "text/plain": [
       "Eq(Ay + 1.76604444311898*F_bd + 0.642787609686539*F_be - 3.4*W, 0)"
      ]
     },
     "execution_count": 68,
     "metadata": {},
     "output_type": "execute_result"
    }
   ],
   "source": [
    "# ƩFy=0\n",
    "\n",
    "Fy = Ay - W * L + F_bd * sp.cos(angulo_BC) + F_be * sp.cos(angulo_BE) + F_bd\n",
    "equilibrio_Y = sp.Eq(Fy, 0)\n",
    "equilibrio_Y"
   ]
  },
  {
   "cell_type": "code",
   "execution_count": 69,
   "id": "3530e3ff",
   "metadata": {},
   "outputs": [
    {
     "data": {
      "text/latex": [
       "$\\displaystyle 2.60455110660453 F_{bc} + 3.4 F_{bd} + 2.18547787293423 F_{be} - 1.7 W = 0$"
      ],
      "text/plain": [
       "Eq(2.60455110660453*F_bc + 3.4*F_bd + 2.18547787293423*F_be - 1.7*W, 0)"
      ]
     },
     "execution_count": 69,
     "metadata": {},
     "output_type": "execute_result"
    }
   ],
   "source": [
    "# ƩMA=0\n",
    "\n",
    "M_a = - W * (L/2) + F_bc * sp.cos(angulo_BC) * L + F_be * sp.cos(angulo_BE) * L + F_bd * L\n",
    "equilibrio_momentos = sp.Eq(M_a, 0)\n",
    "equilibrio_momentos"
   ]
  },
  {
   "cell_type": "code",
   "execution_count": 70,
   "id": "378fff23",
   "metadata": {},
   "outputs": [
    {
     "data": {
      "text/latex": [
       "$\\displaystyle F_{bc} - 0.766044443118978 F_{bd} = 0$"
      ],
      "text/plain": [
       "Eq(F_bc - 0.766044443118978*F_bd, 0)"
      ]
     },
     "execution_count": 70,
     "metadata": {},
     "output_type": "execute_result"
    }
   ],
   "source": [
    "# Compatibilidad \n",
    "\n",
    "equivalencia_F_bc = sp.Eq(F_bc - F_bd * sp.cos(angulo_BC), 0)\n",
    "expresion_equivalencia_F_bc = F_bd * sp.cos(angulo_BC)\n",
    "equivalencia_F_bc"
   ]
  },
  {
   "cell_type": "code",
   "execution_count": 71,
   "id": "96538ffb",
   "metadata": {},
   "outputs": [
    {
     "data": {
      "text/latex": [
       "$\\displaystyle - 0.642787609686539 F_{bd} + F_{be} = 0$"
      ],
      "text/plain": [
       "Eq(-0.642787609686539*F_bd + F_be, 0)"
      ]
     },
     "execution_count": 71,
     "metadata": {},
     "output_type": "execute_result"
    }
   ],
   "source": [
    "equivalencia_F_be = sp.Eq(F_be - F_bd * sp.cos(angulo_BE), 0)\n",
    "expresion_equivalencia_F_be = F_bd * sp.cos(angulo_BE)\n",
    "equivalencia_F_be"
   ]
  },
  {
   "cell_type": "code",
   "execution_count": 72,
   "id": "642fc36e",
   "metadata": {},
   "outputs": [
    {
     "data": {
      "text/latex": [
       "$\\displaystyle 6.8 F_{bd} - 1.7 W = 0$"
      ],
      "text/plain": [
       "Eq(6.8*F_bd - 1.7*W, 0)"
      ]
     },
     "execution_count": 72,
     "metadata": {},
     "output_type": "execute_result"
    }
   ],
   "source": [
    "# Ralacion entre la ecuacion de ƩMA=0 y Compatibilidad en terminos de F_bd\n",
    "\n",
    "ecuacion = sp.Eq(M_a.subs([(F_bc, expresion_equivalencia_F_bc), (F_be, expresion_equivalencia_F_be)]), 0)\n",
    "ecuacion"
   ]
  },
  {
   "cell_type": "code",
   "execution_count": 73,
   "id": "d95cd4c9",
   "metadata": {},
   "outputs": [
    {
     "data": {
      "text/latex": [
       "$\\displaystyle 0.25 W$"
      ],
      "text/plain": [
       "0.25*W"
      ]
     },
     "execution_count": 73,
     "metadata": {},
     "output_type": "execute_result"
    }
   ],
   "source": [
    "F_bd_vs_W = sp.solve(ecuacion)[0][F_bd]\n",
    "F_bd_vs_W"
   ]
  },
  {
   "cell_type": "code",
   "execution_count": 74,
   "id": "83dbb9a8",
   "metadata": {},
   "outputs": [
    {
     "data": {
      "text/plain": [
       "[0.191511110779745*W, 0.25*W, 0.160696902421635*W]"
      ]
     },
     "execution_count": 74,
     "metadata": {},
     "output_type": "execute_result"
    }
   ],
   "source": [
    "# Dejar las incognitas F_bc y F_be en funcion de w\n",
    "\n",
    "bc = expresion_equivalencia_F_bc.subs(F_bd, F_bd_vs_W)\n",
    "be = expresion_equivalencia_F_be.subs(F_bd, F_bd_vs_W)\n",
    "fuerzas_cables = [bc, F_bd_vs_W, be]\n",
    "fuerzas_cables"
   ]
  },
  {
   "cell_type": "code",
   "execution_count": 86,
   "id": "ffba7518",
   "metadata": {},
   "outputs": [
    {
     "name": "stdout",
     "output_type": "stream",
     "text": [
      "10.2418956683405 15.2315371477884\n",
      "10.2418956683405 15.2315371477884\n",
      "10.2418956683405 15.2315371477884\n",
      "Carga máxima que soportan los cables [kN / m]\n",
      "\n"
     ]
    }
   ],
   "source": [
    "Wmax = []\n",
    "F_1 = sp.symbols('F_1')\n",
    "for fuerza in fuerzas_cables:\n",
    "    # Esfuerzo normal en los cables\n",
    "    \n",
    "    esfuerzo_normal = sp.Eq(F_1 / area_cables, esfuerzo_ultimo * 10 ** 6 / FS_ultimo)\n",
    "    W_cab = sp.solve(esfuerzo_normal)[0] / 1000\n",
    "    \n",
    "    # Esfuero cortante en los pasadores C, D y E\n",
    "    \n",
    "    esfuerzo_cortante = sp.Eq(F_1 / area_pasadores, esfuerzo_fluencia_corte * 10 ** 6 / FS)\n",
    "    W_pas = sp.solve(esfuerzo_cortante)[0] / 1000\n",
    "    print(W_cab, W_pas)\n",
    "    Wmax.append(W_cab)\n",
    "    Wmax.append(W_pas)\n",
    "\n",
    "print(\"Carga máxima que soportan los cables [kN / m]\")\n",
    "min(Wmax)\n",
    "print()"
   ]
  },
  {
   "cell_type": "code",
   "execution_count": 79,
   "id": "d5145776",
   "metadata": {},
   "outputs": [
    {
     "data": {
      "text/latex": [
       "$\\displaystyle 2.85519491142862 W$"
      ],
      "text/plain": [
       "2.85519491142862*W"
      ]
     },
     "execution_count": 79,
     "metadata": {},
     "output_type": "execute_result"
    }
   ],
   "source": [
    "# Analisis en los pasadores de la Barra AB\n",
    "\n",
    "Ay_eq = Fy.subs([(F_bc, expresion_equivalencia_F_bc), (F_be, expresion_equivalencia_F_be), (F_bd, F_bd_vs_W)])\n",
    "Ay_vs_W = sp.solve(sp.Eq(Ay_eq, 0))\n",
    "Ay_vs_W = Ay_vs_W[0][Ay]\n",
    "Ay_vs_W"
   ]
  },
  {
   "cell_type": "code",
   "execution_count": 80,
   "id": "c59e685d",
   "metadata": {},
   "outputs": [
    {
     "data": {
      "text/latex": [
       "$\\displaystyle - 2.77555756156289 \\cdot 10^{-17} W$"
      ],
      "text/plain": [
       "-2.77555756156289e-17*W"
      ]
     },
     "execution_count": 80,
     "metadata": {},
     "output_type": "execute_result"
    }
   ],
   "source": [
    "Ax_eq = Fx.subs([(F_bc, expresion_equivalencia_F_bc), (F_be, expresion_equivalencia_F_be), (F_bd, F_bd_vs_W)])\n",
    "Ax_vs_W = sp.solve(sp.Eq(Ax_eq, 0))\n",
    "Ax_vs_W = Ax_vs_W[0][Ax]\n",
    "Ax_vs_W"
   ]
  },
  {
   "cell_type": "code",
   "execution_count": 81,
   "id": "c90ec3d1",
   "metadata": {},
   "outputs": [
    {
     "data": {
      "text/latex": [
       "$\\displaystyle 2.85519491142862 \\sqrt{W^{2}}$"
      ],
      "text/plain": [
       "2.85519491142862*sqrt(W**2)"
      ]
     },
     "execution_count": 81,
     "metadata": {},
     "output_type": "execute_result"
    }
   ],
   "source": [
    "# FA = (Ax^2+Ay^2)^1/2\n",
    "\n",
    "F_A = sp.sqrt(Ay_vs_W ** 2 + Ax_vs_W ** 2)\n",
    "F_A"
   ]
  },
  {
   "cell_type": "code",
   "execution_count": 82,
   "id": "8a210f99",
   "metadata": {},
   "outputs": [
    {
     "data": {
      "text/latex": [
       "$\\displaystyle 0.5 \\sqrt{W^{2}}$"
      ],
      "text/plain": [
       "0.5*sqrt(W**2)"
      ]
     },
     "execution_count": 82,
     "metadata": {},
     "output_type": "execute_result"
    }
   ],
   "source": [
    "# Fuerza en B \n",
    "\n",
    "F_Bx = expresion_equivalencia_F_be.subs(F_bd, F_bd_vs_W) * sp.sin(angulo_BE) - expresion_equivalencia_F_bc.subs(F_bd, F_bd_vs_W) * sp.sin(angulo_BC)\n",
    "F_By = expresion_equivalencia_F_be.subs(F_bd, F_bd_vs_W) * sp.cos(angulo_BE) + expresion_equivalencia_F_bc.subs(F_bd, F_bd_vs_W) * sp.cos(angulo_BC) + F_bd_vs_W\n",
    "F_B = sp.sqrt(F_Bx ** 2 + F_By ** 2)\n",
    "F_B"
   ]
  },
  {
   "cell_type": "code",
   "execution_count": 85,
   "id": "2f08a5b5",
   "metadata": {},
   "outputs": [
    {
     "name": "stdout",
     "output_type": "stream",
     "text": [
      "Carga distribuida máxima por pasadores [kN / m]\n"
     ]
    },
    {
     "data": {
      "text/latex": [
       "$\\displaystyle 10.2418956683405$"
      ],
      "text/plain": [
       "10.2418956683405"
      ]
     },
     "execution_count": 85,
     "metadata": {},
     "output_type": "execute_result"
    }
   ],
   "source": [
    "fuerzas_apoyos = [F_A, F_B]\n",
    "w_max_apoyos = []\n",
    "for fuerza in fuerzas_apoyos:\n",
    "    esfuerzo_cortante = sp.Eq(fuerza / area_pasadores, FS_ultimo * 10 ** 6 / FS)\n",
    "    w_pasadores = sp.solve(esfuerzo_cortante)[0] / 1000\n",
    "    w_max_apoyos.append(w_pasadores)\n",
    "\n",
    "print(\"Carga máxima que soportan los pasadores [kN / m]\")\n",
    "carga_maxima = min(Wmax)\n",
    "carga_maxima"
   ]
  },
  {
   "cell_type": "markdown",
   "id": "de4d50f2",
   "metadata": {},
   "source": [
    "# Con la carga 10.2418956683405 [kN / m] (del numeral anterior), determine las reacciones, fuerzas ydeformaciones de todos los cables."
   ]
  },
  {
   "cell_type": "code",
   "execution_count": 87,
   "id": "be9a3b0c",
   "metadata": {},
   "outputs": [
    {
     "data": {
      "text/plain": [
       "(1.64584090882787, 0.401742256054086)"
      ]
     },
     "execution_count": 87,
     "metadata": {},
     "output_type": "execute_result"
    }
   ],
   "source": [
    "# Fuerza FBE y la deformacuon correspondiente \n",
    "\n",
    "valor_F_be = expresion_equivalencia_F_be.subs([(F_bd, F_bd_vs_W), (W, carga_maxima)])\n",
    "deformacion_F_be = (valor_F_be * 1000 * EB) / (area_cables * E * 10 ** 9)\n",
    "# fuerza en kN y deformacion en mm\n",
    "valor_F_be, deformacion_F_be * 1000"
   ]
  },
  {
   "cell_type": "code",
   "execution_count": 88,
   "id": "c19f2df1",
   "metadata": {},
   "outputs": [
    {
     "data": {
      "text/plain": [
       "(1.96143681593413, 0.478777776949361)"
      ]
     },
     "execution_count": 88,
     "metadata": {},
     "output_type": "execute_result"
    }
   ],
   "source": [
    "# Fuerza FBC y la deformacuon correspondiente \n",
    "\n",
    "valor_F_bc = expresion_equivalencia_F_bc.subs([(F_bd, F_bd_vs_W), (W, carga_maxima)])\n",
    "deformacion_F_bc = (valor_F_bc * 1000 * CB) / (area_cables * E * 10 ** 9)\n",
    "valor_F_bc, deformacion_F_bc * 1000"
   ]
  },
  {
   "cell_type": "code",
   "execution_count": 89,
   "id": "03a9135f",
   "metadata": {},
   "outputs": [
    {
     "data": {
      "text/plain": [
       "(2.56047391708511, 0.624999999999999)"
      ]
     },
     "execution_count": 89,
     "metadata": {},
     "output_type": "execute_result"
    }
   ],
   "source": [
    "# Fuerza FBD y la deformacuon correspondiente \n",
    "\n",
    "valor_F_bd = F_bd_vs_W.subs(W, carga_maxima)\n",
    "deformacion_F_bd = (valor_F_bd * 1000 * DB) / (area_cables * E * 10 ** 9)\n",
    "valor_F_bd, deformacion_F_bd * 1000"
   ]
  },
  {
   "cell_type": "code",
   "execution_count": 90,
   "id": "eb9b792c",
   "metadata": {},
   "outputs": [
    {
     "data": {
      "text/latex": [
       "$\\displaystyle -4.44089209850063 \\cdot 10^{-16}$"
      ],
      "text/plain": [
       "-4.44089209850063e-16"
      ]
     },
     "execution_count": 90,
     "metadata": {},
     "output_type": "execute_result"
    }
   ],
   "source": [
    "# Reaccion Ax\n",
    "\n",
    "valor_Ax = Fx.subs([(F_be, valor_F_be), (F_bc, valor_F_bc)])\n",
    "valor_Ax = sp.solve(sp.Eq(valor_Ax, 0))[0]\n",
    "valor_Ax"
   ]
  },
  {
   "cell_type": "code",
   "execution_count": 91,
   "id": "865f630f",
   "metadata": {},
   "outputs": [
    {
     "data": {
      "text/latex": [
       "$\\displaystyle 29.2426083956285$"
      ],
      "text/plain": [
       "29.2426083956285"
      ]
     },
     "execution_count": 91,
     "metadata": {},
     "output_type": "execute_result"
    }
   ],
   "source": [
    "# Reaccion Ay\n",
    "\n",
    "valor_Ay = Fy.subs([(F_be, valor_F_be), (F_bc, valor_F_bc), (F_bd, F_bd_vs_W), (W, carga_maxima)])\n",
    "valor_Ay = sp.solve(sp.Eq(valor_Ay, 0))[0]\n",
    "valor_Ay"
   ]
  },
  {
   "cell_type": "code",
   "execution_count": null,
   "id": "701c6265",
   "metadata": {},
   "outputs": [],
   "source": []
  }
 ],
 "metadata": {
  "kernelspec": {
   "display_name": "Python 3 (ipykernel)",
   "language": "python",
   "name": "python3"
  },
  "language_info": {
   "codemirror_mode": {
    "name": "ipython",
    "version": 3
   },
   "file_extension": ".py",
   "mimetype": "text/x-python",
   "name": "python",
   "nbconvert_exporter": "python",
   "pygments_lexer": "ipython3",
   "version": "3.8.10"
  }
 },
 "nbformat": 4,
 "nbformat_minor": 5
}
