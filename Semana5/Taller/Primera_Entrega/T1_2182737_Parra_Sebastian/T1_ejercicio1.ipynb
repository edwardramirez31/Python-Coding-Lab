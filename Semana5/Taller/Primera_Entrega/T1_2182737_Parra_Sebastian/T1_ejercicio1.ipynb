{
 "cells": [
  {
   "cell_type": "code",
   "execution_count": 383,
   "id": "9a357028",
   "metadata": {},
   "outputs": [],
   "source": [
    "import numpy as np\n",
    "from math import cos, sin\n",
    "import sympy as sp"
   ]
  },
  {
   "cell_type": "code",
   "execution_count": 384,
   "id": "63fbbe01",
   "metadata": {},
   "outputs": [
    {
     "name": "stdout",
     "output_type": "stream",
     "text": [
      "x es = 30\n"
     ]
    }
   ],
   "source": [
    "# Valor de x\n",
    "\n",
    "x=(2+1+8+2+7+3+7)\n",
    "print ('x es =',x)"
   ]
  },
  {
   "cell_type": "code",
   "execution_count": 385,
   "id": "249ab344",
   "metadata": {},
   "outputs": [],
   "source": [
    "# DATOS INICIALES\n",
    "\n",
    "# Barra \n",
    "L=0.2* x #en metros\n",
    "\n",
    "# Cables\n",
    "long_cable= (1.5*1000) #en mm\n",
    "\n",
    "diametro_cable_pulg= (1/4) #en pulgadas\n",
    "diametro_cable= (diametro_cable_pulg*25.4) #en mm\n",
    "\n",
    "area_cable= np.pi*(((diametro_cable)/2)**2) #en mm2\n",
    "\n",
    "# Pasadores\n",
    "diametro_pasador_pulg= (1/2) #en pulgadas\n",
    "diametro_pasador = (diametro_pasador_pulg*25.4) #en mm\n",
    "\n",
    "area_pasador=np.pi*(((diametro_pasador)/2)**2) #en mm2\n",
    "\n",
    "# Factores de seguridad\n",
    "\n",
    "fs_fluencia = 1.30       # respecto al esfuerzo de fluencia\n",
    "fs_esfuerzo_ult = 1.33   # respecto al esfuerzo último\n",
    "\n",
    "# Ángulos respecto a BD\n",
    "\n",
    "angulo_BC = 40*np.pi/180   # en grados\n",
    "angulo_BE = 50*np.pi/180   # en grados\n",
    "\n",
    "# Datos del material proporcinados por la tabla de acero ASTM A-36\n",
    "\n",
    "esfuerzo_ult = 400                 # esfuerzo último en MPa\n",
    "esfuerzo_fluencia_tension = 250    # esfuerzo fluencia a tension en MPa\n",
    "esfuerzo_fluencia_cortante = 145   # esfuerzo fluencia a cortante en MPa\n",
    "modulo_elasticidad = (200*1000)    # módulo de elasticidad en MPa"
   ]
  },
  {
   "cell_type": "code",
   "execution_count": 386,
   "id": "e63cbf53",
   "metadata": {
    "scrolled": true
   },
   "outputs": [],
   "source": [
    "# EQUILIBRIO EXTERNO\n",
    "\n",
    "#Incógnitas\n",
    "Ax, Ay, BC, BD, BE, W, By= sp.symbols('Ax, Ay, BC, BD, BE, W, By')\n"
   ]
  },
  {
   "cell_type": "code",
   "execution_count": 387,
   "id": "6abb0d5b",
   "metadata": {},
   "outputs": [
    {
     "data": {
      "text/latex": [
       "$\\displaystyle Ax - 0.642787609686539 BC + 0.766044443118978 BE = 0$"
      ],
      "text/plain": [
       "Eq(Ax - 0.642787609686539*BC + 0.766044443118978*BE, 0)"
      ]
     },
     "execution_count": 387,
     "metadata": {},
     "output_type": "execute_result"
    }
   ],
   "source": [
    "#Sumatoria de fuerzas en X\n",
    "sum_fx = Ax - BC*sin(angulo_BC) + BE*sin(angulo_BE)\n",
    "sum_fx_cero=sp.Eq(sum_fx,0)\n",
    "\n",
    "sum_fx_cero"
   ]
  },
  {
   "cell_type": "code",
   "execution_count": 388,
   "id": "483f5bf8",
   "metadata": {},
   "outputs": [
    {
     "data": {
      "text/latex": [
       "$\\displaystyle Ay + 0.766044443118978 BC + BD + 0.642787609686539 BE - W = 0$"
      ],
      "text/plain": [
       "Eq(Ay + 0.766044443118978*BC + BD + 0.642787609686539*BE - W, 0)"
      ]
     },
     "execution_count": 388,
     "metadata": {},
     "output_type": "execute_result"
    }
   ],
   "source": [
    "#Sumatoria de fuerzas en Y\n",
    "sum_fy = Ay - W + BC*cos(angulo_BC) + BD + BE*cos(angulo_BE)\n",
    "sum_fy_cero=sp.Eq(sum_fy,0)\n",
    "\n",
    "sum_fy_cero"
   ]
  },
  {
   "cell_type": "code",
   "execution_count": 389,
   "id": "2cf65deb",
   "metadata": {},
   "outputs": [
    {
     "data": {
      "text/latex": [
       "$\\displaystyle 4.59626665871387 BC + 6.0 BD + 3.85672565811924 BE - 18.0 W = 0$"
      ],
      "text/plain": [
       "Eq(4.59626665871387*BC + 6.0*BD + 3.85672565811924*BE - 18.0*W, 0)"
      ]
     },
     "execution_count": 389,
     "metadata": {},
     "output_type": "execute_result"
    }
   ],
   "source": [
    "#Sumatoria de momentos en A\n",
    "sum_momento_a = ((-W*L)*(L/2)) + BC*cos(angulo_BC)*L + BD*L + BE*cos(angulo_BE)*L\n",
    "sum_momento_a_cero=sp.Eq(sum_momento_a,0)\n",
    "\n",
    "sum_momento_a_cero"
   ]
  },
  {
   "cell_type": "code",
   "execution_count": 390,
   "id": "c4268269",
   "metadata": {},
   "outputs": [
    {
     "data": {
      "text/latex": [
       "$\\displaystyle BE = 0.642787609686539 BD$"
      ],
      "text/plain": [
       "Eq(BE, 0.642787609686539*BD)"
      ]
     },
     "execution_count": 390,
     "metadata": {},
     "output_type": "execute_result"
    }
   ],
   "source": [
    "# DESPLAZAMIENTOS PARA BE Y BD\n",
    "# partiendo de que desplazamiento = PL/AE\n",
    "\n",
    "# cos(angulo_BE)) = desplazamiento_BE / desplazamiento_BD, entonces  desplazamiento_BE - desplazamiento_BD*cos(angulo_BE) = 0\n",
    "# reemplazando las ecuaciones (BE*L/AE) - (BD*L/AE)*cos(angulo_BE) = 0\n",
    "# se obtiene que BE - BD*cos(angulo_BE) = 0\n",
    "# entonces BE = BD*cos(angulo_BE)\n",
    "\n",
    "relacion_BE_BD = sp.Eq(BE, BD*cos(angulo_BE))\n",
    "relacion_BE_BD"
   ]
  },
  {
   "cell_type": "code",
   "execution_count": 391,
   "id": "6191764e",
   "metadata": {},
   "outputs": [
    {
     "data": {
      "text/latex": [
       "$\\displaystyle BC = 0.766044443118978 BD$"
      ],
      "text/plain": [
       "Eq(BC, 0.766044443118978*BD)"
      ]
     },
     "execution_count": 391,
     "metadata": {},
     "output_type": "execute_result"
    }
   ],
   "source": [
    "# DESPLAZAMIENTOS PARA BC Y BD\n",
    "# partiendo de que desplazamiento = PL/AE\n",
    "\n",
    "# cos(angulo_BC) = desplazamiento_BC / desplazamiento_BD, entonces  desplazamiento_BC - desplazamiento_BD*cos(angulo_BC) = 0\n",
    "# reemplazando las ecuaciones (BC*L/AE) - (BD*L/AE)*cos(angulo_BC) = 0\n",
    "# se obtiene que BC - BD*cos(angulo_BC) = 0\n",
    "# entonces BC = BD*cos(angulo_BC)\n",
    "\n",
    "relacion_BC_BD = sp.Eq(BC, BD*cos(angulo_BC))\n",
    "relacion_BC_BD"
   ]
  },
  {
   "cell_type": "code",
   "execution_count": 392,
   "id": "867bcb5e",
   "metadata": {},
   "outputs": [
    {
     "data": {
      "text/latex": [
       "$\\displaystyle 12.0 BD - 18.0 W = 0$"
      ],
      "text/plain": [
       "Eq(12.0*BD - 18.0*W, 0)"
      ]
     },
     "execution_count": 392,
     "metadata": {},
     "output_type": "execute_result"
    }
   ],
   "source": [
    "# Es posible dejar BD en funcion de W, si se reemplaza BE y BC en la ecuación de momento\n",
    "\n",
    "momento_a_reemplazando_BE_BC = ((-W*L)*(L/2)) + 0.766044443118978*BD*cos(angulo_BC)*L + BD*L + 0.642787609686539*BD*cos(angulo_BE)*L\n",
    "sum_momento_a_cero_reemplazo=sp.Eq(momento_a_reemplazando_BE_BC,0)\n",
    "\n",
    "sum_momento_a_cero_reemplazo"
   ]
  },
  {
   "cell_type": "code",
   "execution_count": 393,
   "id": "6303eeb8",
   "metadata": {},
   "outputs": [
    {
     "data": {
      "text/latex": [
       "$\\displaystyle BD = \\frac{3 W}{2}$"
      ],
      "text/plain": [
       "Eq(BD, 3*W/2)"
      ]
     },
     "execution_count": 393,
     "metadata": {},
     "output_type": "execute_result"
    }
   ],
   "source": [
    "# Es posible dejar BD en función de W \n",
    "\n",
    "fuerza_BD_W = sp.Eq(BD, 18*W / 12)\n",
    "fuerza_BD_W"
   ]
  },
  {
   "cell_type": "code",
   "execution_count": 394,
   "id": "deab85ae",
   "metadata": {},
   "outputs": [
    {
     "data": {
      "text/latex": [
       "$\\displaystyle BE = 0.964181414529809 W$"
      ],
      "text/plain": [
       "Eq(BE, 0.964181414529809*W)"
      ]
     },
     "execution_count": 394,
     "metadata": {},
     "output_type": "execute_result"
    }
   ],
   "source": [
    "# Es posible dejar BE en función de W recordadno que BE=0.642787609686539 BD\n",
    "\n",
    "fuerza_BE_W = sp.Eq(BE, 0.642787609686539*(3*W/2))\n",
    "fuerza_BE_W"
   ]
  },
  {
   "cell_type": "code",
   "execution_count": 395,
   "id": "7de980ec",
   "metadata": {},
   "outputs": [
    {
     "data": {
      "text/latex": [
       "$\\displaystyle BC = 1.14906666467847 W$"
      ],
      "text/plain": [
       "Eq(BC, 1.14906666467847*W)"
      ]
     },
     "execution_count": 395,
     "metadata": {},
     "output_type": "execute_result"
    }
   ],
   "source": [
    "# Es posible dejar BC en función de W recordadno que BE=0.766044443118978 BD\n",
    "\n",
    "fuerza_BC_W = sp.Eq(BC, 0.766044443118978*(3*W/2))\n",
    "fuerza_BC_W"
   ]
  },
  {
   "cell_type": "code",
   "execution_count": 396,
   "id": "82bab615",
   "metadata": {},
   "outputs": [
    {
     "name": "stdout",
     "output_type": "stream",
     "text": [
      "La carga distribuida W máxima para el pasador C es:  2049.3941737626706 Newtons/metro\n"
     ]
    }
   ],
   "source": [
    "# CÁLCULO DE W MÁXIMO PARA EL PASADOR C\n",
    "\n",
    "# Se tiene que esfuerzo es F/A, para los pasadores el esfuerzo a cortante máximo es 145 MPa y el factor de seguridad de \n",
    "# fluencia es fs_fluencia por lo tanto F/A = esfuerzo_fluencia_cortante/fs_fluencia, entonces F = (145/fs_fluencia)*area_pasador\n",
    "\n",
    "#para el pasador C se tiene: 1.14906666467847*W = (esfuerzo_fluencia_cortante/fs_fluencia)*area_pasador  \n",
    "#entonces la W maxima de este pasador es W= ((esfuerzo_fluencia_cortante/fs_fluencia)*area_pasador)/1.14906666467847\n",
    "\n",
    "W_max_pasador_C = ((esfuerzo_fluencia_cortante/fs_fluencia)*area_pasador)/1.14906666467847\n",
    "\n",
    "# si damos W como carga distribuida\n",
    "W_max_pasador_C_dist = W_max_pasador_C / L\n",
    "\n",
    "print('La carga distribuida W máxima para el pasador C es: ', W_max_pasador_C_dist, 'Newtons/metro')"
   ]
  },
  {
   "cell_type": "code",
   "execution_count": 397,
   "id": "0c58c3f5",
   "metadata": {},
   "outputs": [
    {
     "name": "stdout",
     "output_type": "stream",
     "text": [
      "La carga distribuida W máxima para el pasador D es:  1569.927018571307 Newtons/metro\n"
     ]
    }
   ],
   "source": [
    "# CÁLCULO DE W MÁXIMO PARA EL PASADOR D\n",
    "\n",
    "#para el pasador D se tiene: 1.5*W = (esfuerzo_fluencia_cortante/fs_fluencia)*area_pasador  \n",
    "#entonces la W maxima de este pasador es W= ((esfuerzo_fluencia_cortante/fs_fluencia)*area_pasador)/1.5\n",
    "\n",
    "W_max_pasador_D = ((esfuerzo_fluencia_cortante/fs_fluencia)*area_pasador)/1.5\n",
    "\n",
    "# si damos W como carga distribuida\n",
    "W_max_pasador_D_dist = W_max_pasador_D / L\n",
    "\n",
    "print('La carga distribuida W máxima para el pasador D es: ', W_max_pasador_D_dist, 'Newtons/metro')"
   ]
  },
  {
   "cell_type": "code",
   "execution_count": 398,
   "id": "1f43e04e",
   "metadata": {},
   "outputs": [
    {
     "name": "stdout",
     "output_type": "stream",
     "text": [
      "La carga distribuida W máxima para el pasador E es:  2442.372869223311 Newtons/metro\n"
     ]
    }
   ],
   "source": [
    "# CÁLCULO DE W MÁXIMO PARA EL PASADOR E\n",
    "\n",
    "#para el pasador E se tiene: 0.964181414529809*W = (esfuerzo_fluencia_cortante/fs_fluencia)*area_pasador  \n",
    "#entonces la W maxima de este pasador es W= ((esfuerzo_fluencia_cortante/fs_fluencia)*area_pasador)/0.964181414529809\n",
    "\n",
    "W_max_pasador_E = ((esfuerzo_fluencia_cortante/fs_fluencia)*area_pasador)/0.964181414529809\n",
    "\n",
    "# si damos W como carga distribuida\n",
    "W_max_pasador_E_dist = W_max_pasador_E / L\n",
    "\n",
    "print('La carga distribuida W máxima para el pasador E es: ', W_max_pasador_E_dist, 'Newtons/metro')"
   ]
  },
  {
   "cell_type": "code",
   "execution_count": 399,
   "id": "361b3909",
   "metadata": {},
   "outputs": [
    {
     "name": "stdout",
     "output_type": "stream",
     "text": [
      "La carga distribuida W máxima para el cable BC es:  1381.4946465602652 Newtons/metro\n"
     ]
    }
   ],
   "source": [
    "# CÁLCULO DE W MÁXIMO PARA EL CABLE BC\n",
    "\n",
    "# Se tiene que esfuerzo es F/A, para los cables el esfuerzo a tensión máximo es 400 MPa y el factor de seguridad respecto \n",
    "# al esfuerzo ultimo es es 1.33 por lo tanto F/A = esfuerzo_ult/fs_esfuerzo_ult, \n",
    "# entonces F = (esfuerzo_ult/fs_esfuerzo_ult)*area_cable\n",
    "\n",
    "#para el cable BC se tiene: 1.14906666467847*W = (esfuerzo_ult/fs_esfuerzo_ult)*area_cable  \n",
    "#entonces la W maxima de este cable es W= ((esfuerzo_ult/fs_esfuerzo_ult)*area_cable)/1.14906666467847\n",
    "\n",
    "W_max_cable_BC = ((esfuerzo_ult/fs_esfuerzo_ult)*area_cable)/1.14906666467847\n",
    "\n",
    "# si damos W como carga distribuida\n",
    "W_max_cable_BC_dist = W_max_cable_BC / L\n",
    "\n",
    "print('La carga distribuida W máxima para el cable BC es: ', W_max_cable_BC_dist, 'Newtons/metro')"
   ]
  },
  {
   "cell_type": "code",
   "execution_count": 400,
   "id": "636ff595",
   "metadata": {},
   "outputs": [
    {
     "name": "stdout",
     "output_type": "stream",
     "text": [
      "La carga distribuida W máxima para el cable BD es:  1058.2862971961106 Newtons/metro\n"
     ]
    }
   ],
   "source": [
    "# CÁLCULO DE W MÁXIMO PARA EL CABLE BD\n",
    "\n",
    "#para el cable BD se tiene: 1.5*W = (esfuerzo_ult/fs_esfuerzo_ult)*area_cable  \n",
    "#entonces la W maxima de este cable es W= ((esfuerzo_ult/fs_esfuerzo_ult)*area_cable)/1.5\n",
    "\n",
    "W_max_cable_BD = ((esfuerzo_ult/fs_esfuerzo_ult)*area_cable)/1.5\n",
    "\n",
    "# si damos W como carga distribuida\n",
    "W_max_cable_BD_dist = W_max_cable_BD / L\n",
    "\n",
    "print('La carga distribuida W máxima para el cable BD es: ', W_max_cable_BD_dist, 'Newtons/metro')"
   ]
  },
  {
   "cell_type": "code",
   "execution_count": 401,
   "id": "9be54d0c",
   "metadata": {},
   "outputs": [
    {
     "name": "stdout",
     "output_type": "stream",
     "text": [
      "La carga distribuida W máxima para el cable BE es:  1646.4012081878684 Newtons/metro\n"
     ]
    }
   ],
   "source": [
    "# CÁLCULO DE W MÁXIMO PARA EL CABLE BE\n",
    "\n",
    "#para el cable BE se tiene: 0.964181414529809*W = (esfuerzo_ult/fs_esfuerzo_ult)*area_cable  \n",
    "#entonces la W maxima de este cable es W= ((esfuerzo_ult/fs_esfuerzo_ult)*area_cable)/0.964181414529809\n",
    "\n",
    "W_max_cable_BE = ((esfuerzo_ult/fs_esfuerzo_ult)*area_cable)/0.964181414529809\n",
    "\n",
    "# si damos W como carga distribuida\n",
    "W_max_cable_BE_dist = W_max_cable_BE / L\n",
    "\n",
    "print('La carga distribuida W máxima para el cable BE es: ', W_max_cable_BE_dist, 'Newtons/metro')"
   ]
  },
  {
   "cell_type": "code",
   "execution_count": 402,
   "id": "2f219275",
   "metadata": {},
   "outputs": [
    {
     "data": {
      "text/latex": [
       "$\\displaystyle Ay = - 2.0 W$"
      ],
      "text/plain": [
       "Eq(Ay, -2.0*W)"
      ]
     },
     "execution_count": 402,
     "metadata": {},
     "output_type": "execute_result"
    }
   ],
   "source": [
    "# DETERMINANDO Ay en funcion de W\n",
    "\n",
    "# Se reemplaza en la ecuacion de sumatoria de fuerzas en Y para que quede Ay en funcion de W\n",
    "\n",
    "# recordando la ecuacion: sum_fy = 𝐴𝑦 + 0.766044443118978𝐵𝐶 + 𝐵𝐷 + 0.642787609686539𝐵𝐸 − 𝑊 = 0\n",
    "\n",
    "# quedando asi:  sum_fy_W = 𝐴𝑦 + 0.766044443118978*1.14906666467847*W + 1.5*W + 0.642787609686539*0.964181414529809*W − W\n",
    "\n",
    "Ay_W = -(0.766044443118978*1.14906666467847*W + 1.5*W + 0.642787609686539*0.964181414529809*W - W)\n",
    "Ay_funcion_W = sp.Eq(Ay, Ay_W)\n",
    "Ay_funcion_W \n"
   ]
  },
  {
   "cell_type": "code",
   "execution_count": 403,
   "id": "ccb974b5",
   "metadata": {},
   "outputs": [
    {
     "data": {
      "text/latex": [
       "$\\displaystyle Ax = 1.88737914186277 \\cdot 10^{-15} W$"
      ],
      "text/plain": [
       "Eq(Ax, 1.88737914186277e-15*W)"
      ]
     },
     "execution_count": 403,
     "metadata": {},
     "output_type": "execute_result"
    }
   ],
   "source": [
    "# DETERMINANDO Ax en funcion de W\n",
    "\n",
    "# Se reemplaza en la ecuacion de sumatoria de fuerzas en X para que quede Ax en funcion de W\n",
    "\n",
    "# recordando la ecuacion: sum_fx = Ax - BC*sin(angulo_BC) + BE*sin(angulo_BE) = 0\n",
    "\n",
    "# quedando asi:  sum_fy_W = 𝐴x - 1.14906666467847*W*sin(angulo_BC) + 0.964181414529809*W*sin(angulo_BE)\n",
    "\n",
    "Ax_W = 1.14906666467847*W*sin(angulo_BC) - 0.964181414529809*W*sin(angulo_BE)\n",
    "Ax_funcion_W = sp.Eq(Ax, Ax_W)\n",
    "Ax_funcion_W "
   ]
  },
  {
   "cell_type": "code",
   "execution_count": 404,
   "id": "66389b89",
   "metadata": {},
   "outputs": [
    {
     "name": "stdout",
     "output_type": "stream",
     "text": [
      "La carga distribuida W máxima para el pasador A es:  -2354.8905278569605 Newtons/metro\n"
     ]
    }
   ],
   "source": [
    "# MÁXIMA CARGA PARA CORTANTE DOBLE EN A CON W DISTRIBUIDA\n",
    "\n",
    "# A partir de que esfuerzo en cortante doble es P/2A\n",
    "\n",
    "#para el pasador A se tiene: -2*W = (esfuerzo_fluencia_cortante/fs_fluencia)*(2*area_pasador)\n",
    "#entonces la W maxima de este pasador es W= ((esfuerzo_fluencia_cortante/fs_fluencia)*2*area_pasador/-2\n",
    "\n",
    "W_max_pasador_A = ((esfuerzo_fluencia_cortante/fs_fluencia)*area_pasador*2)/-2\n",
    "\n",
    "# si damos W como carga distribuida\n",
    "W_max_pasador_A_dist = W_max_pasador_A / L\n",
    "\n",
    "print('La carga distribuida W máxima para el pasador A es: ', W_max_pasador_A_dist, 'Newtons/metro')"
   ]
  },
  {
   "cell_type": "code",
   "execution_count": 405,
   "id": "7954f650",
   "metadata": {},
   "outputs": [
    {
     "data": {
      "text/latex": [
       "$\\displaystyle By = 3.22164314675427 W$"
      ],
      "text/plain": [
       "Eq(By, 3.22164314675427*W)"
      ]
     },
     "execution_count": 405,
     "metadata": {},
     "output_type": "execute_result"
    }
   ],
   "source": [
    "# FUERZAS EN Y QUE LLEGAN AL PASADOR B\n",
    "\n",
    "# W_pasador_B = suma de fuerzas W que llegan al punto B desde los cables\n",
    "\n",
    "# W_pasador_B = (BC*cos(angulo_BC) + BD + BE(angulo_BE))\n",
    "\n",
    "\n",
    "fuerza_By_W = sp.Eq(By, (1.14906666467847*cos(angulo_BC) + 1.5 + 0.964181414529809*(angulo_BE))*W)\n",
    "fuerza_By_W"
   ]
  },
  {
   "cell_type": "code",
   "execution_count": 406,
   "id": "8b4501ae",
   "metadata": {},
   "outputs": [
    {
     "name": "stdout",
     "output_type": "stream",
     "text": [
      "La carga distribuida W máxima para el pasador B es:  1461.918915649896 Newtons/metro\n"
     ]
    }
   ],
   "source": [
    "# MÁXIMA CARGA PARA CORTANTE DOBLE EN B CON W DISTRIBUIDA\n",
    "\n",
    "# A partir de que esfuerzo en cortante doble es P/2A\n",
    "\n",
    "#para el pasador B se tiene: 3.22164314675427*W = (esfuerzo_fluencia_cortante/fs_fluencia)*(2*area_pasador)\n",
    "#entonces la W maxima de este pasador es W= ((esfuerzo_fluencia_cortante/fs_fluencia)*2*area_pasador/3.22164314675427\n",
    "\n",
    "W_max_pasador_B = ((esfuerzo_fluencia_cortante/fs_fluencia)*area_pasador*2)/3.22164314675427\n",
    "\n",
    "# si damos W como carga distribuida\n",
    "W_max_pasador_B_dist = W_max_pasador_B / L\n",
    "\n",
    "print('La carga distribuida W máxima para el pasador B es: ', W_max_pasador_B_dist, 'Newtons/metro')"
   ]
  },
  {
   "cell_type": "code",
   "execution_count": 407,
   "id": "a87156bb",
   "metadata": {},
   "outputs": [
    {
     "name": "stdout",
     "output_type": "stream",
     "text": [
      "El valor de W máxima distribuida sin que falle ningun pasador ni cable es:  1058.2862971961106 Newtons/metro\n"
     ]
    }
   ],
   "source": [
    "# SELECCIÓN DE CARGA W DISTRIBUIDA MÁXIMA PARA EL SISTEMA\n",
    "\n",
    "# Se hace un resumen de todos los valores de W distribuida maxima que resisten los pasadores y cables\n",
    "\n",
    "# Valores para los pasadores:  Pasador A = -2354.8905278569605 Newtons/metro\n",
    "#                              Pasador B = 1461.918915649896 Newtons/metro\n",
    "#                              Pasador C = 2049.3941737626706 Newtons/metro\n",
    "#                              Pasador D = 1569.927018571307 Newtons/metro\n",
    "#                              Pasador E = 2442.372869223311 Newtons/metro\n",
    "# Valores para los cables:     Cable BC  = 1381.4946465602652 Newtons/metro\n",
    "#                              Cable BD  = 1058.2862971961106 Newtons/metro\n",
    "#                              Cable BE  = 1646.4012081878684 Newtons/metro\n",
    "\n",
    "# Se toman todos estos valores y se escoge el de menor magnitud para el valor de W máxima distribuida\n",
    "\n",
    "\n",
    "valores_W= [2354.8905278569605, \n",
    "            1461.918915649896, \n",
    "            2049.3941737626706,\n",
    "            1569.927018571307,\n",
    "            2442.372869223311,\n",
    "            1381.4946465602652,\n",
    "            1058.2862971961106,\n",
    "            1646.4012081878684]\n",
    "\n",
    "\n",
    "W_max_distribuida_posible = min(valores_W)\n",
    "print ('El valor de W máxima distribuida sin que falle ningun pasador ni cable es: ',W_max_distribuida_posible,'Newtons/metro')"
   ]
  },
  {
   "cell_type": "code",
   "execution_count": 408,
   "id": "23b3ac4c",
   "metadata": {},
   "outputs": [
    {
     "data": {
      "text/latex": [
       "$\\displaystyle Ay = -12699.4355663533$"
      ],
      "text/plain": [
       "Eq(Ay, -12699.4355663533)"
      ]
     },
     "execution_count": 408,
     "metadata": {},
     "output_type": "execute_result"
    }
   ],
   "source": [
    "# VALOR DE Ay REEMPLAZANDO LA W MÁXIMA DE TODO EL SISTEMA en NEWTONS\n",
    "\n",
    "# Se vuelve W como una carga puntual\n",
    "\n",
    "W_puntual = W_max_distribuida_posible * L\n",
    "\n",
    "Valor_Ay = sp.Eq(Ay, -2*W_puntual)\n",
    "Valor_Ay"
   ]
  },
  {
   "cell_type": "code",
   "execution_count": 409,
   "id": "1026dcb1",
   "metadata": {},
   "outputs": [
    {
     "data": {
      "text/latex": [
       "$\\displaystyle Ax = 0$"
      ],
      "text/plain": [
       "Eq(Ax, 0)"
      ]
     },
     "execution_count": 409,
     "metadata": {},
     "output_type": "execute_result"
    }
   ],
   "source": [
    "# VALOR DE Ax REEMPLAZANDO LA W MÁXIMA DE TODO EL SISTEMA en NEWTONS\n",
    "\n",
    "Valor_Ax = sp.Eq(Ax, 0)\n",
    "Valor_Ax"
   ]
  },
  {
   "cell_type": "code",
   "execution_count": 410,
   "id": "8388f106",
   "metadata": {},
   "outputs": [
    {
     "data": {
      "text/latex": [
       "$\\displaystyle BC = 7296.24903476438$"
      ],
      "text/plain": [
       "Eq(BC, 7296.24903476438)"
      ]
     },
     "execution_count": 410,
     "metadata": {},
     "output_type": "execute_result"
    }
   ],
   "source": [
    "# VALOR DE FUERZA EN EL CABLE BC REEMPLAZANDO LA W MÁXIMA DE TODO EL SISTEMA en NEWTONS\n",
    "\n",
    "Fuerza_BC = sp.Eq(BC, 1.14906666467847*W_puntual)\n",
    "Fuerza_BC"
   ]
  },
  {
   "cell_type": "code",
   "execution_count": 411,
   "id": "e350eafe",
   "metadata": {},
   "outputs": [
    {
     "data": {
      "text/latex": [
       "$\\displaystyle BD = 9524.576674765$"
      ],
      "text/plain": [
       "Eq(BD, 9524.576674765)"
      ]
     },
     "execution_count": 411,
     "metadata": {},
     "output_type": "execute_result"
    }
   ],
   "source": [
    "# VALOR DE FUERZA EN EL CABLE BD REEMPLAZANDO LA W MÁXIMA DE TODO EL SISTEMA en NEWTONS\n",
    "\n",
    "Fuerza_BD = sp.Eq(BD, 1.5*W_puntual)\n",
    "Fuerza_BD"
   ]
  },
  {
   "cell_type": "code",
   "execution_count": 412,
   "id": "e5d8de19",
   "metadata": {},
   "outputs": [
    {
     "data": {
      "text/latex": [
       "$\\displaystyle BE = 6122.27987404836$"
      ],
      "text/plain": [
       "Eq(BE, 6122.27987404836)"
      ]
     },
     "execution_count": 412,
     "metadata": {},
     "output_type": "execute_result"
    }
   ],
   "source": [
    "# VALOR DE FUERZA EN EL CABLE BE REEMPLAZANDO LA W MÁXIMA DE TODO EL SISTEMA en NEWTONS\n",
    "\n",
    "Fuerza_BE = sp.Eq(BE, 0.964181414529809*W_puntual)\n",
    "Fuerza_BE"
   ]
  },
  {
   "cell_type": "code",
   "execution_count": 413,
   "id": "dbd27946",
   "metadata": {},
   "outputs": [
    {
     "name": "stdout",
     "output_type": "stream",
     "text": [
      "la deformación del cable BC es:  1.7279197965089783 mm\n"
     ]
    }
   ],
   "source": [
    "# DEFORMACIÓN DEL CABLE BC APLICANDO W MÁXIMA\n",
    "\n",
    "# Partiendo de que deformación unitaria = Esfuerzo normal/Modulo de elasticidad, tambien sabiendo que esfuerzo = fuerza/area\n",
    "\n",
    "deformacion_unitaria_BC = (7296.24903476438/area_cable)/modulo_elasticidad\n",
    "\n",
    "# Se multiplica la deformación unitaria del cable por su longitud y asi hallar la deformación de este\n",
    "\n",
    "deformacion_BC = (deformacion_unitaria_BC*long_cable)\n",
    "\n",
    "print ('la deformación del cable BC es: ',deformacion_BC,'mm')"
   ]
  },
  {
   "cell_type": "code",
   "execution_count": 414,
   "id": "38ed028a",
   "metadata": {},
   "outputs": [
    {
     "name": "stdout",
     "output_type": "stream",
     "text": [
      "la deformación del cable BD es:  2.255639097744362 mm\n"
     ]
    }
   ],
   "source": [
    "# DEFORMACIÓN DEL CABLE BD APLICANDO W MÁXIMA\n",
    "\n",
    "\n",
    "deformacion_unitaria_BD = (9524.576674765/area_cable)/modulo_elasticidad\n",
    "\n",
    "deformacion_BD = (deformacion_unitaria_BD*long_cable)\n",
    "\n",
    "print ('la deformación del cable BD es: ',deformacion_BD,'mm')"
   ]
  },
  {
   "cell_type": "code",
   "execution_count": 415,
   "id": "9156fa32",
   "metadata": {},
   "outputs": [
    {
     "name": "stdout",
     "output_type": "stream",
     "text": [
      "la deformación del cable BE es:  1.4498968639546006 mm\n"
     ]
    }
   ],
   "source": [
    "# DEFORMACIÓN DEL CABLE BE APLICANDO W MÁXIMA\n",
    "\n",
    "\n",
    "deformacion_unitaria_BE = (6122.27987404836/area_cable)/modulo_elasticidad\n",
    "\n",
    "deformacion_BE = (deformacion_unitaria_BE*long_cable)\n",
    "\n",
    "print ('la deformación del cable BE es: ',deformacion_BE,'mm')"
   ]
  }
 ],
 "metadata": {
  "kernelspec": {
   "display_name": "Python 3 (ipykernel)",
   "language": "python",
   "name": "python3"
  },
  "language_info": {
   "codemirror_mode": {
    "name": "ipython",
    "version": 3
   },
   "file_extension": ".py",
   "mimetype": "text/x-python",
   "name": "python",
   "nbconvert_exporter": "python",
   "pygments_lexer": "ipython3",
   "version": "3.8.10"
  }
 },
 "nbformat": 4,
 "nbformat_minor": 5
}
