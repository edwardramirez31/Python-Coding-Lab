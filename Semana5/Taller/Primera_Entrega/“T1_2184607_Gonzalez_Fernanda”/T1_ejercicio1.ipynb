{
 "cells": [
  {
   "cell_type": "code",
   "execution_count": 227,
   "id": "82b92e8f",
   "metadata": {},
   "outputs": [],
   "source": [
    "import numpy as np\n",
    "import sympy as sp"
   ]
  },
  {
   "cell_type": "code",
   "execution_count": 228,
   "id": "0911a76f",
   "metadata": {},
   "outputs": [],
   "source": [
    "# Datos de los cables\n",
    "# Metros \n",
    "longitud_c = 1.5\n",
    "# Milimetros \n",
    "diametro_c = 6.35\n",
    "# mm 2\n",
    "area_c = np.pi * (diametro_c) ** 2 / 4\n",
    "\n",
    "# Datos de los pasadores\n",
    "# Milimetros \n",
    "diametro_p = 12.7\n",
    "# mm2\n",
    "area_p = np.pi * (diametro_p) ** 2 / 4\n",
    "\n",
    "# Valor de X para el ejercicio\n",
    "codigo = \"2184607\"\n",
    "X = sum ([int(i) for i in codigo])\n",
    "\n",
    "# Hallar longitud de la viga (m)\n",
    "L = 0.2 * X\n",
    "\n",
    "# Factores de seguridad\n",
    "FS_fluencia = float (f\"1.{X}\")\n",
    "FS_resistencia_ultima = float(f\"1.{X + 3}\") \n",
    "\n",
    "# Angulos a radianes\n",
    "angulo_BC = 40 * np.pi / 180\n",
    "angulo_BE = 50 * np.pi / 180"
   ]
  },
  {
   "cell_type": "code",
   "execution_count": 229,
   "id": "8d25c20d",
   "metadata": {},
   "outputs": [],
   "source": [
    "# Propiedades del material\n",
    "\n",
    "# MPa \n",
    "# Esfuerzo ultimo\n",
    "Esf_ultimo = 400\n",
    "\n",
    "# Esfuerzo de fluencia corte\n",
    "Esf_cortante =145\n",
    "\n",
    "# Modulo de elasticidad\n",
    "# MPa \n",
    "E = 200"
   ]
  },
  {
   "cell_type": "code",
   "execution_count": 230,
   "id": "fbdde2e7",
   "metadata": {},
   "outputs": [],
   "source": [
    "# Equilibrio\n",
    "# Unidades (Mpa)\n",
    "# Incognitas\n",
    "Ax, Ay, BC, BD, BE, W = sp.symbols('Ax Ay BC BD BE W')"
   ]
  },
  {
   "cell_type": "code",
   "execution_count": 231,
   "id": "b67e98af",
   "metadata": {},
   "outputs": [
    {
     "data": {
      "text/latex": [
       "$\\displaystyle Ax - 0.642787609686539 BC + 0.766044443118978 BE = 0$"
      ],
      "text/plain": [
       "Eq(Ax - 0.642787609686539*BC + 0.766044443118978*BE, 0)"
      ]
     },
     "execution_count": 231,
     "metadata": {},
     "output_type": "execute_result"
    }
   ],
   "source": [
    "# Ecuación equilibrio eje X\n",
    "Fx = Ax - BC * sp.sin(angulo_BC) + BE * sp.sin(angulo_BE)\n",
    "equilibrio_x = sp.Eq(Fx,0)\n",
    "equilibrio_x"
   ]
  },
  {
   "cell_type": "code",
   "execution_count": 232,
   "id": "468f5a22",
   "metadata": {},
   "outputs": [
    {
     "data": {
      "text/latex": [
       "$\\displaystyle Ay + 0.766044443118978 BC + BD + 0.642787609686539 BE - 5.6 W = 0$"
      ],
      "text/plain": [
       "Eq(Ay + 0.766044443118978*BC + BD + 0.642787609686539*BE - 5.6*W, 0)"
      ]
     },
     "execution_count": 232,
     "metadata": {},
     "output_type": "execute_result"
    }
   ],
   "source": [
    "# Ecuación equilibrio eje Y\n",
    "Fy = Ay + BC * sp.cos(angulo_BC) + BE * sp.cos(angulo_BE) - W * L + BD\n",
    "equilibrio_y = sp.Eq(Fy,0)\n",
    "equilibrio_y"
   ]
  },
  {
   "cell_type": "code",
   "execution_count": 233,
   "id": "8a7d9e4a",
   "metadata": {},
   "outputs": [
    {
     "data": {
      "text/latex": [
       "$\\displaystyle 4.28984888146628 BC + 5.6 BD + 3.59961061424462 BE - 15.68 W = 0$"
      ],
      "text/plain": [
       "Eq(4.28984888146628*BC + 5.6*BD + 3.59961061424462*BE - 15.68*W, 0)"
      ]
     },
     "execution_count": 233,
     "metadata": {},
     "output_type": "execute_result"
    }
   ],
   "source": [
    "# Ecuación de equilibrio momentos\n",
    "Momento_A = -W * L ** 2/2 + BD * L + BC * sp.cos(angulo_BC) * L + BE * sp.cos(angulo_BE) *L\n",
    "equilibrio_MA = sp.Eq(Momento_A,0)\n",
    "equilibrio_MA"
   ]
  },
  {
   "cell_type": "code",
   "execution_count": 234,
   "id": "0aabcd7b",
   "metadata": {},
   "outputs": [
    {
     "data": {
      "text/latex": [
       "$\\displaystyle 0.642787609686539 BC - 0.766044443118978 BE = 0$"
      ],
      "text/plain": [
       "Eq(0.642787609686539*BC - 0.766044443118978*BE, 0)"
      ]
     },
     "execution_count": 234,
     "metadata": {},
     "output_type": "execute_result"
    }
   ],
   "source": [
    "# Ecuación de compatibilidad\n",
    "# Con el desplazamiento del cable BD podemos relacionar los desplazaientos en BC y BE\n",
    "\n",
    "ecuacion_compatibilidad_1 = sp.Eq(BC * sp.cos(angulo_BE) - BE * sp.cos(angulo_BC),0)\n",
    "expresion_equivalencia_BC = BE * sp.cos(angulo_BC) / sp.cos (angulo_BE)\n",
    "ecuacion_compatibilidad_1"
   ]
  },
  {
   "cell_type": "code",
   "execution_count": 235,
   "id": "da5ab9f1",
   "metadata": {},
   "outputs": [
    {
     "data": {
      "text/plain": [
       "[{BD: 1.55572382686041*BE}]"
      ]
     },
     "execution_count": 235,
     "metadata": {},
     "output_type": "execute_result"
    }
   ],
   "source": [
    "BC_VS_BE=sp.solve(ecuacion_compatibilidad)\n",
    "BC_VS_BE"
   ]
  },
  {
   "cell_type": "code",
   "execution_count": 236,
   "id": "18c9d410",
   "metadata": {},
   "outputs": [
    {
     "data": {
      "text/latex": [
       "$\\displaystyle - 0.642787609686539 BD + BE = 0$"
      ],
      "text/plain": [
       "Eq(-0.642787609686539*BD + BE, 0)"
      ]
     },
     "execution_count": 236,
     "metadata": {},
     "output_type": "execute_result"
    }
   ],
   "source": [
    "# Ecuación de compatibilidad\n",
    "\n",
    "ecuacion_compatibilidad_2 = sp.Eq(BE - BD *sp.cos(angulo_BE),0)\n",
    "expresion_equivalencia_BE = BD * sp.cos(angulo_BE)\n",
    "ecuacion_compatibilidad_2"
   ]
  },
  {
   "cell_type": "code",
   "execution_count": 237,
   "id": "41150c8a",
   "metadata": {},
   "outputs": [
    {
     "data": {
      "text/plain": [
       "[{BD: 1.55572382686041*BE}]"
      ]
     },
     "execution_count": 237,
     "metadata": {},
     "output_type": "execute_result"
    }
   ],
   "source": [
    "BD_VS_BE=sp.solve(ecuacion_compatibilidad_2)\n",
    "BD_VS_BE"
   ]
  },
  {
   "cell_type": "code",
   "execution_count": 238,
   "id": "68a0bd08",
   "metadata": {},
   "outputs": [
    {
     "data": {
      "text/latex": [
       "$\\displaystyle Ax = 0$"
      ],
      "text/plain": [
       "Eq(Ax, 0)"
      ]
     },
     "execution_count": 238,
     "metadata": {},
     "output_type": "execute_result"
    }
   ],
   "source": [
    "# Reemplazo en la ecuaciones de equilibrio\n",
    "# Eje X\n",
    "Ecuación_1 = sp.Eq(Fx.subs([(BC,expresion_equivalencia_BC),(BE,expresion_equivalencia_BE)]),0)\n",
    "Ecuación_1              "
   ]
  },
  {
   "cell_type": "code",
   "execution_count": 239,
   "id": "f96f73e6",
   "metadata": {},
   "outputs": [
    {
     "data": {
      "text/latex": [
       "$\\displaystyle Ay + 2.0 BD - 5.6 W = 0$"
      ],
      "text/plain": [
       "Eq(Ay + 2.0*BD - 5.6*W, 0)"
      ]
     },
     "execution_count": 239,
     "metadata": {},
     "output_type": "execute_result"
    }
   ],
   "source": [
    "# Reemplazo en la ecuaciones de equilibrio\n",
    "# Eje Y\n",
    "Ecuación_2 = sp.Eq(Fy.subs([(BC,expresion_equivalencia_BC),(BE,expresion_equivalencia_BE),(BD,BD_VS_BE)]),0)\n",
    "Ecuación_2 \n"
   ]
  },
  {
   "cell_type": "code",
   "execution_count": 240,
   "id": "5e74d591",
   "metadata": {},
   "outputs": [
    {
     "data": {
      "text/latex": [
       "$\\displaystyle 11.2 BD - 15.68 W = 0$"
      ],
      "text/plain": [
       "Eq(11.2*BD - 15.68*W, 0)"
      ]
     },
     "execution_count": 240,
     "metadata": {},
     "output_type": "execute_result"
    }
   ],
   "source": [
    "# Reemplazo en la ecuaciones de equilibrio Momento en A\n",
    "Ecuación_3 = sp.Eq(Momento_A.subs([(BC,expresion_equivalencia_BC),(BE,expresion_equivalencia_BE),(BD,BD_VS_BE)]),0)\n",
    "Ecuación_3"
   ]
  },
  {
   "cell_type": "code",
   "execution_count": 241,
   "id": "ad85d91b",
   "metadata": {},
   "outputs": [
    {
     "data": {
      "text/latex": [
       "$\\displaystyle 1.5 W$"
      ],
      "text/plain": [
       "1.5*W"
      ]
     },
     "execution_count": 241,
     "metadata": {},
     "output_type": "execute_result"
    }
   ],
   "source": [
    "# FUERZA BD en funcion de W\n",
    "BD_VS_W = sp.solve(12.0*BD-18.0*W)[0][BD]\n",
    "BD_VS_W"
   ]
  },
  {
   "cell_type": "code",
   "execution_count": 242,
   "id": "d2ee687b",
   "metadata": {},
   "outputs": [
    {
     "data": {
      "text/latex": [
       "$\\displaystyle Ay - 3.0 W = 0$"
      ],
      "text/plain": [
       "Eq(Ay - 3.0*W, 0)"
      ]
     },
     "execution_count": 242,
     "metadata": {},
     "output_type": "execute_result"
    }
   ],
   "source": [
    "# En la Ecucion_2 reemplazamos BD\n",
    "# valor de Ay en funcion de W\n",
    "Valor_Ay = sp.Eq((Ay+2.0*BD-6.0*W).subs([(BD,BD_VS_W)]),0)\n",
    "Valor_Ay"
   ]
  },
  {
   "cell_type": "code",
   "execution_count": 243,
   "id": "ed97202f",
   "metadata": {},
   "outputs": [
    {
     "data": {
      "text/latex": [
       "$\\displaystyle 3.0 W$"
      ],
      "text/plain": [
       "3.0*W"
      ]
     },
     "execution_count": 243,
     "metadata": {},
     "output_type": "execute_result"
    }
   ],
   "source": [
    "# FUERZA Ay en funcion de W\n",
    "Ay_VS_W = sp.solve(Valor_Ay)[0][Ay]\n",
    "Ay_VS_W"
   ]
  },
  {
   "cell_type": "code",
   "execution_count": 244,
   "id": "8614f96a",
   "metadata": {},
   "outputs": [
    {
     "data": {
      "text/latex": [
       "$\\displaystyle BE - 0.964181414529809 W = 0$"
      ],
      "text/plain": [
       "Eq(BE - 0.964181414529809*W, 0)"
      ]
     },
     "execution_count": 244,
     "metadata": {},
     "output_type": "execute_result"
    }
   ],
   "source": [
    "# Con la ecuacion de expresion de equivalencia de la fuerza BE se reemplaza la fuerza que se hallo de BD\n",
    "# FUERZA BE en funcion de W\n",
    "Valor_BE = sp.Eq((BE - BD *sp.cos(angulo_BE)).subs([(BD,BD_VS_W)]),0)\n",
    "Valor_BE            "
   ]
  },
  {
   "cell_type": "code",
   "execution_count": 245,
   "id": "4767b3dc",
   "metadata": {},
   "outputs": [
    {
     "data": {
      "text/latex": [
       "$\\displaystyle 0.964181414529809 W$"
      ],
      "text/plain": [
       "0.964181414529809*W"
      ]
     },
     "execution_count": 245,
     "metadata": {},
     "output_type": "execute_result"
    }
   ],
   "source": [
    "# FUERZA BE en funcion de W\n",
    "BE_VS_W = sp.solve(Valor_BE)[0][BE]\n",
    "BE_VS_W"
   ]
  },
  {
   "cell_type": "code",
   "execution_count": 246,
   "id": "ad5d5524",
   "metadata": {},
   "outputs": [
    {
     "data": {
      "text/latex": [
       "$\\displaystyle 0.642787609686539 BC - 0.738605814759156 W = 0$"
      ],
      "text/plain": [
       "Eq(0.642787609686539*BC - 0.738605814759156*W, 0)"
      ]
     },
     "execution_count": 246,
     "metadata": {},
     "output_type": "execute_result"
    }
   ],
   "source": [
    "# FUERZA BC en funcion de W\n",
    "Valor_BC = sp.Eq((BC * sp.cos(angulo_BE) - BE * sp.cos(angulo_BC)).subs([(BE,BE_VS_W)]),0)\n",
    "Valor_BC"
   ]
  },
  {
   "cell_type": "code",
   "execution_count": 247,
   "id": "42315887",
   "metadata": {},
   "outputs": [
    {
     "data": {
      "text/latex": [
       "$\\displaystyle 1.14906666467847 W$"
      ],
      "text/plain": [
       "1.14906666467847*W"
      ]
     },
     "execution_count": 247,
     "metadata": {},
     "output_type": "execute_result"
    }
   ],
   "source": [
    "# FUERZA BC en funcion de W\n",
    "BC_VS_W = sp.solve(Valor_BC)[0][BC]\n",
    "BC_VS_W"
   ]
  },
  {
   "cell_type": "code",
   "execution_count": 248,
   "id": "0bb722d7",
   "metadata": {},
   "outputs": [
    {
     "data": {
      "text/plain": [
       "12488.495726918716"
      ]
     },
     "execution_count": 248,
     "metadata": {},
     "output_type": "execute_result"
    }
   ],
   "source": [
    "# Analisis para pasadores por cortante simple\n",
    "# para C,D,E\n",
    "# carga en[ N] Para C\n",
    "W_C = ((Esf_cortante*(np.pi/4)*(diametro_p)**2)/(FS_fluencia*1.14906666646784))\n",
    "W_C"
   ]
  },
  {
   "cell_type": "code",
   "execution_count": 250,
   "id": "ff57ffbe",
   "metadata": {},
   "outputs": [
    {
     "data": {
      "text/plain": [
       "9566.742769418901"
      ]
     },
     "execution_count": 250,
     "metadata": {},
     "output_type": "execute_result"
    }
   ],
   "source": [
    "# carga en [N] Para D\n",
    "W_D = ((Esf_cortante*(np.pi/4)*(diametro_p)**2)/(FS_fluencia*1.5))\n",
    "W_D"
   ]
  },
  {
   "cell_type": "code",
   "execution_count": 251,
   "id": "5d16cf4a",
   "metadata": {},
   "outputs": [
    {
     "data": {
      "text/plain": [
       "14883.209671829552"
      ]
     },
     "execution_count": 251,
     "metadata": {},
     "output_type": "execute_result"
    }
   ],
   "source": [
    "# carga en [N]Para E\n",
    "W_E = ((Esf_cortante*(np.pi/4)*(diametro_p)**2)/(FS_fluencia*0.964181414529809))\n",
    "W_E"
   ]
  },
  {
   "cell_type": "code",
   "execution_count": 252,
   "id": "a7819a32",
   "metadata": {},
   "outputs": [
    {
     "data": {
      "text/plain": [
       "9566.742769418901"
      ]
     },
     "execution_count": 252,
     "metadata": {},
     "output_type": "execute_result"
    }
   ],
   "source": [
    "# Analisis por cortante doble \n",
    "# carga en [N] para A y B\n",
    "# carga en [N]Para A\n",
    "W_A = ((Esf_cortante*(2*np.pi/4)*(diametro_p)**2)/(FS_fluencia*3.0))\n",
    "W_A"
   ]
  },
  {
   "cell_type": "code",
   "execution_count": 253,
   "id": "a0d2ce05",
   "metadata": {},
   "outputs": [
    {
     "data": {
      "text/plain": [
       "10252.131965056118"
      ]
     },
     "execution_count": 253,
     "metadata": {},
     "output_type": "execute_result"
    }
   ],
   "source": [
    "# EN ESTE PASADOR ACTUAN 3 FUERZAS POR LO QUE SE SACA UNA RESULTANTE DE ELLAS CUYA MAGNITUD FUE DE 2.79944\n",
    "# carga en [N]Para B\n",
    "W_B = ((Esf_cortante*(2*np.pi/4)*(diametro_p)**2)/(FS_fluencia*2.79944))\n",
    "W_B"
   ]
  },
  {
   "cell_type": "code",
   "execution_count": 254,
   "id": "e3aa4420",
   "metadata": {},
   "outputs": [
    {
     "data": {
      "text/plain": [
       "8415.517007290777"
      ]
     },
     "execution_count": 254,
     "metadata": {},
     "output_type": "execute_result"
    }
   ],
   "source": [
    "# Analisis para cables \n",
    "# para cable BC\n",
    "# carga en [N]Para BC\n",
    "W_BC = ((Esf_ultimo*(np.pi/4)*(diametro_c)**2)/(FS_resistencia_ultima*1.14906666467847))\n",
    "W_BC"
   ]
  },
  {
   "cell_type": "code",
   "execution_count": 255,
   "id": "379ed7b0",
   "metadata": {},
   "outputs": [
    {
     "data": {
      "text/plain": [
       "6446.660039408367"
      ]
     },
     "execution_count": 255,
     "metadata": {},
     "output_type": "execute_result"
    }
   ],
   "source": [
    "# Cable BD\n",
    "# carga en [N]Para BD\n",
    "W_BD = ((Esf_ultimo*(np.pi/4)*(diametro_c)**2)/(FS_resistencia_ultima*1.5))\n",
    "W_BD"
   ]
  },
  {
   "cell_type": "code",
   "execution_count": 256,
   "id": "7a196d52",
   "metadata": {},
   "outputs": [
    {
     "data": {
      "text/plain": [
       "10029.222626976483"
      ]
     },
     "execution_count": 256,
     "metadata": {},
     "output_type": "execute_result"
    }
   ],
   "source": [
    "# Cable BE\n",
    "# Carga en [N]Para BE\n",
    "W_BE = ((Esf_ultimo*(np.pi/4)*(diametro_c)**2)/(FS_resistencia_ultima*0.964181414529809))\n",
    "W_BE"
   ]
  },
  {
   "cell_type": "code",
   "execution_count": 258,
   "id": "da9d7f3c",
   "metadata": {},
   "outputs": [],
   "source": [
    "#El valor de W sería de 6446.660039408367[N] "
   ]
  }
 ],
 "metadata": {
  "kernelspec": {
   "display_name": "Python 3 (ipykernel)",
   "language": "python",
   "name": "python3"
  },
  "language_info": {
   "codemirror_mode": {
    "name": "ipython",
    "version": 3
   },
   "file_extension": ".py",
   "mimetype": "text/x-python",
   "name": "python",
   "nbconvert_exporter": "python",
   "pygments_lexer": "ipython3",
   "version": "3.8.10"
  }
 },
 "nbformat": 4,
 "nbformat_minor": 5
}
