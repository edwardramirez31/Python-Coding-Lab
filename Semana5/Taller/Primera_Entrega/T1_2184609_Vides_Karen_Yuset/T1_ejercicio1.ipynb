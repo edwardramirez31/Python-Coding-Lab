{
 "cells": [
  {
   "cell_type": "code",
   "execution_count": 10,
   "id": "d01916d4",
   "metadata": {},
   "outputs": [],
   "source": [
    "import numpy as np\n",
    "import sympy as sp"
   ]
  },
  {
   "cell_type": "code",
   "execution_count": 11,
   "id": "3b87e169",
   "metadata": {},
   "outputs": [],
   "source": [
    "# Datos cables\n",
    "# Metros (m)\n",
    "longitud_c = 1.5\n",
    "# Milimetros (mm)\n",
    "diametro_c = 6.35\n",
    "# mm 2\n",
    "area_c = np.pi * (diametro_c) ** 2 / 4\n",
    "\n",
    "# Datos pasadores\n",
    "# Milimetros (mm)\n",
    "diametro_p = 12.7\n",
    "# mm2\n",
    "area_p = np.pi * (diametro_p) ** 2 / 4\n",
    "\n",
    "# Como se obtuvo el valor de X para el ejercicio\n",
    "codigo = \"2184609\"\n",
    "X = sum ([int(i) for i in codigo])\n",
    "\n",
    "# Para hallar longitud de la viga (m)\n",
    "L = 0.2 * X\n",
    "\n",
    "# Para obtener los factores de seguridad\n",
    "FS_fluencia = float (f\"1.{X}\")\n",
    "FS_resistencia_ultima = float(f\"1.{X + 3}\") \n",
    "\n",
    "# Angulos a radianes\n",
    "angulo_BC = 40 * np.pi / 180\n",
    "angulo_BE = 50 * np.pi / 180"
   ]
  },
  {
   "cell_type": "code",
   "execution_count": 12,
   "id": "87e51624",
   "metadata": {},
   "outputs": [],
   "source": [
    "# Propiedades del material\n",
    "\n",
    "# Unidades (MPa)\n",
    "# Esfuerzo ultimo\n",
    "Esf_ult = 400\n",
    "# Esfuerzo de fluencia corte\n",
    "Esf_c =145\n",
    "# Modulo de elasticidad\n",
    "# Unidades (MPa)\n",
    "E = 200"
   ]
  },
  {
   "cell_type": "code",
   "execution_count": 13,
   "id": "5379d446",
   "metadata": {},
   "outputs": [],
   "source": [
    "# Equilibrio\n",
    "# Unidades (Mpa)\n",
    "# Incognitas\n",
    "Ax, Ay, BC, BD, BE, W = sp.symbols('Ax Ay BC BD BE W')"
   ]
  },
  {
   "cell_type": "code",
   "execution_count": 14,
   "id": "a04c9392",
   "metadata": {},
   "outputs": [
    {
     "data": {
      "text/latex": [
       "$\\displaystyle Ax - 0.642787609686539 BC + 0.766044443118978 BE = 0$"
      ],
      "text/plain": [
       "Eq(Ax - 0.642787609686539*BC + 0.766044443118978*BE, 0)"
      ]
     },
     "execution_count": 14,
     "metadata": {},
     "output_type": "execute_result"
    }
   ],
   "source": [
    "# Ecuación equilibrio eje X\n",
    "Fx = Ax - BC * sp.sin(angulo_BC) + BE * sp.sin(angulo_BE)\n",
    "equilibrio_x = sp.Eq(Fx,0)\n",
    "equilibrio_x"
   ]
  },
  {
   "cell_type": "code",
   "execution_count": 15,
   "id": "11ee5b9b",
   "metadata": {},
   "outputs": [
    {
     "data": {
      "text/latex": [
       "$\\displaystyle Ay + 0.766044443118978 BC + BD + 0.642787609686539 BE - 6.0 W = 0$"
      ],
      "text/plain": [
       "Eq(Ay + 0.766044443118978*BC + BD + 0.642787609686539*BE - 6.0*W, 0)"
      ]
     },
     "execution_count": 15,
     "metadata": {},
     "output_type": "execute_result"
    }
   ],
   "source": [
    "# Ecuación equilibrio eje Y\n",
    "Fy = Ay + BC * sp.cos(angulo_BC) + BE * sp.cos(angulo_BE) - W * L + BD\n",
    "equilibrio_y = sp.Eq(Fy,0)\n",
    "equilibrio_y"
   ]
  },
  {
   "cell_type": "code",
   "execution_count": 16,
   "id": "26054267",
   "metadata": {},
   "outputs": [
    {
     "data": {
      "text/latex": [
       "$\\displaystyle 4.59626665871387 BC + 6.0 BD + 3.85672565811924 BE - 18.0 W = 0$"
      ],
      "text/plain": [
       "Eq(4.59626665871387*BC + 6.0*BD + 3.85672565811924*BE - 18.0*W, 0)"
      ]
     },
     "execution_count": 16,
     "metadata": {},
     "output_type": "execute_result"
    }
   ],
   "source": [
    "# Ecuación de equilibrio momentos\n",
    "Momento_A = -W * L ** 2/2 + BD * L + BC * sp.cos(angulo_BC) * L + BE * sp.cos(angulo_BE) *L\n",
    "equilibrio_MA = sp.Eq(Momento_A,0)\n",
    "equilibrio_MA"
   ]
  },
  {
   "cell_type": "code",
   "execution_count": 17,
   "id": "2e355d16",
   "metadata": {},
   "outputs": [
    {
     "data": {
      "text/latex": [
       "$\\displaystyle 0.642787609686539 BC - 0.766044443118978 BE = 0$"
      ],
      "text/plain": [
       "Eq(0.642787609686539*BC - 0.766044443118978*BE, 0)"
      ]
     },
     "execution_count": 17,
     "metadata": {},
     "output_type": "execute_result"
    }
   ],
   "source": [
    "# Ecuación de compatibilidad\n",
    "# Con el desplazamiento del cable BD podemos relacionar los desplazaientos en BC y BE\n",
    "\n",
    "ecuacion_compatibilidad_1 = sp.Eq(BC * sp.cos(angulo_BE) - BE * sp.cos(angulo_BC),0)\n",
    "expresion_equivalencia_BC = BE * sp.cos(angulo_BC) / sp.cos (angulo_BE)\n",
    "ecuacion_compatibilidad_1"
   ]
  },
  {
   "cell_type": "code",
   "execution_count": 18,
   "id": "4afe15e3",
   "metadata": {},
   "outputs": [
    {
     "ename": "NameError",
     "evalue": "name 'ecuacion_compatibilidad' is not defined",
     "output_type": "error",
     "traceback": [
      "\u001b[0;31m---------------------------------------------------------------------------\u001b[0m",
      "\u001b[0;31mNameError\u001b[0m                                 Traceback (most recent call last)",
      "\u001b[0;32m/tmp/ipykernel_52239/1383744567.py\u001b[0m in \u001b[0;36m<module>\u001b[0;34m\u001b[0m\n\u001b[0;32m----> 1\u001b[0;31m \u001b[0mBC_VS_BE\u001b[0m\u001b[0;34m=\u001b[0m\u001b[0msp\u001b[0m\u001b[0;34m.\u001b[0m\u001b[0msolve\u001b[0m\u001b[0;34m(\u001b[0m\u001b[0mecuacion_compatibilidad\u001b[0m\u001b[0;34m)\u001b[0m\u001b[0;34m\u001b[0m\u001b[0;34m\u001b[0m\u001b[0m\n\u001b[0m\u001b[1;32m      2\u001b[0m \u001b[0mBC_VS_BE\u001b[0m\u001b[0;34m\u001b[0m\u001b[0;34m\u001b[0m\u001b[0m\n",
      "\u001b[0;31mNameError\u001b[0m: name 'ecuacion_compatibilidad' is not defined"
     ]
    }
   ],
   "source": [
    "BC_VS_BE=sp.solve(ecuacion_compatibilidad)\n",
    "BC_VS_BE"
   ]
  },
  {
   "cell_type": "code",
   "execution_count": 139,
   "id": "d541115c",
   "metadata": {},
   "outputs": [
    {
     "data": {
      "text/latex": [
       "$\\displaystyle - 0.642787609686539 BD + BE = 0$"
      ],
      "text/plain": [
       "Eq(-0.642787609686539*BD + BE, 0)"
      ]
     },
     "execution_count": 139,
     "metadata": {},
     "output_type": "execute_result"
    }
   ],
   "source": [
    "# Ecuación de compatibilidad\n",
    "\n",
    "ecuacion_compatibilidad_2 = sp.Eq(BE - BD *sp.cos(angulo_BE),0)\n",
    "expresion_equivalencia_BE = BD * sp.cos(angulo_BE)\n",
    "ecuacion_compatibilidad_2"
   ]
  },
  {
   "cell_type": "code",
   "execution_count": 140,
   "id": "20ce5e5a",
   "metadata": {},
   "outputs": [
    {
     "data": {
      "text/plain": [
       "[{BD: 1.55572382686041*BE}]"
      ]
     },
     "execution_count": 140,
     "metadata": {},
     "output_type": "execute_result"
    }
   ],
   "source": [
    "BD_VS_BE=sp.solve(ecuacion_compatibilidad_2)\n",
    "BD_VS_BE"
   ]
  },
  {
   "cell_type": "code",
   "execution_count": 141,
   "id": "46285c43",
   "metadata": {},
   "outputs": [
    {
     "data": {
      "text/latex": [
       "$\\displaystyle Ax = 0$"
      ],
      "text/plain": [
       "Eq(Ax, 0)"
      ]
     },
     "execution_count": 141,
     "metadata": {},
     "output_type": "execute_result"
    }
   ],
   "source": [
    "# Reemplazo en la ecuaciones de equilibrio\n",
    "# Eje X\n",
    "Ecuación_1 = sp.Eq(Fx.subs([(BC,expresion_equivalencia_BC),(BE,expresion_equivalencia_BE)]),0)\n",
    "Ecuación_1              "
   ]
  },
  {
   "cell_type": "code",
   "execution_count": 142,
   "id": "5e2e85ca",
   "metadata": {},
   "outputs": [
    {
     "data": {
      "text/latex": [
       "$\\displaystyle Ay + 2.0 BD - 6.0 W = 0$"
      ],
      "text/plain": [
       "Eq(Ay + 2.0*BD - 6.0*W, 0)"
      ]
     },
     "execution_count": 142,
     "metadata": {},
     "output_type": "execute_result"
    }
   ],
   "source": [
    "# Reemplazo en la ecuaciones de equilibrio\n",
    "# Eje Y\n",
    "Ecuación_2 = sp.Eq(Fy.subs([(BC,expresion_equivalencia_BC),(BE,expresion_equivalencia_BE),(BD,BD_VS_BE)]),0)\n",
    "Ecuación_2 \n"
   ]
  },
  {
   "cell_type": "code",
   "execution_count": 143,
   "id": "a5eff5fb",
   "metadata": {},
   "outputs": [
    {
     "data": {
      "text/latex": [
       "$\\displaystyle 12.0 BD - 18.0 W = 0$"
      ],
      "text/plain": [
       "Eq(12.0*BD - 18.0*W, 0)"
      ]
     },
     "execution_count": 143,
     "metadata": {},
     "output_type": "execute_result"
    }
   ],
   "source": [
    "# Reemplazo en la ecuaciones de equilibrio Momento en A\n",
    "Ecuación_3 = sp.Eq(Momento_A.subs([(BC,expresion_equivalencia_BC),(BE,expresion_equivalencia_BE),(BD,BD_VS_BE)]),0)\n",
    "Ecuación_3"
   ]
  },
  {
   "cell_type": "code",
   "execution_count": 144,
   "id": "9f17561d",
   "metadata": {},
   "outputs": [
    {
     "data": {
      "text/latex": [
       "$\\displaystyle 1.5 W$"
      ],
      "text/plain": [
       "1.5*W"
      ]
     },
     "execution_count": 144,
     "metadata": {},
     "output_type": "execute_result"
    }
   ],
   "source": [
    "#FUERZA BD en funcion de W\n",
    "BD_VS_W=sp.solve(12.0*BD-18.0*W)[0][BD]\n",
    "BD_VS_W"
   ]
  },
  {
   "cell_type": "code",
   "execution_count": 145,
   "id": "33c291a7",
   "metadata": {},
   "outputs": [
    {
     "data": {
      "text/latex": [
       "$\\displaystyle Ay - 3.0 W = 0$"
      ],
      "text/plain": [
       "Eq(Ay - 3.0*W, 0)"
      ]
     },
     "execution_count": 145,
     "metadata": {},
     "output_type": "execute_result"
    }
   ],
   "source": [
    "#En la Ecucion_2 reemplazamos BD\n",
    "#valor de Ay en funcion de W\n",
    "Valor_Ay = sp.Eq((Ay+2.0*BD-6.0*W).subs([(BD,BD_VS_W)]),0)\n",
    "Valor_Ay"
   ]
  },
  {
   "cell_type": "code",
   "execution_count": 146,
   "id": "65c40282",
   "metadata": {},
   "outputs": [
    {
     "data": {
      "text/latex": [
       "$\\displaystyle 3.0 W$"
      ],
      "text/plain": [
       "3.0*W"
      ]
     },
     "execution_count": 146,
     "metadata": {},
     "output_type": "execute_result"
    }
   ],
   "source": [
    "#FUERZA Ay en funcion de W\n",
    "Ay_VS_W=sp.solve(Valor_Ay)[0][Ay]\n",
    "Ay_VS_W"
   ]
  },
  {
   "cell_type": "code",
   "execution_count": 153,
   "id": "7d84e852",
   "metadata": {},
   "outputs": [
    {
     "data": {
      "text/latex": [
       "$\\displaystyle BE - 0.964181414529809 W = 0$"
      ],
      "text/plain": [
       "Eq(BE - 0.964181414529809*W, 0)"
      ]
     },
     "execution_count": 153,
     "metadata": {},
     "output_type": "execute_result"
    }
   ],
   "source": [
    "#Con la ecuacion de expresion de equivalencia de la fuerza BE se reemplaza la fuerza que se hallo de BD\n",
    "#FUERZA BE en funcion de W\n",
    "Valor_BE= sp.Eq((BE - BD *sp.cos(angulo_BE)).subs([(BD,BD_VS_W)]),0)\n",
    "Valor_BE            "
   ]
  },
  {
   "cell_type": "code",
   "execution_count": 154,
   "id": "cb50f188",
   "metadata": {},
   "outputs": [
    {
     "data": {
      "text/latex": [
       "$\\displaystyle 0.964181414529809 W$"
      ],
      "text/plain": [
       "0.964181414529809*W"
      ]
     },
     "execution_count": 154,
     "metadata": {},
     "output_type": "execute_result"
    }
   ],
   "source": [
    "#FUERZA BE en funcion de W\n",
    "BE_VS_W=sp.solve(Valor_BE)[0][BE]\n",
    "BE_VS_W"
   ]
  },
  {
   "cell_type": "code",
   "execution_count": 157,
   "id": "a6ffa4e1",
   "metadata": {},
   "outputs": [
    {
     "data": {
      "text/latex": [
       "$\\displaystyle 0.642787609686539 BC - 0.738605814759156 W = 0$"
      ],
      "text/plain": [
       "Eq(0.642787609686539*BC - 0.738605814759156*W, 0)"
      ]
     },
     "execution_count": 157,
     "metadata": {},
     "output_type": "execute_result"
    }
   ],
   "source": [
    "#FUERZA BC en funcion de W\n",
    "Valor_BC= sp.Eq((BC * sp.cos(angulo_BE) - BE * sp.cos(angulo_BC)).subs([(BE,BE_VS_W)]),0)\n",
    "Valor_BC"
   ]
  },
  {
   "cell_type": "code",
   "execution_count": 158,
   "id": "fabd60f7",
   "metadata": {},
   "outputs": [
    {
     "data": {
      "text/latex": [
       "$\\displaystyle 1.14906666467847 W$"
      ],
      "text/plain": [
       "1.14906666467847*W"
      ]
     },
     "execution_count": 158,
     "metadata": {},
     "output_type": "execute_result"
    }
   ],
   "source": [
    "#FUERZA BC en funcion de W\n",
    "BC_VS_W=sp.solve(Valor_BC)[0][BC]\n",
    "BC_VS_W"
   ]
  },
  {
   "cell_type": "code",
   "execution_count": 177,
   "id": "ecb2d0fd",
   "metadata": {},
   "outputs": [
    {
     "data": {
      "text/plain": [
       "12296.365023427657"
      ]
     },
     "execution_count": 177,
     "metadata": {},
     "output_type": "execute_result"
    }
   ],
   "source": [
    "#Analisis para pasadores por cortante simple\n",
    "#para C,D,E\n",
    "#carga en[ N] Para C\n",
    "W_C= ((Esf_c*(np.pi/4)*(diametro_p)**2)/(FS_fluencia*1.14906666646784))\n",
    "W_C"
   ]
  },
  {
   "cell_type": "code",
   "execution_count": 178,
   "id": "1d83e739",
   "metadata": {},
   "outputs": [
    {
     "data": {
      "text/plain": [
       "9419.56211142784"
      ]
     },
     "execution_count": 178,
     "metadata": {},
     "output_type": "execute_result"
    }
   ],
   "source": [
    "#carga en [N] Para D\n",
    "W_D= ((Esf_c*(np.pi/4)*(diametro_p)**2)/(FS_fluencia*1.5))\n",
    "W_D"
   ]
  },
  {
   "cell_type": "code",
   "execution_count": 179,
   "id": "a9fc0533",
   "metadata": {},
   "outputs": [
    {
     "data": {
      "text/plain": [
       "14654.237215339866"
      ]
     },
     "execution_count": 179,
     "metadata": {},
     "output_type": "execute_result"
    }
   ],
   "source": [
    "#carga en [N]Para E\n",
    "W_E= ((Esf_c*(np.pi/4)*(diametro_p)**2)/(FS_fluencia*0.964181414529809))\n",
    "W_E"
   ]
  },
  {
   "cell_type": "code",
   "execution_count": 181,
   "id": "b80d819d",
   "metadata": {},
   "outputs": [
    {
     "data": {
      "text/plain": [
       "9419.56211142784"
      ]
     },
     "execution_count": 181,
     "metadata": {},
     "output_type": "execute_result"
    }
   ],
   "source": [
    "#Analisis por cortante doble \n",
    "#carga en [N] para A y B\n",
    "#carga en [N]Para A\n",
    "W_A=((Esf_c*(2*np.pi/4)*(diametro_p)**2)/(FS_fluencia*3.0))\n",
    "W_A"
   ]
  },
  {
   "cell_type": "code",
   "execution_count": 182,
   "id": "9a2b279b",
   "metadata": {},
   "outputs": [
    {
     "data": {
      "text/plain": [
       "9438.438989406653"
      ]
     },
     "execution_count": 182,
     "metadata": {},
     "output_type": "execute_result"
    }
   ],
   "source": [
    "#EN ESTE PASADOR ACTUAN 3 FUERZAS POR LO QUE SE SACA UNA RESULTANTE DE ELLAS CUYA MAGNITUD FUE DE 2.994\n",
    "#carga en [N]Para B\n",
    "W_B=((Esf_c*(2*np.pi/4)*(diametro_p)**2)/(FS_fluencia*2.994))\n",
    "W_B"
   ]
  },
  {
   "cell_type": "code",
   "execution_count": 183,
   "id": "4273b831",
   "metadata": {},
   "outputs": [
    {
     "data": {
      "text/plain": [
       "8288.967879361591"
      ]
     },
     "execution_count": 183,
     "metadata": {},
     "output_type": "execute_result"
    }
   ],
   "source": [
    "#Analisis para cables \n",
    "#para cable BC\n",
    "#carga en [N]Para BC\n",
    "W_BC=((Esf_ult*(np.pi/4)*(diametro_c)**2)/(FS_resistencia_ultima*1.14906666467847))\n",
    "W_BC"
   ]
  },
  {
   "cell_type": "code",
   "execution_count": 184,
   "id": "ff9162e6",
   "metadata": {},
   "outputs": [
    {
     "data": {
      "text/plain": [
       "6349.717783176663"
      ]
     },
     "execution_count": 184,
     "metadata": {},
     "output_type": "execute_result"
    }
   ],
   "source": [
    "#para cable BD\n",
    "#carga en [N]Para BD\n",
    "W_BD=((Esf_ult*(np.pi/4)*(diametro_c)**2)/(FS_resistencia_ultima*1.5))\n",
    "W_BD"
   ]
  },
  {
   "cell_type": "code",
   "execution_count": 185,
   "id": "3863f7bb",
   "metadata": {},
   "outputs": [
    {
     "data": {
      "text/plain": [
       "9878.40724912721"
      ]
     },
     "execution_count": 185,
     "metadata": {},
     "output_type": "execute_result"
    }
   ],
   "source": [
    "#para cable BE\n",
    "#carga en [N]Para BE\n",
    "W_BE=((Esf_ult*(np.pi/4)*(diametro_c)**2)/(FS_resistencia_ultima*0.964181414529809))\n",
    "W_BE"
   ]
  },
  {
   "cell_type": "code",
   "execution_count": null,
   "id": "fdfaac3b",
   "metadata": {},
   "outputs": [],
   "source": [
    "#TENIENDO EN CUENTA LOS VALORES DE CARGA ENCONTRADOS PARA CADA TIPO DE POSIBLE FALLA SE CONCLUYE QUE W PUEDE TENER UN VALOR MAX DE 6349.717783176663[N] "
   ]
  }
 ],
 "metadata": {
  "kernelspec": {
   "display_name": "Python 3 (ipykernel)",
   "language": "python",
   "name": "python3"
  },
  "language_info": {
   "codemirror_mode": {
    "name": "ipython",
    "version": 3
   },
   "file_extension": ".py",
   "mimetype": "text/x-python",
   "name": "python",
   "nbconvert_exporter": "python",
   "pygments_lexer": "ipython3",
   "version": "3.8.10"
  }
 },
 "nbformat": 4,
 "nbformat_minor": 5
}
