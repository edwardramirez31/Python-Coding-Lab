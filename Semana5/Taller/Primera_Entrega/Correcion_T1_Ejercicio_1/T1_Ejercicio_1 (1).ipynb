{
 "cells": [
  {
   "cell_type": "code",
   "execution_count": 1,
   "id": "78bd4e13",
   "metadata": {},
   "outputs": [],
   "source": [
    "import numpy as np\n",
    "import sympy as sp"
   ]
  },
  {
   "cell_type": "code",
   "execution_count": 2,
   "id": "a50fd9b1",
   "metadata": {},
   "outputs": [],
   "source": [
    "# Datos cables\n",
    "# Metros (m)\n",
    "longitud_c = 1.5\n",
    "# Milimetros (mm)\n",
    "diametro_c = (1/4)*25.4\n",
    "# mm 2\n",
    "area_c = (np.pi * (diametro_c) ** 2) / 4\n",
    "\n",
    "# Datos pasadores\n",
    "# Milimetros (mm)\n",
    "diametro_p = (1/2)*25.4\n",
    "# mm2\n",
    "area_p = (np.pi * (diametro_p) ** 2 )/ 4\n",
    "\n",
    "# Como se obtuvo el valor de X para el ejercicio\n",
    "codigo = \"2184609\"\n",
    "X = sum ([int(i) for i in codigo])\n",
    "\n",
    "# Para hallar longitud de la viga (m)\n",
    "L = (0.2 * X)\n",
    "# Para obtener los factores de seguridad\n",
    "FS_fluencia = float (f\"1.{X}\")\n",
    "FS_resistencia_ultima = float(f\"1.{X + 3}\") \n",
    "\n",
    "# Angulos a radianes\n",
    "angulo_BC = 40 * np.pi / 180\n",
    "angulo_BE = 50 * np.pi / 180"
   ]
  },
  {
   "cell_type": "code",
   "execution_count": 3,
   "id": "d06c60b4",
   "metadata": {},
   "outputs": [],
   "source": [
    "# Propiedades del material\n",
    "\n",
    "# Unidades (MPa)\n",
    "# Esfuerzo ultimo\n",
    "Esf_ult = 400\n",
    "# Esfuerzo de fluencia corte\n",
    "Esf_c =145\n",
    "# Modulo de elasticidad\n",
    "# Unidades (GPa)\n",
    "E = 200"
   ]
  },
  {
   "cell_type": "code",
   "execution_count": 4,
   "id": "b02e366d",
   "metadata": {},
   "outputs": [],
   "source": [
    "# Equilibrio\n",
    "# Unidades (Mpa)\n",
    "# Incognitas\n",
    "Ax, Ay, BC, BD, BE, W = sp.symbols('Ax Ay BC BD BE W')"
   ]
  },
  {
   "cell_type": "code",
   "execution_count": 5,
   "id": "4f3f5158",
   "metadata": {},
   "outputs": [
    {
     "data": {
      "text/latex": [
       "$\\displaystyle Ax - 0.642787609686539 BC + 0.766044443118978 BE = 0$"
      ],
      "text/plain": [
       "Eq(Ax - 0.642787609686539*BC + 0.766044443118978*BE, 0)"
      ]
     },
     "execution_count": 5,
     "metadata": {},
     "output_type": "execute_result"
    }
   ],
   "source": [
    "# Ecuación equilibrio eje X\n",
    "Fx = Ax - BC * sp.sin(angulo_BC) + BE * sp.sin(angulo_BE)\n",
    "equilibrio_x = sp.Eq(Fx,0)\n",
    "equilibrio_x"
   ]
  },
  {
   "cell_type": "code",
   "execution_count": 6,
   "id": "220fa5e8",
   "metadata": {},
   "outputs": [
    {
     "data": {
      "text/latex": [
       "$\\displaystyle Ay + 0.766044443118978 BC + BD + 0.642787609686539 BE - 6.0 W = 0$"
      ],
      "text/plain": [
       "Eq(Ay + 0.766044443118978*BC + BD + 0.642787609686539*BE - 6.0*W, 0)"
      ]
     },
     "execution_count": 6,
     "metadata": {},
     "output_type": "execute_result"
    }
   ],
   "source": [
    "# Ecuación equilibrio eje Y\n",
    "Fy = Ay + BC * sp.cos(angulo_BC) + BE * sp.cos(angulo_BE) - W * L + BD\n",
    "equilibrio_y = sp.Eq(Fy,0)\n",
    "equilibrio_y"
   ]
  },
  {
   "cell_type": "code",
   "execution_count": 7,
   "id": "aaf46142",
   "metadata": {},
   "outputs": [
    {
     "data": {
      "text/latex": [
       "$\\displaystyle 4.59626665871387 BC + 6.0 BD + 3.85672565811924 BE - 18.0 W = 0$"
      ],
      "text/plain": [
       "Eq(4.59626665871387*BC + 6.0*BD + 3.85672565811924*BE - 18.0*W, 0)"
      ]
     },
     "execution_count": 7,
     "metadata": {},
     "output_type": "execute_result"
    }
   ],
   "source": [
    "# Ecuación de equilibrio momentos\n",
    "Momento_A = -W * L ** 2/2 + BD * L + BC * sp.cos(angulo_BC) * L + BE * sp.cos(angulo_BE) *L\n",
    "equilibrio_M_A = sp.Eq(Momento_A,0)\n",
    "equilibrio_M_A"
   ]
  },
  {
   "cell_type": "code",
   "execution_count": 8,
   "id": "1473af46",
   "metadata": {},
   "outputs": [
    {
     "data": {
      "text/latex": [
       "$\\displaystyle 0.642787609686539 BC - 0.766044443118978 BE = 0$"
      ],
      "text/plain": [
       "Eq(0.642787609686539*BC - 0.766044443118978*BE, 0)"
      ]
     },
     "execution_count": 8,
     "metadata": {},
     "output_type": "execute_result"
    }
   ],
   "source": [
    "# Ecuación de compatibilidad\n",
    "# Con el desplazamiento del cable BD podemos relacionar los desplazaientos en BC y BE(Reemplazamos las deformaciones por (F*L/A*E))\n",
    "\n",
    "ecuacion_compatibilidad_1 = sp.Eq(BC * sp.cos(angulo_BE) - BE * sp.cos(angulo_BC),0)\n",
    "expresion_equivalencia_BC = BE * sp.cos(angulo_BC) / sp.cos (angulo_BE)\n",
    "ecuacion_compatibilidad_1"
   ]
  },
  {
   "cell_type": "code",
   "execution_count": 9,
   "id": "c78f1a9f",
   "metadata": {},
   "outputs": [
    {
     "data": {
      "text/plain": [
       "[{BC: 1.19175359259421*BE}]"
      ]
     },
     "execution_count": 9,
     "metadata": {},
     "output_type": "execute_result"
    }
   ],
   "source": [
    "BC_VS_BE = sp.solve(ecuacion_compatibilidad_1)\n",
    "BC_VS_BE"
   ]
  },
  {
   "cell_type": "code",
   "execution_count": 10,
   "id": "eb665047",
   "metadata": {},
   "outputs": [
    {
     "data": {
      "text/latex": [
       "$\\displaystyle - 0.642787609686539 BD + BE = 0$"
      ],
      "text/plain": [
       "Eq(-0.642787609686539*BD + BE, 0)"
      ]
     },
     "execution_count": 10,
     "metadata": {},
     "output_type": "execute_result"
    }
   ],
   "source": [
    "# Ecuación de compatibilidad\n",
    "ecuacion_compatibilidad_2 = sp.Eq(BE - BD *sp.cos(angulo_BE),0)\n",
    "expresion_equivalencia_BE = BD * sp.cos(angulo_BE)\n",
    "ecuacion_compatibilidad_2"
   ]
  },
  {
   "cell_type": "code",
   "execution_count": 288,
   "id": "ee90d178",
   "metadata": {},
   "outputs": [
    {
     "data": {
      "text/plain": [
       "[{BD: 1.55572382686041*BE}]"
      ]
     },
     "execution_count": 288,
     "metadata": {},
     "output_type": "execute_result"
    }
   ],
   "source": [
    "BD_VS_BE = sp.solve(ecuacion_compatibilidad_2)\n",
    "BD_VS_BE"
   ]
  },
  {
   "cell_type": "code",
   "execution_count": 289,
   "id": "57492500",
   "metadata": {},
   "outputs": [
    {
     "data": {
      "text/latex": [
       "$\\displaystyle Ax = 0$"
      ],
      "text/plain": [
       "Eq(Ax, 0)"
      ]
     },
     "execution_count": 289,
     "metadata": {},
     "output_type": "execute_result"
    }
   ],
   "source": [
    "# Reemplazo en la ecuaciones de equilibrio\n",
    "# Eje X\n",
    "Ecuación_1 = sp.Eq(Fx.subs([(BC,expresion_equivalencia_BC),(BE,expresion_equivalencia_BE)]),0)\n",
    "Ecuación_1 "
   ]
  },
  {
   "cell_type": "code",
   "execution_count": 290,
   "id": "65afe883",
   "metadata": {},
   "outputs": [
    {
     "data": {
      "text/latex": [
       "$\\displaystyle Ay + 2.0 BD - 6.0 W = 0$"
      ],
      "text/plain": [
       "Eq(Ay + 2.0*BD - 6.0*W, 0)"
      ]
     },
     "execution_count": 290,
     "metadata": {},
     "output_type": "execute_result"
    }
   ],
   "source": [
    "# Reemplazo en la ecuaciones de equilibrio\n",
    "# Eje Y\n",
    "Ecuación_2 = sp.Eq(Fy.subs([(BC,expresion_equivalencia_BC),(BE,expresion_equivalencia_BE),(BD,BD_VS_BE)]),0)\n",
    "Ecuación_2 "
   ]
  },
  {
   "cell_type": "code",
   "execution_count": 291,
   "id": "e986e427",
   "metadata": {},
   "outputs": [],
   "source": [
    "ecuacion_eq_Ecuacion_2=𝐴𝑦+2.0*𝐵𝐷 -6.0*𝑊"
   ]
  },
  {
   "cell_type": "code",
   "execution_count": 292,
   "id": "67d04b07",
   "metadata": {},
   "outputs": [
    {
     "data": {
      "text/latex": [
       "$\\displaystyle 12.0 BD - 18.0 W = 0$"
      ],
      "text/plain": [
       "Eq(12.0*BD - 18.0*W, 0)"
      ]
     },
     "execution_count": 292,
     "metadata": {},
     "output_type": "execute_result"
    }
   ],
   "source": [
    "# Reemplazo en la ecuaciones de equilibrio Momento en A\n",
    "Ecuación_3 = sp.Eq(Momento_A.subs([(BC,expresion_equivalencia_BC),(BE,expresion_equivalencia_BE),(BD,BD_VS_BE)]),0)\n",
    "Ecuación_3"
   ]
  },
  {
   "cell_type": "code",
   "execution_count": 293,
   "id": "e002c370",
   "metadata": {},
   "outputs": [],
   "source": [
    "ecuacion_eq_Ecuacion_3=12.0*𝐵𝐷 - 18.0*𝑊"
   ]
  },
  {
   "cell_type": "code",
   "execution_count": 294,
   "id": "c42c1b64",
   "metadata": {},
   "outputs": [
    {
     "data": {
      "text/latex": [
       "$\\displaystyle 1.5 W$"
      ],
      "text/plain": [
       "1.5*W"
      ]
     },
     "execution_count": 294,
     "metadata": {},
     "output_type": "execute_result"
    }
   ],
   "source": [
    "# FUERZA BD en funcion de W\n",
    "BD_VS_W = sp.solve(ecuacion_eq_Ecuacion_3)[0][BD]\n",
    "BD_VS_W"
   ]
  },
  {
   "cell_type": "code",
   "execution_count": 295,
   "id": "5c076e0f",
   "metadata": {},
   "outputs": [
    {
     "data": {
      "text/latex": [
       "$\\displaystyle Ay - 3.0 W = 0$"
      ],
      "text/plain": [
       "Eq(Ay - 3.0*W, 0)"
      ]
     },
     "execution_count": 295,
     "metadata": {},
     "output_type": "execute_result"
    }
   ],
   "source": [
    "# En la Ecucion_2 reemplazamos BD\n",
    "# valor de Ay en funcion de W\n",
    "Ecuacion_Ay = sp.Eq((ecuacion_eq_Ecuacion_2).subs([(BD,BD_VS_W)]),0)\n",
    "Ecuacion_Ay"
   ]
  },
  {
   "cell_type": "code",
   "execution_count": 296,
   "id": "be1027dc",
   "metadata": {},
   "outputs": [
    {
     "data": {
      "text/latex": [
       "$\\displaystyle 3.0 W$"
      ],
      "text/plain": [
       "3.0*W"
      ]
     },
     "execution_count": 296,
     "metadata": {},
     "output_type": "execute_result"
    }
   ],
   "source": [
    "# FUERZA Ay en funcion de W\n",
    "Ay_VS_W = sp.solve(Ecuacion_Ay)[0][Ay]\n",
    "Ay_VS_W"
   ]
  },
  {
   "cell_type": "code",
   "execution_count": 297,
   "id": "ebfa5ac7",
   "metadata": {},
   "outputs": [
    {
     "data": {
      "text/latex": [
       "$\\displaystyle BE - 0.964181414529809 W = 0$"
      ],
      "text/plain": [
       "Eq(BE - 0.964181414529809*W, 0)"
      ]
     },
     "execution_count": 297,
     "metadata": {},
     "output_type": "execute_result"
    }
   ],
   "source": [
    "# Con la ecuacion de expresion de equivalencia de la fuerza BE se reemplaza la fuerza que se hallo de BD\n",
    "# FUERZA BE en funcion de W\n",
    "Ecuacion_BE = sp.Eq((BE - BD *sp.cos(angulo_BE)).subs([(BD,BD_VS_W)]),0)\n",
    "Ecuacion_BE            "
   ]
  },
  {
   "cell_type": "code",
   "execution_count": 298,
   "id": "df51c7cd",
   "metadata": {},
   "outputs": [
    {
     "data": {
      "text/latex": [
       "$\\displaystyle 0.964181414529809 W$"
      ],
      "text/plain": [
       "0.964181414529809*W"
      ]
     },
     "execution_count": 298,
     "metadata": {},
     "output_type": "execute_result"
    }
   ],
   "source": [
    "# FUERZA BE en funcion de W\n",
    "BE_VS_W = sp.solve(Ecuacion_BE )[0][BE]\n",
    "BE_VS_W"
   ]
  },
  {
   "cell_type": "code",
   "execution_count": 299,
   "id": "7a6957fb",
   "metadata": {},
   "outputs": [
    {
     "data": {
      "text/latex": [
       "$\\displaystyle 0.642787609686539 BC - 0.738605814759156 W = 0$"
      ],
      "text/plain": [
       "Eq(0.642787609686539*BC - 0.738605814759156*W, 0)"
      ]
     },
     "execution_count": 299,
     "metadata": {},
     "output_type": "execute_result"
    }
   ],
   "source": [
    "# FUERZA BC en funcion de W\n",
    "Ecuacion_BC = sp.Eq((BC * sp.cos(angulo_BE) - BE * sp.cos(angulo_BC)).subs([(BE,BE_VS_W)]),0)\n",
    "Ecuacion_BC"
   ]
  },
  {
   "cell_type": "code",
   "execution_count": 300,
   "id": "57c9fb35",
   "metadata": {},
   "outputs": [
    {
     "data": {
      "text/latex": [
       "$\\displaystyle 1.14906666467847 W$"
      ],
      "text/plain": [
       "1.14906666467847*W"
      ]
     },
     "execution_count": 300,
     "metadata": {},
     "output_type": "execute_result"
    }
   ],
   "source": [
    "# FUERZA BC en funcion de W\n",
    "BC_VS_W = sp.solve(Ecuacion_BC)[0][BC]\n",
    "BC_VS_W"
   ]
  },
  {
   "cell_type": "code",
   "execution_count": 301,
   "id": "0b1e6522",
   "metadata": {},
   "outputs": [
    {
     "data": {
      "text/latex": [
       "$\\displaystyle 0.00907084826713103 W = 111.538461538462$"
      ],
      "text/plain": [
       "Eq(0.00907084826713103*W, 111.538461538462)"
      ]
     },
     "execution_count": 301,
     "metadata": {},
     "output_type": "execute_result"
    }
   ],
   "source": [
    "#Analisis para pasadores por cortante simple\n",
    "#para C,D,E\n",
    "#carga en[ N/m] Para C\n",
    "ecuacion_esfuerzo_cortante = sp.Eq(BC_VS_W/ area_p, Esf_c / FS_fluencia)\n",
    "ecuacion_esfuerzo_cortante"
   ]
  },
  {
   "cell_type": "code",
   "execution_count": 302,
   "id": "d9750d60",
   "metadata": {},
   "outputs": [
    {
     "data": {
      "text/latex": [
       "$\\displaystyle 12.2963650425761$"
      ],
      "text/plain": [
       "12.2963650425761"
      ]
     },
     "execution_count": 302,
     "metadata": {},
     "output_type": "execute_result"
    }
   ],
   "source": [
    "#carga en[ kN/m] Para C\n",
    "W_C=sp.solve(ecuacion_esfuerzo_cortante)[0]/1000\n",
    "W_C"
   ]
  },
  {
   "cell_type": "code",
   "execution_count": 303,
   "id": "bf69cf16",
   "metadata": {},
   "outputs": [
    {
     "data": {
      "text/latex": [
       "$\\displaystyle 0.0118411514483399 W = 111.538461538462$"
      ],
      "text/plain": [
       "Eq(0.0118411514483399*W, 111.538461538462)"
      ]
     },
     "execution_count": 303,
     "metadata": {},
     "output_type": "execute_result"
    }
   ],
   "source": [
    "#carga en[ N/m] Para D\n",
    "ecuacion2_esfuerzo_cortante = sp.Eq(BD_VS_W/ area_p, Esf_c / FS_fluencia)\n",
    "ecuacion2_esfuerzo_cortante"
   ]
  },
  {
   "cell_type": "code",
   "execution_count": 304,
   "id": "41535ade",
   "metadata": {},
   "outputs": [
    {
     "data": {
      "text/latex": [
       "$\\displaystyle 9.41956211142789$"
      ],
      "text/plain": [
       "9.41956211142789"
      ]
     },
     "execution_count": 304,
     "metadata": {},
     "output_type": "execute_result"
    }
   ],
   "source": [
    "#carga en[ kN/m] Para D\n",
    "W_D=sp.solve(ecuacion2_esfuerzo_cortante)[0]/1000\n",
    "W_D"
   ]
  },
  {
   "cell_type": "code",
   "execution_count": 305,
   "id": "51d0205c",
   "metadata": {},
   "outputs": [
    {
     "data": {
      "text/latex": [
       "$\\displaystyle 0.00761134543541471 W = 111.538461538462$"
      ],
      "text/plain": [
       "Eq(0.00761134543541471*W, 111.538461538462)"
      ]
     },
     "execution_count": 305,
     "metadata": {},
     "output_type": "execute_result"
    }
   ],
   "source": [
    "#carga en[ N/m] Para E\n",
    "ecuacion3_esfuerzo_cortante = sp.Eq(BE_VS_W/ area_p, Esf_c / FS_fluencia)\n",
    "ecuacion3_esfuerzo_cortante"
   ]
  },
  {
   "cell_type": "code",
   "execution_count": 306,
   "id": "40c0156f",
   "metadata": {},
   "outputs": [
    {
     "data": {
      "text/latex": [
       "$\\displaystyle 14.6542372153399$"
      ],
      "text/plain": [
       "14.6542372153399"
      ]
     },
     "execution_count": 306,
     "metadata": {},
     "output_type": "execute_result"
    }
   ],
   "source": [
    "#carga en[ kN/m] Para E\n",
    "W_E=sp.solve(ecuacion3_esfuerzo_cortante)[0]/1000\n",
    "W_E"
   ]
  },
  {
   "cell_type": "code",
   "execution_count": 307,
   "id": "502efa61",
   "metadata": {},
   "outputs": [
    {
     "data": {
      "text/latex": [
       "$\\displaystyle 0.0118411514483399 W = 111.538461538462$"
      ],
      "text/plain": [
       "Eq(0.0118411514483399*W, 111.538461538462)"
      ]
     },
     "execution_count": 307,
     "metadata": {},
     "output_type": "execute_result"
    }
   ],
   "source": [
    "#Analisis para pasadores por cortante doble\n",
    "#para A,B\n",
    "#carga en[ N/m] Para A\n",
    "ecuacion4_esfuerzo_cortante_doble = sp.Eq(Ay_VS_W/ (2*area_p), Esf_c / FS_fluencia)\n",
    "ecuacion4_esfuerzo_cortante_doble"
   ]
  },
  {
   "cell_type": "code",
   "execution_count": 308,
   "id": "3a7b69c2",
   "metadata": {},
   "outputs": [
    {
     "data": {
      "text/latex": [
       "$\\displaystyle 9.41956211142789$"
      ],
      "text/plain": [
       "9.41956211142789"
      ]
     },
     "execution_count": 308,
     "metadata": {},
     "output_type": "execute_result"
    }
   ],
   "source": [
    "#carga en[ kN/m] Para Ay\n",
    "W_A=sp.solve(ecuacion4_esfuerzo_cortante_doble)[0]/1000\n",
    "W_A"
   ]
  },
  {
   "cell_type": "code",
   "execution_count": 309,
   "id": "b5bc8dc0",
   "metadata": {},
   "outputs": [
    {
     "data": {
      "text/latex": [
       "$\\displaystyle 2.97721162951831 W$"
      ],
      "text/plain": [
       "2.97721162951831*W"
      ]
     },
     "execution_count": 309,
     "metadata": {},
     "output_type": "execute_result"
    }
   ],
   "source": [
    "#carga en[ N/m] Para B\n",
    "#Se halla una resultante de las fuerzas que actuan en el pasador y con esta se halla W\n",
    "FR= sp.symbols('fr')\n",
    "fuerza_resultante=BD_VS_W+(BC_VS_W*sp.cos(angulo_BE))+BE_VS_W*sp.cos(angulo_BC)\n",
    "fuerza_resultante\n"
   ]
  },
  {
   "cell_type": "code",
   "execution_count": 310,
   "id": "033b311c",
   "metadata": {},
   "outputs": [
    {
     "data": {
      "text/latex": [
       "$\\displaystyle 0.0117512045996284 W = 111.538461538462$"
      ],
      "text/plain": [
       "Eq(0.0117512045996284*W, 111.538461538462)"
      ]
     },
     "execution_count": 310,
     "metadata": {},
     "output_type": "execute_result"
    }
   ],
   "source": [
    "ecuacion5_esfuerzo_cortante_doble = sp.Eq(fuerza_resultante/ (2*area_p), Esf_c / FS_fluencia)\n",
    "ecuacion5_esfuerzo_cortante_doble"
   ]
  },
  {
   "cell_type": "code",
   "execution_count": 311,
   "id": "591c3f26",
   "metadata": {},
   "outputs": [
    {
     "data": {
      "text/latex": [
       "$\\displaystyle 9.49166194774526$"
      ],
      "text/plain": [
       "9.49166194774526"
      ]
     },
     "execution_count": 311,
     "metadata": {},
     "output_type": "execute_result"
    }
   ],
   "source": [
    "#carga en[ kN/m] Para B\n",
    "W_B=sp.solve(ecuacion5_esfuerzo_cortante_doble)[0]/1000\n",
    "W_B"
   ]
  },
  {
   "cell_type": "code",
   "execution_count": 312,
   "id": "869ca142",
   "metadata": {},
   "outputs": [],
   "source": [
    "#CARGAS MAX DE FALLA DE POR PASADORES EN [KN/M].\n",
    "#W_A=9.41956211142789\n",
    "#W_B=9.49166194774526\n",
    "#W_C=12.2963650425761\n",
    "#W_D=9.41956211142789\n",
    "#W_E=14.6542372153399\n",
    "#EL MAX VALOR DE CARGA W PARA PASADORES ES DE 9.41956211142789 [KN/M]."
   ]
  },
  {
   "cell_type": "code",
   "execution_count": 313,
   "id": "b1ff54d3",
   "metadata": {},
   "outputs": [
    {
     "data": {
      "text/latex": [
       "$\\displaystyle 0.0362833930685241 W = 300.751879699248$"
      ],
      "text/plain": [
       "Eq(0.0362833930685241*W, 300.751879699248)"
      ]
     },
     "execution_count": 313,
     "metadata": {},
     "output_type": "execute_result"
    }
   ],
   "source": [
    "#Analisis para cables \n",
    "#para BC,BD,BE\n",
    "#carga en[ N/m] Para BC\n",
    "ecuacion1_esfuerzo_normal = sp.Eq( BC_VS_W/ area_c, Esf_ult / FS_resistencia_ultima)\n",
    "ecuacion1_esfuerzo_normal"
   ]
  },
  {
   "cell_type": "code",
   "execution_count": 314,
   "id": "c007ddec",
   "metadata": {},
   "outputs": [
    {
     "data": {
      "text/latex": [
       "$\\displaystyle 8.28896787936161$"
      ],
      "text/plain": [
       "8.28896787936161"
      ]
     },
     "execution_count": 314,
     "metadata": {},
     "output_type": "execute_result"
    }
   ],
   "source": [
    "#carga en[ kN/m] Para BC\n",
    "W_BC=sp.solve(ecuacion1_esfuerzo_normal)[0]/1000\n",
    "W_BC"
   ]
  },
  {
   "cell_type": "code",
   "execution_count": 315,
   "id": "be2da7cb",
   "metadata": {},
   "outputs": [
    {
     "data": {
      "text/latex": [
       "$\\displaystyle 0.0473646057933596 W = 300.751879699248$"
      ],
      "text/plain": [
       "Eq(0.0473646057933596*W, 300.751879699248)"
      ]
     },
     "execution_count": 315,
     "metadata": {},
     "output_type": "execute_result"
    }
   ],
   "source": [
    "#carga en[ N/m] Para BD\n",
    "ecuacion2_esfuerzo_normal = sp.Eq( BD_VS_W/ area_c, Esf_ult / FS_resistencia_ultima)\n",
    "ecuacion2_esfuerzo_normal"
   ]
  },
  {
   "cell_type": "code",
   "execution_count": 316,
   "id": "0da6886c",
   "metadata": {},
   "outputs": [
    {
     "data": {
      "text/latex": [
       "$\\displaystyle 6.34971778317667$"
      ],
      "text/plain": [
       "6.34971778317667"
      ]
     },
     "execution_count": 316,
     "metadata": {},
     "output_type": "execute_result"
    }
   ],
   "source": [
    "#carga en[ kN/m] Para BD\n",
    "W_BD=sp.solve(ecuacion2_esfuerzo_normal)[0]/1000\n",
    "W_BD"
   ]
  },
  {
   "cell_type": "code",
   "execution_count": 317,
   "id": "d6423c61",
   "metadata": {},
   "outputs": [
    {
     "data": {
      "text/latex": [
       "$\\displaystyle 0.0304453817416589 W = 300.751879699248$"
      ],
      "text/plain": [
       "Eq(0.0304453817416589*W, 300.751879699248)"
      ]
     },
     "execution_count": 317,
     "metadata": {},
     "output_type": "execute_result"
    }
   ],
   "source": [
    "#carga en[ N/m] Para BE\n",
    "ecuacion3_esfuerzo_normal = sp.Eq( BE_VS_W/ area_c, Esf_ult / FS_resistencia_ultima)\n",
    "ecuacion3_esfuerzo_normal"
   ]
  },
  {
   "cell_type": "code",
   "execution_count": 318,
   "id": "4d44c15d",
   "metadata": {},
   "outputs": [
    {
     "data": {
      "text/latex": [
       "$\\displaystyle 9.87840724912719$"
      ],
      "text/plain": [
       "9.87840724912719"
      ]
     },
     "execution_count": 318,
     "metadata": {},
     "output_type": "execute_result"
    }
   ],
   "source": [
    "#carga en[ kN/m] Para BE\n",
    "W_BE=sp.solve(ecuacion3_esfuerzo_normal)[0]/1000\n",
    "W_BE"
   ]
  },
  {
   "cell_type": "code",
   "execution_count": 319,
   "id": "4158dd36",
   "metadata": {},
   "outputs": [
    {
     "data": {
      "text/latex": [
       "$\\displaystyle 6.34971778317667$"
      ],
      "text/plain": [
       "6.34971778317667"
      ]
     },
     "execution_count": 319,
     "metadata": {},
     "output_type": "execute_result"
    }
   ],
   "source": [
    "#carga max w para cables\n",
    "w_max_cables=min(W_BE,W_BC,W_BD)\n",
    "w_max_cables"
   ]
  },
  {
   "cell_type": "code",
   "execution_count": 320,
   "id": "55de5e16",
   "metadata": {},
   "outputs": [
    {
     "data": {
      "text/latex": [
       "$\\displaystyle 9.41956211142789$"
      ],
      "text/plain": [
       "9.41956211142789"
      ]
     },
     "execution_count": 320,
     "metadata": {},
     "output_type": "execute_result"
    }
   ],
   "source": [
    "#carga max w para pasadores\n",
    "w_max_pasadores=min(W_A,W_B,W_C,W_D,W_E)\n",
    "w_max_pasadores"
   ]
  },
  {
   "cell_type": "code",
   "execution_count": 321,
   "id": "fee0ec2f",
   "metadata": {},
   "outputs": [
    {
     "data": {
      "text/latex": [
       "$\\displaystyle 6.34971778317667$"
      ],
      "text/plain": [
       "6.34971778317667"
      ]
     },
     "execution_count": 321,
     "metadata": {},
     "output_type": "execute_result"
    }
   ],
   "source": [
    "#CARGA MAX DE W CON LOS CRITERIOS DE FALLA\n",
    "W_MAX=min(w_max_cables,w_max_pasadores)\n",
    "W_MAX"
   ]
  },
  {
   "cell_type": "code",
   "execution_count": 322,
   "id": "2b499c39",
   "metadata": {},
   "outputs": [],
   "source": [
    "#CARGAS W MAX DE FALLA DE POR CABLES EN [KN/M].\n",
    "#W_BC=8.28896787936161\n",
    "#W_BD=6.34971778317667\n",
    "#W_BE=9.87840724912719\n",
    "\n",
    "#EL MAX VALOR DE CARGA W PARA CABLES ES DE 6.34971778317667 [KN/M].\n"
   ]
  },
  {
   "cell_type": "code",
   "execution_count": 323,
   "id": "a8848569",
   "metadata": {},
   "outputs": [],
   "source": [
    "#TENIENDO EN CUENTA LOS CRITERIOS DE FALLA TANTO PARA PASADORES COMO PARA CABLES , W TENDRA UN VALOR MAX DE  6.34971778317667 [KN/M], PARA QUE NINGUN ELEMENTO FALLE."
   ]
  },
  {
   "cell_type": "code",
   "execution_count": 347,
   "id": "c5ca1c04",
   "metadata": {},
   "outputs": [
    {
     "data": {
      "text/latex": [
       "$\\displaystyle 19.04915334953$"
      ],
      "text/plain": [
       "19.0491533495300"
      ]
     },
     "execution_count": 347,
     "metadata": {},
     "output_type": "execute_result"
    }
   ],
   "source": [
    "#FUERZAS Y DEFORMACIONES\n",
    "# Incognitas(teniendo el valor de w podemos hallar el valor de estas)\n",
    "Ax, Ay, BC, BD, BE\n",
    "#VALOR DE LAS FUERZAS\n",
    "#VALOR FUERZA Ay\n",
    "F_Ay = Ay_VS_W.subs(W,W_MAX)\n",
    "F_Ay"
   ]
  },
  {
   "cell_type": "code",
   "execution_count": 348,
   "id": "2186e278",
   "metadata": {},
   "outputs": [
    {
     "data": {
      "text/latex": [
       "$\\displaystyle 7.29624903476436$"
      ],
      "text/plain": [
       "7.29624903476436"
      ]
     },
     "execution_count": 348,
     "metadata": {},
     "output_type": "execute_result"
    }
   ],
   "source": [
    "#VALOR FUERZA BC\n",
    "F_BC = BC_VS_W.subs(W,W_MAX)\n",
    "F_BC"
   ]
  },
  {
   "cell_type": "code",
   "execution_count": 349,
   "id": "55435142",
   "metadata": {},
   "outputs": [
    {
     "data": {
      "text/latex": [
       "$\\displaystyle 9.524576674765$"
      ],
      "text/plain": [
       "9.52457667476500"
      ]
     },
     "execution_count": 349,
     "metadata": {},
     "output_type": "execute_result"
    }
   ],
   "source": [
    "#VALOR FUERZA BD\n",
    "F_BD = BD_VS_W.subs(W,W_MAX)\n",
    "F_BD"
   ]
  },
  {
   "cell_type": "code",
   "execution_count": 350,
   "id": "c6efd229",
   "metadata": {},
   "outputs": [
    {
     "data": {
      "text/latex": [
       "$\\displaystyle 6.12227987404836$"
      ],
      "text/plain": [
       "6.12227987404836"
      ]
     },
     "execution_count": 350,
     "metadata": {},
     "output_type": "execute_result"
    }
   ],
   "source": [
    "#VALOR FUERZA BE\n",
    "F_BE = BE_VS_W.subs(W,W_MAX)\n",
    "F_BE"
   ]
  },
  {
   "cell_type": "code",
   "execution_count": 351,
   "id": "117205b8",
   "metadata": {},
   "outputs": [],
   "source": [
    "#VALORES DE LAS FUERZAS\n",
    "#F_Ax=0 [KN]\n",
    "#F_Ay=19.04915334953 [KN]\n",
    "#F_BC=7.29624903476436[KN]\n",
    "#F_BD=9.524576674765 [KN]\n",
    "#F_BE=6.12227987404836 [KN]\n"
   ]
  },
  {
   "cell_type": "code",
   "execution_count": 352,
   "id": "ecf678b0",
   "metadata": {},
   "outputs": [
    {
     "data": {
      "text/latex": [
       "$\\displaystyle 1.72791979650897$"
      ],
      "text/plain": [
       "1.72791979650897"
      ]
     },
     "execution_count": 352,
     "metadata": {},
     "output_type": "execute_result"
    }
   ],
   "source": [
    "#VALOR DE LAS DEFORMACIONES\n",
    "#VALOR DEFORMACION BC[mm]\n",
    "D_BC=(F_BC*longitud_c*1000)/(area_c*E)\n",
    "D_BC"
   ]
  },
  {
   "cell_type": "code",
   "execution_count": 353,
   "id": "ca90390d",
   "metadata": {},
   "outputs": [
    {
     "data": {
      "text/latex": [
       "$\\displaystyle 2.25563909774436$"
      ],
      "text/plain": [
       "2.25563909774436"
      ]
     },
     "execution_count": 353,
     "metadata": {},
     "output_type": "execute_result"
    }
   ],
   "source": [
    "#VALOR DEFORMACION BD[mm]\n",
    "D_BD=(F_BD*longitud_c*1000)/(area_c*E)\n",
    "D_BD"
   ]
  },
  {
   "cell_type": "code",
   "execution_count": 354,
   "id": "3577a652",
   "metadata": {},
   "outputs": [
    {
     "data": {
      "text/latex": [
       "$\\displaystyle 1.4498968639546$"
      ],
      "text/plain": [
       "1.44989686395460"
      ]
     },
     "execution_count": 354,
     "metadata": {},
     "output_type": "execute_result"
    }
   ],
   "source": [
    "#VALOR DEFORMACION BE[mm]\n",
    "D_BE=(F_BE*longitud_c*1000)/(area_c*E)\n",
    "D_BE"
   ]
  },
  {
   "cell_type": "code",
   "execution_count": 355,
   "id": "c81c286e",
   "metadata": {},
   "outputs": [],
   "source": [
    "#VALORES DE LAS DEFORMACIONES\n",
    "#D_BC=1.72791979650897 [mm]\n",
    "#D_BD=2.25563909774436 [mm]\n",
    "#D_BE=1.4498968639546 [mm]"
   ]
  }
 ],
 "metadata": {
  "kernelspec": {
   "display_name": "Python 3 (ipykernel)",
   "language": "python",
   "name": "python3"
  },
  "language_info": {
   "codemirror_mode": {
    "name": "ipython",
    "version": 3
   },
   "file_extension": ".py",
   "mimetype": "text/x-python",
   "name": "python",
   "nbconvert_exporter": "python",
   "pygments_lexer": "ipython3",
   "version": "3.8.10"
  }
 },
 "nbformat": 4,
 "nbformat_minor": 5
}
