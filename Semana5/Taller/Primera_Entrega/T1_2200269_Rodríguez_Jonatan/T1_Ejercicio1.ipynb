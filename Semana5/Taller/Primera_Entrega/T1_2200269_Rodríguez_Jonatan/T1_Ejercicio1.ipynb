{
 "cells": [
  {
   "cell_type": "code",
   "execution_count": 2,
   "id": "84fca190",
   "metadata": {},
   "outputs": [],
   "source": [
    "#importar las bibliotecas que utilizaré\n",
    "import numpy as np\n",
    "import sympy as sp\n",
    "import heapq as he\n",
    "import math as mt\n",
    "from math import pi,cos,sin"
   ]
  },
  {
   "cell_type": "code",
   "execution_count": 3,
   "id": "443be155",
   "metadata": {
    "scrolled": true
   },
   "outputs": [
    {
     "name": "stdout",
     "output_type": "stream",
     "text": [
      "ENCISO A\n"
     ]
    }
   ],
   "source": [
    "print(\"ENCISO A\")\n",
    "#Determinar mi valor para X y agrupar el resto de datos que necesito usar \n",
    "Codigo = \"2,2,0,0,2,6,9\"\n",
    "Lista = Codigo.split(\",\")\n",
    "X = int(Lista[0]) + int(Lista[1]) + int(Lista[2]) + int(Lista[3]) + int(Lista[4]) + int(Lista[5]) + int(Lista[6])\n",
    "\n",
    "\"Longitud del cable en metros\"\n",
    "LC = 1.5\n",
    "\n",
    "\"Ángulo Cable BC en radianes\"\n",
    "ANG_BC = mt.radians(40)\n",
    "\n",
    "\"Ángulo Cable BC en radianes\"\n",
    "ANG_BE = mt.radians(50)\n",
    "\n",
    "\"Diametro cables en pulgadas\"\n",
    "dc = 1/4 \n",
    "\n",
    "\"Área de los cables en mm^2\"\n",
    "AC = (pi/4)*(dc*25.4)**2\n",
    "\n",
    "\"Diametro pasadores A, B, C, D, E en pulgadas\"\n",
    "dP = 1/2\n",
    "\n",
    "\"Área pasadores en mm^2\"\n",
    "AP = (pi/4)*(dP*25.4)**2\n",
    "\n",
    "\"Esfuerzo último a tensión en MPa\"\n",
    "UT = 400\n",
    "\n",
    "\"Esfuerzo de fluencia a tensión en MPa\"\n",
    "FT = 250\n",
    "\n",
    "\"Esfuerzo de fluencia a cortante en MPa\"\n",
    "FC = 145\n",
    "\n",
    "\"Módulo de elasticidad en GPa\"\n",
    "E = 200\n",
    "\n",
    "\"Longitud de la barra en metros\"\n",
    "LB = 0.2 * X\n",
    "\n",
    "\"Factor de seguridad para la fluencia\"\n",
    "FSF = str(1) + str(\".\") + str(X)\n",
    "FSF = float(FSF)\n",
    "\n",
    "\"Factor de seguridad para el esfuerzo último\"\n",
    "FSU = str(1) + str(\".\") + str(X+3)\n",
    "FSU = float(FSU)\n"
   ]
  },
  {
   "cell_type": "code",
   "execution_count": 10,
   "id": "4af0e828",
   "metadata": {},
   "outputs": [
    {
     "data": {
      "text/plain": [
       "'Nc1 10215.8765947076 N'"
      ]
     },
     "execution_count": 10,
     "metadata": {},
     "output_type": "execute_result"
    }
   ],
   "source": [
    "\"\"\"\n",
    "Determinar las posibles fuerzas que se pueden generar en los cables y pasadores para cumplir con los requisitos de resistencia \n",
    "Tener en cuenta que los pasadores A y B se encuentran a cortante doble, mientras que C, D, E estan a cortante simple\n",
    "\"\"\"\n",
    "#Definir simbolos para hacer más comodos los despejes\n",
    "NC1, NC2 = sp.symbols(\"NC1 NC2\")\n",
    "VP1, VP2 = sp.symbols(\"VP1 VP2\")\n",
    "#En este como los cables tienen la misma área y son del mismo material, para todos se puede encontrar una fuerza por cada esfuerzo\n",
    "\n",
    "\"Fuerza para cumplir con el esfuerzo último a tensión en los cables en N\"\n",
    "Esf_admi = NC1/AC\n",
    "Esf_ulti = UT/FSU\n",
    "Ecu = sp.Eq(Esf_admi,Esf_ulti)\n",
    "Solución = sp.solve(Ecu)\n",
    "Nc1 = Solución[0]\n",
    "f\"Nc1 {Nc1} N\""
   ]
  },
  {
   "cell_type": "code",
   "execution_count": 11,
   "id": "b42a62a2",
   "metadata": {},
   "outputs": [
    {
     "data": {
      "text/plain": [
       "'Nc2 6543.22674454413 N'"
      ]
     },
     "execution_count": 11,
     "metadata": {},
     "output_type": "execute_result"
    }
   ],
   "source": [
    "\"Fueza para cumplir con el esfuerzo de fluencia a tensión en los cables en N\"\n",
    "#Se usa la fluencia a tensión ya que nos dicen que los cables solo trabajan a tensión\n",
    "Esf_admi2 = NC2/AC\n",
    "Esf_Fluen = FT/FSF\n",
    "Ecu2 = sp.Eq(Esf_admi2,Esf_Fluen)\n",
    "Solución2 = sp.solve(Ecu2)\n",
    "Nc2 = Solución2[0]\n",
    "f\"Nc2 {Nc2} N\""
   ]
  },
  {
   "cell_type": "code",
   "execution_count": 12,
   "id": "a8311249",
   "metadata": {},
   "outputs": [
    {
     "data": {
      "text/plain": [
       "'Vp1 15180.2860473424 N'"
      ]
     },
     "execution_count": 12,
     "metadata": {},
     "output_type": "execute_result"
    }
   ],
   "source": [
    "#Todos los pasadores tienen la misma área y el mismo material, por ello solo es necesario calcular un fuerza por cada cortante\n",
    "\"Fuerza para cumplir con el esfuerzo de fluencia a cortante simple en los pasadores C, D, E\"\n",
    "Esf_admi3 = VP1/AP\n",
    "Esf_cort1 = FC/FSF\n",
    "Ecu3 = sp.Eq(Esf_admi3,Esf_cort1)\n",
    "Solución3 = sp.solve(Ecu3)\n",
    "Vp1 = Solución3[0]\n",
    "f\"Vp1 {Vp1} N\""
   ]
  },
  {
   "cell_type": "code",
   "execution_count": 13,
   "id": "0e1342f0",
   "metadata": {},
   "outputs": [
    {
     "data": {
      "text/plain": [
       "'Vp2 30360.5720946849 N'"
      ]
     },
     "execution_count": 13,
     "metadata": {},
     "output_type": "execute_result"
    }
   ],
   "source": [
    "\"Fuerza para cumplir con el esfuerzo de fluencia a cortante doble en los pasadores A y B\"\n",
    "Esf_admi4= VP2/(2*AP)\n",
    "Esf_cort2 = FC/FSF\n",
    "Ecu4 = sp.Eq(Esf_admi4,Esf_cort2)\n",
    "Solución4 = sp.solve(Ecu4)\n",
    "Vp2= Solución4[0]\n",
    "f\"Vp2 {Vp2} N\""
   ]
  },
  {
   "cell_type": "code",
   "execution_count": 14,
   "id": "51cddb67",
   "metadata": {},
   "outputs": [
    {
     "name": "stdout",
     "output_type": "stream",
     "text": [
      "ENCISO A\n",
      "Las fuerzas que cumplen con los esfuerzos propuestos son:\n",
      "\n",
      "['Nc1 = 10215.8765947076, Nc2 = 6543.22674454413, Vp1 = 15180.2860473424, Vp2 = 30360.5720946849']\n"
     ]
    }
   ],
   "source": [
    "\"\"\"\n",
    "Ahora agruparé los valores obtenidos en una lista con el fin de determinar el valor más pequeño de fuerza; se debe utilizar el\n",
    "más pequeño, porque con esto me aseguro de no pasarme en el valor de ninguno de los esfuerzos limite\n",
    "\"\"\"\n",
    "print(\"Las fuerzas que cumplen con los esfuerzos propuestos son:\")\n",
    "print()\n",
    "print([f\"Nc1 = {Nc1}, Nc2 = {Nc2}, Vp1 = {Vp1}, Vp2 = {Vp2}\"])\n",
    "Fuerzas = [Nc1,Nc2,Vp1,Vp2]"
   ]
  },
  {
   "cell_type": "code",
   "execution_count": 15,
   "id": "92e6cb6a",
   "metadata": {
    "scrolled": true
   },
   "outputs": [
    {
     "name": "stdout",
     "output_type": "stream",
     "text": [
      "\n",
      "La fuerza en los cables será de 6543.22674454413 N\n",
      "\n"
     ]
    }
   ],
   "source": [
    "#usaré la función nsmallest para encontrar el valor más pequeño de fuerza dentro de la lista\n",
    "Valor_small = he.nsmallest(1,Fuerzas)\n",
    "Fuerza = Valor_small[0]\n",
    "print()\n",
    "print(f\"La fuerza en los cables será de {Fuerza} N\")\n",
    "print()"
   ]
  },
  {
   "cell_type": "code",
   "execution_count": 16,
   "id": "4b7be783",
   "metadata": {},
   "outputs": [
    {
     "name": "stdout",
     "output_type": "stream",
     "text": [
      "GIE = 0 Estructura isostática\n"
     ]
    }
   ],
   "source": [
    "\"los tres cables tienen la misma fuerza, con ellas podemos utilizar la estática para determinar el valor W\"\n",
    "#Determinaré el GIE en primera instancia\n",
    "Incognitas_A = 3\n",
    "Ecuaciones_A = 3\n",
    "print(f\"GIE = {Incognitas_A - Ecuaciones_A} Estructura isostática\")\n"
   ]
  },
  {
   "cell_type": "code",
   "execution_count": 17,
   "id": "09b12fed",
   "metadata": {
    "scrolled": true
   },
   "outputs": [
    {
     "name": "stdout",
     "output_type": "stream",
     "text": [
      "\n",
      "La fuerza distribuida máxima con la que ninguno de los elementos fallará es de 7.50549252906295 kN/m\n"
     ]
    }
   ],
   "source": [
    "# W es una fuerza distribuida, por lo que para realizar momentos debo puntualizarla\n",
    "W = sp.symbols(\"W\")\n",
    "\n",
    "#Realizo sumatoria de momentos en A\n",
    "Sumatoria_A = -(W*LB)*(LB/2) + Fuerza*cos(ANG_BC)*LB + Fuerza*cos(ANG_BE)*LB + Fuerza*LB\n",
    "Momento = sp.Eq(Sumatoria_A,0)\n",
    "Sln = sp.solve(Momento)\n",
    "w = Sln[0]*10**-3\n",
    "print()\n",
    "print(f\"La fuerza distribuida máxima con la que ninguno de los elementos fallará es de {w} kN/m\")"
   ]
  },
  {
   "cell_type": "code",
   "execution_count": 19,
   "id": "ea771d26",
   "metadata": {},
   "outputs": [
    {
     "name": "stdout",
     "output_type": "stream",
     "text": [
      "ENCISO B\n"
     ]
    }
   ],
   "source": [
    "print(\"ENCISO B\")"
   ]
  },
  {
   "cell_type": "code",
   "execution_count": 20,
   "id": "89f70575",
   "metadata": {},
   "outputs": [
    {
     "name": "stdout",
     "output_type": "stream",
     "text": [
      "GIE = 2 Estructura hiperestática, es necesario obtener 2 ecuaciones de compatibilidad\n"
     ]
    }
   ],
   "source": [
    "'''\n",
    "Empezamos determinando el GIE de la estructura, se sabe que en A tenemos dos reacciones, mientras que en B tenemos tres\n",
    "fuerzas provenientes de los cables BC,BD y BE\n",
    "'''\n",
    "Incognitas_B = 5\n",
    "Ecuaciones_B = 3\n",
    "print(f\"GIE = {Incognitas_B - Ecuaciones_B} Estructura hiperestática, es necesario obtener 2 ecuaciones de compatibilidad\")"
   ]
  },
  {
   "cell_type": "code",
   "execution_count": 22,
   "id": "fc11eb5a",
   "metadata": {},
   "outputs": [
    {
     "data": {
      "text/latex": [
       "$\\displaystyle 3.21738666109971 NBC + 4.2 NBD + 2.69970796068347 NBE - 66.1984441063352 = 0$"
      ],
      "text/plain": [
       "Eq(3.21738666109971*NBC + 4.2*NBD + 2.69970796068347*NBE - 66.1984441063352, 0)"
      ]
     },
     "execution_count": 22,
     "metadata": {},
     "output_type": "execute_result"
    }
   ],
   "source": [
    "'''\n",
    "Ahora se deben obtener las ecuaciones de equilibrio de la estructura. Realizaré momento en A con el fin de dejar la ecuación\n",
    "en términos de las fuerzas de los cables\n",
    "'''\n",
    "NBC, NBD, NBE , Ax, Ay = sp.symbols(\"NBC NBD NBE Ax Ay\")\n",
    "\n",
    "#Sumatoria de momentos\n",
    "Sumatoria_M = -(LB/2)*LB*w + NBC*cos(ANG_BC)*LB + NBD*LB + NBE*cos(ANG_BE)*LB \n",
    "Ecu_M = sp.Eq(Sumatoria_M,0)\n",
    "Ecu_M"
   ]
  },
  {
   "cell_type": "code",
   "execution_count": 23,
   "id": "949e2d79",
   "metadata": {},
   "outputs": [
    {
     "data": {
      "text/latex": [
       "$\\displaystyle - Ax - 0.642787609686539 NBC + 0.766044443118978 NBE = 0$"
      ],
      "text/plain": [
       "Eq(-Ax - 0.642787609686539*NBC + 0.766044443118978*NBE, 0)"
      ]
     },
     "execution_count": 23,
     "metadata": {},
     "output_type": "execute_result"
    }
   ],
   "source": [
    "#Sumatoria de fuerzas en x\n",
    "Sumatoria_Fx = -Ax - NBC*sin(ANG_BC) + NBE*sin(ANG_BE)\n",
    "Ecu_Fx = sp.Eq(Sumatoria_Fx,0)\n",
    "Ecu_Fx"
   ]
  },
  {
   "cell_type": "code",
   "execution_count": 24,
   "id": "d257785f",
   "metadata": {},
   "outputs": [
    {
     "data": {
      "text/latex": [
       "$\\displaystyle Ay + 0.766044443118978 NBC + NBD + 0.642787609686539 NBE - 31.5230686220644 = 0$"
      ],
      "text/plain": [
       "Eq(Ay + 0.766044443118978*NBC + NBD + 0.642787609686539*NBE - 31.5230686220644, 0)"
      ]
     },
     "execution_count": 24,
     "metadata": {},
     "output_type": "execute_result"
    }
   ],
   "source": [
    "#Sumatoria de fuerzas en y\n",
    "Sumatoria_Fy = Ay + NBC*cos(ANG_BC) + NBE*cos(ANG_BE) + NBD - w*LB\n",
    "Ecu_Fy = sp.Eq(Sumatoria_Fy,0)\n",
    "Ecu_Fy"
   ]
  },
  {
   "cell_type": "code",
   "execution_count": 35,
   "id": "7cc7393e",
   "metadata": {},
   "outputs": [
    {
     "data": {
      "text/latex": [
       "$\\displaystyle 1.55572382686041 NBE$"
      ],
      "text/plain": [
       "1.55572382686041*NBE"
      ]
     },
     "execution_count": 35,
     "metadata": {},
     "output_type": "execute_result"
    }
   ],
   "source": [
    "'''\n",
    "Ahora se deben obtener las ecuaciones de compatibilidad para el sistema teniendo en cuenta que la barra es rigida,\n",
    "por ello solo rota a 90 grados de su eje. Del diagrama de willot se se obtiene \n",
    "'''\n",
    "#Ecuación para la deformación de los cables BE, BC y BD\n",
    "Def_BE = (NBE*LC)/(AC*E)\n",
    "Def_BC = (NBC*LC)/(AC*E)\n",
    "Def_BD = (NBD*LC)/(AC*E)\n",
    "\n",
    "\"Como se habla de un mismo material y de la misma área, las ecuaciones se pueden simplificar, quedando:\"\n",
    "Def_BEf = NBE\n",
    "Def_BCf = NBC\n",
    "\n",
    "#Ecuaciones para el desplazamiento del punto B\n",
    "BB = Def_BEf/cos(ANG_BE)\n",
    "BB2 = Def_BCf/cos(ANG_BC)\n",
    "BB"
   ]
  },
  {
   "cell_type": "code",
   "execution_count": 36,
   "id": "2a1dfec0",
   "metadata": {},
   "outputs": [
    {
     "data": {
      "text/latex": [
       "$\\displaystyle 1.30540728933228 NBC$"
      ],
      "text/plain": [
       "1.30540728933228*NBC"
      ]
     },
     "execution_count": 36,
     "metadata": {},
     "output_type": "execute_result"
    }
   ],
   "source": [
    "BB2"
   ]
  },
  {
   "cell_type": "code",
   "execution_count": 37,
   "id": "d4ef806f",
   "metadata": {},
   "outputs": [
    {
     "name": "stdout",
     "output_type": "stream",
     "text": [
      "Primera ecuación de compatibilidad\n"
     ]
    },
    {
     "data": {
      "text/latex": [
       "$\\displaystyle 1.55572382686041 NBE = 1.30540728933228 NBC$"
      ],
      "text/plain": [
       "Eq(1.55572382686041*NBE, 1.30540728933228*NBC)"
      ]
     },
     "execution_count": 37,
     "metadata": {},
     "output_type": "execute_result"
    }
   ],
   "source": [
    "print(\"Primera ecuación de compatibilidad\")\n",
    "'Se igualan BB y BB2 para obtener la cuarta ecuación del sistema'\n",
    "Ecu_Com1 = sp.Eq(BB,BB2)\n",
    "Ecu_Com1"
   ]
  },
  {
   "cell_type": "code",
   "execution_count": 39,
   "id": "2abb60cb",
   "metadata": {},
   "outputs": [
    {
     "name": "stdout",
     "output_type": "stream",
     "text": [
      "Segunda ecuación de compatibilidad\n"
     ]
    },
    {
     "data": {
      "text/latex": [
       "$\\displaystyle 0.000236823028966798 NBD = 1.55572382686041 NBE$"
      ],
      "text/plain": [
       "Eq(0.000236823028966798*NBD, 1.55572382686041*NBE)"
      ]
     },
     "execution_count": 39,
     "metadata": {},
     "output_type": "execute_result"
    }
   ],
   "source": [
    "print(\"Segunda ecuación de compatibilidad\")\n",
    "'''\n",
    "Se hace necesario obtener una 5 ecuación, para esto se tiene en cuenta que el desplazamiento del punto B es igual a la\n",
    "deformación del cable BD\n",
    "'''\n",
    "Def_BDf = NBD\n",
    "Ecu_Com2 = sp.Eq(Def_BD,BB)\n",
    "Ecu_Com2"
   ]
  },
  {
   "cell_type": "code",
   "execution_count": 49,
   "id": "c2611ca5",
   "metadata": {},
   "outputs": [
    {
     "name": "stdout",
     "output_type": "stream",
     "text": [
      "Matriz con ecuaciones\n",
      "El orden será Ax-Ay-NBC-NBD-NBE\n"
     ]
    },
    {
     "data": {
      "text/latex": [
       "$\\displaystyle \\left[\\begin{matrix}0 & 0 & 3.21738666109971 & 4.2 & 2.69970796068347\\\\-1 & 0 & -0.642787609686539 & 0 & 0.766044443118978\\\\0 & 1 & 0.766044443118978 & 1 & 0.642787609686539\\\\0 & 0 & -1.30540728933228 & 0 & 1.55572382686041\\\\0 & 0 & 0 & 1 & -1.55572382686041\\end{matrix}\\right]$"
      ],
      "text/plain": [
       "Matrix([\n",
       "[ 0, 0,   3.21738666109971, 4.2,  2.69970796068347],\n",
       "[-1, 0, -0.642787609686539,   0, 0.766044443118978],\n",
       "[ 0, 1,  0.766044443118978,   1, 0.642787609686539],\n",
       "[ 0, 0,  -1.30540728933228,   0,  1.55572382686041],\n",
       "[ 0, 0,                  0,   1, -1.55572382686041]])"
      ]
     },
     "execution_count": 49,
     "metadata": {},
     "output_type": "execute_result"
    }
   ],
   "source": [
    "#Para desarrollar el sistema 5x5 resulta efectivo crear una matriz y un vector solución\n",
    "print(\"Matriz con ecuaciones\")\n",
    "print('El orden será Ax-Ay-NBC-NBD-NBE')\n",
    "Matriz = sp.Matrix([[ 0,  0,  3.21738666109971, 4.2, 2.69970796068347],\n",
    "                    [-1, 0, -0.642787609686539, 0,  0.766044443118978],\n",
    "                    [0,  1,  0.766044443118978, 1,  0.642787609686539],\n",
    "                    [0,  0 ,-1.30540728933228,  0 , 1.55572382686041],\n",
    "                    [0,  0,             0,      1, -1.55572382686041]])\n",
    "\n",
    "Matriz"
   ]
  },
  {
   "cell_type": "code",
   "execution_count": 44,
   "id": "87407132",
   "metadata": {},
   "outputs": [
    {
     "name": "stdout",
     "output_type": "stream",
     "text": [
      "Vector solución\n"
     ]
    },
    {
     "data": {
      "text/latex": [
       "$\\displaystyle \\left[\\begin{matrix}66.1984441063352\\\\0\\\\31.5230686220644\\\\0\\\\0\\end{matrix}\\right]$"
      ],
      "text/plain": [
       "Matrix([\n",
       "[66.1984441063352],\n",
       "[               0],\n",
       "[31.5230686220644],\n",
       "[               0],\n",
       "[               0]])"
      ]
     },
     "execution_count": 44,
     "metadata": {},
     "output_type": "execute_result"
    }
   ],
   "source": [
    "print(\"Vector solución\")\n",
    "Vector = sp.Matrix([66.1984441063352, 0, 31.5230686220644, 0, 0])\n",
    "Vector"
   ]
  },
  {
   "cell_type": "code",
   "execution_count": 47,
   "id": "1e3b4cc7",
   "metadata": {},
   "outputs": [
    {
     "name": "stdout",
     "output_type": "stream",
     "text": [
      "Solución\n"
     ]
    },
    {
     "data": {
      "text/latex": [
       "$\\displaystyle \\left[\\begin{matrix}1.06581410364015 \\cdot 10^{-14}\\\\15.7615343110322\\\\6.03701788699765\\\\7.88076715551609\\\\5.06565948239038\\end{matrix}\\right]$"
      ],
      "text/plain": [
       "Matrix([\n",
       "[1.06581410364015e-14],\n",
       "[    15.7615343110322],\n",
       "[    6.03701788699765],\n",
       "[    7.88076715551609],\n",
       "[    5.06565948239038]])"
      ]
     },
     "execution_count": 47,
     "metadata": {},
     "output_type": "execute_result"
    }
   ],
   "source": [
    "print(\"Solución\")\n",
    "Sln_Fuerzas = Matriz.LUsolve(Vector)\n",
    "Sln_Fuerzas"
   ]
  },
  {
   "cell_type": "code",
   "execution_count": 52,
   "id": "a454c75b",
   "metadata": {},
   "outputs": [
    {
     "name": "stdout",
     "output_type": "stream",
     "text": [
      "REACCIONES\n",
      "Ax = 0.0 kN  Ay = 15.762 kN\n"
     ]
    }
   ],
   "source": [
    "print(\"REACCIONES\")\n",
    "Ax = round(Sln_Fuerzas[0],3)\n",
    "Ay = round(Sln_Fuerzas[1],3)\n",
    "print(f\"Ax = {Ax} kN  Ay = {Ay} kN\")"
   ]
  },
  {
   "cell_type": "code",
   "execution_count": 55,
   "id": "3c28051d",
   "metadata": {},
   "outputs": [
    {
     "name": "stdout",
     "output_type": "stream",
     "text": [
      "FUERZAS EN LOS CABLES\n",
      "NBC = 6.037 kN  NBD = 7.881 kN  NBE = 5.066 kN\n",
      "\n"
     ]
    }
   ],
   "source": [
    "print(\"FUERZAS EN LOS CABLES\")\n",
    "NBCf = round(Sln_Fuerzas[2],3)\n",
    "NBDf = round(Sln_Fuerzas[3],3)\n",
    "NBEf = round(Sln_Fuerzas[4],3)\n",
    "print(f\"NBC = {NBCf} kN  NBD = {NBDf} kN  NBE = {NBEf} kN\")\n",
    "print()"
   ]
  },
  {
   "cell_type": "code",
   "execution_count": 62,
   "id": "98de28d9",
   "metadata": {},
   "outputs": [
    {
     "name": "stdout",
     "output_type": "stream",
     "text": [
      "DEFORMACIÓN EN LOS CABLES\n",
      "Def_BC = 0.0014 mm  Def_BD = 0.0019 mm  Def_BE = 0.0012 mm\n",
      "\n",
      "Recordar que la deformación del cable BD es igual al desplazamiento del punto B, es decir 0.0019 mm\n"
     ]
    }
   ],
   "source": [
    "'''\n",
    "Para las deformaciónes se utilizan las ecuaciones de deformación antes de ser simplificadas, esto porque ya no es necesario\n",
    "igualar los desplazamientos del punto B\n",
    "'''\n",
    "print(\"DEFORMACIÓN EN LOS CABLES\")\n",
    "Def_BC = Def_BC.subs(NBC,NBCf)\n",
    "Def_BD = Def_BD.subs(NBD,NBDf)\n",
    "Def_BE = Def_BE.subs(NBE,NBEf)\n",
    "print(f\"Def_BC = {round(Def_BC,4)} mm  Def_BD = {round(Def_BD,4)} mm  Def_BE = {round(Def_BE,4)} mm\")\n",
    "print()\n",
    "print(f\"Recordar que la deformación del cable BD es igual al desplazamiento del punto B, es decir {round(Def_BD,4)} mm\")"
   ]
  },
  {
   "cell_type": "code",
   "execution_count": null,
   "id": "a77cf381",
   "metadata": {},
   "outputs": [],
   "source": []
  }
 ],
 "metadata": {
  "kernelspec": {
   "display_name": "Python 3 (ipykernel)",
   "language": "python",
   "name": "python3"
  },
  "language_info": {
   "codemirror_mode": {
    "name": "ipython",
    "version": 3
   },
   "file_extension": ".py",
   "mimetype": "text/x-python",
   "name": "python",
   "nbconvert_exporter": "python",
   "pygments_lexer": "ipython3",
   "version": "3.9.6"
  }
 },
 "nbformat": 4,
 "nbformat_minor": 5
}
