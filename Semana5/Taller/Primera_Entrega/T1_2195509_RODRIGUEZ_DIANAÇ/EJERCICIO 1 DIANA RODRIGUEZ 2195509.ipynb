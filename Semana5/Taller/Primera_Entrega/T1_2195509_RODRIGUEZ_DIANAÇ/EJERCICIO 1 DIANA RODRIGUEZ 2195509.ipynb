{
 "cells": [
  {
   "cell_type": "code",
   "execution_count": 1,
   "id": "0b3deaa1",
   "metadata": {},
   "outputs": [],
   "source": [
    "import numpy as np \n",
    "import sympy as sp "
   ]
  },
  {
   "cell_type": "code",
   "execution_count": 2,
   "id": "2e22b9b6",
   "metadata": {},
   "outputs": [
    {
     "ename": "SyntaxError",
     "evalue": "invalid syntax (2393110895.py, line 10)",
     "output_type": "error",
     "traceback": [
      "\u001b[0;36m  File \u001b[0;32m\"/tmp/ipykernel_51842/2393110895.py\"\u001b[0;36m, line \u001b[0;32m10\u001b[0m\n\u001b[0;31m    area pasadorees = np.pi * (diametro_pasadores * 25.4 / 1000) ** 2 / 4\u001b[0m\n\u001b[0m         ^\u001b[0m\n\u001b[0;31mSyntaxError\u001b[0m\u001b[0;31m:\u001b[0m invalid syntax\n"
     ]
    }
   ],
   "source": [
    "#metros \n",
    "longitud_cables = 1.5\n",
    "#pulgadas \n",
    "diametro_cables = 1/4\n",
    "# mm 2\n",
    "area_cables = np.pi * (diametro_cables * 25.4 / 1000) ** 2 / 4\n",
    "#pulgadas \n",
    "diametro_pasadores = 1 / 2 \n",
    "# mm 2 \n",
    "area pasadorees = np.pi * (diametro_pasadores * 25.4 / 1000) ** 2 / 4\n",
    "\n",
    "\n",
    "codigo = \"2195509\"\n",
    "x= sum([int(i) for i in codigo])\n",
    "# metros \n",
    "L = 0.2 * X \n",
    "\n",
    "FS_fluencia = float(f\"1.{x}\")\n",
    "FS_resistencia_ultima = float(f\"1.{x + 3}\")ç\n",
    "\n",
    "angulo_BC = 40 * np.pi/180 \n",
    "angulo_BE = 50 * np*pi/180\n",
    "\n",
    "\n",
    "\n"
   ]
  },
  {
   "cell_type": "code",
   "execution_count": null,
   "id": "76be71b0",
   "metadata": {},
   "outputs": [],
   "source": [
    "## Propiedades del material en megapascales MPa\n",
    "esfuerzo_último = 400\n",
    "esfuerzo_fluencia_tracción = 250\n",
    "esfuerzo_fluencia_compresión = 145\n",
    "## Módulo de elasticidad en Gigapascales GPa\n",
    "E = 200\n",
    "\n"
   ]
  },
  {
   "cell_type": "code",
   "execution_count": null,
   "id": "182c645a",
   "metadata": {},
   "outputs": [],
   "source": [
    "## ECUACIONES DE EQUILIBRIO EN X \n",
    "Ax, Ay, BC, BD, BE, W = sp.symbols('Ax Ay BC BD BE W')\n",
    "\n",
    "Fx = Ax - BC * sp.sin(ángulo_BC) + BE * sp.sin(ángulo_BE)\n",
    "equilibrio_X = sp.Eq(Fx , 0)\n",
    "equilibrio_X\n",
    "print(\"ΣFx = \",Fx, \"= 0\")\n",
    "\n",
    "\n",
    "## ECUACIONES DE EQUILIBRIO EN Y\n",
    "Fy = Ay - W * L + BC * sp.cos(ángulo_BC) + BE * sp.sin(ángulo_BE) + BD\n",
    "equilibrio_Y = sp.Eq(Fy , 0)\n",
    "equilibrio_Y\n",
    "print(\"ΣFy = \",Fy, \"= 0\")\n"
   ]
  },
  {
   "cell_type": "code",
   "execution_count": null,
   "id": "a3efc67e",
   "metadata": {},
   "outputs": [],
   "source": [
    "M_a = - W * L ** 2 / 2 + BC * sp.cos(ángulo_BC) * L + BE * sp.cos(ángulo_BE) * L + BD * L\n",
    "equilibrio_momentos = sp.Eq(M_a , 0)\n",
    "equilibrio_momentos\n",
    "print(\"Ma= \", M_a , \"= 0\")\n"
   ]
  },
  {
   "cell_type": "code",
   "execution_count": null,
   "id": "799c4496",
   "metadata": {},
   "outputs": [],
   "source": [
    "## Por compatibilidad de desplazamientos\n",
    "equivalencia_BC = sp.Eq(BC - BD * sp.cos(ángulo_BC), 0)\n",
    "ecuación_equivalente_BC = BD * sp.cos(ángulo_BC)\n",
    "equivalencia_BC\n",
    "print(equivalencia_BC, \"= 0\")"
   ]
  },
  {
   "cell_type": "code",
   "execution_count": null,
   "id": "7a9df9d8",
   "metadata": {},
   "outputs": [],
   "source": [
    "equivalencia_BE = sp.Eq(BE - BD * sp.cos(angulo_BE), 0)\n",
    "ecuación_equivalente_BE = BD * sp.cos(angulo_BE)\n",
    "equivalencia_BE\n",
    "print(equivalencia_BE, \"= 0\")\n"
   ]
  },
  {
   "cell_type": "code",
   "execution_count": null,
   "id": "1c8903d9",
   "metadata": {},
   "outputs": [],
   "source": [
    "## con el equilibro de momentos se puede calcular BD asi: \n",
    "ecuación = sp.Eq(M_a.subs([(BC, ecuación_equivalente_BC), (BE, ecuación_equivalente_BE)]), 0)\n",
    "ecuación\n",
    "print(ecuación, \"= 0\")\n",
    "\n",
    "\n",
    "BD_respecto_W = sp.solve(ecuación)[0][BD]\n",
    "BD_respecto_W\n",
    "print(BD_respecto_W)\n",
    "\n",
    "F_BC = ecuación_equivalente_BC.subs(BD, BD_respecto_W)\n",
    "F_BE = ecuación_equivalente_BE.subs(BD, BD_respecto_W)\n",
    "\n",
    "Fuerzas_cables = [F_BC, BD_respecto_W, F_BE]\n",
    "Fuerzas_cables\n",
    "print(\"F_BC, BD_respecto_W, F_BE :\", Fuerzas_cables)\n",
    "\n"
   ]
  },
  {
   "cell_type": "code",
   "execution_count": null,
   "id": "4b86e370",
   "metadata": {},
   "outputs": [],
   "source": [
    "w_max = []\n",
    "for fuerza in Fuerzas_cables:\n",
    "    ## Esfuerzo normal en los cables\n",
    "    ecuación_esfuerzo_normal = sp.Eq(fuerza / área_cables, esfuerzo_último * 10 ** 6 / FS_resistencia_última)\n",
    "    w_cables = sp.solve(ecuación_esfuerzo_normal)[0] / 1000\n",
    "    ## Cortante en los pasadores superiores\n",
    "    ecuación_esfuerzo_cortante = sp.Eq(fuerza / área_pasadores, esfuerzo_fluencia_compresión * 10 **6 / FS_fluencia)\n",
    "    w_pasadores = sp.solve(ecuación_esfuerzo_cortante)[0] / 1000\n",
    "    w_max.append(w_cables)\n",
    "    w_max.append(w_pasadores)\n",
    "    "
   ]
  },
  {
   "cell_type": "code",
   "execution_count": null,
   "id": "95e05059",
   "metadata": {},
   "outputs": [],
   "source": [
    "print(\"Carga distribuida máxima por pasadores [kN / m]\")\n",
    "carga_maxima = min(w_max)\n",
    "carga_maxima\n",
    "print(carga_maxima)\n",
    "\n",
    "\n",
    "## calculos\n",
    "\n",
    "\n",
    "## CÁLCULO DE FUERZAS Y DEFORMACIONES\n",
    "Fuerza_BE = ecuación_equivalente_BE.subs([(BD, BD_respecto_W), (W, carga_maxima)])\n",
    "deformación_BE = (Fuerza_BE * 1000 * longitud_cables) / (área_cables * E * 10 ** 9)\n",
    "\n",
    "\n",
    "## Fuerza en kilonewtons  kN y deformación en (mm)\n",
    "Fuerza_BE, deformación_BE * 1000\n",
    "print(\"Deformación en BE:\", deformación_BE)\n",
    "print(\"Fuerza de BE:\", Fuerza_BE)\n",
    "\n",
    "\n",
    "Fuerza_BC = ecuación_equivalente_BC.subs([(BD, BD_respecto_W), (W, carga_maxima)])\n",
    "deformación_BC = (Fuerza_BC * 1000 * longitud_cables) / (área_cables * E * 10 ** 9)\n",
    "Fuerza_BC, deformación_BC * 1000\n",
    "print(\"Deformación en BC:\", deformación_BC)\n",
    "print(\"Fuerza de BC:\", Fuerza_BC)\n",
    "\n",
    "\n",
    "Fuerza_BD = BD_respecto_W.subs(W, carga_maxima)\n",
    "deformación_BD = (Fuerza_BD * 1000 * longitud_cables) / (área_cables * E * 10 ** 9)\n",
    "Fuerza_BD, deformación_BD * 1000\n",
    "print(\"Deformación en BD:\",deformación_BD)\n",
    "print(\"Fuerza en BD\", Fuerza_BD)\n",
    "\n",
    "\n",
    "Valor_Ax = Fx.subs([(BE, Fuerza_BE), (BC, Fuerza_BC)])\n",
    "Valor_Ax = sp.solve(sp.Eq(Valor_Ax, 0)) [0]\n",
    "Valor_Ax\n",
    "print(\"Reacción Ax:\", Valor_Ax)\n",
    "\n",
    "\n",
    "Valor_Ay = Fy.subs([(BE, Fuerza_BE), (BC, Fuerza_BC), (BD, Fuerza_BD), (W, carga_maxima)])\n",
    "Valor_Ay = sp.solve(sp.Eq(Valor_Ay, 0)) [0]\n",
    "Valor_Ay\n",
    "print(\"Reacción Ay:\", Valor_Ay)\n"
   ]
  },
  {
   "cell_type": "code",
   "execution_count": null,
   "id": "694f92d0",
   "metadata": {},
   "outputs": [],
   "source": []
  },
  {
   "cell_type": "code",
   "execution_count": null,
   "id": "39e0854c",
   "metadata": {},
   "outputs": [],
   "source": []
  }
 ],
 "metadata": {
  "kernelspec": {
   "display_name": "Python 3 (ipykernel)",
   "language": "python",
   "name": "python3"
  },
  "language_info": {
   "codemirror_mode": {
    "name": "ipython",
    "version": 3
   },
   "file_extension": ".py",
   "mimetype": "text/x-python",
   "name": "python",
   "nbconvert_exporter": "python",
   "pygments_lexer": "ipython3",
   "version": "3.8.10"
  }
 },
 "nbformat": 4,
 "nbformat_minor": 5
}
