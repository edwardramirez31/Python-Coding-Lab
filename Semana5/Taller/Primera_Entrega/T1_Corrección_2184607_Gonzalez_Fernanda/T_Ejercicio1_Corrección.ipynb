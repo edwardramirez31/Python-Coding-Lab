{
 "cells": [
  {
   "cell_type": "code",
   "execution_count": 1,
   "id": "96e60c34",
   "metadata": {},
   "outputs": [],
   "source": [
    "import numpy as np\n",
    "import sympy as sp"
   ]
  },
  {
   "cell_type": "code",
   "execution_count": 2,
   "id": "665c92f3",
   "metadata": {},
   "outputs": [],
   "source": [
    "# Dimensiones de los cables\n",
    "# Longitud [m] \n",
    "longitud_c = 1.5\n",
    "# Diametro [mm] \n",
    "diametro_c = 6.35\n",
    "# Área [mm2]\n",
    "area_c = np.pi * (diametro_c) ** 2 / 4\n",
    "\n",
    "# Dimensiones de los pasadores\n",
    "# Diametro [mm]\n",
    "diametro_p = 12.7\n",
    "# Área [mm2]\n",
    "area_p = np.pi * (diametro_p) ** 2 / 4\n",
    "\n",
    "# Valor de X para el ejercicio\n",
    "codigo = \"2184607\"\n",
    "X = sum ([int(i) for i in codigo])\n",
    "\n",
    "# Longitud de la viga (m)\n",
    "L = 0.2 * X\n",
    "\n",
    "# Factores de seguridad\n",
    "FS_fluencia = float (f\"1.{X}\")\n",
    "FS_resistencia_ultima = float(f\"1.{X + 3}\") \n",
    "\n",
    "# Angulos en radianes\n",
    "angulo_BC = 40 * np.pi / 180\n",
    "angulo_BE = 50 * np.pi / 180"
   ]
  },
  {
   "cell_type": "code",
   "execution_count": 3,
   "id": "dae255a4",
   "metadata": {},
   "outputs": [],
   "source": [
    "# Propiedades del material\n",
    " \n",
    "# Esfuerzo ultimo [MPa]\n",
    "Esf_ultimo = 400\n",
    "\n",
    "# Esfuerzo de fluencia corte [MPa]\n",
    "Esf_cortante = 145\n",
    "\n",
    "# Modulo de elasticidad [GPa] \n",
    "E = 200"
   ]
  },
  {
   "cell_type": "code",
   "execution_count": 4,
   "id": "ff6823bf",
   "metadata": {},
   "outputs": [],
   "source": [
    "# Equilibrio [MPa]\n",
    "Ax, Ay, BC, BD, BE, W = sp.symbols ('Ax Ay BC BD BE W')"
   ]
  },
  {
   "cell_type": "code",
   "execution_count": 5,
   "id": "40e9d1b9",
   "metadata": {},
   "outputs": [
    {
     "data": {
      "text/latex": [
       "$\\displaystyle Ax - 0.642787609686539 BC + 0.766044443118978 BE = 0$"
      ],
      "text/plain": [
       "Eq(Ax - 0.642787609686539*BC + 0.766044443118978*BE, 0)"
      ]
     },
     "execution_count": 5,
     "metadata": {},
     "output_type": "execute_result"
    }
   ],
   "source": [
    "# Ecuación equilibrio eje X\n",
    "Fx = Ax - BC * sp.sin(angulo_BC) + BE * sp.sin(angulo_BE)\n",
    "equilibrio_x = sp.Eq(Fx,0)\n",
    "equilibrio_x"
   ]
  },
  {
   "cell_type": "code",
   "execution_count": 6,
   "id": "3d5dae41",
   "metadata": {},
   "outputs": [
    {
     "data": {
      "text/latex": [
       "$\\displaystyle Ay + 0.766044443118978 BC + BD + 0.642787609686539 BE - 5.6 W = 0$"
      ],
      "text/plain": [
       "Eq(Ay + 0.766044443118978*BC + BD + 0.642787609686539*BE - 5.6*W, 0)"
      ]
     },
     "execution_count": 6,
     "metadata": {},
     "output_type": "execute_result"
    }
   ],
   "source": [
    "# Ecuación equilibrio eje Y\n",
    "Fy = Ay + BC * sp.cos(angulo_BC) + BE * sp.cos(angulo_BE) - W * L + BD\n",
    "equilibrio_y = sp.Eq(Fy,0)\n",
    "equilibrio_y"
   ]
  },
  {
   "cell_type": "code",
   "execution_count": 7,
   "id": "bab2304e",
   "metadata": {},
   "outputs": [
    {
     "data": {
      "text/latex": [
       "$\\displaystyle 4.28984888146628 BC + 5.6 BD + 3.59961061424462 BE - 15.68 W = 0$"
      ],
      "text/plain": [
       "Eq(4.28984888146628*BC + 5.6*BD + 3.59961061424462*BE - 15.68*W, 0)"
      ]
     },
     "execution_count": 7,
     "metadata": {},
     "output_type": "execute_result"
    }
   ],
   "source": [
    "# Ecuación de equilibrio Momentos\n",
    "Momento_A = -W * L ** 2/2 + BD * L + BC * sp.cos(angulo_BC) * L + BE * sp.cos(angulo_BE) *L\n",
    "equilibrio_MA = sp.Eq(Momento_A,0)\n",
    "equilibrio_MA"
   ]
  },
  {
   "cell_type": "code",
   "execution_count": 8,
   "id": "21f9a92a",
   "metadata": {},
   "outputs": [
    {
     "data": {
      "text/latex": [
       "$\\displaystyle 0.642787609686539 BC - 0.766044443118978 BE = 0$"
      ],
      "text/plain": [
       "Eq(0.642787609686539*BC - 0.766044443118978*BE, 0)"
      ]
     },
     "execution_count": 8,
     "metadata": {},
     "output_type": "execute_result"
    }
   ],
   "source": [
    "# Ecuación de Compatibilidad 1\n",
    "# Con el desplazamiento del cable BD podemos relacionar los desplazaientos en BC y BE\n",
    "\n",
    "ecuacion_compatibilidad_1 = sp.Eq(BC * sp.cos(angulo_BE) - BE * sp.cos(angulo_BC),0)\n",
    "expresion_equivalencia_BC = BE * sp.cos(angulo_BC) / sp.cos (angulo_BE)\n",
    "ecuacion_compatibilidad_1"
   ]
  },
  {
   "cell_type": "code",
   "execution_count": 9,
   "id": "2c7d74c7",
   "metadata": {},
   "outputs": [
    {
     "data": {
      "text/plain": [
       "[{BC: 1.19175359259421*BE}]"
      ]
     },
     "execution_count": 9,
     "metadata": {},
     "output_type": "execute_result"
    }
   ],
   "source": [
    "BC_VS_BE = sp.solve(ecuacion_compatibilidad_1)\n",
    "BC_VS_BE"
   ]
  },
  {
   "cell_type": "code",
   "execution_count": 10,
   "id": "425c6abb",
   "metadata": {},
   "outputs": [
    {
     "data": {
      "text/latex": [
       "$\\displaystyle - 0.642787609686539 BD + BE = 0$"
      ],
      "text/plain": [
       "Eq(-0.642787609686539*BD + BE, 0)"
      ]
     },
     "execution_count": 10,
     "metadata": {},
     "output_type": "execute_result"
    }
   ],
   "source": [
    "# Ecuación de compatibilidad 2\n",
    "ecuacion_compatibilidad_2 = sp.Eq(BE - BD *sp.cos(angulo_BE),0)\n",
    "expresion_equivalencia_BE = BD * sp.cos(angulo_BE)\n",
    "ecuacion_compatibilidad_2"
   ]
  },
  {
   "cell_type": "code",
   "execution_count": 11,
   "id": "444a0acf",
   "metadata": {},
   "outputs": [
    {
     "data": {
      "text/plain": [
       "[{BD: 1.55572382686041*BE}]"
      ]
     },
     "execution_count": 11,
     "metadata": {},
     "output_type": "execute_result"
    }
   ],
   "source": [
    "# BD en función de BE\n",
    "BD_VS_BE = sp.solve(ecuacion_compatibilidad_2)\n",
    "BD_VS_BE"
   ]
  },
  {
   "cell_type": "code",
   "execution_count": 12,
   "id": "0028dd8e",
   "metadata": {},
   "outputs": [
    {
     "data": {
      "text/latex": [
       "$\\displaystyle Ax = 0$"
      ],
      "text/plain": [
       "Eq(Ax, 0)"
      ]
     },
     "execution_count": 12,
     "metadata": {},
     "output_type": "execute_result"
    }
   ],
   "source": [
    "# Reemplazo en la ecuaciones de equilibrio\n",
    "# Eje X\n",
    "Ecuación_1 = sp.Eq(Fx.subs([(BC,expresion_equivalencia_BC),(BE,expresion_equivalencia_BE)]),0)\n",
    "Ecuación_1 "
   ]
  },
  {
   "cell_type": "code",
   "execution_count": 13,
   "id": "09759f23",
   "metadata": {},
   "outputs": [
    {
     "data": {
      "text/latex": [
       "$\\displaystyle Ay + 2.0 BD - 5.6 W = 0$"
      ],
      "text/plain": [
       "Eq(Ay + 2.0*BD - 5.6*W, 0)"
      ]
     },
     "execution_count": 13,
     "metadata": {},
     "output_type": "execute_result"
    }
   ],
   "source": [
    "# Reemplazo en la ecuaciones de equilibrio\n",
    "# Eje Y\n",
    "Ecuación_2 = sp.Eq(Fy.subs([(BC,expresion_equivalencia_BC),(BE,expresion_equivalencia_BE),(BD,BD_VS_BE)]),0)\n",
    "Ecuación_2 "
   ]
  },
  {
   "cell_type": "code",
   "execution_count": 14,
   "id": "2afe2e60",
   "metadata": {},
   "outputs": [
    {
     "data": {
      "text/latex": [
       "$\\displaystyle 11.2 BD - 15.68 W = 0$"
      ],
      "text/plain": [
       "Eq(11.2*BD - 15.68*W, 0)"
      ]
     },
     "execution_count": 14,
     "metadata": {},
     "output_type": "execute_result"
    }
   ],
   "source": [
    "# Reemplazo en la ecuaciones de equilibrio Momento en A\n",
    "Ecuación_3 = sp.Eq(Momento_A.subs([(BC,expresion_equivalencia_BC),(BE,expresion_equivalencia_BE),(BD,BD_VS_BE)]),0)\n",
    "Ecuación_3"
   ]
  },
  {
   "cell_type": "code",
   "execution_count": 15,
   "id": "4b734a28",
   "metadata": {},
   "outputs": [
    {
     "data": {
      "text/latex": [
       "$\\displaystyle 1.4 W$"
      ],
      "text/plain": [
       "1.4*W"
      ]
     },
     "execution_count": 15,
     "metadata": {},
     "output_type": "execute_result"
    }
   ],
   "source": [
    "# FUERZA BD en funcion de W\n",
    "BD_VS_W = sp.solve(11.2*BD-15.68*W)[0][BD]\n",
    "BD_VS_W"
   ]
  },
  {
   "cell_type": "code",
   "execution_count": 16,
   "id": "dbc95071",
   "metadata": {
    "scrolled": true
   },
   "outputs": [
    {
     "data": {
      "text/latex": [
       "$\\displaystyle Ay - 2.8 W = 0$"
      ],
      "text/plain": [
       "Eq(Ay - 2.8*W, 0)"
      ]
     },
     "execution_count": 16,
     "metadata": {},
     "output_type": "execute_result"
    }
   ],
   "source": [
    "# Ecuación para FUERZA Ay en funcion de W\n",
    "Valor_Ay = sp.Eq((Ay+2.0*BD-5.6*W).subs([(BD,BD_VS_W)]),0)\n",
    "Valor_Ay"
   ]
  },
  {
   "cell_type": "code",
   "execution_count": 17,
   "id": "c038193b",
   "metadata": {},
   "outputs": [
    {
     "data": {
      "text/latex": [
       "$\\displaystyle 2.8 W$"
      ],
      "text/plain": [
       "2.8*W"
      ]
     },
     "execution_count": 17,
     "metadata": {},
     "output_type": "execute_result"
    }
   ],
   "source": [
    "# FUERZA Ay en funcion de W\n",
    "Ay_VS_W = sp.solve(Valor_Ay)[0][Ay]\n",
    "Ay_VS_W"
   ]
  },
  {
   "cell_type": "code",
   "execution_count": 18,
   "id": "5b535e02",
   "metadata": {},
   "outputs": [
    {
     "data": {
      "text/latex": [
       "$\\displaystyle BE - 0.899902653561155 W = 0$"
      ],
      "text/plain": [
       "Eq(BE - 0.899902653561155*W, 0)"
      ]
     },
     "execution_count": 18,
     "metadata": {},
     "output_type": "execute_result"
    }
   ],
   "source": [
    "# Con la ecuacion de expresion de equivalencia de la fuerza BE se reemplaza la fuerza que se hallo de BD\n",
    "# FUERZA BE en funcion de W\n",
    "Valor_BE = sp.Eq((BE - BD *sp.cos(angulo_BE)).subs([(BD,BD_VS_W)]),0)\n",
    "Valor_BE            "
   ]
  },
  {
   "cell_type": "code",
   "execution_count": 19,
   "id": "c87303f3",
   "metadata": {},
   "outputs": [
    {
     "data": {
      "text/latex": [
       "$\\displaystyle 0.899902653561155 W$"
      ],
      "text/plain": [
       "0.899902653561155*W"
      ]
     },
     "execution_count": 19,
     "metadata": {},
     "output_type": "execute_result"
    }
   ],
   "source": [
    "# Ecuación para FUERZA BE en funcion de W\n",
    "BE_VS_W = sp.solve(Valor_BE)[0][BE]\n",
    "BE_VS_W"
   ]
  },
  {
   "cell_type": "code",
   "execution_count": 20,
   "id": "f0dca42b",
   "metadata": {},
   "outputs": [
    {
     "data": {
      "text/latex": [
       "$\\displaystyle 0.642787609686539 BC - 0.689365427108546 W = 0$"
      ],
      "text/plain": [
       "Eq(0.642787609686539*BC - 0.689365427108546*W, 0)"
      ]
     },
     "execution_count": 20,
     "metadata": {},
     "output_type": "execute_result"
    }
   ],
   "source": [
    "# Ecuación para FUERZA BC en funcion de W\n",
    "Valor_BC = sp.Eq((BC * sp.cos(angulo_BE) - BE * sp.cos(angulo_BC)).subs([(BE,BE_VS_W)]),0)\n",
    "Valor_BC"
   ]
  },
  {
   "cell_type": "code",
   "execution_count": 21,
   "id": "2c2c6d0b",
   "metadata": {},
   "outputs": [
    {
     "data": {
      "text/latex": [
       "$\\displaystyle 1.07246222036657 W$"
      ],
      "text/plain": [
       "1.07246222036657*W"
      ]
     },
     "execution_count": 21,
     "metadata": {},
     "output_type": "execute_result"
    }
   ],
   "source": [
    "# FUERZA BC en funcion de W\n",
    "BC_VS_W = sp.solve(Valor_BC)[0][BC]\n",
    "BC_VS_W"
   ]
  },
  {
   "cell_type": "code",
   "execution_count": 22,
   "id": "f011e658",
   "metadata": {},
   "outputs": [],
   "source": [
    "# RESULTADOS FUERZAS EN FUNCIÓN DE W\n",
    "# 𝐴𝑥 = 0\n",
    "# BD = 1.4𝑊\n",
    "# AY = 2.8𝑊\n",
    "# BE = 0.899902653561155𝑊\n",
    "# BC = 1.07246222036657𝑊"
   ]
  },
  {
   "cell_type": "code",
   "execution_count": 23,
   "id": "3e35266c",
   "metadata": {},
   "outputs": [
    {
     "data": {
      "text/plain": [
       "13.380531156821034"
      ]
     },
     "execution_count": 23,
     "metadata": {},
     "output_type": "execute_result"
    }
   ],
   "source": [
    "# ANÁLISIS PARA PASADORES POR CORTANTE SIMPLE (C,D,E)\n",
    "\n",
    "# Carga en [KN/m] para C\n",
    "W_C = ((Esf_cortante*(np.pi/4)*(diametro_p)**2)/(FS_fluencia*1.07246222036657*1000))\n",
    "W_C"
   ]
  },
  {
   "cell_type": "code",
   "execution_count": 24,
   "id": "721aa9f2",
   "metadata": {},
   "outputs": [
    {
     "data": {
      "text/plain": [
       "10.25008153866311"
      ]
     },
     "execution_count": 24,
     "metadata": {},
     "output_type": "execute_result"
    }
   ],
   "source": [
    "# ANÁLISIS PARA PASADORES POR CORTANTE SIMPLE (C,D,E)\n",
    "\n",
    "# Carga en [KN/m] para D\n",
    "W_D = ((Esf_cortante*(np.pi/4)*(diametro_p)**2)/(FS_fluencia*1.4*1000))\n",
    "W_D"
   ]
  },
  {
   "cell_type": "code",
   "execution_count": 25,
   "id": "5b05ddae",
   "metadata": {},
   "outputs": [
    {
     "data": {
      "text/plain": [
       "15.946296076960234"
      ]
     },
     "execution_count": 25,
     "metadata": {},
     "output_type": "execute_result"
    }
   ],
   "source": [
    "# ANÁLISIS PARA PASADORES POR CORTANTE SIMPLE (C,D,E)\n",
    "\n",
    "# Carga en [KN/m] para E\n",
    "W_E = ((Esf_cortante*(np.pi/4)*(diametro_p)**2)/(FS_fluencia*0.899902653561155*1000))\n",
    "W_E"
   ]
  },
  {
   "cell_type": "code",
   "execution_count": 26,
   "id": "868f57a0",
   "metadata": {
    "scrolled": true
   },
   "outputs": [
    {
     "data": {
      "text/plain": [
       "10.25008153866311"
      ]
     },
     "execution_count": 26,
     "metadata": {},
     "output_type": "execute_result"
    }
   ],
   "source": [
    "# ANÁLISIS PARA PASADORES POR CORTANTE DOBLE (A,B)\n",
    "\n",
    "# Carga en [KN/m] para A\n",
    "W_A = ((Esf_cortante*(2*np.pi/4)*(diametro_p)**2)/(FS_fluencia*2.8*1000))\n",
    "W_A"
   ]
  },
  {
   "cell_type": "code",
   "execution_count": 27,
   "id": "7fb10762",
   "metadata": {},
   "outputs": [
    {
     "data": {
      "text/plain": [
       "10.252131965056119"
      ]
     },
     "execution_count": 27,
     "metadata": {},
     "output_type": "execute_result"
    }
   ],
   "source": [
    "# ANÁLISIS PARA PASADORES POR CORTANTE DOBLE (A,B)\n",
    "\n",
    "# Carga en [KN/m] para B\n",
    "W_B = ((Esf_cortante*(2*np.pi/4)*(diametro_p)**2)/(FS_fluencia*2.79944*1000))\n",
    "W_B\n",
    "# EN ESTE PASADOR ACTUAN 3 FUERZAS POR LO QUE SE SACA UNA RESULTANTE DE ELLAS CUYA MAGNITUD FUE DE 2.79944"
   ]
  },
  {
   "cell_type": "code",
   "execution_count": 28,
   "id": "4c160485",
   "metadata": {},
   "outputs": [],
   "source": [
    "# RESULTADOS ANÁLISIS PARA PASADORES\n",
    "\n",
    "# PASADORES POR CORTANTE SIMPLE (C,D,E)\n",
    "# Carga en para C = 13.380531156821034 [KN/m]\n",
    "# Carga en para D = 10.25008153866311 [KN/m]\n",
    "# Carga en para E = 15.946296076960234 [KN/m]\n",
    "\n",
    "# PASADORES POR CORTANTE DOBLE (A,B)\n",
    "# Carga en para A = 10.25008153866311 [KN/m]\n",
    "# Carga en para B = 10.252131965056119 [KN/m]"
   ]
  },
  {
   "cell_type": "code",
   "execution_count": 29,
   "id": "46dd47e1",
   "metadata": {},
   "outputs": [
    {
     "data": {
      "text/plain": [
       "9.01662536495442"
      ]
     },
     "execution_count": 29,
     "metadata": {},
     "output_type": "execute_result"
    }
   ],
   "source": [
    "# ANÁLISIS PARA CABLES (BC,BD,BE)\n",
    "\n",
    "# Carga en [KN/m] para BC\n",
    "W_BC = ((Esf_ultimo*(np.pi/4)*(diametro_c)**2)/(FS_resistencia_ultima*1.07246222036657*1000))\n",
    "W_BC"
   ]
  },
  {
   "cell_type": "code",
   "execution_count": 30,
   "id": "7ec9794b",
   "metadata": {},
   "outputs": [
    {
     "data": {
      "text/plain": [
       "6.907135756508966"
      ]
     },
     "execution_count": 30,
     "metadata": {},
     "output_type": "execute_result"
    }
   ],
   "source": [
    "# ANÁLISIS PARA CABLES (BC,BD,BE)\n",
    "\n",
    "# Carga en [KN/m] para BD\n",
    "W_BD = ((Esf_ultimo*(np.pi/4)*(diametro_c)**2)/(FS_resistencia_ultima*1.4*1000))\n",
    "W_BD"
   ]
  },
  {
   "cell_type": "code",
   "execution_count": 31,
   "id": "89bca170",
   "metadata": {},
   "outputs": [
    {
     "data": {
      "text/plain": [
       "10.745595671760517"
      ]
     },
     "execution_count": 31,
     "metadata": {},
     "output_type": "execute_result"
    }
   ],
   "source": [
    "# ANÁLISIS PARA CABLES (BC,BD,BE)\n",
    "\n",
    "# Carga en [KN/m] para BE\n",
    "W_BE = ((Esf_ultimo*(np.pi/4)*(diametro_c)**2)/(FS_resistencia_ultima*0.899902653561155*1000))\n",
    "W_BE"
   ]
  },
  {
   "cell_type": "code",
   "execution_count": 32,
   "id": "d48393ee",
   "metadata": {},
   "outputs": [],
   "source": [
    "# RESULTADOS ANÁLISIS PARA CABLES (BC,BD,BE)\n",
    "# Carga para BC = 9.01662536495442 [KN/m]\n",
    "# Carga Para BD = 6.907135756508966 [KN/m]\n",
    "# Carga Para BE = 10.745595671760517 [KN/m]"
   ]
  },
  {
   "cell_type": "code",
   "execution_count": 33,
   "id": "68741d4f",
   "metadata": {},
   "outputs": [
    {
     "data": {
      "text/plain": [
       "6.907135756508966"
      ]
     },
     "execution_count": 33,
     "metadata": {},
     "output_type": "execute_result"
    }
   ],
   "source": [
    "#El valor de W Máxima sería de:\n",
    "W_max = ((Esf_ultimo*(np.pi/4)*(diametro_c)**2)/(FS_resistencia_ultima*1.4*1000))\n",
    "W_max"
   ]
  },
  {
   "cell_type": "code",
   "execution_count": 34,
   "id": "24c02266",
   "metadata": {},
   "outputs": [
    {
     "data": {
      "text/latex": [
       "$\\displaystyle 7.40764214979894$"
      ],
      "text/plain": [
       "7.40764214979894"
      ]
     },
     "execution_count": 34,
     "metadata": {},
     "output_type": "execute_result"
    }
   ],
   "source": [
    "# CÁLCULO DE FUERZAS (BC,BD,BE,Ax,Ay)\n",
    "\n",
    "# Carga en [KN] de BC\n",
    "Fuerza_BC = BC_VS_W.subs(W, W_max)\n",
    "Fuerza_BC"
   ]
  },
  {
   "cell_type": "code",
   "execution_count": 35,
   "id": "aff27908",
   "metadata": {},
   "outputs": [
    {
     "data": {
      "text/latex": [
       "$\\displaystyle 9.66999005911255$"
      ],
      "text/plain": [
       "9.66999005911255"
      ]
     },
     "execution_count": 35,
     "metadata": {},
     "output_type": "execute_result"
    }
   ],
   "source": [
    "# CÁLCULO DE FUERZAS (BC,BD,BE,Ax,Ay)\n",
    "\n",
    "# Carga en [KN] de BD\n",
    "Fuerza_BD = BD_VS_W.subs(W, W_max)\n",
    "Fuerza_BD"
   ]
  },
  {
   "cell_type": "code",
   "execution_count": 36,
   "id": "5326c6cb",
   "metadata": {},
   "outputs": [
    {
     "data": {
      "text/latex": [
       "$\\displaystyle 6.21574979578955$"
      ],
      "text/plain": [
       "6.21574979578955"
      ]
     },
     "execution_count": 36,
     "metadata": {},
     "output_type": "execute_result"
    }
   ],
   "source": [
    "# CÁLCULO DE FUERZAS (BC,BD,BE,Ax,Ay)\n",
    "\n",
    "# Carga en [KN] de BE\n",
    "Fuerza_BE = BE_VS_W.subs(W, W_max)\n",
    "Fuerza_BE"
   ]
  },
  {
   "cell_type": "code",
   "execution_count": 37,
   "id": "cc06ebf1",
   "metadata": {},
   "outputs": [
    {
     "data": {
      "text/latex": [
       "$\\displaystyle Ay - 19.3399801182251 = 0$"
      ],
      "text/plain": [
       "Eq(Ay - 19.3399801182251, 0)"
      ]
     },
     "execution_count": 37,
     "metadata": {},
     "output_type": "execute_result"
    }
   ],
   "source": [
    "# CÁLCULO DE FUERZAS (BC,BD,BE,Ax,Ay)\n",
    "\n",
    "# Fuerza en [KN] de Ay\n",
    "Ay = Valor_Ay.subs(W, W_max)\n",
    "Ay"
   ]
  },
  {
   "cell_type": "code",
   "execution_count": 38,
   "id": "87ed6aaa",
   "metadata": {},
   "outputs": [
    {
     "data": {
      "text/plain": [
       "[19.3399801182251]"
      ]
     },
     "execution_count": 38,
     "metadata": {},
     "output_type": "execute_result"
    }
   ],
   "source": [
    "# CÁLCULO DE FUERZAS (BC,BD,BE,Ax,Ay)\n",
    "\n",
    "Fuerza_Ay = sp.solve(Ay)\n",
    "Fuerza_Ay"
   ]
  },
  {
   "cell_type": "code",
   "execution_count": 39,
   "id": "a2503953",
   "metadata": {},
   "outputs": [],
   "source": [
    "# RESULTADOS DE FUERZAS\n",
    "# Carga BC = 7.40764214979894 [KN]\n",
    "# Carga BD = 9.66999005911255 [KN]\n",
    "# Carga BE = 6.21574979578955 [KN]\n",
    "# Fuerza Ax = 0\n",
    "# Fuerza Ay = 19.3399801182251 [KN]"
   ]
  },
  {
   "cell_type": "code",
   "execution_count": 40,
   "id": "b052fab1",
   "metadata": {},
   "outputs": [
    {
     "data": {
      "text/latex": [
       "$\\displaystyle 1.75430025141751$"
      ],
      "text/plain": [
       "1.75430025141751"
      ]
     },
     "execution_count": 40,
     "metadata": {},
     "output_type": "execute_result"
    }
   ],
   "source": [
    "# CÁLCULO DE DEFORMACIONES (BC,BD,BE)\n",
    "\n",
    "# Deformación en [mm] de BC\n",
    "Deformacion_BC = (Fuerza_BC * 1000 * longitud_c) / (area_c * E)\n",
    "Deformacion_BC"
   ]
  },
  {
   "cell_type": "code",
   "execution_count": 41,
   "id": "19e8df91",
   "metadata": {},
   "outputs": [
    {
     "data": {
      "text/latex": [
       "$\\displaystyle 2.29007633587786$"
      ],
      "text/plain": [
       "2.29007633587786"
      ]
     },
     "execution_count": 41,
     "metadata": {},
     "output_type": "execute_result"
    }
   ],
   "source": [
    "# CÁLCULO DE DEFORMACIONES (BC,BD,BE)\n",
    "\n",
    "# Deformación en [mm] de BD\n",
    "Deformacion_BD = (Fuerza_BD * 1000 * longitud_c) / (area_c * E)\n",
    "Deformacion_BD"
   ]
  },
  {
   "cell_type": "code",
   "execution_count": 42,
   "id": "bf317990",
   "metadata": {},
   "outputs": [
    {
     "data": {
      "text/latex": [
       "$\\displaystyle 1.47203269393864$"
      ],
      "text/plain": [
       "1.47203269393864"
      ]
     },
     "execution_count": 42,
     "metadata": {},
     "output_type": "execute_result"
    }
   ],
   "source": [
    "# CÁLCULO DE DEFORMACIONES (BC,BD,BE)\n",
    "\n",
    "# Deformación en [mm] de BE\n",
    "Deformacion_BE = (Fuerza_BE * 1000 * longitud_c) / (area_c * E)\n",
    "Deformacion_BE"
   ]
  },
  {
   "cell_type": "code",
   "execution_count": 43,
   "id": "dd24e28d",
   "metadata": {},
   "outputs": [],
   "source": [
    "# RESULTADOS DE DEFORMACIÓN\n",
    "# Deformación BC = 1.75430025141751 [mm]\n",
    "# Deformación BD = 2.29007633587786 [mm]\n",
    "# Deformación BE = 1.47203269393864 [mm]"
   ]
  }
 ],
 "metadata": {
  "kernelspec": {
   "display_name": "Python 3 (ipykernel)",
   "language": "python",
   "name": "python3"
  },
  "language_info": {
   "codemirror_mode": {
    "name": "ipython",
    "version": 3
   },
   "file_extension": ".py",
   "mimetype": "text/x-python",
   "name": "python",
   "nbconvert_exporter": "python",
   "pygments_lexer": "ipython3",
   "version": "3.8.10"
  }
 },
 "nbformat": 4,
 "nbformat_minor": 5
}
