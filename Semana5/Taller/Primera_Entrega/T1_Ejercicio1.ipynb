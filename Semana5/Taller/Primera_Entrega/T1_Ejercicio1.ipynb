{
 "cells": [
  {
   "cell_type": "code",
   "execution_count": 1,
   "id": "82554949",
   "metadata": {},
   "outputs": [],
   "source": [
    "import numpy as np\n",
    "import sympy as sp\n",
    "from math import pi\n",
    "from math import cos\n",
    "from math import sin"
   ]
  },
  {
   "cell_type": "code",
   "execution_count": 6,
   "id": "7d6f66b6",
   "metadata": {},
   "outputs": [
    {
     "ename": "NameError",
     "evalue": "name 'np' is not defined",
     "output_type": "error",
     "traceback": [
      "\u001b[1;31m---------------------------------------------------------------------------\u001b[0m",
      "\u001b[1;31mNameError\u001b[0m                                 Traceback (most recent call last)",
      "\u001b[1;32m~\\AppData\\Local\\Temp/ipykernel_14556/1882276832.py\u001b[0m in \u001b[0;36m<module>\u001b[1;34m\u001b[0m\n\u001b[0;32m      5\u001b[0m \u001b[0mdiam_cables\u001b[0m \u001b[1;33m=\u001b[0m \u001b[1;36m1\u001b[0m \u001b[1;33m/\u001b[0m \u001b[1;36m4\u001b[0m\u001b[1;33m\u001b[0m\u001b[1;33m\u001b[0m\u001b[0m\n\u001b[0;32m      6\u001b[0m \u001b[1;31m#UNIDADES (Milimetros cuadrados)\u001b[0m\u001b[1;33m\u001b[0m\u001b[1;33m\u001b[0m\u001b[0m\n\u001b[1;32m----> 7\u001b[1;33m \u001b[0marea_cables\u001b[0m \u001b[1;33m=\u001b[0m \u001b[0mnp\u001b[0m\u001b[1;33m.\u001b[0m\u001b[0mpi\u001b[0m \u001b[1;33m*\u001b[0m \u001b[1;33m(\u001b[0m\u001b[0mdiam_cables\u001b[0m \u001b[1;33m*\u001b[0m \u001b[1;36m25.4\u001b[0m \u001b[1;33m/\u001b[0m \u001b[1;36m1000\u001b[0m\u001b[1;33m)\u001b[0m \u001b[1;33m**\u001b[0m \u001b[1;36m2\u001b[0m \u001b[1;33m/\u001b[0m \u001b[1;36m4\u001b[0m\u001b[1;33m\u001b[0m\u001b[1;33m\u001b[0m\u001b[0m\n\u001b[0m\u001b[0;32m      8\u001b[0m \u001b[1;31m#UNIDADES (Pulgadas)\u001b[0m\u001b[1;33m\u001b[0m\u001b[1;33m\u001b[0m\u001b[0m\n\u001b[0;32m      9\u001b[0m \u001b[0mdiam_pasadores\u001b[0m\u001b[1;33m=\u001b[0m \u001b[1;36m1\u001b[0m \u001b[1;33m/\u001b[0m \u001b[1;36m2\u001b[0m\u001b[1;33m\u001b[0m\u001b[1;33m\u001b[0m\u001b[0m\n",
      "\u001b[1;31mNameError\u001b[0m: name 'np' is not defined"
     ]
    }
   ],
   "source": [
    "CODIGO = 2200273\n",
    "#UNIDADES (Metros)\n",
    "larg_cables = 1.5\n",
    "#UNIDADES (Pulgadas)\n",
    "diam_cables = 1 / 4\n",
    "#UNIDADES (Milimetros cuadrados)\n",
    "area_cables = np.pi * (diam_cables * 25.4 / 1000) ** 2 / 4\n",
    "#UNIDADES (Pulgadas)\n",
    "diam_pasadores= 1 / 2\n",
    "#UNIDADES (Milimetros cuadrados)\n",
    "area_pasadores= np.pi * (diam_pasadores * 25.4 / 1000) ** 2 / 4\n",
    "#El área de los pasadores los divido sobre 1000 para obtenerlos directamente en metros\n",
    "X = 14\n",
    "#en metros\n",
    "L = 2.8\n",
    "\n",
    "FacSeguridad_fluencia = float(f\"1.{X}\")\n",
    "FacSeguridad_ultima_resistencia = float(f\"1.{X + 3}\")\n",
    "\n",
    "#para convertir los ángulos a radianes\n",
    "anguloBC = 40 * np.pi / 180\n",
    "anguloBE = 50 * np.pi / 180\n"
   ]
  },
  {
   "cell_type": "code",
   "execution_count": null,
   "id": "a3036e57",
   "metadata": {},
   "outputs": [],
   "source": [
    "#Datos del material\n",
    "#UNIDADES (MPa)\n",
    "Esfuerzo_ultimo = 400\n",
    "Esfuerzo_fluencia_traccion = 250\n",
    "Esfuerzo_fluencia_cortante = 145\n",
    "#UNIDADES (Gpa)\n",
    "E = 200"
   ]
  },
  {
   "cell_type": "code",
   "execution_count": 10,
   "id": "dc678e53",
   "metadata": {},
   "outputs": [
    {
     "data": {
      "text/latex": [
       "$\\displaystyle Ay - 0.642787609686539 BC + 0.766044443118978 BE = 0$"
      ],
      "text/plain": [
       "Eq(Ay - 0.642787609686539*BC + 0.766044443118978*BE, 0)"
      ]
     },
     "execution_count": 10,
     "metadata": {},
     "output_type": "execute_result"
    }
   ],
   "source": [
    "# Ecuaciones de Equilibrio\n",
    "#Definimos las variables necesarias y definimos una a una las ecuaciones de la estática\n",
    "Ay, Ax, BC, BD, BE, W = sp.symbols(\"Ax Ay BC BD BE W\")\n",
    "#En x actúa la reacción de A, y las componentes respectivas de BC y CE \n",
    "sumfuerza_en_x = Ax - BC * sp.sin(anguloBC) + BE * sp.sin(anguloBE)\n",
    "equilibrioX = sp.Eq(sumafuerzas_en_x,0)\n",
    "equilibrioX"
   ]
  },
  {
   "cell_type": "code",
   "execution_count": 9,
   "id": "d2ee37aa",
   "metadata": {},
   "outputs": [
    {
     "data": {
      "text/latex": [
       "$\\displaystyle Ax + 0.766044443118978 BC + BD + 0.642787609686539 BE - 2.8 W = 0$"
      ],
      "text/plain": [
       "Eq(Ax + 0.766044443118978*BC + BD + 0.642787609686539*BE - 2.8*W, 0)"
      ]
     },
     "execution_count": 9,
     "metadata": {},
     "output_type": "execute_result"
    }
   ],
   "source": [
    "#En y actúa la carga puntual de W (W*L), la reacción de A, el cable D y las componentes de BC y BE\n",
    "sumafuerza_en_y = Ay - W * L + BC * sp.cos(anguloBC) + BE * sp.cos(anguloBE) + BD\n",
    "equilibrioY = sp.Eq(sumafuerzas_en_y, 0)\n",
    "equilibrioY"
   ]
  },
  {
   "cell_type": "code",
   "execution_count": 11,
   "id": "8b9ed2db",
   "metadata": {},
   "outputs": [
    {
     "data": {
      "text/latex": [
       "$\\displaystyle 2.14492444073314 BC + 2.8 BD + 1.79980530712231 BE - 3.92 W = 0$"
      ],
      "text/plain": [
       "Eq(2.14492444073314*BC + 2.8*BD + 1.79980530712231*BE - 3.92*W, 0)"
      ]
     },
     "execution_count": 11,
     "metadata": {},
     "output_type": "execute_result"
    }
   ],
   "source": [
    "#Se hizo momento en A, de manera que hacen momento las componentes de los cables BC y BE, el cable D, y la puntual de W*L\n",
    "Momento_en_A = - W * L ** 2 / 2 + BC * sp.cos(anguloBC) * L + BE * sp.cos(anguloBE) * L + BD * L\n",
    "equilibrioMomentos = sp.Eq(Momento_en_A, 0)\n",
    "equilibrioMomentos"
   ]
  },
  {
   "cell_type": "code",
   "execution_count": 16,
   "id": "6c2fd653",
   "metadata": {},
   "outputs": [
    {
     "data": {
      "text/latex": [
       "$\\displaystyle BC - 0.766044443118978 BD = 0$"
      ],
      "text/plain": [
       "Eq(BC - 0.766044443118978*BD, 0)"
      ]
     },
     "execution_count": 16,
     "metadata": {},
     "output_type": "execute_result"
    }
   ],
   "source": [
    "#Hallar ecuacion de compatibilidad\n",
    "Equivalencia_BC = sp.Eq(BC - BD * sp.cos(anguloBC), 0)\n",
    "Ecuacion_equivalencia_BC = BD * sp.cos(anguloBC)\n",
    "Equivalencia_BC"
   ]
  },
  {
   "cell_type": "code",
   "execution_count": 33,
   "id": "1fb6c771",
   "metadata": {},
   "outputs": [
    {
     "data": {
      "text/latex": [
       "$\\displaystyle - 0.642787609686539 BD + BE = 0$"
      ],
      "text/plain": [
       "Eq(-0.642787609686539*BD + BE, 0)"
      ]
     },
     "execution_count": 33,
     "metadata": {},
     "output_type": "execute_result"
    }
   ],
   "source": [
    "#Ecuación de compatibilidad para BE\n",
    "Equivalencia_BE = sp.Eq(BE - BD * sp.cos(anguloBE), 0)\n",
    "Ecuacion_equivalencia_BE = BD * sp.cos(anguloBE)\n",
    "Equivalencia_BE"
   ]
  },
  {
   "cell_type": "code",
   "execution_count": 35,
   "id": "f04458f8",
   "metadata": {},
   "outputs": [],
   "source": [
    "BD_EQ_MOM = sp.Eq(Momento_en_A.subs([(BC,Ecuacion_equivalencia_BC), (BE,Ecuacion_equivalencia_BE)]), 0)"
   ]
  },
  {
   "cell_type": "code",
   "execution_count": 39,
   "id": "82f068e6",
   "metadata": {},
   "outputs": [
    {
     "data": {
      "text/latex": [
       "$\\displaystyle 0.7 W$"
      ],
      "text/plain": [
       "0.7*W"
      ]
     },
     "execution_count": 39,
     "metadata": {},
     "output_type": "execute_result"
    }
   ],
   "source": [
    "BD_W = sp.solve(BD_EQ_MOM)[0][BD]\n",
    "BD_W"
   ]
  },
  {
   "cell_type": "code",
   "execution_count": 40,
   "id": "82f8ad71",
   "metadata": {},
   "outputs": [
    {
     "data": {
      "text/latex": [
       "$\\displaystyle 1.4 W$"
      ],
      "text/plain": [
       "1.4*W"
      ]
     },
     "execution_count": 40,
     "metadata": {},
     "output_type": "execute_result"
    }
   ],
   "source": [
    "#Definimos el cortante doble para los apoyos en términos de W\n",
    "AyEq = sumafuerzas_en_y.subs([(BC, Ecuacion_equivalencia_BC), (BE, Ecuacion_equivalencia_BE), (BD,BD_W)])\n",
    "Ay_W = sp.solve(sp.Eq(AyEq, 0))\n",
    "Ay_W = Ay_W[0][Ay]\n",
    "Ay_W"
   ]
  },
  {
   "cell_type": "code",
   "execution_count": 41,
   "id": "f1420dc4",
   "metadata": {},
   "outputs": [
    {
     "data": {
      "text/latex": [
       "$\\displaystyle - 7.7715611723761 \\cdot 10^{-17} W$"
      ],
      "text/plain": [
       "-7.7715611723761e-17*W"
      ]
     },
     "execution_count": 41,
     "metadata": {},
     "output_type": "execute_result"
    }
   ],
   "source": [
    "AxEq = sumafuerzas_en_x.subs([(BC, Ecuacion_equivalencia_BC), (BE, Ecuacion_equivalencia_BE), (BD, BD_W)])\n",
    "Ax_W = sp.solve(sp.Eq(AxEq, 0))\n",
    "Ax_W = Ax_W[0][Ax]\n",
    "Ax_W"
   ]
  },
  {
   "cell_type": "code",
   "execution_count": 42,
   "id": "53e00530",
   "metadata": {},
   "outputs": [
    {
     "data": {
      "text/latex": [
       "$\\displaystyle 1.4 \\sqrt{W^{2}}$"
      ],
      "text/plain": [
       "1.4*sqrt(W**2)"
      ]
     },
     "execution_count": 42,
     "metadata": {},
     "output_type": "execute_result"
    }
   ],
   "source": [
    "#Apoyo en A\n",
    "Apoyo_A = sp.sqrt(Ay_W ** 2 + Ax_W ** 2)\n",
    "Apoyo_A"
   ]
  },
  {
   "cell_type": "code",
   "execution_count": 45,
   "id": "dd1412ab",
   "metadata": {},
   "outputs": [
    {
     "data": {
      "text/latex": [
       "$\\displaystyle 0.228975013030582 \\sqrt{W^{2}}$"
      ],
      "text/plain": [
       "0.228975013030582*sqrt(W**2)"
      ]
     },
     "execution_count": 45,
     "metadata": {},
     "output_type": "execute_result"
    }
   ],
   "source": [
    "#Punto de union de los cables\n",
    "FxCortanteDoble = Ecuacion_equivalencia_BC.subs(BD, BD_W) * sp.sin(anguloBE) - Ecuacion_equivalencia_BC.subs(BD, BD_W)\n",
    "FxCortanteDoble = Ecuacion_equivalencia_BC.subs(BD, BD_W) * sp.sin(anguloBE) - Ecuacion_equivalencia_BC.subs(BD, BD_W)\n",
    "FyCortanteDoble = Ecuacion_equivalencia_BC.subs(BD, BD_W) * sp.cos(anguloBE) - Ecuacion_equivalencia_BC.subs(BD, BD_W)\n",
    "Apoyo_B= sp.sqrt(FxCortanteDoble ** 2 + FyCortanteDoble ** 2)\n",
    "Apoyo_B"
   ]
  },
  {
   "cell_type": "code",
   "execution_count": 44,
   "id": "51a8f02c",
   "metadata": {},
   "outputs": [
    {
     "data": {
      "text/plain": [
       "[0.536231110183285*W, 0.7*W, 0.449951326780578*W]"
      ]
     },
     "execution_count": 44,
     "metadata": {},
     "output_type": "execute_result"
    }
   ],
   "source": [
    "FBC = Ecuacion_equivalencia_BC.subs(BD, BD_W)\n",
    "FBE = Ecuacion_equivalencia_BE.subs(BD, BD_W)\n",
    "Vector_de_Fuerzas = [FBC, BD_W, FBE]\n",
    "Vector_de_Fuerzas"
   ]
  },
  {
   "cell_type": "code",
   "execution_count": 54,
   "id": "b70c9aef",
   "metadata": {},
   "outputs": [
    {
     "name": "stdout",
     "output_type": "stream",
     "text": [
      "Carga dsitribuida máxima en los cables [kN / m]\n"
     ]
    },
    {
     "data": {
      "text/latex": [
       "$\\displaystyle 15.4672612667124$"
      ],
      "text/plain": [
       "15.4672612667124"
      ]
     },
     "execution_count": 54,
     "metadata": {},
     "output_type": "execute_result"
    }
   ],
   "source": [
    "Wmax = []\n",
    "for fuerza in Vector_de_Fuerzas:\n",
    "    #Esfuerzo normal en cables\n",
    "    Esf_normal = sp.Eq(fuerza / area_cables, 400 * 10 ** 6 / FacSeguridad_ultima_resistencia)\n",
    "    W_cables = sp.solve(Esf_normal)[0] / 1000\n",
    "    #Esfuerzo cortante simple en pasadores\n",
    "    Esf_cortante = sp.Eq(fuerza / area_pasadores, 145 * 10 ** 6 / FacSeguridad_fluencia)\n",
    "    W_pasadores = sp.solve(esf_cortante)[0] / 1000\n",
    "    Wmax.append(W_cables)\n",
    "    Wmax.append(W_pasadores)\n",
    "    \n",
    "print(\"Carga dsitribuida máxima en los cables [kN / m]\")\n",
    "min(Wmax)"
   ]
  },
  {
   "cell_type": "code",
   "execution_count": 55,
   "id": "4c458b24",
   "metadata": {},
   "outputs": [],
   "source": [
    "#En teoría, ya se calculó el valor de w = 15,46 kN/m aproximadamente. Ahora podremos calcular las fuerzas y las...\n",
    "#...deformaciones para el inciso B"
   ]
  },
  {
   "cell_type": "code",
   "execution_count": 75,
   "id": "a3229bfb",
   "metadata": {},
   "outputs": [
    {
     "data": {
      "text/latex": [
       "$\\displaystyle 6.95951472861908 W$"
      ],
      "text/plain": [
       "6.95951472861908*W"
      ]
     },
     "execution_count": 75,
     "metadata": {},
     "output_type": "execute_result"
    }
   ],
   "source": [
    "Fuerza_BE = Ecuacion_equivalencia_BE.subs([(BD, BD_W), (W, Wmax)])\n",
    "Fuerza_BE * 15.4672612667124"
   ]
  },
  {
   "cell_type": "code",
   "execution_count": 74,
   "id": "11a2b21b",
   "metadata": {},
   "outputs": [
    {
     "data": {
      "text/latex": [
       "$\\displaystyle 0.00164817335817062 W$"
      ],
      "text/plain": [
       "0.00164817335817062*W"
      ]
     },
     "execution_count": 74,
     "metadata": {},
     "output_type": "execute_result"
    }
   ],
   "source": [
    "Deformacion_BE = (Fuerza_BE * 1000 * larg_cables) / (area_cables * 200 * 10 ** 9)\n",
    "Deformacion_BE * 15.4672612667124"
   ]
  },
  {
   "cell_type": "code",
   "execution_count": 79,
   "id": "dd090e45",
   "metadata": {},
   "outputs": [
    {
     "data": {
      "text/latex": [
       "$\\displaystyle 8.29402668054411 W$"
      ],
      "text/plain": [
       "8.29402668054411*W"
      ]
     },
     "execution_count": 79,
     "metadata": {},
     "output_type": "execute_result"
    }
   ],
   "source": [
    "Fuerza_BC = Ecuacion_equivalencia_BC.subs([(BD, BD_W), (W, Wmax)])\n",
    "Fuerza_BC * 15.4672612667124"
   ]
  },
  {
   "cell_type": "code",
   "execution_count": 80,
   "id": "5f80d686",
   "metadata": {},
   "outputs": [
    {
     "data": {
      "text/latex": [
       "$\\displaystyle 0.000126991875739834 W$"
      ],
      "text/plain": [
       "0.000126991875739834*W"
      ]
     },
     "execution_count": 80,
     "metadata": {},
     "output_type": "execute_result"
    }
   ],
   "source": [
    "Deformacion_BC = (Fuerza_BC * 1000 * long_cables) / (area_cables * 200 * 10 ** 9)\n",
    "Deformacion_BC"
   ]
  },
  {
   "cell_type": "code",
   "execution_count": 82,
   "id": "e7e5772e",
   "metadata": {},
   "outputs": [
    {
     "data": {
      "text/latex": [
       "$\\displaystyle 0.7 W$"
      ],
      "text/plain": [
       "0.7*W"
      ]
     },
     "execution_count": 82,
     "metadata": {},
     "output_type": "execute_result"
    }
   ],
   "source": [
    "Fuerza_BD = BD_W.subs(W, Wmax)\n",
    "Fuerza_BD * 15.4672612667124"
   ]
  },
  {
   "cell_type": "code",
   "execution_count": 84,
   "id": "7072dfad",
   "metadata": {},
   "outputs": [
    {
     "data": {
      "text/latex": [
       "$\\displaystyle 0.000165776120276759 W$"
      ],
      "text/plain": [
       "0.000165776120276759*W"
      ]
     },
     "execution_count": 84,
     "metadata": {},
     "output_type": "execute_result"
    }
   ],
   "source": [
    "Deformacion_BD = (Fuerza_BD * 1000 * larg_cables) / (area_cables * 200 * 10 ** 9)\n",
    "Deformacion_BD"
   ]
  },
  {
   "cell_type": "code",
   "execution_count": 85,
   "id": "a55a6c8f",
   "metadata": {},
   "outputs": [],
   "source": [
    "#Se obtuvieron los valores para las fuerzas y deformaciones en cada cable. A pesar de que quedaron en términos de W, sin embargo\n",
    "#ya se llegó a que W = 15.4672612667124. Ahora se calcularán las reacciones Ax y Ay partiendo de las ecuaciones descritas al\n",
    "#inicio"
   ]
  },
  {
   "cell_type": "code",
   "execution_count": 92,
   "id": "adfb1413",
   "metadata": {},
   "outputs": [
    {
     "data": {
      "text/plain": [
       "{Ay: -5.55111512312578e-17*W}"
      ]
     },
     "execution_count": 92,
     "metadata": {},
     "output_type": "execute_result"
    }
   ],
   "source": [
    "Reaccion_Ax = sumafuerzas_en_x.subs([(BE, Fuerza_BE), (BC, Fuerza_BC)])\n",
    "Reaccion_Ax = sp.solve(sp.Eq(Reaccion_Ax, 0))[0]\n",
    "Reaccion_Ax\n",
    "\n",
    "#El resultado que muestra, es el valor de Ax"
   ]
  },
  {
   "cell_type": "code",
   "execution_count": 91,
   "id": "9e68fe9f",
   "metadata": {},
   "outputs": [
    {
     "data": {
      "text/plain": [
       "{Ax: 1.4*W}"
      ]
     },
     "execution_count": 91,
     "metadata": {},
     "output_type": "execute_result"
    }
   ],
   "source": [
    "Reaccion_Ay = sumafuerzas_en_y.subs([(BE, Fuerza_BE), (BC, Fuerza_BC), (BD, Fuerza_BD), (W, Wmax)])\n",
    "Reaccion_Ay = sp.solve(sp.Eq(Reaccion_Ay, 0))[0]\n",
    "Reaccion_Ay\n",
    "\n",
    "#El resultado que muestra, es el valor de Ay"
   ]
  },
  {
   "cell_type": "code",
   "execution_count": null,
   "id": "185fb0d1",
   "metadata": {},
   "outputs": [],
   "source": []
  }
 ],
 "metadata": {
  "kernelspec": {
   "display_name": "Python 3 (ipykernel)",
   "language": "python",
   "name": "python3"
  },
  "language_info": {
   "codemirror_mode": {
    "name": "ipython",
    "version": 3
   },
   "file_extension": ".py",
   "mimetype": "text/x-python",
   "name": "python",
   "nbconvert_exporter": "python",
   "pygments_lexer": "ipython3",
   "version": "3.9.9"
  }
 },
 "nbformat": 4,
 "nbformat_minor": 5
}
