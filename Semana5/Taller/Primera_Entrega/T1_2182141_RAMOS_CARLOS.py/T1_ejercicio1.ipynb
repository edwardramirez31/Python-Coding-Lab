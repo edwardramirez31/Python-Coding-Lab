{
 "cells": [
  {
   "cell_type": "code",
   "execution_count": 11,
   "id": "460ac137",
   "metadata": {},
   "outputs": [],
   "source": [
    "import numpy as np\n",
    "import sympy as sp"
   ]
  },
  {
   "cell_type": "code",
   "execution_count": 12,
   "id": "a90ec049",
   "metadata": {},
   "outputs": [],
   "source": [
    "x, y, Nbc, Nbe, Nbd, W, L, Ap, Ac = sp.symbols('x y Nbc Nbe Nbd W L Ap Ac')"
   ]
  },
  {
   "cell_type": "markdown",
   "id": "14958280",
   "metadata": {},
   "source": [
    "\n"
   ]
  },
  {
   "cell_type": "code",
   "execution_count": 14,
   "id": "04d003a5",
   "metadata": {},
   "outputs": [],
   "source": [
    "#constantes\n",
    "L=3.8\n",
    "Lc=1.5\n",
    "Dc=0.25*25.4*0.001\n",
    "Dp=0.5*25.4*0.001\n",
    "E=200*(10**9)\n",
    "FSultimo = 1.22\n",
    "FSfluencia = 1.19"
   ]
  },
  {
   "cell_type": "code",
   "execution_count": 15,
   "id": "4102f97b",
   "metadata": {},
   "outputs": [
    {
     "data": {
      "text/plain": [
       "3.1669217443593606e-05"
      ]
     },
     "execution_count": 15,
     "metadata": {},
     "output_type": "execute_result"
    }
   ],
   "source": [
    "#areas de secciones y esfuerzos\n",
    "Ac= (np.pi/4)*(Dc**2)\n",
    "Ap= (np.pi/4)*(Dp**2)\n",
    "Normal = (400*10**6)/FSultimo\n",
    "Cortante =(145*10**6)/FSfluencia\n",
    "Ac"
   ]
  },
  {
   "cell_type": "markdown",
   "id": "44942fb7",
   "metadata": {},
   "source": [
    "\n",
    "## primero vamos a encontrar Wmax"
   ]
  },
  {
   "cell_type": "code",
   "execution_count": 25,
   "id": "6c5f7098",
   "metadata": {},
   "outputs": [
    {
     "data": {
      "text/plain": [
       "10383.3499815061"
      ]
     },
     "execution_count": 25,
     "metadata": {},
     "output_type": "execute_result"
    }
   ],
   "source": [
    "Wcable= (Normal*Ac)\n",
    "Wperno=(Cortante*Ap*4)/L\n",
    "W = Wperno\n",
    "#para alcanzar la falla por tension del cable se sobrepasa el limite del cortante en el perno por ende se toma como Wmax Wperno"
   ]
  },
  {
   "cell_type": "code",
   "execution_count": 17,
   "id": "b6c7825b",
   "metadata": {},
   "outputs": [
    {
     "data": {
      "text/plain": [
       "30870.833810561835"
      ]
     },
     "execution_count": 17,
     "metadata": {},
     "output_type": "execute_result"
    }
   ],
   "source": [
    "#ecuaciones equilibrio externo\n",
    "Ay= W*L/2\n",
    "By= W*L/2\n"
   ]
  },
  {
   "cell_type": "code",
   "execution_count": 20,
   "id": "ce001f62",
   "metadata": {},
   "outputs": [],
   "source": [
    "#sumatoria de fuerzas en el punto B para encontrar relaciones entre tensiones\n",
    "Nbc = (np.sin(50*np.pi/180)/np.sin(40*np.pi/180))*Nbe\n",
    "Nbd = (W*L/2)-((np.sin(50*np.pi/180)/np.sin(40*np.pi/180))*np.cos(40*np.pi/180) + np.cos(50*np.pi/180) )*Nbe\n",
    "#disponemos de dos ecuaciones para 3 cables"
   ]
  },
  {
   "cell_type": "code",
   "execution_count": 21,
   "id": "9b67f49d",
   "metadata": {
    "scrolled": true
   },
   "outputs": [
    {
     "data": {
      "text/plain": [
       "[9927.19844801729, 17896040.1901549]"
      ]
     },
     "execution_count": 21,
     "metadata": {},
     "output_type": "execute_result"
    }
   ],
   "source": [
    "#ecuacion de compatibilidad que nos permite obtener la ecuacion que nos hace falta\n",
    "exp = (sp.sqrt(1 + (Nbd/(Ac*E))**2 -(2*np.cos(130*np.pi/180)*Nbd/(Ac*E)))) -1 -Nbe/(Ac*E)\n",
    "ecua = sp.Eq(exp,0)\n",
    "sp.solve(ecua)"
   ]
  },
  {
   "cell_type": "code",
   "execution_count": 29,
   "id": "f5b3baf1",
   "metadata": {},
   "outputs": [
    {
     "data": {
      "text/plain": [
       "15426.85465100963"
      ]
     },
     "execution_count": 29,
     "metadata": {},
     "output_type": "execute_result"
    }
   ],
   "source": [
    "Nbe = 9927.19844801729\n",
    "Nbc = (np.sin(50*np.pi/180)/np.sin(40*np.pi/180))*Nbe\n",
    "Nbd = (W*L/2)-((np.sin(50*np.pi/180)/np.sin(40*np.pi/180))*np.cos(40*np.pi/180) + np.cos(50*np.pi/180) )*Nbe\n",
    "Nbd"
   ]
  },
  {
   "cell_type": "markdown",
   "id": "29d9e9fc",
   "metadata": {},
   "source": [
    "### ya tenemos todo para hacer el segundo punto unicamente reemplazando"
   ]
  },
  {
   "cell_type": "code",
   "execution_count": 35,
   "id": "aaad9d66",
   "metadata": {},
   "outputs": [
    {
     "data": {
      "text/plain": [
       "0.0028017998319406364"
      ]
     },
     "execution_count": 35,
     "metadata": {},
     "output_type": "execute_result"
    }
   ],
   "source": [
    "#reacciones en los apoyos\n",
    "Ay = By = 30870.833810561835 #Newtons\n",
    "DeformBC = (Nbc*Lc)/(Ac*E)  #Deformacion en metros\n",
    "DeformBD = (Nbd*Lc)/(Ac*E)\n",
    "DeformBE = (Nbe*Lc)/(Ac*E)\n",
    "DeformBC"
   ]
  }
 ],
 "metadata": {
  "kernelspec": {
   "display_name": "Python 3 (ipykernel)",
   "language": "python",
   "name": "python3"
  },
  "language_info": {
   "codemirror_mode": {
    "name": "ipython",
    "version": 3
   },
   "file_extension": ".py",
   "mimetype": "text/x-python",
   "name": "python",
   "nbconvert_exporter": "python",
   "pygments_lexer": "ipython3",
   "version": "3.8.10"
  }
 },
 "nbformat": 4,
 "nbformat_minor": 5
}
