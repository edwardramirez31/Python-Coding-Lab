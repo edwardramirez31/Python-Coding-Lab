{
 "cells": [
  {
   "cell_type": "code",
   "execution_count": 1,
   "id": "03f119f9",
   "metadata": {},
   "outputs": [],
   "source": [
    "import numpy as np\n",
    "import sympy as sp\n",
    "import matplotlib.pyplot as plt"
   ]
  },
  {
   "cell_type": "code",
   "execution_count": 2,
   "id": "1da3f52c",
   "metadata": {},
   "outputs": [
    {
     "data": {
      "text/plain": [
       "0.021"
      ]
     },
     "execution_count": 2,
     "metadata": {},
     "output_type": "execute_result"
    }
   ],
   "source": [
    "#constantes\n",
    "L = 2\n",
    "H = 1\n",
    "alfa = np.arctan((H)/(L)) \n",
    "A = 1200\n",
    "esf = 21*(10**-3)\n",
    "esf\n",
    "\n"
   ]
  },
  {
   "cell_type": "code",
   "execution_count": 3,
   "id": "674844df",
   "metadata": {},
   "outputs": [
    {
     "data": {
      "image/png": "[encoded data removed]",
      "text/plain": [
       "<Figure size 432x288 with 1 Axes>"
      ]
     },
     "metadata": {
      "needs_background": "light"
     },
     "output_type": "display_data"
    }
   ],
   "source": [
    "#grafica de la armadura\n",
    "plt.style.use('seaborn-deep')\n",
    "plt.plot([0,L],[0,0])\n",
    "plt.plot([0,0],[0,H])\n",
    "plt.plot([0,L],[H,H])\n",
    "plt.plot([L,2*L],[H,H])\n",
    "plt.plot([L,L],[0,H])\n",
    "plt.plot([0,L],[H,0])\n",
    "plt.plot([L,2*L],[0,H])\n",
    "plt.tight_layout()"
   ]
  },
  {
   "cell_type": "code",
   "execution_count": 6,
   "id": "7e152e92",
   "metadata": {},
   "outputs": [],
   "source": [
    "## ecuaciones equilibrio externo\n",
    "\n",
    "    # Dx = -4*P*np.cos(teta*np.pi/180)\n",
    "    # Ax = -1*P*np.sin(teta*np.pi/180) - Dx\n",
    "    # Ay = -1*P*np.cos(teta*np.pi/180)\n",
    "\n",
    "## ecuaciones de los elementos (no tenemos en cuenta los elementos de fuerza cero)\n",
    "    # Nde = -Dx\n",
    "    # Nae = Ay/np.sin(alfa)\n",
    "    # Nab = -Ax - (Ay/np.sin(alfa))*np.cos(alfa)\n",
    "    # Nbc = Nab\n",
    "    # Nce = (carga*np.sin(angulo*np.pi/180) - Nbc)/np.cos(alfa)"
   ]
  },
  {
   "cell_type": "code",
   "execution_count": 4,
   "id": "aa6eb3bb",
   "metadata": {},
   "outputs": [
    {
     "data": {
      "text/plain": [
       "array([20.  , 20.25, 20.5 , 20.75, 21.  , 21.25, 21.5 , 21.75, 22.  ,\n",
       "       22.25, 22.5 , 22.75, 23.  , 23.25, 23.5 , 23.75, 24.  , 24.25,\n",
       "       24.5 ])"
      ]
     },
     "execution_count": 4,
     "metadata": {},
     "output_type": "execute_result"
    }
   ],
   "source": [
    "# arrays de los angulos y de las cargas en KN\n",
    "rango_angulos = np.arange(0,190,10)\n",
    "rango_carga = np.arange(20,24.75,0.25)\n",
    "rango_carga"
   ]
  },
  {
   "cell_type": "code",
   "execution_count": 5,
   "id": "5a387f7e",
   "metadata": {},
   "outputs": [
    {
     "name": "stdout",
     "output_type": "stream",
     "text": [
      "[-40.0, -36.368338399239086, -31.51598451404604, -25.565054257054207, -18.67532680757975, -11.040028995399641, -2.8804538186345745, 5.56043826742691, 14.02525074892364, 22.249999999999996, 29.972342437786544, 36.93992364419734, 42.91858428704208, 47.70015715294031, 51.10959765422563, 53.01120667976084, 53.31372923753965, 51.97414432951515, 49.0]\n"
     ]
    }
   ],
   "source": [
    "#calculamos las fuerzas internas y reacciones enfuncion de cada angulo y su respectivo valor de carga\n",
    "rango_Dx = ([])\n",
    "rango_Ax = ([])\n",
    "rango_Ay = ([])\n",
    "rango_Nde = ([])\n",
    "rango_Nae = ([])\n",
    "rango_Nab = ([])\n",
    "rango_Nbc= ([])\n",
    "rango_Nce= ([])\n",
    "\n",
    "for angulo,carga in zip(rango_angulos , rango_carga):\n",
    "    Dx = -4*carga*np.cos(angulo*np.pi/180)\n",
    "    Ax = -1*carga*np.sin(angulo*np.pi/180) - Dx\n",
    "    Ay = -1*carga*np.cos(angulo*np.pi/180)\n",
    "    Nde = -Dx\n",
    "    Nae = Ay/np.sin(alfa)\n",
    "    Nab = -Ax - (Ay/np.sin(alfa))*np.cos(alfa)\n",
    "    Nbc = Nab\n",
    "    Nce = (carga*np.sin(angulo*np.pi/180) - Nbc)/np.cos(alfa)\n",
    "    \n",
    "    rango_Dx.append(Dx)\n",
    "    rango_Ax.append(Ax)\n",
    "    rango_Ay.append(Ay)\n",
    "    rango_Nde.append(Nde)\n",
    "    rango_Nae.append(Nae)\n",
    "    rango_Nab.append(Nab)\n",
    "    rango_Nce.append(Nce)\n",
    "    rango_Nbc.append(Nbc)\n",
    "   \n",
    "\n",
    "print(rango_Nab)"
   ]
  },
  {
   "cell_type": "code",
   "execution_count": 6,
   "id": "a38b58cb",
   "metadata": {},
   "outputs": [
    {
     "data": {
      "text/plain": [
       "160"
      ]
     },
     "execution_count": 6,
     "metadata": {},
     "output_type": "execute_result"
    }
   ],
   "source": [
    "abs_Nde = ([])\n",
    "for i in rango_Nde:\n",
    "    abs_Nde.append(abs(i))\n",
    "\n",
    "abs_Nae = ([])\n",
    "for i in rango_Nae:\n",
    "    abs_Nae.append(abs(i))\n",
    "    \n",
    "abs_Nab = ([])\n",
    "for i in rango_Nab:\n",
    "    abs_Nab.append(abs(i))\n",
    "    \n",
    "abs_Nce = ([])\n",
    "for i in rango_Nce:\n",
    "    abs_Nce.append(abs(i))\n",
    "\n",
    "abs_Nbc = ([])\n",
    "for i in rango_Nbc:\n",
    "    abs_Nbc.append(abs(i))\n",
    "\n",
    "abs_Nbc.index(max(abs_Nbc))\n",
    "\n",
    "rango_angulos[abs_Nbc.index(max(abs_Nbc))]"
   ]
  },
  {
   "cell_type": "markdown",
   "id": "2215f6ff",
   "metadata": {},
   "source": [
    "## punto 1"
   ]
  },
  {
   "cell_type": "code",
   "execution_count": 7,
   "id": "4e9eb5bc",
   "metadata": {},
   "outputs": [
    {
     "name": "stdout",
     "output_type": "stream",
     "text": [
      "max AB es de 53.31372923753965 KN a tension angulo=160 p=24.0\n",
      "max BC es de 53.31372923753965 KN a tension angulo=160 p=24.0\n",
      "max CE es de -54.78366544874485 KN a compresion angulo=180 p=24.5\n",
      "max DE es de -98.0 KN a compresion angulo=180 p=24.5\n",
      "max AE es de 54.78366544874485 KN a tension angulo=180 p=24.5\n"
     ]
    }
   ],
   "source": [
    "#elementos con sus maximas magnitudes, condiciones de feurza interna, angulo y carga\n",
    "if abs(max(rango_Nab)) < abs(min(rango_Nab)) :\n",
    "    estado_Nab = \"compresion\"\n",
    "    print(\"max AB es de \"+str(min(rango_Nab))+\" KN a \"+str(estado_Nab)+\" angulo=\"+str(rango_angulos[abs_Nab.index(max(abs_Nab))])+\" p=\"+str(rango_carga[abs_Nab.index(max(abs_Nab))]))\n",
    "else:\n",
    "    estado_Nab = \"tension\" \n",
    "    print(\"max AB es de \"+str(max(rango_Nab))+\" KN a \"+str(estado_Nab)+\" angulo=\"+str(rango_angulos[abs_Nab.index(max(abs_Nab))])+\" p=\"+str(rango_carga[abs_Nab.index(max(abs_Nab))]))\n",
    "\n",
    "\n",
    "if abs(max(rango_Nbc)) < abs(min(rango_Nbc)) :\n",
    "    estado_Nbc = \"compresion\"\n",
    "    print(\"max BC es de \"+str(min(rango_Nbc))+\" KN a \"+str(estado_Nbc)+\" angulo=\"+str(rango_angulos[abs_Nbc.index(max(abs_Nbc))])+\" p=\"+str(rango_carga[abs_Nbc.index(max(abs_Nbc))]))\n",
    "else:\n",
    "    estado_Nbc = \"tension\" \n",
    "    print(\"max BC es de \"+str(max(rango_Nbc))+\" KN a \"+str(estado_Nbc)+\" angulo=\"+str(rango_angulos[abs_Nbc.index(max(abs_Nbc))])+\" p=\"+str(rango_carga[abs_Nbc.index(max(abs_Nbc))]))\n",
    "\n",
    "\n",
    "if abs(max(rango_Nce)) < abs(min(rango_Nce)) :\n",
    "    estado_Nce = \"compresion\"\n",
    "    print(\"max CE es de \"+str(min(rango_Nce))+\" KN a \"+str(estado_Nce)+\" angulo=\"+str(rango_angulos[abs_Nce.index(max(abs_Nce))])+\" p=\"+str(rango_carga[abs_Nce.index(max(abs_Nce))]))\n",
    "else:\n",
    "    estado_Nce = \"tension\" \n",
    "    print(\"max CE es de \"+str(max(rango_Nce))+\" KN a \"+str(estado_Nce)+\" angulo=\"+str(rango_angulos[abs_Nce.index(max(abs_Nce))])+\" p=\"+str(rango_carga[abs_Nace.index(max(abs_Nce))]))\n",
    "\n",
    "\n",
    "if abs(max(rango_Nde)) < abs(min(rango_Nde)) :\n",
    "    estado_Nde = \"compresion\"\n",
    "    print(\"max DE es de \"+str(min(rango_Nde))+\" KN a \"+str(estado_Nde)+\" angulo=\"+str(rango_angulos[abs_Nde.index(max(abs_Nde))])+\" p=\"+str(rango_carga[abs_Nde.index(max(abs_Nde))]))\n",
    "else:\n",
    "    estado_Nbc = \"tension\" \n",
    "    print(\"max DE es de \"+str(max(rango_Nde))+\" KN a \"+str(estado_Nde)+\" angulo=\"+str(rango_angulos[abs_Nde.index(max(abs_Nde))])+\" p=\"+str(rango_carga[abs_Nade.index(max(abs_Nde))]))\n",
    "\n",
    "\n",
    "if abs(max(rango_Nae)) < abs(min(rango_Nae)) :\n",
    "    estado_Nae = \"compresion\"\n",
    "    print(\"max AE es de \"+str(min(rango_Nae))+\" KN a \"+str(estado_Nae)+\" angulo=\"+str(rango_angulos[abs_Nae.index(max(abs_Nae))])+\" p=\"+str(rango_carga[abs_Nae.index(max(abs_Nae))]))\n",
    "else:\n",
    "    estado_Nae = \"tension\" \n",
    "    print(\"max AE es de \"+str(max(rango_Nae))+\" KN a \"+str(estado_Nae)+\" angulo=\"+str(rango_angulos[abs_Nae.index(max(abs_Nae))])+\" p=\"+str(rango_carga[abs_Nae.index(max(abs_Nae))]))\n",
    "\n"
   ]
  },
  {
   "cell_type": "code",
   "execution_count": 8,
   "id": "bd1837d3",
   "metadata": {},
   "outputs": [],
   "source": [
    "#esfuerzos en Gpa. los elementos con fuerza interna mayor a 25.2[KN] van a fallar   (Area*EsfMax = 25.2)  \n",
    "esf_Nab = ([])\n",
    "esf_Nbc = ([])\n",
    "esf_Nce = ([])\n",
    "esf_Nde = ([])\n",
    "esf_Nae = ([])\n",
    "for i in rango_Nab :\n",
    "    esf_Nab.append(i/A)\n",
    "for i in rango_Nbc :\n",
    "    esf_Nbc.append(i/A)\n",
    "for i in rango_Nce :\n",
    "    esf_Nce.append(i/A)\n",
    "for i in rango_Nde :\n",
    "    esf_Nde.append(i/A)\n",
    "for i in rango_Nae :\n",
    "    esf_Nae.append(i/A)"
   ]
  },
  {
   "cell_type": "code",
   "execution_count": 9,
   "id": "ecd992f8",
   "metadata": {},
   "outputs": [
    {
     "name": "stdout",
     "output_type": "stream",
     "text": [
      "0[-40.0, -40.0, 44.721359549995796, 80.0, -44.721359549995796]\n",
      "10[-36.368338399239086, -36.368338399239086, 44.592465880208444, 79.76942799398886, -44.592465880208444]\n",
      "20[-31.51598451404604, -31.51598451404604, 43.07493984966057, 77.05479490444449, -43.07493984966057]\n",
      "30[-25.565054257054207, -25.565054257054207, 40.182202216901956, 71.88010851410841, -40.182202216901956]\n",
      "40[-18.67532680757975, -18.67532680757975, 35.97147642060012, 64.34773322199415, -35.97147642060012]\n",
      "50[-11.040028995399641, -11.040028995399641, 30.542981795016217, 54.63694682335585, -30.542981795016217]\n",
      "60[-2.8804538186345745, -2.8804538186345745, 24.037730758122745, 43.00000000000001, -24.037730758122745]\n",
      "70[5.56043826742691, 5.56043826742691, 16.63397131077156, 29.75575246933319, -16.63397131077156]\n",
      "80[14.02525074892364, 14.02525074892364, 8.542360847508778, 15.281039634689876, -8.542360847508778]\n",
      "90[22.249999999999996, 22.249999999999996, 3.972054645195637e-15, 5.449678256205722e-15, -3.0464627590946276e-15]\n",
      "100[29.972342437786544, 29.972342437786544, -8.736505412224883, -15.628335990023727, 8.736505412224883]\n",
      "110[36.93992364419734, 36.93992364419734, -17.39875160092197, -31.12383304263585, 17.39875160092197]\n",
      "120[42.91858428704208, 42.91858428704208, -25.71478174124757, -45.99999999999998, 25.71478174124757]\n",
      "130[47.70015715294031, 47.70015715294031, -33.417615375723614, -59.77924770084816, 33.41761537572363]\n",
      "140[51.10959765422563, 51.10959765422563, -40.25379504210012, -72.00817765318392, 40.25379504210013]\n",
      "150[53.01120667976084, 53.01120667976084, -45.99167723621308, -82.27241335952168, 45.99167723621308]\n",
      "160[53.31372923753965, 53.31372923753965, -50.42919787277335, -90.2104915954472, 50.42919787277335]\n",
      "170[51.97414432951515, 51.97414432951515, -53.40085420222493, -95.52635204218417, 53.40085420222492]\n",
      "180[49.0, 49.0, -54.78366544874485, -98.0, 54.78366544874485]\n"
     ]
    }
   ],
   "source": [
    "#vamos a imprimir un array con la fuerza interna de cada elemento en el orden sugerido para cada configuracion de cargas\n",
    "# AB, BC, CE, DE, AE\n",
    "for i in range(19):\n",
    "    arr_i = ([])\n",
    "    arr_i.append(rango_Nab[i])\n",
    "    arr_i.append(rango_Nbc[i])\n",
    "    arr_i.append(rango_Nce[i])\n",
    "    arr_i.append(rango_Nde[i])\n",
    "    arr_i.append(rango_Nae[i])\n",
    "    print(str(i*10)+str(arr_i))\n"
   ]
  },
  {
   "cell_type": "markdown",
   "id": "e063d058",
   "metadata": {},
   "source": [
    "## punto 2\n",
    "###  - para  teta=0 ( p=20 ) vemos que todos los elementos fallan\n",
    "##    \n",
    "### - para teta=80 y para teta=90 todos los elementos tienen magnitudes de fuerzas internas menores a 25.2 KN\n",
    "### lo que significa que ninguno de los elementos va a fallar bajo estas configuraciones de carga"
   ]
  },
  {
   "cell_type": "code",
   "execution_count": 10,
   "id": "219efd74",
   "metadata": {},
   "outputs": [
    {
     "name": "stdout",
     "output_type": "stream",
     "text": [
      "la falla del elemento AB es inducida por esfuerzo a compresion con una fuerza interna de -40.0\n",
      "la falla del elemento BC es inducida por esfuerzo a compresion con una fuerza interna de -40.0\n",
      "la falla del elemento CE es inducida por esfuerzo a tension con una fuerza interna de 44.721359549995796\n",
      "la falla del elemento DE es inducida por esfuerzo a tension con una fuerza interna de 80.0\n",
      "la falla del elemento AE es inducida por esfuerzo a compresion con una fuerza interna de -44.721359549995796\n"
     ]
    }
   ],
   "source": [
    "#como para teta=0 todos fallan vamos a ver que tipo de esfuerzo induce la falla en cada elemento\n",
    "falla_teta_0 = ([])\n",
    "falla_teta_0.append(rango_Nab[0])\n",
    "falla_teta_0.append(rango_Nbc[0])\n",
    "falla_teta_0.append(rango_Nce[0])\n",
    "falla_teta_0.append(rango_Nde[0])\n",
    "falla_teta_0.append(rango_Nae[0])\n",
    "\n",
    "if falla_teta_0[0] > 0 :\n",
    "    falla_AB = \"esfuerzo a tension\"\n",
    "else:\n",
    "    falla_AB = \"esfuerzo a compresion\"\n",
    "\n",
    "if falla_teta_0[1] > 0 :\n",
    "    falla_BC = \"esfuerzo a tension\"\n",
    "else:\n",
    "    falla_BC = \"esfuerzo a compresion\"\n",
    "\n",
    "if falla_teta_0[2] > 0 :\n",
    "    falla_CE = \"esfuerzo a tension\"\n",
    "else:\n",
    "    falla_CE = \"esfuerzo a compresion\"\n",
    "\n",
    "if falla_teta_0[3] > 0 :\n",
    "    falla_DE = \"esfuerzo a tension\"\n",
    "else:\n",
    "    falla_DE = \"esfuerzo a compresion\"\n",
    "\n",
    "if falla_teta_0[4] > 0 :\n",
    "    falla_AE = \"esfuerzo a tension\"\n",
    "else:\n",
    "    falla_AE = \"esfuerzo a compresion\"\n",
    "\n",
    "print(\"la falla del elemento AB es inducida por \"+str(falla_AB) +\" con una fuerza interna de \"+str(rango_Nab[0]))\n",
    "print(\"la falla del elemento BC es inducida por \"+str(falla_BC) +\" con una fuerza interna de \"+str(rango_Nbc[0]))\n",
    "print(\"la falla del elemento CE es inducida por \"+str(falla_CE) +\" con una fuerza interna de \"+str(rango_Nce[0]))\n",
    "print(\"la falla del elemento DE es inducida por \"+str(falla_DE) +\" con una fuerza interna de \"+str(rango_Nde[0]))\n",
    "print(\"la falla del elemento AE es inducida por \"+str(falla_AE) +\" con una fuerza interna de \"+str(rango_Nae[0]))"
   ]
  },
  {
   "cell_type": "code",
   "execution_count": 11,
   "id": "0742829a",
   "metadata": {},
   "outputs": [
    {
     "name": "stdout",
     "output_type": "stream",
     "text": [
      "[0.46165558 0.45967938 0.45771882 0.45577376 0.453844   0.4519294\n",
      " 0.45002977 0.44814498 0.44627484 0.44441921 0.44257793 0.44075085\n",
      " 0.43893781 0.43713867 0.43535328 0.43358148 0.43182315 0.43007814\n",
      " 0.4283463 ]\n",
      "19\n"
     ]
    }
   ],
   "source": [
    "##aumento es de 0.01 (codigo:2182141 L=1)\n",
    "aumento = np.arange(0.01,0.2,0.01)\n",
    "\n",
    "\n",
    "unos = np.array([1,1,1,1,1,1,1,1,1,1,1,1,1,1,1,1,1,1,1])\n",
    "nalfa = unos*np.arctan((H)/(L+aumento)) \n",
    "print(nalfa)\n",
    "print(len(nalfa))"
   ]
  },
  {
   "cell_type": "code",
   "execution_count": 14,
   "id": "bb4ed4f0",
   "metadata": {},
   "outputs": [
    {
     "name": "stdout",
     "output_type": "stream",
     "text": [
      "[80.19999999999999, 80.16827513395879, 77.63270586622784, 72.5989095992495, 65.15207988726908, 55.45650102570618, 43.75250000000001, 30.35086751871985, 15.624863026470397, 5.585920212610864e-15, -16.058115229749383, -32.05754803391493, -47.494999999999976, -61.87152137037784, -74.70848431517832, -85.56330989390254, -94.0444374882537, -99.82503788408246, -102.65500000000002]\n",
      "[80.0, 79.76942799398886, 77.05479490444449, 71.88010851410841, 64.34773322199415, 54.63694682335585, 43.00000000000001, 29.75575246933319, 15.281039634689876, 5.449678256205722e-15, -15.628335990023727, -31.12383304263585, -45.99999999999998, -59.77924770084816, -72.00817765318392, -82.27241335952168, -90.2104915954472, -95.52635204218417, -98.0]\n"
     ]
    }
   ],
   "source": [
    "# la letra \"n\" al inicio de los nombres es de es de \"nuevo\" para indicar que es un nuevo calculo\n",
    "aumento = np.arange(0.01,0.2,0.01)\n",
    "unos = np.array([1,1,1,1,1,1,1,1,1,1,1,1,1,1,1,1,1,1,1])\n",
    "nalfa = unos*np.arctan((H)/(L+aumento)) \n",
    "nrango_Dx = ([])\n",
    "nrango_Ax = ([])\n",
    "nrango_Ay = ([])\n",
    "nrango_Nde = ([])\n",
    "nrango_Nae = ([])\n",
    "nrango_Nab = ([])\n",
    "nrango_Nbc = ([])\n",
    "nrango_Nce = ([])\n",
    "\n",
    "for angulo,carga,aument,alf in zip(rango_angulos , rango_carga , aumento , nalfa):\n",
    "    nDx = -(4+aument)*carga*np.cos(angulo*np.pi/180)\n",
    "    nAx = -1*carga*np.sin(angulo*np.pi/180) - nDx\n",
    "    nAy = -1*carga*np.cos(angulo*np.pi/180)\n",
    "    nNde = -nDx\n",
    "    nNae = nAy/np.sin(alf)\n",
    "    nNab = -nAx - (nAy/np.sin(alf))*np.cos(alf)\n",
    "    nNbc = nNab\n",
    "    nNce = (carga*np.sin(angulo*np.pi/180) - nNbc)/np.cos(alfa)\n",
    "    \n",
    "    nrango_Nde.append(nNde)\n",
    "    nrango_Nae.append(nNae)\n",
    "    nrango_Nab.append(nNab)\n",
    "    nrango_Nce.append(nNce)\n",
    "    nrango_Nbc.append(nNbc)\n",
    "print(nrango_Nde)\n",
    "print(rango_Nde)"
   ]
  },
  {
   "cell_type": "code",
   "execution_count": 15,
   "id": "ea958956",
   "metadata": {},
   "outputs": [
    {
     "name": "stdout",
     "output_type": "stream",
     "text": [
      "['AB', -39.99999999999999, 20.0, 'AB', -36.36833839923907, 20.25, 'AB', -31.515984514046053, 20.5, 'AB', -25.5650542570542, 20.75, 'AB', -18.675326807579758, 21.0, 'AB', -11.040028995399634, 21.25, 'AB', -2.8804538186345816, 21.5, 'AB', 5.5604382674269175, 21.75, 'AB', 14.02525074892364, 22.0, 'AB', 22.249999999999996, 22.25, 'AB', 29.972342437786544, 22.5, 'AB', 36.939923644197336, 22.75, 'AB', 42.91858428704208, 23.0, 'AB', 47.70015715294032, 23.25, 'AB', 51.10959765422563, 23.5, 'AB', 53.01120667976083, 23.75, 'AB', 53.313729237539654, 24.0, 'AB', 51.97414432951515, 24.25, 'AB', 49.000000000000014, 24.5]\n",
      "57\n"
     ]
    }
   ],
   "source": [
    "arr_1 = ([])\n",
    "for i in range(19):\n",
    "    arr_1.append(\"AB\")\n",
    "    arr_1.append(nrango_Nab[i])\n",
    "    arr_1.append(rango_carga[i])\n",
    "\n",
    "    arr_2 = ([])\n",
    "for i in range(19):\n",
    "    arr_2.append(\"BC\")\n",
    "    arr_2.append(nrango_Nbc[i])\n",
    "    arr_2.append(rango_carga[i])\n",
    "\n",
    "arr_3 = ([])\n",
    "for i in range(19):\n",
    "    arr_3.append(\"CE\")\n",
    "    arr_3.append(nrango_Nce[i])\n",
    "    arr_3.append(rango_carga[i])\n",
    "\n",
    "arr_4 = ([])\n",
    "for i in range(19):\n",
    "    arr_4.append(\"DE\")\n",
    "    arr_4.append(nrango_Nde[i])\n",
    "    arr_4.append(rango_carga[i])\n",
    "    \n",
    "arr_5 = ([])\n",
    "for i in range(19):\n",
    "    arr_5.append(\"AE\")\n",
    "    arr_5.append(nrango_Nae[i])\n",
    "    arr_5.append(rango_carga[i])\n",
    "\n",
    "print(arr_1)\n",
    "print(len(arr_1))"
   ]
  },
  {
   "cell_type": "markdown",
   "id": "50b3254d",
   "metadata": {},
   "source": [
    "## punto 3"
   ]
  },
  {
   "cell_type": "code",
   "execution_count": 16,
   "id": "f30de534",
   "metadata": {},
   "outputs": [
    {
     "name": "stdout",
     "output_type": "stream",
     "text": [
      "['AB', -39.99999999999999, 20.0, 'BC', -39.99999999999999, 20.0, 'CE', 44.72135954999579, 20.0, 'DE', 80.19999999999999, 20.0, 'AE', -44.900334074481, 20.0, 'AB', -36.36833839923907, 20.25, 'BC', -36.36833839923907, 20.25, 'CE', 44.59246588020843, 20.25, 'DE', 80.16827513395879, 20.25, 'AE', -44.949559514316235, 20.25, 'AB', -31.515984514046053, 20.5, 'BC', -31.515984514046053, 20.5, 'CE', 43.07493984966059, 20.5, 'DE', 77.63270586622784, 20.5, 'AE', -43.59260527618039, 20.5, 'AB', -25.5650542570542, 20.75, 'BC', -25.5650542570542, 20.75, 'CE', 40.18220221690195, 20.75, 'DE', 72.5989095992495, 20.75, 'AE', -40.826383013928634, 20.75, 'AB', -18.675326807579758, 21.0, 'BC', -18.675326807579758, 21.0, 'CE', 35.971476420600126, 21.0, 'DE', 65.15207988726908, 21.0, 'AE', -36.692669214310925, 21.0, 'AB', -11.040028995399634, 21.25, 'BC', -11.040028995399634, 21.25, 'CE', 30.54298179501621, 21.25, 'DE', 55.45650102570618, 21.25, 'AE', -31.27816083777874, 21.25, 'AB', -2.8804538186345816, 21.5, 'BC', -2.8804538186345816, 21.5, 'CE', 24.037730758122752, 21.5, 'DE', 43.75250000000001, 21.5, 'AE', -24.71307864775249, 21.5, 'AB', 5.5604382674269175, 21.75, 'BC', 5.5604382674269175, 21.75, 'CE', 16.633971310771553, 21.75, 'DE', 30.35086751871985, 21.75, 'AE', -17.16832139697712, 21.75, 'AB', 14.02525074892364, 22.0, 'BC', 14.02525074892364, 22.0, 'CE', 8.542360847508778, 22.0, 'DE', 15.624863026470397, 22.0, 'AE', -8.851221511798132, 22.0, 'AB', 22.249999999999996, 22.25, 'BC', 22.249999999999996, 22.25, 'CE', 3.972054645195637e-15, 22.25, 'DE', 5.585920212610864e-15, 22.25, 'AE', -3.168907073525443e-15, 22.25, 'AB', 29.972342437786544, 22.5, 'BC', 29.972342437786544, 22.5, 'CE', -8.736505412224883, 22.5, 'DE', -16.058115229749383, 22.5, 'AE', 9.122936554240814, 22.5, 'AB', 36.939923644197336, 22.75, 'BC', 36.939923644197336, 22.75, 'CE', -17.398751600921962, 22.75, 'DE', -32.05754803391493, 22.75, 'AE', 18.23867238736143, 22.75, 'AB', 42.91858428704208, 23.0, 'BC', 42.91858428704208, 23.0, 'CE', -25.71478174124757, 23.0, 'DE', -47.494999999999976, 23.0, 'AE', 27.0602111041285, 23.0, 'AB', 47.70015715294032, 23.25, 'BC', 47.70015715294032, 23.25, 'CE', -33.41761537572363, 23.25, 'DE', -61.87152137037784, 23.25, 'AE', 35.30140468107161, 23.25, 'AB', 51.10959765422563, 23.5, 'BC', 51.10959765422563, 23.5, 'CE', -40.25379504210012, 23.5, 'DE', -74.70848431517832, 23.5, 'AE', 42.686108199216115, 23.5, 'AB', 53.01120667976083, 23.75, 'BC', 53.01120667976083, 23.75, 'CE', -45.99167723621307, 23.75, 'DE', -85.56330989390254, 23.75, 'AE', 48.95727091045824, 23.75, 'AB', 53.313729237539654, 24.0, 'BC', 53.313729237539654, 24.0, 'CE', -50.42919787277335, 24.0, 'DE', -94.0444374882537, 24.0, 'AE', 53.88566862293458, 24.0, 'AB', 51.97414432951515, 24.25, 'BC', 51.97414432951515, 24.25, 'CE', -53.40085420222493, 24.25, 'DE', -99.82503788408246, 24.25, 'AE', 57.27798622984705, 24.25, 'AB', 49.000000000000014, 24.5, 'BC', 49.000000000000014, 24.5, 'CE', -54.78366544874486, 24.5, 'DE', -102.65500000000002, 24.5, 'AE', 58.98397261121024, 24.5]\n"
     ]
    }
   ],
   "source": [
    "arrai = ([])\n",
    "for i in range(19):\n",
    "    i = 3*i\n",
    "    arrai.append(arr_1[i])\n",
    "    arrai.append(arr_1[i+1])\n",
    "    arrai.append(arr_1[i+2])\n",
    "    arrai.append(arr_2[i])\n",
    "    arrai.append(arr_2[i+1])\n",
    "    arrai.append(arr_2[i+2])\n",
    "    arrai.append(arr_3[i])\n",
    "    arrai.append(arr_3[i+1])\n",
    "    arrai.append(arr_3[i+2])\n",
    "    arrai.append(arr_4[i])\n",
    "    arrai.append(arr_4[i+1])\n",
    "    arrai.append(arr_4[i+2])\n",
    "    arrai.append(arr_5[i])\n",
    "    arrai.append(arr_5[i+1])\n",
    "    arrai.append(arr_5[i+2])\n",
    "print(arrai)"
   ]
  },
  {
   "cell_type": "markdown",
   "id": "4e1e478d",
   "metadata": {},
   "source": [
    "## punto 4"
   ]
  },
  {
   "cell_type": "code",
   "execution_count": 17,
   "id": "779c1d11",
   "metadata": {},
   "outputs": [
    {
     "data": {
      "image/png": "[encoded data removed]",
      "text/plain": [
       "<Figure size 432x288 with 5 Axes>"
      ]
     },
     "metadata": {
      "needs_background": "light"
     },
     "output_type": "display_data"
    }
   ],
   "source": [
    "fig,axes = plt.subplots(nrows=5 , ncols=1)\n",
    "for ax, aument in zip(axes, aumento) :\n",
    "    ax.plot([0,(L+aument)],[0,0])\n",
    "    ax.plot([0,0],[0,H])\n",
    "    ax.plot([L+aument,(2+L+aument)],[H,H])\n",
    "    ax.plot([0,(L+aument)],[H,H])\n",
    "    ax.plot([L+aument,L+aument],[0,H])\n",
    "    ax.plot([0,L+aument],[H,0])\n",
    "    ax.plot([L+aument,(2+L+aument)],[0,H])\n"
   ]
  },
  {
   "cell_type": "markdown",
   "id": "2728bab0",
   "metadata": {},
   "source": [
    "## punto 5"
   ]
  },
  {
   "cell_type": "code",
   "execution_count": 23,
   "id": "552b8ae0",
   "metadata": {},
   "outputs": [
    {
     "name": "stdout",
     "output_type": "stream",
     "text": [
      "[-15.585923287623025, -15.585923287623018, -15.585923287623032, -15.585923287623018, -15.585923287623032, -15.585923287623011, -15.585923287623032, -15.585923287623032, -15.585923287623025, -15.585923287623011, -15.58592328762304, -15.585923287623032, -15.585923287623018, -15.585923287623018, -15.58592328762304, -15.585923287623032, -15.585923287623011, -15.585923287623025, -15.58592328762304]\n",
      "[-39.99999999999999, -36.36833839923907, -31.515984514046053, -25.5650542570542, -18.675326807579758, -11.040028995399634, -2.8804538186345816, 5.5604382674269175, 14.02525074892364, 22.249999999999996, 29.972342437786544, 36.939923644197336, 42.91858428704208, 47.70015715294032, 51.10959765422563, 53.01120667976083, 53.313729237539654, 51.97414432951515, 49.000000000000014]\n"
     ]
    }
   ],
   "source": [
    "## teta_AB = 50 (codigo:2182141  A=4 B=1)\n",
    "teta_AB = 50\n",
    "P = 30\n",
    "nnrango_Nde = ([])\n",
    "nnrango_Nae = ([])\n",
    "nnrango_Nab = ([])\n",
    "nnrango_Nbc = ([])\n",
    "nnrango_Nce = ([])\n",
    "\n",
    "for aument, alf in zip(aumento, nalfa):\n",
    "    nnDx = -(4+aument)*P*np.cos(teta_AB*np.pi/180)\n",
    "    nnAx = -1*P*np.sin(teta_AB*np.pi/180) - nnDx\n",
    "    nnAy = -1*P*np.cos(teta_AB*np.pi/180)\n",
    "    nnNde = -nnDx\n",
    "    nnNae = nnAy/np.sin(alf)\n",
    "    nnNab = -nnAx - (nnAy/np.sin(alf))*np.cos(alf)\n",
    "    nnNbc = nnNab\n",
    "    nnNce = (P*np.sin(teta_AB*np.pi/180) - nnNbc)/np.cos(alfa) \n",
    "    nnrango_Nde.append(nnNde)\n",
    "    nnrango_Nae.append(nnNae)\n",
    "    nnrango_Nab.append(nnNab)\n",
    "    nnrango_Nce.append(nnNce)\n",
    "    nnrango_Nbc.append(nnNbc)\n",
    "print(nnrango_Nab)\n",
    "print(nrango_Nab)"
   ]
  },
  {
   "cell_type": "code",
   "execution_count": 24,
   "id": "2d13a8d7",
   "metadata": {},
   "outputs": [],
   "source": [
    "#nuevos esfuerzos en Gpa\n",
    "nesf_Nab = ([])\n",
    "nesf_Nbc = ([])\n",
    "nesf_Nce = ([])\n",
    "nesf_Nde = ([])\n",
    "nesf_Nae = ([])\n",
    "for i in nnrango_Nab :\n",
    "    nesf_Nab.append(i/A)\n",
    "for i in nnrango_Nbc :\n",
    "    nesf_Nbc.append(i/A)\n",
    "for i in nnrango_Nce :\n",
    "    nesf_Nce.append(i/A)\n",
    "for i in nnrango_Nde :\n",
    "    nesf_Nde.append(i/A)\n",
    "for i in nnrango_Nae :\n",
    "    nesf_Nae.append(i/A)"
   ]
  },
  {
   "cell_type": "code",
   "execution_count": 37,
   "id": "835f22db",
   "metadata": {},
   "outputs": [
    {
     "data": {
      "image/png": "[encoded data removed]",
      "text/plain": [
       "<Figure size 432x288 with 1 Axes>"
      ]
     },
     "metadata": {
      "needs_background": "light"
     },
     "output_type": "display_data"
    }
   ],
   "source": [
    "#grafica de esfuerzo en funcion de la variacion de los nodos para el lemento AB\n",
    "grafica_AB = plt.plot(aumento,nesf_Nab)"
   ]
  },
  {
   "cell_type": "code",
   "execution_count": 33,
   "id": "e60f47e0",
   "metadata": {},
   "outputs": [
    {
     "data": {
      "image/png": "[encoded data removed]",
      "text/plain": [
       "<Figure size 432x288 with 1 Axes>"
      ]
     },
     "metadata": {
      "needs_background": "light"
     },
     "output_type": "display_data"
    }
   ],
   "source": [
    "#grafica de esfuerzo en funcion de la variacion de los nodos para el lemento BC\n",
    "grafica_BC = plt.plot(aumento,nesf_Nbc)"
   ]
  },
  {
   "cell_type": "code",
   "execution_count": 34,
   "id": "d60f8a73",
   "metadata": {},
   "outputs": [
    {
     "data": {
      "image/png": "[encoded data removed]",
      "text/plain": [
       "<Figure size 432x288 with 1 Axes>"
      ]
     },
     "metadata": {
      "needs_background": "light"
     },
     "output_type": "display_data"
    }
   ],
   "source": [
    "#grafica de esfuerzo en funcion de la variacion de los nodos para el lemento CE\n",
    "grafica_CE = plt.plot(aumento,nesf_Nce)"
   ]
  },
  {
   "cell_type": "code",
   "execution_count": 35,
   "id": "0db65a31",
   "metadata": {},
   "outputs": [
    {
     "data": {
      "image/png": "[encoded data removed]",
      "text/plain": [
       "<Figure size 432x288 with 1 Axes>"
      ]
     },
     "metadata": {
      "needs_background": "light"
     },
     "output_type": "display_data"
    }
   ],
   "source": [
    "#grafica de esfuerzo en funcion de la variacion de los nodos para el lemento DE\n",
    "grafica_DE = plt.plot(aumento,nesf_Nde)"
   ]
  },
  {
   "cell_type": "code",
   "execution_count": 36,
   "id": "14e19af4",
   "metadata": {},
   "outputs": [
    {
     "data": {
      "image/png": "[encoded data removed]",
      "text/plain": [
       "<Figure size 432x288 with 1 Axes>"
      ]
     },
     "metadata": {
      "needs_background": "light"
     },
     "output_type": "display_data"
    }
   ],
   "source": [
    "#grafica de esfuerzo en funcion de la variacion de los nodos para el lemento AE\n",
    "grafica_AE = plt.plot(aumento,nesf_Nae)"
   ]
  }
 ],
 "metadata": {
  "kernelspec": {
   "display_name": "Python 3 (ipykernel)",
   "language": "python",
   "name": "python3"
  },
  "language_info": {
   "codemirror_mode": {
    "name": "ipython",
    "version": 3
   },
   "file_extension": ".py",
   "mimetype": "text/x-python",
   "name": "python",
   "nbconvert_exporter": "python",
   "pygments_lexer": "ipython3",
   "version": "3.8.10"
  }
 },
 "nbformat": 4,
 "nbformat_minor": 5
}
