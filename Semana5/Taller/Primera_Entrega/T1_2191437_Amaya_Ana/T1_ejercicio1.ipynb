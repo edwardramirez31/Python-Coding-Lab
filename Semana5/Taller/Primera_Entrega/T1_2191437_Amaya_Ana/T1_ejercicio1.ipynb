{
 "cells": [
  {
   "cell_type": "code",
   "execution_count": 1,
   "id": "be4b6ebf",
   "metadata": {},
   "outputs": [],
   "source": [
    "import numpy as np\n",
    "import matplotlib.pyplot as plt\n",
    "import sympy as sp\n",
    "from matplotlib.ticker import FormatStrFormatter"
   ]
  },
  {
   "cell_type": "code",
   "execution_count": 2,
   "id": "467a5ae4",
   "metadata": {},
   "outputs": [],
   "source": [
    "#Definir valores a usar\n",
    "\n",
    "#Definimos los valores para el ejercicio\n",
    "codigo = \"2191437\"\n",
    "X = sum ([int(i) for i in codigo])\n",
    "\n",
    "#Definimos las caracteristicas de los cables\n",
    "Longitud_Cable = 1.5 #m\n",
    "Diametro_Cable = 1/4 #pulg\n",
    "\n",
    "#Definimos las caracteristicas de los pasadores\n",
    "Diametro_Pasadores = 1/2 #pulg\n",
    "\n",
    "# Definimos las caracteristicas de la viga.\n",
    "Longitud_Viga = X * 0.2 #m\n",
    "\n",
    "#Definimos las propiedades del material de la viga\n",
    "Esfuerzo_Ultimo = 400 #MPa\n",
    "Esfuerzo_limite_elasticidad_tension = 250 #MPa\n",
    "Esfuerzo_limite_elasticidad_cortante = 145 #MPa\n",
    "Módulo_de_elasticidad = 200 #GPa"
   ]
  },
  {
   "cell_type": "code",
   "execution_count": 3,
   "id": "d88f11f1",
   "metadata": {},
   "outputs": [],
   "source": [
    "#Realizamos los calculos basicos necesarios (areas,angulos en radianes, factores de seguridad y conversiones de unidades)\n",
    "Area_Pasadores = np.pi * ((Diametro_Pasadores/2) * 25.4 / 1000) ** 2 #mm2 \n",
    "Area_Cables = np.pi * ((Diametro_Cable/2) * 25.4/ 1000) ** 2 #mm2\n",
    "FS_Fu = float (f\"1.{X}\")\n",
    "FS_Fy = float (f\"1.{X+3}\")\n",
    "Angulo_CBD = 40 * (np.pi/180)\n",
    "Angulo_DBE = 50 * (np.pi/180)"
   ]
  },
  {
   "cell_type": "code",
   "execution_count": 4,
   "id": "3473656d",
   "metadata": {},
   "outputs": [
    {
     "data": {
      "text/latex": [
       "$\\displaystyle Ay + 0.766044443118978 BC + BD + 0.642787609686539 BE - 5.4 W = 0$"
      ],
      "text/plain": [
       "Eq(Ay + 0.766044443118978*BC + BD + 0.642787609686539*BE - 5.4*W, 0)"
      ]
     },
     "execution_count": 4,
     "metadata": {},
     "output_type": "execute_result"
    }
   ],
   "source": [
    "#Analizamos el equilibrio externo de la viga\n",
    "Ax, Ay, BD, BC, BE, W = sp.symbols(\"Ax Ay BD BC BE W\")\n",
    "\n",
    "#Fy = 0\n",
    "Fy = Ay - (W * Longitud_Viga) + BD + (BE * sp.cos(Angulo_DBE)) + (BC * sp.cos(Angulo_CBD))\n",
    "sum_Fy = sp.Eq(Fy, 0)\n",
    "sum_Fy"
   ]
  },
  {
   "cell_type": "code",
   "execution_count": 5,
   "id": "5d1f4b77",
   "metadata": {},
   "outputs": [
    {
     "data": {
      "text/latex": [
       "$\\displaystyle Ax - 0.642787609686539 BC + 0.766044443118978 BE = 0$"
      ],
      "text/plain": [
       "Eq(Ax - 0.642787609686539*BC + 0.766044443118978*BE, 0)"
      ]
     },
     "execution_count": 5,
     "metadata": {},
     "output_type": "execute_result"
    }
   ],
   "source": [
    "#Fx = 0\n",
    "Fx = Ax + (BE * sp.sin(Angulo_DBE)) - (BC * sp.sin(Angulo_CBD))\n",
    "sum_Fx = sp.Eq(Fx, 0)\n",
    "sum_Fx"
   ]
  },
  {
   "cell_type": "code",
   "execution_count": 6,
   "id": "eed6e7f7",
   "metadata": {},
   "outputs": [
    {
     "data": {
      "text/latex": [
       "$\\displaystyle 4.13663999284248 BC + 5.4 BD + 3.47105309230731 BE - 14.58 W = 0$"
      ],
      "text/plain": [
       "Eq(4.13663999284248*BC + 5.4*BD + 3.47105309230731*BE - 14.58*W, 0)"
      ]
     },
     "execution_count": 6,
     "metadata": {},
     "output_type": "execute_result"
    }
   ],
   "source": [
    "#Momento_A = 0\n",
    "Ma = - W * (Longitud_Viga ** 2) / 2 + Longitud_Viga * BD + Longitud_Viga * BE * sp.cos(Angulo_DBE) + Longitud_Viga * BC * sp.cos(Angulo_CBD)\n",
    "sum_Ma = sp.Eq(Ma, 0)\n",
    "sum_Ma "
   ]
  },
  {
   "cell_type": "code",
   "execution_count": 7,
   "id": "4932d2cd",
   "metadata": {},
   "outputs": [
    {
     "data": {
      "text/latex": [
       "$\\displaystyle BC - 0.766044443118978 BD = 0$"
      ],
      "text/plain": [
       "Eq(BC - 0.766044443118978*BD, 0)"
      ]
     },
     "execution_count": 7,
     "metadata": {},
     "output_type": "execute_result"
    }
   ],
   "source": [
    "#Hacemos un analisis a las deformaciones de la viga\n",
    "\n",
    "#Relacion entre BC y BD\n",
    "BC_BD = sp.Eq(BC - BD * sp.cos(Angulo_CBD), 0)\n",
    "Relacion_BC_BD = BD * sp.cos(Angulo_CBD)\n",
    "BC_BD"
   ]
  },
  {
   "cell_type": "code",
   "execution_count": 8,
   "id": "de27765a",
   "metadata": {},
   "outputs": [
    {
     "data": {
      "text/latex": [
       "$\\displaystyle - 0.642787609686539 BD + BE = 0$"
      ],
      "text/plain": [
       "Eq(-0.642787609686539*BD + BE, 0)"
      ]
     },
     "execution_count": 8,
     "metadata": {},
     "output_type": "execute_result"
    }
   ],
   "source": [
    "#Relacion entre BD y BE\n",
    "BD_BE = sp.Eq(BE - BD * sp.cos(Angulo_DBE), 0)\n",
    "Relacion_BD_BE = BD * sp.cos(Angulo_DBE)\n",
    "BD_BE"
   ]
  },
  {
   "cell_type": "code",
   "execution_count": 9,
   "id": "04887c16",
   "metadata": {},
   "outputs": [
    {
     "data": {
      "text/latex": [
       "$\\displaystyle 10.8 BD - 14.58 W = 0$"
      ],
      "text/plain": [
       "Eq(10.8*BD - 14.58*W, 0)"
      ]
     },
     "execution_count": 9,
     "metadata": {},
     "output_type": "execute_result"
    }
   ],
   "source": [
    "# Despejamos las ecuaciones en terminos de las reacciones o cargas\n",
    "\n",
    "# BC y BE en terminos de BD\n",
    "Momento = sp.Eq(Ma.subs([(BC, Relacion_BC_BD), (BE, Relacion_BD_BE)]), 0)\n",
    "Momento"
   ]
  },
  {
   "cell_type": "code",
   "execution_count": 10,
   "id": "470228d0",
   "metadata": {},
   "outputs": [
    {
     "data": {
      "text/latex": [
       "$\\displaystyle 1.35 W$"
      ],
      "text/plain": [
       "1.35*W"
      ]
     },
     "execution_count": 10,
     "metadata": {},
     "output_type": "execute_result"
    }
   ],
   "source": [
    "# BD en terminos de W\n",
    "BD_en_W = sp.solve(Momento)[0][BD]\n",
    "BD_en_W "
   ]
  },
  {
   "cell_type": "code",
   "execution_count": 11,
   "id": "85c20b03",
   "metadata": {},
   "outputs": [
    {
     "name": "stdout",
     "output_type": "stream",
     "text": [
      "La carga máxima distribuida que puede soportar el cable BD es de 7.38856050010933 kN/m\n"
     ]
    }
   ],
   "source": [
    "# Calculamos las cargas maximas para cada elemento\n",
    "\n",
    "# W_max Cable_BD\n",
    "Esfuerzo_BD = (BD_en_W / Area_Cables) - (Esfuerzo_Ultimo * (10 ** 6) / FS_Fu) / 1000\n",
    "Eqv_BD_W = sp.Eq(Esfuerzo_BD, 0)\n",
    "Eqv_BD_W\n",
    "W_max_BD = sp.solve(Eqv_BD_W, W)\n",
    "print(\"La carga máxima distribuida que puede soportar el cable BD es de \" + str(W_max_BD[0]) + \" kN/m\")\n"
   ]
  },
  {
   "cell_type": "code",
   "execution_count": 35,
   "id": "8daa6e55",
   "metadata": {},
   "outputs": [
    {
     "name": "stdout",
     "output_type": "stream",
     "text": [
      "La carga máxima distribuida que puede soportar el cable BD es de 9.64508073451527 kN/m\n"
     ]
    }
   ],
   "source": [
    "# W_max Cable_BC\n",
    "Esfuerzo_BC = (Relacion_BC_BD.subs(BD, BD_en_W) / Area_Cables) - (Esfuerzo_Ultimo * (10 ** 6) / FS_Fu) / 1000\n",
    "Eqv_BC_BD = sp.Eq(Esfuerzo_BC, 0)\n",
    "Eqv_BC_BD\n",
    "W_max_BC = sp.solve(Eqv_BC_BD, W)\n",
    "print(\"La carga máxima distribuida que puede soportar el cable BD es de \" + str(W_max_BC[0]) + \" kN/m\")"
   ]
  },
  {
   "cell_type": "code",
   "execution_count": 36,
   "id": "92596e22",
   "metadata": {},
   "outputs": [
    {
     "name": "stdout",
     "output_type": "stream",
     "text": [
      "La carga máxima distribuida que puede soportar el cable BD es de 11.4945596162198 kN/m\n"
     ]
    }
   ],
   "source": [
    "# W_max Cable_BE\n",
    "Esfuerzo_BE = (Relacion_BD_BE.subs(BD, BD_en_W) / Area_Cables) - (Esfuerzo_Ultimo * (10 ** 6) / FS_Fu) / 1000\n",
    "Eqv_BE_BD = sp.Eq(Esfuerzo_BE, 0)\n",
    "Eqv_BE_BD\n",
    "W_max_BE = sp.solve(Eqv_BE_BD, W)\n",
    "print(\"La carga máxima distribuida que puede soportar el cable BD es de \" + str(W_max_BE[0]) + \" kN/m\")"
   ]
  },
  {
   "cell_type": "code",
   "execution_count": 45,
   "id": "81bae821",
   "metadata": {},
   "outputs": [
    {
     "data": {
      "text/plain": [
       "{Ay: 2.7*W}"
      ]
     },
     "execution_count": 45,
     "metadata": {},
     "output_type": "execute_result"
    }
   ],
   "source": [
    "# PASADORES\n",
    "# Pas_A\n",
    "RAy = Fy.subs([(BC, Relacion_BC_BD), (BE, Relacion_BD_BE), (BD, BD_en_W)])\n",
    "equivalencia_RAy = sp.solve(sp.Eq(RAy, 0))\n",
    "Eqv_RAy = equivalencia_RAy[0]\n",
    "Eqv_RAy"
   ]
  },
  {
   "cell_type": "code",
   "execution_count": 46,
   "id": "2280843a",
   "metadata": {},
   "outputs": [
    {
     "data": {
      "text/plain": [
       "{Ax: -1.49880108324396e-16*W}"
      ]
     },
     "execution_count": 46,
     "metadata": {},
     "output_type": "execute_result"
    }
   ],
   "source": [
    "RAx = Fx.subs([(BC, Relacion_BC_BD), (BE, Relacion_BD_BE), (BD, BD_en_W)])\n",
    "Eqv_RAx = sp.solve(sp.Eq(RAx, 0))\n",
    "Eqv_RAx = Eqv_RAx[0]\n",
    "Eqv_RAx"
   ]
  },
  {
   "cell_type": "code",
   "execution_count": 55,
   "id": "fce543f6",
   "metadata": {},
   "outputs": [
    {
     "data": {
      "text/latex": [
       "$\\displaystyle 1.6431676725155 \\sqrt{W^{2}}$"
      ],
      "text/plain": [
       "1.6431676725155*sqrt(W**2)"
      ]
     },
     "execution_count": 55,
     "metadata": {},
     "output_type": "execute_result"
    }
   ],
   "source": [
    "# RA_en_W\n",
    "Eqv_RAy_2 = 2.7*W ** 2\n",
    "Eqv_RAx_2 = -1.49880108324396e-16*W ** 2\n",
    "RA = sp.sqrt( Eqv_RAy_2 + Eqv_RAx_2 )\n",
    "RA"
   ]
  },
  {
   "cell_type": "code",
   "execution_count": 57,
   "id": "aca9e674",
   "metadata": {},
   "outputs": [
    {
     "name": "stdout",
     "output_type": "stream",
     "text": [
      "La carga máxima distribuida que puede soportar el pasador A es de 8.59884441708339 kN/m\n"
     ]
    }
   ],
   "source": [
    "# W_max Pas_A\n",
    "Esfuerzo_RA = (RA / Area_Pasadores) - (Esfuerzo_limite_elasticidad_cortante * (10 ** 6) / FS_Fy) / 1000\n",
    "Eqv_RA = sp.Eq(Esfuerzo_RA, 0)\n",
    "Eqv_RA\n",
    "W_1 = sp.sqrt(W**2)\n",
    "W_max_RA = sp.solve(Eqv_RA, W_1)\n",
    "print(\"La carga máxima distribuida que puede soportar el pasador A es de \" + str(W_max_RA[0]) + \" kN/m\")"
   ]
  },
  {
   "cell_type": "code",
   "execution_count": 58,
   "id": "063054f0",
   "metadata": {},
   "outputs": [
    {
     "data": {
      "text/latex": [
       "$\\displaystyle 2.7 \\sqrt{W^{2}}$"
      ],
      "text/plain": [
       "2.7*sqrt(W**2)"
      ]
     },
     "execution_count": 58,
     "metadata": {},
     "output_type": "execute_result"
    }
   ],
   "source": [
    "# Pas_B\n",
    "RBy = Relacion_BC_BD.subs(BD, BD_en_W) * sp.cos(Angulo_CBD) + Relacion_BD_BE.subs(BD, BD_en_W) * sp.cos(Angulo_DBE) + BD_en_W\n",
    "RBx = Relacion_BD_BE.subs(BD, BD_en_W) * sp.sin(Angulo_DBE) - Relacion_BC_BD.subs(BD, BD_en_W)* sp.sin(Angulo_CBD) \n",
    "RB = sp.sqrt(RBx**2 + RBy**2)\n",
    "RB"
   ]
  },
  {
   "cell_type": "code",
   "execution_count": 61,
   "id": "8819c755",
   "metadata": {},
   "outputs": [
    {
     "name": "stdout",
     "output_type": "stream",
     "text": [
      "La carga máxima distribuida que puede soportar el pasador B es de 5.23309006190439 kN/m\n"
     ]
    }
   ],
   "source": [
    "# W_max Pas_B\n",
    "Esfuerzo_RB = (RB / Area_Pasadores) - (Esfuerzo_limite_elasticidad_cortante * (10 ** 6)/ FS_Fy) / 1000\n",
    "Eqv_RB = sp.Eq(Esfuerzo_RB, 0)\n",
    "Eqv_RB\n",
    "W_1 = sp.sqrt(W ** 2)\n",
    "W_max_RB = sp.solve(Eqv_RB, W_1)\n",
    "print(\"La carga máxima distribuida que puede soportar el pasador B es de \" + str(W_max_RB[0]) + \" kN/m\")"
   ]
  },
  {
   "cell_type": "code",
   "execution_count": 62,
   "id": "b875bed9",
   "metadata": {},
   "outputs": [
    {
     "name": "stdout",
     "output_type": "stream",
     "text": [
      "La carga máxima distribuida que puede soportar el pasador del cable BC es de 13.6626278250846 kN/m\n"
     ]
    }
   ],
   "source": [
    "# W_max Pas_BC\n",
    "Esfuerzo_Pas_BC = (Relacion_BC_BD.subs(BD, BD_en_W) / Area_Pasadores) - (Esfuerzo_limite_elasticidad_cortante * (10 ** 6) / FS_Fy) / 1000\n",
    "Eqv_Pas_BC = sp.Eq(Esfuerzo_Pas_BC, 0)\n",
    "Eqv_Pas_BC\n",
    "W_max_Pas_BC = sp.solve(Eqv_Pas_BC, W)\n",
    "print(\"La carga máxima distribuida que puede soportar el pasador del cable BC es de \" + str(W_max_Pas_BC[0]) + \" kN/m\")"
   ]
  },
  {
   "cell_type": "code",
   "execution_count": 63,
   "id": "811bbff5",
   "metadata": {},
   "outputs": [
    {
     "name": "stdout",
     "output_type": "stream",
     "text": [
      "La carga máxima distribuida que puede soportar el pasador del cable BD es de 10.4661801238088 kN/m\n"
     ]
    }
   ],
   "source": [
    "# W_max Pas_BD\n",
    "Esfuerzo_Pas_BD = (BD_en_W / Area_Pasadores) - (Esfuerzo_limite_elasticidad_cortante * (10 ** 6) / FS_Fy) / 1000\n",
    "equivalencia_P_F_BD = sp.Eq(Esfuerzo_Pas_BD, 0)\n",
    "equivalencia_P_F_BD\n",
    "W_max_Pas_BD = sp.solve(equivalencia_P_F_BD, W)\n",
    "print(\"La carga máxima distribuida que puede soportar el pasador del cable BD es de \" + str(W_max_Pas_BD[0]) + \" kN/m\")"
   ]
  },
  {
   "cell_type": "code",
   "execution_count": 64,
   "id": "27a958ce",
   "metadata": {},
   "outputs": [
    {
     "name": "stdout",
     "output_type": "stream",
     "text": [
      "La carga máxima distribuida que puede soportar el pasador del cable BE es de 16.2824857948222 kN/m\n"
     ]
    }
   ],
   "source": [
    "# W_max Pas_BE\n",
    "Esfuerzo_Pas_BE = (Relacion_BD_BE.subs(BD, BD_en_W) / Area_Pasadores) - (Esfuerzo_limite_elasticidad_cortante * (10 ** 6) / FS_Fy) / 1000\n",
    "Eqv_Pas_BE = sp.Eq(Esfuerzo_Pas_BE, 0)\n",
    "Eqv_Pas_BE\n",
    "W_max_Pas_BE = sp.solve(Eqv_Pas_BE, W)\n",
    "print(\"La carga máxima distribuida que puede soportar el pasador del cable BE es de \" + str(W_max_Pas_BE[0]) + \" kN/m\")"
   ]
  },
  {
   "cell_type": "code",
   "execution_count": 66,
   "id": "ebb9d773",
   "metadata": {},
   "outputs": [
    {
     "name": "stdout",
     "output_type": "stream",
     "text": [
      "La carga máxima distribuida para que ningún elemento falle es de [5.23309006190439] kN/m\n"
     ]
    }
   ],
   "source": [
    "# W_max general\n",
    "W_max = min([W_max_BD, W_max_BC, W_max_BE, W_max_Pas_BC, W_max_Pas_BD, W_max_Pas_BE, W_max_RB, W_max_RA])\n",
    "W_max_1 = W_max[0]\n",
    "print(\"La carga máxima distribuida para que ningún elemento falle es de \" + str(W_max) + \" kN/m\")"
   ]
  },
  {
   "cell_type": "code",
   "execution_count": 72,
   "id": "5345df69",
   "metadata": {},
   "outputs": [
    {
     "name": "stdout",
     "output_type": "stream",
     "text": [
      "La fuerza del cable BD es de 7.06467158357092 kN\n",
      "La deformación del cable BD es de 1.67307692307693 mm\n"
     ]
    }
   ],
   "source": [
    "# 1.2 Reacciones, Fuerzas y Deformaciones\n",
    "\n",
    "# Cable BD\n",
    "W_BD = BD_en_W.subs(W, W_max_1)\n",
    "Deformacion_BD = (W_BD * Longitud_Cable) / (Area_Cables * Módulo_de_elasticidad * 1000)\n",
    "print(\"La fuerza del cable BD es de \" + str(W_BD) + \" kN\")\n",
    "print(\"La deformación del cable BD es de \" + str(Deformacion_BD) + \" mm\")"
   ]
  },
  {
   "cell_type": "code",
   "execution_count": 74,
   "id": "73782926",
   "metadata": {},
   "outputs": [
    {
     "name": "stdout",
     "output_type": "stream",
     "text": [
      "La fuerza del cable BC es de 5.41185240905506 kN\n",
      "La deformación del cable BC es de 1.28165127983368 mm\n"
     ]
    }
   ],
   "source": [
    "# Cable BC\n",
    "W_BC = Relacion_BC_BD.subs(BD, BD_en_W)\n",
    "W_BC = W_BC.subs(W, W_max_1)\n",
    "Deformacion_BC = (W_BC * Longitud_Cable) / (Area_Cables * Módulo_de_elasticidad * 1000)\n",
    "print(\"La fuerza del cable BC es de \" + str(W_BC) + \" kN\")\n",
    "print(\"La deformación del cable BC es de \" + str(Deformacion_BC) + \" mm\")"
   ]
  },
  {
   "cell_type": "code",
   "execution_count": 75,
   "id": "1b188e29",
   "metadata": {},
   "outputs": [
    {
     "name": "stdout",
     "output_type": "stream",
     "text": [
      "La fuerza del cable BC es de 4.54108336042397 kN\n",
      "La deformación del cable BE es de 1.07543311620633 mm\n"
     ]
    }
   ],
   "source": [
    "# Cable BE\n",
    "W_BE = Relacion_BD_BE.subs(BD, BD_en_W)\n",
    "W_BE = W_BE.subs(W, W_max_1)\n",
    "Deformacion_BE = (W_BE * Longitud_Cable) / (Area_Cables * Módulo_de_elasticidad * 1000)\n",
    "print(\"La fuerza del cable BC es de \" + str(W_BE) + \" kN\")\n",
    "print(\"La deformación del cable BE es de \" + str(Deformacion_BE) + \" mm\")"
   ]
  },
  {
   "cell_type": "code",
   "execution_count": 86,
   "id": "3c14c79a",
   "metadata": {},
   "outputs": [
    {
     "name": "stdout",
     "output_type": "stream",
     "text": [
      "La reaccion Ax es de -8.88178419700125e-16 kN\n",
      "La reaccion Ay es de 8.59884441708342 kN\n"
     ]
    }
   ],
   "source": [
    "# Apoyo A\n",
    "R_Ax = Fx.subs([(BC, W_BC), (BE, W_BE)])\n",
    "R_Ax = sp.solve(sp.Eq(R_Ax,0))[0]\n",
    "R_Ay = RA.subs([(Eqv_RAx, R_Ax), (W, W_max_1)])\n",
    "print(\"La reaccion Ax es de \" + str(R_Ax) + \" kN\")\n",
    "print(\"La reaccion Ay es de \" + str(R_Ay) + \" kN\")"
   ]
  },
  {
   "cell_type": "code",
   "execution_count": null,
   "id": "6a82a636",
   "metadata": {},
   "outputs": [],
   "source": []
  }
 ],
 "metadata": {
  "kernelspec": {
   "display_name": "Python 3 (ipykernel)",
   "language": "python",
   "name": "python3"
  },
  "language_info": {
   "codemirror_mode": {
    "name": "ipython",
    "version": 3
   },
   "file_extension": ".py",
   "mimetype": "text/x-python",
   "name": "python",
   "nbconvert_exporter": "python",
   "pygments_lexer": "ipython3",
   "version": "3.8.10"
  }
 },
 "nbformat": 4,
 "nbformat_minor": 5
}
