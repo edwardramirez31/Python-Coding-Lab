{
 "cells": [
  {
   "cell_type": "code",
   "execution_count": null,
   "id": "05b4f2e0",
   "metadata": {},
   "outputs": [],
   "source": [
    "import numpy as np\n",
    "import sympy as sp\n",
    "from math import pi\n",
    "from math import cos\n",
    "from math import sin"
   ]
  },
  {
   "cell_type": "code",
   "execution_count": null,
   "id": "4d8d5a8f",
   "metadata": {},
   "outputs": [],
   "source": [
    "CODIGO = 2201918\n",
    "#en metros\n",
    "l_cables = 1.5\n",
    "# en pulgadas\n",
    "d_cables = 1 / 4\n",
    "#mm2\n",
    "area_cables = np.pi * (d_cables * 25.4 / 1000) ** 2 / 4\n",
    "#en pulgadas\n",
    "d_pasadores = 1 / 2\n",
    "#mm2\n",
    "area_pasadores = np.pi * (d_pasadores * 25.4 / 1000) ** 2 / 4\n",
    "\n",
    "X = sum([int(i) for i in CODIGO])\n",
    "#en metros\n",
    "L = 0.2 *x\n",
    "\n",
    "FSeguridad_fluencia = float(f\"1.{X}\")\n",
    "FSeguridad_ultima_resistencia = float(f\"1.{X + 3}\")\n",
    "\n",
    "anguloBC = 40 * np.pi / 180\n",
    "anguloBE = 50 * np.pi / 180"
   ]
  },
  {
   "cell_type": "code",
   "execution_count": null,
   "id": "6555c80b",
   "metadata": {},
   "outputs": [],
   "source": [
    "# Ecuaciones de Equilibrio\n",
    "Ay, Ax, BC, BD, BE, W = sp.symbols(\"Ax Ay BC BD BE W\")\n",
    "\n",
    "Fx = Ax - BC * sp.sin(anguloBC) + BE * sp.sin(anguloBE)\n",
    "equilibrioX = sp.Eq(Fx,0)\n",
    "equilibrioX"
   ]
  },
  {
   "cell_type": "code",
   "execution_count": null,
   "id": "c7beb259",
   "metadata": {},
   "outputs": [],
   "source": [
    "Fy = Ay - W * L + BC * sp.cos(anguloBC) + BE * sp.cos(angulo_BE) + BD\n",
    "equilibrioY = sp.Eq(Fy, 0)\n",
    "equilibrioY"
   ]
  },
  {
   "cell_type": "code",
   "execution_count": null,
   "id": "4d335f1f",
   "metadata": {},
   "outputs": [],
   "source": [
    "MA = - W * L ** 2 / 2 + BC * sp.cos(anguloBC) * L + BE * sp.cos(anguloBE) * L + BD * L\n",
    "equilibrioMomentos = sp.Eq(MA, 0)\n",
    "equilibrioMomentos"
   ]
  },
  {
   "cell_type": "code",
   "execution_count": null,
   "id": "4e22ff37",
   "metadata": {},
   "outputs": [],
   "source": [
    "#Ecuacion de compatibilidad\n",
    "equiBC = sp.Eq(BC - BD * sp.cos(anguloBC), 0)\n",
    "expr.equiBC = BD * sp.cos(anguloBC)\n",
    "equiBC"
   ]
  },
  {
   "cell_type": "code",
   "execution_count": null,
   "id": "ca9a28de",
   "metadata": {},
   "outputs": [],
   "source": [
    "#Material(en MPa)\n",
    "esfuerzo_ultimo = 400\n",
    "esfuerzo_fluencia_traccion = 250\n",
    "esfuerzo_fluencia_cortante = 145\n",
    "#en Gpa\n",
    "E = 200"
   ]
  },
  {
   "cell_type": "code",
   "execution_count": null,
   "id": "f7af1f12",
   "metadata": {},
   "outputs": [],
   "source": [
    "#Apoyos de la barra sometidos a cortante doble\n",
    "AyEq = Fy.subs([(BC, expr.equiBC), (BE, expr.equiBE), (BD, BDvsW)])\n",
    "AyvsW = sp.solve(sp.Eq(AyEq, 0))\n",
    "AyvsW = AyvsW[0][Ay]\n",
    "AyvsW"
   ]
  },
  {
   "cell_type": "code",
   "execution_count": null,
   "id": "4f59fbd4",
   "metadata": {},
   "outputs": [],
   "source": [
    "AxEq = Fx.subs([(BC, expr.equiBC), (BE, expr.equiBE), (BD, BDvsW)])\n",
    "AxvsW = sp.solve(sp.Eq(AxEq, 0))\n",
    "AxvsW = AxvsW[0][Ax]\n",
    "AxvsW"
   ]
  },
  {
   "cell_type": "code",
   "execution_count": null,
   "id": "527606b0",
   "metadata": {},
   "outputs": [],
   "source": [
    "#Apoyo en A\n",
    "F.ApoyoA = sp.sqrt(AyvsW ** 2 + AxvsW ** 2)\n",
    "F.ApoyoA "
   ]
  },
  {
   "cell_type": "code",
   "execution_count": null,
   "id": "f46110ef",
   "metadata": {},
   "outputs": [],
   "source": [
    "#Punto de union de los cables\n",
    "FxCortanteDoble = expr.equiBE.subs(BD, BDvsW) * sp.sin(anguloBE) - expr.equiBC.subs(BD, BDvsW)\n",
    "FyCortanteDoble = expr.equiBE.subs(BD, BDvsW) * sp.cos(anguloBE) - expr.equiBC.subs(BD, BDvsW)\n",
    "F.ApoyoB= sp.sqrt(FXCortanteDoble ** 2 + FyCortanteDoble ** 2)\n",
    "F.ApoyoB"
   ]
  },
  {
   "cell_type": "code",
   "execution_count": null,
   "id": "6e153343",
   "metadata": {},
   "outputs": [],
   "source": [
    "FBC = expr.equiBC.subs(BD, BDvsW)\n",
    "FBE = expr.equiBE.subs(BD, BDvsW)\n",
    "fuerzas.cables = [FBC, BDvsW, FBE]\n",
    "fuerzas.cables"
   ]
  },
  {
   "cell_type": "code",
   "execution_count": null,
   "id": "607b3a17",
   "metadata": {},
   "outputs": [],
   "source": [
    "Wmax = []\n",
    "for fuerza in fuerzas.cables:\n",
    "    #Esfuerzo normal en cables\n",
    "    ecuacion.esfuerzo.normal = sp.Eq(fuerza / area_cables, esfuerzo_ultimo * 10 ** 6 / FSeguridad_ultima_resistencia)\n",
    "    W.cables = sp.solve(ecuacion.esfuerzo.normal)[0] / 1000\n",
    "    #Esfuerzo cortante simple en pasadores\n",
    "    ecuacion.esfuerzo.cortante = sp.Eq(fuerza / area_pasadores, esfuerzo_fluencia_cortante)[0] / 1000\n",
    "    W.pasadores = sp.solve(ecuacion_esfuerzo_cortante)[0] / 1000\n",
    "    Wmax.append(W.cables)\n",
    "    Wmax.append(W.pasadores)\n",
    "    \n",
    "print(\"Carga dsitribuida máxima en los cables [kN / m]\")\n",
    "min(Wmax)"
   ]
  }
 ],
 "metadata": {
  "kernelspec": {
   "display_name": "Python 3 (ipykernel)",
   "language": "python",
   "name": "python3"
  },
  "language_info": {
   "codemirror_mode": {
    "name": "ipython",
    "version": 3
   },
   "file_extension": ".py",
   "mimetype": "text/x-python",
   "name": "python",
   "nbconvert_exporter": "python",
   "pygments_lexer": "ipython3",
   "version": "3.10.0"
  }
 },
 "nbformat": 4,
 "nbformat_minor": 5
}
