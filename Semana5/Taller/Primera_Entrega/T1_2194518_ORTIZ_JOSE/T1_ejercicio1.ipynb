{
 "cells": [
  {
   "cell_type": "code",
   "execution_count": 12,
   "id": "52ae745f",
   "metadata": {},
   "outputs": [],
   "source": [
    "import numpy as np\n",
    "import sympy as sp"
   ]
  },
  {
   "cell_type": "code",
   "execution_count": 13,
   "id": "09b9a98c",
   "metadata": {},
   "outputs": [],
   "source": [
    "codigo = \"2194518\"\n",
    "x = 30\n",
    "\n",
    "#MEDIDAS INICIALES\n",
    "\n",
    "#metros\n",
    "L = 0.2 * x\n",
    "#metros\n",
    "long_cables = 1.5\n",
    "#pulgadas\n",
    "dia_pernos = 1 / 2\n",
    "dia_cables = 1 / 4\n",
    "\n",
    "#Se analizará cuanto será la carga maxima que pueden aguantar los cables BE BC BD sin fallar.\n",
    "#areas en mm 2\n",
    "area_cables = np.pi * ((dia_cables / 2) * 25.4) ** 2\n",
    "area_pernos = np.pi * ((dia_pernos / 2) * 25.4) ** 2\n",
    "\n",
    "# PROPIEDADES DEL MATERIAL\n",
    "# MPa\n",
    "esf_ult = 400\n",
    "esf_flu_ten = 250\n",
    "esf_flu_cor = 145\n",
    "E = 200 * 1000\n",
    "\n",
    "fs_e_fluencia = float(f\"1.{x}\") \n",
    "esf_adm_flu_ten = esf_flu_ten / fs_e_fluencia\n",
    "esf_adm_flu_cor = esf_flu_cor / fs_e_fluencia\n",
    "\n",
    "fs_e_ultimo = float(f\"1.{x + 3}\")\n",
    "\n",
    "fuerza_cables = area_cables * esf_adm_flu_ten\n",
    "\n",
    "#Se analizará el e_cortante para saber la fuerza máxima que pueden resistir. \n",
    "#Pernos a cortante simple C, D, y E\n",
    "f_pernos_simples = area_pernos * esf_adm_flu_cor\n",
    "#Pernos a cortante doble A y B\n",
    "f_pernos_dobles = 2 * area_pernos * esf_adm_flu_ten\n",
    "#comparamos los valores de las fuerzas anteriores y usaremos la menor, ya que esa es la que fallará primero.\n",
    "fuerza_max = min(fuerza_cables, f_pernos_dobles, f_pernos_simples)\n",
    "\n",
    "#grados\n",
    "angulo_BC = 40 \n",
    "angulo_BE = 50"
   ]
  },
  {
   "cell_type": "code",
   "execution_count": 14,
   "id": "174d4289",
   "metadata": {},
   "outputs": [
    {
     "data": {
      "text/plain": [
       "numpy.float64"
      ]
     },
     "execution_count": 14,
     "metadata": {},
     "output_type": "execute_result"
    }
   ],
   "source": [
    "#Mediante el equilibrio externo hallaremos el valor de Wmax que pueden soportar los cables, teniendo en cuenta la fuerza máxima hallada anterior mente\n",
    "#Ecuaciones de quilibrio\n",
    "\n",
    "#sumatoria de F(x)\n",
    "#Ax - np.sin(angulo_BC)*fuerza_max + np.sin(angulo_BE)*fuerza_max = 0\n",
    "\n",
    "#sumatoria de F(y)\n",
    "#Ay + np.cos(angulo_BC)*fuerza_max + np.cos(angulo_BE)*fuerza_max + fuerza_max - Wmax= 0\n",
    "\n",
    "#sumatoria de M(A)\n",
    "#l * np.cos(angulo_BC)*fuerza_max + L * np.cos(angulo_BE)*fuerza_max + L * fuerza_max - L/2 * WMAX = 0 \n",
    "\n",
    "\n",
    "matriz = np.array([\n",
    "    [1, 0, 0], \n",
    "    [0, 1, -1],\n",
    "    [0, 0, - L/2 ]\n",
    "])\n",
    "vector = np.array([np.sin(angulo_BC)*fuerza_max-np.sin(angulo_BE)*fuerza_max, -np.cos(angulo_BC)*fuerza_max - np.cos(angulo_BE)*fuerza_max - fuerza_max, -L * np.cos(angulo_BC)*fuerza_max - L * np.cos(angulo_BE)*fuerza_max - L * fuerza_max])\n",
    "solucion = np.linalg.solve(matriz,vector)\n",
    "Wmax = solucion[2]\n",
    "type(Wmax)"
   ]
  },
  {
   "cell_type": "code",
   "execution_count": 15,
   "id": "8305178c",
   "metadata": {},
   "outputs": [
    {
     "name": "stdout",
     "output_type": "stream",
     "text": [
      "La deformación del CABLE_CB es de: 0.001442307692307692 mm.\n",
      "La deformación del CABLE_CD es de: 0.001442307692307692 mm.\n",
      "La deformación del CABLE_CE es de: 0.001442307692307692 mm.\n"
     ]
    }
   ],
   "source": [
    "#DEFORMACIONES EN LOS CABLES (usando P*L/A*E)\n",
    "#Cable BC\n",
    "defor_cable_BC = fuerza_max * long_cables / (area_cables * E)\n",
    "#Cable BD\n",
    "defor_cable_BD = fuerza_max * long_cables / (area_cables * E)\n",
    "#Cable BE\n",
    "defor_cable_BE = fuerza_max * long_cables / (area_cables * E)\n",
    "\n",
    "float(defor_cable_BC)\n",
    "lista = [\"CABLE_CB\", \"CABLE_CD\", \"CABLE_CE\"]\n",
    "for e in lista:\n",
    "    print(\"La deformación del \" + str(e) + \" es de: \" + str(defor_cable_BC) + \" mm.\")"
   ]
  },
  {
   "cell_type": "code",
   "execution_count": 16,
   "id": "c822d823",
   "metadata": {},
   "outputs": [
    {
     "name": "stdout",
     "output_type": "stream",
     "text": [
      "La fuerza a tensión del CABLE_CB es: de 6090.234123768 N.\n",
      "La fuerza a tensión del CABLE_CD es: de 6090.234123768 N.\n",
      "La fuerza a tensión del CABLE_CE es: de 6090.234123768 N.\n",
      "La fuerza en la reacción Ax es de: 6135.8378832662565 N.\n",
      "La fuerza en la reacción Ay es de: 7905.29421725326 N.\n",
      "La Wmax que se puede tomar es de: 15810.588434506522 N.\n"
     ]
    }
   ],
   "source": [
    "#RESULTADOS \n",
    "#FUERZAS\n",
    "AX = solucion[0]\n",
    "AY = solucion[1]\n",
    "Wmax = solucion[2]\n",
    "\n",
    "CABLE_CB = fuerza_max\n",
    "CABLE_CD = fuerza_max\n",
    "CABLE_CE = fuerza_max\n",
    "\n",
    "float(fuerza_max)\n",
    "\n",
    "lista = [\"CABLE_CB\", \"CABLE_CD\", \"CABLE_CE\"]\n",
    "\n",
    "for e in lista:\n",
    "    print(\"La fuerza a tensión del \" + str(e) + \" es: de \" + str(fuerza_max) + \" N.\")\n",
    "\n",
    "print(\"La fuerza en la reacción Ax es de: \" + str(solucion[0]) + \" N.\")\n",
    "print(\"La fuerza en la reacción Ay es de: \" + str(solucion[1]) + \" N.\")\n",
    "print(\"La Wmax que se puede tomar es de: \" + str(solucion[2]) + \" N.\")"
   ]
  },
  {
   "cell_type": "code",
   "execution_count": null,
   "id": "61f530f2",
   "metadata": {},
   "outputs": [],
   "source": []
  },
  {
   "cell_type": "code",
   "execution_count": null,
   "id": "8d6e92f5",
   "metadata": {},
   "outputs": [],
   "source": []
  }
 ],
 "metadata": {
  "kernelspec": {
   "display_name": "Python 3 (ipykernel)",
   "language": "python",
   "name": "python3"
  },
  "language_info": {
   "codemirror_mode": {
    "name": "ipython",
    "version": 3
   },
   "file_extension": ".py",
   "mimetype": "text/x-python",
   "name": "python",
   "nbconvert_exporter": "python",
   "pygments_lexer": "ipython3",
   "version": "3.10.1"
  }
 },
 "nbformat": 4,
 "nbformat_minor": 5
}
