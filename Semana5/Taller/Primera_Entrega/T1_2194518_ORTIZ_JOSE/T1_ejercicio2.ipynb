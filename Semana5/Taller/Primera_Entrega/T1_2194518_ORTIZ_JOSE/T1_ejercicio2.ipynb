{
 "cells": [
  {
   "cell_type": "code",
   "execution_count": 37,
   "id": "8788dfb2",
   "metadata": {},
   "outputs": [],
   "source": [
    "import numpy as np"
   ]
  },
  {
   "cell_type": "code",
   "execution_count": 43,
   "id": "ee53809a",
   "metadata": {},
   "outputs": [],
   "source": [
    "#Medidas iniciales\n",
    "\n",
    "#kN\n",
    "carga_inicial = 20\n",
    "\n",
    "#Establecemos la carga máxima la cual varía 0.25kN, 18 veces.\n",
    "#kN\n",
    "variación_de_carga = float(0.25)\n",
    "variación_max = float(18 * variación_de_carga)\n",
    "carga_final = carga_inicial + variación_max\n",
    "\n",
    "\n",
    "#distancias en metros\n",
    "distancia_AD = 1\n",
    "distancia_BC = 2\n",
    "distancia_AB = 2\n",
    "distancia_AC = 4\n",
    "distancia_BE = 1\n",
    "distancia_AE = 2.24\n",
    "distancia_EC = 2.24\n",
    "\n",
    "\n",
    "#ángulos de las barras inclinada\n",
    "ang_barra_inclinada_CE = np.arctan( distancia_BE / distancia_BC )\n",
    "ang_barra_inclinada_AE = np.arctan( distancia_BE / distancia_AB )"
   ]
  },
  {
   "cell_type": "code",
   "execution_count": 44,
   "id": "da71aa92",
   "metadata": {},
   "outputs": [
    {
     "ename": "TypeError",
     "evalue": "'float' object cannot be interpreted as an integer",
     "output_type": "error",
     "traceback": [
      "\u001b[1;31m---------------------------------------------------------------------------\u001b[0m",
      "\u001b[1;31mTypeError\u001b[0m                                 Traceback (most recent call last)",
      "Input \u001b[1;32mIn [44]\u001b[0m, in \u001b[0;36m<module>\u001b[1;34m\u001b[0m\n\u001b[0;32m      1\u001b[0m \u001b[38;5;66;03m#Necesitamos encontrar las variaciones del ángulo (0- 180°), con un paso de 10°, para saber cual genera la máxima fuerza interna\u001b[39;00m\n\u001b[0;32m      2\u001b[0m \u001b[38;5;66;03m#Tambien, a su vez hacer una iteración entre el angulo y la carga \u001b[39;00m\n\u001b[0;32m      3\u001b[0m \u001b[38;5;66;03m#rango_de_ángulos = np.arange(0, 190, 10)\u001b[39;00m\n\u001b[0;32m      4\u001b[0m \u001b[38;5;66;03m#rango_de_cargas = np.arange(carga_inicial, carga_final + variación_de_carga, variación_de_carga)\u001b[39;00m\n\u001b[0;32m      5\u001b[0m \u001b[38;5;66;03m#rango_de_cargas\u001b[39;00m\n\u001b[0;32m      6\u001b[0m rango_de_angulos \u001b[38;5;241m=\u001b[39m \u001b[38;5;28mlist\u001b[39m(\u001b[38;5;28mrange\u001b[39m(\u001b[38;5;241m0\u001b[39m, \u001b[38;5;241m190\u001b[39m, \u001b[38;5;241m10\u001b[39m))\n\u001b[1;32m----> 7\u001b[0m rango_de_cargas \u001b[38;5;241m=\u001b[39m \u001b[38;5;28mlist\u001b[39m(\u001b[38;5;28;43mrange\u001b[39;49m\u001b[43m(\u001b[49m\u001b[43mcarga_inicial\u001b[49m\u001b[43m,\u001b[49m\u001b[43m \u001b[49m\u001b[43mcarga_final\u001b[49m\u001b[43m,\u001b[49m\u001b[43m \u001b[49m\u001b[43mvariación_de_carga\u001b[49m\u001b[43m)\u001b[49m)\n\u001b[0;32m      8\u001b[0m \u001b[38;5;28;01mfor\u001b[39;00m rango_de_ángulos, rango_de_cargas \u001b[38;5;129;01min\u001b[39;00m \u001b[38;5;28mzip\u001b[39m([rango_de_angulos], [rango_de_cargas]):\n\u001b[0;32m      9\u001b[0m     \u001b[38;5;28mprint\u001b[39m(\u001b[38;5;124mf\u001b[39m\u001b[38;5;124m\"\u001b[39m\u001b[38;5;124mEl ángulo \u001b[39m\u001b[38;5;132;01m{\u001b[39;00mrango_de_cargas\u001b[38;5;132;01m}\u001b[39;00m\u001b[38;5;124m tiene como carga: \u001b[39m\u001b[38;5;132;01m{\u001b[39;00mrango_de_cargas\u001b[38;5;132;01m}\u001b[39;00m\u001b[38;5;124m\"\u001b[39m)\n",
      "\u001b[1;31mTypeError\u001b[0m: 'float' object cannot be interpreted as an integer"
     ]
    }
   ],
   "source": [
    "#Necesitamos encontrar las variaciones del ángulo (0- 180°), con un paso de 10°, para saber cual genera la máxima fuerza interna\n",
    "#Tambien, a su vez hacer una iteración entre el angulo y la carga \n",
    "#rango_de_ángulos = np.arange(0, 190, 10)\n",
    "#rango_de_cargas = np.arange(carga_inicial, carga_final + variación_de_carga, variación_de_carga)\n",
    "#rango_de_cargas\n",
    "rango_de_angulos = list(range(0, 190, 10))\n",
    "rango_de_cargas = list(range(carga_inicial, carga_final, variación_de_carga))\n",
    "for rango_de_ángulos, rango_de_cargas in zip([rango_de_angulos], [rango_de_cargas]):\n",
    "    print(f\"El ángulo {rango_de_cargas} tiene como carga: {rango_de_cargas}\")"
   ]
  },
  {
   "cell_type": "code",
   "execution_count": 45,
   "id": "b0a79474",
   "metadata": {},
   "outputs": [
    {
     "ename": "SyntaxError",
     "evalue": "expected ':' (2297748261.py, line 2)",
     "output_type": "error",
     "traceback": [
      "\u001b[1;36m  Input \u001b[1;32mIn [45]\u001b[1;36m\u001b[0m\n\u001b[1;33m    def calcular_reacciones(carga, angulo, distancia_AC)\u001b[0m\n\u001b[1;37m                                                        ^\u001b[0m\n\u001b[1;31mSyntaxError\u001b[0m\u001b[1;31m:\u001b[0m expected ':'\n"
     ]
    }
   ],
   "source": [
    "#Establecer escuaciones de la estática (sumatoria de fuerzas)\n",
    "def calcular_reacciones(carga, angulo, distancia_AC)\n"
   ]
  },
  {
   "cell_type": "code",
   "execution_count": null,
   "id": "1755a52e",
   "metadata": {},
   "outputs": [],
   "source": []
  },
  {
   "cell_type": "code",
   "execution_count": null,
   "id": "35829832",
   "metadata": {},
   "outputs": [],
   "source": []
  },
  {
   "cell_type": "code",
   "execution_count": null,
   "id": "54f70f93",
   "metadata": {},
   "outputs": [],
   "source": []
  },
  {
   "cell_type": "code",
   "execution_count": null,
   "id": "9946f297",
   "metadata": {},
   "outputs": [],
   "source": []
  },
  {
   "cell_type": "code",
   "execution_count": null,
   "id": "7611cda9",
   "metadata": {},
   "outputs": [],
   "source": []
  },
  {
   "cell_type": "code",
   "execution_count": null,
   "id": "caf4541b",
   "metadata": {},
   "outputs": [],
   "source": []
  },
  {
   "cell_type": "code",
   "execution_count": null,
   "id": "7ae86b77",
   "metadata": {},
   "outputs": [],
   "source": []
  }
 ],
 "metadata": {
  "kernelspec": {
   "display_name": "Python 3 (ipykernel)",
   "language": "python",
   "name": "python3"
  },
  "language_info": {
   "codemirror_mode": {
    "name": "ipython",
    "version": 3
   },
   "file_extension": ".py",
   "mimetype": "text/x-python",
   "name": "python",
   "nbconvert_exporter": "python",
   "pygments_lexer": "ipython3",
   "version": "3.8.10"
  }
 },
 "nbformat": 4,
 "nbformat_minor": 5
}
