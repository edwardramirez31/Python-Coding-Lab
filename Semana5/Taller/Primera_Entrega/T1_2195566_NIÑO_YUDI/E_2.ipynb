{
 "cells": [
  {
   "cell_type": "code",
   "execution_count": null,
   "id": "67a88cb6",
   "metadata": {},
   "outputs": [],
   "source": []
  },
  {
   "cell_type": "code",
   "execution_count": 1,
   "id": "91fd9432",
   "metadata": {},
   "outputs": [],
   "source": [
    "import numpy as np"
   ]
  },
  {
   "cell_type": "code",
   "execution_count": 2,
   "id": "d9d005c6",
   "metadata": {},
   "outputs": [],
   "source": [
    "# Datos\n",
    "carga_inicial = 20\n",
    "aumento_de_P = 0.25\n",
    "carga_final = carga_inicial + 18 * aumento_de_P\n",
    "\n",
    "d_AD = 1\n",
    "d_AB = 2\n",
    "d_BC = 2\n",
    "d_AC = d_AB + d_BC\n",
    "\n",
    "angulo_barra_CE = np.arctan(d_AD / d_BC)\n",
    "angulo_barra_AE = np.arctan(d_AD / d_AB)"
   ]
  },
  {
   "cell_type": "code",
   "execution_count": 3,
   "id": "04ec9e65",
   "metadata": {},
   "outputs": [
    {
     "data": {
      "text/plain": [
       "array([20.  , 20.25, 20.5 , 20.75, 21.  , 21.25, 21.5 , 21.75, 22.  ,\n",
       "       22.25, 22.5 , 22.75, 23.  , 23.25, 23.5 , 23.75, 24.  , 24.25,\n",
       "       24.5 ])"
      ]
     },
     "execution_count": 3,
     "metadata": {},
     "output_type": "execute_result"
    }
   ],
   "source": [
    "# Definir el rango de los ángulos para el cambio de P\n",
    "rango_de_angulos = np.arange(0,190,10)\n",
    "rango_de_cargas = np.arange(carga_inicial, carga_final + aumento_de_P , aumento_de_P)\n",
    "rango_de_cargas"
   ]
  },
  {
   "cell_type": "code",
   "execution_count": 4,
   "id": "8caea5a8",
   "metadata": {},
   "outputs": [],
   "source": [
    "# Estática de la armadura\n",
    "def calcular_reacciones(carga, angulo, d_AC): \n",
    "    angulo_rad = (angulo if angulo <= 90 else 100 - angulo) * np.pi / 180\n",
    "    Ax = - Dx + carga * np.sin(angulo_rad)\n",
    "    Ay = (-1 if angulo <= 90 else 1) * carga * np.cos(angulo_rad)\n",
    "    Dx = (-1 if angulo <= 90 else 1) * d_AC * carga * np.cos(angulo_rad)\n",
    "    return Ax, Ay, Dx"
   ]
  },
  {
   "cell_type": "code",
   "execution_count": 5,
   "id": "5691f955",
   "metadata": {},
   "outputs": [],
   "source": [
    "# Análisis de nodos\n",
    "def obtener_fuerzas_nodo_C(carga, angulo):\n",
    "    angulo_rad = (angulo if angulo <= 90 else 100 - angulo) * np.pi / 180\n",
    "    CE = (1 if angulo <= 90 else -1) * carga * np.cos(angulo_rad) / np.sin(angulo_barra_CE)\n",
    "    BC = carga * np.sin(angulo_rad) - CE * np.cos(angulo_barra_CE)\n",
    "    return CE, BC\n",
    "    \n",
    "def obtener_fuerzas_nodo_B(fuerza_BC):\n",
    "    BA = fuerza_BC\n",
    "    BE = 0\n",
    "    return BA, BE\n",
    "\n",
    "def obtener_fuerzas_nodo_E(fuerza_CE, angulo_barra_AE):\n",
    "    EA = - fuerza_CE * np.sin(angulo_barra_CE) / np.sin(angulo_barra_AE)\n",
    "    ED = - EA * np.cos(angulo_barra_AE) * fuerza_CE * np.cos(angulo_barra_CE)\n",
    "    return EA, ED\n",
    "    \n",
    "def obtener_fuerzas_nodo_D(fuerza_Dx):\n",
    "    ED = - fuerza_Dx\n",
    "    DA = 0\n",
    "    return ED , DA\n",
    "\n",
    "def obtener_fuerzas_nodo_A(Ax, Ay, angulo_barra_AE):\n",
    "    AE = Ay / np.sin(angulo_barra_AE)\n",
    "    AB = - Ax - AE * np.cos(angulo_barra_AE)\n",
    "    return AE, AB"
   ]
  },
  {
   "cell_type": "code",
   "execution_count": 6,
   "id": "47f32f3a",
   "metadata": {},
   "outputs": [
    {
     "ename": "UnboundLocalError",
     "evalue": "local variable 'Dx' referenced before assignment",
     "output_type": "error",
     "traceback": [
      "\u001b[0;31m---------------------------------------------------------------------------\u001b[0m",
      "\u001b[0;31mUnboundLocalError\u001b[0m                         Traceback (most recent call last)",
      "\u001b[0;32m/tmp/ipykernel_51531/3116685452.py\u001b[0m in \u001b[0;36m<module>\u001b[0;34m\u001b[0m\n\u001b[1;32m      1\u001b[0m \u001b[0mfuerza_maxima\u001b[0m \u001b[0;34m=\u001b[0m \u001b[0mnp\u001b[0m\u001b[0;34m.\u001b[0m\u001b[0marray\u001b[0m\u001b[0;34m(\u001b[0m\u001b[0;34m[\u001b[0m\u001b[0;36m0\u001b[0m\u001b[0;34m,\u001b[0m \u001b[0;36m0\u001b[0m\u001b[0;34m,\u001b[0m \u001b[0;36m0\u001b[0m\u001b[0;34m,\u001b[0m \u001b[0;36m0\u001b[0m\u001b[0;34m,\u001b[0m \u001b[0;36m0\u001b[0m\u001b[0;34m,\u001b[0m \u001b[0;36m0\u001b[0m\u001b[0;34m,\u001b[0m \u001b[0;36m0\u001b[0m\u001b[0;34m]\u001b[0m\u001b[0;34m)\u001b[0m\u001b[0;34m\u001b[0m\u001b[0;34m\u001b[0m\u001b[0m\n\u001b[1;32m      2\u001b[0m \u001b[0;32mfor\u001b[0m \u001b[0mangulo\u001b[0m\u001b[0;34m,\u001b[0m \u001b[0mcarga\u001b[0m \u001b[0;32min\u001b[0m \u001b[0mzip\u001b[0m\u001b[0;34m(\u001b[0m\u001b[0mrango_de_angulos\u001b[0m\u001b[0;34m,\u001b[0m \u001b[0mrango_de_cargas\u001b[0m\u001b[0;34m)\u001b[0m\u001b[0;34m:\u001b[0m\u001b[0;34m\u001b[0m\u001b[0;34m\u001b[0m\u001b[0m\n\u001b[0;32m----> 3\u001b[0;31m     \u001b[0mAx\u001b[0m\u001b[0;34m,\u001b[0m \u001b[0mAy\u001b[0m\u001b[0;34m,\u001b[0m \u001b[0mDx\u001b[0m \u001b[0;34m=\u001b[0m \u001b[0mcalcular_reacciones\u001b[0m\u001b[0;34m(\u001b[0m\u001b[0mcarga\u001b[0m\u001b[0;34m,\u001b[0m \u001b[0mangulo\u001b[0m\u001b[0;34m,\u001b[0m \u001b[0md_AC\u001b[0m\u001b[0;34m)\u001b[0m\u001b[0;34m\u001b[0m\u001b[0;34m\u001b[0m\u001b[0m\n\u001b[0m\u001b[1;32m      4\u001b[0m     \u001b[0mCE\u001b[0m\u001b[0;34m,\u001b[0m \u001b[0mBC\u001b[0m \u001b[0;34m=\u001b[0m \u001b[0mobtener_fuerzas_nodo_C\u001b[0m\u001b[0;34m(\u001b[0m\u001b[0mcarga\u001b[0m\u001b[0;34m,\u001b[0m \u001b[0mangulo\u001b[0m\u001b[0;34m)\u001b[0m\u001b[0;34m\u001b[0m\u001b[0;34m\u001b[0m\u001b[0m\n\u001b[1;32m      5\u001b[0m     \u001b[0mBA\u001b[0m\u001b[0;34m,\u001b[0m \u001b[0mBE\u001b[0m \u001b[0;34m=\u001b[0m \u001b[0mobtener_fuerzas_nodo_B\u001b[0m\u001b[0;34m(\u001b[0m\u001b[0mfuerza_BC\u001b[0m\u001b[0;34m)\u001b[0m\u001b[0;34m\u001b[0m\u001b[0;34m\u001b[0m\u001b[0m\n",
      "\u001b[0;32m/tmp/ipykernel_51531/693415361.py\u001b[0m in \u001b[0;36mcalcular_reacciones\u001b[0;34m(carga, angulo, d_AC)\u001b[0m\n\u001b[1;32m      2\u001b[0m \u001b[0;32mdef\u001b[0m \u001b[0mcalcular_reacciones\u001b[0m\u001b[0;34m(\u001b[0m\u001b[0mcarga\u001b[0m\u001b[0;34m,\u001b[0m \u001b[0mangulo\u001b[0m\u001b[0;34m,\u001b[0m \u001b[0md_AC\u001b[0m\u001b[0;34m)\u001b[0m\u001b[0;34m:\u001b[0m\u001b[0;34m\u001b[0m\u001b[0;34m\u001b[0m\u001b[0m\n\u001b[1;32m      3\u001b[0m     \u001b[0mangulo_rad\u001b[0m \u001b[0;34m=\u001b[0m \u001b[0;34m(\u001b[0m\u001b[0mangulo\u001b[0m \u001b[0;32mif\u001b[0m \u001b[0mangulo\u001b[0m \u001b[0;34m<=\u001b[0m \u001b[0;36m90\u001b[0m \u001b[0;32melse\u001b[0m \u001b[0;36m100\u001b[0m \u001b[0;34m-\u001b[0m \u001b[0mangulo\u001b[0m\u001b[0;34m)\u001b[0m \u001b[0;34m*\u001b[0m \u001b[0mnp\u001b[0m\u001b[0;34m.\u001b[0m\u001b[0mpi\u001b[0m \u001b[0;34m/\u001b[0m \u001b[0;36m180\u001b[0m\u001b[0;34m\u001b[0m\u001b[0;34m\u001b[0m\u001b[0m\n\u001b[0;32m----> 4\u001b[0;31m     \u001b[0mAx\u001b[0m \u001b[0;34m=\u001b[0m \u001b[0;34m-\u001b[0m \u001b[0mDx\u001b[0m \u001b[0;34m+\u001b[0m \u001b[0mcarga\u001b[0m \u001b[0;34m*\u001b[0m \u001b[0mnp\u001b[0m\u001b[0;34m.\u001b[0m\u001b[0msin\u001b[0m\u001b[0;34m(\u001b[0m\u001b[0mangulo_rad\u001b[0m\u001b[0;34m)\u001b[0m\u001b[0;34m\u001b[0m\u001b[0;34m\u001b[0m\u001b[0m\n\u001b[0m\u001b[1;32m      5\u001b[0m     \u001b[0mAy\u001b[0m \u001b[0;34m=\u001b[0m \u001b[0;34m(\u001b[0m\u001b[0;34m-\u001b[0m\u001b[0;36m1\u001b[0m \u001b[0;32mif\u001b[0m \u001b[0mangulo\u001b[0m \u001b[0;34m<=\u001b[0m \u001b[0;36m90\u001b[0m \u001b[0;32melse\u001b[0m \u001b[0;36m1\u001b[0m\u001b[0;34m)\u001b[0m \u001b[0;34m*\u001b[0m \u001b[0mcarga\u001b[0m \u001b[0;34m*\u001b[0m \u001b[0mnp\u001b[0m\u001b[0;34m.\u001b[0m\u001b[0mcos\u001b[0m\u001b[0;34m(\u001b[0m\u001b[0mangulo_rad\u001b[0m\u001b[0;34m)\u001b[0m\u001b[0;34m\u001b[0m\u001b[0;34m\u001b[0m\u001b[0m\n\u001b[1;32m      6\u001b[0m     \u001b[0mDx\u001b[0m \u001b[0;34m=\u001b[0m \u001b[0;34m(\u001b[0m\u001b[0;34m-\u001b[0m\u001b[0;36m1\u001b[0m \u001b[0;32mif\u001b[0m \u001b[0mangulo\u001b[0m \u001b[0;34m<=\u001b[0m \u001b[0;36m90\u001b[0m \u001b[0;32melse\u001b[0m \u001b[0;36m1\u001b[0m\u001b[0;34m)\u001b[0m \u001b[0;34m*\u001b[0m \u001b[0md_AC\u001b[0m \u001b[0;34m*\u001b[0m \u001b[0mcarga\u001b[0m \u001b[0;34m*\u001b[0m \u001b[0mnp\u001b[0m\u001b[0;34m.\u001b[0m\u001b[0mcos\u001b[0m\u001b[0;34m(\u001b[0m\u001b[0mangulo_rad\u001b[0m\u001b[0;34m)\u001b[0m\u001b[0;34m\u001b[0m\u001b[0;34m\u001b[0m\u001b[0m\n",
      "\u001b[0;31mUnboundLocalError\u001b[0m: local variable 'Dx' referenced before assignment"
     ]
    }
   ],
   "source": [
    "fuerza_maxima = np.array([0, 0, 0, 0, 0, 0, 0])\n",
    "for angulo, carga in zip(rango_de_angulos, rango_de_cargas):\n",
    "    Ax, Ay, Dx = calcular_reacciones(carga, angulo, d_AC)\n",
    "    CE, BC = obtener_fuerzas_nodo_C(carga, angulo)\n",
    "    BA, BE = obtener_fuerzas_nodo_B(fuerza_BC)\n",
    "    EA, ED = obtener_fuerzas_nodo_E(fuerza_CE, angulo_barra_AE)\n",
    "    ED , DA = obtener_fuerzas_nodo_D(fuerza_Dx)\n",
    "    AE, AB = obtener_fuerzas_nodo_A(Ax, Ay, angulo_barra_AE)\n",
    "    print(f\"Reacciones angulo {angulo} grados:\")\n",
    "    print(Ax, Ay, Dx)\n",
    "    print(\"Fuerzas internas:\")    \n",
    "    print(AB ,BC ,CD ,DE ,AE ,AD ,BD)\n",
    "    print(f\"{AE} == {EA}, {AB} == {BA}, {DE} == {ED}\")\n",
    "    print()\n",
    "    fuerza_maxima[0] = BA if np.absolute(BA) > fuerza_maxima[0] else fuerza_maxima[0]\n",
    "    fuerza_maxima[1] = BC if np.absolute(BC) > fuerza_maxima[1] else fuerza_maxima[1]\n",
    "    fuerza_maxima[2] = CE if np.absolute(CE) > fuerza_maxima[2] else fuerza_maxima[2]\n",
    "    fuerza_maxima[3] = ED if np.absolute(ED) > fuerza_maxima[3] else fuerza_maxima[3]\n",
    "    fuerza_maxima[4] = EA if np.absolute(EA) > fuerza_maxima[4] else fuerza_maxima[4]\n",
    "    fuerza_maxima[5] = DA if np.absolute(DA) > fuerza_maxima[5] else fuerza_maxima[5]\n",
    "    fuerza_maxima[6] = BE if np.absolute(BE) > fuerza_maxima[6] else fuerza_maxima[6]\n",
    "    \n",
    "print(fuerza_maxima)"
   ]
  },
  {
   "cell_type": "code",
   "execution_count": null,
   "id": "5e9c703b",
   "metadata": {},
   "outputs": [],
   "source": [
    "# PARTE 2\n",
    "# Mpa / N / mm^2\n",
    "esfuerzo_admisible = 21\n",
    "# mm^2\n",
    "area = 1200"
   ]
  },
  {
   "cell_type": "code",
   "execution_count": null,
   "id": "fe68a76f",
   "metadata": {},
   "outputs": [],
   "source": [
    "# KN\n",
    "fuerza_maxima = esfuerzo_admisible * area  / 1000\n",
    "fuerza_maxima"
   ]
  },
  {
   "cell_type": "code",
   "execution_count": null,
   "id": "90bd43e7",
   "metadata": {},
   "outputs": [],
   "source": [
    "fuerzas_internas = np.array([0, 0, 0, 0, 0, 0, 0])\n",
    "for angulo, carga in zip((rango_de_angulos, rango_de_cargas)\n",
    "    Ax, Ay, Dx = calcular_reacciones(carga, angulo, d_AC)\n",
    "    CE, BC = obtener_fuerzas_nodo_C(carga, angulo)\n",
    "    BA, BE = obtener_fuerzas_nodo_B(fuerza_BC)\n",
    "    EA, ED = obtener_fuerzas_nodo_E(fuerza_CE, angulo_barra_AE)\n",
    "    ED , DA = obtener_fuerzas_nodo_D(fuerza_Dx)\n",
    "    AE, AB = obtener_fuerzas_nodo_A(Ax, Ay, angulo_barra_AE)\n",
    "    fuerzas_internas = np.array([(\"AB\", AB), (\"AE\", AE), (\"AD\", AD), (\"BC\", BC), (\"BE\", BE), (\"CE\", CE), (\"ED\", ED)])\n",
    "    elementos_fallan = np.where(np.absolute(np.array([x[1] for x in fuerzas_internas], dtype=np.float64)) > fuerza_maxima)\n",
    "    if len(elementos_fallan) > 0:\n",
    "       print(f\"La primera falla se presenta en la carga de {carga} KN y en la dirección de {angulo} grados \")\n",
    "       for i in elementos_fallan[0]:\n",
    "            fuerza = fuerzas_internas[i][1].astype(float)\n",
    "            causa_falla = \"Compresión\" if fuerza < 0 else \"Tracción\"\n",
    "            print(f\"El elemento {fuerzas_internas[i][0]} falla bajo la carga {np.absolute(fuerza)} KN a {causa_falla}\")\n",
    "        print() "
   ]
  },
  {
   "cell_type": "code",
   "execution_count": null,
   "id": "52bb2a1a",
   "metadata": {},
   "outputs": [],
   "source": [
    "# PARTE 3\n",
    "# Código 2195566 L = 5\n",
    "L = 5\n",
    "aumento_distancia = float(\"0.0\" + str(L))\n",
    "A = 6\n",
    "B = 6\n",
    "AB = 50\n",
    "AB = round(AB / 10) * 10\n",
    "AB, aumento_distancia"
   ]
  },
  {
   "cell_type": "code",
   "execution_count": null,
   "id": "d1e30a60",
   "metadata": {},
   "outputs": [],
   "source": [
    "for angulo, carga in zip(rango_de_angulos, rango_de_cargas):\n",
    "    d_AC += aumento_distancia\n",
    "    d_AB += aumento_distancia\n",
    "    angulo_barra_AE = np.arctan(d_AD / d_AB)\n",
    "    Ax, Ay, Dx = calculo_reacciones(carga, angulo, d_AC)\n",
    "    CE, BC = calculo_fuerzas_nodo_C(carga, angulo)\n",
    "    BA, BE = calculo_fuerzas_nodo_B(BC)\n",
    "    EA, ED = calculo_fuerzas_nodo_E(CE, angulo_barra_AE)\n",
    "    DE, DA = calculo_fuerzas_nodo_D(Dx)\n",
    "    AE, AB = calculo_fuerzas_nodo_A(Ax, Ay, angulo_barra_AE)\n",
    "    fuerzas_internas = [(\"AB\", BA, carga), (\"AE\", EA, carga), (\"AD\", DA, carga), (\"BC\", BC, carga), (\"BE\", BE, carga), (\"CE\", CE, carga), (\"ED\", ED, carga)]\n",
    "    print(f\"Aumento de distancia de:\", d_AB - 2, \"Las fuerzas calculadas son:\")\n",
    "    print(fuerzas_internas)\n",
    "    print()"
   ]
  },
  {
   "cell_type": "code",
   "execution_count": null,
   "id": "80a9fd1a",
   "metadata": {},
   "outputs": [],
   "source": [
    "# PARTE 4\n",
    "variaciones_distancia = np.arange(2, 2.02 + 19 * 0.02, 0.02)\n",
    "\n",
    "import matplotlib.pyplot as plt\n",
    "plt.rcParams[\"figure.figsize\"] = (10,20)\n",
    "plt.style.use('seaborn-whitegrid')\n",
    "\n",
    "fig , axes = plt.subplots(nrows=10,ncols=2)\n",
    "\n",
    "d_AD = 1\n",
    "d_BC = 2\n",
    "for d_AB, ax in zip(variaciones_distancia, np.array(axes).flatten()):\n",
    "    d_AC = d_AB + d_BC\n",
    "    coordenada_x = np.array([0, d_AB, d_AC, d_AB, 0, 0, d_AB, d_AB])\n",
    "    coordenada_Y = np.array([d_AD, d_AD, d_AD, 0, 0, d_AD, 0, d_AB])\n",
    "    ax.plot(coordenada_x, coordenada_Y)\n",
    "    ax.set_xticks([d_AB])\n",
    "    ax.set_xticks([0, 1, d_AB, 3, 4])\n",
    "    ax.set_title(f'Coordenadas cuando el aumento de posición es de {round(d_AB = 2, 3)}')\n",
    "ax.set_xlabel('Posición del nodo B en x [0]')\n",
    "plt.tight_layout()\n",
    "plt.show"
   ]
  },
  {
   "cell_type": "code",
   "execution_count": null,
   "id": "ca47dd8c",
   "metadata": {},
   "outputs": [],
   "source": [
    "# PARTE 5\n",
    "variaciones_distancia = np.arange(2.02, 2.02 + 19 * 0.02, 0.02)\n",
    "fuerzas_elemento_AB = np.array([])\n",
    "fuerzas_elemento_AE = np.array([])\n",
    "fuerzas_elemento_AD = np.array([])\n",
    "fuerzas_elemento_BC = np.array([])\n",
    "fuerzas_elemento_BE = np.array([])\n",
    "fuerzas_elemento_CE = np.array([])\n",
    "fuerzas_elemento_ED = np.array([])\n",
    "counter = 0\n",
    "\n",
    "for d_AB in variaciones_distancia:\n",
    "    carga = 21.25\n",
    "    angulo = 50\n",
    "    d_AC = d_AB + d_BC\n",
    "    angulo_barra_AE = np.arctan(d_AD / d_AB)\n",
    "    Ax, Ay, Dx = calcular_reacciones(carga, angulo, d_AC)\n",
    "    CE, BC = calculo_fuerzas_nodo_C(carga, angulo)\n",
    "    BA, BE = calculo_fuerzas_nodo_B(BC)\n",
    "    EA, ED = calculo_fuerzas_nodo_E(CE, angulo_barra_AE)\n",
    "    DE, DA = calculo_fuerzas_nodo_D(Dx)\n",
    "    AE, AB = calculo_fuerzas_nodo_A(Ax, Ay, angulo_barra_AE)\n",
    "    fuerzas_elemento_AB = np.append([fuerzas_elemento_AB, BA])\n",
    "    fuerzas_elemento_AE = np.append([fuerzas_elemento_AE, EA])\n",
    "    fuerzas_elemento_AD = np.append([fuerzas_elemento_AD, AD])\n",
    "    fuerzas_elemento_BC = np.append([fuerzas_elemento_BC, BC])\n",
    "    fuerzas_elemento_BE = np.append([fuerzas_elemento_BE, BE])\n",
    "    fuerzas_elemento_CE = np.append([fuerzas_elemento_CE, CE])\n",
    "    fuerzas_elemento_ED = np.append([fuerzas_elemento_ED, ED])\n",
    "    if counter == 5:\n",
    "        print(f\"Reacciones ngulo {angulo} grados:\")\n",
    "        print(Ax, Ay, Dx)\n",
    "        print(\"Fuerzas internas:\")    \n",
    "        print(BA ,EA, DA ,BC ,BE ,CE ,ED)\n",
    "    counter += 1"
   ]
  },
  {
   "cell_type": "code",
   "execution_count": 2,
   "id": "e665d618",
   "metadata": {},
   "outputs": [
    {
     "ename": "NameError",
     "evalue": "name 'fuerzas_elemento_AB' is not defined",
     "output_type": "error",
     "traceback": [
      "\u001b[0;31m---------------------------------------------------------------------------\u001b[0m",
      "\u001b[0;31mNameError\u001b[0m                                 Traceback (most recent call last)",
      "\u001b[0;32m<ipython-input-2-4a78d02dbc23>\u001b[0m in \u001b[0;36m<module>\u001b[0;34m\u001b[0m\n\u001b[1;32m      2\u001b[0m \u001b[0mplt\u001b[0m\u001b[0;34m.\u001b[0m\u001b[0mrcParams\u001b[0m\u001b[0;34m[\u001b[0m\u001b[0;34m\"figure.figsize\"\u001b[0m\u001b[0;34m]\u001b[0m \u001b[0;34m=\u001b[0m \u001b[0;34m(\u001b[0m\u001b[0;36m10\u001b[0m\u001b[0;34m,\u001b[0m\u001b[0;36m20\u001b[0m\u001b[0;34m)\u001b[0m\u001b[0;34m\u001b[0m\u001b[0;34m\u001b[0m\u001b[0m\n\u001b[1;32m      3\u001b[0m \u001b[0mplt\u001b[0m\u001b[0;34m.\u001b[0m\u001b[0mstyle\u001b[0m\u001b[0;34m.\u001b[0m\u001b[0muse\u001b[0m\u001b[0;34m(\u001b[0m\u001b[0;34m'seaborn-whitegrid'\u001b[0m\u001b[0;34m)\u001b[0m\u001b[0;34m\u001b[0m\u001b[0;34m\u001b[0m\u001b[0m\n\u001b[0;32m----> 4\u001b[0;31m \u001b[0mfuerzas_elemento\u001b[0m \u001b[0;34m=\u001b[0m \u001b[0;34m[\u001b[0m\u001b[0;34m(\u001b[0m\u001b[0mfuerzas_elemento_AB\u001b[0m\u001b[0;34m,\u001b[0m \u001b[0;34m\"AB\"\u001b[0m\u001b[0;34m)\u001b[0m\u001b[0;34m,\u001b[0m \u001b[0;34m(\u001b[0m\u001b[0mfuerzas_elemento_AB\u001b[0m\u001b[0;34m,\u001b[0m \u001b[0;34m\"AB\"\u001b[0m\u001b[0;34m)\u001b[0m\u001b[0;34m,\u001b[0m \u001b[0;34m(\u001b[0m\u001b[0mfuerzas_elemento_AE\u001b[0m\u001b[0;34m,\u001b[0m \u001b[0;34m\"AE\"\u001b[0m\u001b[0;34m)\u001b[0m\u001b[0;34m,\u001b[0m \u001b[0;34m(\u001b[0m\u001b[0mfuerzas_elemento_AD\u001b[0m\u001b[0;34m,\u001b[0m \u001b[0;34m\"AB\"\u001b[0m\u001b[0;34m)\u001b[0m\u001b[0;34m,\u001b[0m \u001b[0;34m(\u001b[0m\u001b[0mfuerzas_elemento_AD\u001b[0m\u001b[0;34m,\u001b[0m \u001b[0;34m\"AD\"\u001b[0m\u001b[0;34m)\u001b[0m\u001b[0;34m,\u001b[0m \u001b[0;34m(\u001b[0m\u001b[0mfuerzas_elemento_BC\u001b[0m\u001b[0;34m,\u001b[0m \u001b[0;34m\"BC\"\u001b[0m\u001b[0;34m)\u001b[0m\u001b[0;34m,\u001b[0m \u001b[0;34m(\u001b[0m\u001b[0mfuerzas_elemento_BE\u001b[0m\u001b[0;34m,\u001b[0m \u001b[0;34m\"BE\"\u001b[0m\u001b[0;34m)\u001b[0m\u001b[0;34m,\u001b[0m \u001b[0;34m(\u001b[0m\u001b[0mfuerzas_elemento_CE\u001b[0m\u001b[0;34m,\u001b[0m \u001b[0;34m\"CE\"\u001b[0m\u001b[0;34m)\u001b[0m\u001b[0;34m,\u001b[0m \u001b[0;34m(\u001b[0m\u001b[0mfuerzas_elemento_ED\u001b[0m\u001b[0;34m,\u001b[0m \u001b[0;34m\"ED\"\u001b[0m\u001b[0;34m)\u001b[0m\u001b[0;34m]\u001b[0m\u001b[0;34m\u001b[0m\u001b[0;34m\u001b[0m\u001b[0m\n\u001b[0m\u001b[1;32m      5\u001b[0m \u001b[0mfig\u001b[0m\u001b[0;34m,\u001b[0m \u001b[0maxes\u001b[0m \u001b[0;34m=\u001b[0m \u001b[0mplt\u001b[0m\u001b[0;34m.\u001b[0m\u001b[0msubplots\u001b[0m\u001b[0;34m(\u001b[0m\u001b[0mnrows\u001b[0m\u001b[0;34m=\u001b[0m\u001b[0;36m7\u001b[0m\u001b[0;34m,\u001b[0m \u001b[0mncols\u001b[0m\u001b[0;34m=\u001b[0m\u001b[0;36m1\u001b[0m\u001b[0;34m,\u001b[0m \u001b[0msharex\u001b[0m\u001b[0;34m=\u001b[0m\u001b[0;32mTrue\u001b[0m\u001b[0;34m)\u001b[0m\u001b[0;34m\u001b[0m\u001b[0;34m\u001b[0m\u001b[0m\n\u001b[1;32m      6\u001b[0m \u001b[0;34m\u001b[0m\u001b[0m\n",
      "\u001b[0;31mNameError\u001b[0m: name 'fuerzas_elemento_AB' is not defined"
     ]
    }
   ],
   "source": [
    "import matplotlib.pyplot as plt\n",
    "plt.rcParams[\"figure.figsize\"] = (10,20)\n",
    "plt.style.use('seaborn-whitegrid')\n",
    "fuerzas_elemento = [(fuerzas_elemento_AB, \"AB\"), (fuerzas_elemento_AB, \"AB\"), (fuerzas_elemento_AE, \"AE\"), (fuerzas_elemento_AD, \"AB\"), (fuerzas_elemento_AD, \"AD\"), (fuerzas_elemento_BC, \"BC\"), (fuerzas_elemento_BE, \"BE\"), (fuerzas_elemento_CE, \"CE\"), (fuerzas_elemento_ED, \"ED\")]\n",
    "fig, axes = plt.subplots(nrows=7, ncols=1, sharex=True)\n",
    "\n",
    "for fuerzas, ax in zip(fuerzas_elementos, axes):\n",
    "    ax.plot(variaciones_distancia, fuerzas[0])\n",
    "    ax.fill_between(variaciones_distancia, fuerzas[1], alpha=0.25)\n",
    "    ax.set.title(f'Esfuerzo del elemento {fuerza[1]} [Gpa] vs Posición del nodo B [m]')\n",
    "ax.srt_xlabel('Posición del nodo B en x [m]')\n",
    "plt.tight_layout()\n",
    "plt.show\n",
    "\n",
    "print(rango_de_angulos, rango_de_cargas)"
   ]
  },
  {
   "cell_type": "code",
   "execution_count": null,
   "id": "af9285a9",
   "metadata": {},
   "outputs": [],
   "source": []
  }
 ],
 "metadata": {
  "kernelspec": {
   "display_name": "Python 3 (ipykernel)",
   "language": "python",
   "name": "python3"
  },
  "language_info": {
   "codemirror_mode": {
    "name": "ipython",
    "version": 3
   },
   "file_extension": ".py",
   "mimetype": "text/x-python",
   "name": "python",
   "nbconvert_exporter": "python",
   "pygments_lexer": "ipython3",
   "version": "3.8.10"
  }
 },
 "nbformat": 4,
 "nbformat_minor": 5
}
