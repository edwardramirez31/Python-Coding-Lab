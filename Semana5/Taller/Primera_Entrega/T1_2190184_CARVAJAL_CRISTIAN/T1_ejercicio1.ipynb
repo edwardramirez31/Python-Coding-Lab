{
 "cells": [
  {
   "cell_type": "markdown",
   "id": "1c6ee534",
   "metadata": {},
   "source": [
    "## EJERCICIO 1"
   ]
  },
  {
   "cell_type": "markdown",
   "id": "9d45b379",
   "metadata": {},
   "source": [
    "T1_ejercicio1"
   ]
  },
  {
   "cell_type": "code",
   "execution_count": 13,
   "id": "b593fa1c",
   "metadata": {},
   "outputs": [],
   "source": [
    "import math\n",
    "\n",
    "def sen(grads):\n",
    "    return math.sin(math.radians(grads))\n",
    "def cos(grads):\n",
    "    return math.cos(math.radians(grads))\n",
    "def tan(grads):\n",
    "    return math.tan(math.radians(grads))"
   ]
  },
  {
   "cell_type": "code",
   "execution_count": 14,
   "id": "13e2b4cb",
   "metadata": {},
   "outputs": [],
   "source": [
    "#Valores\n",
    "x=2+1+9+0+1+8+4\n",
    "l=0.2*x\n",
    "lcable=1500\n",
    "dcable=(1/4)*25.4\n",
    "dperno=(1/2)*25.4\n",
    "esf_u=400\n",
    "esf_y=250\n",
    "esf_yt=145\n",
    "E=200*(10**6)\n",
    "f_sy=1.25\n",
    "f_su=1.28\n",
    "E=200000\n",
    "acable=(math.pi/4)*(dcable**2)\n",
    "aperno=(math.pi/4)*(dperno**2)\n",
    "esf_ady=esf_y/f_sy\n",
    "esf_adu=esf_u/f_su\n",
    "cor_ady=esf_yt/f_sy"
   ]
  },
  {
   "cell_type": "code",
   "execution_count": 15,
   "id": "dffbd39a",
   "metadata": {},
   "outputs": [],
   "source": [
    "#Reacciones\n",
    "w=0.1\n",
    "Rd=w*l/(2*(pow(cos(40),2)+1+pow(cos(50),2)))\n",
    "Re=Rd*cos(50)\n",
    "Rc=Rd*cos(40)\n",
    "Ax=Rc*sen(40)-Re*sen(50)\n",
    "Ay=w*l-Rc*cos(40)-Rd-Re*cos(50)\n",
    "\n",
    "Ra=pow(pow(Ax,2)+pow(Ay,2),1/2)\n",
    "\n",
    "Rcx=Rc*sen(40)\n",
    "Rex=Re*sen(50)\n",
    "Rcy=Rc*cos(40)\n",
    "Rey=Re*cos(50)\n",
    "Bx=Rcx+Rex\n",
    "By=Rcy+Rd+Rey\n",
    "Rb=pow(pow(Bx,2)+pow(By,2),1/2)"
   ]
  },
  {
   "cell_type": "code",
   "execution_count": 16,
   "id": "e6ddf571",
   "metadata": {},
   "outputs": [],
   "source": [
    "#FALLA EN LOS CABLES POR ESFUERZO NORMAL\n",
    "esfc=Rc/acable*1000\n",
    "esfd=Rd/acable*1000\n",
    "esfe=Re/acable*1000\n",
    "#FALLA EN LAS CONEXIONES (SIMPLE)\n",
    "corc=Rc/aperno*1000\n",
    "cord=Rd/aperno*1000\n",
    "core=Re/aperno*1000\n",
    "#FALLA EN LAS CONEXIONES (DOBLE)\n",
    "cora=Ra/(2*aperno)*1000\n",
    "corb=Rb/(2*aperno)*1000"
   ]
  },
  {
   "cell_type": "code",
   "execution_count": 17,
   "id": "965b4940",
   "metadata": {},
   "outputs": [
    {
     "name": "stdout",
     "output_type": "stream",
     "text": [
      "w= 5.067100000001528 kN/m\n"
     ]
    }
   ],
   "source": [
    "#Valor máximo que puede tener la carga distribuida W\n",
    "while esfc<esf_ady and esfc<esf_adu and esfd<esf_ady and esfd<esf_adu and esfe<esf_ady and esfe<esf_adu and corc<cor_ady and cord<cor_ady and core<cor_ady and cora<cor_ady and corb<cor_ady:\n",
    "    w=w+0.0001\n",
    "    Rd=w*l/(2*(pow(cos(40),2)+1+pow(cos(50),2)))\n",
    "    Re=Rd*cos(50)\n",
    "    Rc=Rd*cos(40)\n",
    "    Ax=Rc*sen(40)-Re*sen(50)\n",
    "    Ay=w*l-Rc*cos(40)-Rd-Re*cos(50)\n",
    "    Ra=pow(pow(Ax,2)+pow(Ay,2),1/2)\n",
    "    Rcx=Rc*sen(40)\n",
    "    Rex=Re*sen(50)\n",
    "    Rcy=Rc*cos(40)\n",
    "    Rey=Re*cos(50)\n",
    "    Bx=Rcx+Rex\n",
    "    By=Rcy+Rd+Rey\n",
    "    Rb=pow(pow(Bx,2)+pow(By,2),1/2)\n",
    "    esfc=Rc/acable*1000\n",
    "    esfd=Rd/acable*1000\n",
    "    esfe=Re/acable*1000\n",
    "    corc=Rc/aperno*1000\n",
    "    cord=Rd/aperno*1000\n",
    "    core=Re/aperno*1000\n",
    "    cora=Ra/(2*aperno)*1000\n",
    "    corb=Rb/(2*aperno)*1000\n",
    "#Deformaciones\n",
    "defc=esfc/E\n",
    "defd=esfd/E\n",
    "defe=esfe/E\n",
    "print(\"w=\",w,\"kN/m\")"
   ]
  },
  {
   "cell_type": "code",
   "execution_count": 18,
   "id": "e121f454",
   "metadata": {},
   "outputs": [
    {
     "name": "stdout",
     "output_type": "stream",
     "text": [
      "Con w= 5.067100000001528  kN\n",
      "esfady= 200.0  kN\n",
      "esfadu= 312.5  kN\n",
      "corady= 116.0  kN\n",
      "Rd= 6.3338750000019095  kN\n",
      "Re= 4.0713363713045565  kN\n",
      "Rc= 4.85202974716168  kN\n",
      "Ax= 0.0  kN\n",
      "Ay= 12.667750000003817  kN\n",
      "Ra= 12.667750000003817  kN\n",
      "Rb= 14.120203882640828  kN\n",
      "esfc= 153.2096508479783  MPa\n",
      "esfd= 200.00099501300417  MPa\n",
      "esfe= 128.5581615193384  MPa\n",
      "corc= 38.30241271199458  MPa\n",
      "cord= 50.00024875325104  MPa\n",
      "core= 32.1395403798346  MPa\n",
      "cora= 50.000248753251036  MPa\n",
      "corb= 55.73315755192909  MPa\n",
      "defc= 0.0007660482542398916  mm/mm\n",
      "defd= 0.0010000049750650208  mm/mm\n",
      "defe= 0.000642790807596692  mm/mm\n"
     ]
    }
   ],
   "source": [
    "print(\"Con w=\",w,\" kN\")\n",
    "#reacciones, fuerzas y deformaciones de todos los cables con la carga w\n",
    "print(\"esfady=\",esf_ady,\" kN\")\n",
    "print(\"esfadu=\",esf_adu,\" kN\")\n",
    "print(\"corady=\",cor_ady,\" kN\")\n",
    "print(\"Rd=\",Rd,\" kN\")\n",
    "print(\"Re=\",Re,\" kN\")\n",
    "print(\"Rc=\",Rc,\" kN\")\n",
    "print(\"Ax=\",Ax,\" kN\")\n",
    "print(\"Ay=\",Ay,\" kN\")\n",
    "print(\"Ra=\",Ra,\" kN\")\n",
    "print(\"Rb=\",Rb,\" kN\")\n",
    "print(\"esfc=\",esfc,\" MPa\")\n",
    "print(\"esfd=\",esfd,\" MPa\")\n",
    "print(\"esfe=\",esfe,\" MPa\")\n",
    "print(\"corc=\",corc,\" MPa\")\n",
    "print(\"cord=\",cord,\" MPa\")\n",
    "print(\"core=\",core,\" MPa\")\n",
    "print(\"cora=\",cora,\" MPa\")\n",
    "print(\"corb=\",corb,\" MPa\")\n",
    "print(\"defc=\",defc,\" mm/mm\")\n",
    "print(\"defd=\",defd,\" mm/mm\")\n",
    "print(\"defe=\",defe,\" mm/mm\")"
   ]
  },
  {
   "cell_type": "code",
   "execution_count": null,
   "id": "16ebc14f",
   "metadata": {},
   "outputs": [],
   "source": []
  }
 ],
 "metadata": {
  "kernelspec": {
   "display_name": "Python 3 (ipykernel)",
   "language": "python",
   "name": "python3"
  },
  "language_info": {
   "codemirror_mode": {
    "name": "ipython",
    "version": 3
   },
   "file_extension": ".py",
   "mimetype": "text/x-python",
   "name": "python",
   "nbconvert_exporter": "python",
   "pygments_lexer": "ipython3",
   "version": "3.8.10"
  }
 },
 "nbformat": 4,
 "nbformat_minor": 5
}
