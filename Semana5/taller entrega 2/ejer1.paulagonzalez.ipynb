{
 "cells": [
  {
   "cell_type": "code",
   "execution_count": null,
   "id": "3c16137a",
   "metadata": {},
   "outputs": [],
   "source": [
    "import numpy as np"
   ]
  },
  {
   "cell_type": "code",
   "execution_count": null,
   "id": "75ed0cbc",
   "metadata": {},
   "outputs": [],
   "source": [
    "c_inicial = 20\n",
    "diferencial_carga = 0.25\n",
    "c_final = c_inicial + 18 * diferencial_carga\n",
    "\n",
    "AD = 1\n",
    "AB = 2\n",
    "BC = 2\n",
    "AC = AB + BC\n",
    "\n",
    "angulo_inclinacion = np.arctan(AB / BC)\n",
    "angulo_inclinacionAE = np.arctan(AD / AB)"
   ]
  },
  {
   "cell_type": "code",
   "execution_count": null,
   "id": "5c902215",
   "metadata": {},
   "outputs": [],
   "source": [
    "rango_angulos = np.arange(0, 190, 10)\n",
    "rango_cargas = np.arange(c_inicial, c_final + diferencial_carga, diferencial_carga)\n",
    "rango_cargas"
   ]
  },
  {
   "cell_type": "code",
   "execution_count": null,
   "id": "b09f091c",
   "metadata": {},
   "outputs": [],
   "source": [
    "def calculo_reacciones(carga, angulo, AC)\n",
    "    angulo_en_radianes = (angulo if angulo <= 90 else 180 - angulo) * np.pi / 180\n",
    "    AY = (-1 if angulo <= 90 else 1) * carga * np.cos(angulo_en_radianes) / np.sin(angulo_en_radianes)\n",
    "    DX = (-1 if angulo <= 90 else 1) * AC * carga * np.cos(angulo_en_radianes)\n",
    "    AX = - DX - carga * np.sin(angulo_radianes)\n",
    "    return AX, AY, DX"
   ]
  },
  {
   "cell_type": "code",
   "execution_count": null,
   "id": "6645b0f2",
   "metadata": {},
   "outputs": [],
   "source": [
    "def fuerzas_nodo_C(carga, angulo):\n",
    "    angulo_en_ radianes = (angulo if angulo <= 90 else 180 - angulo) * np.pi / 100\n",
    "    CE = (1 if angulo <= 90 else -1) * carga * np.cos(angulo_en_radianes) / np.sin(angulo_inclinacion)\n",
    "    BC = carga * np.sin(angulo_en_radianes) - CE * np.cos(angulo_inclinacion)\n",
    "    return CE, BC\n",
    "\n",
    "def fuerzas_nodo_B(fuerzaBC)\n",
    "    BA = fuerzaBC\n",
    "    BE = 0\n",
    "    return BA, BE\n",
    "\n",
    "def fuerzas_nodo_E(fuerzaCE, angulo_inclinacionAE)\n",
    "    EA = - fuerzaCE * np.sin(angulo_inclinacion) / np.sin(angulo_inclinacionAE)\n",
    "    ED = - EA * np.cos(angulo_inclinacionAE) + fuerzaCE * np.cos(angulo_inclinacion)\n",
    "    return EA, ED\n",
    "\n",
    "def fuerzas_nodo_D(fuerzaDX):\n",
    "    ED = - fuerzaDX\n",
    "    DA = 0\n",
    "    return ED, DA"
   ]
  },
  {
   "cell_type": "code",
   "execution_count": null,
   "id": "decf91fb",
   "metadata": {},
   "outputs": [],
   "source": [
    "fuerza_maxima = np.array([0, 0, 0, 0, 0, 0, 0])\n",
    "for angulo, carga in zip(rango_angulos, rango_cargas)\n",
    "    AX, AY, DX = calculo_reacciones(carga, angulo, distanciaAC)\n",
    "    CE, BC = fuerzas_nodo_C(carga, angulo)\n",
    "    BA, BE = fuerzas_nodo_B(BC)\n",
    "    EA, ED = fuerzas_nodo_E(CE, angulo_inclinacionAE)\n",
    "    DE, DA = fuerzas_nodo_D(DX)\n",
    "    AE, AB = fuerzas_nodo_A(AX, AY, angulo_inclinacionAE)\n",
    "    print(f\"Reacciones angulo {angulo} grados: \")\n",
    "    print(AX, AY, DX)\n",
    "    print(\"Fuerzas internas:\")\n",
    "    print(BA, EA, DA, BC, BE, CE, ED)\n",
    "    print(f\"{AE} == {EA}, {AB} == {BA}, {DE} == {ED}\")\n",
    "    print()\n",
    "    maxima_fuerza[0] = BA if np.absolute(BA) >  maxima_fuerza[0] else maxima_fuerza[0]\n",
    "    maxima_fuerza[1] = BC if np.absolute(BC) >  maxima_fuerza[0] else maxima_fuerza[0]\n",
    "    maxima_fuerza[2] = CE if np.absolute(CE) >  maxima_fuerza[2] else maxima_fuerza[2]    "
   ]
  }
 ],
 "metadata": {
  "kernelspec": {
   "display_name": "Python 3 (ipykernel)",
   "language": "python",
   "name": "python3"
  },
  "language_info": {
   "codemirror_mode": {
    "name": "ipython",
    "version": 3
   },
   "file_extension": ".py",
   "mimetype": "text/x-python",
   "name": "python",
   "nbconvert_exporter": "python",
   "pygments_lexer": "ipython3",
   "version": "3.10.0"
  }
 },
 "nbformat": 4,
 "nbformat_minor": 5
}
