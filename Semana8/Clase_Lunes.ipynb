{
 "cells": [
  {
   "cell_type": "markdown",
   "id": "cloudy-particle",
   "metadata": {},
   "source": [
    "# FUNCIONES"
   ]
  },
  {
   "cell_type": "code",
   "execution_count": 45,
   "id": "integrated-religious",
   "metadata": {},
   "outputs": [],
   "source": [
    "import numpy as np\n",
    "import matplotlib.pyplot as plt\n",
    "import sympy as sp"
   ]
  },
  {
   "cell_type": "code",
   "execution_count": 32,
   "id": "indonesian-netherlands",
   "metadata": {},
   "outputs": [
    {
     "data": {
      "text/plain": [
       "[<matplotlib.lines.Line2D at 0x22428273cd0>]"
      ]
     },
     "execution_count": 32,
     "metadata": {},
     "output_type": "execute_result"
    },
    {
     "data": {
      "image/png": "[encoded data removed]",
      "text/plain": [
       "<Figure size 432x288 with 1 Axes>"
      ]
     },
     "metadata": {
      "needs_background": "light"
     },
     "output_type": "display_data"
    }
   ],
   "source": [
    "# x y y son variables\n",
    "x = np.arange(-2, 2.05, 0.05)\n",
    "y = x ** 2\n",
    "\n",
    "plt.plot(x, y)"
   ]
  },
  {
   "cell_type": "code",
   "execution_count": 33,
   "id": "olympic-continuity",
   "metadata": {},
   "outputs": [
    {
     "data": {
      "text/plain": [
       "array([-2.00000000e+00, -1.95000000e+00, -1.90000000e+00, -1.85000000e+00,\n",
       "       -1.80000000e+00, -1.75000000e+00, -1.70000000e+00, -1.65000000e+00,\n",
       "       -1.60000000e+00, -1.55000000e+00, -1.50000000e+00, -1.45000000e+00,\n",
       "       -1.40000000e+00, -1.35000000e+00, -1.30000000e+00, -1.25000000e+00,\n",
       "       -1.20000000e+00, -1.15000000e+00, -1.10000000e+00, -1.05000000e+00,\n",
       "       -1.00000000e+00, -9.50000000e-01, -9.00000000e-01, -8.50000000e-01,\n",
       "       -8.00000000e-01, -7.50000000e-01, -7.00000000e-01, -6.50000000e-01,\n",
       "       -6.00000000e-01, -5.50000000e-01, -5.00000000e-01, -4.50000000e-01,\n",
       "       -4.00000000e-01, -3.50000000e-01, -3.00000000e-01, -2.50000000e-01,\n",
       "       -2.00000000e-01, -1.50000000e-01, -1.00000000e-01, -5.00000000e-02,\n",
       "        1.77635684e-15,  5.00000000e-02,  1.00000000e-01,  1.50000000e-01,\n",
       "        2.00000000e-01,  2.50000000e-01,  3.00000000e-01,  3.50000000e-01,\n",
       "        4.00000000e-01,  4.50000000e-01,  5.00000000e-01,  5.50000000e-01,\n",
       "        6.00000000e-01,  6.50000000e-01,  7.00000000e-01,  7.50000000e-01,\n",
       "        8.00000000e-01,  8.50000000e-01,  9.00000000e-01,  9.50000000e-01,\n",
       "        1.00000000e+00,  1.05000000e+00,  1.10000000e+00,  1.15000000e+00,\n",
       "        1.20000000e+00,  1.25000000e+00,  1.30000000e+00,  1.35000000e+00,\n",
       "        1.40000000e+00,  1.45000000e+00,  1.50000000e+00,  1.55000000e+00,\n",
       "        1.60000000e+00,  1.65000000e+00,  1.70000000e+00,  1.75000000e+00,\n",
       "        1.80000000e+00,  1.85000000e+00,  1.90000000e+00,  1.95000000e+00,\n",
       "        2.00000000e+00])"
      ]
     },
     "execution_count": 33,
     "metadata": {},
     "output_type": "execute_result"
    }
   ],
   "source": [
    "x"
   ]
  },
  {
   "cell_type": "code",
   "execution_count": 13,
   "id": "lyric-aspect",
   "metadata": {},
   "outputs": [],
   "source": [
    "# funcion que sume dos numeros a y b\n",
    "#1. def\n",
    "#2. nombre de la funcion (nombre de la variable)\n",
    "#3. abrimos y cerramos parentesis ()\n",
    "#4. Colocamos :\n",
    "#5. Escribimos el codigo de la funcion indentado a la derecha\n",
    "message = \"Mensaje\"\n",
    "\n",
    "def saludar(nombre):\n",
    "    print(\"Hola \" + nombre)\n",
    "    print(nombre.upper())"
   ]
  },
  {
   "cell_type": "code",
   "execution_count": 6,
   "id": "geological-bahrain",
   "metadata": {},
   "outputs": [
    {
     "name": "stdout",
     "output_type": "stream",
     "text": [
      "Hola usuario\n"
     ]
    }
   ],
   "source": [
    "# usar funcion\n",
    "# nombre de la funcion y parentesis\n",
    "saludar()"
   ]
  },
  {
   "cell_type": "code",
   "execution_count": 14,
   "id": "metropolitan-header",
   "metadata": {},
   "outputs": [
    {
     "name": "stdout",
     "output_type": "stream",
     "text": [
      "Ingrese su nombre: Edward\n",
      "Hola Edward\n",
      "EDWARD\n"
     ]
    }
   ],
   "source": [
    "nombre_usuario = input(\"Ingrese su nombre: \")\n",
    "saludar(nombre_usuario)"
   ]
  },
  {
   "cell_type": "code",
   "execution_count": 16,
   "id": "tamil-abortion",
   "metadata": {},
   "outputs": [
    {
     "name": "stdout",
     "output_type": "stream",
     "text": [
      "Hola Wilson\n",
      "WILSON\n"
     ]
    }
   ],
   "source": [
    "saludar(\"Wilson\")"
   ]
  },
  {
   "cell_type": "code",
   "execution_count": 18,
   "id": "automated-roulette",
   "metadata": {},
   "outputs": [
    {
     "ename": "TypeError",
     "evalue": "can only concatenate str (not \"int\") to str",
     "output_type": "error",
     "traceback": [
      "\u001b[1;31m---------------------------------------------------------------------------\u001b[0m",
      "\u001b[1;31mTypeError\u001b[0m                                 Traceback (most recent call last)",
      "\u001b[1;32m<ipython-input-18-8c89e8faf375>\u001b[0m in \u001b[0;36m<module>\u001b[1;34m\u001b[0m\n\u001b[1;32m----> 1\u001b[1;33m \u001b[0msaludar\u001b[0m\u001b[1;33m(\u001b[0m\u001b[1;36m5\u001b[0m\u001b[1;33m)\u001b[0m\u001b[1;33m\u001b[0m\u001b[1;33m\u001b[0m\u001b[0m\n\u001b[0m",
      "\u001b[1;32m<ipython-input-13-7fc9b469b892>\u001b[0m in \u001b[0;36msaludar\u001b[1;34m(nombre)\u001b[0m\n\u001b[0;32m      8\u001b[0m \u001b[1;33m\u001b[0m\u001b[0m\n\u001b[0;32m      9\u001b[0m \u001b[1;32mdef\u001b[0m \u001b[0msaludar\u001b[0m\u001b[1;33m(\u001b[0m\u001b[0mnombre\u001b[0m\u001b[1;33m)\u001b[0m\u001b[1;33m:\u001b[0m\u001b[1;33m\u001b[0m\u001b[1;33m\u001b[0m\u001b[0m\n\u001b[1;32m---> 10\u001b[1;33m     \u001b[0mprint\u001b[0m\u001b[1;33m(\u001b[0m\u001b[1;34m\"Hola \"\u001b[0m \u001b[1;33m+\u001b[0m \u001b[0mnombre\u001b[0m\u001b[1;33m)\u001b[0m\u001b[1;33m\u001b[0m\u001b[1;33m\u001b[0m\u001b[0m\n\u001b[0m\u001b[0;32m     11\u001b[0m     \u001b[0mprint\u001b[0m\u001b[1;33m(\u001b[0m\u001b[0mnombre\u001b[0m\u001b[1;33m.\u001b[0m\u001b[0mupper\u001b[0m\u001b[1;33m(\u001b[0m\u001b[1;33m)\u001b[0m\u001b[1;33m)\u001b[0m\u001b[1;33m\u001b[0m\u001b[1;33m\u001b[0m\u001b[0m\n",
      "\u001b[1;31mTypeError\u001b[0m: can only concatenate str (not \"int\") to str"
     ]
    }
   ],
   "source": [
    "saludar(5)"
   ]
  },
  {
   "cell_type": "code",
   "execution_count": 30,
   "id": "affected-probability",
   "metadata": {},
   "outputs": [],
   "source": [
    "def sumar(numero1, numero2):\n",
    "    if type(numero1) == int and type(numero2) == int:    \n",
    "        resultado = numero1 + numero2\n",
    "        print(resultado)"
   ]
  },
  {
   "cell_type": "code",
   "execution_count": 34,
   "id": "labeled-fabric",
   "metadata": {},
   "outputs": [
    {
     "name": "stdout",
     "output_type": "stream",
     "text": [
      "5\n",
      "None\n"
     ]
    }
   ],
   "source": [
    "numero_cinco = sumar(3, 2)\n",
    "print(numero_cinco)"
   ]
  },
  {
   "cell_type": "code",
   "execution_count": 31,
   "id": "alive-mozambique",
   "metadata": {},
   "outputs": [],
   "source": [
    "sumar(\"Hola\", \" Mundo\")"
   ]
  },
  {
   "cell_type": "code",
   "execution_count": 35,
   "id": "accepted-wholesale",
   "metadata": {},
   "outputs": [
    {
     "data": {
      "text/plain": [
       "int"
      ]
     },
     "execution_count": 35,
     "metadata": {},
     "output_type": "execute_result"
    }
   ],
   "source": [
    "type(5)"
   ]
  },
  {
   "cell_type": "code",
   "execution_count": 36,
   "id": "precise-cathedral",
   "metadata": {},
   "outputs": [],
   "source": [
    "def sumar_con_return(numero1, numero2):\n",
    "    if type(numero1) == int and type(numero2) == int:    \n",
    "        resultado = numero1 + numero2\n",
    "        return resultado"
   ]
  },
  {
   "cell_type": "code",
   "execution_count": 43,
   "id": "intermediate-situation",
   "metadata": {},
   "outputs": [
    {
     "name": "stdout",
     "output_type": "stream",
     "text": [
      "8\n"
     ]
    }
   ],
   "source": [
    "resultado = sumar_con_return(3, 5)\n",
    "print(resultado)"
   ]
  },
  {
   "cell_type": "markdown",
   "id": "attended-juvenile",
   "metadata": {},
   "source": [
    "# RETO FLEXIÓN"
   ]
  },
  {
   "cell_type": "code",
   "execution_count": 62,
   "id": "acquired-alexandria",
   "metadata": {},
   "outputs": [
    {
     "data": {
      "text/latex": [
       "$\\displaystyle x$"
      ],
      "text/plain": [
       "x"
      ]
     },
     "execution_count": 62,
     "metadata": {},
     "output_type": "execute_result"
    }
   ],
   "source": [
    "P = 700\n",
    "Q = 50\n",
    "R = 150\n",
    "\n",
    "L = 2.5\n",
    "\n",
    "b = 400\n",
    "h = 300\n",
    "t = 5\n",
    "\n",
    "x = sp.symbols('x')\n",
    "x"
   ]
  },
  {
   "cell_type": "code",
   "execution_count": 66,
   "id": "latest-boundary",
   "metadata": {},
   "outputs": [],
   "source": [
    "A = b * t + (h - t) * t\n",
    "Iy = b ** 3 * t / 12 + (h - t) * t ** 3 / 12\n",
    "centroide = (b * t * (h - t / 2) + (h - t) * t * (h - t) / 2) / A\n",
    "Iz = b * t ** 3 / 12 + (h - t) ** 3 * t  / 12 + b * t * ((h - t / 2) - centroide) ** 2 + (h - t) * t * ((h - t) / 2 - centroide) ** 2"
   ]
  },
  {
   "cell_type": "code",
   "execution_count": 58,
   "id": "extreme-center",
   "metadata": {},
   "outputs": [
    {
     "data": {
      "text/latex": [
       "$\\displaystyle 375.0 - 150 x$"
      ],
      "text/plain": [
       "375.0 - 150*x"
      ]
     },
     "execution_count": 58,
     "metadata": {},
     "output_type": "execute_result"
    },
    {
     "data": {
      "image/png": "[encoded data removed]",
      "text/plain": [
       "<Figure size 432x288 with 1 Axes>"
      ]
     },
     "metadata": {
      "needs_background": "light"
     },
     "output_type": "display_data"
    }
   ],
   "source": [
    "# PLANO Y - X\n",
    "\n",
    "cortante_yx = -R\n",
    "Ma = R * L\n",
    "\n",
    "momento_yx = sp.integrate(cortante_yx, x) + Ma\n",
    "\n",
    "x_array = np.arange(0, L + 0.05, 0.05)\n",
    "array_momento = sp.lambdify(x, momento_yx)(x_array)\n",
    "\n",
    "plt.plot(x_array, array_momento)\n",
    "plt.fill_between(x_array, array_momento, alpha=0.4)\n",
    "plt.axhline(0, color='gray', linestyle='--')\n",
    "plt.axvline(0, color='gray', linestyle='--')\n",
    "momento_yx"
   ]
  },
  {
   "cell_type": "code",
   "execution_count": 61,
   "id": "alternative-ottawa",
   "metadata": {},
   "outputs": [
    {
     "data": {
      "text/latex": [
       "$\\displaystyle 50 x - 125.0$"
      ],
      "text/plain": [
       "50*x - 125.0"
      ]
     },
     "execution_count": 61,
     "metadata": {},
     "output_type": "execute_result"
    },
    {
     "data": {
      "image/png": "[encoded data removed]",
      "text/plain": [
       "<Figure size 432x288 with 1 Axes>"
      ]
     },
     "metadata": {
      "needs_background": "light"
     },
     "output_type": "display_data"
    }
   ],
   "source": [
    "# PLANO X - Z\n",
    "\n",
    "cortante_xz = Q\n",
    "Ma = Q * L\n",
    "\n",
    "momento_xz = sp.integrate(cortante_xz, x) - Ma\n",
    "\n",
    "array_momento = sp.lambdify(x, momento_xz)(x_array)\n",
    "\n",
    "plt.plot(x_array, array_momento)\n",
    "plt.fill_between(x_array, array_momento, alpha=0.4)\n",
    "plt.axhline(0, color='gray', linestyle='--')\n",
    "plt.axvline(0, color='gray', linestyle='--')\n",
    "momento_xz"
   ]
  },
  {
   "cell_type": "code",
   "execution_count": 68,
   "id": "sporting-budapest",
   "metadata": {},
   "outputs": [
    {
     "data": {
      "text/plain": [
       "-201.4388489208633"
      ]
     },
     "execution_count": 68,
     "metadata": {},
     "output_type": "execute_result"
    }
   ],
   "source": [
    "# CALCULAR ESFUERZOS\n",
    "# MPa\n",
    "esfuerzo_compresion = - P * 10 ** 3 / A\n",
    "esfuerzo_compresion"
   ]
  },
  {
   "cell_type": "code",
   "execution_count": 75,
   "id": "designing-maldives",
   "metadata": {},
   "outputs": [
    {
     "data": {
      "text/latex": [
       "$\\displaystyle -1971.44748458559$"
      ],
      "text/plain": [
       "-1971.44748458559"
      ]
     },
     "execution_count": 75,
     "metadata": {},
     "output_type": "execute_result"
    }
   ],
   "source": [
    "def obtener_esfuerzo(valor_x, y, z):\n",
    "    My = momento_xz.subs(x, valor_x)\n",
    "    Mz = momento_yx.subs(x, valor_x)\n",
    "    return esfuerzo_compresion + My * 10 ** 6 * z / Iy - Mz * 10 ** 6 * y / Iz\n",
    "\n",
    "obtener_esfuerzo(0, h - centroide, b / 2)"
   ]
  },
  {
   "cell_type": "code",
   "execution_count": 79,
   "id": "static-fundamentals",
   "metadata": {},
   "outputs": [
    {
     "data": {
      "text/plain": [
       "array([-96.6635241435310, -96.8978721385863, -97.1322201336417, ...,\n",
       "       -1970.97878859590, -1971.21313659096, -1971.44748458602],\n",
       "      dtype=object)"
      ]
     },
     "execution_count": 79,
     "metadata": {},
     "output_type": "execute_result"
    }
   ],
   "source": [
    "obtener_esfuerzo(0, h - centroide, np.arange(-b / 2, b / 2 + 0.05, 0.05))"
   ]
  },
  {
   "cell_type": "code",
   "execution_count": 100,
   "id": "impressed-description",
   "metadata": {},
   "outputs": [
    {
     "data": {
      "image/png": "[encoded data removed]",
      "text/plain": [
       "<Figure size 432x288 with 1 Axes>"
      ]
     },
     "metadata": {
      "needs_background": "light"
     },
     "output_type": "display_data"
    }
   ],
   "source": [
    "# EJE NEUTRO \n",
    "\n",
    "def graficar_eje_neutro(valor_x):\n",
    "    if valor_x < L:\n",
    "        valores_y = np.arange(-centroide, h - centroide + 0.05, 0.05)\n",
    "        eje_neutro =(-esfuerzo_compresion + valores_y * float(momento_yx.subs(x, valor_x)) * 10 ** 6 / Iz) * Iy / (float(momento_xz.subs(x, valor_x)) * 10 ** 6)\n",
    "        plt.plot(eje_neutro, valores_y, linestyle='--')\n",
    "    else:\n",
    "        plt.title(\"No hay eje neutro\")\n",
    "        \n",
    "    plt.plot([-b / 2, b / 2, b / 2, t / 2, t / 2, - t / 2, -t / 2, -b / 2, -b / 2], [h - centroide, h - centroide, h - centroide - t, h - centroide - t, -centroide, -centroide, h - centroide - t, h - centroide - t, h - centroide])\n",
    "    plt.xlim([-b / 2  - 50, b / 2 + 50])\n",
    "    \n",
    "    \n",
    "graficar_eje_neutro()"
   ]
  }
 ],
 "metadata": {
  "kernelspec": {
   "display_name": "Python 3",
   "language": "python",
   "name": "python3"
  },
  "language_info": {
   "codemirror_mode": {
    "name": "ipython",
    "version": 3
   },
   "file_extension": ".py",
   "mimetype": "text/x-python",
   "name": "python",
   "nbconvert_exporter": "python",
   "pygments_lexer": "ipython3",
   "version": "3.8.5"
  }
 },
 "nbformat": 4,
 "nbformat_minor": 5
}
