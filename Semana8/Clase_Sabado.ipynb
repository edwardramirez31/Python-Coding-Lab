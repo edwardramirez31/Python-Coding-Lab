{
 "cells": [
  {
   "cell_type": "markdown",
   "id": "qualified-pollution",
   "metadata": {},
   "source": [
    "# FUNCIONES"
   ]
  },
  {
   "cell_type": "code",
   "execution_count": 70,
   "id": "worth-webmaster",
   "metadata": {},
   "outputs": [],
   "source": [
    "import numpy as np\n",
    "import sympy as sp\n",
    "import matplotlib.pyplot as plt"
   ]
  },
  {
   "cell_type": "code",
   "execution_count": 2,
   "id": "limited-genome",
   "metadata": {},
   "outputs": [
    {
     "data": {
      "text/plain": [
       "array([0, 1, 2, 3, 4])"
      ]
     },
     "execution_count": 2,
     "metadata": {},
     "output_type": "execute_result"
    }
   ],
   "source": [
    "np.arange(0, 5)"
   ]
  },
  {
   "cell_type": "code",
   "execution_count": 3,
   "id": "noticed-rachel",
   "metadata": {},
   "outputs": [
    {
     "name": "stdout",
     "output_type": "stream",
     "text": [
      "HOLA\n"
     ]
    }
   ],
   "source": [
    "#plt.plot(x, y)\n",
    "print(\"HOLA\")"
   ]
  },
  {
   "cell_type": "code",
   "execution_count": 9,
   "id": "million-diving",
   "metadata": {},
   "outputs": [
    {
     "name": "stdout",
     "output_type": "stream",
     "text": [
      "Hola a todos\n"
     ]
    }
   ],
   "source": [
    "number = 4\n",
    "number * 2\n",
    "hola_a_todos()"
   ]
  },
  {
   "cell_type": "code",
   "execution_count": null,
   "id": "computational-choice",
   "metadata": {},
   "outputs": [],
   "source": []
  },
  {
   "cell_type": "code",
   "execution_count": 5,
   "id": "sharing-interaction",
   "metadata": {},
   "outputs": [],
   "source": [
    "# 1. def\n",
    "# 2. nombre o etiqueta\n",
    "# 3. parentesis\n",
    "# 4. OPCIONAL: Pasar parametros dentro de parentesis separados por coma\n",
    "# 5. Colocar dos puntos\n",
    "# 6. Bloque de código indentado a la derecha\n",
    "def hola_a_todos():\n",
    "    print(\"Hola a todos\")"
   ]
  },
  {
   "cell_type": "code",
   "execution_count": 6,
   "id": "boolean-transformation",
   "metadata": {},
   "outputs": [
    {
     "data": {
      "text/plain": [
       "4"
      ]
     },
     "execution_count": 6,
     "metadata": {},
     "output_type": "execute_result"
    }
   ],
   "source": [
    "number"
   ]
  },
  {
   "cell_type": "code",
   "execution_count": 7,
   "id": "sealed-niagara",
   "metadata": {},
   "outputs": [
    {
     "data": {
      "text/plain": [
       "<function __main__.hola_a_todos()>"
      ]
     },
     "execution_count": 7,
     "metadata": {},
     "output_type": "execute_result"
    }
   ],
   "source": [
    "hola_a_todos"
   ]
  },
  {
   "cell_type": "code",
   "execution_count": 13,
   "id": "distant-system",
   "metadata": {},
   "outputs": [
    {
     "name": "stdout",
     "output_type": "stream",
     "text": [
      "Hola a todos\n"
     ]
    }
   ],
   "source": [
    "hola_a_todos()"
   ]
  },
  {
   "cell_type": "code",
   "execution_count": null,
   "id": "needed-auditor",
   "metadata": {},
   "outputs": [],
   "source": []
  },
  {
   "cell_type": "code",
   "execution_count": 11,
   "id": "delayed-playback",
   "metadata": {},
   "outputs": [
    {
     "data": {
      "text/plain": [
       "16.0"
      ]
     },
     "execution_count": 11,
     "metadata": {},
     "output_type": "execute_result"
    }
   ],
   "source": [
    "import math\n",
    "math.pow(2, 4)"
   ]
  },
  {
   "cell_type": "code",
   "execution_count": 14,
   "id": "warming-bulletin",
   "metadata": {},
   "outputs": [],
   "source": [
    "# colocar nombre con verbo \n",
    "def obtener_potencia(base, exponente):\n",
    "    if base > 0 and exponente > 0:\n",
    "        resultado = base ** exponente\n",
    "        print(resultado)\n",
    "    else:\n",
    "        print(f\"La base:{base} o el exponente: {exponente} no son mayores a cero.\")"
   ]
  },
  {
   "cell_type": "code",
   "execution_count": 18,
   "id": "facial-makeup",
   "metadata": {},
   "outputs": [
    {
     "name": "stdout",
     "output_type": "stream",
     "text": [
      "La base:0 o el exponente: 5 no son mayores a cero.\n"
     ]
    }
   ],
   "source": [
    "obtener_potencia(0, 5)"
   ]
  },
  {
   "cell_type": "code",
   "execution_count": 21,
   "id": "agricultural-execution",
   "metadata": {},
   "outputs": [
    {
     "name": "stdout",
     "output_type": "stream",
     "text": [
      "32\n"
     ]
    }
   ],
   "source": [
    "obtener_potencia(2, 5)"
   ]
  },
  {
   "cell_type": "code",
   "execution_count": 22,
   "id": "northern-disclosure",
   "metadata": {},
   "outputs": [
    {
     "ename": "TypeError",
     "evalue": "'>' not supported between instances of 'str' and 'int'",
     "output_type": "error",
     "traceback": [
      "\u001b[1;31m---------------------------------------------------------------------------\u001b[0m",
      "\u001b[1;31mTypeError\u001b[0m                                 Traceback (most recent call last)",
      "\u001b[1;32m<ipython-input-22-609df9f2b3f1>\u001b[0m in \u001b[0;36m<module>\u001b[1;34m\u001b[0m\n\u001b[1;32m----> 1\u001b[1;33m \u001b[0mobtener_potencia\u001b[0m\u001b[1;33m(\u001b[0m\u001b[1;34m\"4\"\u001b[0m\u001b[1;33m,\u001b[0m \u001b[1;34m\"5\"\u001b[0m\u001b[1;33m)\u001b[0m\u001b[1;33m\u001b[0m\u001b[1;33m\u001b[0m\u001b[0m\n\u001b[0m",
      "\u001b[1;32m<ipython-input-14-2904f64bf070>\u001b[0m in \u001b[0;36mobtener_potencia\u001b[1;34m(base, exponente)\u001b[0m\n\u001b[0;32m      1\u001b[0m \u001b[1;31m# colocar nombre con verbo\u001b[0m\u001b[1;33m\u001b[0m\u001b[1;33m\u001b[0m\u001b[1;33m\u001b[0m\u001b[0m\n\u001b[0;32m      2\u001b[0m \u001b[1;32mdef\u001b[0m \u001b[0mobtener_potencia\u001b[0m\u001b[1;33m(\u001b[0m\u001b[0mbase\u001b[0m\u001b[1;33m,\u001b[0m \u001b[0mexponente\u001b[0m\u001b[1;33m)\u001b[0m\u001b[1;33m:\u001b[0m\u001b[1;33m\u001b[0m\u001b[1;33m\u001b[0m\u001b[0m\n\u001b[1;32m----> 3\u001b[1;33m     \u001b[1;32mif\u001b[0m \u001b[0mbase\u001b[0m \u001b[1;33m>\u001b[0m \u001b[1;36m0\u001b[0m \u001b[1;32mand\u001b[0m \u001b[0mexponente\u001b[0m \u001b[1;33m>\u001b[0m \u001b[1;36m0\u001b[0m\u001b[1;33m:\u001b[0m\u001b[1;33m\u001b[0m\u001b[1;33m\u001b[0m\u001b[0m\n\u001b[0m\u001b[0;32m      4\u001b[0m         \u001b[0mresultado\u001b[0m \u001b[1;33m=\u001b[0m \u001b[0mbase\u001b[0m \u001b[1;33m**\u001b[0m \u001b[0mexponente\u001b[0m\u001b[1;33m\u001b[0m\u001b[1;33m\u001b[0m\u001b[0m\n\u001b[0;32m      5\u001b[0m         \u001b[0mprint\u001b[0m\u001b[1;33m(\u001b[0m\u001b[0mresultado\u001b[0m\u001b[1;33m)\u001b[0m\u001b[1;33m\u001b[0m\u001b[1;33m\u001b[0m\u001b[0m\n",
      "\u001b[1;31mTypeError\u001b[0m: '>' not supported between instances of 'str' and 'int'"
     ]
    }
   ],
   "source": [
    "obtener_potencia(\"4\", \"5\")"
   ]
  },
  {
   "cell_type": "code",
   "execution_count": 54,
   "id": "leading-birth",
   "metadata": {},
   "outputs": [
    {
     "name": "stdout",
     "output_type": "stream",
     "text": [
      "4\n",
      "None\n"
     ]
    },
    {
     "ename": "NameError",
     "evalue": "name 'resultado' is not defined",
     "output_type": "error",
     "traceback": [
      "\u001b[1;31m---------------------------------------------------------------------------\u001b[0m",
      "\u001b[1;31mNameError\u001b[0m                                 Traceback (most recent call last)",
      "\u001b[1;32m<ipython-input-54-2304e480438e>\u001b[0m in \u001b[0;36m<module>\u001b[1;34m\u001b[0m\n\u001b[0;32m     10\u001b[0m \u001b[0mprint\u001b[0m\u001b[1;33m(\u001b[0m\u001b[0mX\u001b[0m\u001b[1;33m)\u001b[0m\u001b[1;33m\u001b[0m\u001b[1;33m\u001b[0m\u001b[0m\n\u001b[0;32m     11\u001b[0m \u001b[1;31m# SCOPE\u001b[0m\u001b[1;33m\u001b[0m\u001b[1;33m\u001b[0m\u001b[1;33m\u001b[0m\u001b[0m\n\u001b[1;32m---> 12\u001b[1;33m \u001b[0mresultado\u001b[0m \u001b[1;33m*\u001b[0m \u001b[1;36m2\u001b[0m\u001b[1;33m\u001b[0m\u001b[1;33m\u001b[0m\u001b[0m\n\u001b[0m",
      "\u001b[1;31mNameError\u001b[0m: name 'resultado' is not defined"
     ]
    }
   ],
   "source": [
    "def sumar(a, b):\n",
    "    if type(a) == int and type(b) == int:\n",
    "        resultado = a + b\n",
    "        print(resultado)\n",
    "    else:\n",
    "        print(\"Ingrese numeros correctamente (INT)\")\n",
    "        #raise TypeError(\"Ingrese numeros correctamente (INT)\")\n",
    "\n",
    "X = sumar(2, 2)\n",
    "print(X)\n",
    "# SCOPE\n",
    "resultado * 2"
   ]
  },
  {
   "cell_type": "code",
   "execution_count": 42,
   "id": "dietary-hughes",
   "metadata": {},
   "outputs": [
    {
     "name": "stdout",
     "output_type": "stream",
     "text": [
      "Ingrese numeros correctamente (INT)\n"
     ]
    }
   ],
   "source": [
    "sumar(\"31\", \"23\")"
   ]
  },
  {
   "cell_type": "code",
   "execution_count": 56,
   "id": "collective-reaction",
   "metadata": {},
   "outputs": [],
   "source": [
    "def sumar(a, b):\n",
    "    if type(a) == int and type(b) == int:\n",
    "        resultado = a + b\n",
    "        # ESCRIBO LA PALABRA return\n",
    "        # dejar espacio y escribir el valor que voy a devolver\n",
    "        return resultado \n",
    "    else:\n",
    "        print(\"Ingrese numeros correctamente (INT)\")\n",
    "        #raise TypeError(\"Ingrese numeros correctamente (INT)\")"
   ]
  },
  {
   "cell_type": "code",
   "execution_count": 58,
   "id": "hawaiian-acceptance",
   "metadata": {},
   "outputs": [
    {
     "data": {
      "text/plain": [
       "array([0, 1, 2, 3, 4, 5])"
      ]
     },
     "execution_count": 58,
     "metadata": {},
     "output_type": "execute_result"
    }
   ],
   "source": [
    "number1 = 2\n",
    "number2 = 3\n",
    "\n",
    "resultado_de_suma = sumar(number1, number2)\n",
    "np.arange(0, resultado_de_suma + 1)"
   ]
  },
  {
   "cell_type": "code",
   "execution_count": 61,
   "id": "chicken-university",
   "metadata": {},
   "outputs": [
    {
     "data": {
      "text/latex": [
       "$\\displaystyle x$"
      ],
      "text/plain": [
       "x"
      ]
     },
     "execution_count": 61,
     "metadata": {},
     "output_type": "execute_result"
    }
   ],
   "source": [
    "# cargas en kN\n",
    "P = 700\n",
    "Q = 50\n",
    "R = 150\n",
    "# metros\n",
    "L = 2.5\n",
    "# dimensiones seccion en mm\n",
    "b = 400\n",
    "h = 300\n",
    "t = 5\n",
    "# simbolo de posicion de longitud (m)\n",
    "x = sp.symbols('x')\n",
    "x"
   ]
  },
  {
   "cell_type": "code",
   "execution_count": 67,
   "id": "fifty-census",
   "metadata": {},
   "outputs": [
    {
     "data": {
      "text/plain": [
       "(233.83093525179856, 26669739.583333336, 29801709.007793766)"
      ]
     },
     "execution_count": 67,
     "metadata": {},
     "output_type": "execute_result"
    }
   ],
   "source": [
    "A = b * t + (h - t) * t\n",
    "centroide = (b * t * (h - t / 2) + (h - t) * t * (h - t) / 2) / A\n",
    "# mm4\n",
    "Iy = b ** 3 * t / 12 + (h - t) * t ** 3 / 12\n",
    "# mm4\n",
    "Iz = b * t ** 3 / 12 + (h - t) ** 3 * t / 12 + b * t * ((h - t / 2) - centroide) ** 2 + (h - t) * t * ((h - t) / 2 - centroide) ** 2\n",
    "centroide, Iy, Iz"
   ]
  },
  {
   "cell_type": "code",
   "execution_count": 76,
   "id": "level-pastor",
   "metadata": {},
   "outputs": [
    {
     "data": {
      "text/plain": [
       "<matplotlib.lines.Line2D at 0x1e559e2a880>"
      ]
     },
     "execution_count": 76,
     "metadata": {},
     "output_type": "execute_result"
    },
    {
     "data": {
      "image/png": "[encoded data removed]",
      "text/plain": [
       "<Figure size 432x288 with 1 Axes>"
      ]
     },
     "metadata": {
      "needs_background": "light"
     },
     "output_type": "display_data"
    }
   ],
   "source": [
    "# PLANO X - Y\n",
    "cortante = -R\n",
    "momento_reaccion = -R * L\n",
    "momento_tramo_1 = -momento_reaccion + sp.integrate(cortante, x)\n",
    "\n",
    "x_array = np.arange(0, L + 0.05, 0.05)\n",
    "y = sp.lambdify(x, momento_tramo_1)(x_array)\n",
    "plt.plot(x_array, y)\n",
    "plt.axhline(0, color=\"gray\", linestyle='--')\n",
    "plt.axvline(0, color=\"gray\", linestyle='--')"
   ]
  },
  {
   "cell_type": "code",
   "execution_count": 80,
   "id": "flush-point",
   "metadata": {},
   "outputs": [
    {
     "data": {
      "text/plain": [
       "<matplotlib.lines.Line2D at 0x1e559dd0f10>"
      ]
     },
     "execution_count": 80,
     "metadata": {},
     "output_type": "execute_result"
    },
    {
     "data": {
      "image/png": "[encoded data removed]",
      "text/plain": [
       "<Figure size 432x288 with 1 Axes>"
      ]
     },
     "metadata": {
      "needs_background": "light"
     },
     "output_type": "display_data"
    }
   ],
   "source": [
    "# PLANO X - Z\n",
    "cortante = Q\n",
    "momento_reaccion = Q * L\n",
    "momento_tramo_2 = -momento_reaccion + sp.integrate(cortante, x)\n",
    "\n",
    "y = sp.lambdify(x, momento_tramo_2)(x_array)\n",
    "plt.plot(x_array, y)\n",
    "plt.axhline(0, color=\"gray\", linestyle='--')\n",
    "plt.axvline(0, color=\"gray\", linestyle='--')"
   ]
  },
  {
   "cell_type": "code",
   "execution_count": 81,
   "id": "czech-amazon",
   "metadata": {},
   "outputs": [],
   "source": [
    "def obtener_esfuerzos_seccion(valor_x, y, z):\n",
    "    # MPa\n",
    "    compresion = - P * 10 ** 3 / A\n",
    "    My = momento_tramo_2.subs(x, valor_x)\n",
    "    Mz = momento_tramo_1.subs(x, valor_x)\n",
    "    return compresion + My * 10 ** 6 * z / Iy - Mz * 10 ** 6 * y / Iz"
   ]
  },
  {
   "cell_type": "code",
   "execution_count": 83,
   "id": "recreational-saudi",
   "metadata": {},
   "outputs": [
    {
     "data": {
      "text/latex": [
       "$\\displaystyle -1971.44748458559$"
      ],
      "text/plain": [
       "-1971.44748458559"
      ]
     },
     "execution_count": 83,
     "metadata": {},
     "output_type": "execute_result"
    }
   ],
   "source": [
    "# MPa\n",
    "obtener_esfuerzos_seccion(0, h - centroide, b / 2)"
   ]
  },
  {
   "cell_type": "code",
   "execution_count": 85,
   "id": "visible-washer",
   "metadata": {},
   "outputs": [
    {
     "data": {
      "text/latex": [
       "$\\displaystyle -96.663524143531$"
      ],
      "text/plain": [
       "-96.6635241435310"
      ]
     },
     "execution_count": 85,
     "metadata": {},
     "output_type": "execute_result"
    }
   ],
   "source": [
    "obtener_esfuerzos_seccion(0, h - centroide, -b / 2)"
   ]
  },
  {
   "cell_type": "code",
   "execution_count": 87,
   "id": "unusual-spyware",
   "metadata": {},
   "outputs": [
    {
     "data": {
      "text/latex": [
       "$\\displaystyle 2752.61318997936$"
      ],
      "text/plain": [
       "2752.61318997936"
      ]
     },
     "execution_count": 87,
     "metadata": {},
     "output_type": "execute_result"
    }
   ],
   "source": [
    "obtener_esfuerzos_seccion(0, - centroide, -t / 2)"
   ]
  },
  {
   "cell_type": "code",
   "execution_count": 89,
   "id": "underlying-litigation",
   "metadata": {},
   "outputs": [
    {
     "data": {
      "text/plain": [
       "array([-96.6635241435310, -99.0070040940836, -101.350484044636,\n",
       "       -103.693963995189, -106.037443945741, -108.380923896294,\n",
       "       -110.724403846846, -113.067883797399, -115.411363747952,\n",
       "       -117.754843698504, -120.098323649057, -122.441803599609,\n",
       "       -124.785283550162, -127.128763500715, -129.472243451267,\n",
       "       -131.815723401820, -134.159203352372, -136.502683302925,\n",
       "       -138.846163253477, -141.189643204030, -143.533123154583,\n",
       "       -145.876603105135, -148.220083055688, -150.563563006240,\n",
       "       -152.907042956793, -155.250522907345, -157.594002857898,\n",
       "       -159.937482808451, -162.280962759003, -164.624442709556,\n",
       "       -166.967922660108, -169.311402610661, -171.654882561213,\n",
       "       -173.998362511766, -176.341842462318, -178.685322412871,\n",
       "       -181.028802363424, -183.372282313976, -185.715762264529,\n",
       "       -188.059242215081, -190.402722165634, -192.746202116187,\n",
       "       -195.089682066739, -197.433162017292, -199.776641967844,\n",
       "       -202.120121918397, -204.463601868949, -206.807081819502,\n",
       "       -209.150561770055, -211.494041720607, -213.837521671160,\n",
       "       -216.181001621712, -218.524481572265, -220.867961522817,\n",
       "       -223.211441473370, -225.554921423923, -227.898401374475,\n",
       "       -230.241881325028, -232.585361275580, -234.928841226133,\n",
       "       -237.272321176685, -239.615801127238, -241.959281077791,\n",
       "       -244.302761028343, -246.646240978896, -248.989720929448,\n",
       "       -251.333200880001, -253.676680830553, -256.020160781106,\n",
       "       -258.363640731659, -260.707120682211, -263.050600632764,\n",
       "       -265.394080583316, -267.737560533869, -270.081040484421,\n",
       "       -272.424520434974, -274.768000385527, -277.111480336079,\n",
       "       -279.454960286632, -281.798440237184, -284.141920187737,\n",
       "       -286.485400138289, -288.828880088842, -291.172360039395,\n",
       "       -293.515839989947, -295.859319940500, -298.202799891052,\n",
       "       -300.546279841605, -302.889759792158, -305.233239742710,\n",
       "       -307.576719693263, -309.920199643815, -312.263679594368,\n",
       "       -314.607159544920, -316.950639495473, -319.294119446025,\n",
       "       -321.637599396578, -323.981079347131, -326.324559297683,\n",
       "       -328.668039248236, -331.011519198788, -333.354999149341,\n",
       "       -335.698479099893, -338.041959050446, -340.385439000999,\n",
       "       -342.728918951551, -345.072398902104, -347.415878852656,\n",
       "       -349.759358803209, -352.102838753761, -354.446318704314,\n",
       "       -356.789798654867, -359.133278605419, -361.476758555972,\n",
       "       -363.820238506524, -366.163718457077, -368.507198407630,\n",
       "       -370.850678358182, -373.194158308735, -375.537638259287,\n",
       "       -377.881118209840, -380.224598160392, -382.568078110945,\n",
       "       -384.911558061498, -387.255038012050, -389.598517962603,\n",
       "       -391.941997913155, -394.285477863708, -396.628957814260,\n",
       "       -398.972437764813, -401.315917715366, -403.659397665918,\n",
       "       -406.002877616471, -408.346357567023, -410.689837517576,\n",
       "       -413.033317468128, -415.376797418681, -417.720277369233,\n",
       "       -420.063757319786, -422.407237270339, -424.750717220891,\n",
       "       -427.094197171444, -429.437677121996, -431.781157072549,\n",
       "       -434.124637023102, -436.468116973654, -438.811596924207,\n",
       "       -441.155076874759, -443.498556825312, -445.842036775864,\n",
       "       -448.185516726417, -450.528996676970, -452.872476627522,\n",
       "       -455.215956578075, -457.559436528627, -459.902916479180,\n",
       "       -462.246396429732, -464.589876380285, -466.933356330838,\n",
       "       -469.276836281390, -471.620316231943, -473.963796182495,\n",
       "       -476.307276133048, -478.650756083600, -480.994236034153,\n",
       "       -483.337715984706, -485.681195935258, -488.024675885811,\n",
       "       -490.368155836363, -492.711635786916, -495.055115737468,\n",
       "       -497.398595688021, -499.742075638574, -502.085555589126,\n",
       "       -504.429035539679, -506.772515490231, -509.115995440784,\n",
       "       -511.459475391336, -513.802955341889, -516.146435292442,\n",
       "       -518.489915242994, -520.833395193547, -523.176875144099,\n",
       "       -525.520355094652, -527.863835045204, -530.207314995757,\n",
       "       -532.550794946310, -534.894274896862, -537.237754847415,\n",
       "       -539.581234797967, -541.924714748520, -544.268194699073,\n",
       "       -546.611674649625, -548.955154600178, -551.298634550730,\n",
       "       -553.642114501283, -555.985594451835, -558.329074402388,\n",
       "       -560.672554352941, -563.016034303493, -565.359514254046,\n",
       "       -567.702994204598, -570.046474155151, -572.389954105703,\n",
       "       -574.733434056256, -577.076914006808, -579.420393957361,\n",
       "       -581.763873907914, -584.107353858466, -586.450833809019,\n",
       "       -588.794313759571, -591.137793710124, -593.481273660676,\n",
       "       -595.824753611229, -598.168233561782, -600.511713512334,\n",
       "       -602.855193462887, -605.198673413439, -607.542153363992,\n",
       "       -609.885633314545, -612.229113265097, -614.572593215650,\n",
       "       -616.916073166202, -619.259553116755, -621.603033067307,\n",
       "       -623.946513017860, -626.289992968413, -628.633472918965,\n",
       "       -630.976952869518, -633.320432820070, -635.663912770623,\n",
       "       -638.007392721175, -640.350872671728, -642.694352622281,\n",
       "       -645.037832572833, -647.381312523386, -649.724792473938,\n",
       "       -652.068272424491, -654.411752375043, -656.755232325596,\n",
       "       -659.098712276149, -661.442192226701, -663.785672177254,\n",
       "       -666.129152127806, -668.472632078359, -670.816112028911,\n",
       "       -673.159591979464, -675.503071930017, -677.846551880569,\n",
       "       -680.190031831122, -682.533511781674, -684.876991732227,\n",
       "       -687.220471682779, -689.563951633332, -691.907431583885,\n",
       "       -694.250911534437, -696.594391484990, -698.937871435542,\n",
       "       -701.281351386095, -703.624831336648, -705.968311287200,\n",
       "       -708.311791237753, -710.655271188305, -712.998751138858,\n",
       "       -715.342231089410, -717.685711039963, -720.029190990515,\n",
       "       -722.372670941068, -724.716150891621, -727.059630842173,\n",
       "       -729.403110792726, -731.746590743278, -734.090070693831,\n",
       "       -736.433550644383, -738.777030594936, -741.120510545489,\n",
       "       -743.463990496041, -745.807470446594, -748.150950397146,\n",
       "       -750.494430347699, -752.837910298251, -755.181390248804,\n",
       "       -757.524870199357, -759.868350149909, -762.211830100462,\n",
       "       -764.555310051014, -766.898790001567, -769.242269952119,\n",
       "       -771.585749902672, -773.929229853225, -776.272709803777,\n",
       "       -778.616189754330, -780.959669704882, -783.303149655435,\n",
       "       -785.646629605988, -787.990109556540, -790.333589507093,\n",
       "       -792.677069457645, -795.020549408198, -797.364029358750,\n",
       "       -799.707509309303, -802.050989259855, -804.394469210408,\n",
       "       -806.737949160961, -809.081429111513, -811.424909062066,\n",
       "       -813.768389012618, -816.111868963171, -818.455348913724,\n",
       "       -820.798828864276, -823.142308814829, -825.485788765381,\n",
       "       -827.829268715934, -830.172748666486, -832.516228617039,\n",
       "       -834.859708567591, -837.203188518144, -839.546668468697,\n",
       "       -841.890148419249, -844.233628369802, -846.577108320354,\n",
       "       -848.920588270907, -851.264068221460, -853.607548172012,\n",
       "       -855.951028122565, -858.294508073117, -860.637988023670,\n",
       "       -862.981467974222, -865.324947924775, -867.668427875328,\n",
       "       -870.011907825880, -872.355387776433, -874.698867726985,\n",
       "       -877.042347677538, -879.385827628090, -881.729307578643,\n",
       "       -884.072787529196, -886.416267479748, -888.759747430301,\n",
       "       -891.103227380853, -893.446707331406, -895.790187281958,\n",
       "       -898.133667232511, -900.477147183064, -902.820627133616,\n",
       "       -905.164107084169, -907.507587034721, -909.851066985274,\n",
       "       -912.194546935826, -914.538026886379, -916.881506836932,\n",
       "       -919.224986787484, -921.568466738037, -923.911946688589,\n",
       "       -926.255426639142, -928.598906589694, -930.942386540247,\n",
       "       -933.285866490800, -935.629346441352, -937.972826391905,\n",
       "       -940.316306342457, -942.659786293010, -945.003266243562,\n",
       "       -947.346746194115, -949.690226144668, -952.033706095220,\n",
       "       -954.377186045773, -956.720665996325, -959.064145946878,\n",
       "       -961.407625897431, -963.751105847983, -966.094585798536,\n",
       "       -968.438065749088, -970.781545699641, -973.125025650193,\n",
       "       -975.468505600746, -977.811985551298, -980.155465501851,\n",
       "       -982.498945452404, -984.842425402956, -987.185905353509,\n",
       "       -989.529385304061, -991.872865254614, -994.216345205166,\n",
       "       -996.559825155719, -998.903305106272, -1001.24678505682,\n",
       "       -1003.59026500738, -1005.93374495793, -1008.27722490848,\n",
       "       -1010.62070485903, -1012.96418480959, -1015.30766476014,\n",
       "       -1017.65114471069, -1019.99462466124, -1022.33810461180,\n",
       "       -1024.68158456235, -1027.02506451290, -1029.36854446346,\n",
       "       -1031.71202441401, -1034.05550436456, -1036.39898431511,\n",
       "       -1038.74246426567, -1041.08594421622, -1043.42942416677,\n",
       "       -1045.77290411732, -1048.11638406788, -1050.45986401843,\n",
       "       -1052.80334396898, -1055.14682391953, -1057.49030387009,\n",
       "       -1059.83378382064, -1062.17726377119, -1064.52074372174,\n",
       "       -1066.86422367230, -1069.20770362285, -1071.55118357340,\n",
       "       -1073.89466352395, -1076.23814347451, -1078.58162342506,\n",
       "       -1080.92510337561, -1083.26858332616, -1085.61206327672,\n",
       "       -1087.95554322727, -1090.29902317782, -1092.64250312837,\n",
       "       -1094.98598307893, -1097.32946302948, -1099.67294298003,\n",
       "       -1102.01642293058, -1104.35990288114, -1106.70338283169,\n",
       "       -1109.04686278224, -1111.39034273280, -1113.73382268335,\n",
       "       -1116.07730263390, -1118.42078258445, -1120.76426253501,\n",
       "       -1123.10774248556, -1125.45122243611, -1127.79470238666,\n",
       "       -1130.13818233722, -1132.48166228777, -1134.82514223832,\n",
       "       -1137.16862218887, -1139.51210213943, -1141.85558208998,\n",
       "       -1144.19906204053, -1146.54254199108, -1148.88602194164,\n",
       "       -1151.22950189219, -1153.57298184274, -1155.91646179329,\n",
       "       -1158.25994174385, -1160.60342169440, -1162.94690164495,\n",
       "       -1165.29038159550, -1167.63386154606, -1169.97734149661,\n",
       "       -1172.32082144716, -1174.66430139771, -1177.00778134827,\n",
       "       -1179.35126129882, -1181.69474124937, -1184.03822119992,\n",
       "       -1186.38170115048, -1188.72518110103, -1191.06866105158,\n",
       "       -1193.41214100214, -1195.75562095269, -1198.09910090324,\n",
       "       -1200.44258085379, -1202.78606080435, -1205.12954075490,\n",
       "       -1207.47302070545, -1209.81650065600, -1212.15998060656,\n",
       "       -1214.50346055711, -1216.84694050766, -1219.19042045821,\n",
       "       -1221.53390040877, -1223.87738035932, -1226.22086030987,\n",
       "       -1228.56434026042, -1230.90782021098, -1233.25130016153,\n",
       "       -1235.59478011208, -1237.93826006263, -1240.28174001319,\n",
       "       -1242.62521996374, -1244.96869991429, -1247.31217986484,\n",
       "       -1249.65565981540, -1251.99913976595, -1254.34261971650,\n",
       "       -1256.68609966705, -1259.02957961761, -1261.37305956816,\n",
       "       -1263.71653951871, -1266.06001946926, -1268.40349941982,\n",
       "       -1270.74697937037, -1273.09045932092, -1275.43393927148,\n",
       "       -1277.77741922203, -1280.12089917258, -1282.46437912313,\n",
       "       -1284.80785907369, -1287.15133902424, -1289.49481897479,\n",
       "       -1291.83829892534, -1294.18177887590, -1296.52525882645,\n",
       "       -1298.86873877700, -1301.21221872755, -1303.55569867811,\n",
       "       -1305.89917862866, -1308.24265857921, -1310.58613852976,\n",
       "       -1312.92961848032, -1315.27309843087, -1317.61657838142,\n",
       "       -1319.96005833197, -1322.30353828253, -1324.64701823308,\n",
       "       -1326.99049818363, -1329.33397813418, -1331.67745808474,\n",
       "       -1334.02093803529, -1336.36441798584, -1338.70789793639,\n",
       "       -1341.05137788695, -1343.39485783750, -1345.73833778805,\n",
       "       -1348.08181773860, -1350.42529768916, -1352.76877763971,\n",
       "       -1355.11225759026, -1357.45573754082, -1359.79921749137,\n",
       "       -1362.14269744192, -1364.48617739247, -1366.82965734303,\n",
       "       -1369.17313729358, -1371.51661724413, -1373.86009719468,\n",
       "       -1376.20357714524, -1378.54705709579, -1380.89053704634,\n",
       "       -1383.23401699689, -1385.57749694745, -1387.92097689800,\n",
       "       -1390.26445684855, -1392.60793679910, -1394.95141674966,\n",
       "       -1397.29489670021, -1399.63837665076, -1401.98185660131,\n",
       "       -1404.32533655187, -1406.66881650242, -1409.01229645297,\n",
       "       -1411.35577640352, -1413.69925635408, -1416.04273630463,\n",
       "       -1418.38621625518, -1420.72969620573, -1423.07317615629,\n",
       "       -1425.41665610684, -1427.76013605739, -1430.10361600794,\n",
       "       -1432.44709595850, -1434.79057590905, -1437.13405585960,\n",
       "       -1439.47753581016, -1441.82101576071, -1444.16449571126,\n",
       "       -1446.50797566181, -1448.85145561237, -1451.19493556292,\n",
       "       -1453.53841551347, -1455.88189546402, -1458.22537541458,\n",
       "       -1460.56885536513, -1462.91233531568, -1465.25581526623,\n",
       "       -1467.59929521679, -1469.94277516734, -1472.28625511789,\n",
       "       -1474.62973506844, -1476.97321501900, -1479.31669496955,\n",
       "       -1481.66017492010, -1484.00365487065, -1486.34713482121,\n",
       "       -1488.69061477176, -1491.03409472231, -1493.37757467286,\n",
       "       -1495.72105462342, -1498.06453457397, -1500.40801452452,\n",
       "       -1502.75149447507, -1505.09497442563, -1507.43845437618,\n",
       "       -1509.78193432673, -1512.12541427729, -1514.46889422784,\n",
       "       -1516.81237417839, -1519.15585412894, -1521.49933407950,\n",
       "       -1523.84281403005, -1526.18629398060, -1528.52977393115,\n",
       "       -1530.87325388171, -1533.21673383226, -1535.56021378281,\n",
       "       -1537.90369373336, -1540.24717368392, -1542.59065363447,\n",
       "       -1544.93413358502, -1547.27761353557, -1549.62109348613,\n",
       "       -1551.96457343668, -1554.30805338723, -1556.65153333778,\n",
       "       -1558.99501328834, -1561.33849323889, -1563.68197318944,\n",
       "       -1566.02545313999, -1568.36893309055, -1570.71241304110,\n",
       "       -1573.05589299165, -1575.39937294220, -1577.74285289276,\n",
       "       -1580.08633284331, -1582.42981279386, -1584.77329274441,\n",
       "       -1587.11677269497, -1589.46025264552, -1591.80373259607,\n",
       "       -1594.14721254663, -1596.49069249718, -1598.83417244773,\n",
       "       -1601.17765239828, -1603.52113234884, -1605.86461229939,\n",
       "       -1608.20809224994, -1610.55157220049, -1612.89505215105,\n",
       "       -1615.23853210160, -1617.58201205215, -1619.92549200270,\n",
       "       -1622.26897195326, -1624.61245190381, -1626.95593185436,\n",
       "       -1629.29941180491, -1631.64289175547, -1633.98637170602,\n",
       "       -1636.32985165657, -1638.67333160712, -1641.01681155768,\n",
       "       -1643.36029150823, -1645.70377145878, -1648.04725140933,\n",
       "       -1650.39073135989, -1652.73421131044, -1655.07769126099,\n",
       "       -1657.42117121154, -1659.76465116210, -1662.10813111265,\n",
       "       -1664.45161106320, -1666.79509101375, -1669.13857096431,\n",
       "       -1671.48205091486, -1673.82553086541, -1676.16901081597,\n",
       "       -1678.51249076652, -1680.85597071707, -1683.19945066762,\n",
       "       -1685.54293061818, -1687.88641056873, -1690.22989051928,\n",
       "       -1692.57337046983, -1694.91685042039, -1697.26033037094,\n",
       "       -1699.60381032149, -1701.94729027204, -1704.29077022260,\n",
       "       -1706.63425017315, -1708.97773012370, -1711.32121007425,\n",
       "       -1713.66469002481, -1716.00816997536, -1718.35164992591,\n",
       "       -1720.69512987646, -1723.03860982702, -1725.38208977757,\n",
       "       -1727.72556972812, -1730.06904967867, -1732.41252962923,\n",
       "       -1734.75600957978, -1737.09948953033, -1739.44296948088,\n",
       "       -1741.78644943144, -1744.12992938199, -1746.47340933254,\n",
       "       -1748.81688928309, -1751.16036923365, -1753.50384918420,\n",
       "       -1755.84732913475, -1758.19080908531, -1760.53428903586,\n",
       "       -1762.87776898641, -1765.22124893696, -1767.56472888752,\n",
       "       -1769.90820883807, -1772.25168878862, -1774.59516873917,\n",
       "       -1776.93864868973, -1779.28212864028, -1781.62560859083,\n",
       "       -1783.96908854138, -1786.31256849194, -1788.65604844249,\n",
       "       -1790.99952839304, -1793.34300834359, -1795.68648829415,\n",
       "       -1798.02996824470, -1800.37344819525, -1802.71692814580,\n",
       "       -1805.06040809636, -1807.40388804691, -1809.74736799746,\n",
       "       -1812.09084794801, -1814.43432789857, -1816.77780784912,\n",
       "       -1819.12128779967, -1821.46476775022, -1823.80824770078,\n",
       "       -1826.15172765133, -1828.49520760188, -1830.83868755243,\n",
       "       -1833.18216750299, -1835.52564745354, -1837.86912740409,\n",
       "       -1840.21260735465, -1842.55608730520, -1844.89956725575,\n",
       "       -1847.24304720630, -1849.58652715686, -1851.93000710741,\n",
       "       -1854.27348705796, -1856.61696700851, -1858.96044695907,\n",
       "       -1861.30392690962, -1863.64740686017, -1865.99088681072,\n",
       "       -1868.33436676128, -1870.67784671183, -1873.02132666238,\n",
       "       -1875.36480661293, -1877.70828656349, -1880.05176651404,\n",
       "       -1882.39524646459, -1884.73872641514, -1887.08220636570,\n",
       "       -1889.42568631625, -1891.76916626680, -1894.11264621735,\n",
       "       -1896.45612616791, -1898.79960611846, -1901.14308606901,\n",
       "       -1903.48656601956, -1905.83004597012, -1908.17352592067,\n",
       "       -1910.51700587122, -1912.86048582178, -1915.20396577233,\n",
       "       -1917.54744572288, -1919.89092567343, -1922.23440562399,\n",
       "       -1924.57788557454, -1926.92136552509, -1929.26484547564,\n",
       "       -1931.60832542620, -1933.95180537675, -1936.29528532730,\n",
       "       -1938.63876527785, -1940.98224522841, -1943.32572517896,\n",
       "       -1945.66920512951, -1948.01268508006, -1950.35616503062,\n",
       "       -1952.69964498117, -1955.04312493172, -1957.38660488227,\n",
       "       -1959.73008483283, -1962.07356478338, -1964.41704473393,\n",
       "       -1966.76052468448, -1969.10400463504, -1971.44748458559],\n",
       "      dtype=object)"
      ]
     },
     "execution_count": 89,
     "metadata": {},
     "output_type": "execute_result"
    }
   ],
   "source": [
    "obtener_esfuerzos_seccion(0, h - centroide, np.arange(-b / 2, b / 2 + 0.5, 0.5))"
   ]
  },
  {
   "cell_type": "code",
   "execution_count": 96,
   "id": "motivated-office",
   "metadata": {},
   "outputs": [
    {
     "data": {
      "image/png": "[encoded data removed]",
      "text/plain": [
       "<Figure size 432x288 with 1 Axes>"
      ]
     },
     "metadata": {
      "needs_background": "light"
     },
     "output_type": "display_data"
    }
   ],
   "source": [
    "# eje neutro\n",
    "def graficar_eje_neutro(valor_x):\n",
    "    if valor_x < L:\n",
    "        y_neutro = np.arange(-centroide, h - centroide + 0.5, 0.5)\n",
    "        z_neutro = (P * 10 ** 3 / A + float(momento_tramo_1.subs(x, valor_x)) * 10 ** 6 * y_neutro / Iz) * (Iy / (float(momento_tramo_2.subs(x, valor_x)) * 10 ** 6))\n",
    "        plt.plot(z_neutro, y_neutro, linestyle=\"--\")\n",
    "    else:\n",
    "        plt.title(\"Toda la sección se somete a esfuerzo\")\n",
    "    plt.plot([-b / 2, b / 2, b / 2, t / 2, t / 2, - t / 2, -t / 2, -b / 2, -b / 2], [h - centroide, h - centroide, h - centroide - t, h - centroide - t, -centroide, -centroide, h - centroide - t, h - centroide - t, h - centroide])\n",
    "    plt.xlim([-b / 2  - 50, b / 2 + 50])\n",
    "\n",
    "graficar_eje_neutro(0)"
   ]
  }
 ],
 "metadata": {
  "kernelspec": {
   "display_name": "Python 3",
   "language": "python",
   "name": "python3"
  },
  "language_info": {
   "codemirror_mode": {
    "name": "ipython",
    "version": 3
   },
   "file_extension": ".py",
   "mimetype": "text/x-python",
   "name": "python",
   "nbconvert_exporter": "python",
   "pygments_lexer": "ipython3",
   "version": "3.8.5"
  }
 },
 "nbformat": 4,
 "nbformat_minor": 5
}
