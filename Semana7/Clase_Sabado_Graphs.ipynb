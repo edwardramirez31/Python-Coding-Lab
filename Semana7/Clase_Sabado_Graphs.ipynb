{
 "cells": [
  {
   "cell_type": "code",
   "execution_count": 44,
   "id": "architectural-feelings",
   "metadata": {},
   "outputs": [],
   "source": [
    "import sympy as sp\n",
    "import numpy as np\n",
    "import pandas as pd\n",
    "import matplotlib.pyplot as plt"
   ]
  },
  {
   "cell_type": "code",
   "execution_count": 4,
   "id": "communist-locking",
   "metadata": {},
   "outputs": [],
   "source": [
    "# longitudes en metros\n",
    "L1 = 0.25\n",
    "L2 = 0.5\n",
    "L3 = 2\n",
    "# cargas kN\n",
    "F_aplicada_B = -3 \n",
    "F_aplicada_C = 8\n",
    "# distribuida kN / m\n",
    "w = 4.8"
   ]
  },
  {
   "cell_type": "code",
   "execution_count": 7,
   "id": "quality-appraisal",
   "metadata": {},
   "outputs": [
    {
     "name": "stdout",
     "output_type": "stream",
     "text": [
      "Ingrese la longitud del tramo 1 en metros: 5\n"
     ]
    }
   ],
   "source": [
    "# PROBLEMA 2: MUCHO CÓDIGO DUPLICADO\n",
    "# longitudes en metros\n",
    "L1 = float(input(\"Ingrese la longitud del tramo 1 en metros: \"))\n",
    "L2 = float(input(\"Ingrese la longitud del tramo 2 en metros: \"))\n",
    "L3 = float(input(\"Ingrese la longitud del tramo 3 en metros: \"))\n",
    "# cargas kN\n",
    "F_aplicada_B = float(input(\"Ingrese la longitud del tramo 1 en metros: \"))\n",
    "F_aplicada_C = float(input(\"Ingrese la longitud del tramo 1 en metros: \"))\n",
    "# distribuida kN / m\n",
    "w = float(input(\"Ingrese la longitud del tramo 1 en metros: \"))"
   ]
  },
  {
   "cell_type": "code",
   "execution_count": 77,
   "id": "joined-brake",
   "metadata": {},
   "outputs": [
    {
     "name": "stdout",
     "output_type": "stream",
     "text": [
      "Ingrese Longitud tramo 1: 5\n",
      "Ingrese Longitud tramo 2: 5\n"
     ]
    }
   ],
   "source": [
    "# SOLUCION: BUCLE\n",
    "# guardar en una estructura todas las variables que vamos a pedir\n",
    "variables = [\n",
    "    \"Longitud tramo 1\",\n",
    "    \"Longitud tramo 2\",\n",
    "]\n",
    "\n",
    "for variable in variables:\n",
    "    valor_entrada = input(f\"Ingrese {variable}: \")"
   ]
  },
  {
   "cell_type": "markdown",
   "id": "waiting-riverside",
   "metadata": {},
   "source": [
    "# SOLUCION ÓPTIMA: USAR DICCIONARIOS"
   ]
  },
  {
   "cell_type": "code",
   "execution_count": 6,
   "id": "incorporated-stuff",
   "metadata": {},
   "outputs": [
    {
     "data": {
      "text/plain": [
       "{'L1': 'metros',\n",
       " 'L2': 'metros',\n",
       " 'L3': 'metros',\n",
       " 'F_aplicada_B': 'kN',\n",
       " 'F_aplicada_C': 'kN',\n",
       " 'w': 'kN / m'}"
      ]
     },
     "execution_count": 6,
     "metadata": {},
     "output_type": "execute_result"
    }
   ],
   "source": [
    "viga = {\n",
    "    \"L1\": \"metros\",\n",
    "    \"L2\": \"metros\",\n",
    "    \"L3\": \"metros\",\n",
    "    \"F_aplicada_B\": \"kN\",\n",
    "    \"F_aplicada_C\": \"kN\",\n",
    "    \"w\": \"kN / m\",\n",
    "}\n",
    "viga"
   ]
  },
  {
   "cell_type": "code",
   "execution_count": 24,
   "id": "interested-barbados",
   "metadata": {},
   "outputs": [
    {
     "data": {
      "text/plain": [
       "{'L1': 5.0,\n",
       " 'L2': 3.0,\n",
       " 'L3': 2.0,\n",
       " 'F_aplicada_B': '',\n",
       " 'F_aplicada_C': '',\n",
       " 'w': '',\n",
       " 'carga': 5}"
      ]
     },
     "execution_count": 24,
     "metadata": {},
     "output_type": "execute_result"
    }
   ],
   "source": [
    "# problema 1 diccionarios: como guardo dentro de las llaves\n",
    "viga[\"L1\"] = True\n",
    "viga"
   ]
  },
  {
   "cell_type": "code",
   "execution_count": 17,
   "id": "incoming-meditation",
   "metadata": {},
   "outputs": [
    {
     "name": "stdout",
     "output_type": "stream",
     "text": [
      "Ingrese el valor de L1 en 5.0: 0.25\n",
      "Ingrese el valor de L2 en 4.0: 0.5\n",
      "Ingrese el valor de L3 en 5.0: 2\n",
      "Ingrese el valor de F_aplicada_B en 55.0: -3\n",
      "Ingrese el valor de F_aplicada_C en 1.0: 8\n",
      "Ingrese el valor de w en 5.0: 4.8\n",
      "{'L1': 0.25, 'L2': 0.5, 'L3': 2.0, 'F_aplicada_B': -3.0, 'F_aplicada_C': 8.0, 'w': 4.8}\n"
     ]
    }
   ],
   "source": [
    "# problema 2: como accedo a la llave de forma dinamica\n",
    "# for variable_iteracion in objeto_iterable:\n",
    "    # lo que quiero hacer en cada iteracion\n",
    "\n",
    "# problema 3: float es propenso a errores\n",
    "\n",
    "for llave in viga.keys():\n",
    "    # 2. colocar el codigo propenso a errores dentro del try\n",
    "    while True:\n",
    "        try:\n",
    "            viga[llave] = float(input(f\"Ingrese el valor de {llave} en {viga[llave]}: \"))\n",
    "            break\n",
    "        # 3. colocar el codigo que se ejcute si el error ocurre\n",
    "        except:\n",
    "            print(f\"Hubo un error, ingrese el valor de {llave} correctamente\")\n",
    "\n",
    "print(viga)"
   ]
  },
  {
   "cell_type": "code",
   "execution_count": 12,
   "id": "matched-graham",
   "metadata": {},
   "outputs": [
    {
     "data": {
      "text/plain": [
       "{'L1': 5.0,\n",
       " 'L2': 4.0,\n",
       " 'L3': 5.0,\n",
       " 'F_aplicada_B': 55.0,\n",
       " 'F_aplicada_C': 1.0,\n",
       " 'w': 5.0}"
      ]
     },
     "execution_count": 12,
     "metadata": {},
     "output_type": "execute_result"
    }
   ],
   "source": [
    "viga"
   ]
  },
  {
   "cell_type": "markdown",
   "id": "subjective-metro",
   "metadata": {},
   "source": [
    "# Manejo de excepciones\n",
    "Usamos los bloques de código `try - except`"
   ]
  },
  {
   "cell_type": "code",
   "execution_count": 6,
   "id": "registered-leonard",
   "metadata": {},
   "outputs": [
    {
     "name": "stdout",
     "output_type": "stream",
     "text": [
      "Numero negativo\n"
     ]
    }
   ],
   "source": [
    "number = -5\n",
    "if number > 0:\n",
    "    print(\"Numero es positivo\")\n",
    "else:\n",
    "    print(\"Numero negativo\")\n",
    "    \n"
   ]
  },
  {
   "cell_type": "code",
   "execution_count": 9,
   "id": "willing-database",
   "metadata": {},
   "outputs": [
    {
     "name": "stdout",
     "output_type": "stream",
     "text": [
      "Linea 1\n",
      "25\n",
      "5.0\n",
      "Hola\n",
      "Programa finalizado\n"
     ]
    }
   ],
   "source": [
    "number = \"5\"\n",
    "\n",
    "# va a ejecutar todas las lineas hasta que encuentre un error\n",
    "# en caso de encontrar un error, se para la ejecucion del try y se ejecuta el bloque except\n",
    "try:\n",
    "    print(\"Linea 1\")\n",
    "    print(5 ** 2)\n",
    "    print(float(number))\n",
    "    print(\"Hola\")\n",
    "except:\n",
    "    print(\"Hubo un error ejecutando\")\n",
    "    \n",
    "print(\"Programa finalizado\")"
   ]
  },
  {
   "cell_type": "markdown",
   "id": "cutting-brake",
   "metadata": {},
   "source": [
    "# BUCLES INFINITOS"
   ]
  },
  {
   "cell_type": "code",
   "execution_count": 76,
   "id": "cooked-patrick",
   "metadata": {},
   "outputs": [
    {
     "name": "stdout",
     "output_type": "stream",
     "text": [
      "Ingrese un mensajeHola\n"
     ]
    }
   ],
   "source": [
    "\n",
    "mensaje = \"\"\n",
    "\n",
    "while True:\n",
    "    mensaje = input(\"Ingrese un mensaje\")\n",
    "    if mensaje == \"Hola\":\n",
    "        break"
   ]
  },
  {
   "cell_type": "code",
   "execution_count": 16,
   "id": "lucky-harvard",
   "metadata": {},
   "outputs": [
    {
     "name": "stdout",
     "output_type": "stream",
     "text": [
      "Numero positivo\n",
      "Numero positivo\n",
      "Numero positivo\n",
      "Numero positivo\n",
      "Numero positivo\n",
      "Numero positivo\n"
     ]
    }
   ],
   "source": [
    "number = 6\n",
    "\n",
    "while True:\n",
    "    print(\"Numero positivo\")\n",
    "    number = number - 1\n",
    "    if number == 0:\n",
    "        break"
   ]
  },
  {
   "cell_type": "markdown",
   "id": "bored-absolute",
   "metadata": {},
   "source": [
    "# Ecuaciones equilibrio de la viga"
   ]
  },
  {
   "cell_type": "code",
   "execution_count": 38,
   "id": "furnished-samba",
   "metadata": {},
   "outputs": [],
   "source": [
    "Ax, Ay, Ma, x = sp.symbols(\"Ax Ay Ma x\")"
   ]
  },
  {
   "cell_type": "code",
   "execution_count": 23,
   "id": "allied-leonard",
   "metadata": {},
   "outputs": [
    {
     "data": {
      "text/latex": [
       "$\\displaystyle 2.8$"
      ],
      "text/plain": [
       "2.80000000000000"
      ]
     },
     "execution_count": 23,
     "metadata": {},
     "output_type": "execute_result"
    }
   ],
   "source": [
    "equilibrio_y = Ay + viga['F_aplicada_B'] + viga['F_aplicada_C'] - viga['w'] * (viga['L1'] + viga['L3']) / 2 - viga['w'] * viga['L2']\n",
    "ecuacion_y = sp.Eq(equilibrio_y, 0)\n",
    "fuerza_Ay = sp.solve(ecuacion_y)[0]\n",
    "# en kN\n",
    "fuerza_Ay"
   ]
  },
  {
   "cell_type": "code",
   "execution_count": 24,
   "id": "systematic-rough",
   "metadata": {},
   "outputs": [
    {
     "data": {
      "text/latex": [
       "$\\displaystyle 0$"
      ],
      "text/plain": [
       "0"
      ]
     },
     "execution_count": 24,
     "metadata": {},
     "output_type": "execute_result"
    }
   ],
   "source": [
    "equilibrio_x = Ax + 0\n",
    "ecuacion_x = sp.Eq(equilibrio_x, 0)\n",
    "fuerza_Ax = sp.solve(ecuacion_x)[0]\n",
    "# en kN\n",
    "fuerza_Ax"
   ]
  },
  {
   "cell_type": "code",
   "execution_count": 27,
   "id": "cardiac-swaziland",
   "metadata": {},
   "outputs": [
    {
     "data": {
      "text/latex": [
       "$\\displaystyle 2.85$"
      ],
      "text/plain": [
       "2.85000000000000"
      ]
     },
     "execution_count": 27,
     "metadata": {},
     "output_type": "execute_result"
    }
   ],
   "source": [
    "equilibrio_momentos = Ma + viga['F_aplicada_B'] * viga['L1'] + viga['F_aplicada_C'] * (viga['L1'] + viga['L2']) - viga[\"w\"] * viga[\"L1\"] / 2 * (2 * viga[\"L1\"] / 3) - viga[\"w\"] * viga[\"L2\"] * (viga[\"L1\"] + viga[\"L2\"] / 2) - viga[\"w\"] * viga[\"L3\"] / 2 * (viga[\"L1\"] + viga[\"L2\"] +  viga[\"L3\"] / 3) \n",
    "ecuacion_momentos = sp.Eq(equilibrio_momentos, 0)\n",
    "momento_A = sp.solve(ecuacion_momentos)[0]\n",
    "# kN - m\n",
    "momento_A"
   ]
  },
  {
   "cell_type": "markdown",
   "id": "artistic-faculty",
   "metadata": {},
   "source": [
    "# Funciones de momento"
   ]
  },
  {
   "cell_type": "code",
   "execution_count": 31,
   "id": "charged-ordering",
   "metadata": {},
   "outputs": [
    {
     "data": {
      "text/latex": [
       "$\\displaystyle - 3.2 x^{3} + 2.8 x - 2.85$"
      ],
      "text/plain": [
       "-3.2*x**3 + 2.8*x - 2.85"
      ]
     },
     "execution_count": 31,
     "metadata": {},
     "output_type": "execute_result"
    }
   ],
   "source": [
    "# Tramo1 0 < x < L1\n",
    "funcion_w = viga['w'] * x / viga['L1']\n",
    "cortante_1 = fuerza_Ay - sp.integrate(funcion_w, x)\n",
    "momento_1 = - momento_A + sp.integrate(cortante_1, x)\n",
    "momento_1"
   ]
  },
  {
   "cell_type": "code",
   "execution_count": 33,
   "id": "distinct-wagon",
   "metadata": {},
   "outputs": [
    {
     "data": {
      "text/latex": [
       "$\\displaystyle - 2.4 x^{2} - 0.8 x - 2.2$"
      ],
      "text/plain": [
       "-2.4*x**2 - 0.8*x - 2.2"
      ]
     },
     "execution_count": 33,
     "metadata": {},
     "output_type": "execute_result"
    }
   ],
   "source": [
    "# Tramo2 0 < x < L2\n",
    "funcion_w = viga['w']\n",
    "cortante_2 = viga['F_aplicada_B'] + cortante_1.subs(x, viga['L1']) - sp.integrate(funcion_w, x)\n",
    "momento_2 = momento_1.subs(x, viga['L1']) + sp.integrate(cortante_2, x)\n",
    "momento_2"
   ]
  },
  {
   "cell_type": "code",
   "execution_count": 36,
   "id": "assumed-premises",
   "metadata": {},
   "outputs": [
    {
     "data": {
      "text/latex": [
       "$\\displaystyle 0.4 x^{3} - 2.4 x^{2} + 4.8 x - 3.2$"
      ],
      "text/plain": [
       "0.4*x**3 - 2.4*x**2 + 4.8*x - 3.2"
      ]
     },
     "execution_count": 36,
     "metadata": {},
     "output_type": "execute_result"
    }
   ],
   "source": [
    "# Tramo2 0 < x < L3\n",
    "funcion_w = - viga['w'] * x / viga['L3'] + viga['w']\n",
    "cortante_3 = viga['F_aplicada_C'] + cortante_2.subs(x, viga['L2']) - sp.integrate(funcion_w, x)\n",
    "momento_3 = momento_2.subs(x, viga['L2']) + sp.integrate(cortante_3, x)\n",
    "momento_3"
   ]
  },
  {
   "cell_type": "markdown",
   "id": "burning-alert",
   "metadata": {},
   "source": [
    "# Calcular el momento máximo"
   ]
  },
  {
   "cell_type": "code",
   "execution_count": 75,
   "id": "thrown-preference",
   "metadata": {
    "scrolled": true
   },
   "outputs": [
    {
     "data": {
      "text/plain": [
       "<matplotlib.lines.Line2D at 0x1b9cd028c70>"
      ]
     },
     "execution_count": 75,
     "metadata": {},
     "output_type": "execute_result"
    },
    {
     "data": {
      "image/png": "[encoded data removed]",
      "text/plain": [
       "<Figure size 432x288 with 1 Axes>"
      ]
     },
     "metadata": {
      "needs_background": "light"
     },
     "output_type": "display_data"
    }
   ],
   "source": [
    "x_array = np.arange(0, viga[\"L1\"] + viga[\"L2\"] + viga[\"L3\"] + 0.005, 0.005)\n",
    "\n",
    "tramo1 = sp.lambdify(x, momento_1)(x_array[x_array < viga[\"L1\"]])\n",
    "tramo2 = sp.lambdify(x, momento_2)(x_array[(x_array >= viga[\"L1\"]) & (x_array < (viga[\"L1\"] + viga[\"L2\"]) )] - viga[\"L1\"])\n",
    "tramo3 = sp.lambdify(x, momento_3)(x_array[x_array >= (viga[\"L1\"] + viga[\"L2\"])] - viga[\"L1\"] - viga[\"L2\"])\n",
    "\n",
    "plt.plot(x_array, np.concatenate((tramo1, tramo2, tramo3)))\n",
    "plt.fill_between(x_array, np.concatenate((tramo1, tramo2, tramo3)), alpha=0.25)\n",
    "plt.axvline(0, color=\"gray\")\n",
    "plt.axhline(0, color=\"gray\")"
   ]
  },
  {
   "cell_type": "code",
   "execution_count": 70,
   "id": "lesser-withdrawal",
   "metadata": {},
   "outputs": [],
   "source": [
    "momentos = np.concatenate((tramo1, tramo2, tramo3))\n",
    "maximo_positivo = np.amax(momentos)"
   ]
  },
  {
   "cell_type": "code",
   "execution_count": 72,
   "id": "equipped-lecture",
   "metadata": {},
   "outputs": [],
   "source": [
    "# kN - m\n",
    "maximo_negativo = np.amin(momentos)"
   ]
  },
  {
   "cell_type": "code",
   "execution_count": 73,
   "id": "checked-shopping",
   "metadata": {},
   "outputs": [
    {
     "data": {
      "text/plain": [
       "3.2"
      ]
     },
     "execution_count": 73,
     "metadata": {},
     "output_type": "execute_result"
    }
   ],
   "source": [
    "if np.absolute(maximo_negativo) > maximo_positivo:\n",
    "    maximo = np.absolute(maximo_negativo)\n",
    "else:\n",
    "    maximo = maximo_positivo\n",
    "    \n",
    "maximo"
   ]
  }
 ],
 "metadata": {
  "kernelspec": {
   "display_name": "Python 3",
   "language": "python",
   "name": "python3"
  },
  "language_info": {
   "codemirror_mode": {
    "name": "ipython",
    "version": 3
   },
   "file_extension": ".py",
   "mimetype": "text/x-python",
   "name": "python",
   "nbconvert_exporter": "python",
   "pygments_lexer": "ipython3",
   "version": "3.8.5"
  }
 },
 "nbformat": 4,
 "nbformat_minor": 5
}
