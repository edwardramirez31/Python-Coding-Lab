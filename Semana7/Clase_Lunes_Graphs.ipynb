{
 "cells": [
  {
   "cell_type": "code",
   "execution_count": 1,
   "id": "practical-fiber",
   "metadata": {},
   "outputs": [],
   "source": [
    "import numpy as np\n",
    "import sympy as sp\n",
    "import pandas as pd\n",
    "# pip install pandas numpy sympy"
   ]
  },
  {
   "cell_type": "code",
   "execution_count": 16,
   "id": "historical-school",
   "metadata": {},
   "outputs": [
    {
     "name": "stdout",
     "output_type": "stream",
     "text": [
      "Ingrese L1 en metros: Edward\n",
      "Ingrese correctamente el dato L1 con su unidad en metros\n",
      "Ingrese L1 en metros: dkjsnlfhkda\n",
      "Ingrese correctamente el dato L1 con su unidad en metros\n",
      "Ingrese L1 en metros: 32sdfsdfa\n",
      "Ingrese correctamente el dato L1 con su unidad en metros\n",
      "Ingrese L1 en metros: .32fdssdf\n",
      "Ingrese correctamente el dato L1 con su unidad en metros\n",
      "Ingrese L1 en metros: 0.25\n",
      "Ingrese L2 en metros: sdfsdafas\n",
      "Ingrese correctamente el dato L2 con su unidad en metros\n",
      "Ingrese L2 en metros: sdf3wes\n",
      "Ingrese correctamente el dato L2 con su unidad en metros\n",
      "Ingrese L2 en metros: asdfaw\n",
      "Ingrese correctamente el dato L2 con su unidad en metros\n",
      "Ingrese L2 en metros: sdf\n",
      "Ingrese correctamente el dato L2 con su unidad en metros\n",
      "Ingrese L2 en metros: w\n",
      "Ingrese correctamente el dato L2 con su unidad en metros\n",
      "Ingrese L2 en metros: 0.5\n",
      "Ingrese L3 en metros: 2\n",
      "Ingrese L4 en metros: 5\n",
      "Ingrese w en kN / m: 4.8\n",
      "Ingrese fuerza_B en kN: -3\n",
      "Ingrese fuerza_C en kN: 8\n"
     ]
    }
   ],
   "source": [
    "# longitudes en metros\n",
    "# L1 = float(input(\"Ingrese L1 en metros: \"))\n",
    "# carga distribuida en kN / m\n",
    "# cargas puntuales en kN\n",
    "viga = {\n",
    "    \"L1\": \"metros\",\n",
    "    \"L2\": \"metros\",\n",
    "    \"L3\": \"metros\",\n",
    "    \"L4\": \"metros\",\n",
    "    \"w\": \"kN / m\",\n",
    "    \"fuerza_B\": \"kN\",\n",
    "    \"fuerza_C\": \"kN\",\n",
    "}\n",
    "\n",
    "for llave, valor in viga.items():\n",
    "    while True:\n",
    "        try:\n",
    "            viga[llave] = float(input(f\"Ingrese {llave} en {valor}: \"))\n",
    "            break\n",
    "        except:\n",
    "            print(f\"Ingrese correctamente el dato {llave} con su unidad en {valor}\")"
   ]
  },
  {
   "cell_type": "code",
   "execution_count": 17,
   "id": "dramatic-discount",
   "metadata": {},
   "outputs": [
    {
     "data": {
      "text/plain": [
       "{'L1': 0.25,\n",
       " 'L2': 0.5,\n",
       " 'L3': 2.0,\n",
       " 'L4': 5.0,\n",
       " 'w': 4.8,\n",
       " 'fuerza_B': -3.0,\n",
       " 'fuerza_C': 8.0}"
      ]
     },
     "execution_count": 17,
     "metadata": {},
     "output_type": "execute_result"
    }
   ],
   "source": [
    "viga"
   ]
  },
  {
   "cell_type": "code",
   "execution_count": null,
   "id": "unlimited-upper",
   "metadata": {},
   "outputs": [],
   "source": []
  },
  {
   "cell_type": "code",
   "execution_count": 6,
   "id": "liable-illustration",
   "metadata": {},
   "outputs": [
    {
     "data": {
      "text/plain": [
       "[3, 5, 4, 7, 'String']"
      ]
     },
     "execution_count": 6,
     "metadata": {},
     "output_type": "execute_result"
    }
   ],
   "source": [
    "# diccionarios\n",
    "numeros = [3, 5, 4, 7, \"String\"]\n",
    "numeros"
   ]
  },
  {
   "cell_type": "code",
   "execution_count": 11,
   "id": "amino-rover",
   "metadata": {},
   "outputs": [],
   "source": [
    "# sirven para almacenar llaves y valores\n",
    "# se usan para representar un objeto\n",
    "usuario = {\n",
    "    \"nombre\": \"Edward Ramirez\",\n",
    "    \"username\": \"edward31\",\n",
    "    \"token\": \"sf32onkjn232iu3bkn2n32kj23b3b2yukj32o32ub2k\",\n",
    "    \"age\": 21,\n",
    "    \"emails\": [\"edward@gmail.com\", \"example@hotmail.com\"],\n",
    "    \"direccion\": {\n",
    "        \"depto\": \"Santander\",\n",
    "        \"ciudad\": \"Bucaramanga\",\n",
    "        \"postcode\": 6626506,\n",
    "        \"descripcion\": \"Calle 22#87-58 Apto 204\"\n",
    "    }\n",
    "}"
   ]
  },
  {
   "cell_type": "code",
   "execution_count": 9,
   "id": "personal-moment",
   "metadata": {},
   "outputs": [
    {
     "data": {
      "text/plain": [
       "'Edward Ramirez'"
      ]
     },
     "execution_count": 9,
     "metadata": {},
     "output_type": "execute_result"
    }
   ],
   "source": [
    "usuario[\"nombre\"]"
   ]
  },
  {
   "cell_type": "code",
   "execution_count": 10,
   "id": "growing-denver",
   "metadata": {},
   "outputs": [
    {
     "data": {
      "text/plain": [
       "21"
      ]
     },
     "execution_count": 10,
     "metadata": {},
     "output_type": "execute_result"
    }
   ],
   "source": [
    "usuario[\"age\"]"
   ]
  },
  {
   "cell_type": "code",
   "execution_count": 13,
   "id": "integral-theta",
   "metadata": {},
   "outputs": [
    {
     "data": {
      "text/plain": [
       "['edward@gmail.com', 'example@hotmail.com']"
      ]
     },
     "execution_count": 13,
     "metadata": {},
     "output_type": "execute_result"
    }
   ],
   "source": [
    "usuario[\"emails\"]"
   ]
  },
  {
   "cell_type": "code",
   "execution_count": 15,
   "id": "norman-fantasy",
   "metadata": {},
   "outputs": [
    {
     "data": {
      "text/plain": [
       "{'depto': 'Santander',\n",
       " 'ciudad': 'Bucaramanga',\n",
       " 'postcode': 6626506,\n",
       " 'descripcion': 'Calle 22#87-58 Apto 204'}"
      ]
     },
     "execution_count": 15,
     "metadata": {},
     "output_type": "execute_result"
    }
   ],
   "source": [
    "usuario[\"direccion\"]"
   ]
  },
  {
   "cell_type": "code",
   "execution_count": 19,
   "id": "italian-shannon",
   "metadata": {},
   "outputs": [
    {
     "data": {
      "text/plain": [
       "'Calle 22#87-58 Apto 204'"
      ]
     },
     "execution_count": 19,
     "metadata": {},
     "output_type": "execute_result"
    }
   ],
   "source": [
    "usuario[\"direccion\"][\"descripcion\"]"
   ]
  },
  {
   "cell_type": "code",
   "execution_count": 20,
   "id": "crude-reduction",
   "metadata": {},
   "outputs": [
    {
     "data": {
      "text/plain": [
       "dict_keys(['nombre', 'username', 'token', 'age', 'emails', 'direccion'])"
      ]
     },
     "execution_count": 20,
     "metadata": {},
     "output_type": "execute_result"
    }
   ],
   "source": [
    "usuario.keys()"
   ]
  },
  {
   "cell_type": "code",
   "execution_count": 21,
   "id": "integrated-shannon",
   "metadata": {},
   "outputs": [
    {
     "data": {
      "text/plain": [
       "dict_values(['Edward Ramirez', 'edward31', 'sf32onkjn232iu3bkn2n32kj23b3b2yukj32o32ub2k', 21, ['edward@gmail.com', 'example@hotmail.com'], {'depto': 'Santander', 'ciudad': 'Bucaramanga', 'postcode': 6626506, 'descripcion': 'Calle 22#87-58 Apto 204'}])"
      ]
     },
     "execution_count": 21,
     "metadata": {},
     "output_type": "execute_result"
    }
   ],
   "source": [
    "usuario.values()"
   ]
  },
  {
   "cell_type": "code",
   "execution_count": 23,
   "id": "intensive-verse",
   "metadata": {},
   "outputs": [
    {
     "data": {
      "text/plain": [
       "dict_items([('nombre', 'Edward Ramirez'), ('username', 'edward31'), ('token', 'sf32onkjn232iu3bkn2n32kj23b3b2yukj32o32ub2k'), ('age', 21), ('emails', ['edward@gmail.com', 'example@hotmail.com']), ('direccion', {'depto': 'Santander', 'ciudad': 'Bucaramanga', 'postcode': 6626506, 'descripcion': 'Calle 22#87-58 Apto 204'})])"
      ]
     },
     "execution_count": 23,
     "metadata": {},
     "output_type": "execute_result"
    }
   ],
   "source": [
    "usuario.items()"
   ]
  },
  {
   "cell_type": "code",
   "execution_count": 24,
   "id": "southwest-bonus",
   "metadata": {},
   "outputs": [
    {
     "data": {
      "text/plain": [
       "{'nombre': 'Edward',\n",
       " 'username': 'edward31',\n",
       " 'token': 'sf32onkjn232iu3bkn2n32kj23b3b2yukj32o32ub2k',\n",
       " 'age': 21,\n",
       " 'emails': ['edward@gmail.com', 'example@hotmail.com'],\n",
       " 'direccion': {'depto': 'Santander',\n",
       "  'ciudad': 'Bucaramanga',\n",
       "  'postcode': 6626506,\n",
       "  'descripcion': 'Calle 22#87-58 Apto 204'}}"
      ]
     },
     "execution_count": 24,
     "metadata": {},
     "output_type": "execute_result"
    }
   ],
   "source": [
    "usuario[\"nombre\"] = \"Edward\"\n",
    "usuario"
   ]
  },
  {
   "cell_type": "code",
   "execution_count": 5,
   "id": "tight-allen",
   "metadata": {},
   "outputs": [
    {
     "ename": "NameError",
     "evalue": "name 'usuario' is not defined",
     "output_type": "error",
     "traceback": [
      "\u001b[1;31m---------------------------------------------------------------------------\u001b[0m",
      "\u001b[1;31mNameError\u001b[0m                                 Traceback (most recent call last)",
      "\u001b[1;32m<ipython-input-5-af867318df96>\u001b[0m in \u001b[0;36m<module>\u001b[1;34m\u001b[0m\n\u001b[0;32m      1\u001b[0m \u001b[1;31m# utilizar sympy para realizar el equilibrio del sistema\u001b[0m\u001b[1;33m\u001b[0m\u001b[1;33m\u001b[0m\u001b[1;33m\u001b[0m\u001b[0m\n\u001b[1;32m----> 2\u001b[1;33m \u001b[0musuario\u001b[0m\u001b[1;33m[\u001b[0m\u001b[1;34m\"nombre\"\u001b[0m\u001b[1;33m]\u001b[0m\u001b[1;33m\u001b[0m\u001b[1;33m\u001b[0m\u001b[0m\n\u001b[0m",
      "\u001b[1;31mNameError\u001b[0m: name 'usuario' is not defined"
     ]
    }
   ],
   "source": [
    "# utilizar sympy para realizar el equilibrio del sistema\n",
    "usuario[\"nombre\"]"
   ]
  },
  {
   "cell_type": "markdown",
   "id": "weighted-finland",
   "metadata": {},
   "source": [
    "# MANEJO DE EXCEPCIONES\n",
    "Usar el bloque de código `try - except`"
   ]
  },
  {
   "cell_type": "code",
   "execution_count": 13,
   "id": "olympic-combination",
   "metadata": {},
   "outputs": [
    {
     "name": "stdout",
     "output_type": "stream",
     "text": [
      "Hubo un error tratando de convertir a entero el valor Edward\n",
      "Programa finalizado\n"
     ]
    }
   ],
   "source": [
    "numero = \"3\"\n",
    "numero = \"Edward\"\n",
    "#if condicion:\n",
    "#    codigo\n",
    "#else:\n",
    "#    codigo\n",
    "\n",
    "try:\n",
    "    # intentar ejecutar codigo propenso a errores\n",
    "    cuadrado = int(numero) ** 2\n",
    "    # apenas hay un error dentro del try Python salta inmediatamente y ejecuta lo que esta en\n",
    "    # except\n",
    "    print(cuadrado)\n",
    "except:\n",
    "    # codigo que se corre si ocurre un error\n",
    "    print(f\"Hubo un error tratando de convertir a entero el valor {numero}\")\n",
    "\n",
    "print(\"Programa finalizado\")\n"
   ]
  },
  {
   "cell_type": "markdown",
   "id": "fabulous-poker",
   "metadata": {},
   "source": [
    "# Equilibrio del sistema"
   ]
  },
  {
   "cell_type": "code",
   "execution_count": 19,
   "id": "secure-falls",
   "metadata": {},
   "outputs": [],
   "source": [
    "Ax, Ay, Ma, x = sp.symbols(\"Ax Ay Ma x\")"
   ]
  },
  {
   "cell_type": "code",
   "execution_count": 22,
   "id": "persistent-anatomy",
   "metadata": {},
   "outputs": [
    {
     "data": {
      "text/latex": [
       "$\\displaystyle 2.8$"
      ],
      "text/plain": [
       "2.80000000000000"
      ]
     },
     "execution_count": 22,
     "metadata": {},
     "output_type": "execute_result"
    }
   ],
   "source": [
    "# equilibrio en y\n",
    "equilibrio_y = Ay + viga[\"fuerza_B\"] + viga[\"fuerza_C\"] - viga[\"w\"] * (viga[\"L1\"] + viga[\"L3\"]) / 2 - viga[\"w\"] * viga[\"L2\"]\n",
    "ecuacion_y = sp.Eq(equilibrio_y, 0)\n",
    "reaccion_ay =  sp.solve(ecuacion_y)[0]\n",
    "# kN\n",
    "reaccion_ay"
   ]
  },
  {
   "cell_type": "code",
   "execution_count": 23,
   "id": "built-removal",
   "metadata": {},
   "outputs": [
    {
     "data": {
      "text/latex": [
       "$\\displaystyle 0$"
      ],
      "text/plain": [
       "0"
      ]
     },
     "execution_count": 23,
     "metadata": {},
     "output_type": "execute_result"
    }
   ],
   "source": [
    "# equilibrio en y\n",
    "equilibrio_x = Ax + 0\n",
    "ecuacion_x = sp.Eq(equilibrio_x, 0)\n",
    "reaccion_ax =  sp.solve(ecuacion_x)[0]\n",
    "# kN\n",
    "reaccion_ax"
   ]
  },
  {
   "cell_type": "code",
   "execution_count": 26,
   "id": "norman-training",
   "metadata": {},
   "outputs": [
    {
     "data": {
      "text/latex": [
       "$\\displaystyle 2.85$"
      ],
      "text/plain": [
       "2.85000000000000"
      ]
     },
     "execution_count": 26,
     "metadata": {},
     "output_type": "execute_result"
    }
   ],
   "source": [
    "# sumatoria de momentos\n",
    "equilibrio_momentos =  Ma + viga[\"fuerza_C\"] * (viga[\"L1\"] + viga[\"L2\"]) + viga[\"fuerza_B\"] * viga[\"L1\"] - viga[\"w\"] * viga[\"L1\"] / 2 * (2 * viga[\"L1\"] / 3) - viga[\"w\"] * viga[\"L2\"] * (viga[\"L1\"] + viga[\"L2\"] / 2) - viga[\"w\"] * viga[\"L3\"] / 2 * (viga[\"L1\"] + viga[\"L2\"] +  viga[\"L3\"] / 3)\n",
    "ecuacion_momentos = sp.Eq(equilibrio_momentos, 0)\n",
    "reaccion_Ma =  sp.solve(ecuacion_momentos)[0]\n",
    "# kN - m\n",
    "reaccion_Ma"
   ]
  },
  {
   "cell_type": "markdown",
   "id": "coastal-darwin",
   "metadata": {},
   "source": [
    "# Ecuaciones de cortante y momento\n",
    "Usando el método de las integrales"
   ]
  },
  {
   "cell_type": "code",
   "execution_count": 30,
   "id": "royal-territory",
   "metadata": {},
   "outputs": [
    {
     "data": {
      "text/latex": [
       "$\\displaystyle - 3.2 x^{3} + 2.8 x - 2.85$"
      ],
      "text/plain": [
       "-3.2*x**3 + 2.8*x - 2.85"
      ]
     },
     "execution_count": 30,
     "metadata": {},
     "output_type": "execute_result"
    }
   ],
   "source": [
    "# CORTANTE Y MOMENTO PRIMER TRAMO\n",
    "# 0 <= x <= L1\n",
    "carga_distribuida = viga[\"w\"] * x / viga[\"L1\"]\n",
    "# - integral carga * dx + V(x)\n",
    "Vx_1 = reaccion_ay - sp.integrate(carga_distribuida, x)\n",
    "\n",
    "Mx_1 = - reaccion_Ma + sp.integrate(Vx_1, x)\n",
    "Mx_1"
   ]
  },
  {
   "cell_type": "code",
   "execution_count": 56,
   "id": "settled-update",
   "metadata": {},
   "outputs": [
    {
     "data": {
      "text/latex": [
       "$\\displaystyle - 2.4 x^{2} - 0.8 x - 2.2$"
      ],
      "text/plain": [
       "-2.4*x**2 - 0.8*x - 2.2"
      ]
     },
     "execution_count": 56,
     "metadata": {},
     "output_type": "execute_result"
    }
   ],
   "source": [
    "# CORTANTE Y MOMENTO SEGUNDO TRAMO\n",
    "# 0 <= x <= L2\n",
    "carga_distribuida = viga[\"w\"]\n",
    "# - integral carga * dx + V(x)\n",
    "Vx_2 = viga[\"fuerza_B\"] + Vx_1.subs(x, viga[\"L1\"]) - sp.integrate(carga_distribuida, x)\n",
    "\n",
    "Mx_2 = Mx_1.subs(x, viga[\"L1\"]) + sp.integrate(Vx_2, x)\n",
    "Mx_2"
   ]
  },
  {
   "cell_type": "code",
   "execution_count": 57,
   "id": "conditional-rouge",
   "metadata": {},
   "outputs": [
    {
     "data": {
      "text/latex": [
       "$\\displaystyle 0.4 x^{3} - 2.4 x^{2} + 4.8 x - 3.2$"
      ],
      "text/plain": [
       "0.4*x**3 - 2.4*x**2 + 4.8*x - 3.2"
      ]
     },
     "execution_count": 57,
     "metadata": {},
     "output_type": "execute_result"
    }
   ],
   "source": [
    "# CORTANTE Y MOMENTO TERCERO TRAMO\n",
    "# 0 <= x <= L3\n",
    "carga_distribuida = - viga[\"w\"] * x / viga[\"L3\"] +  viga[\"w\"]\n",
    "# - integral carga * dx + V(x)\n",
    "Vx_3 = viga[\"fuerza_C\"] + Vx_2.subs(x, viga[\"L2\"]) - sp.integrate(carga_distribuida, x)\n",
    "\n",
    "Mx_3 = Mx_2.subs(x, viga[\"L2\"]) + sp.integrate(Vx_3, x)\n",
    "Mx_3"
   ]
  },
  {
   "cell_type": "markdown",
   "id": "divided-brush",
   "metadata": {},
   "source": [
    "# Graficar diagramas\n",
    "Utilizamos `sp.plot`"
   ]
  },
  {
   "cell_type": "code",
   "execution_count": 54,
   "id": "alert-white",
   "metadata": {},
   "outputs": [
    {
     "data": {
      "image/png": "[encoded data removed]",
      "text/plain": [
       "<Figure size 432x288 with 1 Axes>"
      ]
     },
     "metadata": {
      "needs_background": "light"
     },
     "output_type": "display_data"
    },
    {
     "data": {
      "text/plain": [
       "<sympy.plotting.plot.Plot at 0x1c090a6ee50>"
      ]
     },
     "execution_count": 54,
     "metadata": {},
     "output_type": "execute_result"
    }
   ],
   "source": [
    "# DFC\n",
    "x_array = np.arange(0, viga[\"L1\"] + viga[\"L2\"] + viga[\"L3\"] + 0.01, 0.01)\n",
    "# obtener arrays reemplazando la funcion de cada tramo\n",
    "tramo1 = sp.lambdify(x, Vx_1)(x_array[x_array <= viga[\"L1\"]])\n",
    "tramo2 = sp.lambdify(x, Vx_2)(x_array[(x_array > viga[\"L1\"]) & (x_array <= (viga[\"L1\"] + viga[\"L2\"]))] - viga[\"L1\"])\n",
    "tramo3 = sp.lambdify(x, Vx_3)(x_array[x_array > (viga[\"L1\"] + viga[\"L2\"])] - viga[\"L1\"] - viga[\"L2\"])\n",
    "\n",
    "cortante_y = np.concatenate((tramo1, tramo2, tramo3))\n",
    "sp.plot((Vx_1, (x, 0, viga[\"L1\"])), (Vx_2.subs(x, x - viga[\"L1\"]), (x, viga[\"L1\"], viga[\"L1\"] + viga[\"L2\"])), (Vx_3.subs(x, x - (viga[\"L1\"] + viga[\"L2\"])), (x, viga[\"L1\"] + viga[\"L2\"], viga[\"L1\"] + viga[\"L2\"] + viga[\"L3\"])), line_color=\"blue\", fill={'x': x_array, 'y1': cortante_y, 'alpha': 0.25})"
   ]
  },
  {
   "cell_type": "code",
   "execution_count": 60,
   "id": "young-responsibility",
   "metadata": {},
   "outputs": [
    {
     "data": {
      "image/png": "[encoded data removed]",
      "text/plain": [
       "<Figure size 432x288 with 1 Axes>"
      ]
     },
     "metadata": {
      "needs_background": "light"
     },
     "output_type": "display_data"
    },
    {
     "data": {
      "text/plain": [
       "<sympy.plotting.plot.Plot at 0x1c090ad3eb0>"
      ]
     },
     "execution_count": 60,
     "metadata": {},
     "output_type": "execute_result"
    }
   ],
   "source": [
    "# DFC\n",
    "x_array = np.arange(0, viga[\"L1\"] + viga[\"L2\"] + viga[\"L3\"] + 0.01, 0.01)\n",
    "# obtener arrays reemplazando la funcion de cada tramo\n",
    "tramo1 = sp.lambdify(x, Mx_1)(x_array[x_array <= viga[\"L1\"]])\n",
    "tramo2 = sp.lambdify(x, Mx_2)(x_array[(x_array > viga[\"L1\"]) & (x_array <= (viga[\"L1\"] + viga[\"L2\"]))] - viga[\"L1\"])\n",
    "tramo3 = sp.lambdify(x, Mx_3)(x_array[x_array > (viga[\"L1\"] + viga[\"L2\"])] - viga[\"L1\"] - viga[\"L2\"])\n",
    "\n",
    "momento_y = np.concatenate((tramo1, tramo2, tramo3))\n",
    "sp.plot((Mx_1, (x, 0, viga[\"L1\"])), (Mx_2.subs(x, x - viga[\"L1\"]), (x, viga[\"L1\"], viga[\"L1\"] + viga[\"L2\"])), (Mx_3.subs(x, x - (viga[\"L1\"] + viga[\"L2\"])), (x, viga[\"L1\"] + viga[\"L2\"], viga[\"L1\"] + viga[\"L2\"] + viga[\"L3\"])), line_color=\"blue\", fill={'x': x_array, 'y1': momento_y, 'alpha': 0.25})"
   ]
  },
  {
   "cell_type": "code",
   "execution_count": 67,
   "id": "boolean-fighter",
   "metadata": {},
   "outputs": [
    {
     "data": {
      "text/plain": [
       "3.2"
      ]
     },
     "execution_count": 67,
     "metadata": {},
     "output_type": "execute_result"
    }
   ],
   "source": [
    "# kN - m\n",
    "momento_maximo = 0\n",
    "momento_maximo_positivo = np.amax(momento_y)\n",
    "momento_maximo_negativo = np.amin(momento_y)\n",
    "\n",
    "if np.abs(momento_maximo_negativo) > momento_maximo_positivo:\n",
    "    momento_maximo = np.abs(momento_maximo_negativo)\n",
    "else: \n",
    "    momento_maximo = momento_maximo_positivo\n",
    "\n",
    "momento_maximo"
   ]
  },
  {
   "cell_type": "markdown",
   "id": "grateful-yacht",
   "metadata": {},
   "source": [
    "# Interactuar con Excel"
   ]
  },
  {
   "cell_type": "code",
   "execution_count": 69,
   "id": "utility-exercise",
   "metadata": {},
   "outputs": [
    {
     "data": {
      "text/html": [
       "<div>\n",
       "<style scoped>\n",
       "    .dataframe tbody tr th:only-of-type {\n",
       "        vertical-align: middle;\n",
       "    }\n",
       "\n",
       "    .dataframe tbody tr th {\n",
       "        vertical-align: top;\n",
       "    }\n",
       "\n",
       "    .dataframe thead th {\n",
       "        text-align: right;\n",
       "    }\n",
       "</style>\n",
       "<table border=\"1\" class=\"dataframe\">\n",
       "  <thead>\n",
       "    <tr style=\"text-align: right;\">\n",
       "      <th></th>\n",
       "      <th>h [mm]</th>\n",
       "      <th>b [mm]</th>\n",
       "      <th>t [mm]</th>\n",
       "    </tr>\n",
       "    <tr>\n",
       "      <th>perfil</th>\n",
       "      <th></th>\n",
       "      <th></th>\n",
       "      <th></th>\n",
       "    </tr>\n",
       "  </thead>\n",
       "  <tbody>\n",
       "    <tr>\n",
       "      <th>1</th>\n",
       "      <td>76</td>\n",
       "      <td>36</td>\n",
       "      <td>5</td>\n",
       "    </tr>\n",
       "    <tr>\n",
       "      <th>2</th>\n",
       "      <td>76</td>\n",
       "      <td>38</td>\n",
       "      <td>5</td>\n",
       "    </tr>\n",
       "    <tr>\n",
       "      <th>3</th>\n",
       "      <td>102</td>\n",
       "      <td>40</td>\n",
       "      <td>6</td>\n",
       "    </tr>\n",
       "    <tr>\n",
       "      <th>4</th>\n",
       "      <td>102</td>\n",
       "      <td>44</td>\n",
       "      <td>6</td>\n",
       "    </tr>\n",
       "    <tr>\n",
       "      <th>5</th>\n",
       "      <td>127</td>\n",
       "      <td>45</td>\n",
       "      <td>7</td>\n",
       "    </tr>\n",
       "    <tr>\n",
       "      <th>6</th>\n",
       "      <td>127</td>\n",
       "      <td>48</td>\n",
       "      <td>7</td>\n",
       "    </tr>\n",
       "    <tr>\n",
       "      <th>7</th>\n",
       "      <td>152</td>\n",
       "      <td>49</td>\n",
       "      <td>8</td>\n",
       "    </tr>\n",
       "    <tr>\n",
       "      <th>8</th>\n",
       "      <td>152</td>\n",
       "      <td>52</td>\n",
       "      <td>8</td>\n",
       "    </tr>\n",
       "    <tr>\n",
       "      <th>9</th>\n",
       "      <td>178</td>\n",
       "      <td>53</td>\n",
       "      <td>9</td>\n",
       "    </tr>\n",
       "    <tr>\n",
       "      <th>10</th>\n",
       "      <td>178</td>\n",
       "      <td>56</td>\n",
       "      <td>9</td>\n",
       "    </tr>\n",
       "  </tbody>\n",
       "</table>\n",
       "</div>"
      ],
      "text/plain": [
       "        h [mm]  b [mm]  t [mm]\n",
       "perfil                        \n",
       "1           76      36       5\n",
       "2           76      38       5\n",
       "3          102      40       6\n",
       "4          102      44       6\n",
       "5          127      45       7\n",
       "6          127      48       7\n",
       "7          152      49       8\n",
       "8          152      52       8\n",
       "9          178      53       9\n",
       "10         178      56       9"
      ]
     },
     "execution_count": 69,
     "metadata": {},
     "output_type": "execute_result"
    }
   ],
   "source": [
    "# leer el excel\n",
    "tabla_perfiles = pd.read_excel(\"T2.xlsx\", usecols=\"A:D\", nrows=10, skiprows=2, index_col=\"perfil\")\n",
    "tabla_perfiles"
   ]
  },
  {
   "cell_type": "code",
   "execution_count": 70,
   "id": "basic-savings",
   "metadata": {},
   "outputs": [],
   "source": [
    "# MPa\n",
    "esfuerzo_admisible = 250"
   ]
  },
  {
   "cell_type": "code",
   "execution_count": 73,
   "id": "touched-sequence",
   "metadata": {},
   "outputs": [
    {
     "data": {
      "text/plain": [
       "(76, 36, 5)"
      ]
     },
     "execution_count": 73,
     "metadata": {},
     "output_type": "execute_result"
    }
   ],
   "source": [
    "# metodo loc\n",
    "h = tabla_perfiles.loc[1, \"h [mm]\"]\n",
    "b = tabla_perfiles.loc[1, \"b [mm]\"]\n",
    "t = tabla_perfiles.loc[1, \"t [mm]\"]\n",
    "h, b, t"
   ]
  },
  {
   "cell_type": "code",
   "execution_count": 74,
   "id": "mobile-thomas",
   "metadata": {},
   "outputs": [
    {
     "data": {
      "text/plain": [
       "690"
      ]
     },
     "execution_count": 74,
     "metadata": {},
     "output_type": "execute_result"
    }
   ],
   "source": [
    "area_perfil = h * t + 2 * (b - t) * t\n",
    "area_perfil"
   ]
  },
  {
   "cell_type": "code",
   "execution_count": 75,
   "id": "competent-constitutional",
   "metadata": {},
   "outputs": [
    {
     "data": {
      "text/plain": [
       "38.0"
      ]
     },
     "execution_count": 75,
     "metadata": {},
     "output_type": "execute_result"
    }
   ],
   "source": [
    "distancia_centroide_a_extremo = h / 2\n",
    "distancia_centroide_a_extremo"
   ]
  },
  {
   "cell_type": "code",
   "execution_count": 76,
   "id": "equal-property",
   "metadata": {},
   "outputs": [
    {
     "data": {
      "text/plain": [
       "574230.0"
      ]
     },
     "execution_count": 76,
     "metadata": {},
     "output_type": "execute_result"
    }
   ],
   "source": [
    "# mm 4\n",
    "Iz = t * h ** 3 / 12 + (b - t) * t ** 3 / 6 + 2 * (b - t) * t * (h / 2 - t / 2) ** 2\n",
    "Iz"
   ]
  },
  {
   "cell_type": "code",
   "execution_count": 77,
   "id": "naval-lancaster",
   "metadata": {},
   "outputs": [
    {
     "data": {
      "text/plain": [
       "211.7618375912091"
      ]
     },
     "execution_count": 77,
     "metadata": {},
     "output_type": "execute_result"
    }
   ],
   "source": [
    "# esfuerzo aplicado al perfil\n",
    "# MPa\n",
    "esfuerzo_aplicado = momento_maximo * 10 ** 6 * distancia_centroide_a_extremo / Iz\n",
    "esfuerzo_aplicado"
   ]
  },
  {
   "cell_type": "code",
   "execution_count": 78,
   "id": "crucial-approval",
   "metadata": {},
   "outputs": [
    {
     "name": "stdout",
     "output_type": "stream",
     "text": [
      "Perfil cumple\n"
     ]
    }
   ],
   "source": [
    "if esfuerzo_admisible >= esfuerzo_aplicado:\n",
    "    print(\"Perfil cumple\")\n",
    "else:\n",
    "    print(\"Perfil no soporta el momento máximo\")"
   ]
  },
  {
   "cell_type": "code",
   "execution_count": null,
   "id": "infectious-mexican",
   "metadata": {},
   "outputs": [],
   "source": [
    "# PERFIL OPTIMO"
   ]
  }
 ],
 "metadata": {
  "kernelspec": {
   "display_name": "Python 3",
   "language": "python",
   "name": "python3"
  },
  "language_info": {
   "codemirror_mode": {
    "name": "ipython",
    "version": 3
   },
   "file_extension": ".py",
   "mimetype": "text/x-python",
   "name": "python",
   "nbconvert_exporter": "python",
   "pygments_lexer": "ipython3",
   "version": "3.8.5"
  }
 },
 "nbformat": 4,
 "nbformat_minor": 5
}
