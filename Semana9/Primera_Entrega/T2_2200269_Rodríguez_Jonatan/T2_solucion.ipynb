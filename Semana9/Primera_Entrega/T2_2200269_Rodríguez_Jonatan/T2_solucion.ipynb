{
 "cells": [
  {
   "cell_type": "code",
   "execution_count": 28,
   "id": "5abdfdd8",
   "metadata": {},
   "outputs": [],
   "source": [
    "# Importar los módulos necesarios\n",
    "import numpy as np\n",
    "import sympy as sp\n",
    "import heapq as he\n",
    "import math as mt\n",
    "from math import pi,cos,sin\n",
    "import pandas as pd\n",
    "from openpyxl import load_workbook\n",
    "import matplotlib.pyplot as plt"
   ]
  },
  {
   "cell_type": "code",
   "execution_count": 2,
   "id": "6f7bb613",
   "metadata": {
    "scrolled": true
   },
   "outputs": [],
   "source": [
    "\"EJERCICIO 1\"\n",
    "\n",
    "# Datos que tengo\n",
    "\"Factor de carga de la distribución de correas y los materiales\"\n",
    "Codigo = \"2200269\"\n",
    "X = sum([int(i) for i in Codigo])\n",
    "\n",
    "\"Factor de amplitud debido a carga viva y de viento\"\n",
    "Y = X/3\n",
    "\n",
    "\"Carga distribuida en kN/m\"\n",
    "w = 0.005*X + 0.01*Y\n",
    "\n",
    "\"Carga aplicada en kN y ángulo de aplicación en radianes\"\n",
    "P = 0.05*X\n",
    "Ang = pi/4\n",
    "\n",
    "\"Longitudes de la viga en metros\"\n",
    "L1 = 0.05*X\n",
    "L2 = L1*1.5\n",
    "L3 = 0.5*L1\n",
    "L4 = L1 + L2 + L3 \n",
    "\n",
    "\"Esfuerzo admisible en MPa\"\n",
    "Esf_Ad = 250"
   ]
  },
  {
   "cell_type": "code",
   "execution_count": 3,
   "id": "3b450948",
   "metadata": {},
   "outputs": [],
   "source": [
    "# Puntualizar cargas\n",
    "\n",
    "\"Primera carga triángular puntualizada en kN y posición en metros\"\n",
    "wt_1 = (L1*w)/2\n",
    "Posi_1 = L1 - L1/3\n",
    "\n",
    "\"Carga cuadrada puntualizada en kN y posición en metros\"\n",
    "wc = L2*w\n",
    "Posi_2 = L1 + L2/2 \n",
    "\n",
    "\"Segunda carga triángular puntualizada en kN y posición en metros\"\n",
    "wt_2 = (L3*w)/2\n",
    "Posi_3 = L1 + L2 + L3/3 \n",
    "\n",
    "# Definir simbolos\n",
    "Ay, Ma, x = sp.symbols(\"Ay Ma x\")\n",
    "\n",
    "# Calcular reacciones\n",
    "Sum_M = Ma - Posi_1*wt_1 - Posi_2*wc - Posi_3*wt_2 + L4*P*sin(Ang)\n",
    "Ecu_M = sp.Eq (Sum_M,0)\n",
    "Momento = sp.solve(Ecu_M)\n",
    "\n",
    "Fy = Ay -wt_1 - wc -wt_2 + P*sin(Ang)\n",
    "Ecu_Fy = sp.Eq(Fy,0)\n",
    "Reaccion = sp.solve(Ecu_Fy)\n"
   ]
  },
  {
   "cell_type": "code",
   "execution_count": 4,
   "id": "adc1adec",
   "metadata": {},
   "outputs": [
    {
     "name": "stdout",
     "output_type": "stream",
     "text": [
      "Ma = -1.63935724127451 kN-m\n"
     ]
    }
   ],
   "source": [
    "print(f\"Ma = {Momento[0]} kN-m\")"
   ]
  },
  {
   "cell_type": "code",
   "execution_count": 5,
   "id": "e5830574",
   "metadata": {},
   "outputs": [
    {
     "name": "stdout",
     "output_type": "stream",
     "text": [
      "Ay = -0.329024620245875 kN\n"
     ]
    }
   ],
   "source": [
    "print(f\"Ay = {Reaccion[0]} kN\")"
   ]
  },
  {
   "cell_type": "code",
   "execution_count": 6,
   "id": "ef27f815",
   "metadata": {},
   "outputs": [],
   "source": [
    "# Funciones de carga\n",
    "\"Tramo 1\"\n",
    "w1 = ((w-0)/(L1-0))*x \n",
    "\n",
    "\"Tramo 3\"\n",
    "w3 = ((0-w)/(L3-0))*x + w"
   ]
  },
  {
   "cell_type": "code",
   "execution_count": 7,
   "id": "e9156095",
   "metadata": {},
   "outputs": [
    {
     "data": {
      "text/latex": [
       "$\\displaystyle 0.166666666666667 x$"
      ],
      "text/plain": [
       "0.166666666666667*x"
      ]
     },
     "execution_count": 7,
     "metadata": {},
     "output_type": "execute_result"
    }
   ],
   "source": [
    "w1"
   ]
  },
  {
   "cell_type": "code",
   "execution_count": 8,
   "id": "49f05ef2",
   "metadata": {},
   "outputs": [
    {
     "data": {
      "text/latex": [
       "$\\displaystyle 0.175 - 0.333333333333333 x$"
      ],
      "text/plain": [
       "0.175 - 0.333333333333333*x"
      ]
     },
     "execution_count": 8,
     "metadata": {},
     "output_type": "execute_result"
    }
   ],
   "source": [
    "w3"
   ]
  },
  {
   "cell_type": "code",
   "execution_count": 9,
   "id": "fe83add8",
   "metadata": {},
   "outputs": [],
   "source": [
    "# Calculo de fuerzas internas\n",
    "\"Tramo 1(0 <= x <= L1)\"\n",
    "v1 = -sp.integrate(w1,x) + Reaccion[0]\n",
    "v1_L1 = v1.subs(x,L1)\n",
    "\n",
    "M1 = sp.integrate(v1,x)- Momento[0]\n",
    "M1_0 = M1.subs(x,0)\n",
    "M1_L1 = M1.subs(x,L1)"
   ]
  },
  {
   "cell_type": "code",
   "execution_count": 10,
   "id": "cb00ef5e",
   "metadata": {},
   "outputs": [
    {
     "data": {
      "text/latex": [
       "$\\displaystyle - 0.0833333333333333 x^{2} - 0.329024620245875$"
      ],
      "text/plain": [
       "-0.0833333333333333*x**2 - 0.329024620245875"
      ]
     },
     "execution_count": 10,
     "metadata": {},
     "output_type": "execute_result"
    }
   ],
   "source": [
    "v1"
   ]
  },
  {
   "cell_type": "code",
   "execution_count": 11,
   "id": "55cf3a9b",
   "metadata": {},
   "outputs": [
    {
     "data": {
      "text/latex": [
       "$\\displaystyle - 0.0277777777777778 x^{3} - 0.329024620245875 x + 1.63935724127451$"
      ],
      "text/plain": [
       "-0.0277777777777778*x**3 - 0.329024620245875*x + 1.63935724127451"
      ]
     },
     "execution_count": 11,
     "metadata": {},
     "output_type": "execute_result"
    }
   ],
   "source": [
    "M1"
   ]
  },
  {
   "cell_type": "code",
   "execution_count": 12,
   "id": "2fa41ada",
   "metadata": {},
   "outputs": [],
   "source": [
    "\"Tramo 2(0 <= x <= L2)\"\n",
    "v2 = -sp.integrate(w,x) + v1_L1\n",
    "v2_L2 = v2.subs(x,L2)\n",
    "\n",
    "M2 = sp.integrate(v2,x) + M1_L1\n",
    "M2_L2 = M2.subs(x,L2)"
   ]
  },
  {
   "cell_type": "code",
   "execution_count": 13,
   "id": "f36567cc",
   "metadata": {},
   "outputs": [
    {
     "data": {
      "text/latex": [
       "$\\displaystyle - 0.175 x - 0.420899620245875$"
      ],
      "text/plain": [
       "-0.175*x - 0.420899620245875"
      ]
     },
     "execution_count": 13,
     "metadata": {},
     "output_type": "execute_result"
    }
   ],
   "source": [
    "v2"
   ]
  },
  {
   "cell_type": "code",
   "execution_count": 14,
   "id": "8f5a8fdc",
   "metadata": {},
   "outputs": [
    {
     "data": {
      "text/latex": [
       "$\\displaystyle - 0.0875 x^{2} - 0.420899620245875 x + 1.26172514001634$"
      ],
      "text/plain": [
       "-0.0875*x**2 - 0.420899620245875*x + 1.26172514001634"
      ]
     },
     "execution_count": 14,
     "metadata": {},
     "output_type": "execute_result"
    }
   ],
   "source": [
    "M2"
   ]
  },
  {
   "cell_type": "code",
   "execution_count": 15,
   "id": "593511b1",
   "metadata": {},
   "outputs": [],
   "source": [
    "\"Tramo 3(0 <= x <= L3)\"\n",
    "v3 = -sp.integrate(w3,x) + v2_L2\n",
    "v3_L3 = v3.subs(x,L3)\n",
    "\n",
    "M3 = sp.integrate(v3,x) + M2_L2\n",
    "M3_L3 = M3.subs(x,L3)"
   ]
  },
  {
   "cell_type": "code",
   "execution_count": 16,
   "id": "e65a543c",
   "metadata": {},
   "outputs": [
    {
     "data": {
      "text/latex": [
       "$\\displaystyle 0.166666666666667 x^{2} - 0.175 x - 0.696524620245875$"
      ],
      "text/plain": [
       "0.166666666666667*x**2 - 0.175*x - 0.696524620245875"
      ]
     },
     "execution_count": 16,
     "metadata": {},
     "output_type": "execute_result"
    }
   ],
   "source": [
    "v3"
   ]
  },
  {
   "cell_type": "code",
   "execution_count": 17,
   "id": "8249da2a",
   "metadata": {},
   "outputs": [
    {
     "data": {
      "text/latex": [
       "$\\displaystyle 0.0555555555555556 x^{3} - 0.0875 x^{2} - 0.696524620245875 x + 0.381753550629088$"
      ],
      "text/plain": [
       "0.0555555555555556*x**3 - 0.0875*x**2 - 0.696524620245875*x + 0.381753550629088"
      ]
     },
     "execution_count": 17,
     "metadata": {},
     "output_type": "execute_result"
    }
   ],
   "source": [
    "M3"
   ]
  },
  {
   "cell_type": "code",
   "execution_count": 18,
   "id": "a39959c3",
   "metadata": {
    "scrolled": true
   },
   "outputs": [
    {
     "name": "stdout",
     "output_type": "stream",
     "text": [
      "La fuerza cortante máxima se da a una distancia de 3.15 m desde el empotramiento y tiene un valor de -0.7425 kN.\n"
     ]
    },
    {
     "data": {
      "image/png": "[encoded data removed]",
      "text/plain": [
       "<Figure size 432x288 with 1 Axes>"
      ]
     },
     "metadata": {},
     "output_type": "display_data"
    }
   ],
   "source": [
    "# Diagrama de fuerza cortante\n",
    "plt.style.use('ggplot')\n",
    "L = np.linspace(0,L4,2000)\n",
    "Tramo1 = sp.lambdify(x, v1)(L[L < L1])\n",
    "Tramo2 = sp.lambdify(x, v2)(L[(L >= L1) & (L < L1+L2)] - L1) \n",
    "Tramo3 = sp.lambdify(x, v3)(L[(L >= L1+L2) & (L <= L4)] - L1 - L2)\n",
    "plt.plot(L, np.concatenate((Tramo1, Tramo2, Tramo3)), color = \"c\")\n",
    "plt.fill_between(L, np.concatenate((Tramo1, Tramo2, Tramo3)), color = \"c\", alpha=0.25)\n",
    "plt.xticks(np.linspace(0,3.15,10))\n",
    "\n",
    "plt.axvline(0, color=\"black\")\n",
    "plt.axhline(0, color=\"black\")\n",
    "plt.xlabel(\"Distancia x [m]\")\n",
    "plt.ylabel(\"Cortante [kN]\")\n",
    "plt.title(\"DIAGRAMA DE FUERZA CORTANTE\")\n",
    "\n",
    "print(f\"La fuerza cortante máxima se da a una distancia de {L4} m desde el empotramiento y tiene un valor de {round(v3_L3,4)} kN.\")"
   ]
  },
  {
   "cell_type": "code",
   "execution_count": 19,
   "id": "5b09991c",
   "metadata": {},
   "outputs": [
    {
     "name": "stdout",
     "output_type": "stream",
     "text": [
      "El momento flector máximo se da en el empotramiento y tiene un valor de 1.6394 kN-m.\n"
     ]
    },
    {
     "data": {
      "image/png": "[encoded data removed]",
      "text/plain": [
       "<Figure size 432x288 with 1 Axes>"
      ]
     },
     "metadata": {},
     "output_type": "display_data"
    }
   ],
   "source": [
    "# Diagrama de momento flector\n",
    "plt.style.use('ggplot')\n",
    "L = np.linspace(0,L4,2000)\n",
    "Tramo1 = sp.lambdify(x, M1)(L[L < L1])\n",
    "Tramo2 = sp.lambdify(x, M2)(L[(L >= L1) & (L < L1+L2)] - L1) \n",
    "Tramo3 = sp.lambdify(x, M3)(L[(L >= L1+L2) & (L <= L4)] - L1 - L2)\n",
    "plt.plot(L, np.concatenate((Tramo1, Tramo2, Tramo3)), color = \"c\")\n",
    "plt.fill_between(L, np.concatenate((Tramo1, Tramo2, Tramo3)), color = \"c\", alpha=0.25)\n",
    "plt.xticks(np.linspace(0,3.15,10))\n",
    "\n",
    "plt.axvline(0, color=\"black\")\n",
    "plt.axhline(0, color=\"black\")\n",
    "plt.xlabel(\"Distancia x [m]\")\n",
    "plt.ylabel(\"Momento [kN-m]\")\n",
    "plt.title(\"DIAGRAMA DE MOMENTO FLECTOR\")\n",
    "\n",
    "print(f\"El momento flector máximo se da en el empotramiento y tiene un valor de {round(M1_0,4)} kN-m.\")"
   ]
  },
  {
   "cell_type": "code",
   "execution_count": 96,
   "id": "ca547d6a",
   "metadata": {},
   "outputs": [
    {
     "data": {
      "text/html": [
       "<div>\n",
       "<style scoped>\n",
       "    .dataframe tbody tr th:only-of-type {\n",
       "        vertical-align: middle;\n",
       "    }\n",
       "\n",
       "    .dataframe tbody tr th {\n",
       "        vertical-align: top;\n",
       "    }\n",
       "\n",
       "    .dataframe thead th {\n",
       "        text-align: right;\n",
       "    }\n",
       "</style>\n",
       "<table border=\"1\" class=\"dataframe\">\n",
       "  <thead>\n",
       "    <tr style=\"text-align: right;\">\n",
       "      <th></th>\n",
       "      <th>h [mm]</th>\n",
       "      <th>b [mm]</th>\n",
       "      <th>t [mm]</th>\n",
       "    </tr>\n",
       "    <tr>\n",
       "      <th>perfil</th>\n",
       "      <th></th>\n",
       "      <th></th>\n",
       "      <th></th>\n",
       "    </tr>\n",
       "  </thead>\n",
       "  <tbody>\n",
       "    <tr>\n",
       "      <th>1</th>\n",
       "      <td>25</td>\n",
       "      <td>50</td>\n",
       "      <td>5.0</td>\n",
       "    </tr>\n",
       "    <tr>\n",
       "      <th>2</th>\n",
       "      <td>30</td>\n",
       "      <td>60</td>\n",
       "      <td>5.5</td>\n",
       "    </tr>\n",
       "    <tr>\n",
       "      <th>3</th>\n",
       "      <td>35</td>\n",
       "      <td>70</td>\n",
       "      <td>6.0</td>\n",
       "    </tr>\n",
       "    <tr>\n",
       "      <th>4</th>\n",
       "      <td>40</td>\n",
       "      <td>80</td>\n",
       "      <td>7.0</td>\n",
       "    </tr>\n",
       "    <tr>\n",
       "      <th>5</th>\n",
       "      <td>50</td>\n",
       "      <td>100</td>\n",
       "      <td>8.5</td>\n",
       "    </tr>\n",
       "    <tr>\n",
       "      <th>6</th>\n",
       "      <td>55</td>\n",
       "      <td>115</td>\n",
       "      <td>9.0</td>\n",
       "    </tr>\n",
       "    <tr>\n",
       "      <th>7</th>\n",
       "      <td>60</td>\n",
       "      <td>120</td>\n",
       "      <td>10.0</td>\n",
       "    </tr>\n",
       "    <tr>\n",
       "      <th>8</th>\n",
       "      <td>70</td>\n",
       "      <td>140</td>\n",
       "      <td>11.5</td>\n",
       "    </tr>\n",
       "    <tr>\n",
       "      <th>9</th>\n",
       "      <td>80</td>\n",
       "      <td>160</td>\n",
       "      <td>13.0</td>\n",
       "    </tr>\n",
       "    <tr>\n",
       "      <th>10</th>\n",
       "      <td>90</td>\n",
       "      <td>180</td>\n",
       "      <td>15.0</td>\n",
       "    </tr>\n",
       "  </tbody>\n",
       "</table>\n",
       "</div>"
      ],
      "text/plain": [
       "        h [mm]  b [mm]  t [mm]\n",
       "perfil                        \n",
       "1           25      50     5.0\n",
       "2           30      60     5.5\n",
       "3           35      70     6.0\n",
       "4           40      80     7.0\n",
       "5           50     100     8.5\n",
       "6           55     115     9.0\n",
       "7           60     120    10.0\n",
       "8           70     140    11.5\n",
       "9           80     160    13.0\n",
       "10          90     180    15.0"
      ]
     },
     "execution_count": 96,
     "metadata": {},
     "output_type": "execute_result"
    }
   ],
   "source": [
    "\"EJERCICIO 2\"\n",
    "\n",
    "#Importar la tabla de Excel con los datos necesarios\n",
    "Perfiles = pd.read_excel(\"Taller2.xlsx\", usecols =\"B:E\", skiprows = 3, nrows = 10, index_col=\"perfil\")\n",
    "\n",
    "Perfiles"
   ]
  },
  {
   "cell_type": "code",
   "execution_count": 104,
   "id": "3818afb0",
   "metadata": {},
   "outputs": [],
   "source": [
    "# Cambiar el orden de las columnas h y b para luego exportar en el orden que se pide\n",
    "Perfiles = Perfiles[[\"b [mm]\",\"h [mm]\",\"t [mm]\"]]"
   ]
  },
  {
   "cell_type": "code",
   "execution_count": 105,
   "id": "4ca93bee",
   "metadata": {},
   "outputs": [
    {
     "data": {
      "text/html": [
       "<div>\n",
       "<style scoped>\n",
       "    .dataframe tbody tr th:only-of-type {\n",
       "        vertical-align: middle;\n",
       "    }\n",
       "\n",
       "    .dataframe tbody tr th {\n",
       "        vertical-align: top;\n",
       "    }\n",
       "\n",
       "    .dataframe thead th {\n",
       "        text-align: right;\n",
       "    }\n",
       "</style>\n",
       "<table border=\"1\" class=\"dataframe\">\n",
       "  <thead>\n",
       "    <tr style=\"text-align: right;\">\n",
       "      <th></th>\n",
       "      <th>b [mm]</th>\n",
       "      <th>h [mm]</th>\n",
       "      <th>t [mm]</th>\n",
       "      <th>A [mm^2]</th>\n",
       "    </tr>\n",
       "    <tr>\n",
       "      <th>perfil</th>\n",
       "      <th></th>\n",
       "      <th></th>\n",
       "      <th></th>\n",
       "      <th></th>\n",
       "    </tr>\n",
       "  </thead>\n",
       "  <tbody>\n",
       "    <tr>\n",
       "      <th>1</th>\n",
       "      <td>50</td>\n",
       "      <td>25</td>\n",
       "      <td>5.0</td>\n",
       "      <td>350.00</td>\n",
       "    </tr>\n",
       "    <tr>\n",
       "      <th>2</th>\n",
       "      <td>60</td>\n",
       "      <td>30</td>\n",
       "      <td>5.5</td>\n",
       "      <td>464.75</td>\n",
       "    </tr>\n",
       "    <tr>\n",
       "      <th>3</th>\n",
       "      <td>70</td>\n",
       "      <td>35</td>\n",
       "      <td>6.0</td>\n",
       "      <td>594.00</td>\n",
       "    </tr>\n",
       "    <tr>\n",
       "      <th>4</th>\n",
       "      <td>80</td>\n",
       "      <td>40</td>\n",
       "      <td>7.0</td>\n",
       "      <td>791.00</td>\n",
       "    </tr>\n",
       "    <tr>\n",
       "      <th>5</th>\n",
       "      <td>100</td>\n",
       "      <td>50</td>\n",
       "      <td>8.5</td>\n",
       "      <td>1202.75</td>\n",
       "    </tr>\n",
       "    <tr>\n",
       "      <th>6</th>\n",
       "      <td>115</td>\n",
       "      <td>55</td>\n",
       "      <td>9.0</td>\n",
       "      <td>1449.00</td>\n",
       "    </tr>\n",
       "    <tr>\n",
       "      <th>7</th>\n",
       "      <td>120</td>\n",
       "      <td>60</td>\n",
       "      <td>10.0</td>\n",
       "      <td>1700.00</td>\n",
       "    </tr>\n",
       "    <tr>\n",
       "      <th>8</th>\n",
       "      <td>140</td>\n",
       "      <td>70</td>\n",
       "      <td>11.5</td>\n",
       "      <td>2282.75</td>\n",
       "    </tr>\n",
       "    <tr>\n",
       "      <th>9</th>\n",
       "      <td>160</td>\n",
       "      <td>80</td>\n",
       "      <td>13.0</td>\n",
       "      <td>2951.00</td>\n",
       "    </tr>\n",
       "    <tr>\n",
       "      <th>10</th>\n",
       "      <td>180</td>\n",
       "      <td>90</td>\n",
       "      <td>15.0</td>\n",
       "      <td>3825.00</td>\n",
       "    </tr>\n",
       "  </tbody>\n",
       "</table>\n",
       "</div>"
      ],
      "text/plain": [
       "        b [mm]  h [mm]  t [mm]  A [mm^2]\n",
       "perfil                                  \n",
       "1           50      25     5.0    350.00\n",
       "2           60      30     5.5    464.75\n",
       "3           70      35     6.0    594.00\n",
       "4           80      40     7.0    791.00\n",
       "5          100      50     8.5   1202.75\n",
       "6          115      55     9.0   1449.00\n",
       "7          120      60    10.0   1700.00\n",
       "8          140      70    11.5   2282.75\n",
       "9          160      80    13.0   2951.00\n",
       "10         180      90    15.0   3825.00"
      ]
     },
     "execution_count": 105,
     "metadata": {},
     "output_type": "execute_result"
    }
   ],
   "source": [
    "# Cálculo de áreas\n",
    "\n",
    "Area_F1 = Perfiles[\"b [mm]\"]*Perfiles[\"t [mm]\"]\n",
    "Area_F2 = (Perfiles[\"h [mm]\"] - Perfiles[\"t [mm]\"])*Perfiles[\"t [mm]\"]\n",
    "Perfiles[\"A [mm^2]\"] = Area_F1 + Area_F2\n",
    "\n",
    "Perfiles"
   ]
  },
  {
   "cell_type": "code",
   "execution_count": 106,
   "id": "79f7f082",
   "metadata": {},
   "outputs": [],
   "source": [
    "# Cálculo de centroide (Eje Neutro)\n",
    "\n",
    "\"El nivel de referencia se encontrará en la base de la viga\"\n",
    "y1 = Perfiles[\"h [mm]\"]-(Perfiles[\"t [mm]\"]/2)\n",
    "M_Area1 = Area_F1*y1\n",
    "\n",
    "y2 = (Perfiles[\"h [mm]\"]-Perfiles[\"t [mm]\"])/2\n",
    "M_Area2 = Area_F2*y2\n",
    "\n",
    "EN = (M_Area1 + M_Area2)/Perfiles[\"A [mm^2]\"]"
   ]
  },
  {
   "cell_type": "code",
   "execution_count": 107,
   "id": "153c76d0",
   "metadata": {},
   "outputs": [
    {
     "data": {
      "text/html": [
       "<div>\n",
       "<style scoped>\n",
       "    .dataframe tbody tr th:only-of-type {\n",
       "        vertical-align: middle;\n",
       "    }\n",
       "\n",
       "    .dataframe tbody tr th {\n",
       "        vertical-align: top;\n",
       "    }\n",
       "\n",
       "    .dataframe thead th {\n",
       "        text-align: right;\n",
       "    }\n",
       "</style>\n",
       "<table border=\"1\" class=\"dataframe\">\n",
       "  <thead>\n",
       "    <tr style=\"text-align: right;\">\n",
       "      <th></th>\n",
       "      <th>b [mm]</th>\n",
       "      <th>h [mm]</th>\n",
       "      <th>t [mm]</th>\n",
       "      <th>A [mm^2]</th>\n",
       "      <th>Iz [mm ^ 4]</th>\n",
       "      <th>Eje neutro [mm]</th>\n",
       "    </tr>\n",
       "    <tr>\n",
       "      <th>perfil</th>\n",
       "      <th></th>\n",
       "      <th></th>\n",
       "      <th></th>\n",
       "      <th></th>\n",
       "      <th></th>\n",
       "      <th></th>\n",
       "    </tr>\n",
       "  </thead>\n",
       "  <tbody>\n",
       "    <tr>\n",
       "      <th>1</th>\n",
       "      <td>50</td>\n",
       "      <td>25</td>\n",
       "      <td>5.0</td>\n",
       "      <td>350.00</td>\n",
       "      <td>1.501488e+04</td>\n",
       "      <td>18.928571</td>\n",
       "    </tr>\n",
       "    <tr>\n",
       "      <th>2</th>\n",
       "      <td>60</td>\n",
       "      <td>30</td>\n",
       "      <td>5.5</td>\n",
       "      <td>464.75</td>\n",
       "      <td>2.910029e+04</td>\n",
       "      <td>22.900888</td>\n",
       "    </tr>\n",
       "    <tr>\n",
       "      <th>3</th>\n",
       "      <td>70</td>\n",
       "      <td>35</td>\n",
       "      <td>6.0</td>\n",
       "      <td>594.00</td>\n",
       "      <td>5.113253e+04</td>\n",
       "      <td>26.873737</td>\n",
       "    </tr>\n",
       "    <tr>\n",
       "      <th>4</th>\n",
       "      <td>80</td>\n",
       "      <td>40</td>\n",
       "      <td>7.0</td>\n",
       "      <td>791.00</td>\n",
       "      <td>8.866585e+04</td>\n",
       "      <td>30.659292</td>\n",
       "    </tr>\n",
       "    <tr>\n",
       "      <th>5</th>\n",
       "      <td>100</td>\n",
       "      <td>50</td>\n",
       "      <td>8.5</td>\n",
       "      <td>1202.75</td>\n",
       "      <td>2.115530e+05</td>\n",
       "      <td>38.417845</td>\n",
       "    </tr>\n",
       "    <tr>\n",
       "      <th>6</th>\n",
       "      <td>115</td>\n",
       "      <td>55</td>\n",
       "      <td>9.0</td>\n",
       "      <td>1449.00</td>\n",
       "      <td>3.036222e+05</td>\n",
       "      <td>42.642857</td>\n",
       "    </tr>\n",
       "    <tr>\n",
       "      <th>7</th>\n",
       "      <td>120</td>\n",
       "      <td>60</td>\n",
       "      <td>10.0</td>\n",
       "      <td>1700.00</td>\n",
       "      <td>4.318137e+05</td>\n",
       "      <td>46.176471</td>\n",
       "    </tr>\n",
       "    <tr>\n",
       "      <th>8</th>\n",
       "      <td>140</td>\n",
       "      <td>70</td>\n",
       "      <td>11.5</td>\n",
       "      <td>2282.75</td>\n",
       "      <td>7.908459e+05</td>\n",
       "      <td>53.935139</td>\n",
       "    </tr>\n",
       "    <tr>\n",
       "      <th>9</th>\n",
       "      <td>160</td>\n",
       "      <td>80</td>\n",
       "      <td>13.0</td>\n",
       "      <td>2951.00</td>\n",
       "      <td>1.337393e+06</td>\n",
       "      <td>61.693833</td>\n",
       "    </tr>\n",
       "    <tr>\n",
       "      <th>10</th>\n",
       "      <td>180</td>\n",
       "      <td>90</td>\n",
       "      <td>15.0</td>\n",
       "      <td>3825.00</td>\n",
       "      <td>2.186057e+06</td>\n",
       "      <td>69.264706</td>\n",
       "    </tr>\n",
       "  </tbody>\n",
       "</table>\n",
       "</div>"
      ],
      "text/plain": [
       "        b [mm]  h [mm]  t [mm]  A [mm^2]   Iz [mm ^ 4]  Eje neutro [mm]\n",
       "perfil                                                                 \n",
       "1           50      25     5.0    350.00  1.501488e+04        18.928571\n",
       "2           60      30     5.5    464.75  2.910029e+04        22.900888\n",
       "3           70      35     6.0    594.00  5.113253e+04        26.873737\n",
       "4           80      40     7.0    791.00  8.866585e+04        30.659292\n",
       "5          100      50     8.5   1202.75  2.115530e+05        38.417845\n",
       "6          115      55     9.0   1449.00  3.036222e+05        42.642857\n",
       "7          120      60    10.0   1700.00  4.318137e+05        46.176471\n",
       "8          140      70    11.5   2282.75  7.908459e+05        53.935139\n",
       "9          160      80    13.0   2951.00  1.337393e+06        61.693833\n",
       "10         180      90    15.0   3825.00  2.186057e+06        69.264706"
      ]
     },
     "execution_count": 107,
     "metadata": {},
     "output_type": "execute_result"
    }
   ],
   "source": [
    "# Cálculo de inercias alrededor del eje z\n",
    "\n",
    "I_F1 = (Perfiles[\"b [mm]\"]*(Perfiles[\"t [mm]\"])**3)/12\n",
    "Steiner_F1 = Area_F1*(y1-EN)**2\n",
    "\n",
    "I_F2 = (Perfiles[\"t [mm]\"]*(Perfiles[\"h [mm]\"] - Perfiles[\"t [mm]\"])**3)/12\n",
    "Steiner_F2 = Area_F2*(y2-EN)**2\n",
    "\n",
    "Iz = I_F1 + Steiner_F1 + I_F2 + Steiner_F2\n",
    "Perfiles[\"Iz [mm ^ 4]\"] = Iz\n",
    "Perfiles[\"Eje neutro [mm]\"] = EN\n",
    "\n",
    "Perfiles"
   ]
  },
  {
   "cell_type": "code",
   "execution_count": 108,
   "id": "6827f50d",
   "metadata": {},
   "outputs": [
    {
     "data": {
      "text/html": [
       "<div>\n",
       "<style scoped>\n",
       "    .dataframe tbody tr th:only-of-type {\n",
       "        vertical-align: middle;\n",
       "    }\n",
       "\n",
       "    .dataframe tbody tr th {\n",
       "        vertical-align: top;\n",
       "    }\n",
       "\n",
       "    .dataframe thead th {\n",
       "        text-align: right;\n",
       "    }\n",
       "</style>\n",
       "<table border=\"1\" class=\"dataframe\">\n",
       "  <thead>\n",
       "    <tr style=\"text-align: right;\">\n",
       "      <th></th>\n",
       "      <th>b [mm]</th>\n",
       "      <th>h [mm]</th>\n",
       "      <th>t [mm]</th>\n",
       "      <th>A [mm^2]</th>\n",
       "      <th>Iz [mm ^ 4]</th>\n",
       "      <th>Eje neutro [mm]</th>\n",
       "      <th>Esfuerzo Inf [MPa]</th>\n",
       "      <th>Esfuerzo Sup [MPa]</th>\n",
       "    </tr>\n",
       "    <tr>\n",
       "      <th>perfil</th>\n",
       "      <th></th>\n",
       "      <th></th>\n",
       "      <th></th>\n",
       "      <th></th>\n",
       "      <th></th>\n",
       "      <th></th>\n",
       "      <th></th>\n",
       "      <th></th>\n",
       "    </tr>\n",
       "  </thead>\n",
       "  <tbody>\n",
       "    <tr>\n",
       "      <th>1</th>\n",
       "      <td>50</td>\n",
       "      <td>25</td>\n",
       "      <td>5.0</td>\n",
       "      <td>350.00</td>\n",
       "      <td>1.501488e+04</td>\n",
       "      <td>18.928571</td>\n",
       "      <td>2066.66244886142</td>\n",
       "      <td>-662.891728880080</td>\n",
       "    </tr>\n",
       "    <tr>\n",
       "      <th>2</th>\n",
       "      <td>60</td>\n",
       "      <td>30</td>\n",
       "      <td>5.5</td>\n",
       "      <td>464.75</td>\n",
       "      <td>2.910029e+04</td>\n",
       "      <td>22.900888</td>\n",
       "      <td>1290.11557697298</td>\n",
       "      <td>-399.926661965851</td>\n",
       "    </tr>\n",
       "    <tr>\n",
       "      <th>3</th>\n",
       "      <td>70</td>\n",
       "      <td>35</td>\n",
       "      <td>6.0</td>\n",
       "      <td>594.00</td>\n",
       "      <td>5.113253e+04</td>\n",
       "      <td>26.873737</td>\n",
       "      <td>861.597415630630</td>\n",
       "      <td>-260.535659039595</td>\n",
       "    </tr>\n",
       "    <tr>\n",
       "      <th>4</th>\n",
       "      <td>80</td>\n",
       "      <td>40</td>\n",
       "      <td>7.0</td>\n",
       "      <td>791.00</td>\n",
       "      <td>8.866585e+04</td>\n",
       "      <td>30.659292</td>\n",
       "      <td>566.864635613530</td>\n",
       "      <td>-172.701868347548</td>\n",
       "    </tr>\n",
       "    <tr>\n",
       "      <th>5</th>\n",
       "      <td>100</td>\n",
       "      <td>50</td>\n",
       "      <td>8.5</td>\n",
       "      <td>1202.75</td>\n",
       "      <td>2.115530e+05</td>\n",
       "      <td>38.417845</td>\n",
       "      <td>297.705897470614</td>\n",
       "      <td>-89.7519377713264</td>\n",
       "    </tr>\n",
       "    <tr>\n",
       "      <th>6</th>\n",
       "      <td>115</td>\n",
       "      <td>55</td>\n",
       "      <td>9.0</td>\n",
       "      <td>1449.00</td>\n",
       "      <td>3.036222e+05</td>\n",
       "      <td>42.642857</td>\n",
       "      <td>230.242984800043</td>\n",
       "      <td>-66.7203289286556</td>\n",
       "    </tr>\n",
       "    <tr>\n",
       "      <th>7</th>\n",
       "      <td>120</td>\n",
       "      <td>60</td>\n",
       "      <td>10.0</td>\n",
       "      <td>1700.00</td>\n",
       "      <td>4.318137e+05</td>\n",
       "      <td>46.176471</td>\n",
       "      <td>175.306450366737</td>\n",
       "      <td>-52.4802749505519</td>\n",
       "    </tr>\n",
       "    <tr>\n",
       "      <th>8</th>\n",
       "      <td>140</td>\n",
       "      <td>70</td>\n",
       "      <td>11.5</td>\n",
       "      <td>2282.75</td>\n",
       "      <td>7.908459e+05</td>\n",
       "      <td>53.935139</td>\n",
       "      <td>111.803023382003</td>\n",
       "      <td>-33.3011118576782</td>\n",
       "    </tr>\n",
       "    <tr>\n",
       "      <th>9</th>\n",
       "      <td>160</td>\n",
       "      <td>80</td>\n",
       "      <td>13.0</td>\n",
       "      <td>2951.00</td>\n",
       "      <td>1.337393e+06</td>\n",
       "      <td>61.693833</td>\n",
       "      <td>75.6234164932470</td>\n",
       "      <td>-22.4394378405290</td>\n",
       "    </tr>\n",
       "    <tr>\n",
       "      <th>10</th>\n",
       "      <td>180</td>\n",
       "      <td>90</td>\n",
       "      <td>15.0</td>\n",
       "      <td>3825.00</td>\n",
       "      <td>2.186057e+06</td>\n",
       "      <td>69.264706</td>\n",
       "      <td>51.9426519605147</td>\n",
       "      <td>-15.5497110964598</td>\n",
       "    </tr>\n",
       "  </tbody>\n",
       "</table>\n",
       "</div>"
      ],
      "text/plain": [
       "        b [mm]  h [mm]  t [mm]  A [mm^2]   Iz [mm ^ 4]  Eje neutro [mm]  \\\n",
       "perfil                                                                    \n",
       "1           50      25     5.0    350.00  1.501488e+04        18.928571   \n",
       "2           60      30     5.5    464.75  2.910029e+04        22.900888   \n",
       "3           70      35     6.0    594.00  5.113253e+04        26.873737   \n",
       "4           80      40     7.0    791.00  8.866585e+04        30.659292   \n",
       "5          100      50     8.5   1202.75  2.115530e+05        38.417845   \n",
       "6          115      55     9.0   1449.00  3.036222e+05        42.642857   \n",
       "7          120      60    10.0   1700.00  4.318137e+05        46.176471   \n",
       "8          140      70    11.5   2282.75  7.908459e+05        53.935139   \n",
       "9          160      80    13.0   2951.00  1.337393e+06        61.693833   \n",
       "10         180      90    15.0   3825.00  2.186057e+06        69.264706   \n",
       "\n",
       "       Esfuerzo Inf [MPa] Esfuerzo Sup [MPa]  \n",
       "perfil                                        \n",
       "1        2066.66244886142  -662.891728880080  \n",
       "2        1290.11557697298  -399.926661965851  \n",
       "3        861.597415630630  -260.535659039595  \n",
       "4        566.864635613530  -172.701868347548  \n",
       "5        297.705897470614  -89.7519377713264  \n",
       "6        230.242984800043  -66.7203289286556  \n",
       "7        175.306450366737  -52.4802749505519  \n",
       "8        111.803023382003  -33.3011118576782  \n",
       "9        75.6234164932470  -22.4394378405290  \n",
       "10       51.9426519605147  -15.5497110964598  "
      ]
     },
     "execution_count": 108,
     "metadata": {},
     "output_type": "execute_result"
    }
   ],
   "source": [
    "# Calculo de los esfuerzos\n",
    "\n",
    "\"Como el momento máximo es positivo, la fibra superior de la viga trabaja a compresión, mientras que la inferior a tracción\"\n",
    "Esf_Inferior = ((M1_0*10**6)*Perfiles[\"Eje neutro [mm]\"])/Perfiles[\"Iz [mm ^ 4]\"]\n",
    "Perfiles[\"Esfuerzo Inf [MPa]\"] = Esf_Inferior\n",
    "\n",
    "Esf_Superior = ((M1_0*10**6)*(Perfiles[\"h [mm]\"]-Perfiles[\"Eje neutro [mm]\"]))/Perfiles[\"Iz [mm ^ 4]\"]\n",
    "Perfiles[\"Esfuerzo Sup [MPa]\"] = -Esf_Superior\n",
    "\n",
    "Perfiles"
   ]
  },
  {
   "cell_type": "code",
   "execution_count": 109,
   "id": "215a2a04",
   "metadata": {},
   "outputs": [
    {
     "data": {
      "text/html": [
       "<div>\n",
       "<style scoped>\n",
       "    .dataframe tbody tr th:only-of-type {\n",
       "        vertical-align: middle;\n",
       "    }\n",
       "\n",
       "    .dataframe tbody tr th {\n",
       "        vertical-align: top;\n",
       "    }\n",
       "\n",
       "    .dataframe thead th {\n",
       "        text-align: right;\n",
       "    }\n",
       "</style>\n",
       "<table border=\"1\" class=\"dataframe\">\n",
       "  <thead>\n",
       "    <tr style=\"text-align: right;\">\n",
       "      <th></th>\n",
       "      <th>b [mm]</th>\n",
       "      <th>h [mm]</th>\n",
       "      <th>t [mm]</th>\n",
       "      <th>A [mm^2]</th>\n",
       "      <th>Iz [mm ^ 4]</th>\n",
       "      <th>Eje neutro [mm]</th>\n",
       "      <th>Esfuerzo Inf [MPa]</th>\n",
       "      <th>Esfuerzo Sup [MPa]</th>\n",
       "    </tr>\n",
       "    <tr>\n",
       "      <th>perfil</th>\n",
       "      <th></th>\n",
       "      <th></th>\n",
       "      <th></th>\n",
       "      <th></th>\n",
       "      <th></th>\n",
       "      <th></th>\n",
       "      <th></th>\n",
       "      <th></th>\n",
       "    </tr>\n",
       "  </thead>\n",
       "  <tbody>\n",
       "    <tr>\n",
       "      <th>6</th>\n",
       "      <td>115</td>\n",
       "      <td>55</td>\n",
       "      <td>9.0</td>\n",
       "      <td>1449.00</td>\n",
       "      <td>3.036222e+05</td>\n",
       "      <td>42.642857</td>\n",
       "      <td>230.242984800043</td>\n",
       "      <td>-66.7203289286556</td>\n",
       "    </tr>\n",
       "    <tr>\n",
       "      <th>7</th>\n",
       "      <td>120</td>\n",
       "      <td>60</td>\n",
       "      <td>10.0</td>\n",
       "      <td>1700.00</td>\n",
       "      <td>4.318137e+05</td>\n",
       "      <td>46.176471</td>\n",
       "      <td>175.306450366737</td>\n",
       "      <td>-52.4802749505519</td>\n",
       "    </tr>\n",
       "    <tr>\n",
       "      <th>8</th>\n",
       "      <td>140</td>\n",
       "      <td>70</td>\n",
       "      <td>11.5</td>\n",
       "      <td>2282.75</td>\n",
       "      <td>7.908459e+05</td>\n",
       "      <td>53.935139</td>\n",
       "      <td>111.803023382003</td>\n",
       "      <td>-33.3011118576782</td>\n",
       "    </tr>\n",
       "    <tr>\n",
       "      <th>9</th>\n",
       "      <td>160</td>\n",
       "      <td>80</td>\n",
       "      <td>13.0</td>\n",
       "      <td>2951.00</td>\n",
       "      <td>1.337393e+06</td>\n",
       "      <td>61.693833</td>\n",
       "      <td>75.6234164932470</td>\n",
       "      <td>-22.4394378405290</td>\n",
       "    </tr>\n",
       "    <tr>\n",
       "      <th>10</th>\n",
       "      <td>180</td>\n",
       "      <td>90</td>\n",
       "      <td>15.0</td>\n",
       "      <td>3825.00</td>\n",
       "      <td>2.186057e+06</td>\n",
       "      <td>69.264706</td>\n",
       "      <td>51.9426519605147</td>\n",
       "      <td>-15.5497110964598</td>\n",
       "    </tr>\n",
       "  </tbody>\n",
       "</table>\n",
       "</div>"
      ],
      "text/plain": [
       "        b [mm]  h [mm]  t [mm]  A [mm^2]   Iz [mm ^ 4]  Eje neutro [mm]  \\\n",
       "perfil                                                                    \n",
       "6          115      55     9.0   1449.00  3.036222e+05        42.642857   \n",
       "7          120      60    10.0   1700.00  4.318137e+05        46.176471   \n",
       "8          140      70    11.5   2282.75  7.908459e+05        53.935139   \n",
       "9          160      80    13.0   2951.00  1.337393e+06        61.693833   \n",
       "10         180      90    15.0   3825.00  2.186057e+06        69.264706   \n",
       "\n",
       "       Esfuerzo Inf [MPa] Esfuerzo Sup [MPa]  \n",
       "perfil                                        \n",
       "6        230.242984800043  -66.7203289286556  \n",
       "7        175.306450366737  -52.4802749505519  \n",
       "8        111.803023382003  -33.3011118576782  \n",
       "9        75.6234164932470  -22.4394378405290  \n",
       "10       51.9426519605147  -15.5497110964598  "
      ]
     },
     "execution_count": 109,
     "metadata": {},
     "output_type": "execute_result"
    }
   ],
   "source": [
    "# Determinar el perfil que cumpla con las solicitaciones(esfuerzo admisible) y que sea el más económico (mínima área de sección tranversal)\n",
    "\n",
    "\"Definir un filtro para encontrar los perfiles cuyos esfuerzos sean menores al admisible\"\n",
    "Filtro = (Perfiles[\"Esfuerzo Inf [MPa]\"] <= Esf_Ad) & (Perfiles[\"Esfuerzo Sup [MPa]\"] <= Esf_Ad )\n",
    "\n",
    "Posibles_Perf = Perfiles[Filtro]\n",
    "Posibles_Perf\n"
   ]
  },
  {
   "cell_type": "code",
   "execution_count": 110,
   "id": "7de5e323",
   "metadata": {},
   "outputs": [
    {
     "data": {
      "text/plain": [
       "6"
      ]
     },
     "execution_count": 110,
     "metadata": {},
     "output_type": "execute_result"
    }
   ],
   "source": [
    "\"Determinar el perfil con la menor área dentro de la variable Posibles_Perf\"\n",
    "Perf = Posibles_Perf[\"A [mm^2]\"].idxmin()\n",
    "Perf"
   ]
  },
  {
   "cell_type": "code",
   "execution_count": 111,
   "id": "8532bbd9",
   "metadata": {},
   "outputs": [
    {
     "name": "stdout",
     "output_type": "stream",
     "text": [
      "El perfil adecuado, que cumple con las solicitaciones y resulta más económico, es el perfil 6.\n"
     ]
    },
    {
     "data": {
      "text/html": [
       "<div>\n",
       "<style scoped>\n",
       "    .dataframe tbody tr th:only-of-type {\n",
       "        vertical-align: middle;\n",
       "    }\n",
       "\n",
       "    .dataframe tbody tr th {\n",
       "        vertical-align: top;\n",
       "    }\n",
       "\n",
       "    .dataframe thead th {\n",
       "        text-align: right;\n",
       "    }\n",
       "</style>\n",
       "<table border=\"1\" class=\"dataframe\">\n",
       "  <thead>\n",
       "    <tr style=\"text-align: right;\">\n",
       "      <th></th>\n",
       "      <th>b [mm]</th>\n",
       "      <th>h [mm]</th>\n",
       "      <th>t [mm]</th>\n",
       "      <th>A [mm^2]</th>\n",
       "      <th>Esfuerzo Inf [MPa]</th>\n",
       "      <th>Esfuerzo Sup [MPa]</th>\n",
       "    </tr>\n",
       "    <tr>\n",
       "      <th>perfil</th>\n",
       "      <th></th>\n",
       "      <th></th>\n",
       "      <th></th>\n",
       "      <th></th>\n",
       "      <th></th>\n",
       "      <th></th>\n",
       "    </tr>\n",
       "  </thead>\n",
       "  <tbody>\n",
       "    <tr>\n",
       "      <th>6</th>\n",
       "      <td>115</td>\n",
       "      <td>55</td>\n",
       "      <td>9.0</td>\n",
       "      <td>1449.0</td>\n",
       "      <td>230.242984800043</td>\n",
       "      <td>-66.7203289286556</td>\n",
       "    </tr>\n",
       "  </tbody>\n",
       "</table>\n",
       "</div>"
      ],
      "text/plain": [
       "        b [mm]  h [mm]  t [mm]  A [mm^2] Esfuerzo Inf [MPa] Esfuerzo Sup [MPa]\n",
       "perfil                                                                        \n",
       "6          115      55     9.0    1449.0   230.242984800043  -66.7203289286556"
      ]
     },
     "execution_count": 111,
     "metadata": {},
     "output_type": "execute_result"
    }
   ],
   "source": [
    "print(f\"El perfil adecuado, que cumple con las solicitaciones y resulta más económico, es el perfil {Perf}.\")\n",
    "Perfil = Posibles_Perf.loc[[Perf],[\"b [mm]\",\"h [mm]\",\"t [mm]\",\"A [mm^2]\",\"Esfuerzo Inf [MPa]\",\"Esfuerzo Sup [MPa]\"]]\n",
    "Perfil"
   ]
  },
  {
   "cell_type": "code",
   "execution_count": 113,
   "id": "c70e4e8a",
   "metadata": {},
   "outputs": [],
   "source": [
    "# Exportar las tablas al Excel\n",
    "\n",
    "with pd.ExcelWriter('Taller2.xlsx', mode='a',if_sheet_exists=\"overlay\", engine='openpyxl') as writer:  \n",
    "    # configurando sheets\n",
    "    book = load_workbook('Taller2.xlsx')\n",
    "    # colocar el book dentro del writer de pandas\n",
    "    writer.book = book\n",
    "    writer.sheets = dict((ws.title, ws) for ws in book.worksheets)\n",
    "    Perfiles.to_excel(writer, startrow=3, startcol=6, sheet_name='Perfiles')\n",
    "    Perfil.to_excel(writer, startrow=18, startcol=6, sheet_name='Perfiles', index = None)\n",
    "    "
   ]
  }
 ],
 "metadata": {
  "kernelspec": {
   "display_name": "Python 3 (ipykernel)",
   "language": "python",
   "name": "python3"
  },
  "language_info": {
   "codemirror_mode": {
    "name": "ipython",
    "version": 3
   },
   "file_extension": ".py",
   "mimetype": "text/x-python",
   "name": "python",
   "nbconvert_exporter": "python",
   "pygments_lexer": "ipython3",
   "version": "3.9.6"
  }
 },
 "nbformat": 4,
 "nbformat_minor": 5
}
