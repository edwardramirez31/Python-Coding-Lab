{
 "cells": [
  {
   "cell_type": "code",
   "execution_count": 1,
   "id": "af31df6b",
   "metadata": {},
   "outputs": [],
   "source": [
    "import numpy as nu\n",
    "import sympy as sy\n",
    "import pandas as pa\n",
    "import matplotlib.pyplot as plt\n",
    "import openpyxl as op"
   ]
  },
  {
   "cell_type": "code",
   "execution_count": 2,
   "id": "b938e958",
   "metadata": {},
   "outputs": [],
   "source": [
    "#Del primer punto calculamos el momento maximo:\n",
    "Mmax = 1.93018636570717"
   ]
  },
  {
   "cell_type": "code",
   "execution_count": 3,
   "id": "1428cdc2",
   "metadata": {},
   "outputs": [
    {
     "data": {
      "text/html": [
       "<div>\n",
       "<style scoped>\n",
       "    .dataframe tbody tr th:only-of-type {\n",
       "        vertical-align: middle;\n",
       "    }\n",
       "\n",
       "    .dataframe tbody tr th {\n",
       "        vertical-align: top;\n",
       "    }\n",
       "\n",
       "    .dataframe thead th {\n",
       "        text-align: right;\n",
       "    }\n",
       "</style>\n",
       "<table border=\"1\" class=\"dataframe\">\n",
       "  <thead>\n",
       "    <tr style=\"text-align: right;\">\n",
       "      <th></th>\n",
       "      <th>h [mm]</th>\n",
       "      <th>b [mm]</th>\n",
       "      <th>t [mm]</th>\n",
       "    </tr>\n",
       "    <tr>\n",
       "      <th>perfil</th>\n",
       "      <th></th>\n",
       "      <th></th>\n",
       "      <th></th>\n",
       "    </tr>\n",
       "  </thead>\n",
       "  <tbody>\n",
       "    <tr>\n",
       "      <th>1</th>\n",
       "      <td>25</td>\n",
       "      <td>50</td>\n",
       "      <td>5.0</td>\n",
       "    </tr>\n",
       "    <tr>\n",
       "      <th>2</th>\n",
       "      <td>30</td>\n",
       "      <td>60</td>\n",
       "      <td>5.5</td>\n",
       "    </tr>\n",
       "    <tr>\n",
       "      <th>3</th>\n",
       "      <td>35</td>\n",
       "      <td>70</td>\n",
       "      <td>6.0</td>\n",
       "    </tr>\n",
       "    <tr>\n",
       "      <th>4</th>\n",
       "      <td>40</td>\n",
       "      <td>80</td>\n",
       "      <td>7.0</td>\n",
       "    </tr>\n",
       "    <tr>\n",
       "      <th>5</th>\n",
       "      <td>50</td>\n",
       "      <td>100</td>\n",
       "      <td>8.5</td>\n",
       "    </tr>\n",
       "    <tr>\n",
       "      <th>6</th>\n",
       "      <td>55</td>\n",
       "      <td>115</td>\n",
       "      <td>9.0</td>\n",
       "    </tr>\n",
       "    <tr>\n",
       "      <th>7</th>\n",
       "      <td>60</td>\n",
       "      <td>120</td>\n",
       "      <td>10.0</td>\n",
       "    </tr>\n",
       "    <tr>\n",
       "      <th>8</th>\n",
       "      <td>70</td>\n",
       "      <td>140</td>\n",
       "      <td>11.5</td>\n",
       "    </tr>\n",
       "    <tr>\n",
       "      <th>9</th>\n",
       "      <td>80</td>\n",
       "      <td>160</td>\n",
       "      <td>13.0</td>\n",
       "    </tr>\n",
       "    <tr>\n",
       "      <th>10</th>\n",
       "      <td>90</td>\n",
       "      <td>180</td>\n",
       "      <td>15.0</td>\n",
       "    </tr>\n",
       "  </tbody>\n",
       "</table>\n",
       "</div>"
      ],
      "text/plain": [
       "        h [mm]  b [mm]  t [mm]\n",
       "perfil                        \n",
       "1           25      50     5.0\n",
       "2           30      60     5.5\n",
       "3           35      70     6.0\n",
       "4           40      80     7.0\n",
       "5           50     100     8.5\n",
       "6           55     115     9.0\n",
       "7           60     120    10.0\n",
       "8           70     140    11.5\n",
       "9           80     160    13.0\n",
       "10          90     180    15.0"
      ]
     },
     "execution_count": 3,
     "metadata": {},
     "output_type": "execute_result"
    }
   ],
   "source": [
    "#Perfiles para una seccion en T \n",
    "\n",
    "perfiles = pa.read_excel('T2.xlsx', usecols=\"B:E\", nrows=10, skiprows=3, index_col='perfil')\n",
    "perfiles"
   ]
  },
  {
   "cell_type": "markdown",
   "id": "0b3be8a8",
   "metadata": {},
   "source": [
    "# $1\\.\\  Tabla\\$"
   ]
  },
  {
   "cell_type": "code",
   "execution_count": 4,
   "id": "b2a18490",
   "metadata": {},
   "outputs": [
    {
     "data": {
      "text/plain": [
       "(25, 50, 5.0)"
      ]
     },
     "execution_count": 4,
     "metadata": {},
     "output_type": "execute_result"
    }
   ],
   "source": [
    "#Se calcula el área, inercia centroidal alrededor del eje z, posición del eje neutro y esfuerzos en la fibra superior e inferior.\n",
    "\n",
    "#Distancias \n",
    "\n",
    "h = perfiles.loc[1, 'h [mm]']\n",
    "b = perfiles.loc[1, 'b [mm]']\n",
    "t = perfiles.loc[1, 't [mm]']\n",
    "h, b, t"
   ]
  },
  {
   "cell_type": "code",
   "execution_count": 5,
   "id": "78979d26",
   "metadata": {},
   "outputs": [
    {
     "data": {
      "text/plain": [
       "350.0"
      ]
     },
     "execution_count": 5,
     "metadata": {},
     "output_type": "execute_result"
    }
   ],
   "source": [
    "#Área de la seccion transversal en mm2\n",
    "\n",
    "A = (b * t) + ((h - t) * t)\n",
    "A"
   ]
  },
  {
   "cell_type": "code",
   "execution_count": 6,
   "id": "e86a2ae7",
   "metadata": {},
   "outputs": [
    {
     "data": {
      "text/plain": [
       "18.928571428571427"
      ]
     },
     "execution_count": 6,
     "metadata": {},
     "output_type": "execute_result"
    }
   ],
   "source": [
    "#Centroide con respecto a y  ( Y TRAZO)\n",
    "\n",
    "Y = ((((h - t) / 2) * ((h - t) * t)) + (((h - t) + (t / 2)) * (b * t))) / A\n",
    "Y"
   ]
  },
  {
   "cell_type": "code",
   "execution_count": 7,
   "id": "7d9f0c21",
   "metadata": {},
   "outputs": [
    {
     "data": {
      "text/plain": [
       "15014.880952380952"
      ]
     },
     "execution_count": 7,
     "metadata": {},
     "output_type": "execute_result"
    }
   ],
   "source": [
    "#Inercia centroidal alrededeor del eje z en mm4\n",
    "\n",
    "Iz = ((b * ((t) ** 3)) / 12) + ((t * ((h - t) ** 3)) / 12) + (((h - t) * t) * (((h - t) / 2) - Y) ** 2) + ((b * t) * (((h - t) + (t / 2)) - Y) ** 2)\n",
    "Iz"
   ]
  },
  {
   "cell_type": "code",
   "execution_count": 8,
   "id": "b16f8314",
   "metadata": {},
   "outputs": [
    {
     "data": {
      "text/plain": [
       "780.4916126942771"
      ]
     },
     "execution_count": 8,
     "metadata": {},
     "output_type": "execute_result"
    }
   ],
   "source": [
    "#Esfuerzo en la fibra superios e inferior en MPa\n",
    "\n",
    "##Y TRAZO es la distancia a la fibra inferior\n",
    "#Eje neutro\n",
    "Y\n",
    "##Y2  es la distanacia a la fibra superior \n",
    "Y2 = h - Y\n",
    "\n",
    "#Esfuerzo superior (Esf_sup)\n",
    "\n",
    "Esf_sup = Mmax *10 ** 6 * Y2 / Iz\n",
    "Esf_sup"
   ]
  },
  {
   "cell_type": "code",
   "execution_count": 9,
   "id": "14162c1d",
   "metadata": {},
   "outputs": [
    {
     "data": {
      "text/plain": [
       "-2433.2973807527455"
      ]
     },
     "execution_count": 9,
     "metadata": {},
     "output_type": "execute_result"
    }
   ],
   "source": [
    "#Esfuerzo superior (Esf_inf)\n",
    "\n",
    "Esf_inf = - Mmax * 10 ** 6 * Y / Iz\n",
    "Esf_inf"
   ]
  },
  {
   "cell_type": "code",
   "execution_count": 10,
   "id": "79df1781",
   "metadata": {},
   "outputs": [
    {
     "data": {
      "text/html": [
       "<div>\n",
       "<style scoped>\n",
       "    .dataframe tbody tr th:only-of-type {\n",
       "        vertical-align: middle;\n",
       "    }\n",
       "\n",
       "    .dataframe tbody tr th {\n",
       "        vertical-align: top;\n",
       "    }\n",
       "\n",
       "    .dataframe thead th {\n",
       "        text-align: right;\n",
       "    }\n",
       "</style>\n",
       "<table border=\"1\" class=\"dataframe\">\n",
       "  <thead>\n",
       "    <tr style=\"text-align: right;\">\n",
       "      <th></th>\n",
       "      <th>h [mm]</th>\n",
       "      <th>b [mm]</th>\n",
       "      <th>t [mm]</th>\n",
       "      <th>A [mm ^ 2]</th>\n",
       "    </tr>\n",
       "    <tr>\n",
       "      <th>perfil</th>\n",
       "      <th></th>\n",
       "      <th></th>\n",
       "      <th></th>\n",
       "      <th></th>\n",
       "    </tr>\n",
       "  </thead>\n",
       "  <tbody>\n",
       "    <tr>\n",
       "      <th>1</th>\n",
       "      <td>25</td>\n",
       "      <td>50</td>\n",
       "      <td>5.0</td>\n",
       "      <td>350.00</td>\n",
       "    </tr>\n",
       "    <tr>\n",
       "      <th>2</th>\n",
       "      <td>30</td>\n",
       "      <td>60</td>\n",
       "      <td>5.5</td>\n",
       "      <td>464.75</td>\n",
       "    </tr>\n",
       "    <tr>\n",
       "      <th>3</th>\n",
       "      <td>35</td>\n",
       "      <td>70</td>\n",
       "      <td>6.0</td>\n",
       "      <td>594.00</td>\n",
       "    </tr>\n",
       "    <tr>\n",
       "      <th>4</th>\n",
       "      <td>40</td>\n",
       "      <td>80</td>\n",
       "      <td>7.0</td>\n",
       "      <td>791.00</td>\n",
       "    </tr>\n",
       "    <tr>\n",
       "      <th>5</th>\n",
       "      <td>50</td>\n",
       "      <td>100</td>\n",
       "      <td>8.5</td>\n",
       "      <td>1202.75</td>\n",
       "    </tr>\n",
       "    <tr>\n",
       "      <th>6</th>\n",
       "      <td>55</td>\n",
       "      <td>115</td>\n",
       "      <td>9.0</td>\n",
       "      <td>1449.00</td>\n",
       "    </tr>\n",
       "    <tr>\n",
       "      <th>7</th>\n",
       "      <td>60</td>\n",
       "      <td>120</td>\n",
       "      <td>10.0</td>\n",
       "      <td>1700.00</td>\n",
       "    </tr>\n",
       "    <tr>\n",
       "      <th>8</th>\n",
       "      <td>70</td>\n",
       "      <td>140</td>\n",
       "      <td>11.5</td>\n",
       "      <td>2282.75</td>\n",
       "    </tr>\n",
       "    <tr>\n",
       "      <th>9</th>\n",
       "      <td>80</td>\n",
       "      <td>160</td>\n",
       "      <td>13.0</td>\n",
       "      <td>2951.00</td>\n",
       "    </tr>\n",
       "    <tr>\n",
       "      <th>10</th>\n",
       "      <td>90</td>\n",
       "      <td>180</td>\n",
       "      <td>15.0</td>\n",
       "      <td>3825.00</td>\n",
       "    </tr>\n",
       "  </tbody>\n",
       "</table>\n",
       "</div>"
      ],
      "text/plain": [
       "        h [mm]  b [mm]  t [mm]  A [mm ^ 2]\n",
       "perfil                                    \n",
       "1           25      50     5.0      350.00\n",
       "2           30      60     5.5      464.75\n",
       "3           35      70     6.0      594.00\n",
       "4           40      80     7.0      791.00\n",
       "5           50     100     8.5     1202.75\n",
       "6           55     115     9.0     1449.00\n",
       "7           60     120    10.0     1700.00\n",
       "8           70     140    11.5     2282.75\n",
       "9           80     160    13.0     2951.00\n",
       "10          90     180    15.0     3825.00"
      ]
     },
     "execution_count": 10,
     "metadata": {},
     "output_type": "execute_result"
    }
   ],
   "source": [
    "#El área para todos los perfiles (R1 = resultados)\n",
    "R = perfiles\n",
    "R['A [mm ^ 2]'] = (perfiles['b [mm]'] * perfiles['t [mm]']) + ((perfiles['h [mm]'] - perfiles['t [mm]']) * perfiles['t [mm]'])\n",
    "R"
   ]
  },
  {
   "cell_type": "code",
   "execution_count": 11,
   "id": "3a089161",
   "metadata": {},
   "outputs": [],
   "source": [
    "# Se hace lo mismo con lo demas \n",
    "\n",
    "##Centroide (Y trazo)\n",
    "                                                     \n",
    "R['Y [mm]'] = ((((perfiles['h [mm]'] - perfiles['t [mm]']) / 2) * ((perfiles['h [mm]'] - perfiles['t [mm]']) * perfiles['t [mm]'])) + (((perfiles['h [mm]'] - perfiles['t [mm]']) + (perfiles['t [mm]'] / 2)) * (perfiles['b [mm]'] * perfiles['t [mm]']))) / perfiles['A [mm ^ 2]']\n",
    "Y2 = perfiles['h [mm]'] - perfiles['Y [mm]']\n"
   ]
  },
  {
   "cell_type": "code",
   "execution_count": 12,
   "id": "69a253a7",
   "metadata": {},
   "outputs": [],
   "source": [
    "##Inercia centroidal alrededor de z\n",
    "R['Iz [mm ^ 4]'] = ((perfiles['b [mm]'] * ((perfiles['t [mm]']) ** 3)) / 12) + ((perfiles['t [mm]'] * ((perfiles['h [mm]'] - perfiles['t [mm]']) ** 3)) / 12) + (((perfiles['h [mm]'] - perfiles['t [mm]']) * perfiles['t [mm]']) * (((perfiles['h [mm]'] - perfiles['t [mm]']) / 2) - perfiles['Y [mm]']) ** 2) + ((perfiles['b [mm]'] * perfiles['t [mm]']) * (((perfiles['h [mm]'] - perfiles['t [mm]']) + (perfiles['t [mm]'] / 2)) - perfiles['Y [mm]']) ** 2)"
   ]
  },
  {
   "cell_type": "code",
   "execution_count": 13,
   "id": "92e3ce8f",
   "metadata": {},
   "outputs": [],
   "source": [
    "#Esfuerzo inferior y superior \n",
    "R['Esf_sup [MPa]'] = Mmax * 10 ** 6 * (perfiles['h [mm]'] - perfiles['Y [mm]']) / perfiles['Iz [mm ^ 4]']"
   ]
  },
  {
   "cell_type": "code",
   "execution_count": 14,
   "id": "c426e680",
   "metadata": {},
   "outputs": [],
   "source": [
    "R['Esf_inf [MPa]'] = - Mmax * 10 ** 6 * perfiles['Y [mm]'] / perfiles['Iz [mm ^ 4]']"
   ]
  },
  {
   "cell_type": "code",
   "execution_count": 15,
   "id": "0397cb1b",
   "metadata": {},
   "outputs": [
    {
     "data": {
      "text/html": [
       "<div>\n",
       "<style scoped>\n",
       "    .dataframe tbody tr th:only-of-type {\n",
       "        vertical-align: middle;\n",
       "    }\n",
       "\n",
       "    .dataframe tbody tr th {\n",
       "        vertical-align: top;\n",
       "    }\n",
       "\n",
       "    .dataframe thead th {\n",
       "        text-align: right;\n",
       "    }\n",
       "</style>\n",
       "<table border=\"1\" class=\"dataframe\">\n",
       "  <thead>\n",
       "    <tr style=\"text-align: right;\">\n",
       "      <th></th>\n",
       "      <th>h [mm]</th>\n",
       "      <th>b [mm]</th>\n",
       "      <th>t [mm]</th>\n",
       "      <th>A [mm ^ 2]</th>\n",
       "      <th>Y [mm]</th>\n",
       "      <th>Iz [mm ^ 4]</th>\n",
       "      <th>Esf_sup [MPa]</th>\n",
       "      <th>Esf_inf [MPa]</th>\n",
       "    </tr>\n",
       "    <tr>\n",
       "      <th>perfil</th>\n",
       "      <th></th>\n",
       "      <th></th>\n",
       "      <th></th>\n",
       "      <th></th>\n",
       "      <th></th>\n",
       "      <th></th>\n",
       "      <th></th>\n",
       "      <th></th>\n",
       "    </tr>\n",
       "  </thead>\n",
       "  <tbody>\n",
       "    <tr>\n",
       "      <th>1</th>\n",
       "      <td>25</td>\n",
       "      <td>50</td>\n",
       "      <td>5.0</td>\n",
       "      <td>350.00</td>\n",
       "      <td>18.928571</td>\n",
       "      <td>1.501488e+04</td>\n",
       "      <td>780.491613</td>\n",
       "      <td>-2433.297381</td>\n",
       "    </tr>\n",
       "    <tr>\n",
       "      <th>2</th>\n",
       "      <td>30</td>\n",
       "      <td>60</td>\n",
       "      <td>5.5</td>\n",
       "      <td>464.75</td>\n",
       "      <td>22.900888</td>\n",
       "      <td>2.910029e+04</td>\n",
       "      <td>470.875396</td>\n",
       "      <td>-1518.987707</td>\n",
       "    </tr>\n",
       "    <tr>\n",
       "      <th>3</th>\n",
       "      <td>35</td>\n",
       "      <td>70</td>\n",
       "      <td>6.0</td>\n",
       "      <td>594.00</td>\n",
       "      <td>26.873737</td>\n",
       "      <td>5.113253e+04</td>\n",
       "      <td>306.755821</td>\n",
       "      <td>-1014.448555</td>\n",
       "    </tr>\n",
       "    <tr>\n",
       "      <th>4</th>\n",
       "      <td>40</td>\n",
       "      <td>80</td>\n",
       "      <td>7.0</td>\n",
       "      <td>791.00</td>\n",
       "      <td>30.659292</td>\n",
       "      <td>8.866585e+04</td>\n",
       "      <td>203.339933</td>\n",
       "      <td>-667.428894</td>\n",
       "    </tr>\n",
       "    <tr>\n",
       "      <th>5</th>\n",
       "      <td>50</td>\n",
       "      <td>100</td>\n",
       "      <td>8.5</td>\n",
       "      <td>1202.75</td>\n",
       "      <td>38.417845</td>\n",
       "      <td>2.115530e+05</td>\n",
       "      <td>105.674323</td>\n",
       "      <td>-350.520222</td>\n",
       "    </tr>\n",
       "    <tr>\n",
       "      <th>6</th>\n",
       "      <td>55</td>\n",
       "      <td>115</td>\n",
       "      <td>9.0</td>\n",
       "      <td>1449.00</td>\n",
       "      <td>42.642857</td>\n",
       "      <td>3.036222e+05</td>\n",
       "      <td>78.556806</td>\n",
       "      <td>-271.089094</td>\n",
       "    </tr>\n",
       "    <tr>\n",
       "      <th>7</th>\n",
       "      <td>60</td>\n",
       "      <td>120</td>\n",
       "      <td>10.0</td>\n",
       "      <td>1700.00</td>\n",
       "      <td>46.176471</td>\n",
       "      <td>4.318137e+05</td>\n",
       "      <td>61.790505</td>\n",
       "      <td>-206.406579</td>\n",
       "    </tr>\n",
       "    <tr>\n",
       "      <th>8</th>\n",
       "      <td>70</td>\n",
       "      <td>140</td>\n",
       "      <td>11.5</td>\n",
       "      <td>2282.75</td>\n",
       "      <td>53.935139</td>\n",
       "      <td>7.908459e+05</td>\n",
       "      <td>39.208874</td>\n",
       "      <td>-131.637367</td>\n",
       "    </tr>\n",
       "    <tr>\n",
       "      <th>9</th>\n",
       "      <td>80</td>\n",
       "      <td>160</td>\n",
       "      <td>13.0</td>\n",
       "      <td>2951.00</td>\n",
       "      <td>61.693833</td>\n",
       "      <td>1.337393e+06</td>\n",
       "      <td>26.420292</td>\n",
       "      <td>-89.039340</td>\n",
       "    </tr>\n",
       "    <tr>\n",
       "      <th>10</th>\n",
       "      <td>90</td>\n",
       "      <td>180</td>\n",
       "      <td>15.0</td>\n",
       "      <td>3825.00</td>\n",
       "      <td>69.264706</td>\n",
       "      <td>2.186057e+06</td>\n",
       "      <td>18.308298</td>\n",
       "      <td>-61.157505</td>\n",
       "    </tr>\n",
       "  </tbody>\n",
       "</table>\n",
       "</div>"
      ],
      "text/plain": [
       "        h [mm]  b [mm]  t [mm]  A [mm ^ 2]     Y [mm]   Iz [mm ^ 4]  \\\n",
       "perfil                                                                \n",
       "1           25      50     5.0      350.00  18.928571  1.501488e+04   \n",
       "2           30      60     5.5      464.75  22.900888  2.910029e+04   \n",
       "3           35      70     6.0      594.00  26.873737  5.113253e+04   \n",
       "4           40      80     7.0      791.00  30.659292  8.866585e+04   \n",
       "5           50     100     8.5     1202.75  38.417845  2.115530e+05   \n",
       "6           55     115     9.0     1449.00  42.642857  3.036222e+05   \n",
       "7           60     120    10.0     1700.00  46.176471  4.318137e+05   \n",
       "8           70     140    11.5     2282.75  53.935139  7.908459e+05   \n",
       "9           80     160    13.0     2951.00  61.693833  1.337393e+06   \n",
       "10          90     180    15.0     3825.00  69.264706  2.186057e+06   \n",
       "\n",
       "        Esf_sup [MPa]  Esf_inf [MPa]  \n",
       "perfil                                \n",
       "1          780.491613   -2433.297381  \n",
       "2          470.875396   -1518.987707  \n",
       "3          306.755821   -1014.448555  \n",
       "4          203.339933    -667.428894  \n",
       "5          105.674323    -350.520222  \n",
       "6           78.556806    -271.089094  \n",
       "7           61.790505    -206.406579  \n",
       "8           39.208874    -131.637367  \n",
       "9           26.420292     -89.039340  \n",
       "10          18.308298     -61.157505  "
      ]
     },
     "execution_count": 15,
     "metadata": {},
     "output_type": "execute_result"
    }
   ],
   "source": [
    "R"
   ]
  },
  {
   "cell_type": "markdown",
   "id": "34fc9477",
   "metadata": {},
   "source": [
    "# $2 \\ .\\ Perfil \\ óptimo$"
   ]
  },
  {
   "cell_type": "code",
   "execution_count": 16,
   "id": "ead357c3",
   "metadata": {},
   "outputs": [
    {
     "data": {
      "text/html": [
       "<div>\n",
       "<style scoped>\n",
       "    .dataframe tbody tr th:only-of-type {\n",
       "        vertical-align: middle;\n",
       "    }\n",
       "\n",
       "    .dataframe tbody tr th {\n",
       "        vertical-align: top;\n",
       "    }\n",
       "\n",
       "    .dataframe thead th {\n",
       "        text-align: right;\n",
       "    }\n",
       "</style>\n",
       "<table border=\"1\" class=\"dataframe\">\n",
       "  <thead>\n",
       "    <tr style=\"text-align: right;\">\n",
       "      <th></th>\n",
       "      <th>h [mm]</th>\n",
       "      <th>b [mm]</th>\n",
       "      <th>t [mm]</th>\n",
       "      <th>A [mm ^ 2]</th>\n",
       "      <th>Y [mm]</th>\n",
       "      <th>Iz [mm ^ 4]</th>\n",
       "      <th>Esf_sup [MPa]</th>\n",
       "      <th>Esf_inf [MPa]</th>\n",
       "    </tr>\n",
       "    <tr>\n",
       "      <th>perfil</th>\n",
       "      <th></th>\n",
       "      <th></th>\n",
       "      <th></th>\n",
       "      <th></th>\n",
       "      <th></th>\n",
       "      <th></th>\n",
       "      <th></th>\n",
       "      <th></th>\n",
       "    </tr>\n",
       "  </thead>\n",
       "  <tbody>\n",
       "    <tr>\n",
       "      <th>4</th>\n",
       "      <td>40</td>\n",
       "      <td>80</td>\n",
       "      <td>7.0</td>\n",
       "      <td>791.00</td>\n",
       "      <td>30.659292</td>\n",
       "      <td>8.866585e+04</td>\n",
       "      <td>203.339933</td>\n",
       "      <td>-667.428894</td>\n",
       "    </tr>\n",
       "    <tr>\n",
       "      <th>5</th>\n",
       "      <td>50</td>\n",
       "      <td>100</td>\n",
       "      <td>8.5</td>\n",
       "      <td>1202.75</td>\n",
       "      <td>38.417845</td>\n",
       "      <td>2.115530e+05</td>\n",
       "      <td>105.674323</td>\n",
       "      <td>-350.520222</td>\n",
       "    </tr>\n",
       "    <tr>\n",
       "      <th>6</th>\n",
       "      <td>55</td>\n",
       "      <td>115</td>\n",
       "      <td>9.0</td>\n",
       "      <td>1449.00</td>\n",
       "      <td>42.642857</td>\n",
       "      <td>3.036222e+05</td>\n",
       "      <td>78.556806</td>\n",
       "      <td>-271.089094</td>\n",
       "    </tr>\n",
       "    <tr>\n",
       "      <th>7</th>\n",
       "      <td>60</td>\n",
       "      <td>120</td>\n",
       "      <td>10.0</td>\n",
       "      <td>1700.00</td>\n",
       "      <td>46.176471</td>\n",
       "      <td>4.318137e+05</td>\n",
       "      <td>61.790505</td>\n",
       "      <td>-206.406579</td>\n",
       "    </tr>\n",
       "    <tr>\n",
       "      <th>8</th>\n",
       "      <td>70</td>\n",
       "      <td>140</td>\n",
       "      <td>11.5</td>\n",
       "      <td>2282.75</td>\n",
       "      <td>53.935139</td>\n",
       "      <td>7.908459e+05</td>\n",
       "      <td>39.208874</td>\n",
       "      <td>-131.637367</td>\n",
       "    </tr>\n",
       "    <tr>\n",
       "      <th>9</th>\n",
       "      <td>80</td>\n",
       "      <td>160</td>\n",
       "      <td>13.0</td>\n",
       "      <td>2951.00</td>\n",
       "      <td>61.693833</td>\n",
       "      <td>1.337393e+06</td>\n",
       "      <td>26.420292</td>\n",
       "      <td>-89.039340</td>\n",
       "    </tr>\n",
       "    <tr>\n",
       "      <th>10</th>\n",
       "      <td>90</td>\n",
       "      <td>180</td>\n",
       "      <td>15.0</td>\n",
       "      <td>3825.00</td>\n",
       "      <td>69.264706</td>\n",
       "      <td>2.186057e+06</td>\n",
       "      <td>18.308298</td>\n",
       "      <td>-61.157505</td>\n",
       "    </tr>\n",
       "  </tbody>\n",
       "</table>\n",
       "</div>"
      ],
      "text/plain": [
       "        h [mm]  b [mm]  t [mm]  A [mm ^ 2]     Y [mm]   Iz [mm ^ 4]  \\\n",
       "perfil                                                                \n",
       "4           40      80     7.0      791.00  30.659292  8.866585e+04   \n",
       "5           50     100     8.5     1202.75  38.417845  2.115530e+05   \n",
       "6           55     115     9.0     1449.00  42.642857  3.036222e+05   \n",
       "7           60     120    10.0     1700.00  46.176471  4.318137e+05   \n",
       "8           70     140    11.5     2282.75  53.935139  7.908459e+05   \n",
       "9           80     160    13.0     2951.00  61.693833  1.337393e+06   \n",
       "10          90     180    15.0     3825.00  69.264706  2.186057e+06   \n",
       "\n",
       "        Esf_sup [MPa]  Esf_inf [MPa]  \n",
       "perfil                                \n",
       "4          203.339933    -667.428894  \n",
       "5          105.674323    -350.520222  \n",
       "6           78.556806    -271.089094  \n",
       "7           61.790505    -206.406579  \n",
       "8           39.208874    -131.637367  \n",
       "9           26.420292     -89.039340  \n",
       "10          18.308298     -61.157505  "
      ]
     },
     "execution_count": 16,
     "metadata": {},
     "output_type": "execute_result"
    }
   ],
   "source": [
    "Filtro = R['Esf_sup [MPa]'] <= 250\n",
    "R[Filtro]"
   ]
  },
  {
   "cell_type": "code",
   "execution_count": 17,
   "id": "55b8b4f4",
   "metadata": {},
   "outputs": [
    {
     "data": {
      "text/html": [
       "<div>\n",
       "<style scoped>\n",
       "    .dataframe tbody tr th:only-of-type {\n",
       "        vertical-align: middle;\n",
       "    }\n",
       "\n",
       "    .dataframe tbody tr th {\n",
       "        vertical-align: top;\n",
       "    }\n",
       "\n",
       "    .dataframe thead th {\n",
       "        text-align: right;\n",
       "    }\n",
       "</style>\n",
       "<table border=\"1\" class=\"dataframe\">\n",
       "  <thead>\n",
       "    <tr style=\"text-align: right;\">\n",
       "      <th></th>\n",
       "      <th>h [mm]</th>\n",
       "      <th>b [mm]</th>\n",
       "      <th>t [mm]</th>\n",
       "      <th>A [mm ^ 2]</th>\n",
       "      <th>Y [mm]</th>\n",
       "      <th>Iz [mm ^ 4]</th>\n",
       "      <th>Esf_sup [MPa]</th>\n",
       "      <th>Esf_inf [MPa]</th>\n",
       "    </tr>\n",
       "    <tr>\n",
       "      <th>perfil</th>\n",
       "      <th></th>\n",
       "      <th></th>\n",
       "      <th></th>\n",
       "      <th></th>\n",
       "      <th></th>\n",
       "      <th></th>\n",
       "      <th></th>\n",
       "      <th></th>\n",
       "    </tr>\n",
       "  </thead>\n",
       "  <tbody>\n",
       "    <tr>\n",
       "      <th>1</th>\n",
       "      <td>25</td>\n",
       "      <td>50</td>\n",
       "      <td>5.0</td>\n",
       "      <td>350.00</td>\n",
       "      <td>18.928571</td>\n",
       "      <td>1.501488e+04</td>\n",
       "      <td>780.491613</td>\n",
       "      <td>-2433.297381</td>\n",
       "    </tr>\n",
       "    <tr>\n",
       "      <th>2</th>\n",
       "      <td>30</td>\n",
       "      <td>60</td>\n",
       "      <td>5.5</td>\n",
       "      <td>464.75</td>\n",
       "      <td>22.900888</td>\n",
       "      <td>2.910029e+04</td>\n",
       "      <td>470.875396</td>\n",
       "      <td>-1518.987707</td>\n",
       "    </tr>\n",
       "    <tr>\n",
       "      <th>3</th>\n",
       "      <td>35</td>\n",
       "      <td>70</td>\n",
       "      <td>6.0</td>\n",
       "      <td>594.00</td>\n",
       "      <td>26.873737</td>\n",
       "      <td>5.113253e+04</td>\n",
       "      <td>306.755821</td>\n",
       "      <td>-1014.448555</td>\n",
       "    </tr>\n",
       "    <tr>\n",
       "      <th>4</th>\n",
       "      <td>40</td>\n",
       "      <td>80</td>\n",
       "      <td>7.0</td>\n",
       "      <td>791.00</td>\n",
       "      <td>30.659292</td>\n",
       "      <td>8.866585e+04</td>\n",
       "      <td>203.339933</td>\n",
       "      <td>-667.428894</td>\n",
       "    </tr>\n",
       "    <tr>\n",
       "      <th>5</th>\n",
       "      <td>50</td>\n",
       "      <td>100</td>\n",
       "      <td>8.5</td>\n",
       "      <td>1202.75</td>\n",
       "      <td>38.417845</td>\n",
       "      <td>2.115530e+05</td>\n",
       "      <td>105.674323</td>\n",
       "      <td>-350.520222</td>\n",
       "    </tr>\n",
       "    <tr>\n",
       "      <th>6</th>\n",
       "      <td>55</td>\n",
       "      <td>115</td>\n",
       "      <td>9.0</td>\n",
       "      <td>1449.00</td>\n",
       "      <td>42.642857</td>\n",
       "      <td>3.036222e+05</td>\n",
       "      <td>78.556806</td>\n",
       "      <td>-271.089094</td>\n",
       "    </tr>\n",
       "    <tr>\n",
       "      <th>7</th>\n",
       "      <td>60</td>\n",
       "      <td>120</td>\n",
       "      <td>10.0</td>\n",
       "      <td>1700.00</td>\n",
       "      <td>46.176471</td>\n",
       "      <td>4.318137e+05</td>\n",
       "      <td>61.790505</td>\n",
       "      <td>-206.406579</td>\n",
       "    </tr>\n",
       "    <tr>\n",
       "      <th>8</th>\n",
       "      <td>70</td>\n",
       "      <td>140</td>\n",
       "      <td>11.5</td>\n",
       "      <td>2282.75</td>\n",
       "      <td>53.935139</td>\n",
       "      <td>7.908459e+05</td>\n",
       "      <td>39.208874</td>\n",
       "      <td>-131.637367</td>\n",
       "    </tr>\n",
       "    <tr>\n",
       "      <th>9</th>\n",
       "      <td>80</td>\n",
       "      <td>160</td>\n",
       "      <td>13.0</td>\n",
       "      <td>2951.00</td>\n",
       "      <td>61.693833</td>\n",
       "      <td>1.337393e+06</td>\n",
       "      <td>26.420292</td>\n",
       "      <td>-89.039340</td>\n",
       "    </tr>\n",
       "    <tr>\n",
       "      <th>10</th>\n",
       "      <td>90</td>\n",
       "      <td>180</td>\n",
       "      <td>15.0</td>\n",
       "      <td>3825.00</td>\n",
       "      <td>69.264706</td>\n",
       "      <td>2.186057e+06</td>\n",
       "      <td>18.308298</td>\n",
       "      <td>-61.157505</td>\n",
       "    </tr>\n",
       "  </tbody>\n",
       "</table>\n",
       "</div>"
      ],
      "text/plain": [
       "        h [mm]  b [mm]  t [mm]  A [mm ^ 2]     Y [mm]   Iz [mm ^ 4]  \\\n",
       "perfil                                                                \n",
       "1           25      50     5.0      350.00  18.928571  1.501488e+04   \n",
       "2           30      60     5.5      464.75  22.900888  2.910029e+04   \n",
       "3           35      70     6.0      594.00  26.873737  5.113253e+04   \n",
       "4           40      80     7.0      791.00  30.659292  8.866585e+04   \n",
       "5           50     100     8.5     1202.75  38.417845  2.115530e+05   \n",
       "6           55     115     9.0     1449.00  42.642857  3.036222e+05   \n",
       "7           60     120    10.0     1700.00  46.176471  4.318137e+05   \n",
       "8           70     140    11.5     2282.75  53.935139  7.908459e+05   \n",
       "9           80     160    13.0     2951.00  61.693833  1.337393e+06   \n",
       "10          90     180    15.0     3825.00  69.264706  2.186057e+06   \n",
       "\n",
       "        Esf_sup [MPa]  Esf_inf [MPa]  \n",
       "perfil                                \n",
       "1          780.491613   -2433.297381  \n",
       "2          470.875396   -1518.987707  \n",
       "3          306.755821   -1014.448555  \n",
       "4          203.339933    -667.428894  \n",
       "5          105.674323    -350.520222  \n",
       "6           78.556806    -271.089094  \n",
       "7           61.790505    -206.406579  \n",
       "8           39.208874    -131.637367  \n",
       "9           26.420292     -89.039340  \n",
       "10          18.308298     -61.157505  "
      ]
     },
     "execution_count": 17,
     "metadata": {},
     "output_type": "execute_result"
    }
   ],
   "source": [
    "Filtro2 = R['Esf_inf [MPa]'] <= 250\n",
    "R[Filtro2]"
   ]
  },
  {
   "cell_type": "code",
   "execution_count": 18,
   "id": "41e797df",
   "metadata": {},
   "outputs": [
    {
     "data": {
      "text/plain": [
       "perfil\n",
       "4      791.00\n",
       "5     1202.75\n",
       "6     1449.00\n",
       "7     1700.00\n",
       "8     2282.75\n",
       "9     2951.00\n",
       "10    3825.00\n",
       "Name: A [mm ^ 2], dtype: float64"
      ]
     },
     "execution_count": 18,
     "metadata": {},
     "output_type": "execute_result"
    }
   ],
   "source": [
    "#Área minima \n",
    "\n",
    "R.loc[Filtro, 'A [mm ^ 2]']"
   ]
  },
  {
   "cell_type": "code",
   "execution_count": 19,
   "id": "42cd04e7",
   "metadata": {},
   "outputs": [
    {
     "data": {
      "text/plain": [
       "791.0"
      ]
     },
     "execution_count": 19,
     "metadata": {},
     "output_type": "execute_result"
    }
   ],
   "source": [
    "#Una vez se saquen los valores de lals áreas se calcula el area minima (Amin)\n",
    "\n",
    "Amin = R.loc[Filtro, 'A [mm ^ 2]'].min()\n",
    "Amin"
   ]
  },
  {
   "cell_type": "code",
   "execution_count": 20,
   "id": "d9f26420",
   "metadata": {},
   "outputs": [
    {
     "data": {
      "text/plain": [
       "4"
      ]
     },
     "execution_count": 20,
     "metadata": {},
     "output_type": "execute_result"
    }
   ],
   "source": [
    "#Indice de Amin (indice:ind)\n",
    "\n",
    "ind = R.loc[Filtro, 'A [mm ^ 2]'].idxmin()\n",
    "ind"
   ]
  },
  {
   "cell_type": "code",
   "execution_count": 39,
   "id": "0efbfa5d",
   "metadata": {},
   "outputs": [
    {
     "data": {
      "text/html": [
       "<div>\n",
       "<style scoped>\n",
       "    .dataframe tbody tr th:only-of-type {\n",
       "        vertical-align: middle;\n",
       "    }\n",
       "\n",
       "    .dataframe tbody tr th {\n",
       "        vertical-align: top;\n",
       "    }\n",
       "\n",
       "    .dataframe thead th {\n",
       "        text-align: right;\n",
       "    }\n",
       "</style>\n",
       "<table border=\"1\" class=\"dataframe\">\n",
       "  <thead>\n",
       "    <tr style=\"text-align: right;\">\n",
       "      <th></th>\n",
       "      <th>h [mm]</th>\n",
       "      <th>b [mm]</th>\n",
       "      <th>t [mm]</th>\n",
       "      <th>A [mm ^ 2]</th>\n",
       "    </tr>\n",
       "    <tr>\n",
       "      <th>perfil</th>\n",
       "      <th></th>\n",
       "      <th></th>\n",
       "      <th></th>\n",
       "      <th></th>\n",
       "    </tr>\n",
       "  </thead>\n",
       "  <tbody>\n",
       "    <tr>\n",
       "      <th>4</th>\n",
       "      <td>40</td>\n",
       "      <td>80</td>\n",
       "      <td>7.0</td>\n",
       "      <td>791.0</td>\n",
       "    </tr>\n",
       "  </tbody>\n",
       "</table>\n",
       "</div>"
      ],
      "text/plain": [
       "        h [mm]  b [mm]  t [mm]  A [mm ^ 2]\n",
       "perfil                                    \n",
       "4           40      80     7.0       791.0"
      ]
     },
     "execution_count": 39,
     "metadata": {},
     "output_type": "execute_result"
    }
   ],
   "source": [
    "#Perfil óptimo (perfil optimo : P_opt)\n",
    "\n",
    "P_opt = perfiles.loc[[ind], :'A [mm ^ 2]']\n",
    "P_opt"
   ]
  },
  {
   "cell_type": "code",
   "execution_count": 40,
   "id": "aa641c24",
   "metadata": {},
   "outputs": [
    {
     "data": {
      "text/plain": [
       "perfil\n",
       "4    203.339933\n",
       "Name: Esf_sup [MPa], dtype: float64"
      ]
     },
     "execution_count": 40,
     "metadata": {},
     "output_type": "execute_result"
    }
   ],
   "source": [
    "P_opt1 = perfiles.loc[[ind], 'Esf_sup [MPa]']\n",
    "P_opt1"
   ]
  },
  {
   "cell_type": "code",
   "execution_count": 43,
   "id": "a5f0dfc2",
   "metadata": {},
   "outputs": [
    {
     "data": {
      "text/plain": [
       "perfil\n",
       "4   -667.428894\n",
       "Name: Esf_inf [MPa], dtype: float64"
      ]
     },
     "execution_count": 43,
     "metadata": {},
     "output_type": "execute_result"
    }
   ],
   "source": [
    "P_opt2 = perfiles.loc[[ind], 'Esf_inf [MPa]']\n",
    "P_opt2"
   ]
  },
  {
   "cell_type": "code",
   "execution_count": 36,
   "id": "c645c321",
   "metadata": {},
   "outputs": [],
   "source": [
    "#Exportar los datos solicitados a el documento de excel \n",
    "\n",
    "with pa.ExcelWriter('T2.xlsx', mode='a', if_sheet_exists = 'overlay', engine='openpyxl') as writer:  \n",
    "\n",
    "    book = op.load_workbook('T2.xlsx')\n",
    " \n",
    "    writer.book = book\n",
    "    writer.sheets = dict((ws.title, ws) for ws in book.worksheets)\n",
    "    R.to_excel(writer, startrow=3, startcol=6, sheet_name='Perfiles')\n"
   ]
  },
  {
   "cell_type": "code",
   "execution_count": 41,
   "id": "ed39410f",
   "metadata": {},
   "outputs": [],
   "source": [
    "with pa.ExcelWriter('T2.xlsx', mode='a', if_sheet_exists = 'overlay', engine='openpyxl') as writer:  \n",
    "\n",
    "    book = op.load_workbook('T2.xlsx')\n",
    " \n",
    "    writer.book = book\n",
    "    writer.sheets = dict((ws.title, ws) for ws in book.worksheets)\n",
    "    P_opt.to_excel(writer, startrow=18, startcol=6, sheet_name='Perfiles', index=None)"
   ]
  },
  {
   "cell_type": "code",
   "execution_count": 45,
   "id": "6d4888e1",
   "metadata": {},
   "outputs": [],
   "source": [
    "with pa.ExcelWriter('T2.xlsx', mode='a', if_sheet_exists = 'overlay', engine='openpyxl') as writer:  \n",
    "\n",
    "    book = op.load_workbook('T2.xlsx')\n",
    " \n",
    "    writer.book = book\n",
    "    writer.sheets = dict((ws.title, ws) for ws in book.worksheets)\n",
    "    P_opt1.to_excel(writer, startrow=18, startcol=10, sheet_name='Perfiles', index=None)"
   ]
  },
  {
   "cell_type": "code",
   "execution_count": 46,
   "id": "bf05334a",
   "metadata": {},
   "outputs": [],
   "source": [
    "with pa.ExcelWriter('T2.xlsx', mode='a', if_sheet_exists = 'overlay', engine='openpyxl') as writer:  \n",
    "\n",
    "    book = op.load_workbook('T2.xlsx')\n",
    " \n",
    "    writer.book = book\n",
    "    writer.sheets = dict((ws.title, ws) for ws in book.worksheets)\n",
    "    P_opt2.to_excel(writer, startrow=18, startcol=11, sheet_name='Perfiles', index=None)"
   ]
  },
  {
   "cell_type": "code",
   "execution_count": null,
   "id": "25563692",
   "metadata": {},
   "outputs": [],
   "source": []
  }
 ],
 "metadata": {
  "kernelspec": {
   "display_name": "Python 3 (ipykernel)",
   "language": "python",
   "name": "python3"
  },
  "language_info": {
   "codemirror_mode": {
    "name": "ipython",
    "version": 3
   },
   "file_extension": ".py",
   "mimetype": "text/x-python",
   "name": "python",
   "nbconvert_exporter": "python",
   "pygments_lexer": "ipython3",
   "version": "3.10.1"
  }
 },
 "nbformat": 4,
 "nbformat_minor": 5
}
