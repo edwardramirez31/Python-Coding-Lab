{
 "cells": [
  {
   "cell_type": "code",
   "execution_count": 39,
   "id": "c7c11aeb",
   "metadata": {},
   "outputs": [
    {
     "name": "stderr",
     "output_type": "stream",
     "text": [
      "Matplotlib is building the font cache; this may take a moment.\n"
     ]
    }
   ],
   "source": [
    "import numpy as nu\n",
    "import sympy as sy\n",
    "import pandas as pa\n",
    "import matplotlib.pyplot as plt"
   ]
  },
  {
   "cell_type": "code",
   "execution_count": 2,
   "id": "d11684c1",
   "metadata": {},
   "outputs": [],
   "source": [
    "# VALOR DE X y Y\n",
    "\n",
    "## X = FACTOR DE CARGA DE LA DISTRIBUCIÓN DE CORREAS Y LOS MATERIALES.\n",
    "## Y = FACTOR DE AMPLITUD DEBIDO A CARGA VIVA Y DE VIENTO.\n",
    "\n",
    "codigo = [ 2, 1, 8, 4, 0, 2, 5 ]\n",
    "X = sum (codigo)\n",
    "Y = X/3"
   ]
  },
  {
   "cell_type": "markdown",
   "id": "4501a6da",
   "metadata": {},
   "source": [
    "# $1\\.\\  Datos\\$"
   ]
  },
  {
   "cell_type": "code",
   "execution_count": 5,
   "id": "b5cc00a5",
   "metadata": {},
   "outputs": [
    {
     "name": "stdout",
     "output_type": "stream",
     "text": [
      "Ingrese w en kN / m: 0.183\n",
      "Ingrese P en kN: 1.1\n",
      "Ingrese L1 en metros: 1.1\n",
      "Ingrese L2 en metros: 1.65\n",
      "Ingrese L3 en metros: 0.55\n",
      "Ingrese L4 en metros: 3.3\n"
     ]
    }
   ],
   "source": [
    "# Para las condiciones anteriores se tiene lo siguiente:\n",
    "\n",
    "Datos_viga = {\n",
    "    \"w\": \"kN / m\",\n",
    "    \"P\": \"kN\",\n",
    "    \"L1\": \"metros\",\n",
    "    \"L2\": \"metros\",\n",
    "    \"L3\": \"metros\",\n",
    "    \"L4\": \"metros\",  \n",
    "}\n",
    "\n",
    "for llave, valor in Datos_viga.items():\n",
    "    while True:\n",
    "        try:\n",
    "            Datos_viga[llave] = float(input(f\"Ingrese {llave} en {valor}: \"))\n",
    "            break\n",
    "        except:\n",
    "            print(f\"Ingrese correctamente el dato {llave} con su unidad en {valor}\")"
   ]
  },
  {
   "cell_type": "code",
   "execution_count": 6,
   "id": "d6c86c9c",
   "metadata": {},
   "outputs": [
    {
     "data": {
      "text/plain": [
       "{'w': 0.183, 'P': 1.1, 'L1': 1.1, 'L2': 1.65, 'L3': 0.55, 'L4': 3.3}"
      ]
     },
     "execution_count": 6,
     "metadata": {},
     "output_type": "execute_result"
    }
   ],
   "source": [
    "Datos_viga"
   ]
  },
  {
   "cell_type": "markdown",
   "id": "b4b8f325",
   "metadata": {},
   "source": [
    "# $2\\.\\  Ecuaciones\\ de\\ equilibrio.\\$"
   ]
  },
  {
   "cell_type": "code",
   "execution_count": 7,
   "id": "924aac51",
   "metadata": {},
   "outputs": [],
   "source": [
    "GIE = 3-3"
   ]
  },
  {
   "cell_type": "code",
   "execution_count": 8,
   "id": "ccb29369",
   "metadata": {},
   "outputs": [
    {
     "data": {
      "text/plain": [
       "0"
      ]
     },
     "execution_count": 8,
     "metadata": {},
     "output_type": "execute_result"
    }
   ],
   "source": [
    "GIE"
   ]
  },
  {
   "cell_type": "code",
   "execution_count": 15,
   "id": "724bee9a",
   "metadata": {},
   "outputs": [],
   "source": [
    "Ax, Ay, Ma, x = sy.symbols(\"Ax Ay Ma x\")"
   ]
  },
  {
   "cell_type": "code",
   "execution_count": 16,
   "id": "835064f8",
   "metadata": {},
   "outputs": [
    {
     "data": {
      "text/latex": [
       "$\\displaystyle -0.324892459305202$"
      ],
      "text/plain": [
       "-0.324892459305202"
      ]
     },
     "execution_count": 16,
     "metadata": {},
     "output_type": "execute_result"
    }
   ],
   "source": [
    "# Ecuaciones de equilibrio en y\n",
    "Fy = Ay - ((Datos_viga[\"w\"]*Datos_viga[\"L1\"])/2) - ((Datos_viga[\"w\"]*Datos_viga[\"L3\"])/2) - (Datos_viga[\"w\"]*Datos_viga[\"L2\"]) + (Datos_viga[\"P\"]*sy.sin(angulo1)) \n",
    "Fy = sy.Eq(Fy, 0)\n",
    "Ay =  sy.solve(Fy)[0]\n",
    "\n",
    "# Valor de reaccion en kN\n",
    "Ay"
   ]
  },
  {
   "cell_type": "code",
   "execution_count": 17,
   "id": "8eeb5739",
   "metadata": {},
   "outputs": [
    {
     "data": {
      "text/latex": [
       "$\\displaystyle 0.777817459305202$"
      ],
      "text/plain": [
       "0.777817459305202"
      ]
     },
     "execution_count": 17,
     "metadata": {},
     "output_type": "execute_result"
    }
   ],
   "source": [
    "# Ecuaciones de equilibrio en x\n",
    "Fx = Ax - (Datos_viga[\"P\"]*sy.cos(angulo1)) \n",
    "Fx = sy.Eq(Fx, 0)\n",
    "Ax =  sy.solve(Fx)[0]\n",
    "\n",
    "# Valor de reaccion en kN\n",
    "Ax"
   ]
  },
  {
   "cell_type": "code",
   "execution_count": 18,
   "id": "56859520",
   "metadata": {},
   "outputs": [
    {
     "data": {
      "text/latex": [
       "$\\displaystyle -1.93018636570717$"
      ],
      "text/plain": [
       "-1.93018636570717"
      ]
     },
     "execution_count": 18,
     "metadata": {},
     "output_type": "execute_result"
    }
   ],
   "source": [
    "# Momento en A\n",
    "momento_a = Ma - ((Datos_viga[\"w\"]*Datos_viga[\"L1\"]*Datos_viga[\"L1\"])/3) - (((Datos_viga[\"w\"]*Datos_viga[\"L3\"])/2)*(Datos_viga[\"L4\"]-((2*Datos_viga[\"L3\"])/3))) - ((Datos_viga[\"w\"]*Datos_viga[\"L2\"])*(Datos_viga[\"L1\"]+(Datos_viga[\"L3\"]/2))) + (Datos_viga[\"P\"]*sy.sin(angulo1)*Datos_viga[\"L4\"]) \n",
    "momento_a = sy.Eq(momento_a, 0)\n",
    "Ma =  sy.solve(momento_a)[0]\n",
    "\n",
    "# Valor de reaccion en kN\n",
    "Ma"
   ]
  },
  {
   "cell_type": "markdown",
   "id": "90c258b4",
   "metadata": {},
   "source": [
    "# $\\ a)\\.\\  Ecuaciones\\ de\\ cortante\\ y\\ momento\\ flector.\\$"
   ]
  },
  {
   "cell_type": "code",
   "execution_count": 22,
   "id": "f6637476",
   "metadata": {},
   "outputs": [
    {
     "data": {
      "text/latex": [
       "$\\displaystyle - 0.0277272727272727 x^{3} - 0.324892459305202 x + 1.93018636570717$"
      ],
      "text/plain": [
       "-0.0277272727272727*x**3 - 0.324892459305202*x + 1.93018636570717"
      ]
     },
     "execution_count": 22,
     "metadata": {},
     "output_type": "execute_result"
    }
   ],
   "source": [
    "# Tramo AC con x=0 en A 0 <= x <= L1\n",
    "#CargaD : carga distribuida\n",
    "\n",
    "CargaD = Datos_viga[\"w\"] * x / Datos_viga[\"L1\"]\n",
    "\n",
    "# Fuerza cortante\n",
    "Vx1 = Ay - sy.integrate(CargaD, x)\n",
    "\n",
    "#Momento flector \n",
    "Mx1 = - Ma + sy.integrate(Vx1, x)\n",
    "Mx1"
   ]
  },
  {
   "cell_type": "code",
   "execution_count": 23,
   "id": "92374df1",
   "metadata": {},
   "outputs": [
    {
     "data": {
      "text/latex": [
       "$\\displaystyle - 0.0915 x^{2} - 0.425542459305202 x + 1.53589966047145$"
      ],
      "text/plain": [
       "-0.0915*x**2 - 0.425542459305202*x + 1.53589966047145"
      ]
     },
     "execution_count": 23,
     "metadata": {},
     "output_type": "execute_result"
    }
   ],
   "source": [
    "# Tramo CD con x=0 en C 0 <= x <= L2\n",
    "#CargaD : carga distribuida\n",
    "\n",
    "CargaD = Datos_viga[\"w\"] \n",
    "\n",
    "# Fuerza cortante\n",
    "Vx2 = Vx1.subs(x, Datos_viga[\"L1\"]) - sy.integrate(CargaD, x)\n",
    "\n",
    "#Momento flector \n",
    "Mx2 = sy.integrate(Vx2, x) + Mx1.subs(x, Datos_viga[\"L1\"])\n",
    "Mx2"
   ]
  },
  {
   "cell_type": "code",
   "execution_count": 24,
   "id": "9458e407",
   "metadata": {},
   "outputs": [
    {
     "data": {
      "text/latex": [
       "$\\displaystyle 0.0554545454545455 x^{3} - 0.0915 x^{2} - 0.727492459305202 x + 0.584645852617865$"
      ],
      "text/plain": [
       "0.0554545454545455*x**3 - 0.0915*x**2 - 0.727492459305202*x + 0.584645852617865"
      ]
     },
     "execution_count": 24,
     "metadata": {},
     "output_type": "execute_result"
    }
   ],
   "source": [
    "# Tramo DB con x=0 en B 0 <= x <= L3\n",
    "#CargaD : carga distribuida\n",
    "\n",
    "CargaD = - ((Datos_viga[\"w\"] / Datos_viga[\"L3\"]) * x) + Datos_viga[\"w\"]\n",
    "\n",
    "# Fuerza cortante\n",
    "Vx3 = Vx2.subs(x, Datos_viga[\"L2\"]) - sy.integrate(CargaD, x)\n",
    "\n",
    "#Momento flector \n",
    "Mx3 = sy.integrate(Vx3, x) + Mx2.subs(x, Datos_viga[\"L2\"])\n",
    "Mx3"
   ]
  },
  {
   "cell_type": "markdown",
   "id": "4b6d4431",
   "metadata": {},
   "source": [
    "# $\\ Diagramas\\ de\\ cortante\\ y\\ momento\\ flector.\\$"
   ]
  },
  {
   "cell_type": "code",
   "execution_count": 74,
   "id": "cd362fa0",
   "metadata": {},
   "outputs": [
    {
     "data": {
      "image/png": "[encoded data removed]",
      "text/plain": [
       "<Figure size 432x288 with 1 Axes>"
      ]
     },
     "metadata": {
      "needs_background": "light"
     },
     "output_type": "display_data"
    },
    {
     "data": {
      "text/plain": [
       "<sympy.plotting.plot.Plot at 0x1f425bb7190>"
      ]
     },
     "execution_count": 74,
     "metadata": {},
     "output_type": "execute_result"
    }
   ],
   "source": [
    "# Fuerza cortante en kN\n",
    "x_array = nu.arange(0, Datos_viga[\"L4\"] + 0.01, 0.01)\n",
    "\n",
    "#Funcion de cada tramo (T)\n",
    "T1 = sy.lambdify(x, Vx1)(x_array[x_array <= Datos_viga[\"L1\"]])\n",
    "T2 = sy.lambdify(x, Vx2)(x_array[(x_array > Datos_viga[\"L1\"]) & (x_array <= (Datos_viga[\"L1\"] + Datos_viga[\"L2\"]))] - Datos_viga[\"L1\"])\n",
    "T3 = sy.lambdify(x, Vx3)(x_array[x_array >( Datos_viga[\"L1\"] + Datos_viga[\"L2\"]) - Datos_viga[\"L1\"] - Datos_viga[\"L2\"]])\n",
    "\n",
    "Cort_y = nu.concatenate((T1, T2, T3))\n",
    "sy.plot((Vx1, (x, 0, Datos_viga[\"L1\"])), (Vx2.subs(x, x - Datos_viga[\"L1\"]), (x, Datos_viga[\"L1\"], Datos_viga[\"L1\"] + Datos_viga[\"L2\"])), (Vx3.subs(x, x - (Datos_viga[\"L1\"] + Datos_viga[\"L2\"])), (x, Datos_viga[\"L1\"] + Datos_viga[\"L2\"], Datos_viga[\"L4\"])), line_color=\"red\")\n"
   ]
  },
  {
   "cell_type": "code",
   "execution_count": 63,
   "id": "16cfd9d1",
   "metadata": {},
   "outputs": [
    {
     "data": {
      "image/png": "[encoded data removed]",
      "text/plain": [
       "<Figure size 432x288 with 1 Axes>"
      ]
     },
     "metadata": {
      "needs_background": "light"
     },
     "output_type": "display_data"
    },
    {
     "data": {
      "text/plain": [
       "<sympy.plotting.plot.Plot at 0x1f425aa8cd0>"
      ]
     },
     "execution_count": 63,
     "metadata": {},
     "output_type": "execute_result"
    }
   ],
   "source": [
    "# Momento flector en kN-m\n",
    "x_array = nu.arange(0, Datos_viga[\"L4\"] + 0.01, 0.01)\n",
    "\n",
    "#Funcion de cada tramo (T)\n",
    "T1 = sy.lambdify(x, Mx1)(x_array[x_array <= Datos_viga[\"L1\"]])\n",
    "T2 = sy.lambdify(x, Mx2)(x_array[(x_array > Datos_viga[\"L1\"]) & (x_array <= (Datos_viga[\"L1\"] + Datos_viga[\"L2\"]))] - Datos_viga[\"L1\"])\n",
    "T3 = sy.lambdify(x, Mx3)(x_array[x_array >( Datos_viga[\"L1\"] + Datos_viga[\"L2\"]) - Datos_viga[\"L1\"] - Datos_viga[\"L2\"]])\n",
    "\n",
    "Momen_y = nu.concatenate((T1, T2, T3))\n",
    "sy.plot((Mx1, (x, 0, Datos_viga[\"L1\"])), (Mx2.subs(x, x - Datos_viga[\"L1\"]), (x, Datos_viga[\"L1\"], Datos_viga[\"L1\"] + Datos_viga[\"L2\"])), (Mx3.subs(x, x - (Datos_viga[\"L1\"] + Datos_viga[\"L2\"])), (x, Datos_viga[\"L1\"] + Datos_viga[\"L2\"], Datos_viga[\"L4\"])), line_color=\"green\")"
   ]
  },
  {
   "cell_type": "markdown",
   "id": "abc35ae8",
   "metadata": {},
   "source": [
    "# $ b).\\  Momento\\ interno \\ máximo\\ y\\ máxima\\ fuerza\\ cortante\\ .$"
   ]
  },
  {
   "cell_type": "code",
   "execution_count": 75,
   "id": "84f526c3",
   "metadata": {},
   "outputs": [
    {
     "name": "stdout",
     "output_type": "stream",
     "text": [
      "El valor del cortante máximo es de -0.7778174593052021 kN\n",
      "Se encuentra localizado a 3.3000000000000003 metros desde el nodo A\n"
     ]
    }
   ],
   "source": [
    "# Fuerza cortante máxima en kN\n",
    "def obtener_maximo(valores_diagrama):\n",
    "    Vmax_post = nu.amax(valores_diagrama)\n",
    "    Vmax_negt = nu.amin(valores_diagrama)\n",
    "\n",
    "    Vmax = Vmax_post\n",
    "    if nu.absolute(Vmax_negt) > Vmax_post:\n",
    "        Vmax = Vmax_negt\n",
    "    \n",
    "    posicion = x_array[nu.where(valores_diagrama == Vmax)][0]\n",
    "    return Vmax, posicion\n",
    "\n",
    "cortante_maximo, posicion_cortante_maximo = obtener_maximo(Cort_y)\n",
    "print(f\"El valor del cortante máximo es de {cortante_maximo} kN\")\n",
    "print(f\"Se encuentra localizado a {posicion_cortante_maximo} metros desde el nodo A\")\n"
   ]
  },
  {
   "cell_type": "code",
   "execution_count": 77,
   "id": "15d4111d",
   "metadata": {},
   "outputs": [
    {
     "data": {
      "text/plain": [
       "1.93018636570717"
      ]
     },
     "execution_count": 77,
     "metadata": {},
     "output_type": "execute_result"
    }
   ],
   "source": [
    "# Momento flector en kN-m\n",
    "momtmax = 0\n",
    "momtmax_post = nu.amax(Momen_y)\n",
    "momtmax_negt = nu.amin(Momen_y)\n",
    "\n",
    "if nu.abs(momtmax_negt) > momtmax_post:\n",
    "    Mmax = nu.abs(momtmax_negto)\n",
    "else: \n",
    "    Mmax = momtmax_post\n",
    "\n",
    "Mmax\n"
   ]
  }
 ],
 "metadata": {
  "kernelspec": {
   "display_name": "Python 3 (ipykernel)",
   "language": "python",
   "name": "python3"
  },
  "language_info": {
   "codemirror_mode": {
    "name": "ipython",
    "version": 3
   },
   "file_extension": ".py",
   "mimetype": "text/x-python",
   "name": "python",
   "nbconvert_exporter": "python",
   "pygments_lexer": "ipython3",
   "version": "3.10.1"
  }
 },
 "nbformat": 4,
 "nbformat_minor": 5
}
