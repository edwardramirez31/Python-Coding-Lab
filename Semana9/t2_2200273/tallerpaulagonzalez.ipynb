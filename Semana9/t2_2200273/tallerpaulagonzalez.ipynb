{
 "cells": [
  {
   "cell_type": "code",
   "execution_count": null,
   "id": "04dfb2a8",
   "metadata": {},
   "outputs": [],
   "source": [
    "import pandas as pd\n",
    "import numpy as np\n",
    "import sympy as sp\n",
    "import matlplotlib.pyplot as plt\n",
    "import openpyxl import loadworkbook"
   ]
  },
  {
   "cell_type": "code",
   "execution_count": null,
   "id": "85615e8d",
   "metadata": {},
   "outputs": [],
   "source": [
    " codigo = \"2200273\"\n",
    "X = sum([int(i) for i in codigo])\n",
    "Y = X / 3\n",
    "L1 = 0.05 * X\n",
    "L2 = L1 * 1.5\n",
    "L3 = L1 * 0.5\n",
    "L_T = L1 + L2 + L3\n",
    "W = X * 0.005 + Y * 0.01\n",
    "P = X * 0.05\n",
    "Ax, Ay, MA, x = sp.symbols(“Ax Ay MA x)\n",
    "Angulo = 45\n",
    "Angulo_rad = Angulo * np.pi / 180\n",
    "Px = np.sin(Angulo_rad) * P\n",
    "Py = Px\n",
    "L_T"
   ]
  },
  {
   "cell_type": "code",
   "execution_count": null,
   "id": "7d053ac3",
   "metadata": {},
   "outputs": [],
   "source": [
    "#HACER ECUACIONES DE EQUILIBRIO\n",
    "#kN\n",
    "Equilibrio_y = Ay + Py – W * (L1 + L3) / 2 – W * L2\n",
    "Ecuacion_y = sp.Eq(Equilibrio_y,0)\n",
    "Fuerza_Ay = sp.solve(Ecuacion_y)[0]\n",
    "\n",
    "Fuerza_Ay"
   ]
  },
  {
   "cell_type": "code",
   "execution_count": null,
   "id": "e6662879",
   "metadata": {},
   "outputs": [],
   "source": [
    "Equilibrio_x = Ax – Px \n",
    "Ecuacion_X = sp.Eq(Equilibrio_x, 0)\n",
    "Fuerza_Ax = sp.solve(Ecuacion_x)[0]\n",
    "\n",
    "Fuerza_Ax"
   ]
  },
  {
   "cell_type": "code",
   "execution_count": null,
   "id": "e25f23b4",
   "metadata": {},
   "outputs": [],
   "source": [
    "Equilibrio_Momentos = MA + Py * L_T – W * L1 / 2 *(2 * L1 / 3) – W * L2 * (L1 + L2 / 2) – W * L3\n",
    "Ecuacion_Momentos = sp.Eq(Equilibrio_Momentos, 0)\n",
    "Momento_A = sp.solve(Ecuacion_Momentos)[0]\n",
    "\n",
    "Momento_A"
   ]
  },
  {
   "cell_type": "code",
   "execution_count": null,
   "id": "ee1a2daf",
   "metadata": {},
   "outputs": [],
   "source": [
    "#Diagramas de cortante y momento\n",
    "#Primer Tramo\n",
    "# 0 < x < L1\n",
    "Funcion_W = W * x / L1\n",
    "Cortante_1 = Fuerza_Ay – sp.integrate(Funcion_W, x)\n",
    "Momento_1 = - Momento_A + sp.integrate(Cortante_1, x)"
   ]
  },
  {
   "cell_type": "code",
   "execution_count": null,
   "id": "fda0a506",
   "metadata": {},
   "outputs": [],
   "source": [
    "Cortante_1"
   ]
  },
  {
   "cell_type": "code",
   "execution_count": null,
   "id": "b6f6d2f1",
   "metadata": {},
   "outputs": [],
   "source": [
    "Momento_1"
   ]
  },
  {
   "cell_type": "code",
   "execution_count": null,
   "id": "33c3cf32",
   "metadata": {},
   "outputs": [],
   "source": [
    "#Segundo Tramo\n",
    "# 0 < x < L2\n",
    "Funcion_W = W\n",
    "Cortante_2 = cortante_1.subs(x, L1) – sp.integrate(Funcion_W, x)\n",
    "Momento_2 = Momento_1.subs(x, L1) + sp.integrate(Cortante_2, x)"
   ]
  },
  {
   "cell_type": "raw",
   "id": "540ff8bb",
   "metadata": {},
   "source": [
    "Cortante_2"
   ]
  },
  {
   "cell_type": "code",
   "execution_count": null,
   "id": "81fdf53c",
   "metadata": {},
   "outputs": [],
   "source": [
    "Momento_2"
   ]
  },
  {
   "cell_type": "code",
   "execution_count": null,
   "id": "2e3c63fb",
   "metadata": {},
   "outputs": [],
   "source": [
    "#Tercer Tramo\n",
    "# 0 < x < L3\n",
    "Funcion_W = - W * x / L3 + W\n",
    "Cortante_3 = Cortante_2.subs(x,L2) – sp.integrate(Funcion_W, x)\n",
    "Momento_3 = Momento_2.subs(x, L2) + sp.integrate(Cortante_3, x)"
   ]
  },
  {
   "cell_type": "code",
   "execution_count": null,
   "id": "629e75f5",
   "metadata": {},
   "outputs": [],
   "source": [
    "Cortante_3"
   ]
  },
  {
   "cell_type": "code",
   "execution_count": null,
   "id": "0f3584d0",
   "metadata": {},
   "outputs": [],
   "source": [
    "Momento_3"
   ]
  },
  {
   "cell_type": "code",
   "execution_count": null,
   "id": "c6161dc8",
   "metadata": {},
   "outputs": [],
   "source": [
    "#Graficas\n",
    "#CORTANTE\n",
    "x_array = np.arange(0, L_T + 0.005, 0.005)\n",
    "#Ejecutar\n",
    "Tramo1 = sp.lambdify(x, Cortante_1)(x_array[x_array < L1])\n",
    "Tramo2 = sp.lambdify(x, Cortante_2)(x_array[(x_array >= L1) & (x_array < (L1 + L2) )] – L1)\n",
    "Tramo3 = sp.lambdify(x, Cortante_3)(x_array[x_array >= (L1 + L2)] – L1 – L2)\n",
    "#Graficar\n",
    "dfc = np.concatenate((tramo1, tramo2, tramo3))\n",
    "plt.plot(x_array, dfc)\n",
    "plt.fill_between(x_array, dfc, alpha = 0,25)\n",
    "#Comprobar cierre\n",
    "plt.plot([0, 0], [0, float(Fuerza_Ay)], marker=”v”, color=”red”)\n",
    "plt.plot([L_T, L_T], [0, -Py], marker=”v”, color=”red”)\n",
    "#Grafica de ejes\n",
    "plt.axvline(0, color=”gray”, linestyle=´--´)\n",
    "plt.axhline(0, color=”gray”, linestyle=´--´)"
   ]
  },
  {
   "cell_type": "code",
   "execution_count": null,
   "id": "edf1091d",
   "metadata": {},
   "outputs": [],
   "source": [
    "#MOMENTO\n",
    "Tramo1_Momento = sp.lambdify(x, Momento_1)(x_array[x_array < L1])\n",
    "Tramo2_Momento = sp.lambdify(x, Momento_2)(x_array[(x_array >= L1) & (x_array < (L1 + L2) )] -L1)\n",
    "Tramo3_Momento = sp.lambdify(x, Momento_3)(x_array[x_array >= (L1 + L2)] – L1 – L2)\n",
    "dmf = np.concatenate((Tramo1_Momento, Tramo2_Momento, Tramo3_Momento))\n",
    "plt.plot(x_array, dmf)\n",
    "plt.fill_between(x_array, dmf, alpha=0.25)\n",
    "\n",
    "plt.plot([0,0], [0, -float(Momento_A)], marker=”v”, color=”red”)\n",
    "\n",
    "#Grafica de ejes\n",
    "plt.axvline(0,color=”gray”, linestyle=´--´)\n",
    "plt.axhline(0,color=”gray”, linestyle=´--´)"
   ]
  },
  {
   "cell_type": "code",
   "execution_count": null,
   "id": "7ea52469",
   "metadata": {},
   "outputs": [],
   "source": [
    "#Hallar cortante máximo\n",
    "\n",
    "def Obtener_maximo(valores_diagrama):\n",
    "    valor_max_positivo = np.amax(valores_diagrama)\n",
    "    valor_max_negativo = np.amin(valores_diagrama)\n",
    "\n",
    "    valor_maximo = valor_max_positivo\n",
    "    if np.absolute(valor_max_negativo) > valor_max_positivo:\n",
    "        valor_maximo = valor_max_negativo\n",
    "    \n",
    "    Posicion = x_array[np.where(valores_diagrama == valor_maximo)][0]\n",
    "    return valor_maximo, Posicion\n",
    "\n",
    "Cortante_maximo, Posicion_cortante_maximo = obtener_maximo(dfc)\n",
    "print(f”El valor del cortante máximo es de {Cortante_maximo} kN”)\n",
    "print(f”Se encuentra localizado a {Posicion_cortante_maximo} metros desde el nodo A”)   "
   ]
  },
  {
   "cell_type": "code",
   "execution_count": null,
   "id": "1fc166ea",
   "metadata": {},
   "outputs": [],
   "source": [
    "#Hallar momento máximo\n",
    "\n",
    "Momento_maximo, posicion_momento_maximo = obtener_maximo(dmf)\n",
    "print(f”El valor del momento máximo es de {momento_maximo} kN – m”)\n",
    "print(f”Se encuentra localizado a {posicion_momento_maximo} metros desde el nodo A)"
   ]
  },
  {
   "cell_type": "code",
   "execution_count": null,
   "id": "f1369823",
   "metadata": {},
   "outputs": [],
   "source": []
  }
 ],
 "metadata": {
  "kernelspec": {
   "display_name": "Python 3 (ipykernel)",
   "language": "python",
   "name": "python3"
  },
  "language_info": {
   "codemirror_mode": {
    "name": "ipython",
    "version": 3
   },
   "file_extension": ".py",
   "mimetype": "text/x-python",
   "name": "python",
   "nbconvert_exporter": "python",
   "pygments_lexer": "ipython3",
   "version": "3.10.0"
  }
 },
 "nbformat": 4,
 "nbformat_minor": 5
}
