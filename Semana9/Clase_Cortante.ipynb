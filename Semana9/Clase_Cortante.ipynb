{
 "cells": [
  {
   "cell_type": "code",
   "execution_count": 1,
   "id": "minute-apparatus",
   "metadata": {},
   "outputs": [],
   "source": [
    "import numpy as np\n",
    "import matplotlib.pyplot as plt\n",
    "import sympy as sp\n",
    "import pandas as pd\n",
    "from openpyxl import load_workbook\n",
    "\n",
    "plt.style.use('ggplot')"
   ]
  },
  {
   "cell_type": "markdown",
   "id": "healthy-version",
   "metadata": {},
   "source": [
    "Se dispone de una viga simplemente apoyada de longitud `L = 0.1 * X`, la cual se encuentra sometida a una carga distribuida `W = 2 * X`. La viga tiene una sección transversal compuesta por una sección cuadrada de pared delgada y se encuentra conectada a una placa mediante pernos. Determine la separación `s` a la cual se debe colocar los pernos acorde con los datos de la tabla en Excel.\n",
    "<h1 style=\"text-align: center\">VIGA ANÁLISIS</h1>\n",
    "<img src=\"cortante1.png\"/>\n",
    "<h1 style=\"text-align: center\">SECCIÓN TRANSVERSAL</h1>\n",
    "<img src=\"cortante2.png\" />"
   ]
  },
  {
   "cell_type": "code",
   "execution_count": 38,
   "id": "acquired-housing",
   "metadata": {},
   "outputs": [],
   "source": [
    "codigo = \"2170249\"\n",
    "X = sum([int(i) for i in codigo])\n",
    "b_perfil = X * 10\n",
    "t = 10\n",
    "b_placa = b_perfil + 2 * X\n",
    "h_total = b_perfil + t\n",
    "# Newtons\n",
    "Ay, By, x, Y = sp.symbols(\"Ay By x Y\")\n",
    "W = 2 * X\n",
    "L = X * 0.1\n",
    "V = 50 * 10 ** 3"
   ]
  },
  {
   "cell_type": "markdown",
   "id": "southwest-ferry",
   "metadata": {},
   "source": [
    "# Equilibrio"
   ]
  },
  {
   "cell_type": "code",
   "execution_count": 17,
   "id": "distributed-patio",
   "metadata": {},
   "outputs": [
    {
     "data": {
      "text/latex": [
       "$\\displaystyle 62.5$"
      ],
      "text/plain": [
       "62.5000000000000"
      ]
     },
     "execution_count": 17,
     "metadata": {},
     "output_type": "execute_result"
    }
   ],
   "source": [
    "equilibrio_momentos = By * L - W * L ** 2 / 2\n",
    "ecuacion_momentos = sp.Eq(equilibrio_momentos, 0)\n",
    "reaccion_By = sp.solve(ecuacion_momentos)[0]\n",
    "# kN\n",
    "reaccion_By"
   ]
  },
  {
   "cell_type": "code",
   "execution_count": 19,
   "id": "least-detroit",
   "metadata": {},
   "outputs": [
    {
     "data": {
      "text/latex": [
       "$\\displaystyle 62.5$"
      ],
      "text/plain": [
       "62.5000000000000"
      ]
     },
     "execution_count": 19,
     "metadata": {},
     "output_type": "execute_result"
    }
   ],
   "source": [
    "equilibrio_y = Ay + By - W * L\n",
    "ecuacion_y = sp.Eq(equilibrio_y.subs(By, reaccion_By), 0)\n",
    "reaccion_Ay = sp.solve(ecuacion_y)[0]\n",
    "# en kN\n",
    "reaccion_Ay"
   ]
  },
  {
   "cell_type": "markdown",
   "id": "consolidated-daniel",
   "metadata": {},
   "source": [
    "# Diagrama de fuerza cortante"
   ]
  },
  {
   "cell_type": "code",
   "execution_count": 22,
   "id": "legal-proof",
   "metadata": {},
   "outputs": [
    {
     "data": {
      "text/latex": [
       "$\\displaystyle 62.5 - 50 x$"
      ],
      "text/plain": [
       "62.5 - 50*x"
      ]
     },
     "execution_count": 22,
     "metadata": {},
     "output_type": "execute_result"
    }
   ],
   "source": [
    "# Tramo1 0 < x < L\n",
    "funcion_w = W\n",
    "cortante_1 = reaccion_Ay - sp.integrate(funcion_w, x)\n",
    "cortante_1"
   ]
  },
  {
   "cell_type": "code",
   "execution_count": 29,
   "id": "important-mitchell",
   "metadata": {},
   "outputs": [
    {
     "data": {
      "text/plain": [
       "<matplotlib.lines.Line2D at 0x279bd20e850>"
      ]
     },
     "execution_count": 29,
     "metadata": {},
     "output_type": "execute_result"
    },
    {
     "data": {
      "image/png": "[encoded data removed]",
      "text/plain": [
       "<Figure size 576x396 with 1 Axes>"
      ]
     },
     "metadata": {},
     "output_type": "display_data"
    }
   ],
   "source": [
    "x_array = np.arange(0, L + 0.005, 0.005)\n",
    "dfc = sp.lambdify(x, cortante_1)(x_array)\n",
    "plt.plot(x_array, dfc)\n",
    "plt.fill_between(x_array, dfc, alpha=0.25)\n",
    "# comprobar que el diagrama cierra colocando dos plots con la fuerza en cada extremo\n",
    "plt.plot([0, 0], [0, float(reaccion_Ay)], marker=\"v\", color=\"red\")\n",
    "plt.plot([L, L], [0, -reaccion_By], marker=\"v\", color=\"red\")\n",
    "# graficar ejes\n",
    "plt.axvline(0, color=\"gray\", linestyle='--')\n",
    "plt.axhline(0, color=\"gray\", linestyle='--')"
   ]
  },
  {
   "cell_type": "markdown",
   "id": "incredible-easter",
   "metadata": {},
   "source": [
    "# Obtener cortante máximo"
   ]
  },
  {
   "cell_type": "code",
   "execution_count": 31,
   "id": "viral-visit",
   "metadata": {},
   "outputs": [
    {
     "name": "stdout",
     "output_type": "stream",
     "text": [
      "El valor del cortante máximo es de 62.5 kN\n",
      "Se encuentra localizado a 0.0 metros desde el nodo A\n"
     ]
    }
   ],
   "source": [
    "def obtener_maximo(valores_diagrama):\n",
    "    valor_max_positivo = np.amax(valores_diagrama)\n",
    "    valor_max_negativo = np.amin(valores_diagrama)\n",
    "\n",
    "    valor_maximo = valor_max_positivo\n",
    "    if np.absolute(valor_max_negativo) > valor_max_positivo:\n",
    "        valor_maximo = valor_max_negativo\n",
    "    \n",
    "    posicion = x_array[np.where(valores_diagrama == valor_maximo)][0]\n",
    "    return valor_maximo, posicion\n",
    "\n",
    "cortante_maximo, posicion_cortante_maximo = obtener_maximo(dfc)\n",
    "print(f\"El valor del cortante máximo es de {cortante_maximo} kN\")\n",
    "print(f\"Se encuentra localizado a {posicion_cortante_maximo} metros desde el nodo A\")"
   ]
  },
  {
   "cell_type": "markdown",
   "id": "mobile-majority",
   "metadata": {},
   "source": [
    "# Determinar distribución de pernos"
   ]
  },
  {
   "cell_type": "code",
   "execution_count": 39,
   "id": "optical-fever",
   "metadata": {},
   "outputs": [],
   "source": [
    "A = b_perfil * b_perfil - (b_perfil - 2 * t) * (b_perfil - 2 * t) + b_placa * t\n",
    "y = ((((b_perfil ** 2) - (b_perfil - 2 * t) ** 2) * b_perfil / 2) + b_placa * t * (b_perfil + t / 2)) / A\n",
    "# mm ^ 4\n",
    "Iz = b_perfil ** 4 / 12 - (b_perfil - 2 * t) ** 4 / 12 +  b_placa * t ** 3 / 12 + ((b_perfil ** 2) - (b_perfil - 2 * t) ** 2) * (y - b_perfil / 2) + b_placa * t * (b_perfil + t / 2 - y) ** 2\n",
    "# mm ^ 3\n",
    "Q = b_placa * t * (h_total - y - t / 2)"
   ]
  },
  {
   "cell_type": "code",
   "execution_count": 40,
   "id": "wicked-pressure",
   "metadata": {},
   "outputs": [
    {
     "data": {
      "text/plain": [
       "152.13325089531537"
      ]
     },
     "execution_count": 40,
     "metadata": {},
     "output_type": "execute_result"
    }
   ],
   "source": [
    "q = cortante_maximo * 10 ** 3 * Q / Iz\n",
    "# N / mm\n",
    "q"
   ]
  },
  {
   "cell_type": "code",
   "execution_count": 44,
   "id": "centered-speech",
   "metadata": {},
   "outputs": [],
   "source": [
    "# Diagrama de esfuerzo cortante\n",
    "# Tramo1 h tot - y_trazo - t < Y < h tot - y_trazo\n",
    "Q_y = b_placa * (h_total - y - Y) * ((h_total - y - Y) / 2 + Y)\n",
    "esfuerzo_cortante_1 = cortante_maximo * 10 ** 3 * Q_y / (Iz * b_perfil)"
   ]
  },
  {
   "cell_type": "code",
   "execution_count": 45,
   "id": "quality-panama",
   "metadata": {},
   "outputs": [],
   "source": [
    "# Diagrama de esfuerzo cortante\n",
    "# Tramo2 h tot - y_trazo - 2t < Y < h tot - y_trazo - t\n",
    "Q_y_2 = 2 * t * (h_total - y - 2 * t - Y) * ((h_total - y - 2 * t - Y) / 2 + Y)\n",
    "esfuerzo_cortante_2 = cortante_maximo * 10 ** 3 * Q_y_2 / (Iz * b_perfil)"
   ]
  },
  {
   "cell_type": "code",
   "execution_count": 46,
   "id": "pleasant-authority",
   "metadata": {},
   "outputs": [],
   "source": [
    "# Diagrama de esfuerzo cortante\n",
    "# Tramo2 - y_trazo - t < Y <  h tot - y_trazo - 2t\n",
    "Q_y_3 = b_perfil * (h_total - y - t - Y) * ((h_total - y - t - Y) / 2 + Y)\n",
    "esfuerzo_cortante_3 = cortante_maximo * 10 ** 3 * Q_y_3 / (Iz * b_perfil)"
   ]
  },
  {
   "cell_type": "code",
   "execution_count": 47,
   "id": "choice-contents",
   "metadata": {},
   "outputs": [],
   "source": [
    "# Diagrama de esfuerzo cortante\n",
    "# Tramo2 - y_trazo < Y < - y_trazo - t\n",
    "Q_y_4 = b_perfil * (y + Y) * ((-y - Y) / 2 + Y)\n",
    "esfuerzo_cortante_4 = cortante_maximo * 10 ** 3 * Q_y_4 / (Iz * b_perfil)"
   ]
  },
  {
   "cell_type": "code",
   "execution_count": null,
   "id": "expanded-mumbai",
   "metadata": {},
   "outputs": [],
   "source": []
  },
  {
   "cell_type": "code",
   "execution_count": 5,
   "id": "special-hammer",
   "metadata": {},
   "outputs": [
    {
     "data": {
      "text/html": [
       "<div>\n",
       "<style scoped>\n",
       "    .dataframe tbody tr th:only-of-type {\n",
       "        vertical-align: middle;\n",
       "    }\n",
       "\n",
       "    .dataframe tbody tr th {\n",
       "        vertical-align: top;\n",
       "    }\n",
       "\n",
       "    .dataframe thead th {\n",
       "        text-align: right;\n",
       "    }\n",
       "</style>\n",
       "<table border=\"1\" class=\"dataframe\">\n",
       "  <thead>\n",
       "    <tr style=\"text-align: right;\">\n",
       "      <th></th>\n",
       "      <th>dp [in]</th>\n",
       "      <th>A [mm ^ 2]</th>\n",
       "      <th>Esf Adm [MPa]</th>\n",
       "      <th>dh [mm]</th>\n",
       "      <th>S mín [mm]</th>\n",
       "      <th>Le [mm]</th>\n",
       "    </tr>\n",
       "    <tr>\n",
       "      <th>No.</th>\n",
       "      <th></th>\n",
       "      <th></th>\n",
       "      <th></th>\n",
       "      <th></th>\n",
       "      <th></th>\n",
       "      <th></th>\n",
       "    </tr>\n",
       "  </thead>\n",
       "  <tbody>\n",
       "    <tr>\n",
       "      <th>4.0</th>\n",
       "      <td>1/2\"</td>\n",
       "      <td>127.0</td>\n",
       "      <td>35.3</td>\n",
       "      <td>14.3</td>\n",
       "      <td>40.0</td>\n",
       "      <td>20.0</td>\n",
       "    </tr>\n",
       "    <tr>\n",
       "      <th>5.0</th>\n",
       "      <td>5/8\"</td>\n",
       "      <td>198.0</td>\n",
       "      <td>55.2</td>\n",
       "      <td>17.5</td>\n",
       "      <td>50.0</td>\n",
       "      <td>25.0</td>\n",
       "    </tr>\n",
       "    <tr>\n",
       "      <th>6.0</th>\n",
       "      <td>3/4\"</td>\n",
       "      <td>285.0</td>\n",
       "      <td>79.5</td>\n",
       "      <td>20.6</td>\n",
       "      <td>60.0</td>\n",
       "      <td>30.0</td>\n",
       "    </tr>\n",
       "    <tr>\n",
       "      <th>7.0</th>\n",
       "      <td>7/8\"</td>\n",
       "      <td>388.0</td>\n",
       "      <td>108.2</td>\n",
       "      <td>23.8</td>\n",
       "      <td>70.0</td>\n",
       "      <td>35.0</td>\n",
       "    </tr>\n",
       "    <tr>\n",
       "      <th>8.0</th>\n",
       "      <td>1\"</td>\n",
       "      <td>507.0</td>\n",
       "      <td>141.4</td>\n",
       "      <td>28.6</td>\n",
       "      <td>80.0</td>\n",
       "      <td>40.0</td>\n",
       "    </tr>\n",
       "    <tr>\n",
       "      <th>9.0</th>\n",
       "      <td>1 1/8\"</td>\n",
       "      <td>641.0</td>\n",
       "      <td>178.9</td>\n",
       "      <td>31.8</td>\n",
       "      <td>90.0</td>\n",
       "      <td>45.0</td>\n",
       "    </tr>\n",
       "    <tr>\n",
       "      <th>10.0</th>\n",
       "      <td>1 1/4\"</td>\n",
       "      <td>792.0</td>\n",
       "      <td>220.9</td>\n",
       "      <td>34.9</td>\n",
       "      <td>100.0</td>\n",
       "      <td>50.0</td>\n",
       "    </tr>\n",
       "    <tr>\n",
       "      <th>NaN</th>\n",
       "      <td>NaN</td>\n",
       "      <td>NaN</td>\n",
       "      <td>NaN</td>\n",
       "      <td>NaN</td>\n",
       "      <td>NaN</td>\n",
       "      <td>NaN</td>\n",
       "    </tr>\n",
       "  </tbody>\n",
       "</table>\n",
       "</div>"
      ],
      "text/plain": [
       "     dp [in]  A [mm ^ 2]  Esf Adm [MPa]  dh [mm]  S mín [mm]  Le [mm]\n",
       "No.                                                                  \n",
       "4.0     1/2\"       127.0           35.3     14.3        40.0     20.0\n",
       "5.0     5/8\"       198.0           55.2     17.5        50.0     25.0\n",
       "6.0     3/4\"       285.0           79.5     20.6        60.0     30.0\n",
       "7.0     7/8\"       388.0          108.2     23.8        70.0     35.0\n",
       "8.0       1\"       507.0          141.4     28.6        80.0     40.0\n",
       "9.0   1 1/8\"       641.0          178.9     31.8        90.0     45.0\n",
       "10.0  1 1/4\"       792.0          220.9     34.9       100.0     50.0\n",
       "NaN      NaN         NaN            NaN      NaN         NaN      NaN"
      ]
     },
     "execution_count": 5,
     "metadata": {},
     "output_type": "execute_result"
    }
   ],
   "source": [
    "pernos = pd.read_excel('cortante.xlsx', usecols=\"B:H\", skiprows=3, nrows=8, index_col='No.')\n",
    "pernos"
   ]
  },
  {
   "cell_type": "code",
   "execution_count": 6,
   "id": "certified-teacher",
   "metadata": {},
   "outputs": [
    {
     "data": {
      "text/html": [
       "<div>\n",
       "<style scoped>\n",
       "    .dataframe tbody tr th:only-of-type {\n",
       "        vertical-align: middle;\n",
       "    }\n",
       "\n",
       "    .dataframe tbody tr th {\n",
       "        vertical-align: top;\n",
       "    }\n",
       "\n",
       "    .dataframe thead th {\n",
       "        text-align: right;\n",
       "    }\n",
       "</style>\n",
       "<table border=\"1\" class=\"dataframe\">\n",
       "  <thead>\n",
       "    <tr style=\"text-align: right;\">\n",
       "      <th></th>\n",
       "      <th>dp [in]</th>\n",
       "      <th>A [mm ^ 2]</th>\n",
       "      <th>Esf Adm [MPa]</th>\n",
       "      <th>dh [mm]</th>\n",
       "      <th>S mín [mm]</th>\n",
       "      <th>Le [mm]</th>\n",
       "      <th>F Adm [N]</th>\n",
       "    </tr>\n",
       "    <tr>\n",
       "      <th>No.</th>\n",
       "      <th></th>\n",
       "      <th></th>\n",
       "      <th></th>\n",
       "      <th></th>\n",
       "      <th></th>\n",
       "      <th></th>\n",
       "      <th></th>\n",
       "    </tr>\n",
       "  </thead>\n",
       "  <tbody>\n",
       "    <tr>\n",
       "      <th>4.0</th>\n",
       "      <td>1/2\"</td>\n",
       "      <td>127.0</td>\n",
       "      <td>35.3</td>\n",
       "      <td>14.3</td>\n",
       "      <td>40.0</td>\n",
       "      <td>20.0</td>\n",
       "      <td>4483.1</td>\n",
       "    </tr>\n",
       "    <tr>\n",
       "      <th>5.0</th>\n",
       "      <td>5/8\"</td>\n",
       "      <td>198.0</td>\n",
       "      <td>55.2</td>\n",
       "      <td>17.5</td>\n",
       "      <td>50.0</td>\n",
       "      <td>25.0</td>\n",
       "      <td>10929.6</td>\n",
       "    </tr>\n",
       "    <tr>\n",
       "      <th>6.0</th>\n",
       "      <td>3/4\"</td>\n",
       "      <td>285.0</td>\n",
       "      <td>79.5</td>\n",
       "      <td>20.6</td>\n",
       "      <td>60.0</td>\n",
       "      <td>30.0</td>\n",
       "      <td>22657.5</td>\n",
       "    </tr>\n",
       "    <tr>\n",
       "      <th>7.0</th>\n",
       "      <td>7/8\"</td>\n",
       "      <td>388.0</td>\n",
       "      <td>108.2</td>\n",
       "      <td>23.8</td>\n",
       "      <td>70.0</td>\n",
       "      <td>35.0</td>\n",
       "      <td>41981.6</td>\n",
       "    </tr>\n",
       "    <tr>\n",
       "      <th>8.0</th>\n",
       "      <td>1\"</td>\n",
       "      <td>507.0</td>\n",
       "      <td>141.4</td>\n",
       "      <td>28.6</td>\n",
       "      <td>80.0</td>\n",
       "      <td>40.0</td>\n",
       "      <td>71689.8</td>\n",
       "    </tr>\n",
       "    <tr>\n",
       "      <th>9.0</th>\n",
       "      <td>1 1/8\"</td>\n",
       "      <td>641.0</td>\n",
       "      <td>178.9</td>\n",
       "      <td>31.8</td>\n",
       "      <td>90.0</td>\n",
       "      <td>45.0</td>\n",
       "      <td>114674.9</td>\n",
       "    </tr>\n",
       "    <tr>\n",
       "      <th>10.0</th>\n",
       "      <td>1 1/4\"</td>\n",
       "      <td>792.0</td>\n",
       "      <td>220.9</td>\n",
       "      <td>34.9</td>\n",
       "      <td>100.0</td>\n",
       "      <td>50.0</td>\n",
       "      <td>174952.8</td>\n",
       "    </tr>\n",
       "    <tr>\n",
       "      <th>NaN</th>\n",
       "      <td>NaN</td>\n",
       "      <td>NaN</td>\n",
       "      <td>NaN</td>\n",
       "      <td>NaN</td>\n",
       "      <td>NaN</td>\n",
       "      <td>NaN</td>\n",
       "      <td>NaN</td>\n",
       "    </tr>\n",
       "  </tbody>\n",
       "</table>\n",
       "</div>"
      ],
      "text/plain": [
       "     dp [in]  A [mm ^ 2]  Esf Adm [MPa]  dh [mm]  S mín [mm]  Le [mm]  \\\n",
       "No.                                                                     \n",
       "4.0     1/2\"       127.0           35.3     14.3        40.0     20.0   \n",
       "5.0     5/8\"       198.0           55.2     17.5        50.0     25.0   \n",
       "6.0     3/4\"       285.0           79.5     20.6        60.0     30.0   \n",
       "7.0     7/8\"       388.0          108.2     23.8        70.0     35.0   \n",
       "8.0       1\"       507.0          141.4     28.6        80.0     40.0   \n",
       "9.0   1 1/8\"       641.0          178.9     31.8        90.0     45.0   \n",
       "10.0  1 1/4\"       792.0          220.9     34.9       100.0     50.0   \n",
       "NaN      NaN         NaN            NaN      NaN         NaN      NaN   \n",
       "\n",
       "      F Adm [N]  \n",
       "No.              \n",
       "4.0      4483.1  \n",
       "5.0     10929.6  \n",
       "6.0     22657.5  \n",
       "7.0     41981.6  \n",
       "8.0     71689.8  \n",
       "9.0    114674.9  \n",
       "10.0   174952.8  \n",
       "NaN         NaN  "
      ]
     },
     "execution_count": 6,
     "metadata": {},
     "output_type": "execute_result"
    }
   ],
   "source": [
    "pernos[\"F Adm [N]\"] =  pernos[\"Esf Adm [MPa]\"] * pernos[\"A [mm ^ 2]\"]\n",
    "pernos"
   ]
  },
  {
   "cell_type": "code",
   "execution_count": 7,
   "id": "floppy-printing",
   "metadata": {},
   "outputs": [
    {
     "data": {
      "text/html": [
       "<div>\n",
       "<style scoped>\n",
       "    .dataframe tbody tr th:only-of-type {\n",
       "        vertical-align: middle;\n",
       "    }\n",
       "\n",
       "    .dataframe tbody tr th {\n",
       "        vertical-align: top;\n",
       "    }\n",
       "\n",
       "    .dataframe thead th {\n",
       "        text-align: right;\n",
       "    }\n",
       "</style>\n",
       "<table border=\"1\" class=\"dataframe\">\n",
       "  <thead>\n",
       "    <tr style=\"text-align: right;\">\n",
       "      <th></th>\n",
       "      <th>dp [in]</th>\n",
       "      <th>A [mm ^ 2]</th>\n",
       "      <th>Esf Adm [MPa]</th>\n",
       "      <th>dh [mm]</th>\n",
       "      <th>S mín [mm]</th>\n",
       "      <th>Le [mm]</th>\n",
       "      <th>F Adm [N]</th>\n",
       "      <th>S Calculada [mm]</th>\n",
       "      <th>Le Calculado [mm]</th>\n",
       "    </tr>\n",
       "    <tr>\n",
       "      <th>No.</th>\n",
       "      <th></th>\n",
       "      <th></th>\n",
       "      <th></th>\n",
       "      <th></th>\n",
       "      <th></th>\n",
       "      <th></th>\n",
       "      <th></th>\n",
       "      <th></th>\n",
       "      <th></th>\n",
       "    </tr>\n",
       "  </thead>\n",
       "  <tbody>\n",
       "    <tr>\n",
       "      <th>4.0</th>\n",
       "      <td>1/2\"</td>\n",
       "      <td>127.0</td>\n",
       "      <td>35.3</td>\n",
       "      <td>14.3</td>\n",
       "      <td>40.0</td>\n",
       "      <td>20.0</td>\n",
       "      <td>4483.1</td>\n",
       "      <td>36.835307</td>\n",
       "      <td>18.417653</td>\n",
       "    </tr>\n",
       "    <tr>\n",
       "      <th>5.0</th>\n",
       "      <td>5/8\"</td>\n",
       "      <td>198.0</td>\n",
       "      <td>55.2</td>\n",
       "      <td>17.5</td>\n",
       "      <td>50.0</td>\n",
       "      <td>25.0</td>\n",
       "      <td>10929.6</td>\n",
       "      <td>89.802853</td>\n",
       "      <td>44.901427</td>\n",
       "    </tr>\n",
       "    <tr>\n",
       "      <th>6.0</th>\n",
       "      <td>3/4\"</td>\n",
       "      <td>285.0</td>\n",
       "      <td>79.5</td>\n",
       "      <td>20.6</td>\n",
       "      <td>60.0</td>\n",
       "      <td>30.0</td>\n",
       "      <td>22657.5</td>\n",
       "      <td>186.164923</td>\n",
       "      <td>93.082462</td>\n",
       "    </tr>\n",
       "    <tr>\n",
       "      <th>7.0</th>\n",
       "      <td>7/8\"</td>\n",
       "      <td>388.0</td>\n",
       "      <td>108.2</td>\n",
       "      <td>23.8</td>\n",
       "      <td>70.0</td>\n",
       "      <td>35.0</td>\n",
       "      <td>41981.6</td>\n",
       "      <td>344.941028</td>\n",
       "      <td>172.470514</td>\n",
       "    </tr>\n",
       "    <tr>\n",
       "      <th>8.0</th>\n",
       "      <td>1\"</td>\n",
       "      <td>507.0</td>\n",
       "      <td>141.4</td>\n",
       "      <td>28.6</td>\n",
       "      <td>80.0</td>\n",
       "      <td>40.0</td>\n",
       "      <td>71689.8</td>\n",
       "      <td>589.037896</td>\n",
       "      <td>294.518948</td>\n",
       "    </tr>\n",
       "    <tr>\n",
       "      <th>9.0</th>\n",
       "      <td>1 1/8\"</td>\n",
       "      <td>641.0</td>\n",
       "      <td>178.9</td>\n",
       "      <td>31.8</td>\n",
       "      <td>90.0</td>\n",
       "      <td>45.0</td>\n",
       "      <td>114674.9</td>\n",
       "      <td>942.224163</td>\n",
       "      <td>471.112082</td>\n",
       "    </tr>\n",
       "    <tr>\n",
       "      <th>10.0</th>\n",
       "      <td>1 1/4\"</td>\n",
       "      <td>792.0</td>\n",
       "      <td>220.9</td>\n",
       "      <td>34.9</td>\n",
       "      <td>100.0</td>\n",
       "      <td>50.0</td>\n",
       "      <td>174952.8</td>\n",
       "      <td>1437.496397</td>\n",
       "      <td>718.748198</td>\n",
       "    </tr>\n",
       "    <tr>\n",
       "      <th>NaN</th>\n",
       "      <td>NaN</td>\n",
       "      <td>NaN</td>\n",
       "      <td>NaN</td>\n",
       "      <td>NaN</td>\n",
       "      <td>NaN</td>\n",
       "      <td>NaN</td>\n",
       "      <td>NaN</td>\n",
       "      <td>NaN</td>\n",
       "      <td>NaN</td>\n",
       "    </tr>\n",
       "  </tbody>\n",
       "</table>\n",
       "</div>"
      ],
      "text/plain": [
       "     dp [in]  A [mm ^ 2]  Esf Adm [MPa]  dh [mm]  S mín [mm]  Le [mm]  \\\n",
       "No.                                                                     \n",
       "4.0     1/2\"       127.0           35.3     14.3        40.0     20.0   \n",
       "5.0     5/8\"       198.0           55.2     17.5        50.0     25.0   \n",
       "6.0     3/4\"       285.0           79.5     20.6        60.0     30.0   \n",
       "7.0     7/8\"       388.0          108.2     23.8        70.0     35.0   \n",
       "8.0       1\"       507.0          141.4     28.6        80.0     40.0   \n",
       "9.0   1 1/8\"       641.0          178.9     31.8        90.0     45.0   \n",
       "10.0  1 1/4\"       792.0          220.9     34.9       100.0     50.0   \n",
       "NaN      NaN         NaN            NaN      NaN         NaN      NaN   \n",
       "\n",
       "      F Adm [N]  S Calculada [mm]  Le Calculado [mm]  \n",
       "No.                                                   \n",
       "4.0      4483.1         36.835307          18.417653  \n",
       "5.0     10929.6         89.802853          44.901427  \n",
       "6.0     22657.5        186.164923          93.082462  \n",
       "7.0     41981.6        344.941028         172.470514  \n",
       "8.0     71689.8        589.037896         294.518948  \n",
       "9.0    114674.9        942.224163         471.112082  \n",
       "10.0   174952.8       1437.496397         718.748198  \n",
       "NaN         NaN               NaN                NaN  "
      ]
     },
     "execution_count": 7,
     "metadata": {},
     "output_type": "execute_result"
    }
   ],
   "source": [
    "pernos[\"S Calculada [mm]\"] =  pernos[\"F Adm [N]\"] / q\n",
    "pernos[\"Le Calculado [mm]\"] =  pernos[\"S Calculada [mm]\"] / 2\n",
    "pernos"
   ]
  },
  {
   "cell_type": "code",
   "execution_count": 8,
   "id": "greater-salmon",
   "metadata": {},
   "outputs": [
    {
     "data": {
      "text/html": [
       "<div>\n",
       "<style scoped>\n",
       "    .dataframe tbody tr th:only-of-type {\n",
       "        vertical-align: middle;\n",
       "    }\n",
       "\n",
       "    .dataframe tbody tr th {\n",
       "        vertical-align: top;\n",
       "    }\n",
       "\n",
       "    .dataframe thead th {\n",
       "        text-align: right;\n",
       "    }\n",
       "</style>\n",
       "<table border=\"1\" class=\"dataframe\">\n",
       "  <thead>\n",
       "    <tr style=\"text-align: right;\">\n",
       "      <th></th>\n",
       "      <th>dp [in]</th>\n",
       "      <th>A [mm ^ 2]</th>\n",
       "      <th>Esf Adm [MPa]</th>\n",
       "      <th>dh [mm]</th>\n",
       "      <th>S mín [mm]</th>\n",
       "      <th>Le [mm]</th>\n",
       "      <th>F Adm [N]</th>\n",
       "      <th>S Calculada [mm]</th>\n",
       "      <th>Le Calculado [mm]</th>\n",
       "    </tr>\n",
       "    <tr>\n",
       "      <th>No.</th>\n",
       "      <th></th>\n",
       "      <th></th>\n",
       "      <th></th>\n",
       "      <th></th>\n",
       "      <th></th>\n",
       "      <th></th>\n",
       "      <th></th>\n",
       "      <th></th>\n",
       "      <th></th>\n",
       "    </tr>\n",
       "  </thead>\n",
       "  <tbody>\n",
       "    <tr>\n",
       "      <th>5.0</th>\n",
       "      <td>5/8\"</td>\n",
       "      <td>198.0</td>\n",
       "      <td>55.2</td>\n",
       "      <td>17.5</td>\n",
       "      <td>50.0</td>\n",
       "      <td>25.0</td>\n",
       "      <td>10929.6</td>\n",
       "      <td>89.802853</td>\n",
       "      <td>44.901427</td>\n",
       "    </tr>\n",
       "    <tr>\n",
       "      <th>6.0</th>\n",
       "      <td>3/4\"</td>\n",
       "      <td>285.0</td>\n",
       "      <td>79.5</td>\n",
       "      <td>20.6</td>\n",
       "      <td>60.0</td>\n",
       "      <td>30.0</td>\n",
       "      <td>22657.5</td>\n",
       "      <td>186.164923</td>\n",
       "      <td>93.082462</td>\n",
       "    </tr>\n",
       "    <tr>\n",
       "      <th>7.0</th>\n",
       "      <td>7/8\"</td>\n",
       "      <td>388.0</td>\n",
       "      <td>108.2</td>\n",
       "      <td>23.8</td>\n",
       "      <td>70.0</td>\n",
       "      <td>35.0</td>\n",
       "      <td>41981.6</td>\n",
       "      <td>344.941028</td>\n",
       "      <td>172.470514</td>\n",
       "    </tr>\n",
       "    <tr>\n",
       "      <th>8.0</th>\n",
       "      <td>1\"</td>\n",
       "      <td>507.0</td>\n",
       "      <td>141.4</td>\n",
       "      <td>28.6</td>\n",
       "      <td>80.0</td>\n",
       "      <td>40.0</td>\n",
       "      <td>71689.8</td>\n",
       "      <td>589.037896</td>\n",
       "      <td>294.518948</td>\n",
       "    </tr>\n",
       "    <tr>\n",
       "      <th>9.0</th>\n",
       "      <td>1 1/8\"</td>\n",
       "      <td>641.0</td>\n",
       "      <td>178.9</td>\n",
       "      <td>31.8</td>\n",
       "      <td>90.0</td>\n",
       "      <td>45.0</td>\n",
       "      <td>114674.9</td>\n",
       "      <td>942.224163</td>\n",
       "      <td>471.112082</td>\n",
       "    </tr>\n",
       "    <tr>\n",
       "      <th>10.0</th>\n",
       "      <td>1 1/4\"</td>\n",
       "      <td>792.0</td>\n",
       "      <td>220.9</td>\n",
       "      <td>34.9</td>\n",
       "      <td>100.0</td>\n",
       "      <td>50.0</td>\n",
       "      <td>174952.8</td>\n",
       "      <td>1437.496397</td>\n",
       "      <td>718.748198</td>\n",
       "    </tr>\n",
       "  </tbody>\n",
       "</table>\n",
       "</div>"
      ],
      "text/plain": [
       "     dp [in]  A [mm ^ 2]  Esf Adm [MPa]  dh [mm]  S mín [mm]  Le [mm]  \\\n",
       "No.                                                                     \n",
       "5.0     5/8\"       198.0           55.2     17.5        50.0     25.0   \n",
       "6.0     3/4\"       285.0           79.5     20.6        60.0     30.0   \n",
       "7.0     7/8\"       388.0          108.2     23.8        70.0     35.0   \n",
       "8.0       1\"       507.0          141.4     28.6        80.0     40.0   \n",
       "9.0   1 1/8\"       641.0          178.9     31.8        90.0     45.0   \n",
       "10.0  1 1/4\"       792.0          220.9     34.9       100.0     50.0   \n",
       "\n",
       "      F Adm [N]  S Calculada [mm]  Le Calculado [mm]  \n",
       "No.                                                   \n",
       "5.0     10929.6         89.802853          44.901427  \n",
       "6.0     22657.5        186.164923          93.082462  \n",
       "7.0     41981.6        344.941028         172.470514  \n",
       "8.0     71689.8        589.037896         294.518948  \n",
       "9.0    114674.9        942.224163         471.112082  \n",
       "10.0   174952.8       1437.496397         718.748198  "
      ]
     },
     "execution_count": 8,
     "metadata": {},
     "output_type": "execute_result"
    }
   ],
   "source": [
    "filtro = (pernos[\"S Calculada [mm]\"] >= pernos[\"S mín [mm]\"]) & (pernos[\"Le Calculado [mm]\"] >= pernos[\"Le [mm]\"])\n",
    "pernos[filtro]"
   ]
  },
  {
   "cell_type": "code",
   "execution_count": 9,
   "id": "exposed-relevance",
   "metadata": {},
   "outputs": [
    {
     "data": {
      "text/plain": [
       "5.0"
      ]
     },
     "execution_count": 9,
     "metadata": {},
     "output_type": "execute_result"
    }
   ],
   "source": [
    "pernos_cumplen = pernos.loc[filtro, \"S Calculada [mm]\"] - pernos.loc[filtro, \"S mín [mm]\"]\n",
    "indice = pernos_cumplen.idxmin()\n",
    "indice"
   ]
  },
  {
   "cell_type": "code",
   "execution_count": 10,
   "id": "impaired-compromise",
   "metadata": {},
   "outputs": [
    {
     "data": {
      "text/html": [
       "<div>\n",
       "<style scoped>\n",
       "    .dataframe tbody tr th:only-of-type {\n",
       "        vertical-align: middle;\n",
       "    }\n",
       "\n",
       "    .dataframe tbody tr th {\n",
       "        vertical-align: top;\n",
       "    }\n",
       "\n",
       "    .dataframe thead th {\n",
       "        text-align: right;\n",
       "    }\n",
       "</style>\n",
       "<table border=\"1\" class=\"dataframe\">\n",
       "  <thead>\n",
       "    <tr style=\"text-align: right;\">\n",
       "      <th></th>\n",
       "      <th>dp [in]</th>\n",
       "      <th>dh [mm]</th>\n",
       "      <th>S Calculada [mm]</th>\n",
       "      <th>Le Calculado [mm]</th>\n",
       "    </tr>\n",
       "    <tr>\n",
       "      <th>No.</th>\n",
       "      <th></th>\n",
       "      <th></th>\n",
       "      <th></th>\n",
       "      <th></th>\n",
       "    </tr>\n",
       "  </thead>\n",
       "  <tbody>\n",
       "    <tr>\n",
       "      <th>5.0</th>\n",
       "      <td>5/8\"</td>\n",
       "      <td>17.5</td>\n",
       "      <td>89.802853</td>\n",
       "      <td>44.901427</td>\n",
       "    </tr>\n",
       "  </tbody>\n",
       "</table>\n",
       "</div>"
      ],
      "text/plain": [
       "    dp [in]  dh [mm]  S Calculada [mm]  Le Calculado [mm]\n",
       "No.                                                      \n",
       "5.0    5/8\"     17.5         89.802853          44.901427"
      ]
     },
     "execution_count": 10,
     "metadata": {},
     "output_type": "execute_result"
    }
   ],
   "source": [
    "respuesta = pernos.loc[[indice], ['dp [in]', 'dh [mm]', 'S Calculada [mm]', 'Le Calculado [mm]']]\n",
    "respuesta"
   ]
  },
  {
   "cell_type": "code",
   "execution_count": 11,
   "id": "mechanical-shannon",
   "metadata": {},
   "outputs": [],
   "source": [
    "with pd.ExcelWriter('cortante.xlsx', mode='a', engine='openpyxl') as writer:  \n",
    "    # configurando sheets\n",
    "    book = load_workbook('cortante.xlsx')\n",
    "    writer.book = book\n",
    "    writer.sheets = dict((ws.title, ws) for ws in book.worksheets)\n",
    "    \n",
    "    # colcando los dataframes en sus respectivas posiciones\n",
    "    respuesta.to_excel(writer, startrow=15, startcol=2, sheet_name='Pernos')\n"
   ]
  }
 ],
 "metadata": {
  "kernelspec": {
   "display_name": "Python 3",
   "language": "python",
   "name": "python3"
  },
  "language_info": {
   "codemirror_mode": {
    "name": "ipython",
    "version": 3
   },
   "file_extension": ".py",
   "mimetype": "text/x-python",
   "name": "python",
   "nbconvert_exporter": "python",
   "pygments_lexer": "ipython3",
   "version": "3.8.5"
  }
 },
 "nbformat": 4,
 "nbformat_minor": 5
}
