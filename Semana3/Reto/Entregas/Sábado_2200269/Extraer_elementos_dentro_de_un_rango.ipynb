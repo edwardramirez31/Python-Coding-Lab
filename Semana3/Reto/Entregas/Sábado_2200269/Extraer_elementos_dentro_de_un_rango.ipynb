{
 "cells": [
  {
   "cell_type": "code",
   "execution_count": 1,
   "id": "dc4709a3",
   "metadata": {},
   "outputs": [],
   "source": [
    "import numpy as np"
   ]
  },
  {
   "cell_type": "code",
   "execution_count": 3,
   "id": "eebb34ec",
   "metadata": {},
   "outputs": [
    {
     "name": "stdout",
     "output_type": "stream",
     "text": [
      "[6, 9, 10]\n"
     ]
    }
   ],
   "source": [
    "a = np.array([2, 6, 1, 9, 10, 3, 27])\n",
    "\n",
    "#Crear una lista vacia para agrupar los valores dentro del rango\n",
    "Lista = []\n",
    "#Utilizar un bucle junto a un condicional para obtener las entradas que se encuentran entre el rango de 5 a 10\n",
    "for i in a:\n",
    "    if 5<=i<=10:\n",
    "        Lista.append(i)\n",
    "print(Lista)\n",
    "        "
   ]
  }
 ],
 "metadata": {
  "kernelspec": {
   "display_name": "Python 3 (ipykernel)",
   "language": "python",
   "name": "python3"
  },
  "language_info": {
   "codemirror_mode": {
    "name": "ipython",
    "version": 3
   },
   "file_extension": ".py",
   "mimetype": "text/x-python",
   "name": "python",
   "nbconvert_exporter": "python",
   "pygments_lexer": "ipython3",
   "version": "3.9.6"
  }
 },
 "nbformat": 4,
 "nbformat_minor": 5
}
