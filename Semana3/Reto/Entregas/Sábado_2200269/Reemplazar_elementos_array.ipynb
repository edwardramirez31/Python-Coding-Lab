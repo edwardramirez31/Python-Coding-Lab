{
 "cells": [
  {
   "cell_type": "code",
   "execution_count": 1,
   "id": "a4950225",
   "metadata": {},
   "outputs": [],
   "source": [
    "#Importar modulo numpy\n",
    "import numpy as np"
   ]
  },
  {
   "cell_type": "code",
   "execution_count": 5,
   "id": "07e6ac71",
   "metadata": {},
   "outputs": [
    {
     "data": {
      "text/plain": [
       "array([ 0, -1, -2, -3, -4, -5, -6, -7, -8, -9])"
      ]
     },
     "execution_count": 5,
     "metadata": {},
     "output_type": "execute_result"
    }
   ],
   "source": [
    "#Crear array\n",
    "arr = np.array([0,1,2,3,4,5,6,7,8,9])\n",
    "\n",
    "#Crear una lista vacia\n",
    "arr2 = []\n",
    "\n",
    "#Utilizar condicionales para reemplazar variables\n",
    "for i in arr:\n",
    "    \n",
    "    #Crear una lista con los nuevo valores\n",
    "    arr2.append(-i)\n",
    "    \n",
    "#Convertir la lista en un array\n",
    "np.array(arr2)"
   ]
  }
 ],
 "metadata": {
  "kernelspec": {
   "display_name": "Python 3 (ipykernel)",
   "language": "python",
   "name": "python3"
  },
  "language_info": {
   "codemirror_mode": {
    "name": "ipython",
    "version": 3
   },
   "file_extension": ".py",
   "mimetype": "text/x-python",
   "name": "python",
   "nbconvert_exporter": "python",
   "pygments_lexer": "ipython3",
   "version": "3.9.6"
  }
 },
 "nbformat": 4,
 "nbformat_minor": 5
}
