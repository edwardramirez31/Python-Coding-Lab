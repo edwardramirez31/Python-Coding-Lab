{
 "cells": [
  {
   "cell_type": "code",
   "execution_count": 3,
   "id": "5c2cc623",
   "metadata": {},
   "outputs": [],
   "source": [
    "import numpy as np"
   ]
  },
  {
   "cell_type": "code",
   "execution_count": 8,
   "id": "5c872324",
   "metadata": {},
   "outputs": [
    {
     "name": "stdout",
     "output_type": "stream",
     "text": [
      "MATRIZ ORIGINAL 2\n",
      "[[ 0  1  2  3  4  5]\n",
      " [10 11 12 13 14 15]\n",
      " [20 21 22 23 24 25]\n",
      " [30 31 32 33 34 35]\n",
      " [40 41 42 43 44 45]\n",
      " [50 51 52 53 54 55]]\n",
      "\n",
      "MATRIZ NARANJA\n",
      "[ 1 12 23 34 45]\n",
      "\n",
      "MATRIZ ROJA\n",
      "[[ 2]\n",
      " [22]\n",
      " [52]]\n",
      "\n",
      "MATRIZ AZUL\n",
      "[[30 32 35]\n",
      " [40 42 45]\n",
      " [50 52 55]]\n"
     ]
    },
    {
     "data": {
      "text/plain": [
       "array([12,  1])"
      ]
     },
     "execution_count": 8,
     "metadata": {},
     "output_type": "execute_result"
    }
   ],
   "source": [
    "#Crear la matriz, en este caso definiré fila por fila para luego unirlas mediante la función vstack\n",
    "print(\"MATRIZ ORIGINAL 2\")\n",
    "a = np.arange(6)\n",
    "b = np.arange(10,16)\n",
    "c = np.arange(20,26)\n",
    "d = np.arange(30,36)\n",
    "e = np.arange(40,46)\n",
    "f = np.arange(50,56)\n",
    "Matriz = np.vstack((a,b,c,d,e,f))\n",
    "print(Matriz)\n",
    "print()\n",
    "\n",
    "#Para esta matriz nuevamente haré uso de la función hstack\n",
    "print(\"MATRIZ NARANJA\")\n",
    "A = Matriz[0,1]\n",
    "B = Matriz[1,2]\n",
    "C = Matriz[2,3]\n",
    "D = Matriz[3,4]\n",
    "E = Matriz[4,5]\n",
    "print(np.hstack((A,B,C,D,E)))\n",
    "print()\n",
    "\n",
    "#En esta matriz utilizaré vstack\n",
    "print(\"MATRIZ ROJA\")\n",
    "F = Matriz[0,2]\n",
    "G = Matriz[2,2]\n",
    "H = Matriz[5,2]\n",
    "print(np.vstack((F,G,H)))\n",
    "print()\n",
    "\n",
    "#En esta ultima agruparé las entradas en grupos de 3 y luego usaré hstack para agruparlas\n",
    "print(\"MATRIZ AZUL\")\n",
    "I = Matriz[3:6,0].reshape(3,1)\n",
    "J = Matriz[3:6,2].reshape(3,1)\n",
    "K = Matriz[3:6,5].reshape(3,1)\n",
    "print(np.hstack((I,J,K)))\n",
    "Matriz[[1,0],[2,1]]"
   ]
  },
  {
   "cell_type": "code",
   "execution_count": null,
   "id": "4331f86d",
   "metadata": {},
   "outputs": [],
   "source": []
  }
 ],
 "metadata": {
  "kernelspec": {
   "display_name": "Python 3 (ipykernel)",
   "language": "python",
   "name": "python3"
  },
  "language_info": {
   "codemirror_mode": {
    "name": "ipython",
    "version": 3
   },
   "file_extension": ".py",
   "mimetype": "text/x-python",
   "name": "python",
   "nbconvert_exporter": "python",
   "pygments_lexer": "ipython3",
   "version": "3.9.6"
  }
 },
 "nbformat": 4,
 "nbformat_minor": 5
}
