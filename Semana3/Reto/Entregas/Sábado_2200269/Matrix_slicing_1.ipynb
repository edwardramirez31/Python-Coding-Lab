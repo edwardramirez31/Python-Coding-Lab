{
 "cells": [
  {
   "cell_type": "code",
   "execution_count": 2,
   "id": "4e545d2a",
   "metadata": {},
   "outputs": [],
   "source": [
    "import numpy as np"
   ]
  },
  {
   "cell_type": "code",
   "execution_count": 8,
   "id": "730a398d",
   "metadata": {},
   "outputs": [
    {
     "name": "stdout",
     "output_type": "stream",
     "text": [
      "MATRIZ ORIGINAL 1\n",
      "[[ 1  2  3  4  5]\n",
      " [ 6  7  8  9 10]\n",
      " [11 12 13 14 15]\n",
      " [16 17 18 19 20]\n",
      " [21 22 23 24 25]\n",
      " [26 27 28 29 30]]\n",
      "\n",
      "MATRIZ AZUL\n",
      "[[11 12]\n",
      " [16 17]]\n",
      "\n",
      "MATRIZ ROJA\n",
      "[[ 4  5]\n",
      " [24 25]\n",
      " [29 30]]\n",
      "\n",
      "MATRIZ VERDE\n",
      "[ 2  8 14 20]\n"
     ]
    }
   ],
   "source": [
    "#Crear un vector con los valores de 1 a 30 mediante la función arange() y redistribuir dichos valores formando una matriz de 6x5 usando la función reshape()\n",
    "print(\"MATRIZ ORIGINAL 1\")\n",
    "Matriz = np.arange(1,31).reshape(6,5)\n",
    "\n",
    "#obtener submatrices usando slicing, se debe tener en cuenta que termina una columna o fila antes de la indicada\n",
    "print(Matriz)\n",
    "print()\n",
    "\n",
    "#Matriz azul\n",
    "print(\"MATRIZ AZUL\")\n",
    "print(Matriz[2:4,0:2])\n",
    "print()\n",
    "\n",
    "#Matriz roja: Para esta matriz utilizaré la función vstack ya que una de las filas esta separada de la otra\n",
    "print(\"MATRIZ ROJA\")\n",
    "a = Matriz[0,3:5]\n",
    "b = Matriz[4:6,3:5]\n",
    "print(np.vstack((a,b)))\n",
    "print()\n",
    "\n",
    "#Matriz verde: En este caso utilizaré la función hstack con el fin de apilar las matrices de manera horizontal\n",
    "print(\"MATRIZ VERDE\")\n",
    "a = Matriz[0,1]\n",
    "b = Matriz[1,2]\n",
    "c = Matriz[2,3]\n",
    "d = Matriz[3,4]\n",
    "print(np.hstack((a,b,c,d)))"
   ]
  }
 ],
 "metadata": {
  "kernelspec": {
   "display_name": "Python 3 (ipykernel)",
   "language": "python",
   "name": "python3"
  },
  "language_info": {
   "codemirror_mode": {
    "name": "ipython",
    "version": 3
   },
   "file_extension": ".py",
   "mimetype": "text/x-python",
   "name": "python",
   "nbconvert_exporter": "python",
   "pygments_lexer": "ipython3",
   "version": "3.9.6"
  }
 },
 "nbformat": 4,
 "nbformat_minor": 5
}
