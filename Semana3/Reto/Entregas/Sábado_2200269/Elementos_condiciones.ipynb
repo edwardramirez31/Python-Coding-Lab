{
 "cells": [
  {
   "cell_type": "code",
   "execution_count": 3,
   "id": "f66cce38",
   "metadata": {},
   "outputs": [],
   "source": [
    "#Importar modulo numpy\n",
    "import numpy as np"
   ]
  },
  {
   "cell_type": "code",
   "execution_count": 10,
   "id": "8382327d",
   "metadata": {},
   "outputs": [
    {
     "data": {
      "text/plain": [
       "array([1, 3, 5, 7, 9])"
      ]
     },
     "execution_count": 10,
     "metadata": {},
     "output_type": "execute_result"
    }
   ],
   "source": [
    "#Crear el vector\n",
    "arr = np.array([0,1,2,3,4,5,6,7,8,9])\n",
    "\n",
    "#Crear una lista vacia\n",
    "arr2 = []\n",
    "\n",
    "#Utilizar condicionales para determinar que valores del vector son impares\n",
    "for i in arr:\n",
    "    if i % 2 == 1:\n",
    "        \n",
    "        #Agrupor los valores impares en la lista vacia\n",
    "        arr2.append(i)\n",
    "\n",
    "#Volver la lista un array        \n",
    "np.array(arr2)"
   ]
  }
 ],
 "metadata": {
  "kernelspec": {
   "display_name": "Python 3 (ipykernel)",
   "language": "python",
   "name": "python3"
  },
  "language_info": {
   "codemirror_mode": {
    "name": "ipython",
    "version": 3
   },
   "file_extension": ".py",
   "mimetype": "text/x-python",
   "name": "python",
   "nbconvert_exporter": "python",
   "pygments_lexer": "ipython3",
   "version": "3.9.6"
  }
 },
 "nbformat": 4,
 "nbformat_minor": 5
}
