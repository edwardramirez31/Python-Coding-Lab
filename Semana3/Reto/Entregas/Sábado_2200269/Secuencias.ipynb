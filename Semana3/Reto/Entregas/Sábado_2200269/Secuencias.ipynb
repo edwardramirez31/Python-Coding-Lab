{
 "cells": [
  {
   "cell_type": "code",
   "execution_count": 1,
   "id": "d11310dc",
   "metadata": {},
   "outputs": [],
   "source": [
    "import numpy as np"
   ]
  },
  {
   "cell_type": "code",
   "execution_count": 30,
   "id": "8bd449f9",
   "metadata": {},
   "outputs": [
    {
     "data": {
      "text/plain": [
       "array([1, 1, 1, 2, 2, 2, 3, 3, 3, 1, 2, 3, 1, 2, 3, 1, 2, 3])"
      ]
     },
     "execution_count": 30,
     "metadata": {},
     "output_type": "execute_result"
    }
   ],
   "source": [
    "a = np.array([1,2,3])\n",
    "\n",
    "#Utilizar repeat para repetir la primera, segunda y tercera entrada del vector 3 veces cada una\n",
    "A = np.repeat(a[0],3)\n",
    "B = np.repeat(a[1],3)\n",
    "C = np.repeat(a[2],3)\n",
    "\n",
    "#Utilizar repeat para repetir el vector 3 veces\n",
    "D = np.tile(a,3)\n",
    "\n",
    "#Para unir todo en un mismo array utilizaré hstack\n",
    "np.hstack((A,B,C,D))"
   ]
  },
  {
   "cell_type": "code",
   "execution_count": null,
   "id": "e15d4749",
   "metadata": {},
   "outputs": [],
   "source": [
    "\n",
    "\n"
   ]
  }
 ],
 "metadata": {
  "kernelspec": {
   "display_name": "Python 3 (ipykernel)",
   "language": "python",
   "name": "python3"
  },
  "language_info": {
   "codemirror_mode": {
    "name": "ipython",
    "version": 3
   },
   "file_extension": ".py",
   "mimetype": "text/x-python",
   "name": "python",
   "nbconvert_exporter": "python",
   "pygments_lexer": "ipython3",
   "version": "3.9.6"
  }
 },
 "nbformat": 4,
 "nbformat_minor": 5
}
