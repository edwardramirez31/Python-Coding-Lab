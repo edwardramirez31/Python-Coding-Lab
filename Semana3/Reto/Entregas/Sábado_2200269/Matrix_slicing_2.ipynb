{
 "cells": [
  {
   "cell_type": "code",
   "execution_count": 1,
   "id": "71bc546e",
   "metadata": {},
   "outputs": [],
   "source": [
    "import numpy as np"
   ]
  },
  {
   "cell_type": "code",
   "execution_count": 38,
   "id": "ecc33a4c",
   "metadata": {},
   "outputs": [
    {
     "name": "stdout",
     "output_type": "stream",
     "text": [
      "MATRIZ ORIGINAL 2\n",
      "[[ 0  1  2  3  4  5]\n",
      " [10 11 12 13 14 15]\n",
      " [20 21 22 23 24 25]\n",
      " [30 31 32 33 34 35]\n",
      " [40 41 42 43 44 45]\n",
      " [50 51 52 53 54 55]]\n",
      "\n",
      "MATRIZ ROJA\n",
      "[[ 2]\n",
      " [12]\n",
      " [22]\n",
      " [32]\n",
      " [42]\n",
      " [52]]\n",
      "\n",
      "MATRIZ NARANJA\n",
      "[3 4]\n",
      "\n",
      "MATRIZ VERDE\n",
      "[[20 22 24]\n",
      " [40 42 44]]\n",
      "\n",
      "MATRIZ AZUL\n",
      "[[44 45]\n",
      " [54 55]]\n"
     ]
    }
   ],
   "source": [
    "#Crear la matriz, en este caso definiré fila por fila para luego unirlas mediante la función vstack\n",
    "print(\"MATRIZ ORIGINAL 2\")\n",
    "a = np.arange(6)\n",
    "b = np.arange(10,16)\n",
    "c = np.arange(20,26)\n",
    "d = np.arange(30,36)\n",
    "e = np.arange(40,46)\n",
    "f = np.arange(50,56)\n",
    "Matriz = np.vstack((a,b,c,d,e,f))\n",
    "print(Matriz)\n",
    "print()\n",
    "\n",
    "print(\"MATRIZ ROJA\")\n",
    "M = Matriz[0:6,2]\n",
    "print(M.reshape(6,1))\n",
    "print()\n",
    "\n",
    "print(\"MATRIZ NARANJA\")\n",
    "print(Matriz[0,3:5])\n",
    "print()\n",
    "\n",
    "\n",
    "#Para la siguiente matriz decidí obtener entrada por entrada con el fin de luego agrupar las filas con hstack y finalmente agrupar toda la matriz con vstack\n",
    "print(\"MATRIZ VERDE\")\n",
    "A = Matriz[2,0]\n",
    "B = Matriz[2,2]\n",
    "C = Matriz[2,4]\n",
    "D = Matriz[4,0]\n",
    "E = Matriz[4,2]\n",
    "F = Matriz[4,4]\n",
    "ABC = np.hstack((A,B,C))\n",
    "DEF = np.hstack((D,E,F))\n",
    "print(np.vstack((ABC,DEF)))\n",
    "print()\n",
    "\n",
    "print(\"MATRIZ AZUL\")\n",
    "print(Matriz[4:6,4:6])\n"
   ]
  }
 ],
 "metadata": {
  "kernelspec": {
   "display_name": "Python 3 (ipykernel)",
   "language": "python",
   "name": "python3"
  },
  "language_info": {
   "codemirror_mode": {
    "name": "ipython",
    "version": 3
   },
   "file_extension": ".py",
   "mimetype": "text/x-python",
   "name": "python",
   "nbconvert_exporter": "python",
   "pygments_lexer": "ipython3",
   "version": "3.9.6"
  }
 },
 "nbformat": 4,
 "nbformat_minor": 5
}
