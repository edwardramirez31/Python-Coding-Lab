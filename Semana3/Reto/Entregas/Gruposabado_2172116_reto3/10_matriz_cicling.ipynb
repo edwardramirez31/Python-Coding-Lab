{
 "cells": [
  {
   "cell_type": "code",
   "execution_count": 21,
   "id": "c77bfd1d",
   "metadata": {},
   "outputs": [],
   "source": [
    "import numpy as np\n",
    "\n",
    "matriz = np.linspace(1, 30, 30)"
   ]
  },
  {
   "cell_type": "code",
   "execution_count": 17,
   "id": "a473f634",
   "metadata": {},
   "outputs": [
    {
     "data": {
      "text/plain": [
       "array([ 1.,  2.,  3.,  4.,  5.,  6.,  7.,  8.,  9., 10., 11., 12., 13.,\n",
       "       14., 15., 16., 17., 18., 19., 20., 21., 22., 23., 24., 25.])"
      ]
     },
     "execution_count": 17,
     "metadata": {},
     "output_type": "execute_result"
    }
   ],
   "source": [
    "matriz\n"
   ]
  },
  {
   "cell_type": "code",
   "execution_count": 62,
   "id": "b7562da7",
   "metadata": {},
   "outputs": [
    {
     "data": {
      "text/plain": [
       "array([[ 1.,  2.,  3.,  4.,  5.],\n",
       "       [ 6.,  7.,  8.,  9., 10.],\n",
       "       [11., 12., 13., 14., 15.],\n",
       "       [16., 17., 18., 19., 20.],\n",
       "       [21., 22., 23., 24., 25.],\n",
       "       [26., 27., 28., 29., 30.]])"
      ]
     },
     "execution_count": 62,
     "metadata": {},
     "output_type": "execute_result"
    }
   ],
   "source": [
    "matrix = matriz.reshape((6, 5))\n",
    "matrix\n"
   ]
  },
  {
   "cell_type": "code",
   "execution_count": 59,
   "id": "7d93564d",
   "metadata": {},
   "outputs": [
    {
     "data": {
      "text/plain": [
       "array([[11., 12.],\n",
       "       [16., 17.]])"
      ]
     },
     "execution_count": 59,
     "metadata": {},
     "output_type": "execute_result"
    }
   ],
   "source": [
    "matriz_azul = matrix[2:4 ,0:2 ]\n",
    "matriz_azul"
   ]
  },
  {
   "cell_type": "code",
   "execution_count": 61,
   "id": "e17bcf74",
   "metadata": {},
   "outputs": [
    {
     "data": {
      "text/plain": [
       "array([[ 4.,  5.],\n",
       "       [24., 25.],\n",
       "       [29., 30.]])"
      ]
     },
     "execution_count": 61,
     "metadata": {},
     "output_type": "execute_result"
    }
   ],
   "source": [
    "matriz_roja = matrix[[0, 4, 5], 3:]\n",
    "matriz_roja"
   ]
  },
  {
   "cell_type": "code",
   "execution_count": 60,
   "id": "e5c9a50d",
   "metadata": {},
   "outputs": [
    {
     "data": {
      "text/plain": [
       "array([ 2.,  8., 14., 20.])"
      ]
     },
     "execution_count": 60,
     "metadata": {},
     "output_type": "execute_result"
    }
   ],
   "source": [
    "matriz_verde = matrix[[0, 1, 2, 3], [1, 2, 3, 4]]\n",
    "matriz_verde"
   ]
  },
  {
   "cell_type": "code",
   "execution_count": null,
   "id": "017d4d3a",
   "metadata": {},
   "outputs": [],
   "source": []
  },
  {
   "cell_type": "code",
   "execution_count": null,
   "id": "8f4cc081",
   "metadata": {},
   "outputs": [],
   "source": []
  }
 ],
 "metadata": {
  "kernelspec": {
   "display_name": "Python 3 (ipykernel)",
   "language": "python",
   "name": "python3"
  },
  "language_info": {
   "codemirror_mode": {
    "name": "ipython",
    "version": 3
   },
   "file_extension": ".py",
   "mimetype": "text/x-python",
   "name": "python",
   "nbconvert_exporter": "python",
   "pygments_lexer": "ipython3",
   "version": "3.10.1"
  }
 },
 "nbformat": 4,
 "nbformat_minor": 5
}
